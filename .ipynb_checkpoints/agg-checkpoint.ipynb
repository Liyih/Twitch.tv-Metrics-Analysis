{
 "cells": [
  {
   "cell_type": "code",
   "execution_count": 34,
   "metadata": {},
   "outputs": [],
   "source": [
    "#Aggregating Downloaded CSV Files for Twitch\n",
    "\n",
    "import pandas as pd\n",
    "\n",
    "#Masterdf holds all data\n",
    "#Df is the dataframe to append\n",
    "#Month is a string to track month\n",
    "def dfprocess(masterdf, df, month):\n",
    "    df = df.drop(df.columns[[0, 1, 13]], axis=1)\n",
    "    df = df.set_index(\"Channel\");\n",
    "    df[\"Month\"] = month;\n",
    "    masterdf = masterdf.append(df);\n",
    "    return masterdf;  \n",
    "\n",
    "dfmaster = pd.read_csv(\"April2020.csv\");\n",
    "\n",
    "dfmaster = dfmaster.drop(dfmaster.columns[[0, 1, 13]], axis=1)\n",
    "dfmaster = dfmaster.set_index(\"Channel\");\n",
    "dfmaster[\"Month\"] = \"4-2020\";\n",
    "\n",
    "csvarray = [\"March2020.csv\", \"February2020.csv\", \"January2020.csv\", \"December2019.csv\", \n",
    "            \"November2019.csv\", \"October2019.csv\", \"September2019.csv\", \"August2019.csv\", \n",
    "            \"July2019.csv\", \"June2019.csv\", \"May2019.csv\", \"April2019.csv\"];\n",
    "montharray = [\"3-2020\", \"2-2020\", \"1-2020\", \"12-2019\", \"11-2019\", \"10-2019\", \"9-2019\", \n",
    "             \"8-2019\", \"7-2019\", \"6-2019\", \"5-2019\", \"4-2019\"]\n",
    "\n",
    "i = 0;\n",
    "\n",
    "for i in range(len(csvarray)):\n",
    "    dftemp = pd.read_csv(csvarray[i])\n",
    "    dfmaster = dfprocess(dfmaster, dftemp, montharray[i])\n",
    "    \n",
    "dfmaster.sort_index(inplace=True);\n",
    "#dfmaster.sort_values(\"Month\");\n",
    "\n",
    "dfmaster.to_csv(\"channeldata.csv\")\n",
    "                         \n",
    "#dfmaster\n",
    "                             "
   ]
  },
  {
   "cell_type": "code",
   "execution_count": null,
   "metadata": {},
   "outputs": [],
   "source": []
  },
  {
   "cell_type": "code",
   "execution_count": null,
   "metadata": {},
   "outputs": [],
   "source": []
  }
 ],
 "metadata": {
  "kernelspec": {
   "display_name": "Python 3",
   "language": "python",
   "name": "python3"
  },
  "language_info": {
   "codemirror_mode": {
    "name": "ipython",
    "version": 3
   },
   "file_extension": ".py",
   "mimetype": "text/x-python",
   "name": "python",
   "nbconvert_exporter": "python",
   "pygments_lexer": "ipython3",
   "version": "3.7.4"
  }
 },
 "nbformat": 4,
 "nbformat_minor": 2
}
