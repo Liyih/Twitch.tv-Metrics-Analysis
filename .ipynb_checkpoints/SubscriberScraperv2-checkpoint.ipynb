{
 "cells": [
  {
   "cell_type": "code",
   "execution_count": 3,
   "metadata": {},
   "outputs": [
    {
     "name": "stdout",
     "output_type": "stream",
     "text": [
      "Hi\n"
     ]
    },
    {
     "data": {
      "text/plain": [
       "array(['AdmiralBahroo', 'AdmiralBulldog', 'Castro_1021', 'CohhCarnage',\n",
       "       'DrDisrespect', 'DrLupo', 'ESL_CSGO', 'Fextralife', 'Fresh',\n",
       "       'GRONKH', 'Gorgc', 'Gotaga', 'LCK_Korea', 'LIRIK', 'Lord_Kebun',\n",
       "       'MOONMOON', 'Maximilian_DOOD', 'MontanaBlack88', 'NICKMERCS',\n",
       "       'NoWay4u_Sir', 'OgamingLoL', 'Solary', 'SolaryFortnite',\n",
       "       'Stray228', 'TFBlade', 'Tfue', 'TimTheTatman', 'Trainwreckstv',\n",
       "       'Trymacs', 'Vader', 'Yassuo', 'YoDa', 'alanzoka', 'dakotaz',\n",
       "       'dasMEHDI', 'forsen', 'gaules', 'lestream', 'loltyler1',\n",
       "       'nl_Kripp', 'sodapoppin', 'summit1g', 'xQcOW', 'ybicanoooobov',\n",
       "       '서새봄냥 (saddummy)', '풍월량 (hanryang1125)'], dtype=object)"
      ]
     },
     "execution_count": 3,
     "metadata": {},
     "output_type": "execute_result"
    }
   ],
   "source": [
    "#Testing scraper for Twitchtracker\n",
    "import urllib.request as urllib\n",
    "from urllib.request import Request, urlopen\n",
    "from bs4 import BeautifulSoup\n",
    "import time\n",
    "\n",
    "import pandas as pd\n",
    "\n",
    "#bypass 403 forbidden against web crawlers\n",
    "\n",
    "#TODO:\n",
    "#Write a loop that will iterate through all our data columns and pull the subscribers for those rows \n",
    "\n",
    "ag_df = pd.read_csv(\"TotalChannelData.csv\")\n",
    "\n",
    "channels = ag_df[\"Channel\"].unique()\n",
    "sub_df = pd.DataFrame()\n",
    "\n",
    "channels\n",
    "\n",
    "# for channel in channels:\n",
    "#     time.sleep(1000)\n",
    "#     url = \"https://twitchtracker.com/\" + channel + \"/subscribers\"\n",
    "\n",
    "#     req = Request(url, headers={'User-Agent': 'Mozilla/5.0'})\n",
    "#     html = urlopen(req).read()\n",
    "\n",
    "#     soup = BeautifulSoup(html)\n",
    "\n",
    "#     table = soup.find(id=\"subscribers\");\n",
    "#     if table is not None:\n",
    "#         rows = table.find_all(\"tr\");\n",
    "#         print(\"Processing: \" + channel)\n",
    "#         for row in rows:\n",
    "#             data = row.find_all(\"td\");\n",
    "#             #Knowing the structure of the table, process all valid rows in standard order\n",
    "#             #Append each processed data item to our dataframe\n",
    "#             if len(data) != 0:\n",
    "#                 month = data[0].get_text().strip()\n",
    "#                 total = data[1].get_text().strip()\n",
    "#                 prime = data[2].get_text().strip()\n",
    "#                 Tier1 = data[3].get_text().strip()\n",
    "#                 Tier2 = data[4].get_text().strip()\n",
    "#                 Tier3 = data[5].get_text().strip()\n",
    "#                 Unshared = data[6].get_text().strip()\n",
    "#                 #Gifted = data[7].get_text().strip()\n",
    "#                 # Income calculate the total dollar amounts based on the subscriber payments of the Tiers \n",
    "#                 Income = (int(Tier1)*4.99) + (int(Tier2)*9.99) + (int(Tier3)*24.99)\n",
    "\n",
    "#                 data_dict = {\"Channel\": channel, \"Month\" : month, \"Total\": total, \n",
    "#                              \"Prime\": prime, \"Tier 1\": Tier1, \"Tier 2\": Tier2, \"Tier 3\": Tier3, \n",
    "#                              \"Unshared\": Unshared, \"Gifted\": Gifted, \"Total Income\": '${:,.2f}'.format(Income)}\n",
    "#                 sub_df = sub_df.append(data_dict, ignore_index=True)\n",
    "#     print(sub_df.to_string())\n",
    "\n",
    "#Write our data and display the data\n",
    "#df.to_csv(\"channelsubdata.csv\")\n",
    "#sub_df\n",
    "\n"
   ]
  },
  {
   "cell_type": "code",
   "execution_count": null,
   "metadata": {},
   "outputs": [],
   "source": []
  }
 ],
 "metadata": {
  "kernelspec": {
   "display_name": "Python 3",
   "language": "python",
   "name": "python3"
  },
  "language_info": {
   "codemirror_mode": {
    "name": "ipython",
    "version": 3
   },
   "file_extension": ".py",
   "mimetype": "text/x-python",
   "name": "python",
   "nbconvert_exporter": "python",
   "pygments_lexer": "ipython3",
   "version": "3.7.6"
  }
 },
 "nbformat": 4,
 "nbformat_minor": 4
}
