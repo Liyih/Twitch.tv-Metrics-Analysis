{
 "cells": [
  {
   "cell_type": "markdown",
   "metadata": {},
   "source": [
    "<center> <h2> DS 3000 - Summer 2020</h2> </center>\n",
    "<center> <h3> DS Report </h3> </center>\n"
   ]
  },
  {
   "cell_type": "markdown",
   "metadata": {},
   "source": [
    "<center> <h3> Analysis and Prediction of Twitch Channel Growth</h3> </center>\n",
    "<center><h4>Carrine Shrestha, Yihang Li</h4></center>\n"
   ]
  },
  {
   "cell_type": "markdown",
   "metadata": {},
   "source": [
    "  "
   ]
  },
  {
   "cell_type": "markdown",
   "metadata": {},
   "source": [
    "<hr style=\"height:2px; border:none; color:black; background-color:black;\">"
   ]
  },
  {
   "cell_type": "markdown",
   "metadata": {},
   "source": [
    "#### Executive Summary:\n",
    "\n",
    "In the current world, streaming has become a popular form of entertainment and as with any source of entertainment, there are entertainment providers. Many entertainment providers look at the service as a job and expect a source of revenue. We analyzed the use of the streaming service, Twitch, and the predictability of income growth among top streamers. Income was measured based on revenue gained through subscriptions. \n",
    "We scraped data from TwitchTracker to gain information on subscriptions of channels and exported data off of SullyGnome to gain insight on features to use as analysis. We hypothesized that followers gained would be the most influential feature in predicting income growth. We were able to gain insight on our data through the use of scatterplots, histograms, and violin plots. Machine learning algorithms for regression were applied to the dataset. However, our findings were shown as being insignificant through ANOVA analysis. "
   ]
  },
  {
   "cell_type": "markdown",
   "metadata": {},
   "source": [
    "<hr style=\"height:2px; border:none; color:black; background-color:black;\">"
   ]
  },
  {
   "cell_type": "markdown",
   "metadata": {},
   "source": [
    "## Outline\n",
    "1. <a href='#1'>INTRODUCTION</a>\n",
    "2. <a href='#2'>METHOD</a>\n",
    "3. <a href='#3'>RESULTS</a>\n",
    "4. <a href='#4'>DISCUSSION</a>"
   ]
  },
  {
   "cell_type": "markdown",
   "metadata": {},
   "source": [
    "<a id=\"1\"></a>\n",
    "<hr style=\"height:2px; border:none; color:black; background-color:black;\">"
   ]
  },
  {
   "cell_type": "markdown",
   "metadata": {},
   "source": [
    "## 1. INTRODUCTION"
   ]
  },
  {
   "cell_type": "markdown",
   "metadata": {},
   "source": [
    "**Problem Statement**\n",
    "\n",
    "With the growth of live streaming as an entertainment platform, coronavirus has presented a strong opportunity for online streaming platforms to expand and grow. We want to track this growth and how growth is displayed among the creators in Twitch. Understanding Twitch’s growth and live streaming as a career field is important to those looking into streaming as a viable at-home, virtual job, and predicting measures of growth and success. We will create an expected projection of Twitch channels over the next year on a monthly basis of viewership and other metrics, which will be used in parallel with subscriber data to project expected income growth. We also want to gain insight into the jump in viewership due to coronavirus and better understand the rise of the streaming industry. \n",
    "\n",
    "**Significance of the Problem**\n",
    "\n",
    "Live streaming is an industry that is quickly growing in the technology space. Following Twitch’s initial success in the early 2010s, Youtube (via Youtube Live), Facebook (Facebook/Instagram Live) and other major platforms have followed up by creating their own streaming platforms for content creators. Insights into Twitch’s growth potential can quantify the growth of live streaming and their platforms as a brand new career field with opportunities for people to look into. Tracking the projected growth of a fast-moving industry in live streaming can be really useful for choosing a job as a software or data engineer, as joining one of these companies can be particularly lucrative. Alternatively, should investment opportunities present themselves in the future, having an understanding of YoY growth and metric-backed expectations can lead to potentially rewarding investments. Finally, if someone were to come across the expected growth and data and were interested in becoming a livestreamer themselves, they could use the projected data to measure their own metrics and success.\n",
    "\n",
    "**Previous Work on the Topic**\n",
    "\n",
    "Most of the analysis done around Twitch.tv’s data is in regards to the platform as a whole. Students from WPI found relationships between the demographics and the viewership behavior in relation to the types and formats of the content being delivered (Farrington and Muesch). Other breakdowns look at aggregate metrics for Twitch, such as the numbers of broadcasters and peak viewership in order to generate a tentative estimate of Twitch’s revenue (Iqbal). Even recommendations for marketing managers and potential influencers are presented with aggregate data metrics (Influencer Marketing Hub). Given the background of Twitch as a relatively new platform, we were unable to find any analysis on specific channels or the application of machine learning methods to predict singular channel growth. Identifying this gap and realizing its potential, we set out to create models that would allow us to explore Twitch through the lens of singular channels and learn from applying ML methods to real data.\n",
    "\n",
    "**Questions/Hypotheses**\n",
    "* **Research Questions**\n",
    "    * Which features are most important in predicting the expected future income growth of Twitch channels?\n",
    "    * What is the ideal number of features to include in analysis when predicting income growth of Twitch channels?\n",
    "    * Which supervised machine learning algorithm will produce the highest accuracy for our test dataset?\n",
    "\n",
    "* **Hypotheses 1**\n",
    "    * Hypotheses: Followers gained is the most influential feature in predicting income growth. \n",
    "    * Null: Followers gained has is not the most influential feature in predicting income growth. \n",
    "\n",
    "* **Hypotheses 2**\n",
    "    * Hypotheses: Stream time has a positive relationship with income growth. \n",
    "    * Null: Stream time has no relationship with income growth. \n",
    "\n",
    "\n",
    "* **Hypotheses 3**\n",
    "    * Hypotheses: A significant relationship exists between view gained and income growth. \n",
    "    * Null: No relationship exists between views gained and income growth.\n",
    "\n",
    "\n",
    "**References**\n",
    "\n",
    "Iqbal, Mansoor. “Twitch Revenue and Usage Statistics (2020).” Business of Apps, Sokomedia, 24 Apr. 2020, www.businessofapps.com/data/twitch-statistics/\n",
    "\n",
    "“25 Useful Twitch Stats for Influencer Marketing Managers [Infographic].” Influencer Marketing Hub, 10 June 2020, influencermarketinghub.com/twitch-stats/\n",
    "\n",
    "Bellanger, Caroline. “New Study from Upfluence Finds COVID-19 Lockdown Restrictions Resulted in a 24% Viewership Increase on Live-Streaming Platform Twitch.” Upfluence, Upfluence, 3 Apr. 2020, www.upfluence.com/press-release/new-study-from-upfluence-finds-covid-19-lockdown-restrictions-resulted-in-a-24-viewership-increase-on-live-streaming-platform-twitch\n",
    "\n",
    "Farrington, Daniel Jeffrey, and Muesch, Nicholas Matthew. “Analysis of the Characteristics and Content of Twitch Live-Streaming.” Digital WPI, Worcester Polytechnic Institute, Mar. 2015, digitalcommons.wpi.edu/iqp-all/3376/\n"
   ]
  },
  {
   "cell_type": "markdown",
   "metadata": {},
   "source": [
    "<a id=\"2\"></a>\n",
    "<hr style=\"height:2px; border:none; color:black; background-color:black;\">"
   ]
  },
  {
   "cell_type": "markdown",
   "metadata": {},
   "source": [
    "## 2. METHOD"
   ]
  },
  {
   "cell_type": "markdown",
   "metadata": {},
   "source": [
    "### 2.1. Data Acquisition\n",
    "\n",
    "We sourced the data we are using ourselves through web-scraping two websites, TwitchTracker and SullyGnome, where both sites track and record channel metrics from Twitch.\n",
    "\n",
    "From **SullyGnome**, we were able to obtain data of the 100 most popular Twitch streamers per month. The data included information such as watch time, stream time, peak viewers, etc. and we sourced data for 13 months, ranging from April 2019 to April 2020. We obtained a total number of 11 variables from the dataset.\n",
    "\n",
    "We took subscriber data from **TwitchTracker** and used it to generate the channel’s income data, then appended the income data to a cleaned aggregate dataset from SullyGnome. This variable is the outcome variable. \n",
    "\n",
    "Twitch: https://twitchtracker.com/subscribers\n",
    "SullyGnome: https://sullygnome.com "
   ]
  },
  {
   "cell_type": "markdown",
   "metadata": {},
   "source": [
    "### 2.2. Variables\n",
    "\n",
    "**Feature Variables:**\n",
    "* Watch time\n",
    "* Stream Time\n",
    "* Peak Viewers\n",
    "* Average Viewers\n",
    "* Followers\n",
    "* Followers Gained\n",
    "* Views Gained\n",
    "* Partnered\n",
    "* Mature\n",
    "* Language\n",
    "\n",
    "**Target Variable:**\n",
    "* Income Growth\n",
    "\n",
    "For our analysis purposes, we used the feature variables as independent variables and the target variable as the dependent variable for all our hypotheses. \n",
    "\n"
   ]
  },
  {
   "cell_type": "markdown",
   "metadata": {},
   "source": [
    "### 2.3. Data Analysis\n",
    "**Feature Extraction:** We will use Iterative Feature Selection to gain an understanding of which variables are important and the order of importance of the variables. This will allow us to gain more insight into our data. For analysis, we will use Model-Based Feature Selection to judge which features are most important for use in our model. \n",
    "\n",
    "**Machine Learning Techniques:** We will be applying supervised machine learning algorithms to analyze the data. As our target variable of future income is a continuous variable, we plan on using regression analysis on our feature variables. We will be applying Multiple Linear Regression, Lasso, Ridge, KNNRegressor and SVM machine learning algorithms to our data to analyze for best results as they are all used to tune regression models. We expect Lasso to perform the best as our data contains many features, but we expect only a few of them to be impactful to the target variable. "
   ]
  },
  {
   "cell_type": "markdown",
   "metadata": {},
   "source": [
    "<a id=\"3\"></a>\n",
    "<hr style=\"height:2px; border:none; color:black; background-color:black;\">"
   ]
  },
  {
   "cell_type": "markdown",
   "metadata": {},
   "source": [
    "## 3. RESULTS"
   ]
  },
  {
   "cell_type": "markdown",
   "metadata": {},
   "source": [
    "### 3.1. Data Wrangling\n",
    "\n",
    "\n",
    "**Simple Data Cleaning:**\n",
    "\n",
    "For the data obtained from SullyGnome, we merged all of the files from each month together. In order to be able to sufficiently train our machine for each user, we decided that we need to obtain at least 10 data points per channel so we omitted all users who did not appear in the dataset at least 10 times. Next, we adjusted the channel names as, in some instances, the foreign name and the English name of the channel would appear in the data. We cleaned it so that only the English name appeared, which would then be used by the subscriber scraper. \n",
    "\n",
    "For the subscriber scraper, we scraped data from the Twitch site for each user. The scraping takes about 2-3 hours. From that information, we calculated the current subscriber based income of the users by performing basic multiplication based on the subscriber count per tier. \n",
    "\n",
    "The final dataset will merge the total income variable from the Twitch data and the data from SullyGnome. The variables will merge together on the accounts of channel name and data. \n"
   ]
  },
  {
   "cell_type": "code",
   "execution_count": 102,
   "metadata": {},
   "outputs": [],
   "source": [
    "import pandas as pd\n",
    "import numpy as np\n",
    "\n",
    "allchannels = pd.read_csv(\"generated_data/TotalChannelData.csv\")\n",
    "allchannels.set_index(\"Channel\", inplace=True)\n",
    "\n",
    "subdata = pd.read_csv(\"generated_data/SubData.csv\")\n",
    "subdata.set_index(\"Channel\", inplace=True)\n",
    "\n",
    "finaldata = pd.merge(allchannels, subdata, how='left', on=['Channel', 'Month'])\n",
    "finaldata.drop(['Unnamed: 0', \"Prime\", \"Tier 1\", \"Tier 2\", \"Tier 3\", \"Total\", \"Unshared\"], axis =1, inplace=True)\n",
    "\n",
    "#removing all rows where total income is not provided, meaning subscriber data was not scraped \n",
    "#this means the rows being removed are all channels that have less than 10 datapoints\n",
    "finaldata = finaldata[finaldata['Total Income'].notna()]\n",
    "\n",
    "#removing dollar formatting from total income \n",
    "finaldata['Total Income'] = finaldata['Total Income'].str.replace(',', '').str.replace('$', '').astype(float)"
   ]
  },
  {
   "cell_type": "code",
   "execution_count": 103,
   "metadata": {},
   "outputs": [],
   "source": [
    "#check if there are any partnered channels that are \"False\"\n",
    "def check_continuous_variables(df, col):\n",
    "    false_count = 0\n",
    "    for i in range(len(finaldata.loc[:,col])):\n",
    "        if finaldata.loc[:,col][i] == False:\n",
    "            false_count +=1 \n",
    "        else:\n",
    "            continue\n",
    "    print(\"There are\", false_count, \"false values for\", col)\n",
    "    if false_count == 0:\n",
    "        finaldata.drop([col], axis = 1, inplace=True)\n",
    "    return finaldata"
   ]
  },
  {
   "cell_type": "code",
   "execution_count": 104,
   "metadata": {},
   "outputs": [
    {
     "name": "stdout",
     "output_type": "stream",
     "text": [
      "There are 0 false values for Partnered\n"
     ]
    }
   ],
   "source": [
    "finaldata = check_continuous_variables(finaldata, \"Partnered\")"
   ]
  },
  {
   "cell_type": "code",
   "execution_count": 105,
   "metadata": {},
   "outputs": [
    {
     "name": "stdout",
     "output_type": "stream",
     "text": [
      "There are 377 false values for Mature\n"
     ]
    }
   ],
   "source": [
    "finaldata = check_continuous_variables(finaldata, \"Mature\")"
   ]
  },
  {
   "cell_type": "markdown",
   "metadata": {},
   "source": [
    "Within the final dataset, we needed to calculate income growth. To analyze income growth, we needed to get the total income of the first month of data and subtract it from the next month of data. That was done per channel for the duration of the time period of data we had and merged back together with the main dataset. "
   ]
  },
  {
   "cell_type": "code",
   "execution_count": 106,
   "metadata": {},
   "outputs": [
    {
     "data": {
      "text/html": [
       "<div>\n",
       "<style scoped>\n",
       "    .dataframe tbody tr th:only-of-type {\n",
       "        vertical-align: middle;\n",
       "    }\n",
       "\n",
       "    .dataframe tbody tr th {\n",
       "        vertical-align: top;\n",
       "    }\n",
       "\n",
       "    .dataframe thead th {\n",
       "        text-align: right;\n",
       "    }\n",
       "</style>\n",
       "<table border=\"1\" class=\"dataframe\">\n",
       "  <thead>\n",
       "    <tr style=\"text-align: right;\">\n",
       "      <th></th>\n",
       "      <th>Watch time</th>\n",
       "      <th>Stream time</th>\n",
       "      <th>Peak viewers</th>\n",
       "      <th>Average viewers</th>\n",
       "      <th>Followers</th>\n",
       "      <th>Followers gained</th>\n",
       "      <th>Views gained</th>\n",
       "      <th>Mature</th>\n",
       "      <th>Language</th>\n",
       "      <th>Month</th>\n",
       "      <th>Income Change</th>\n",
       "    </tr>\n",
       "    <tr>\n",
       "      <th>Channel</th>\n",
       "      <th></th>\n",
       "      <th></th>\n",
       "      <th></th>\n",
       "      <th></th>\n",
       "      <th></th>\n",
       "      <th></th>\n",
       "      <th></th>\n",
       "      <th></th>\n",
       "      <th></th>\n",
       "      <th></th>\n",
       "      <th></th>\n",
       "    </tr>\n",
       "  </thead>\n",
       "  <tbody>\n",
       "    <tr>\n",
       "      <th>AdmiralBahroo</th>\n",
       "      <td>110374845</td>\n",
       "      <td>13920</td>\n",
       "      <td>14616</td>\n",
       "      <td>7928</td>\n",
       "      <td>770090</td>\n",
       "      <td>9819</td>\n",
       "      <td>1423087</td>\n",
       "      <td>False</td>\n",
       "      <td>English</td>\n",
       "      <td>2019-01-01</td>\n",
       "      <td>-36295.11</td>\n",
       "    </tr>\n",
       "    <tr>\n",
       "      <th>AdmiralBahroo</th>\n",
       "      <td>84227100</td>\n",
       "      <td>11910</td>\n",
       "      <td>12756</td>\n",
       "      <td>7071</td>\n",
       "      <td>770090</td>\n",
       "      <td>8651</td>\n",
       "      <td>1229356</td>\n",
       "      <td>False</td>\n",
       "      <td>English</td>\n",
       "      <td>2019-02-01</td>\n",
       "      <td>-7912.10</td>\n",
       "    </tr>\n",
       "    <tr>\n",
       "      <th>AdmiralBahroo</th>\n",
       "      <td>110024835</td>\n",
       "      <td>15015</td>\n",
       "      <td>29431</td>\n",
       "      <td>7327</td>\n",
       "      <td>770090</td>\n",
       "      <td>14489</td>\n",
       "      <td>1376799</td>\n",
       "      <td>False</td>\n",
       "      <td>English</td>\n",
       "      <td>2019-03-01</td>\n",
       "      <td>-21266.30</td>\n",
       "    </tr>\n",
       "    <tr>\n",
       "      <th>AdmiralBahroo</th>\n",
       "      <td>74971200</td>\n",
       "      <td>9870</td>\n",
       "      <td>15925</td>\n",
       "      <td>7595</td>\n",
       "      <td>767646</td>\n",
       "      <td>11515</td>\n",
       "      <td>1045862</td>\n",
       "      <td>False</td>\n",
       "      <td>English</td>\n",
       "      <td>2019-04-01</td>\n",
       "      <td>-57068.87</td>\n",
       "    </tr>\n",
       "    <tr>\n",
       "      <th>AdmiralBahroo</th>\n",
       "      <td>75818505</td>\n",
       "      <td>10530</td>\n",
       "      <td>54643</td>\n",
       "      <td>7199</td>\n",
       "      <td>767646</td>\n",
       "      <td>15848</td>\n",
       "      <td>1157761</td>\n",
       "      <td>False</td>\n",
       "      <td>English</td>\n",
       "      <td>2019-05-01</td>\n",
       "      <td>-24214.50</td>\n",
       "    </tr>\n",
       "  </tbody>\n",
       "</table>\n",
       "</div>"
      ],
      "text/plain": [
       "               Watch time  Stream time  Peak viewers  Average viewers  \\\n",
       "Channel                                                                 \n",
       "AdmiralBahroo   110374845        13920         14616             7928   \n",
       "AdmiralBahroo    84227100        11910         12756             7071   \n",
       "AdmiralBahroo   110024835        15015         29431             7327   \n",
       "AdmiralBahroo    74971200         9870         15925             7595   \n",
       "AdmiralBahroo    75818505        10530         54643             7199   \n",
       "\n",
       "               Followers  Followers gained  Views gained  Mature Language  \\\n",
       "Channel                                                                     \n",
       "AdmiralBahroo     770090              9819       1423087   False  English   \n",
       "AdmiralBahroo     770090              8651       1229356   False  English   \n",
       "AdmiralBahroo     770090             14489       1376799   False  English   \n",
       "AdmiralBahroo     767646             11515       1045862   False  English   \n",
       "AdmiralBahroo     767646             15848       1157761   False  English   \n",
       "\n",
       "                    Month  Income Change  \n",
       "Channel                                   \n",
       "AdmiralBahroo  2019-01-01      -36295.11  \n",
       "AdmiralBahroo  2019-02-01       -7912.10  \n",
       "AdmiralBahroo  2019-03-01      -21266.30  \n",
       "AdmiralBahroo  2019-04-01      -57068.87  \n",
       "AdmiralBahroo  2019-05-01      -24214.50  "
      ]
     },
     "execution_count": 106,
     "metadata": {},
     "output_type": "execute_result"
    }
   ],
   "source": [
    "finaldata = finaldata.sort_values(by=[\"Channel\", \"Month\"], ascending=True)\n",
    "\n",
    "channels = finaldata.index.unique()\n",
    "i = 0 \n",
    "IncomeChange_list = []\n",
    "for channel in channels:\n",
    "    channeldata = finaldata[finaldata.index == channel]\n",
    "    prev = 0\n",
    "    for index, row in channeldata.iterrows():\n",
    "        if(prev != 0):\n",
    "            row[\"Income Change\"] = row[\"Total Income\"] - prev\n",
    "            IncomeChange_list.append([channel, row[\"Income Change\"], row[\"Month\"]])\n",
    "        else:\n",
    "            prev = row[\"Total Income\"]\n",
    "            IncomeChange_list.append([channel, np.nan , row[\"Month\"]])\n",
    "\n",
    "IncomeChange = pd.DataFrame(IncomeChange_list, columns = [\"Channel\", \"Income Change\", \"Month\"])\n",
    "IncomeChange = IncomeChange.set_index(\"Channel\")\n",
    "\n",
    "\n",
    "finaldata = pd.merge(finaldata, IncomeChange, on = [\"Channel\", \"Month\"])\n",
    "            \n",
    "finaldata = finaldata[finaldata['Income Change'].notna()]\n",
    "\n",
    "finaldata.drop(columns=[\"Total Income\"], axis = 1, inplace = True)\n",
    "\n",
    "finaldata.head()"
   ]
  },
  {
   "cell_type": "markdown",
   "metadata": {},
   "source": [
    "#### Identifying feature and target variables"
   ]
  },
  {
   "cell_type": "code",
   "execution_count": 107,
   "metadata": {},
   "outputs": [],
   "source": [
    "#function returns features and target variables \n",
    "def features_target(df, target_var):\n",
    "    features = df.drop(target_var, axis = 1)\n",
    "    features = features.reset_index() #index is reset to merge with encoded features \n",
    "    target = df[target_var]\n",
    "   \n",
    "    return features, target\n"
   ]
  },
  {
   "cell_type": "code",
   "execution_count": 108,
   "metadata": {},
   "outputs": [],
   "source": [
    "features, target = features_target(finaldata, \"Income Change\")"
   ]
  },
  {
   "cell_type": "code",
   "execution_count": 109,
   "metadata": {},
   "outputs": [
    {
     "data": {
      "text/html": [
       "<div>\n",
       "<style scoped>\n",
       "    .dataframe tbody tr th:only-of-type {\n",
       "        vertical-align: middle;\n",
       "    }\n",
       "\n",
       "    .dataframe tbody tr th {\n",
       "        vertical-align: top;\n",
       "    }\n",
       "\n",
       "    .dataframe thead th {\n",
       "        text-align: right;\n",
       "    }\n",
       "</style>\n",
       "<table border=\"1\" class=\"dataframe\">\n",
       "  <thead>\n",
       "    <tr style=\"text-align: right;\">\n",
       "      <th></th>\n",
       "      <th>Channel</th>\n",
       "      <th>Watch time</th>\n",
       "      <th>Stream time</th>\n",
       "      <th>Peak viewers</th>\n",
       "      <th>Average viewers</th>\n",
       "      <th>Followers</th>\n",
       "      <th>Followers gained</th>\n",
       "      <th>Views gained</th>\n",
       "      <th>Mature</th>\n",
       "      <th>Language</th>\n",
       "      <th>Month</th>\n",
       "    </tr>\n",
       "  </thead>\n",
       "  <tbody>\n",
       "    <tr>\n",
       "      <th>0</th>\n",
       "      <td>AdmiralBahroo</td>\n",
       "      <td>110374845</td>\n",
       "      <td>13920</td>\n",
       "      <td>14616</td>\n",
       "      <td>7928</td>\n",
       "      <td>770090</td>\n",
       "      <td>9819</td>\n",
       "      <td>1423087</td>\n",
       "      <td>False</td>\n",
       "      <td>English</td>\n",
       "      <td>2019-01-01</td>\n",
       "    </tr>\n",
       "    <tr>\n",
       "      <th>1</th>\n",
       "      <td>AdmiralBahroo</td>\n",
       "      <td>84227100</td>\n",
       "      <td>11910</td>\n",
       "      <td>12756</td>\n",
       "      <td>7071</td>\n",
       "      <td>770090</td>\n",
       "      <td>8651</td>\n",
       "      <td>1229356</td>\n",
       "      <td>False</td>\n",
       "      <td>English</td>\n",
       "      <td>2019-02-01</td>\n",
       "    </tr>\n",
       "    <tr>\n",
       "      <th>2</th>\n",
       "      <td>AdmiralBahroo</td>\n",
       "      <td>110024835</td>\n",
       "      <td>15015</td>\n",
       "      <td>29431</td>\n",
       "      <td>7327</td>\n",
       "      <td>770090</td>\n",
       "      <td>14489</td>\n",
       "      <td>1376799</td>\n",
       "      <td>False</td>\n",
       "      <td>English</td>\n",
       "      <td>2019-03-01</td>\n",
       "    </tr>\n",
       "    <tr>\n",
       "      <th>3</th>\n",
       "      <td>AdmiralBahroo</td>\n",
       "      <td>74971200</td>\n",
       "      <td>9870</td>\n",
       "      <td>15925</td>\n",
       "      <td>7595</td>\n",
       "      <td>767646</td>\n",
       "      <td>11515</td>\n",
       "      <td>1045862</td>\n",
       "      <td>False</td>\n",
       "      <td>English</td>\n",
       "      <td>2019-04-01</td>\n",
       "    </tr>\n",
       "    <tr>\n",
       "      <th>4</th>\n",
       "      <td>AdmiralBahroo</td>\n",
       "      <td>75818505</td>\n",
       "      <td>10530</td>\n",
       "      <td>54643</td>\n",
       "      <td>7199</td>\n",
       "      <td>767646</td>\n",
       "      <td>15848</td>\n",
       "      <td>1157761</td>\n",
       "      <td>False</td>\n",
       "      <td>English</td>\n",
       "      <td>2019-05-01</td>\n",
       "    </tr>\n",
       "  </tbody>\n",
       "</table>\n",
       "</div>"
      ],
      "text/plain": [
       "         Channel  Watch time  Stream time  Peak viewers  Average viewers  \\\n",
       "0  AdmiralBahroo   110374845        13920         14616             7928   \n",
       "1  AdmiralBahroo    84227100        11910         12756             7071   \n",
       "2  AdmiralBahroo   110024835        15015         29431             7327   \n",
       "3  AdmiralBahroo    74971200         9870         15925             7595   \n",
       "4  AdmiralBahroo    75818505        10530         54643             7199   \n",
       "\n",
       "   Followers  Followers gained  Views gained  Mature Language       Month  \n",
       "0     770090              9819       1423087   False  English  2019-01-01  \n",
       "1     770090              8651       1229356   False  English  2019-02-01  \n",
       "2     770090             14489       1376799   False  English  2019-03-01  \n",
       "3     767646             11515       1045862   False  English  2019-04-01  \n",
       "4     767646             15848       1157761   False  English  2019-05-01  "
      ]
     },
     "execution_count": 109,
     "metadata": {},
     "output_type": "execute_result"
    }
   ],
   "source": [
    "features.head()"
   ]
  },
  {
   "cell_type": "code",
   "execution_count": 110,
   "metadata": {},
   "outputs": [
    {
     "data": {
      "text/plain": [
       "Channel\n",
       "AdmiralBahroo   -36295.11\n",
       "AdmiralBahroo    -7912.10\n",
       "AdmiralBahroo   -21266.30\n",
       "AdmiralBahroo   -57068.87\n",
       "AdmiralBahroo   -24214.50\n",
       "Name: Income Change, dtype: float64"
      ]
     },
     "execution_count": 110,
     "metadata": {},
     "output_type": "execute_result"
    }
   ],
   "source": [
    "target.head()"
   ]
  },
  {
   "cell_type": "markdown",
   "metadata": {},
   "source": [
    "#### Encoding continuous feature variables "
   ]
  },
  {
   "cell_type": "code",
   "execution_count": 111,
   "metadata": {},
   "outputs": [],
   "source": [
    "from sklearn.preprocessing import OneHotEncoder\n",
    "\n",
    "#one-hot encoding for \"Mature\" and \"Language\" Variables \n",
    "encode_features = features.iloc[:, 8:10]\n",
    "\n",
    "encoder = OneHotEncoder(sparse = False)\n",
    "encoded_df = encoder.fit_transform(encode_features)\n",
    "\n",
    "features_df = pd.DataFrame(encoded_df, columns = encoder.get_feature_names())\n",
    "\n",
    "#merging both features datasets together \n",
    "features = features_df.merge(features, left_index = True, right_index = True)\n",
    "features.drop([\"Mature\", \"Language\"], axis = 1, inplace=True)\n",
    "\n",
    "#removing channel and month as a variables as they work as identifiers \n",
    "features.reset_index()\n",
    "features.drop([\"Channel\", \"Month\"], axis = 1, inplace=True)"
   ]
  },
  {
   "cell_type": "code",
   "execution_count": 112,
   "metadata": {},
   "outputs": [
    {
     "data": {
      "text/html": [
       "<div>\n",
       "<style scoped>\n",
       "    .dataframe tbody tr th:only-of-type {\n",
       "        vertical-align: middle;\n",
       "    }\n",
       "\n",
       "    .dataframe tbody tr th {\n",
       "        vertical-align: top;\n",
       "    }\n",
       "\n",
       "    .dataframe thead th {\n",
       "        text-align: right;\n",
       "    }\n",
       "</style>\n",
       "<table border=\"1\" class=\"dataframe\">\n",
       "  <thead>\n",
       "    <tr style=\"text-align: right;\">\n",
       "      <th></th>\n",
       "      <th>x0_False</th>\n",
       "      <th>x0_True</th>\n",
       "      <th>x1_English</th>\n",
       "      <th>x1_French</th>\n",
       "      <th>x1_German</th>\n",
       "      <th>x1_Korean</th>\n",
       "      <th>x1_Portuguese</th>\n",
       "      <th>Watch time</th>\n",
       "      <th>Stream time</th>\n",
       "      <th>Peak viewers</th>\n",
       "      <th>Average viewers</th>\n",
       "      <th>Followers</th>\n",
       "      <th>Followers gained</th>\n",
       "      <th>Views gained</th>\n",
       "    </tr>\n",
       "  </thead>\n",
       "  <tbody>\n",
       "    <tr>\n",
       "      <th>0</th>\n",
       "      <td>1.0</td>\n",
       "      <td>0.0</td>\n",
       "      <td>1.0</td>\n",
       "      <td>0.0</td>\n",
       "      <td>0.0</td>\n",
       "      <td>0.0</td>\n",
       "      <td>0.0</td>\n",
       "      <td>110374845</td>\n",
       "      <td>13920</td>\n",
       "      <td>14616</td>\n",
       "      <td>7928</td>\n",
       "      <td>770090</td>\n",
       "      <td>9819</td>\n",
       "      <td>1423087</td>\n",
       "    </tr>\n",
       "    <tr>\n",
       "      <th>1</th>\n",
       "      <td>1.0</td>\n",
       "      <td>0.0</td>\n",
       "      <td>1.0</td>\n",
       "      <td>0.0</td>\n",
       "      <td>0.0</td>\n",
       "      <td>0.0</td>\n",
       "      <td>0.0</td>\n",
       "      <td>84227100</td>\n",
       "      <td>11910</td>\n",
       "      <td>12756</td>\n",
       "      <td>7071</td>\n",
       "      <td>770090</td>\n",
       "      <td>8651</td>\n",
       "      <td>1229356</td>\n",
       "    </tr>\n",
       "    <tr>\n",
       "      <th>2</th>\n",
       "      <td>1.0</td>\n",
       "      <td>0.0</td>\n",
       "      <td>1.0</td>\n",
       "      <td>0.0</td>\n",
       "      <td>0.0</td>\n",
       "      <td>0.0</td>\n",
       "      <td>0.0</td>\n",
       "      <td>110024835</td>\n",
       "      <td>15015</td>\n",
       "      <td>29431</td>\n",
       "      <td>7327</td>\n",
       "      <td>770090</td>\n",
       "      <td>14489</td>\n",
       "      <td>1376799</td>\n",
       "    </tr>\n",
       "    <tr>\n",
       "      <th>3</th>\n",
       "      <td>1.0</td>\n",
       "      <td>0.0</td>\n",
       "      <td>1.0</td>\n",
       "      <td>0.0</td>\n",
       "      <td>0.0</td>\n",
       "      <td>0.0</td>\n",
       "      <td>0.0</td>\n",
       "      <td>74971200</td>\n",
       "      <td>9870</td>\n",
       "      <td>15925</td>\n",
       "      <td>7595</td>\n",
       "      <td>767646</td>\n",
       "      <td>11515</td>\n",
       "      <td>1045862</td>\n",
       "    </tr>\n",
       "    <tr>\n",
       "      <th>4</th>\n",
       "      <td>1.0</td>\n",
       "      <td>0.0</td>\n",
       "      <td>1.0</td>\n",
       "      <td>0.0</td>\n",
       "      <td>0.0</td>\n",
       "      <td>0.0</td>\n",
       "      <td>0.0</td>\n",
       "      <td>75818505</td>\n",
       "      <td>10530</td>\n",
       "      <td>54643</td>\n",
       "      <td>7199</td>\n",
       "      <td>767646</td>\n",
       "      <td>15848</td>\n",
       "      <td>1157761</td>\n",
       "    </tr>\n",
       "  </tbody>\n",
       "</table>\n",
       "</div>"
      ],
      "text/plain": [
       "   x0_False  x0_True  x1_English  x1_French  x1_German  x1_Korean  \\\n",
       "0       1.0      0.0         1.0        0.0        0.0        0.0   \n",
       "1       1.0      0.0         1.0        0.0        0.0        0.0   \n",
       "2       1.0      0.0         1.0        0.0        0.0        0.0   \n",
       "3       1.0      0.0         1.0        0.0        0.0        0.0   \n",
       "4       1.0      0.0         1.0        0.0        0.0        0.0   \n",
       "\n",
       "   x1_Portuguese  Watch time  Stream time  Peak viewers  Average viewers  \\\n",
       "0            0.0   110374845        13920         14616             7928   \n",
       "1            0.0    84227100        11910         12756             7071   \n",
       "2            0.0   110024835        15015         29431             7327   \n",
       "3            0.0    74971200         9870         15925             7595   \n",
       "4            0.0    75818505        10530         54643             7199   \n",
       "\n",
       "   Followers  Followers gained  Views gained  \n",
       "0     770090              9819       1423087  \n",
       "1     770090              8651       1229356  \n",
       "2     770090             14489       1376799  \n",
       "3     767646             11515       1045862  \n",
       "4     767646             15848       1157761  "
      ]
     },
     "execution_count": 112,
     "metadata": {},
     "output_type": "execute_result"
    }
   ],
   "source": [
    "featuresheading = features.columns\n",
    "features.head()"
   ]
  },
  {
   "cell_type": "markdown",
   "metadata": {},
   "source": [
    "#### Scaling our feature variables"
   ]
  },
  {
   "cell_type": "code",
   "execution_count": 113,
   "metadata": {},
   "outputs": [],
   "source": [
    "from sklearn.preprocessing import MinMaxScaler\n",
    "\n",
    "def scale_the_dataset():          \n",
    "    #create the scaler\n",
    "    scaler = MinMaxScaler()\n",
    "    #fit scaler to training data\n",
    "    scaler.fit(features) \n",
    "    scaled_features = scaler.transform(features)     \n",
    "    \n",
    "    return scaled_features"
   ]
  },
  {
   "cell_type": "code",
   "execution_count": 114,
   "metadata": {},
   "outputs": [
    {
     "data": {
      "text/html": [
       "<div>\n",
       "<style scoped>\n",
       "    .dataframe tbody tr th:only-of-type {\n",
       "        vertical-align: middle;\n",
       "    }\n",
       "\n",
       "    .dataframe tbody tr th {\n",
       "        vertical-align: top;\n",
       "    }\n",
       "\n",
       "    .dataframe thead th {\n",
       "        text-align: right;\n",
       "    }\n",
       "</style>\n",
       "<table border=\"1\" class=\"dataframe\">\n",
       "  <thead>\n",
       "    <tr style=\"text-align: right;\">\n",
       "      <th></th>\n",
       "      <th>x0_False</th>\n",
       "      <th>x0_True</th>\n",
       "      <th>x1_English</th>\n",
       "      <th>x1_French</th>\n",
       "      <th>x1_German</th>\n",
       "      <th>x1_Korean</th>\n",
       "      <th>x1_Portuguese</th>\n",
       "      <th>Watch time</th>\n",
       "      <th>Stream time</th>\n",
       "      <th>Peak viewers</th>\n",
       "      <th>Average viewers</th>\n",
       "      <th>Followers</th>\n",
       "      <th>Followers gained</th>\n",
       "      <th>Views gained</th>\n",
       "    </tr>\n",
       "  </thead>\n",
       "  <tbody>\n",
       "    <tr>\n",
       "      <th>0</th>\n",
       "      <td>1.0</td>\n",
       "      <td>0.0</td>\n",
       "      <td>1.0</td>\n",
       "      <td>0.0</td>\n",
       "      <td>0.0</td>\n",
       "      <td>0.0</td>\n",
       "      <td>0.0</td>\n",
       "      <td>0.024288</td>\n",
       "      <td>0.267896</td>\n",
       "      <td>0.018596</td>\n",
       "      <td>0.051686</td>\n",
       "      <td>0.059247</td>\n",
       "      <td>0.042237</td>\n",
       "      <td>0.039939</td>\n",
       "    </tr>\n",
       "    <tr>\n",
       "      <th>1</th>\n",
       "      <td>1.0</td>\n",
       "      <td>0.0</td>\n",
       "      <td>1.0</td>\n",
       "      <td>0.0</td>\n",
       "      <td>0.0</td>\n",
       "      <td>0.0</td>\n",
       "      <td>0.0</td>\n",
       "      <td>0.011643</td>\n",
       "      <td>0.219450</td>\n",
       "      <td>0.012437</td>\n",
       "      <td>0.042965</td>\n",
       "      <td>0.059247</td>\n",
       "      <td>0.040969</td>\n",
       "      <td>0.032841</td>\n",
       "    </tr>\n",
       "    <tr>\n",
       "      <th>2</th>\n",
       "      <td>1.0</td>\n",
       "      <td>0.0</td>\n",
       "      <td>1.0</td>\n",
       "      <td>0.0</td>\n",
       "      <td>0.0</td>\n",
       "      <td>0.0</td>\n",
       "      <td>0.0</td>\n",
       "      <td>0.024118</td>\n",
       "      <td>0.294288</td>\n",
       "      <td>0.067653</td>\n",
       "      <td>0.045570</td>\n",
       "      <td>0.059247</td>\n",
       "      <td>0.047307</td>\n",
       "      <td>0.038243</td>\n",
       "    </tr>\n",
       "    <tr>\n",
       "      <th>3</th>\n",
       "      <td>1.0</td>\n",
       "      <td>0.0</td>\n",
       "      <td>1.0</td>\n",
       "      <td>0.0</td>\n",
       "      <td>0.0</td>\n",
       "      <td>0.0</td>\n",
       "      <td>0.0</td>\n",
       "      <td>0.007167</td>\n",
       "      <td>0.170282</td>\n",
       "      <td>0.022931</td>\n",
       "      <td>0.048297</td>\n",
       "      <td>0.058949</td>\n",
       "      <td>0.044078</td>\n",
       "      <td>0.026119</td>\n",
       "    </tr>\n",
       "    <tr>\n",
       "      <th>4</th>\n",
       "      <td>1.0</td>\n",
       "      <td>0.0</td>\n",
       "      <td>1.0</td>\n",
       "      <td>0.0</td>\n",
       "      <td>0.0</td>\n",
       "      <td>0.0</td>\n",
       "      <td>0.0</td>\n",
       "      <td>0.007576</td>\n",
       "      <td>0.186189</td>\n",
       "      <td>0.151137</td>\n",
       "      <td>0.044268</td>\n",
       "      <td>0.058949</td>\n",
       "      <td>0.048783</td>\n",
       "      <td>0.030218</td>\n",
       "    </tr>\n",
       "    <tr>\n",
       "      <th>...</th>\n",
       "      <td>...</td>\n",
       "      <td>...</td>\n",
       "      <td>...</td>\n",
       "      <td>...</td>\n",
       "      <td>...</td>\n",
       "      <td>...</td>\n",
       "      <td>...</td>\n",
       "      <td>...</td>\n",
       "      <td>...</td>\n",
       "      <td>...</td>\n",
       "      <td>...</td>\n",
       "      <td>...</td>\n",
       "      <td>...</td>\n",
       "      <td>...</td>\n",
       "    </tr>\n",
       "    <tr>\n",
       "      <th>498</th>\n",
       "      <td>1.0</td>\n",
       "      <td>0.0</td>\n",
       "      <td>1.0</td>\n",
       "      <td>0.0</td>\n",
       "      <td>0.0</td>\n",
       "      <td>0.0</td>\n",
       "      <td>0.0</td>\n",
       "      <td>0.153758</td>\n",
       "      <td>0.376717</td>\n",
       "      <td>0.115845</td>\n",
       "      <td>0.179716</td>\n",
       "      <td>0.330638</td>\n",
       "      <td>0.142878</td>\n",
       "      <td>0.201807</td>\n",
       "    </tr>\n",
       "    <tr>\n",
       "      <th>499</th>\n",
       "      <td>1.0</td>\n",
       "      <td>0.0</td>\n",
       "      <td>1.0</td>\n",
       "      <td>0.0</td>\n",
       "      <td>0.0</td>\n",
       "      <td>0.0</td>\n",
       "      <td>0.0</td>\n",
       "      <td>0.143591</td>\n",
       "      <td>0.375633</td>\n",
       "      <td>0.071875</td>\n",
       "      <td>0.168593</td>\n",
       "      <td>0.330638</td>\n",
       "      <td>0.144371</td>\n",
       "      <td>0.185142</td>\n",
       "    </tr>\n",
       "    <tr>\n",
       "      <th>500</th>\n",
       "      <td>1.0</td>\n",
       "      <td>0.0</td>\n",
       "      <td>1.0</td>\n",
       "      <td>0.0</td>\n",
       "      <td>0.0</td>\n",
       "      <td>0.0</td>\n",
       "      <td>0.0</td>\n",
       "      <td>0.151117</td>\n",
       "      <td>0.330803</td>\n",
       "      <td>0.100497</td>\n",
       "      <td>0.200405</td>\n",
       "      <td>0.330638</td>\n",
       "      <td>0.274375</td>\n",
       "      <td>0.211780</td>\n",
       "    </tr>\n",
       "    <tr>\n",
       "      <th>501</th>\n",
       "      <td>1.0</td>\n",
       "      <td>0.0</td>\n",
       "      <td>1.0</td>\n",
       "      <td>0.0</td>\n",
       "      <td>0.0</td>\n",
       "      <td>0.0</td>\n",
       "      <td>0.0</td>\n",
       "      <td>0.547265</td>\n",
       "      <td>0.438539</td>\n",
       "      <td>0.707687</td>\n",
       "      <td>0.548542</td>\n",
       "      <td>0.330638</td>\n",
       "      <td>0.682716</td>\n",
       "      <td>0.561239</td>\n",
       "    </tr>\n",
       "    <tr>\n",
       "      <th>502</th>\n",
       "      <td>1.0</td>\n",
       "      <td>0.0</td>\n",
       "      <td>1.0</td>\n",
       "      <td>0.0</td>\n",
       "      <td>0.0</td>\n",
       "      <td>0.0</td>\n",
       "      <td>0.0</td>\n",
       "      <td>0.240034</td>\n",
       "      <td>0.355025</td>\n",
       "      <td>0.164852</td>\n",
       "      <td>0.293967</td>\n",
       "      <td>0.336338</td>\n",
       "      <td>0.120850</td>\n",
       "      <td>0.312777</td>\n",
       "    </tr>\n",
       "  </tbody>\n",
       "</table>\n",
       "<p>503 rows × 14 columns</p>\n",
       "</div>"
      ],
      "text/plain": [
       "     x0_False  x0_True  x1_English  x1_French  x1_German  x1_Korean  \\\n",
       "0         1.0      0.0         1.0        0.0        0.0        0.0   \n",
       "1         1.0      0.0         1.0        0.0        0.0        0.0   \n",
       "2         1.0      0.0         1.0        0.0        0.0        0.0   \n",
       "3         1.0      0.0         1.0        0.0        0.0        0.0   \n",
       "4         1.0      0.0         1.0        0.0        0.0        0.0   \n",
       "..        ...      ...         ...        ...        ...        ...   \n",
       "498       1.0      0.0         1.0        0.0        0.0        0.0   \n",
       "499       1.0      0.0         1.0        0.0        0.0        0.0   \n",
       "500       1.0      0.0         1.0        0.0        0.0        0.0   \n",
       "501       1.0      0.0         1.0        0.0        0.0        0.0   \n",
       "502       1.0      0.0         1.0        0.0        0.0        0.0   \n",
       "\n",
       "     x1_Portuguese  Watch time  Stream time  Peak viewers  Average viewers  \\\n",
       "0              0.0    0.024288     0.267896      0.018596         0.051686   \n",
       "1              0.0    0.011643     0.219450      0.012437         0.042965   \n",
       "2              0.0    0.024118     0.294288      0.067653         0.045570   \n",
       "3              0.0    0.007167     0.170282      0.022931         0.048297   \n",
       "4              0.0    0.007576     0.186189      0.151137         0.044268   \n",
       "..             ...         ...          ...           ...              ...   \n",
       "498            0.0    0.153758     0.376717      0.115845         0.179716   \n",
       "499            0.0    0.143591     0.375633      0.071875         0.168593   \n",
       "500            0.0    0.151117     0.330803      0.100497         0.200405   \n",
       "501            0.0    0.547265     0.438539      0.707687         0.548542   \n",
       "502            0.0    0.240034     0.355025      0.164852         0.293967   \n",
       "\n",
       "     Followers  Followers gained  Views gained  \n",
       "0     0.059247          0.042237      0.039939  \n",
       "1     0.059247          0.040969      0.032841  \n",
       "2     0.059247          0.047307      0.038243  \n",
       "3     0.058949          0.044078      0.026119  \n",
       "4     0.058949          0.048783      0.030218  \n",
       "..         ...               ...           ...  \n",
       "498   0.330638          0.142878      0.201807  \n",
       "499   0.330638          0.144371      0.185142  \n",
       "500   0.330638          0.274375      0.211780  \n",
       "501   0.330638          0.682716      0.561239  \n",
       "502   0.336338          0.120850      0.312777  \n",
       "\n",
       "[503 rows x 14 columns]"
      ]
     },
     "execution_count": 114,
     "metadata": {},
     "output_type": "execute_result"
    }
   ],
   "source": [
    "featuresarray = scale_the_dataset()\n",
    "\n",
    "features = pd.DataFrame(featuresarray, columns = featuresheading)\n",
    "features"
   ]
  },
  {
   "cell_type": "markdown",
   "metadata": {},
   "source": [
    "#### Splitting data into training and testing data"
   ]
  },
  {
   "cell_type": "code",
   "execution_count": 115,
   "metadata": {},
   "outputs": [],
   "source": [
    "from sklearn.linear_model import LinearRegression\n",
    "from sklearn.model_selection import train_test_split\n",
    "\n",
    "#split data into training and testing sets\n",
    "X_train, X_test, y_train, y_test = train_test_split(features, target, random_state=3000)"
   ]
  },
  {
   "cell_type": "markdown",
   "metadata": {},
   "source": [
    "#### Iterative Feature Selection \n",
    "We ran iterative feature selection, with the number of features ranging from 1 to the total number of features in order to develop a list of all features, order from most important to least important. \n"
   ]
  },
  {
   "cell_type": "code",
   "execution_count": 116,
   "metadata": {},
   "outputs": [],
   "source": [
    "#Running Iterative Feature Selection to return a list of features in order of importance \n",
    "from sklearn.feature_selection import RFE\n",
    "from sklearn.tree import DecisionTreeRegressor\n",
    "\n",
    "\n",
    "def ife_features(X_train, y_train, X_test, y_test):\n",
    "    name_features = list(X_train.columns.values)\n",
    "    num_features = len(name_features)\n",
    "    features_names = []\n",
    "    \n",
    "    for i in range(num_features):\n",
    "        i += 1\n",
    "        select = RFE(DecisionTreeRegressor(random_state = 3000), n_features_to_select = i)\n",
    "        \n",
    "        #fit the RFE selector to the training data\n",
    "        select.fit(X_train, y_train)\n",
    "        \n",
    "        selected_features = select.get_support()\n",
    "        \n",
    "        #adding to the list of features in order of appearance / importance \n",
    "        for x in range(num_features):\n",
    "            if selected_features[x] == True:\n",
    "                if name_features[x] in features_names:\n",
    "                    continue\n",
    "                else:\n",
    "                    features_names.append(name_features[x])\n",
    "                    \n",
    "    print(\"Order of Importance of Features:\")\n",
    "    order = 1\n",
    "    for value in features_names:\n",
    "        print(\"\\t\",order,value)\n",
    "        order+= 1\n"
   ]
  },
  {
   "cell_type": "code",
   "execution_count": 117,
   "metadata": {},
   "outputs": [
    {
     "name": "stdout",
     "output_type": "stream",
     "text": [
      "Order of Importance of Features:\n",
      "\t 1 Followers\n",
      "\t 2 Views gained\n",
      "\t 3 Followers gained\n",
      "\t 4 Watch time\n",
      "\t 5 x0_False\n",
      "\t 6 Peak viewers\n",
      "\t 7 Average viewers\n",
      "\t 8 Stream time\n",
      "\t 9 x0_True\n",
      "\t 10 x1_English\n",
      "\t 11 x1_German\n",
      "\t 12 x1_Portuguese\n",
      "\t 13 x1_French\n",
      "\t 14 x1_Korean\n"
     ]
    }
   ],
   "source": [
    "ifefeatures = ife_features(X_train, y_train, X_test, y_test)\n",
    "ifefeatures"
   ]
  },
  {
   "cell_type": "markdown",
   "metadata": {},
   "source": [
    "#### Model Based Feature Selection \n",
    "As there was no way to determine a defined number of features to use for the data, model based feature selection was used to develop the list of selected features. This feature selection model gave a list of 5 total features to act as the selected criteria. "
   ]
  },
  {
   "cell_type": "code",
   "execution_count": 118,
   "metadata": {},
   "outputs": [],
   "source": [
    "from sklearn.feature_selection import SelectFromModel\n",
    "from sklearn.tree import DecisionTreeRegressor\n",
    "from sklearn.linear_model import LinearRegression\n",
    "from sklearn.model_selection import train_test_split\n",
    "from sklearn.metrics import r2_score\n",
    "\n",
    "def modelbased_features(X_train, y_train, X_test, y_test):\n",
    "    \n",
    "    name_features = list(X_train.columns.values)\n",
    "    \n",
    "    select = SelectFromModel(DecisionTreeRegressor(random_state = 3000))\n",
    "\n",
    "    select.fit(X_train, y_train)\n",
    "    X_train_selected = select.transform(X_train)\n",
    "    X_test_selected = select.transform(X_test)\n",
    "\n",
    "    selected_features = select.get_support()\n",
    "    feature_names = []\n",
    "    for x in range(len(selected_features)):\n",
    "        if selected_features[x] == True:\n",
    "            feature_names.append(name_features[x])\n",
    "            \n",
    "    return feature_names, X_train_selected, X_test_selected"
   ]
  },
  {
   "cell_type": "code",
   "execution_count": 119,
   "metadata": {},
   "outputs": [
    {
     "data": {
      "text/plain": [
       "['x0_True', 'Watch time', 'Followers', 'Followers gained', 'Views gained']"
      ]
     },
     "execution_count": 119,
     "metadata": {},
     "output_type": "execute_result"
    }
   ],
   "source": [
    "modelbasedfeatures, X_train_selected, X_test_selected = modelbased_features(X_train, y_train, X_test, y_test)\n",
    "modelbasedfeatures"
   ]
  },
  {
   "cell_type": "markdown",
   "metadata": {},
   "source": [
    "### 3.2. Data Exploration"
   ]
  },
  {
   "cell_type": "code",
   "execution_count": 120,
   "metadata": {},
   "outputs": [],
   "source": [
    "import plotly.express as px\n",
    "import plotly.graph_objects as go"
   ]
  },
  {
   "cell_type": "markdown",
   "metadata": {},
   "source": [
    "The scatter plot below shows followers versus income gained. Because our dataset has infrequent updates for the followers count (from the data that we sourced) there is no correlation whatsoever between follower count and change in income as reflected from the data."
   ]
  },
  {
   "cell_type": "code",
   "execution_count": 121,
   "metadata": {},
   "outputs": [
    {
     "data": {
      "application/vnd.plotly.v1+json": {
       "config": {
        "plotlyServerURL": "https://plot.ly"
       },
       "data": [
        {
         "hovertemplate": "Followers=%{x}<br>Income Change=%{y}<extra></extra>",
         "legendgroup": "",
         "marker": {
          "color": "#636efa",
          "symbol": "circle"
         },
         "mode": "markers",
         "name": "",
         "orientation": "v",
         "showlegend": false,
         "type": "scatter",
         "x": [
          770090,
          770090,
          770090,
          767646,
          767646,
          770084,
          767646,
          767646,
          767646,
          767646,
          767646,
          767646,
          767646,
          767646,
          767646,
          767646,
          770090,
          680321,
          680321,
          680321,
          678078,
          678078,
          680321,
          678078,
          678078,
          678078,
          678078,
          678078,
          678078,
          678078,
          678078,
          678078,
          678078,
          2382256,
          2382256,
          2382256,
          2355070,
          2355070,
          2382256,
          2355070,
          2355070,
          2355070,
          2355070,
          2355070,
          2355070,
          2355070,
          2355070,
          2382256,
          1242149,
          1242149,
          1242149,
          1241282,
          1241282,
          1242149,
          1241292,
          1241292,
          1241292,
          1241292,
          1241292,
          1241292,
          1241292,
          1241292,
          1241282,
          1241284,
          1242149,
          4419917,
          4419917,
          4419917,
          4377168,
          4377168,
          4377168,
          4377168,
          4377168,
          4377168,
          4377168,
          4377168,
          4377168,
          4377168,
          4377168,
          4377168,
          4419917,
          4013430,
          4013430,
          4013430,
          3987941,
          3987941,
          4013430,
          3987941,
          3987941,
          3987941,
          3988461,
          3988461,
          3987941,
          3988461,
          3987941,
          3987941,
          4013430,
          1184328,
          1184328,
          1176644,
          1176725,
          1176725,
          1176725,
          1176725,
          1176783,
          1176783,
          1176725,
          1176783,
          1176644,
          2338353,
          2338353,
          2338353,
          2316557,
          2316557,
          2338259,
          2316625,
          2316625,
          2316625,
          2316668,
          2316668,
          2316625,
          2316668,
          2316557,
          2316537,
          2338353,
          2622314,
          2622314,
          2622314,
          2617338,
          2617338,
          2622314,
          2617338,
          2617338,
          2617338,
          2617338,
          2617338,
          2617338,
          2617338,
          2617338,
          2617338,
          2617338,
          2622314,
          414914,
          414914,
          419546,
          414931,
          414931,
          414931,
          414931,
          414951,
          414951,
          414931,
          414951,
          414914,
          414904,
          419546,
          895999,
          895999,
          895999,
          892743,
          892743,
          895999,
          892743,
          892743,
          892743,
          892743,
          892743,
          892743,
          892743,
          892743,
          892743,
          892743,
          895999,
          2720700,
          2720700,
          2720700,
          2631571,
          2631571,
          2720700,
          2631571,
          2631571,
          2631571,
          2631571,
          2631571,
          2631571,
          2631571,
          2631571,
          2631571,
          2631571,
          2720700,
          3646527,
          3646527,
          3646527,
          3578888,
          3578888,
          3646527,
          3578888,
          3578888,
          3578888,
          3578888,
          3578888,
          3578888,
          3578888,
          3578888,
          3578888,
          3578888,
          3646527,
          371337,
          371337,
          366923,
          366923,
          371332,
          366923,
          366923,
          366923,
          366923,
          366923,
          366923,
          366923,
          366923,
          366923,
          366923,
          371337,
          499439,
          499439,
          499435,
          499436,
          961250,
          976718,
          961250,
          961250,
          961250,
          961250,
          961250,
          961250,
          961250,
          961250,
          961250,
          976718,
          8484459,
          8484459,
          8484459,
          8361504,
          8361504,
          8484459,
          8362079,
          8362079,
          8362079,
          8362079,
          8362570,
          8362570,
          8362079,
          8362570,
          8361504,
          8361164,
          8484459,
          4934549,
          4934549,
          4934549,
          4877453,
          4877453,
          4934399,
          4877453,
          4877453,
          4877453,
          4877453,
          4877453,
          4877453,
          4877453,
          4877453,
          4877453,
          4877453,
          4934549,
          639975,
          639975,
          639975,
          639975,
          639975,
          639975,
          639975,
          639975,
          639975,
          417819,
          419390,
          417819,
          417819,
          417819,
          417819,
          417813,
          417813,
          417819,
          417813,
          417819,
          419390,
          1834872,
          1834872,
          1834872,
          1770882,
          1770882,
          1834872,
          1770882,
          1770882,
          1770882,
          1770882,
          1770882,
          1770882,
          1770882,
          1770882,
          1713958,
          1692192,
          1692334,
          1692334,
          1692334,
          1692491,
          1692491,
          1692334,
          1692491,
          1692192,
          1692105,
          1713958,
          3078846,
          3078846,
          3078846,
          2986143,
          2986143,
          3078846,
          2986143,
          2986143,
          2986143,
          2986143,
          2986143,
          2986143,
          2986143,
          2986143,
          2986143,
          3078846,
          4403783,
          4403783,
          4403783,
          4386970,
          4386970,
          4403783,
          4386970,
          4386970,
          4386970,
          4386970,
          4386970,
          4386970,
          4386970,
          4386970,
          284261,
          284261,
          288802,
          284266,
          284266,
          284272,
          284272,
          284266,
          284272,
          284261,
          284256,
          288802,
          1292018,
          1292018,
          1292018,
          1286027,
          1286027,
          1292018,
          1286027,
          1286027,
          1286027,
          1286027,
          1286027,
          1286027,
          1286027,
          1286027,
          1286027,
          1479698,
          1479741,
          1479741,
          1479698,
          1479741,
          1479638,
          1479593,
          1580528,
          478229,
          478229,
          478229,
          476111,
          476111,
          478229,
          476111,
          476111,
          476111,
          476111,
          476111,
          476111,
          476111,
          476111,
          476111,
          476111,
          478229,
          871442,
          871442,
          871442,
          871442,
          3368407,
          3368407,
          3239365,
          3239365,
          3239365,
          3239365,
          3239365,
          3239365,
          3239365,
          3239365,
          3239365,
          3239365,
          3239365,
          3239365,
          1374459,
          1374459,
          1374459,
          1372592,
          1372592,
          1374459,
          1372575,
          1372575,
          1372575,
          1372575,
          1372565,
          1372565,
          1372575,
          1372565,
          1372592,
          1372592,
          1374459,
          565549,
          565549,
          565549,
          563673,
          563673,
          565549,
          563673,
          563673,
          563673,
          563673,
          563673,
          563673,
          563673,
          563673,
          563673,
          565549,
          2729787,
          2729787,
          2729787,
          2724967,
          2724967,
          2729787,
          2724967,
          2724967,
          2724967,
          2724967,
          2724967,
          2724967,
          2724967,
          2724967,
          2724967,
          2729787,
          5353842,
          5353842,
          5353842,
          5343316,
          5343316,
          5353842,
          5343349,
          5343349,
          5343349,
          5343349,
          5343398,
          5343398,
          5343349,
          5343398,
          5343316,
          5343305,
          5353842,
          3042292,
          3042292,
          3042292,
          2995553,
          2995553,
          3042292,
          2995553,
          2995553,
          2995553,
          2995553,
          2995553,
          2995553,
          2995553,
          2995553,
          2995553,
          2995553,
          3042292
         ],
         "xaxis": "x",
         "y": [
          -36295.11,
          -7912.099999999991,
          -21266.29999999999,
          -57068.869999999995,
          -24214.5,
          -51934.17999999999,
          -39877.399999999994,
          -61972.53999999999,
          -26313.62999999999,
          -44781.73999999999,
          -58999.439999999995,
          -23594.11,
          -57707.59,
          -55145.719999999994,
          -53429.7,
          -51628.149999999994,
          -51658.869999999995,
          -519.1900000000005,
          4253.68,
          -967.8400000000001,
          843.8199999999997,
          359.7600000000002,
          3344.9500000000007,
          4098.24,
          2471.039999999999,
          2770.4500000000007,
          3308.74,
          3195.0499999999993,
          2252.289999999999,
          2831.7199999999993,
          4927.289999999999,
          8830.89,
          11124.369999999999,
          4950.549999999999,
          2336.029999999999,
          3608.2700000000004,
          -274.3999999999978,
          5469.41,
          4816.23,
          19811.210000000003,
          24202.100000000002,
          26118.3,
          13912.560000000001,
          33663.68000000001,
          29532.680000000004,
          48937.5,
          19131.780000000002,
          20809.350000000002,
          -20056.75,
          -12146.409999999996,
          -22381.5,
          -14806.220000000001,
          -21393.39,
          -13623.189999999995,
          -13739.54,
          -19612.979999999996,
          -13600.329999999994,
          -24379.18,
          -14643.29,
          6431.939999999995,
          -16045.150000000001,
          -20643.71,
          -19782.85,
          -36547.119999999995,
          -9944.449999999997,
          3036.010000000002,
          27360.629999999997,
          -115.19999999999709,
          1995.2699999999968,
          6881.5999999999985,
          36132.579999999994,
          33412.74,
          18706.590000000004,
          19111.050000000003,
          4029.980000000003,
          12244.330000000002,
          8346.730000000003,
          11799.739999999998,
          23431.46,
          34015.60999999999,
          29200.140000000007,
          -446.90000000000873,
          28996.050000000003,
          1263.4700000000012,
          -9430.530000000006,
          -12155.75,
          -4303.770000000004,
          -4959.610000000001,
          -12687.310000000005,
          -4406.530000000006,
          -20837.83,
          -12380.570000000007,
          5661.619999999995,
          -14823.380000000005,
          -7580.040000000001,
          17915.410000000003,
          -6802.340000000004,
          4875.610000000001,
          -4061.8499999999985,
          -3363.1399999999994,
          -1007.8099999999977,
          -4501.09,
          -5619.0599999999995,
          -279.369999999999,
          2754.7999999999993,
          8408.350000000002,
          3448.3899999999994,
          -1427.1800000000003,
          -783.489999999998,
          1517.42,
          15693.98,
          5456.07,
          928.4000000000015,
          1277.2400000000016,
          3264.460000000001,
          663.710000000001,
          10559.060000000001,
          7137.4000000000015,
          1810.1500000000015,
          3054.540000000001,
          1011.0300000000007,
          1804.6599999999999,
          2269.2300000000014,
          13787.59,
          -263.40999999999985,
          1212.579999999998,
          15804.36,
          11068.059999999998,
          134.79000000000087,
          -4591.1500000000015,
          -3233.6800000000003,
          -7295.810000000001,
          -3892.59,
          -5095.850000000002,
          10184.269999999997,
          -5719.200000000001,
          -2699.8199999999997,
          -5374.830000000002,
          -6906.510000000002,
          -4910.580000000002,
          -6532.330000000002,
          12714.169999999998,
          12032.19,
          11131.859999999999,
          11917.679999999998,
          15724.53,
          11941.31,
          30428.03,
          18630.270000000004,
          16006.539999999999,
          19451.239999999998,
          18561.04,
          18192.660000000003,
          19441.590000000004,
          27606.200000000004,
          31449.11,
          -4417.790000000001,
          23043.390000000007,
          -2948.25,
          -1913.3600000000006,
          1052.4100000000035,
          170.34999999999854,
          2119.8499999999985,
          -2652.0999999999985,
          -3336.979999999996,
          -8826.68,
          -8358.580000000002,
          -8588.21,
          -8489.379999999997,
          -10045.220000000001,
          -3992.290000000001,
          -16262.89,
          -4911,
          -149.20999999999913,
          -3822.0600000000013,
          -9405.539999999999,
          -10982.83,
          -4869.450000000001,
          -9251.06,
          -4914.509999999998,
          10445.400000000001,
          35480.55,
          2535.9000000000015,
          184.97000000000116,
          3363.6100000000006,
          8334.009999999998,
          4541.4000000000015,
          16572.55,
          13278.84,
          25274.859999999997,
          47799.56,
          40211.83,
          -17968.109999999986,
          -31031.87999999999,
          11129.950000000012,
          5192.320000000007,
          21058.37000000001,
          7284.25,
          -19897.979999999996,
          15433.550000000003,
          -18150.39,
          -3426.5099999999948,
          206.2100000000064,
          7384.330000000002,
          28186.880000000005,
          63964.5,
          37071.68000000001,
          5855.769999999999,
          3798.6100000000006,
          963.710000000001,
          3230.290000000001,
          1011.7800000000007,
          1569.5,
          -718.5,
          1322.1499999999996,
          7207.840000000002,
          3937.6900000000005,
          4942.359999999999,
          6850.219999999999,
          5506.210000000001,
          6464.789999999999,
          11317.35,
          6709.99,
          -3497.9900000000002,
          -2260.4700000000003,
          -2829.3300000000004,
          -2420.1500000000005,
          -514.31,
          -713.8900000000001,
          -324.19000000000005,
          -1382.6100000000001,
          -698.72,
          11417.36,
          5683.35,
          6651.59,
          229.23999999999978,
          8058.49,
          4555.55,
          4964.8,
          37922.65000000001,
          10875,
          -886.7599999999948,
          -5483.659999999996,
          5707.340000000004,
          4782.460000000006,
          639.2700000000041,
          -7350.32,
          -23209.609999999997,
          2326.9900000000052,
          -19989.839999999997,
          -16436.019999999997,
          -4679,
          -14302.059999999998,
          -7240.309999999998,
          -3848.209999999999,
          18289.48000000001,
          21150.430000000008,
          19350.53,
          4512.419999999998,
          -12627.979999999996,
          -6160.1500000000015,
          -17315.519999999997,
          -15879.32,
          -14591,
          -25805.869999999995,
          -18094.729999999996,
          -32777.82,
          -15360.619999999995,
          -26774.71,
          -25526.47,
          -14953.309999999998,
          21715.320000000007,
          -6295.199999999997,
          3228.1899999999987,
          2988.790000000001,
          4775.240000000002,
          13074.059999999998,
          12110.529999999999,
          23562.86,
          16162.64,
          15977.779999999999,
          35588.17,
          22018.679999999997,
          16267.630000000001,
          -6059.32,
          1737.9999999999964,
          7283.48,
          -683.6800000000003,
          -8728.48,
          -418.8700000000026,
          -1209.2900000000009,
          -1486.8899999999994,
          16386.399999999998,
          10537.439999999999,
          3528.0300000000007,
          1703.9300000000003,
          6415.83,
          -573.3899999999994,
          -738.0799999999999,
          627.7000000000007,
          2384.620000000001,
          763.2700000000004,
          9201.44,
          4690.48,
          1731.6900000000005,
          -1362.4899999999998,
          2389.870000000001,
          9841.4,
          259.50999999999976,
          768.44,
          -753.6100000000001,
          1516.85,
          -289.5400000000002,
          2080.72,
          1077.7199999999998,
          942.9899999999998,
          -124.85000000000014,
          74.75999999999999,
          -119.84000000000015,
          -369.3900000000001,
          -639.9399999999996,
          1956.4000000000005,
          -2057.8599999999997,
          -690.6399999999994,
          -1574.37,
          -2117.4799999999996,
          -574.4699999999993,
          756.3000000000002,
          1360.5299999999997,
          -780.5199999999995,
          -316.02999999999975,
          -695.71,
          -2867.04,
          -2058.5599999999995,
          -1948.8399999999992,
          -2992.6899999999996,
          -18933.449999999997,
          -20055.369999999995,
          -22402.079999999998,
          -20155.489999999998,
          -19866.1,
          -20066.249999999996,
          -7740.789999999994,
          -7052.219999999994,
          -15685.639999999996,
          -17935.709999999995,
          -21164.889999999996,
          -15934.679999999997,
          -17007.78,
          -16938.069999999996,
          -4313.22,
          -4902.96,
          -4393.46,
          -4818.02,
          -4798.04,
          -4618,
          -4458.16,
          -4753.09,
          -4863.05,
          -4823.14,
          -4668.36,
          -4708.27,
          -2969.2700000000004,
          6567,
          -1697.3199999999997,
          -6148.740000000002,
          -4317.5,
          -4746.639999999999,
          -7122.209999999999,
          -8339.720000000001,
          -5300.630000000001,
          -7815.810000000001,
          -10225.880000000001,
          -7032.369999999999,
          -7581.170000000002,
          -10166.11,
          -11887.82,
          34.959999999999994,
          19.97999999999999,
          5,
          0.009999999999990905,
          14.97999999999999,
          34.97,
          -9.969999999999999,
          -74.87,
          -683.4699999999993,
          6176.67,
          1079.1200000000008,
          -204.17000000000007,
          519.7399999999998,
          -13.549999999999272,
          -673.9500000000007,
          -5292.08,
          607.4799999999996,
          503.4300000000003,
          -4509.63,
          -345.9500000000007,
          -3141.6100000000006,
          -2292.8500000000004,
          -6446.73,
          -3795.6000000000004,
          -5164.39,
          0,
          19.96,
          -29.95,
          -24.96,
          9527.220000000001,
          12375.82,
          6627.340000000001,
          6941.410000000001,
          6886.55,
          4241.62,
          6866.320000000001,
          8573.150000000001,
          7375.61,
          5698.81,
          9701.04,
          15249.870000000003,
          13747.93,
          3677.670000000001,
          -853.25,
          2410.29,
          -1097.7599999999998,
          -918.06,
          -1446.5499999999997,
          -1975.9899999999998,
          -1471.9799999999996,
          -1731.54,
          -1237.4299999999998,
          -1701.6999999999998,
          -1841.33,
          -1422.27,
          -958.1099999999997,
          -878.1899999999996,
          354.3000000000002,
          6049.780000000001,
          1956.37,
          953.0099999999984,
          13443.149999999998,
          2374.2999999999993,
          -362.8199999999997,
          1295.5599999999977,
          225.77999999999884,
          -1457.1100000000006,
          -14536.800000000001,
          1526.630000000001,
          679.489999999998,
          -3021.880000000001,
          -3287.4500000000007,
          -2441.9400000000023,
          -4314.290000000001,
          -4778.959999999999,
          -2484.66,
          -12430.900000000001,
          7739.82,
          11012.46,
          -11058.870000000003,
          -7225.940000000002,
          -19786.58,
          -9017.940000000002,
          -11932.2,
          -23045.300000000003,
          -13913.080000000002,
          -23494.260000000002,
          -17825.65,
          -17106.920000000002,
          -17959.97,
          -20105.870000000003,
          -15474.940000000002,
          11265.260000000002,
          2834.9300000000003,
          2202.989999999998,
          -6505.0899999999965,
          -17664.17,
          -30825.15,
          -17646.309999999998,
          -18036.050000000003,
          -25142.010000000002,
          -21818.519999999997,
          -28879.95,
          -19582.730000000003,
          -8853.589999999997,
          -1528.3099999999977,
          5472.810000000005,
          85172.69999999998,
          26478.799999999996,
          2799.6700000000055,
          5111.040000000001,
          -3617.8600000000006,
          -5574.4699999999975,
          -2699.3899999999994,
          1297.3300000000017,
          10084.530000000006,
          5823.310000000005,
          27484.61,
          16247.410000000003,
          13517.690000000002,
          21826.270000000004,
          12619.510000000002,
          21341.36,
          16720.910000000003,
          35678.73,
          35882.76
         ],
         "yaxis": "y"
        },
        {
         "hovertemplate": "<b>OLS trendline</b><br>Income Change = 0.000216875 * Followers + -882.374<br>R<sup>2</sup>=0.000636<br><br>Followers=%{x}<br>Income Change=%{y} <b>(trend)</b><extra></extra>",
         "legendgroup": "",
         "marker": {
          "color": "#636efa",
          "symbol": "circle"
         },
         "mode": "lines",
         "name": "",
         "showlegend": false,
         "type": "scatter",
         "x": [
          284256,
          284261,
          284261,
          284261,
          284266,
          284266,
          284266,
          284272,
          284272,
          284272,
          288802,
          288802,
          366923,
          366923,
          366923,
          366923,
          366923,
          366923,
          366923,
          366923,
          366923,
          366923,
          366923,
          366923,
          371332,
          371337,
          371337,
          371337,
          414904,
          414914,
          414914,
          414914,
          414931,
          414931,
          414931,
          414931,
          414931,
          414951,
          414951,
          414951,
          417813,
          417813,
          417813,
          417819,
          417819,
          417819,
          417819,
          417819,
          417819,
          417819,
          419390,
          419390,
          419546,
          419546,
          476111,
          476111,
          476111,
          476111,
          476111,
          476111,
          476111,
          476111,
          476111,
          476111,
          476111,
          476111,
          478229,
          478229,
          478229,
          478229,
          478229,
          499435,
          499436,
          499439,
          499439,
          563673,
          563673,
          563673,
          563673,
          563673,
          563673,
          563673,
          563673,
          563673,
          563673,
          563673,
          565549,
          565549,
          565549,
          565549,
          565549,
          639975,
          639975,
          639975,
          639975,
          639975,
          639975,
          639975,
          639975,
          639975,
          678078,
          678078,
          678078,
          678078,
          678078,
          678078,
          678078,
          678078,
          678078,
          678078,
          678078,
          678078,
          680321,
          680321,
          680321,
          680321,
          767646,
          767646,
          767646,
          767646,
          767646,
          767646,
          767646,
          767646,
          767646,
          767646,
          767646,
          767646,
          770084,
          770090,
          770090,
          770090,
          770090,
          871442,
          871442,
          871442,
          871442,
          892743,
          892743,
          892743,
          892743,
          892743,
          892743,
          892743,
          892743,
          892743,
          892743,
          892743,
          892743,
          895999,
          895999,
          895999,
          895999,
          895999,
          961250,
          961250,
          961250,
          961250,
          961250,
          961250,
          961250,
          961250,
          961250,
          961250,
          976718,
          976718,
          1176644,
          1176644,
          1176725,
          1176725,
          1176725,
          1176725,
          1176725,
          1176783,
          1176783,
          1176783,
          1184328,
          1184328,
          1241282,
          1241282,
          1241282,
          1241284,
          1241292,
          1241292,
          1241292,
          1241292,
          1241292,
          1241292,
          1241292,
          1241292,
          1242149,
          1242149,
          1242149,
          1242149,
          1242149,
          1286027,
          1286027,
          1286027,
          1286027,
          1286027,
          1286027,
          1286027,
          1286027,
          1286027,
          1286027,
          1286027,
          1292018,
          1292018,
          1292018,
          1292018,
          1372565,
          1372565,
          1372565,
          1372575,
          1372575,
          1372575,
          1372575,
          1372575,
          1372592,
          1372592,
          1372592,
          1372592,
          1374459,
          1374459,
          1374459,
          1374459,
          1374459,
          1479593,
          1479638,
          1479698,
          1479698,
          1479741,
          1479741,
          1479741,
          1580528,
          1692105,
          1692192,
          1692192,
          1692334,
          1692334,
          1692334,
          1692334,
          1692491,
          1692491,
          1692491,
          1713958,
          1713958,
          1770882,
          1770882,
          1770882,
          1770882,
          1770882,
          1770882,
          1770882,
          1770882,
          1770882,
          1770882,
          1834872,
          1834872,
          1834872,
          1834872,
          2316537,
          2316557,
          2316557,
          2316557,
          2316625,
          2316625,
          2316625,
          2316625,
          2316668,
          2316668,
          2316668,
          2338259,
          2338353,
          2338353,
          2338353,
          2338353,
          2355070,
          2355070,
          2355070,
          2355070,
          2355070,
          2355070,
          2355070,
          2355070,
          2355070,
          2355070,
          2382256,
          2382256,
          2382256,
          2382256,
          2382256,
          2617338,
          2617338,
          2617338,
          2617338,
          2617338,
          2617338,
          2617338,
          2617338,
          2617338,
          2617338,
          2617338,
          2617338,
          2622314,
          2622314,
          2622314,
          2622314,
          2622314,
          2631571,
          2631571,
          2631571,
          2631571,
          2631571,
          2631571,
          2631571,
          2631571,
          2631571,
          2631571,
          2631571,
          2631571,
          2720700,
          2720700,
          2720700,
          2720700,
          2720700,
          2724967,
          2724967,
          2724967,
          2724967,
          2724967,
          2724967,
          2724967,
          2724967,
          2724967,
          2724967,
          2724967,
          2729787,
          2729787,
          2729787,
          2729787,
          2729787,
          2986143,
          2986143,
          2986143,
          2986143,
          2986143,
          2986143,
          2986143,
          2986143,
          2986143,
          2986143,
          2986143,
          2995553,
          2995553,
          2995553,
          2995553,
          2995553,
          2995553,
          2995553,
          2995553,
          2995553,
          2995553,
          2995553,
          2995553,
          3042292,
          3042292,
          3042292,
          3042292,
          3042292,
          3078846,
          3078846,
          3078846,
          3078846,
          3078846,
          3239365,
          3239365,
          3239365,
          3239365,
          3239365,
          3239365,
          3239365,
          3239365,
          3239365,
          3239365,
          3239365,
          3239365,
          3368407,
          3368407,
          3578888,
          3578888,
          3578888,
          3578888,
          3578888,
          3578888,
          3578888,
          3578888,
          3578888,
          3578888,
          3578888,
          3578888,
          3646527,
          3646527,
          3646527,
          3646527,
          3646527,
          3987941,
          3987941,
          3987941,
          3987941,
          3987941,
          3987941,
          3987941,
          3987941,
          3988461,
          3988461,
          3988461,
          4013430,
          4013430,
          4013430,
          4013430,
          4013430,
          4377168,
          4377168,
          4377168,
          4377168,
          4377168,
          4377168,
          4377168,
          4377168,
          4377168,
          4377168,
          4377168,
          4377168,
          4386970,
          4386970,
          4386970,
          4386970,
          4386970,
          4386970,
          4386970,
          4386970,
          4386970,
          4386970,
          4403783,
          4403783,
          4403783,
          4403783,
          4419917,
          4419917,
          4419917,
          4419917,
          4877453,
          4877453,
          4877453,
          4877453,
          4877453,
          4877453,
          4877453,
          4877453,
          4877453,
          4877453,
          4877453,
          4877453,
          4934399,
          4934549,
          4934549,
          4934549,
          4934549,
          5343305,
          5343316,
          5343316,
          5343316,
          5343349,
          5343349,
          5343349,
          5343349,
          5343349,
          5343398,
          5343398,
          5343398,
          5353842,
          5353842,
          5353842,
          5353842,
          5353842,
          8361164,
          8361504,
          8361504,
          8361504,
          8362079,
          8362079,
          8362079,
          8362079,
          8362079,
          8362570,
          8362570,
          8362570,
          8484459,
          8484459,
          8484459,
          8484459,
          8484459
         ],
         "xaxis": "x",
         "y": [
          -820.7262335923849,
          -820.7251492184593,
          -820.7251492184593,
          -820.7251492184593,
          -820.7240648445336,
          -820.7240648445336,
          -820.7240648445336,
          -820.7227635958227,
          -820.7227635958227,
          -820.7227635958227,
          -819.7403208191313,
          -819.7403208191313,
          -802.7978457290839,
          -802.7978457290839,
          -802.7978457290839,
          -802.7978457290839,
          -802.7978457290839,
          -802.7978457290839,
          -802.7978457290839,
          -802.7978457290839,
          -802.7978457290839,
          -802.7978457290839,
          -802.7978457290839,
          -802.7978457290839,
          -801.8416448013945,
          -801.8405604274687,
          -801.8405604274687,
          -801.8405604274687,
          -792.3919766632044,
          -792.389807915353,
          -792.389807915353,
          -792.389807915353,
          -792.3861210440057,
          -792.3861210440057,
          -792.3861210440057,
          -792.3861210440057,
          -792.3861210440057,
          -792.3817835483028,
          -792.3817835483028,
          -792.3817835483028,
          -791.7610879132275,
          -791.7610879132275,
          -791.7610879132275,
          -791.7597866645167,
          -791.7597866645167,
          -791.7597866645167,
          -791.7597866645167,
          -791.7597866645167,
          -791.7597866645167,
          -791.7597866645167,
          -791.4190763770592,
          -791.4190763770592,
          -791.3852439105771,
          -791.3852439105771,
          -779.1177216890421,
          -779.1177216890421,
          -779.1177216890421,
          -779.1177216890421,
          -779.1177216890421,
          -779.1177216890421,
          -779.1177216890421,
          -779.1177216890421,
          -779.1177216890421,
          -779.1177216890421,
          -779.1177216890421,
          -779.1177216890421,
          -778.6583808941123,
          -778.6583808941123,
          -778.6583808941123,
          -778.6583808941123,
          -778.6583808941123,
          -774.0593342003993,
          -774.0591173256142,
          -774.0584667012588,
          -774.0584667012588,
          -760.1277317524729,
          -760.1277317524729,
          -760.1277317524729,
          -760.1277317524729,
          -760.1277317524729,
          -760.1277317524729,
          -760.1277317524729,
          -760.1277317524729,
          -760.1277317524729,
          -760.1277317524729,
          -760.1277317524729,
          -759.7208746555473,
          -759.7208746555473,
          -759.7208746555473,
          -759.7208746555473,
          -759.7208746555473,
          -743.579751896598,
          -743.579751896598,
          -743.579751896598,
          -743.579751896598,
          -743.579751896598,
          -743.579751896598,
          -743.579751896598,
          -743.579751896598,
          -743.579751896598,
          -735.3161719583475,
          -735.3161719583475,
          -735.3161719583475,
          -735.3161719583475,
          -735.3161719583475,
          -735.3161719583475,
          -735.3161719583475,
          -735.3161719583475,
          -735.3161719583475,
          -735.3161719583475,
          -735.3161719583475,
          -735.3161719583475,
          -734.8297218152749,
          -734.8297218152749,
          -734.8297218152749,
          -734.8297218152749,
          -715.8911312027841,
          -715.8911312027841,
          -715.8911312027841,
          -715.8911312027841,
          -715.8911312027841,
          -715.8911312027841,
          -715.8911312027841,
          -715.8911312027841,
          -715.8911312027841,
          -715.8911312027841,
          -715.8911312027841,
          -715.8911312027841,
          -715.3623904766089,
          -715.361089227898,
          -715.361089227898,
          -715.361089227898,
          -715.361089227898,
          -693.380396004226,
          -693.380396004226,
          -693.380396004226,
          -693.380396004226,
          -688.7607462059246,
          -688.7607462059246,
          -688.7607462059246,
          -688.7607462059246,
          -688.7607462059246,
          -688.7607462059246,
          -688.7607462059246,
          -688.7607462059246,
          -688.7607462059246,
          -688.7607462059246,
          -688.7607462059246,
          -688.7607462059246,
          -688.0546019055035,
          -688.0546019055035,
          -688.0546019055035,
          -688.0546019055035,
          -688.0546019055035,
          -673.9033053002286,
          -673.9033053002286,
          -673.9033053002286,
          -673.9033053002286,
          -673.9033053002286,
          -673.9033053002286,
          -673.9033053002286,
          -673.9033053002286,
          -673.9033053002286,
          -673.9033053002286,
          -670.5486861236583,
          -670.5486861236583,
          -627.1897778294376,
          -627.1897778294376,
          -627.1722109718411,
          -627.1722109718411,
          -627.1722109718411,
          -627.1722109718411,
          -627.1722109718411,
          -627.1596322343029,
          -627.1596322343029,
          -627.1596322343029,
          -625.5233119804095,
          -625.5233119804095,
          -613.1714254674544,
          -613.1714254674544,
          -613.1714254674544,
          -613.1709917178841,
          -613.169256719603,
          -613.169256719603,
          -613.169256719603,
          -613.169256719603,
          -613.169256719603,
          -613.169256719603,
          -613.169256719603,
          -613.169256719603,
          -612.9833950287366,
          -612.9833950287366,
          -612.9833950287366,
          -612.9833950287366,
          -612.9833950287366,
          -603.4673632062933,
          -603.4673632062933,
          -603.4673632062933,
          -603.4673632062933,
          -603.4673632062933,
          -603.4673632062933,
          -603.4673632062933,
          -603.4673632062933,
          -603.4673632062933,
          -603.4673632062933,
          -603.4673632062933,
          -602.1680663685099,
          -602.1680663685099,
          -602.1680663685099,
          -602.1680663685099,
          -584.6994530497091,
          -584.6994530497091,
          -584.6994530497091,
          -584.6972843018575,
          -584.6972843018575,
          -584.6972843018575,
          -584.6972843018575,
          -584.6972843018575,
          -584.6935974305102,
          -584.6935974305102,
          -584.6935974305102,
          -584.6935974305102,
          -584.2886922066508,
          -584.2886922066508,
          -584.2886922066508,
          -584.2886922066508,
          -584.2886922066508,
          -561.4877785455732,
          -561.4780191802417,
          -561.4650066931333,
          -561.4650066931333,
          -561.4556810773722,
          -561.4556810773722,
          -561.4556810773722,
          -539.5975221073052,
          -515.3992842055602,
          -515.3804160992529,
          -515.3804160992529,
          -515.3496198797628,
          -515.3496198797628,
          -515.3496198797628,
          -515.3496198797628,
          -515.3155705384956,
          -515.3155705384956,
          -515.3155705384956,
          -510.65991952586074,
          -510.65991952586074,
          -498.31453925645997,
          -498.31453925645997,
          -498.31453925645997,
          -498.31453925645997,
          -498.31453925645997,
          -498.31453925645997,
          -498.31453925645997,
          -498.31453925645997,
          -498.31453925645997,
          -498.31453925645997,
          -484.4367217552486,
          -484.4367217552486,
          -484.4367217552486,
          -484.4367217552486,
          -379.975728370017,
          -379.9713908743141,
          -379.9713908743141,
          -379.9713908743141,
          -379.95664338892453,
          -379.95664338892453,
          -379.95664338892453,
          -379.95664338892453,
          -379.94731777316343,
          -379.94731777316343,
          -379.94731777316343,
          -375.264774287171,
          -375.2443880573677,
          -375.2443880573677,
          -375.2443880573677,
          -375.2443880573677,
          -371.6188922741555,
          -371.6188922741555,
          -371.6188922741555,
          -371.6188922741555,
          -371.6188922741555,
          -371.6188922741555,
          -371.6188922741555,
          -371.6188922741555,
          -371.6188922741555,
          -371.6188922741555,
          -365.7229343652958,
          -365.7229343652958,
          -365.7229343652958,
          -365.7229343652958,
          -365.7229343652958,
          -314.73957612463676,
          -314.73957612463676,
          -314.73957612463676,
          -314.73957612463676,
          -314.73957612463676,
          -314.73957612463676,
          -314.73957612463676,
          -314.73957612463676,
          -314.73957612463676,
          -314.73957612463676,
          -314.73957612463676,
          -314.73957612463676,
          -313.66040719377213,
          -313.66040719377213,
          -313.66040719377213,
          -313.66040719377213,
          -313.66040719377213,
          -311.65279730771636,
          -311.65279730771636,
          -311.65279730771636,
          -311.65279730771636,
          -311.65279730771636,
          -311.65279730771636,
          -311.65279730771636,
          -311.65279730771636,
          -311.65279730771636,
          -311.65279730771636,
          -311.65279730771636,
          -311.65279730771636,
          -292.3229645828301,
          -292.3229645828301,
          -292.3229645828301,
          -292.3229645828301,
          -292.3229645828301,
          -291.39755987463093,
          -291.39755987463093,
          -291.39755987463093,
          -291.39755987463093,
          -291.39755987463093,
          -291.39755987463093,
          -291.39755987463093,
          -291.39755987463093,
          -291.39755987463093,
          -291.39755987463093,
          -291.39755987463093,
          -290.35222341024837,
          -290.35222341024837,
          -290.35222341024837,
          -290.35222341024837,
          -290.35222341024837,
          -234.75507099048684,
          -234.75507099048684,
          -234.75507099048684,
          -234.75507099048684,
          -234.75507099048684,
          -234.75507099048684,
          -234.75507099048684,
          -234.75507099048684,
          -234.75507099048684,
          -234.75507099048684,
          -234.75507099048684,
          -232.71427926230433,
          -232.71427926230433,
          -232.71427926230433,
          -232.71427926230433,
          -232.71427926230433,
          -232.71427926230433,
          -232.71427926230433,
          -232.71427926230433,
          -232.71427926230433,
          -232.71427926230433,
          -232.71427926230433,
          -232.71427926230433,
          -222.5777686795708,
          -222.5777686795708,
          -222.5777686795708,
          -222.5777686795708,
          -222.5777686795708,
          -214.65012778350456,
          -214.65012778350456,
          -214.65012778350456,
          -214.65012778350456,
          -214.65012778350456,
          -179.83760414735912,
          -179.83760414735912,
          -179.83760414735912,
          -179.83760414735912,
          -179.83760414735912,
          -179.83760414735912,
          -179.83760414735912,
          -179.83760414735912,
          -179.83760414735912,
          -179.83760414735912,
          -179.83760414735912,
          -179.83760414735912,
          -151.85164812311598,
          -151.85164812311598,
          -106.20362647172567,
          -106.20362647172567,
          -106.20362647172567,
          -106.20362647172567,
          -106.20362647172567,
          -106.20362647172567,
          -106.20362647172567,
          -106.20362647172567,
          -106.20362647172567,
          -106.20362647172567,
          -106.20362647172567,
          -106.20362647172567,
          -91.53443287953257,
          -91.53443287953257,
          -91.53443287953257,
          -91.53443287953257,
          -91.53443287953257,
          -17.490344985196316,
          -17.490344985196316,
          -17.490344985196316,
          -17.490344985196316,
          -17.490344985196316,
          -17.490344985196316,
          -17.490344985196316,
          -17.490344985196316,
          -17.377570096922682,
          -17.377570096922682,
          -17.377570096922682,
          -11.962423586721911,
          -11.962423586721911,
          -11.962423586721911,
          -11.962423586721911,
          -11.962423586721911,
          66.92317701111551,
          66.92317701111551,
          66.92317701111551,
          66.92317701111551,
          66.92317701111551,
          66.92317701111551,
          66.92317701111551,
          66.92317701111551,
          66.92317701111551,
          66.92317701111551,
          66.92317701111551,
          66.92317701111551,
          69.04898365507358,
          69.04898365507358,
          69.04898365507358,
          69.04898365507358,
          69.04898365507358,
          69.04898365507358,
          69.04898365507358,
          69.04898365507358,
          69.04898365507358,
          69.04898365507358,
          72.69529941765938,
          72.69529941765938,
          72.69529941765938,
          72.69529941765938,
          76.19435720113404,
          76.19435720113404,
          76.19435720113404,
          76.19435720113404,
          175.42237889568378,
          175.42237889568378,
          175.42237889568378,
          175.42237889568378,
          175.42237889568378,
          175.42237889568378,
          175.42237889568378,
          175.42237889568378,
          175.42237889568378,
          175.42237889568378,
          175.42237889568378,
          175.42237889568378,
          187.77253041035783,
          187.8050616281289,
          187.8050616281289,
          187.8050616281289,
          187.8050616281289,
          276.45393130347134,
          276.4563169261078,
          276.4563169261078,
          276.4563169261078,
          276.46347379401755,
          276.46347379401755,
          276.46347379401755,
          276.46347379401755,
          276.46347379401755,
          276.4741006584893,
          276.4741006584893,
          276.4741006584893,
          278.7391409145084,
          278.7391409145084,
          278.7391409145084,
          278.7391409145084,
          278.7391409145084,
          930.9514535161329,
          931.025190943081,
          931.025190943081,
          931.025190943081,
          931.1498939445376,
          931.1498939445376,
          931.1498939445376,
          931.1498939445376,
          931.1498939445376,
          931.2563794640421,
          931.2563794640421,
          931.2563794640421,
          957.6910301501671,
          957.6910301501671,
          957.6910301501671,
          957.6910301501671,
          957.6910301501671
         ],
         "yaxis": "y"
        }
       ],
       "layout": {
        "legend": {
         "tracegroupgap": 0
        },
        "margin": {
         "t": 60
        },
        "template": {
         "data": {
          "bar": [
           {
            "error_x": {
             "color": "#2a3f5f"
            },
            "error_y": {
             "color": "#2a3f5f"
            },
            "marker": {
             "line": {
              "color": "#E5ECF6",
              "width": 0.5
             }
            },
            "type": "bar"
           }
          ],
          "barpolar": [
           {
            "marker": {
             "line": {
              "color": "#E5ECF6",
              "width": 0.5
             }
            },
            "type": "barpolar"
           }
          ],
          "carpet": [
           {
            "aaxis": {
             "endlinecolor": "#2a3f5f",
             "gridcolor": "white",
             "linecolor": "white",
             "minorgridcolor": "white",
             "startlinecolor": "#2a3f5f"
            },
            "baxis": {
             "endlinecolor": "#2a3f5f",
             "gridcolor": "white",
             "linecolor": "white",
             "minorgridcolor": "white",
             "startlinecolor": "#2a3f5f"
            },
            "type": "carpet"
           }
          ],
          "choropleth": [
           {
            "colorbar": {
             "outlinewidth": 0,
             "ticks": ""
            },
            "type": "choropleth"
           }
          ],
          "contour": [
           {
            "colorbar": {
             "outlinewidth": 0,
             "ticks": ""
            },
            "colorscale": [
             [
              0,
              "#0d0887"
             ],
             [
              0.1111111111111111,
              "#46039f"
             ],
             [
              0.2222222222222222,
              "#7201a8"
             ],
             [
              0.3333333333333333,
              "#9c179e"
             ],
             [
              0.4444444444444444,
              "#bd3786"
             ],
             [
              0.5555555555555556,
              "#d8576b"
             ],
             [
              0.6666666666666666,
              "#ed7953"
             ],
             [
              0.7777777777777778,
              "#fb9f3a"
             ],
             [
              0.8888888888888888,
              "#fdca26"
             ],
             [
              1,
              "#f0f921"
             ]
            ],
            "type": "contour"
           }
          ],
          "contourcarpet": [
           {
            "colorbar": {
             "outlinewidth": 0,
             "ticks": ""
            },
            "type": "contourcarpet"
           }
          ],
          "heatmap": [
           {
            "colorbar": {
             "outlinewidth": 0,
             "ticks": ""
            },
            "colorscale": [
             [
              0,
              "#0d0887"
             ],
             [
              0.1111111111111111,
              "#46039f"
             ],
             [
              0.2222222222222222,
              "#7201a8"
             ],
             [
              0.3333333333333333,
              "#9c179e"
             ],
             [
              0.4444444444444444,
              "#bd3786"
             ],
             [
              0.5555555555555556,
              "#d8576b"
             ],
             [
              0.6666666666666666,
              "#ed7953"
             ],
             [
              0.7777777777777778,
              "#fb9f3a"
             ],
             [
              0.8888888888888888,
              "#fdca26"
             ],
             [
              1,
              "#f0f921"
             ]
            ],
            "type": "heatmap"
           }
          ],
          "heatmapgl": [
           {
            "colorbar": {
             "outlinewidth": 0,
             "ticks": ""
            },
            "colorscale": [
             [
              0,
              "#0d0887"
             ],
             [
              0.1111111111111111,
              "#46039f"
             ],
             [
              0.2222222222222222,
              "#7201a8"
             ],
             [
              0.3333333333333333,
              "#9c179e"
             ],
             [
              0.4444444444444444,
              "#bd3786"
             ],
             [
              0.5555555555555556,
              "#d8576b"
             ],
             [
              0.6666666666666666,
              "#ed7953"
             ],
             [
              0.7777777777777778,
              "#fb9f3a"
             ],
             [
              0.8888888888888888,
              "#fdca26"
             ],
             [
              1,
              "#f0f921"
             ]
            ],
            "type": "heatmapgl"
           }
          ],
          "histogram": [
           {
            "marker": {
             "colorbar": {
              "outlinewidth": 0,
              "ticks": ""
             }
            },
            "type": "histogram"
           }
          ],
          "histogram2d": [
           {
            "colorbar": {
             "outlinewidth": 0,
             "ticks": ""
            },
            "colorscale": [
             [
              0,
              "#0d0887"
             ],
             [
              0.1111111111111111,
              "#46039f"
             ],
             [
              0.2222222222222222,
              "#7201a8"
             ],
             [
              0.3333333333333333,
              "#9c179e"
             ],
             [
              0.4444444444444444,
              "#bd3786"
             ],
             [
              0.5555555555555556,
              "#d8576b"
             ],
             [
              0.6666666666666666,
              "#ed7953"
             ],
             [
              0.7777777777777778,
              "#fb9f3a"
             ],
             [
              0.8888888888888888,
              "#fdca26"
             ],
             [
              1,
              "#f0f921"
             ]
            ],
            "type": "histogram2d"
           }
          ],
          "histogram2dcontour": [
           {
            "colorbar": {
             "outlinewidth": 0,
             "ticks": ""
            },
            "colorscale": [
             [
              0,
              "#0d0887"
             ],
             [
              0.1111111111111111,
              "#46039f"
             ],
             [
              0.2222222222222222,
              "#7201a8"
             ],
             [
              0.3333333333333333,
              "#9c179e"
             ],
             [
              0.4444444444444444,
              "#bd3786"
             ],
             [
              0.5555555555555556,
              "#d8576b"
             ],
             [
              0.6666666666666666,
              "#ed7953"
             ],
             [
              0.7777777777777778,
              "#fb9f3a"
             ],
             [
              0.8888888888888888,
              "#fdca26"
             ],
             [
              1,
              "#f0f921"
             ]
            ],
            "type": "histogram2dcontour"
           }
          ],
          "mesh3d": [
           {
            "colorbar": {
             "outlinewidth": 0,
             "ticks": ""
            },
            "type": "mesh3d"
           }
          ],
          "parcoords": [
           {
            "line": {
             "colorbar": {
              "outlinewidth": 0,
              "ticks": ""
             }
            },
            "type": "parcoords"
           }
          ],
          "pie": [
           {
            "automargin": true,
            "type": "pie"
           }
          ],
          "scatter": [
           {
            "marker": {
             "colorbar": {
              "outlinewidth": 0,
              "ticks": ""
             }
            },
            "type": "scatter"
           }
          ],
          "scatter3d": [
           {
            "line": {
             "colorbar": {
              "outlinewidth": 0,
              "ticks": ""
             }
            },
            "marker": {
             "colorbar": {
              "outlinewidth": 0,
              "ticks": ""
             }
            },
            "type": "scatter3d"
           }
          ],
          "scattercarpet": [
           {
            "marker": {
             "colorbar": {
              "outlinewidth": 0,
              "ticks": ""
             }
            },
            "type": "scattercarpet"
           }
          ],
          "scattergeo": [
           {
            "marker": {
             "colorbar": {
              "outlinewidth": 0,
              "ticks": ""
             }
            },
            "type": "scattergeo"
           }
          ],
          "scattergl": [
           {
            "marker": {
             "colorbar": {
              "outlinewidth": 0,
              "ticks": ""
             }
            },
            "type": "scattergl"
           }
          ],
          "scattermapbox": [
           {
            "marker": {
             "colorbar": {
              "outlinewidth": 0,
              "ticks": ""
             }
            },
            "type": "scattermapbox"
           }
          ],
          "scatterpolar": [
           {
            "marker": {
             "colorbar": {
              "outlinewidth": 0,
              "ticks": ""
             }
            },
            "type": "scatterpolar"
           }
          ],
          "scatterpolargl": [
           {
            "marker": {
             "colorbar": {
              "outlinewidth": 0,
              "ticks": ""
             }
            },
            "type": "scatterpolargl"
           }
          ],
          "scatterternary": [
           {
            "marker": {
             "colorbar": {
              "outlinewidth": 0,
              "ticks": ""
             }
            },
            "type": "scatterternary"
           }
          ],
          "surface": [
           {
            "colorbar": {
             "outlinewidth": 0,
             "ticks": ""
            },
            "colorscale": [
             [
              0,
              "#0d0887"
             ],
             [
              0.1111111111111111,
              "#46039f"
             ],
             [
              0.2222222222222222,
              "#7201a8"
             ],
             [
              0.3333333333333333,
              "#9c179e"
             ],
             [
              0.4444444444444444,
              "#bd3786"
             ],
             [
              0.5555555555555556,
              "#d8576b"
             ],
             [
              0.6666666666666666,
              "#ed7953"
             ],
             [
              0.7777777777777778,
              "#fb9f3a"
             ],
             [
              0.8888888888888888,
              "#fdca26"
             ],
             [
              1,
              "#f0f921"
             ]
            ],
            "type": "surface"
           }
          ],
          "table": [
           {
            "cells": {
             "fill": {
              "color": "#EBF0F8"
             },
             "line": {
              "color": "white"
             }
            },
            "header": {
             "fill": {
              "color": "#C8D4E3"
             },
             "line": {
              "color": "white"
             }
            },
            "type": "table"
           }
          ]
         },
         "layout": {
          "annotationdefaults": {
           "arrowcolor": "#2a3f5f",
           "arrowhead": 0,
           "arrowwidth": 1
          },
          "coloraxis": {
           "colorbar": {
            "outlinewidth": 0,
            "ticks": ""
           }
          },
          "colorscale": {
           "diverging": [
            [
             0,
             "#8e0152"
            ],
            [
             0.1,
             "#c51b7d"
            ],
            [
             0.2,
             "#de77ae"
            ],
            [
             0.3,
             "#f1b6da"
            ],
            [
             0.4,
             "#fde0ef"
            ],
            [
             0.5,
             "#f7f7f7"
            ],
            [
             0.6,
             "#e6f5d0"
            ],
            [
             0.7,
             "#b8e186"
            ],
            [
             0.8,
             "#7fbc41"
            ],
            [
             0.9,
             "#4d9221"
            ],
            [
             1,
             "#276419"
            ]
           ],
           "sequential": [
            [
             0,
             "#0d0887"
            ],
            [
             0.1111111111111111,
             "#46039f"
            ],
            [
             0.2222222222222222,
             "#7201a8"
            ],
            [
             0.3333333333333333,
             "#9c179e"
            ],
            [
             0.4444444444444444,
             "#bd3786"
            ],
            [
             0.5555555555555556,
             "#d8576b"
            ],
            [
             0.6666666666666666,
             "#ed7953"
            ],
            [
             0.7777777777777778,
             "#fb9f3a"
            ],
            [
             0.8888888888888888,
             "#fdca26"
            ],
            [
             1,
             "#f0f921"
            ]
           ],
           "sequentialminus": [
            [
             0,
             "#0d0887"
            ],
            [
             0.1111111111111111,
             "#46039f"
            ],
            [
             0.2222222222222222,
             "#7201a8"
            ],
            [
             0.3333333333333333,
             "#9c179e"
            ],
            [
             0.4444444444444444,
             "#bd3786"
            ],
            [
             0.5555555555555556,
             "#d8576b"
            ],
            [
             0.6666666666666666,
             "#ed7953"
            ],
            [
             0.7777777777777778,
             "#fb9f3a"
            ],
            [
             0.8888888888888888,
             "#fdca26"
            ],
            [
             1,
             "#f0f921"
            ]
           ]
          },
          "colorway": [
           "#636efa",
           "#EF553B",
           "#00cc96",
           "#ab63fa",
           "#FFA15A",
           "#19d3f3",
           "#FF6692",
           "#B6E880",
           "#FF97FF",
           "#FECB52"
          ],
          "font": {
           "color": "#2a3f5f"
          },
          "geo": {
           "bgcolor": "white",
           "lakecolor": "white",
           "landcolor": "#E5ECF6",
           "showlakes": true,
           "showland": true,
           "subunitcolor": "white"
          },
          "hoverlabel": {
           "align": "left"
          },
          "hovermode": "closest",
          "mapbox": {
           "style": "light"
          },
          "paper_bgcolor": "white",
          "plot_bgcolor": "#E5ECF6",
          "polar": {
           "angularaxis": {
            "gridcolor": "white",
            "linecolor": "white",
            "ticks": ""
           },
           "bgcolor": "#E5ECF6",
           "radialaxis": {
            "gridcolor": "white",
            "linecolor": "white",
            "ticks": ""
           }
          },
          "scene": {
           "xaxis": {
            "backgroundcolor": "#E5ECF6",
            "gridcolor": "white",
            "gridwidth": 2,
            "linecolor": "white",
            "showbackground": true,
            "ticks": "",
            "zerolinecolor": "white"
           },
           "yaxis": {
            "backgroundcolor": "#E5ECF6",
            "gridcolor": "white",
            "gridwidth": 2,
            "linecolor": "white",
            "showbackground": true,
            "ticks": "",
            "zerolinecolor": "white"
           },
           "zaxis": {
            "backgroundcolor": "#E5ECF6",
            "gridcolor": "white",
            "gridwidth": 2,
            "linecolor": "white",
            "showbackground": true,
            "ticks": "",
            "zerolinecolor": "white"
           }
          },
          "shapedefaults": {
           "line": {
            "color": "#2a3f5f"
           }
          },
          "ternary": {
           "aaxis": {
            "gridcolor": "white",
            "linecolor": "white",
            "ticks": ""
           },
           "baxis": {
            "gridcolor": "white",
            "linecolor": "white",
            "ticks": ""
           },
           "bgcolor": "#E5ECF6",
           "caxis": {
            "gridcolor": "white",
            "linecolor": "white",
            "ticks": ""
           }
          },
          "title": {
           "x": 0.05
          },
          "xaxis": {
           "automargin": true,
           "gridcolor": "white",
           "linecolor": "white",
           "ticks": "",
           "title": {
            "standoff": 15
           },
           "zerolinecolor": "white",
           "zerolinewidth": 2
          },
          "yaxis": {
           "automargin": true,
           "gridcolor": "white",
           "linecolor": "white",
           "ticks": "",
           "title": {
            "standoff": 15
           },
           "zerolinecolor": "white",
           "zerolinewidth": 2
          }
         }
        },
        "xaxis": {
         "anchor": "y",
         "domain": [
          0,
          1
         ],
         "title": {
          "text": "Followers"
         }
        },
        "yaxis": {
         "anchor": "x",
         "domain": [
          0,
          1
         ],
         "title": {
          "text": "Income Change"
         }
        }
       }
      },
      "text/html": [
       "<div>\n",
       "        \n",
       "        \n",
       "            <div id=\"14306bf4-c421-4cad-a018-a990e6ed62c0\" class=\"plotly-graph-div\" style=\"height:525px; width:100%;\"></div>\n",
       "            <script type=\"text/javascript\">\n",
       "                require([\"plotly\"], function(Plotly) {\n",
       "                    window.PLOTLYENV=window.PLOTLYENV || {};\n",
       "                    \n",
       "                if (document.getElementById(\"14306bf4-c421-4cad-a018-a990e6ed62c0\")) {\n",
       "                    Plotly.newPlot(\n",
       "                        '14306bf4-c421-4cad-a018-a990e6ed62c0',\n",
       "                        [{\"hovertemplate\": \"Followers=%{x}<br>Income Change=%{y}<extra></extra>\", \"legendgroup\": \"\", \"marker\": {\"color\": \"#636efa\", \"symbol\": \"circle\"}, \"mode\": \"markers\", \"name\": \"\", \"orientation\": \"v\", \"showlegend\": false, \"type\": \"scatter\", \"x\": [770090, 770090, 770090, 767646, 767646, 770084, 767646, 767646, 767646, 767646, 767646, 767646, 767646, 767646, 767646, 767646, 770090, 680321, 680321, 680321, 678078, 678078, 680321, 678078, 678078, 678078, 678078, 678078, 678078, 678078, 678078, 678078, 678078, 2382256, 2382256, 2382256, 2355070, 2355070, 2382256, 2355070, 2355070, 2355070, 2355070, 2355070, 2355070, 2355070, 2355070, 2382256, 1242149, 1242149, 1242149, 1241282, 1241282, 1242149, 1241292, 1241292, 1241292, 1241292, 1241292, 1241292, 1241292, 1241292, 1241282, 1241284, 1242149, 4419917, 4419917, 4419917, 4377168, 4377168, 4377168, 4377168, 4377168, 4377168, 4377168, 4377168, 4377168, 4377168, 4377168, 4377168, 4419917, 4013430, 4013430, 4013430, 3987941, 3987941, 4013430, 3987941, 3987941, 3987941, 3988461, 3988461, 3987941, 3988461, 3987941, 3987941, 4013430, 1184328, 1184328, 1176644, 1176725, 1176725, 1176725, 1176725, 1176783, 1176783, 1176725, 1176783, 1176644, 2338353, 2338353, 2338353, 2316557, 2316557, 2338259, 2316625, 2316625, 2316625, 2316668, 2316668, 2316625, 2316668, 2316557, 2316537, 2338353, 2622314, 2622314, 2622314, 2617338, 2617338, 2622314, 2617338, 2617338, 2617338, 2617338, 2617338, 2617338, 2617338, 2617338, 2617338, 2617338, 2622314, 414914, 414914, 419546, 414931, 414931, 414931, 414931, 414951, 414951, 414931, 414951, 414914, 414904, 419546, 895999, 895999, 895999, 892743, 892743, 895999, 892743, 892743, 892743, 892743, 892743, 892743, 892743, 892743, 892743, 892743, 895999, 2720700, 2720700, 2720700, 2631571, 2631571, 2720700, 2631571, 2631571, 2631571, 2631571, 2631571, 2631571, 2631571, 2631571, 2631571, 2631571, 2720700, 3646527, 3646527, 3646527, 3578888, 3578888, 3646527, 3578888, 3578888, 3578888, 3578888, 3578888, 3578888, 3578888, 3578888, 3578888, 3578888, 3646527, 371337, 371337, 366923, 366923, 371332, 366923, 366923, 366923, 366923, 366923, 366923, 366923, 366923, 366923, 366923, 371337, 499439, 499439, 499435, 499436, 961250, 976718, 961250, 961250, 961250, 961250, 961250, 961250, 961250, 961250, 961250, 976718, 8484459, 8484459, 8484459, 8361504, 8361504, 8484459, 8362079, 8362079, 8362079, 8362079, 8362570, 8362570, 8362079, 8362570, 8361504, 8361164, 8484459, 4934549, 4934549, 4934549, 4877453, 4877453, 4934399, 4877453, 4877453, 4877453, 4877453, 4877453, 4877453, 4877453, 4877453, 4877453, 4877453, 4934549, 639975, 639975, 639975, 639975, 639975, 639975, 639975, 639975, 639975, 417819, 419390, 417819, 417819, 417819, 417819, 417813, 417813, 417819, 417813, 417819, 419390, 1834872, 1834872, 1834872, 1770882, 1770882, 1834872, 1770882, 1770882, 1770882, 1770882, 1770882, 1770882, 1770882, 1770882, 1713958, 1692192, 1692334, 1692334, 1692334, 1692491, 1692491, 1692334, 1692491, 1692192, 1692105, 1713958, 3078846, 3078846, 3078846, 2986143, 2986143, 3078846, 2986143, 2986143, 2986143, 2986143, 2986143, 2986143, 2986143, 2986143, 2986143, 3078846, 4403783, 4403783, 4403783, 4386970, 4386970, 4403783, 4386970, 4386970, 4386970, 4386970, 4386970, 4386970, 4386970, 4386970, 284261, 284261, 288802, 284266, 284266, 284272, 284272, 284266, 284272, 284261, 284256, 288802, 1292018, 1292018, 1292018, 1286027, 1286027, 1292018, 1286027, 1286027, 1286027, 1286027, 1286027, 1286027, 1286027, 1286027, 1286027, 1479698, 1479741, 1479741, 1479698, 1479741, 1479638, 1479593, 1580528, 478229, 478229, 478229, 476111, 476111, 478229, 476111, 476111, 476111, 476111, 476111, 476111, 476111, 476111, 476111, 476111, 478229, 871442, 871442, 871442, 871442, 3368407, 3368407, 3239365, 3239365, 3239365, 3239365, 3239365, 3239365, 3239365, 3239365, 3239365, 3239365, 3239365, 3239365, 1374459, 1374459, 1374459, 1372592, 1372592, 1374459, 1372575, 1372575, 1372575, 1372575, 1372565, 1372565, 1372575, 1372565, 1372592, 1372592, 1374459, 565549, 565549, 565549, 563673, 563673, 565549, 563673, 563673, 563673, 563673, 563673, 563673, 563673, 563673, 563673, 565549, 2729787, 2729787, 2729787, 2724967, 2724967, 2729787, 2724967, 2724967, 2724967, 2724967, 2724967, 2724967, 2724967, 2724967, 2724967, 2729787, 5353842, 5353842, 5353842, 5343316, 5343316, 5353842, 5343349, 5343349, 5343349, 5343349, 5343398, 5343398, 5343349, 5343398, 5343316, 5343305, 5353842, 3042292, 3042292, 3042292, 2995553, 2995553, 3042292, 2995553, 2995553, 2995553, 2995553, 2995553, 2995553, 2995553, 2995553, 2995553, 2995553, 3042292], \"xaxis\": \"x\", \"y\": [-36295.11, -7912.099999999991, -21266.29999999999, -57068.869999999995, -24214.5, -51934.17999999999, -39877.399999999994, -61972.53999999999, -26313.62999999999, -44781.73999999999, -58999.439999999995, -23594.11, -57707.59, -55145.719999999994, -53429.7, -51628.149999999994, -51658.869999999995, -519.1900000000005, 4253.68, -967.8400000000001, 843.8199999999997, 359.7600000000002, 3344.9500000000007, 4098.24, 2471.039999999999, 2770.4500000000007, 3308.74, 3195.0499999999993, 2252.289999999999, 2831.7199999999993, 4927.289999999999, 8830.89, 11124.369999999999, 4950.549999999999, 2336.029999999999, 3608.2700000000004, -274.3999999999978, 5469.41, 4816.23, 19811.210000000003, 24202.100000000002, 26118.3, 13912.560000000001, 33663.68000000001, 29532.680000000004, 48937.5, 19131.780000000002, 20809.350000000002, -20056.75, -12146.409999999996, -22381.5, -14806.220000000001, -21393.39, -13623.189999999995, -13739.54, -19612.979999999996, -13600.329999999994, -24379.18, -14643.29, 6431.939999999995, -16045.150000000001, -20643.71, -19782.85, -36547.119999999995, -9944.449999999997, 3036.010000000002, 27360.629999999997, -115.19999999999709, 1995.2699999999968, 6881.5999999999985, 36132.579999999994, 33412.74, 18706.590000000004, 19111.050000000003, 4029.980000000003, 12244.330000000002, 8346.730000000003, 11799.739999999998, 23431.46, 34015.60999999999, 29200.140000000007, -446.90000000000873, 28996.050000000003, 1263.4700000000012, -9430.530000000006, -12155.75, -4303.770000000004, -4959.610000000001, -12687.310000000005, -4406.530000000006, -20837.83, -12380.570000000007, 5661.619999999995, -14823.380000000005, -7580.040000000001, 17915.410000000003, -6802.340000000004, 4875.610000000001, -4061.8499999999985, -3363.1399999999994, -1007.8099999999977, -4501.09, -5619.0599999999995, -279.369999999999, 2754.7999999999993, 8408.350000000002, 3448.3899999999994, -1427.1800000000003, -783.489999999998, 1517.42, 15693.98, 5456.07, 928.4000000000015, 1277.2400000000016, 3264.460000000001, 663.710000000001, 10559.060000000001, 7137.4000000000015, 1810.1500000000015, 3054.540000000001, 1011.0300000000007, 1804.6599999999999, 2269.2300000000014, 13787.59, -263.40999999999985, 1212.579999999998, 15804.36, 11068.059999999998, 134.79000000000087, -4591.1500000000015, -3233.6800000000003, -7295.810000000001, -3892.59, -5095.850000000002, 10184.269999999997, -5719.200000000001, -2699.8199999999997, -5374.830000000002, -6906.510000000002, -4910.580000000002, -6532.330000000002, 12714.169999999998, 12032.19, 11131.859999999999, 11917.679999999998, 15724.53, 11941.31, 30428.03, 18630.270000000004, 16006.539999999999, 19451.239999999998, 18561.04, 18192.660000000003, 19441.590000000004, 27606.200000000004, 31449.11, -4417.790000000001, 23043.390000000007, -2948.25, -1913.3600000000006, 1052.4100000000035, 170.34999999999854, 2119.8499999999985, -2652.0999999999985, -3336.979999999996, -8826.68, -8358.580000000002, -8588.21, -8489.379999999997, -10045.220000000001, -3992.290000000001, -16262.89, -4911.0, -149.20999999999913, -3822.0600000000013, -9405.539999999999, -10982.83, -4869.450000000001, -9251.06, -4914.509999999998, 10445.400000000001, 35480.55, 2535.9000000000015, 184.97000000000116, 3363.6100000000006, 8334.009999999998, 4541.4000000000015, 16572.55, 13278.84, 25274.859999999997, 47799.56, 40211.83, -17968.109999999986, -31031.87999999999, 11129.950000000012, 5192.320000000007, 21058.37000000001, 7284.25, -19897.979999999996, 15433.550000000003, -18150.39, -3426.5099999999948, 206.2100000000064, 7384.330000000002, 28186.880000000005, 63964.5, 37071.68000000001, 5855.769999999999, 3798.6100000000006, 963.710000000001, 3230.290000000001, 1011.7800000000007, 1569.5, -718.5, 1322.1499999999996, 7207.840000000002, 3937.6900000000005, 4942.359999999999, 6850.219999999999, 5506.210000000001, 6464.789999999999, 11317.35, 6709.99, -3497.9900000000002, -2260.4700000000003, -2829.3300000000004, -2420.1500000000005, -514.31, -713.8900000000001, -324.19000000000005, -1382.6100000000001, -698.72, 11417.36, 5683.35, 6651.59, 229.23999999999978, 8058.49, 4555.55, 4964.8, 37922.65000000001, 10875.0, -886.7599999999948, -5483.659999999996, 5707.340000000004, 4782.460000000006, 639.2700000000041, -7350.32, -23209.609999999997, 2326.9900000000052, -19989.839999999997, -16436.019999999997, -4679.0, -14302.059999999998, -7240.309999999998, -3848.209999999999, 18289.48000000001, 21150.430000000008, 19350.53, 4512.419999999998, -12627.979999999996, -6160.1500000000015, -17315.519999999997, -15879.32, -14591.0, -25805.869999999995, -18094.729999999996, -32777.82, -15360.619999999995, -26774.71, -25526.47, -14953.309999999998, 21715.320000000007, -6295.199999999997, 3228.1899999999987, 2988.790000000001, 4775.240000000002, 13074.059999999998, 12110.529999999999, 23562.86, 16162.64, 15977.779999999999, 35588.17, 22018.679999999997, 16267.630000000001, -6059.32, 1737.9999999999964, 7283.48, -683.6800000000003, -8728.48, -418.8700000000026, -1209.2900000000009, -1486.8899999999994, 16386.399999999998, 10537.439999999999, 3528.0300000000007, 1703.9300000000003, 6415.83, -573.3899999999994, -738.0799999999999, 627.7000000000007, 2384.620000000001, 763.2700000000004, 9201.44, 4690.48, 1731.6900000000005, -1362.4899999999998, 2389.870000000001, 9841.4, 259.50999999999976, 768.44, -753.6100000000001, 1516.85, -289.5400000000002, 2080.72, 1077.7199999999998, 942.9899999999998, -124.85000000000014, 74.75999999999999, -119.84000000000015, -369.3900000000001, -639.9399999999996, 1956.4000000000005, -2057.8599999999997, -690.6399999999994, -1574.37, -2117.4799999999996, -574.4699999999993, 756.3000000000002, 1360.5299999999997, -780.5199999999995, -316.02999999999975, -695.71, -2867.04, -2058.5599999999995, -1948.8399999999992, -2992.6899999999996, -18933.449999999997, -20055.369999999995, -22402.079999999998, -20155.489999999998, -19866.1, -20066.249999999996, -7740.789999999994, -7052.219999999994, -15685.639999999996, -17935.709999999995, -21164.889999999996, -15934.679999999997, -17007.78, -16938.069999999996, -4313.22, -4902.96, -4393.46, -4818.02, -4798.04, -4618.0, -4458.16, -4753.09, -4863.05, -4823.14, -4668.36, -4708.27, -2969.2700000000004, 6567.0, -1697.3199999999997, -6148.740000000002, -4317.5, -4746.639999999999, -7122.209999999999, -8339.720000000001, -5300.630000000001, -7815.810000000001, -10225.880000000001, -7032.369999999999, -7581.170000000002, -10166.11, -11887.82, 34.959999999999994, 19.97999999999999, 5.0, 0.009999999999990905, 14.97999999999999, 34.97, -9.969999999999999, -74.87, -683.4699999999993, 6176.67, 1079.1200000000008, -204.17000000000007, 519.7399999999998, -13.549999999999272, -673.9500000000007, -5292.08, 607.4799999999996, 503.4300000000003, -4509.63, -345.9500000000007, -3141.6100000000006, -2292.8500000000004, -6446.73, -3795.6000000000004, -5164.39, 0.0, 19.96, -29.95, -24.96, 9527.220000000001, 12375.82, 6627.340000000001, 6941.410000000001, 6886.55, 4241.62, 6866.320000000001, 8573.150000000001, 7375.61, 5698.81, 9701.04, 15249.870000000003, 13747.93, 3677.670000000001, -853.25, 2410.29, -1097.7599999999998, -918.06, -1446.5499999999997, -1975.9899999999998, -1471.9799999999996, -1731.54, -1237.4299999999998, -1701.6999999999998, -1841.33, -1422.27, -958.1099999999997, -878.1899999999996, 354.3000000000002, 6049.780000000001, 1956.37, 953.0099999999984, 13443.149999999998, 2374.2999999999993, -362.8199999999997, 1295.5599999999977, 225.77999999999884, -1457.1100000000006, -14536.800000000001, 1526.630000000001, 679.489999999998, -3021.880000000001, -3287.4500000000007, -2441.9400000000023, -4314.290000000001, -4778.959999999999, -2484.66, -12430.900000000001, 7739.82, 11012.46, -11058.870000000003, -7225.940000000002, -19786.58, -9017.940000000002, -11932.2, -23045.300000000003, -13913.080000000002, -23494.260000000002, -17825.65, -17106.920000000002, -17959.97, -20105.870000000003, -15474.940000000002, 11265.260000000002, 2834.9300000000003, 2202.989999999998, -6505.0899999999965, -17664.17, -30825.15, -17646.309999999998, -18036.050000000003, -25142.010000000002, -21818.519999999997, -28879.95, -19582.730000000003, -8853.589999999997, -1528.3099999999977, 5472.810000000005, 85172.69999999998, 26478.799999999996, 2799.6700000000055, 5111.040000000001, -3617.8600000000006, -5574.4699999999975, -2699.3899999999994, 1297.3300000000017, 10084.530000000006, 5823.310000000005, 27484.61, 16247.410000000003, 13517.690000000002, 21826.270000000004, 12619.510000000002, 21341.36, 16720.910000000003, 35678.73, 35882.76], \"yaxis\": \"y\"}, {\"hovertemplate\": \"<b>OLS trendline</b><br>Income Change = 0.000216875 * Followers + -882.374<br>R<sup>2</sup>=0.000636<br><br>Followers=%{x}<br>Income Change=%{y} <b>(trend)</b><extra></extra>\", \"legendgroup\": \"\", \"marker\": {\"color\": \"#636efa\", \"symbol\": \"circle\"}, \"mode\": \"lines\", \"name\": \"\", \"showlegend\": false, \"type\": \"scatter\", \"x\": [284256, 284261, 284261, 284261, 284266, 284266, 284266, 284272, 284272, 284272, 288802, 288802, 366923, 366923, 366923, 366923, 366923, 366923, 366923, 366923, 366923, 366923, 366923, 366923, 371332, 371337, 371337, 371337, 414904, 414914, 414914, 414914, 414931, 414931, 414931, 414931, 414931, 414951, 414951, 414951, 417813, 417813, 417813, 417819, 417819, 417819, 417819, 417819, 417819, 417819, 419390, 419390, 419546, 419546, 476111, 476111, 476111, 476111, 476111, 476111, 476111, 476111, 476111, 476111, 476111, 476111, 478229, 478229, 478229, 478229, 478229, 499435, 499436, 499439, 499439, 563673, 563673, 563673, 563673, 563673, 563673, 563673, 563673, 563673, 563673, 563673, 565549, 565549, 565549, 565549, 565549, 639975, 639975, 639975, 639975, 639975, 639975, 639975, 639975, 639975, 678078, 678078, 678078, 678078, 678078, 678078, 678078, 678078, 678078, 678078, 678078, 678078, 680321, 680321, 680321, 680321, 767646, 767646, 767646, 767646, 767646, 767646, 767646, 767646, 767646, 767646, 767646, 767646, 770084, 770090, 770090, 770090, 770090, 871442, 871442, 871442, 871442, 892743, 892743, 892743, 892743, 892743, 892743, 892743, 892743, 892743, 892743, 892743, 892743, 895999, 895999, 895999, 895999, 895999, 961250, 961250, 961250, 961250, 961250, 961250, 961250, 961250, 961250, 961250, 976718, 976718, 1176644, 1176644, 1176725, 1176725, 1176725, 1176725, 1176725, 1176783, 1176783, 1176783, 1184328, 1184328, 1241282, 1241282, 1241282, 1241284, 1241292, 1241292, 1241292, 1241292, 1241292, 1241292, 1241292, 1241292, 1242149, 1242149, 1242149, 1242149, 1242149, 1286027, 1286027, 1286027, 1286027, 1286027, 1286027, 1286027, 1286027, 1286027, 1286027, 1286027, 1292018, 1292018, 1292018, 1292018, 1372565, 1372565, 1372565, 1372575, 1372575, 1372575, 1372575, 1372575, 1372592, 1372592, 1372592, 1372592, 1374459, 1374459, 1374459, 1374459, 1374459, 1479593, 1479638, 1479698, 1479698, 1479741, 1479741, 1479741, 1580528, 1692105, 1692192, 1692192, 1692334, 1692334, 1692334, 1692334, 1692491, 1692491, 1692491, 1713958, 1713958, 1770882, 1770882, 1770882, 1770882, 1770882, 1770882, 1770882, 1770882, 1770882, 1770882, 1834872, 1834872, 1834872, 1834872, 2316537, 2316557, 2316557, 2316557, 2316625, 2316625, 2316625, 2316625, 2316668, 2316668, 2316668, 2338259, 2338353, 2338353, 2338353, 2338353, 2355070, 2355070, 2355070, 2355070, 2355070, 2355070, 2355070, 2355070, 2355070, 2355070, 2382256, 2382256, 2382256, 2382256, 2382256, 2617338, 2617338, 2617338, 2617338, 2617338, 2617338, 2617338, 2617338, 2617338, 2617338, 2617338, 2617338, 2622314, 2622314, 2622314, 2622314, 2622314, 2631571, 2631571, 2631571, 2631571, 2631571, 2631571, 2631571, 2631571, 2631571, 2631571, 2631571, 2631571, 2720700, 2720700, 2720700, 2720700, 2720700, 2724967, 2724967, 2724967, 2724967, 2724967, 2724967, 2724967, 2724967, 2724967, 2724967, 2724967, 2729787, 2729787, 2729787, 2729787, 2729787, 2986143, 2986143, 2986143, 2986143, 2986143, 2986143, 2986143, 2986143, 2986143, 2986143, 2986143, 2995553, 2995553, 2995553, 2995553, 2995553, 2995553, 2995553, 2995553, 2995553, 2995553, 2995553, 2995553, 3042292, 3042292, 3042292, 3042292, 3042292, 3078846, 3078846, 3078846, 3078846, 3078846, 3239365, 3239365, 3239365, 3239365, 3239365, 3239365, 3239365, 3239365, 3239365, 3239365, 3239365, 3239365, 3368407, 3368407, 3578888, 3578888, 3578888, 3578888, 3578888, 3578888, 3578888, 3578888, 3578888, 3578888, 3578888, 3578888, 3646527, 3646527, 3646527, 3646527, 3646527, 3987941, 3987941, 3987941, 3987941, 3987941, 3987941, 3987941, 3987941, 3988461, 3988461, 3988461, 4013430, 4013430, 4013430, 4013430, 4013430, 4377168, 4377168, 4377168, 4377168, 4377168, 4377168, 4377168, 4377168, 4377168, 4377168, 4377168, 4377168, 4386970, 4386970, 4386970, 4386970, 4386970, 4386970, 4386970, 4386970, 4386970, 4386970, 4403783, 4403783, 4403783, 4403783, 4419917, 4419917, 4419917, 4419917, 4877453, 4877453, 4877453, 4877453, 4877453, 4877453, 4877453, 4877453, 4877453, 4877453, 4877453, 4877453, 4934399, 4934549, 4934549, 4934549, 4934549, 5343305, 5343316, 5343316, 5343316, 5343349, 5343349, 5343349, 5343349, 5343349, 5343398, 5343398, 5343398, 5353842, 5353842, 5353842, 5353842, 5353842, 8361164, 8361504, 8361504, 8361504, 8362079, 8362079, 8362079, 8362079, 8362079, 8362570, 8362570, 8362570, 8484459, 8484459, 8484459, 8484459, 8484459], \"xaxis\": \"x\", \"y\": [-820.7262335923849, -820.7251492184593, -820.7251492184593, -820.7251492184593, -820.7240648445336, -820.7240648445336, -820.7240648445336, -820.7227635958227, -820.7227635958227, -820.7227635958227, -819.7403208191313, -819.7403208191313, -802.7978457290839, -802.7978457290839, -802.7978457290839, -802.7978457290839, -802.7978457290839, -802.7978457290839, -802.7978457290839, -802.7978457290839, -802.7978457290839, -802.7978457290839, -802.7978457290839, -802.7978457290839, -801.8416448013945, -801.8405604274687, -801.8405604274687, -801.8405604274687, -792.3919766632044, -792.389807915353, -792.389807915353, -792.389807915353, -792.3861210440057, -792.3861210440057, -792.3861210440057, -792.3861210440057, -792.3861210440057, -792.3817835483028, -792.3817835483028, -792.3817835483028, -791.7610879132275, -791.7610879132275, -791.7610879132275, -791.7597866645167, -791.7597866645167, -791.7597866645167, -791.7597866645167, -791.7597866645167, -791.7597866645167, -791.7597866645167, -791.4190763770592, -791.4190763770592, -791.3852439105771, -791.3852439105771, -779.1177216890421, -779.1177216890421, -779.1177216890421, -779.1177216890421, -779.1177216890421, -779.1177216890421, -779.1177216890421, -779.1177216890421, -779.1177216890421, -779.1177216890421, -779.1177216890421, -779.1177216890421, -778.6583808941123, -778.6583808941123, -778.6583808941123, -778.6583808941123, -778.6583808941123, -774.0593342003993, -774.0591173256142, -774.0584667012588, -774.0584667012588, -760.1277317524729, -760.1277317524729, -760.1277317524729, -760.1277317524729, -760.1277317524729, -760.1277317524729, -760.1277317524729, -760.1277317524729, -760.1277317524729, -760.1277317524729, -760.1277317524729, -759.7208746555473, -759.7208746555473, -759.7208746555473, -759.7208746555473, -759.7208746555473, -743.579751896598, -743.579751896598, -743.579751896598, -743.579751896598, -743.579751896598, -743.579751896598, -743.579751896598, -743.579751896598, -743.579751896598, -735.3161719583475, -735.3161719583475, -735.3161719583475, -735.3161719583475, -735.3161719583475, -735.3161719583475, -735.3161719583475, -735.3161719583475, -735.3161719583475, -735.3161719583475, -735.3161719583475, -735.3161719583475, -734.8297218152749, -734.8297218152749, -734.8297218152749, -734.8297218152749, -715.8911312027841, -715.8911312027841, -715.8911312027841, -715.8911312027841, -715.8911312027841, -715.8911312027841, -715.8911312027841, -715.8911312027841, -715.8911312027841, -715.8911312027841, -715.8911312027841, -715.8911312027841, -715.3623904766089, -715.361089227898, -715.361089227898, -715.361089227898, -715.361089227898, -693.380396004226, -693.380396004226, -693.380396004226, -693.380396004226, -688.7607462059246, -688.7607462059246, -688.7607462059246, -688.7607462059246, -688.7607462059246, -688.7607462059246, -688.7607462059246, -688.7607462059246, -688.7607462059246, -688.7607462059246, -688.7607462059246, -688.7607462059246, -688.0546019055035, -688.0546019055035, -688.0546019055035, -688.0546019055035, -688.0546019055035, -673.9033053002286, -673.9033053002286, -673.9033053002286, -673.9033053002286, -673.9033053002286, -673.9033053002286, -673.9033053002286, -673.9033053002286, -673.9033053002286, -673.9033053002286, -670.5486861236583, -670.5486861236583, -627.1897778294376, -627.1897778294376, -627.1722109718411, -627.1722109718411, -627.1722109718411, -627.1722109718411, -627.1722109718411, -627.1596322343029, -627.1596322343029, -627.1596322343029, -625.5233119804095, -625.5233119804095, -613.1714254674544, -613.1714254674544, -613.1714254674544, -613.1709917178841, -613.169256719603, -613.169256719603, -613.169256719603, -613.169256719603, -613.169256719603, -613.169256719603, -613.169256719603, -613.169256719603, -612.9833950287366, -612.9833950287366, -612.9833950287366, -612.9833950287366, -612.9833950287366, -603.4673632062933, -603.4673632062933, -603.4673632062933, -603.4673632062933, -603.4673632062933, -603.4673632062933, -603.4673632062933, -603.4673632062933, -603.4673632062933, -603.4673632062933, -603.4673632062933, -602.1680663685099, -602.1680663685099, -602.1680663685099, -602.1680663685099, -584.6994530497091, -584.6994530497091, -584.6994530497091, -584.6972843018575, -584.6972843018575, -584.6972843018575, -584.6972843018575, -584.6972843018575, -584.6935974305102, -584.6935974305102, -584.6935974305102, -584.6935974305102, -584.2886922066508, -584.2886922066508, -584.2886922066508, -584.2886922066508, -584.2886922066508, -561.4877785455732, -561.4780191802417, -561.4650066931333, -561.4650066931333, -561.4556810773722, -561.4556810773722, -561.4556810773722, -539.5975221073052, -515.3992842055602, -515.3804160992529, -515.3804160992529, -515.3496198797628, -515.3496198797628, -515.3496198797628, -515.3496198797628, -515.3155705384956, -515.3155705384956, -515.3155705384956, -510.65991952586074, -510.65991952586074, -498.31453925645997, -498.31453925645997, -498.31453925645997, -498.31453925645997, -498.31453925645997, -498.31453925645997, -498.31453925645997, -498.31453925645997, -498.31453925645997, -498.31453925645997, -484.4367217552486, -484.4367217552486, -484.4367217552486, -484.4367217552486, -379.975728370017, -379.9713908743141, -379.9713908743141, -379.9713908743141, -379.95664338892453, -379.95664338892453, -379.95664338892453, -379.95664338892453, -379.94731777316343, -379.94731777316343, -379.94731777316343, -375.264774287171, -375.2443880573677, -375.2443880573677, -375.2443880573677, -375.2443880573677, -371.6188922741555, -371.6188922741555, -371.6188922741555, -371.6188922741555, -371.6188922741555, -371.6188922741555, -371.6188922741555, -371.6188922741555, -371.6188922741555, -371.6188922741555, -365.7229343652958, -365.7229343652958, -365.7229343652958, -365.7229343652958, -365.7229343652958, -314.73957612463676, -314.73957612463676, -314.73957612463676, -314.73957612463676, -314.73957612463676, -314.73957612463676, -314.73957612463676, -314.73957612463676, -314.73957612463676, -314.73957612463676, -314.73957612463676, -314.73957612463676, -313.66040719377213, -313.66040719377213, -313.66040719377213, -313.66040719377213, -313.66040719377213, -311.65279730771636, -311.65279730771636, -311.65279730771636, -311.65279730771636, -311.65279730771636, -311.65279730771636, -311.65279730771636, -311.65279730771636, -311.65279730771636, -311.65279730771636, -311.65279730771636, -311.65279730771636, -292.3229645828301, -292.3229645828301, -292.3229645828301, -292.3229645828301, -292.3229645828301, -291.39755987463093, -291.39755987463093, -291.39755987463093, -291.39755987463093, -291.39755987463093, -291.39755987463093, -291.39755987463093, -291.39755987463093, -291.39755987463093, -291.39755987463093, -291.39755987463093, -290.35222341024837, -290.35222341024837, -290.35222341024837, -290.35222341024837, -290.35222341024837, -234.75507099048684, -234.75507099048684, -234.75507099048684, -234.75507099048684, -234.75507099048684, -234.75507099048684, -234.75507099048684, -234.75507099048684, -234.75507099048684, -234.75507099048684, -234.75507099048684, -232.71427926230433, -232.71427926230433, -232.71427926230433, -232.71427926230433, -232.71427926230433, -232.71427926230433, -232.71427926230433, -232.71427926230433, -232.71427926230433, -232.71427926230433, -232.71427926230433, -232.71427926230433, -222.5777686795708, -222.5777686795708, -222.5777686795708, -222.5777686795708, -222.5777686795708, -214.65012778350456, -214.65012778350456, -214.65012778350456, -214.65012778350456, -214.65012778350456, -179.83760414735912, -179.83760414735912, -179.83760414735912, -179.83760414735912, -179.83760414735912, -179.83760414735912, -179.83760414735912, -179.83760414735912, -179.83760414735912, -179.83760414735912, -179.83760414735912, -179.83760414735912, -151.85164812311598, -151.85164812311598, -106.20362647172567, -106.20362647172567, -106.20362647172567, -106.20362647172567, -106.20362647172567, -106.20362647172567, -106.20362647172567, -106.20362647172567, -106.20362647172567, -106.20362647172567, -106.20362647172567, -106.20362647172567, -91.53443287953257, -91.53443287953257, -91.53443287953257, -91.53443287953257, -91.53443287953257, -17.490344985196316, -17.490344985196316, -17.490344985196316, -17.490344985196316, -17.490344985196316, -17.490344985196316, -17.490344985196316, -17.490344985196316, -17.377570096922682, -17.377570096922682, -17.377570096922682, -11.962423586721911, -11.962423586721911, -11.962423586721911, -11.962423586721911, -11.962423586721911, 66.92317701111551, 66.92317701111551, 66.92317701111551, 66.92317701111551, 66.92317701111551, 66.92317701111551, 66.92317701111551, 66.92317701111551, 66.92317701111551, 66.92317701111551, 66.92317701111551, 66.92317701111551, 69.04898365507358, 69.04898365507358, 69.04898365507358, 69.04898365507358, 69.04898365507358, 69.04898365507358, 69.04898365507358, 69.04898365507358, 69.04898365507358, 69.04898365507358, 72.69529941765938, 72.69529941765938, 72.69529941765938, 72.69529941765938, 76.19435720113404, 76.19435720113404, 76.19435720113404, 76.19435720113404, 175.42237889568378, 175.42237889568378, 175.42237889568378, 175.42237889568378, 175.42237889568378, 175.42237889568378, 175.42237889568378, 175.42237889568378, 175.42237889568378, 175.42237889568378, 175.42237889568378, 175.42237889568378, 187.77253041035783, 187.8050616281289, 187.8050616281289, 187.8050616281289, 187.8050616281289, 276.45393130347134, 276.4563169261078, 276.4563169261078, 276.4563169261078, 276.46347379401755, 276.46347379401755, 276.46347379401755, 276.46347379401755, 276.46347379401755, 276.4741006584893, 276.4741006584893, 276.4741006584893, 278.7391409145084, 278.7391409145084, 278.7391409145084, 278.7391409145084, 278.7391409145084, 930.9514535161329, 931.025190943081, 931.025190943081, 931.025190943081, 931.1498939445376, 931.1498939445376, 931.1498939445376, 931.1498939445376, 931.1498939445376, 931.2563794640421, 931.2563794640421, 931.2563794640421, 957.6910301501671, 957.6910301501671, 957.6910301501671, 957.6910301501671, 957.6910301501671], \"yaxis\": \"y\"}],\n",
       "                        {\"legend\": {\"tracegroupgap\": 0}, \"margin\": {\"t\": 60}, \"template\": {\"data\": {\"bar\": [{\"error_x\": {\"color\": \"#2a3f5f\"}, \"error_y\": {\"color\": \"#2a3f5f\"}, \"marker\": {\"line\": {\"color\": \"#E5ECF6\", \"width\": 0.5}}, \"type\": \"bar\"}], \"barpolar\": [{\"marker\": {\"line\": {\"color\": \"#E5ECF6\", \"width\": 0.5}}, \"type\": \"barpolar\"}], \"carpet\": [{\"aaxis\": {\"endlinecolor\": \"#2a3f5f\", \"gridcolor\": \"white\", \"linecolor\": \"white\", \"minorgridcolor\": \"white\", \"startlinecolor\": \"#2a3f5f\"}, \"baxis\": {\"endlinecolor\": \"#2a3f5f\", \"gridcolor\": \"white\", \"linecolor\": \"white\", \"minorgridcolor\": \"white\", \"startlinecolor\": \"#2a3f5f\"}, \"type\": \"carpet\"}], \"choropleth\": [{\"colorbar\": {\"outlinewidth\": 0, \"ticks\": \"\"}, \"type\": \"choropleth\"}], \"contour\": [{\"colorbar\": {\"outlinewidth\": 0, \"ticks\": \"\"}, \"colorscale\": [[0.0, \"#0d0887\"], [0.1111111111111111, \"#46039f\"], [0.2222222222222222, \"#7201a8\"], [0.3333333333333333, \"#9c179e\"], [0.4444444444444444, \"#bd3786\"], [0.5555555555555556, \"#d8576b\"], [0.6666666666666666, \"#ed7953\"], [0.7777777777777778, \"#fb9f3a\"], [0.8888888888888888, \"#fdca26\"], [1.0, \"#f0f921\"]], \"type\": \"contour\"}], \"contourcarpet\": [{\"colorbar\": {\"outlinewidth\": 0, \"ticks\": \"\"}, \"type\": \"contourcarpet\"}], \"heatmap\": [{\"colorbar\": {\"outlinewidth\": 0, \"ticks\": \"\"}, \"colorscale\": [[0.0, \"#0d0887\"], [0.1111111111111111, \"#46039f\"], [0.2222222222222222, \"#7201a8\"], [0.3333333333333333, \"#9c179e\"], [0.4444444444444444, \"#bd3786\"], [0.5555555555555556, \"#d8576b\"], [0.6666666666666666, \"#ed7953\"], [0.7777777777777778, \"#fb9f3a\"], [0.8888888888888888, \"#fdca26\"], [1.0, \"#f0f921\"]], \"type\": \"heatmap\"}], \"heatmapgl\": [{\"colorbar\": {\"outlinewidth\": 0, \"ticks\": \"\"}, \"colorscale\": [[0.0, \"#0d0887\"], [0.1111111111111111, \"#46039f\"], [0.2222222222222222, \"#7201a8\"], [0.3333333333333333, \"#9c179e\"], [0.4444444444444444, \"#bd3786\"], [0.5555555555555556, \"#d8576b\"], [0.6666666666666666, \"#ed7953\"], [0.7777777777777778, \"#fb9f3a\"], [0.8888888888888888, \"#fdca26\"], [1.0, \"#f0f921\"]], \"type\": \"heatmapgl\"}], \"histogram\": [{\"marker\": {\"colorbar\": {\"outlinewidth\": 0, \"ticks\": \"\"}}, \"type\": \"histogram\"}], \"histogram2d\": [{\"colorbar\": {\"outlinewidth\": 0, \"ticks\": \"\"}, \"colorscale\": [[0.0, \"#0d0887\"], [0.1111111111111111, \"#46039f\"], [0.2222222222222222, \"#7201a8\"], [0.3333333333333333, \"#9c179e\"], [0.4444444444444444, \"#bd3786\"], [0.5555555555555556, \"#d8576b\"], [0.6666666666666666, \"#ed7953\"], [0.7777777777777778, \"#fb9f3a\"], [0.8888888888888888, \"#fdca26\"], [1.0, \"#f0f921\"]], \"type\": \"histogram2d\"}], \"histogram2dcontour\": [{\"colorbar\": {\"outlinewidth\": 0, \"ticks\": \"\"}, \"colorscale\": [[0.0, \"#0d0887\"], [0.1111111111111111, \"#46039f\"], [0.2222222222222222, \"#7201a8\"], [0.3333333333333333, \"#9c179e\"], [0.4444444444444444, \"#bd3786\"], [0.5555555555555556, \"#d8576b\"], [0.6666666666666666, \"#ed7953\"], [0.7777777777777778, \"#fb9f3a\"], [0.8888888888888888, \"#fdca26\"], [1.0, \"#f0f921\"]], \"type\": \"histogram2dcontour\"}], \"mesh3d\": [{\"colorbar\": {\"outlinewidth\": 0, \"ticks\": \"\"}, \"type\": \"mesh3d\"}], \"parcoords\": [{\"line\": {\"colorbar\": {\"outlinewidth\": 0, \"ticks\": \"\"}}, \"type\": \"parcoords\"}], \"pie\": [{\"automargin\": true, \"type\": \"pie\"}], \"scatter\": [{\"marker\": {\"colorbar\": {\"outlinewidth\": 0, \"ticks\": \"\"}}, \"type\": \"scatter\"}], \"scatter3d\": [{\"line\": {\"colorbar\": {\"outlinewidth\": 0, \"ticks\": \"\"}}, \"marker\": {\"colorbar\": {\"outlinewidth\": 0, \"ticks\": \"\"}}, \"type\": \"scatter3d\"}], \"scattercarpet\": [{\"marker\": {\"colorbar\": {\"outlinewidth\": 0, \"ticks\": \"\"}}, \"type\": \"scattercarpet\"}], \"scattergeo\": [{\"marker\": {\"colorbar\": {\"outlinewidth\": 0, \"ticks\": \"\"}}, \"type\": \"scattergeo\"}], \"scattergl\": [{\"marker\": {\"colorbar\": {\"outlinewidth\": 0, \"ticks\": \"\"}}, \"type\": \"scattergl\"}], \"scattermapbox\": [{\"marker\": {\"colorbar\": {\"outlinewidth\": 0, \"ticks\": \"\"}}, \"type\": \"scattermapbox\"}], \"scatterpolar\": [{\"marker\": {\"colorbar\": {\"outlinewidth\": 0, \"ticks\": \"\"}}, \"type\": \"scatterpolar\"}], \"scatterpolargl\": [{\"marker\": {\"colorbar\": {\"outlinewidth\": 0, \"ticks\": \"\"}}, \"type\": \"scatterpolargl\"}], \"scatterternary\": [{\"marker\": {\"colorbar\": {\"outlinewidth\": 0, \"ticks\": \"\"}}, \"type\": \"scatterternary\"}], \"surface\": [{\"colorbar\": {\"outlinewidth\": 0, \"ticks\": \"\"}, \"colorscale\": [[0.0, \"#0d0887\"], [0.1111111111111111, \"#46039f\"], [0.2222222222222222, \"#7201a8\"], [0.3333333333333333, \"#9c179e\"], [0.4444444444444444, \"#bd3786\"], [0.5555555555555556, \"#d8576b\"], [0.6666666666666666, \"#ed7953\"], [0.7777777777777778, \"#fb9f3a\"], [0.8888888888888888, \"#fdca26\"], [1.0, \"#f0f921\"]], \"type\": \"surface\"}], \"table\": [{\"cells\": {\"fill\": {\"color\": \"#EBF0F8\"}, \"line\": {\"color\": \"white\"}}, \"header\": {\"fill\": {\"color\": \"#C8D4E3\"}, \"line\": {\"color\": \"white\"}}, \"type\": \"table\"}]}, \"layout\": {\"annotationdefaults\": {\"arrowcolor\": \"#2a3f5f\", \"arrowhead\": 0, \"arrowwidth\": 1}, \"coloraxis\": {\"colorbar\": {\"outlinewidth\": 0, \"ticks\": \"\"}}, \"colorscale\": {\"diverging\": [[0, \"#8e0152\"], [0.1, \"#c51b7d\"], [0.2, \"#de77ae\"], [0.3, \"#f1b6da\"], [0.4, \"#fde0ef\"], [0.5, \"#f7f7f7\"], [0.6, \"#e6f5d0\"], [0.7, \"#b8e186\"], [0.8, \"#7fbc41\"], [0.9, \"#4d9221\"], [1, \"#276419\"]], \"sequential\": [[0.0, \"#0d0887\"], [0.1111111111111111, \"#46039f\"], [0.2222222222222222, \"#7201a8\"], [0.3333333333333333, \"#9c179e\"], [0.4444444444444444, \"#bd3786\"], [0.5555555555555556, \"#d8576b\"], [0.6666666666666666, \"#ed7953\"], [0.7777777777777778, \"#fb9f3a\"], [0.8888888888888888, \"#fdca26\"], [1.0, \"#f0f921\"]], \"sequentialminus\": [[0.0, \"#0d0887\"], [0.1111111111111111, \"#46039f\"], [0.2222222222222222, \"#7201a8\"], [0.3333333333333333, \"#9c179e\"], [0.4444444444444444, \"#bd3786\"], [0.5555555555555556, \"#d8576b\"], [0.6666666666666666, \"#ed7953\"], [0.7777777777777778, \"#fb9f3a\"], [0.8888888888888888, \"#fdca26\"], [1.0, \"#f0f921\"]]}, \"colorway\": [\"#636efa\", \"#EF553B\", \"#00cc96\", \"#ab63fa\", \"#FFA15A\", \"#19d3f3\", \"#FF6692\", \"#B6E880\", \"#FF97FF\", \"#FECB52\"], \"font\": {\"color\": \"#2a3f5f\"}, \"geo\": {\"bgcolor\": \"white\", \"lakecolor\": \"white\", \"landcolor\": \"#E5ECF6\", \"showlakes\": true, \"showland\": true, \"subunitcolor\": \"white\"}, \"hoverlabel\": {\"align\": \"left\"}, \"hovermode\": \"closest\", \"mapbox\": {\"style\": \"light\"}, \"paper_bgcolor\": \"white\", \"plot_bgcolor\": \"#E5ECF6\", \"polar\": {\"angularaxis\": {\"gridcolor\": \"white\", \"linecolor\": \"white\", \"ticks\": \"\"}, \"bgcolor\": \"#E5ECF6\", \"radialaxis\": {\"gridcolor\": \"white\", \"linecolor\": \"white\", \"ticks\": \"\"}}, \"scene\": {\"xaxis\": {\"backgroundcolor\": \"#E5ECF6\", \"gridcolor\": \"white\", \"gridwidth\": 2, \"linecolor\": \"white\", \"showbackground\": true, \"ticks\": \"\", \"zerolinecolor\": \"white\"}, \"yaxis\": {\"backgroundcolor\": \"#E5ECF6\", \"gridcolor\": \"white\", \"gridwidth\": 2, \"linecolor\": \"white\", \"showbackground\": true, \"ticks\": \"\", \"zerolinecolor\": \"white\"}, \"zaxis\": {\"backgroundcolor\": \"#E5ECF6\", \"gridcolor\": \"white\", \"gridwidth\": 2, \"linecolor\": \"white\", \"showbackground\": true, \"ticks\": \"\", \"zerolinecolor\": \"white\"}}, \"shapedefaults\": {\"line\": {\"color\": \"#2a3f5f\"}}, \"ternary\": {\"aaxis\": {\"gridcolor\": \"white\", \"linecolor\": \"white\", \"ticks\": \"\"}, \"baxis\": {\"gridcolor\": \"white\", \"linecolor\": \"white\", \"ticks\": \"\"}, \"bgcolor\": \"#E5ECF6\", \"caxis\": {\"gridcolor\": \"white\", \"linecolor\": \"white\", \"ticks\": \"\"}}, \"title\": {\"x\": 0.05}, \"xaxis\": {\"automargin\": true, \"gridcolor\": \"white\", \"linecolor\": \"white\", \"ticks\": \"\", \"title\": {\"standoff\": 15}, \"zerolinecolor\": \"white\", \"zerolinewidth\": 2}, \"yaxis\": {\"automargin\": true, \"gridcolor\": \"white\", \"linecolor\": \"white\", \"ticks\": \"\", \"title\": {\"standoff\": 15}, \"zerolinecolor\": \"white\", \"zerolinewidth\": 2}}}, \"xaxis\": {\"anchor\": \"y\", \"domain\": [0.0, 1.0], \"title\": {\"text\": \"Followers\"}}, \"yaxis\": {\"anchor\": \"x\", \"domain\": [0.0, 1.0], \"title\": {\"text\": \"Income Change\"}}},\n",
       "                        {\"responsive\": true}\n",
       "                    ).then(function(){\n",
       "                            \n",
       "var gd = document.getElementById('14306bf4-c421-4cad-a018-a990e6ed62c0');\n",
       "var x = new MutationObserver(function (mutations, observer) {{\n",
       "        var display = window.getComputedStyle(gd).display;\n",
       "        if (!display || display === 'none') {{\n",
       "            console.log([gd, 'removed!']);\n",
       "            Plotly.purge(gd);\n",
       "            observer.disconnect();\n",
       "        }}\n",
       "}});\n",
       "\n",
       "// Listen for the removal of the full notebook cells\n",
       "var notebookContainer = gd.closest('#notebook-container');\n",
       "if (notebookContainer) {{\n",
       "    x.observe(notebookContainer, {childList: true});\n",
       "}}\n",
       "\n",
       "// Listen for the clearing of the current output cell\n",
       "var outputEl = gd.closest('.output');\n",
       "if (outputEl) {{\n",
       "    x.observe(outputEl, {childList: true});\n",
       "}}\n",
       "\n",
       "                        })\n",
       "                };\n",
       "                });\n",
       "            </script>\n",
       "        </div>"
      ]
     },
     "metadata": {},
     "output_type": "display_data"
    }
   ],
   "source": [
    "fig = px.scatter(finaldata, x=\"Followers\", y=\"Income Change\", trendline=\"ols\")\n",
    "fig.show()"
   ]
  },
  {
   "cell_type": "markdown",
   "metadata": {},
   "source": [
    "<img src=\"https://raw.githubusercontent.com/Liyih/Twitch.tv-Metrics-Analysis/master/img/FollowersVsIncome.png\">"
   ]
  },
  {
   "cell_type": "markdown",
   "metadata": {},
   "source": [
    "The Histogram below shows the distribution of monthly income changes for our top 50 streamers. As the bell curve indicates, the income variation from month to month remains largely unchanged as a whole - and large fluctuations in income are rare."
   ]
  },
  {
   "cell_type": "code",
   "execution_count": 122,
   "metadata": {},
   "outputs": [
    {
     "data": {
      "application/vnd.plotly.v1+json": {
       "config": {
        "plotlyServerURL": "https://plot.ly"
       },
       "data": [
        {
         "alignmentgroup": "True",
         "bingroup": "x",
         "hovertemplate": "Income Change=%{x}<br>count=%{y}<extra></extra>",
         "legendgroup": "",
         "marker": {
          "color": "#636efa"
         },
         "name": "",
         "nbinsx": 50,
         "offsetgroup": "",
         "orientation": "v",
         "showlegend": false,
         "type": "histogram",
         "x": [
          -36295.11,
          -7912.099999999991,
          -21266.29999999999,
          -57068.869999999995,
          -24214.5,
          -51934.17999999999,
          -39877.399999999994,
          -61972.53999999999,
          -26313.62999999999,
          -44781.73999999999,
          -58999.439999999995,
          -23594.11,
          -57707.59,
          -55145.719999999994,
          -53429.7,
          -51628.149999999994,
          -51658.869999999995,
          -519.1900000000005,
          4253.68,
          -967.8400000000001,
          843.8199999999997,
          359.7600000000002,
          3344.9500000000007,
          4098.24,
          2471.039999999999,
          2770.4500000000007,
          3308.74,
          3195.0499999999993,
          2252.289999999999,
          2831.7199999999993,
          4927.289999999999,
          8830.89,
          11124.369999999999,
          4950.549999999999,
          2336.029999999999,
          3608.2700000000004,
          -274.3999999999978,
          5469.41,
          4816.23,
          19811.210000000003,
          24202.100000000002,
          26118.3,
          13912.560000000001,
          33663.68000000001,
          29532.680000000004,
          48937.5,
          19131.780000000002,
          20809.350000000002,
          -20056.75,
          -12146.409999999996,
          -22381.5,
          -14806.220000000001,
          -21393.39,
          -13623.189999999995,
          -13739.54,
          -19612.979999999996,
          -13600.329999999994,
          -24379.18,
          -14643.29,
          6431.939999999995,
          -16045.150000000001,
          -20643.71,
          -19782.85,
          -36547.119999999995,
          -9944.449999999997,
          3036.010000000002,
          27360.629999999997,
          -115.19999999999709,
          1995.2699999999968,
          6881.5999999999985,
          36132.579999999994,
          33412.74,
          18706.590000000004,
          19111.050000000003,
          4029.980000000003,
          12244.330000000002,
          8346.730000000003,
          11799.739999999998,
          23431.46,
          34015.60999999999,
          29200.140000000007,
          -446.90000000000873,
          28996.050000000003,
          1263.4700000000012,
          -9430.530000000006,
          -12155.75,
          -4303.770000000004,
          -4959.610000000001,
          -12687.310000000005,
          -4406.530000000006,
          -20837.83,
          -12380.570000000007,
          5661.619999999995,
          -14823.380000000005,
          -7580.040000000001,
          17915.410000000003,
          -6802.340000000004,
          4875.610000000001,
          -4061.8499999999985,
          -3363.1399999999994,
          -1007.8099999999977,
          -4501.09,
          -5619.0599999999995,
          -279.369999999999,
          2754.7999999999993,
          8408.350000000002,
          3448.3899999999994,
          -1427.1800000000003,
          -783.489999999998,
          1517.42,
          15693.98,
          5456.07,
          928.4000000000015,
          1277.2400000000016,
          3264.460000000001,
          663.710000000001,
          10559.060000000001,
          7137.4000000000015,
          1810.1500000000015,
          3054.540000000001,
          1011.0300000000007,
          1804.6599999999999,
          2269.2300000000014,
          13787.59,
          -263.40999999999985,
          1212.579999999998,
          15804.36,
          11068.059999999998,
          134.79000000000087,
          -4591.1500000000015,
          -3233.6800000000003,
          -7295.810000000001,
          -3892.59,
          -5095.850000000002,
          10184.269999999997,
          -5719.200000000001,
          -2699.8199999999997,
          -5374.830000000002,
          -6906.510000000002,
          -4910.580000000002,
          -6532.330000000002,
          12714.169999999998,
          12032.19,
          11131.859999999999,
          11917.679999999998,
          15724.53,
          11941.31,
          30428.03,
          18630.270000000004,
          16006.539999999999,
          19451.239999999998,
          18561.04,
          18192.660000000003,
          19441.590000000004,
          27606.200000000004,
          31449.11,
          -4417.790000000001,
          23043.390000000007,
          -2948.25,
          -1913.3600000000006,
          1052.4100000000035,
          170.34999999999854,
          2119.8499999999985,
          -2652.0999999999985,
          -3336.979999999996,
          -8826.68,
          -8358.580000000002,
          -8588.21,
          -8489.379999999997,
          -10045.220000000001,
          -3992.290000000001,
          -16262.89,
          -4911,
          -149.20999999999913,
          -3822.0600000000013,
          -9405.539999999999,
          -10982.83,
          -4869.450000000001,
          -9251.06,
          -4914.509999999998,
          10445.400000000001,
          35480.55,
          2535.9000000000015,
          184.97000000000116,
          3363.6100000000006,
          8334.009999999998,
          4541.4000000000015,
          16572.55,
          13278.84,
          25274.859999999997,
          47799.56,
          40211.83,
          -17968.109999999986,
          -31031.87999999999,
          11129.950000000012,
          5192.320000000007,
          21058.37000000001,
          7284.25,
          -19897.979999999996,
          15433.550000000003,
          -18150.39,
          -3426.5099999999948,
          206.2100000000064,
          7384.330000000002,
          28186.880000000005,
          63964.5,
          37071.68000000001,
          5855.769999999999,
          3798.6100000000006,
          963.710000000001,
          3230.290000000001,
          1011.7800000000007,
          1569.5,
          -718.5,
          1322.1499999999996,
          7207.840000000002,
          3937.6900000000005,
          4942.359999999999,
          6850.219999999999,
          5506.210000000001,
          6464.789999999999,
          11317.35,
          6709.99,
          -3497.9900000000002,
          -2260.4700000000003,
          -2829.3300000000004,
          -2420.1500000000005,
          -514.31,
          -713.8900000000001,
          -324.19000000000005,
          -1382.6100000000001,
          -698.72,
          11417.36,
          5683.35,
          6651.59,
          229.23999999999978,
          8058.49,
          4555.55,
          4964.8,
          37922.65000000001,
          10875,
          -886.7599999999948,
          -5483.659999999996,
          5707.340000000004,
          4782.460000000006,
          639.2700000000041,
          -7350.32,
          -23209.609999999997,
          2326.9900000000052,
          -19989.839999999997,
          -16436.019999999997,
          -4679,
          -14302.059999999998,
          -7240.309999999998,
          -3848.209999999999,
          18289.48000000001,
          21150.430000000008,
          19350.53,
          4512.419999999998,
          -12627.979999999996,
          -6160.1500000000015,
          -17315.519999999997,
          -15879.32,
          -14591,
          -25805.869999999995,
          -18094.729999999996,
          -32777.82,
          -15360.619999999995,
          -26774.71,
          -25526.47,
          -14953.309999999998,
          21715.320000000007,
          -6295.199999999997,
          3228.1899999999987,
          2988.790000000001,
          4775.240000000002,
          13074.059999999998,
          12110.529999999999,
          23562.86,
          16162.64,
          15977.779999999999,
          35588.17,
          22018.679999999997,
          16267.630000000001,
          -6059.32,
          1737.9999999999964,
          7283.48,
          -683.6800000000003,
          -8728.48,
          -418.8700000000026,
          -1209.2900000000009,
          -1486.8899999999994,
          16386.399999999998,
          10537.439999999999,
          3528.0300000000007,
          1703.9300000000003,
          6415.83,
          -573.3899999999994,
          -738.0799999999999,
          627.7000000000007,
          2384.620000000001,
          763.2700000000004,
          9201.44,
          4690.48,
          1731.6900000000005,
          -1362.4899999999998,
          2389.870000000001,
          9841.4,
          259.50999999999976,
          768.44,
          -753.6100000000001,
          1516.85,
          -289.5400000000002,
          2080.72,
          1077.7199999999998,
          942.9899999999998,
          -124.85000000000014,
          74.75999999999999,
          -119.84000000000015,
          -369.3900000000001,
          -639.9399999999996,
          1956.4000000000005,
          -2057.8599999999997,
          -690.6399999999994,
          -1574.37,
          -2117.4799999999996,
          -574.4699999999993,
          756.3000000000002,
          1360.5299999999997,
          -780.5199999999995,
          -316.02999999999975,
          -695.71,
          -2867.04,
          -2058.5599999999995,
          -1948.8399999999992,
          -2992.6899999999996,
          -18933.449999999997,
          -20055.369999999995,
          -22402.079999999998,
          -20155.489999999998,
          -19866.1,
          -20066.249999999996,
          -7740.789999999994,
          -7052.219999999994,
          -15685.639999999996,
          -17935.709999999995,
          -21164.889999999996,
          -15934.679999999997,
          -17007.78,
          -16938.069999999996,
          -4313.22,
          -4902.96,
          -4393.46,
          -4818.02,
          -4798.04,
          -4618,
          -4458.16,
          -4753.09,
          -4863.05,
          -4823.14,
          -4668.36,
          -4708.27,
          -2969.2700000000004,
          6567,
          -1697.3199999999997,
          -6148.740000000002,
          -4317.5,
          -4746.639999999999,
          -7122.209999999999,
          -8339.720000000001,
          -5300.630000000001,
          -7815.810000000001,
          -10225.880000000001,
          -7032.369999999999,
          -7581.170000000002,
          -10166.11,
          -11887.82,
          34.959999999999994,
          19.97999999999999,
          5,
          0.009999999999990905,
          14.97999999999999,
          34.97,
          -9.969999999999999,
          -74.87,
          -683.4699999999993,
          6176.67,
          1079.1200000000008,
          -204.17000000000007,
          519.7399999999998,
          -13.549999999999272,
          -673.9500000000007,
          -5292.08,
          607.4799999999996,
          503.4300000000003,
          -4509.63,
          -345.9500000000007,
          -3141.6100000000006,
          -2292.8500000000004,
          -6446.73,
          -3795.6000000000004,
          -5164.39,
          0,
          19.96,
          -29.95,
          -24.96,
          9527.220000000001,
          12375.82,
          6627.340000000001,
          6941.410000000001,
          6886.55,
          4241.62,
          6866.320000000001,
          8573.150000000001,
          7375.61,
          5698.81,
          9701.04,
          15249.870000000003,
          13747.93,
          3677.670000000001,
          -853.25,
          2410.29,
          -1097.7599999999998,
          -918.06,
          -1446.5499999999997,
          -1975.9899999999998,
          -1471.9799999999996,
          -1731.54,
          -1237.4299999999998,
          -1701.6999999999998,
          -1841.33,
          -1422.27,
          -958.1099999999997,
          -878.1899999999996,
          354.3000000000002,
          6049.780000000001,
          1956.37,
          953.0099999999984,
          13443.149999999998,
          2374.2999999999993,
          -362.8199999999997,
          1295.5599999999977,
          225.77999999999884,
          -1457.1100000000006,
          -14536.800000000001,
          1526.630000000001,
          679.489999999998,
          -3021.880000000001,
          -3287.4500000000007,
          -2441.9400000000023,
          -4314.290000000001,
          -4778.959999999999,
          -2484.66,
          -12430.900000000001,
          7739.82,
          11012.46,
          -11058.870000000003,
          -7225.940000000002,
          -19786.58,
          -9017.940000000002,
          -11932.2,
          -23045.300000000003,
          -13913.080000000002,
          -23494.260000000002,
          -17825.65,
          -17106.920000000002,
          -17959.97,
          -20105.870000000003,
          -15474.940000000002,
          11265.260000000002,
          2834.9300000000003,
          2202.989999999998,
          -6505.0899999999965,
          -17664.17,
          -30825.15,
          -17646.309999999998,
          -18036.050000000003,
          -25142.010000000002,
          -21818.519999999997,
          -28879.95,
          -19582.730000000003,
          -8853.589999999997,
          -1528.3099999999977,
          5472.810000000005,
          85172.69999999998,
          26478.799999999996,
          2799.6700000000055,
          5111.040000000001,
          -3617.8600000000006,
          -5574.4699999999975,
          -2699.3899999999994,
          1297.3300000000017,
          10084.530000000006,
          5823.310000000005,
          27484.61,
          16247.410000000003,
          13517.690000000002,
          21826.270000000004,
          12619.510000000002,
          21341.36,
          16720.910000000003,
          35678.73,
          35882.76
         ],
         "xaxis": "x",
         "yaxis": "y"
        }
       ],
       "layout": {
        "barmode": "relative",
        "legend": {
         "tracegroupgap": 0
        },
        "margin": {
         "t": 60
        },
        "template": {
         "data": {
          "bar": [
           {
            "error_x": {
             "color": "#2a3f5f"
            },
            "error_y": {
             "color": "#2a3f5f"
            },
            "marker": {
             "line": {
              "color": "#E5ECF6",
              "width": 0.5
             }
            },
            "type": "bar"
           }
          ],
          "barpolar": [
           {
            "marker": {
             "line": {
              "color": "#E5ECF6",
              "width": 0.5
             }
            },
            "type": "barpolar"
           }
          ],
          "carpet": [
           {
            "aaxis": {
             "endlinecolor": "#2a3f5f",
             "gridcolor": "white",
             "linecolor": "white",
             "minorgridcolor": "white",
             "startlinecolor": "#2a3f5f"
            },
            "baxis": {
             "endlinecolor": "#2a3f5f",
             "gridcolor": "white",
             "linecolor": "white",
             "minorgridcolor": "white",
             "startlinecolor": "#2a3f5f"
            },
            "type": "carpet"
           }
          ],
          "choropleth": [
           {
            "colorbar": {
             "outlinewidth": 0,
             "ticks": ""
            },
            "type": "choropleth"
           }
          ],
          "contour": [
           {
            "colorbar": {
             "outlinewidth": 0,
             "ticks": ""
            },
            "colorscale": [
             [
              0,
              "#0d0887"
             ],
             [
              0.1111111111111111,
              "#46039f"
             ],
             [
              0.2222222222222222,
              "#7201a8"
             ],
             [
              0.3333333333333333,
              "#9c179e"
             ],
             [
              0.4444444444444444,
              "#bd3786"
             ],
             [
              0.5555555555555556,
              "#d8576b"
             ],
             [
              0.6666666666666666,
              "#ed7953"
             ],
             [
              0.7777777777777778,
              "#fb9f3a"
             ],
             [
              0.8888888888888888,
              "#fdca26"
             ],
             [
              1,
              "#f0f921"
             ]
            ],
            "type": "contour"
           }
          ],
          "contourcarpet": [
           {
            "colorbar": {
             "outlinewidth": 0,
             "ticks": ""
            },
            "type": "contourcarpet"
           }
          ],
          "heatmap": [
           {
            "colorbar": {
             "outlinewidth": 0,
             "ticks": ""
            },
            "colorscale": [
             [
              0,
              "#0d0887"
             ],
             [
              0.1111111111111111,
              "#46039f"
             ],
             [
              0.2222222222222222,
              "#7201a8"
             ],
             [
              0.3333333333333333,
              "#9c179e"
             ],
             [
              0.4444444444444444,
              "#bd3786"
             ],
             [
              0.5555555555555556,
              "#d8576b"
             ],
             [
              0.6666666666666666,
              "#ed7953"
             ],
             [
              0.7777777777777778,
              "#fb9f3a"
             ],
             [
              0.8888888888888888,
              "#fdca26"
             ],
             [
              1,
              "#f0f921"
             ]
            ],
            "type": "heatmap"
           }
          ],
          "heatmapgl": [
           {
            "colorbar": {
             "outlinewidth": 0,
             "ticks": ""
            },
            "colorscale": [
             [
              0,
              "#0d0887"
             ],
             [
              0.1111111111111111,
              "#46039f"
             ],
             [
              0.2222222222222222,
              "#7201a8"
             ],
             [
              0.3333333333333333,
              "#9c179e"
             ],
             [
              0.4444444444444444,
              "#bd3786"
             ],
             [
              0.5555555555555556,
              "#d8576b"
             ],
             [
              0.6666666666666666,
              "#ed7953"
             ],
             [
              0.7777777777777778,
              "#fb9f3a"
             ],
             [
              0.8888888888888888,
              "#fdca26"
             ],
             [
              1,
              "#f0f921"
             ]
            ],
            "type": "heatmapgl"
           }
          ],
          "histogram": [
           {
            "marker": {
             "colorbar": {
              "outlinewidth": 0,
              "ticks": ""
             }
            },
            "type": "histogram"
           }
          ],
          "histogram2d": [
           {
            "colorbar": {
             "outlinewidth": 0,
             "ticks": ""
            },
            "colorscale": [
             [
              0,
              "#0d0887"
             ],
             [
              0.1111111111111111,
              "#46039f"
             ],
             [
              0.2222222222222222,
              "#7201a8"
             ],
             [
              0.3333333333333333,
              "#9c179e"
             ],
             [
              0.4444444444444444,
              "#bd3786"
             ],
             [
              0.5555555555555556,
              "#d8576b"
             ],
             [
              0.6666666666666666,
              "#ed7953"
             ],
             [
              0.7777777777777778,
              "#fb9f3a"
             ],
             [
              0.8888888888888888,
              "#fdca26"
             ],
             [
              1,
              "#f0f921"
             ]
            ],
            "type": "histogram2d"
           }
          ],
          "histogram2dcontour": [
           {
            "colorbar": {
             "outlinewidth": 0,
             "ticks": ""
            },
            "colorscale": [
             [
              0,
              "#0d0887"
             ],
             [
              0.1111111111111111,
              "#46039f"
             ],
             [
              0.2222222222222222,
              "#7201a8"
             ],
             [
              0.3333333333333333,
              "#9c179e"
             ],
             [
              0.4444444444444444,
              "#bd3786"
             ],
             [
              0.5555555555555556,
              "#d8576b"
             ],
             [
              0.6666666666666666,
              "#ed7953"
             ],
             [
              0.7777777777777778,
              "#fb9f3a"
             ],
             [
              0.8888888888888888,
              "#fdca26"
             ],
             [
              1,
              "#f0f921"
             ]
            ],
            "type": "histogram2dcontour"
           }
          ],
          "mesh3d": [
           {
            "colorbar": {
             "outlinewidth": 0,
             "ticks": ""
            },
            "type": "mesh3d"
           }
          ],
          "parcoords": [
           {
            "line": {
             "colorbar": {
              "outlinewidth": 0,
              "ticks": ""
             }
            },
            "type": "parcoords"
           }
          ],
          "pie": [
           {
            "automargin": true,
            "type": "pie"
           }
          ],
          "scatter": [
           {
            "marker": {
             "colorbar": {
              "outlinewidth": 0,
              "ticks": ""
             }
            },
            "type": "scatter"
           }
          ],
          "scatter3d": [
           {
            "line": {
             "colorbar": {
              "outlinewidth": 0,
              "ticks": ""
             }
            },
            "marker": {
             "colorbar": {
              "outlinewidth": 0,
              "ticks": ""
             }
            },
            "type": "scatter3d"
           }
          ],
          "scattercarpet": [
           {
            "marker": {
             "colorbar": {
              "outlinewidth": 0,
              "ticks": ""
             }
            },
            "type": "scattercarpet"
           }
          ],
          "scattergeo": [
           {
            "marker": {
             "colorbar": {
              "outlinewidth": 0,
              "ticks": ""
             }
            },
            "type": "scattergeo"
           }
          ],
          "scattergl": [
           {
            "marker": {
             "colorbar": {
              "outlinewidth": 0,
              "ticks": ""
             }
            },
            "type": "scattergl"
           }
          ],
          "scattermapbox": [
           {
            "marker": {
             "colorbar": {
              "outlinewidth": 0,
              "ticks": ""
             }
            },
            "type": "scattermapbox"
           }
          ],
          "scatterpolar": [
           {
            "marker": {
             "colorbar": {
              "outlinewidth": 0,
              "ticks": ""
             }
            },
            "type": "scatterpolar"
           }
          ],
          "scatterpolargl": [
           {
            "marker": {
             "colorbar": {
              "outlinewidth": 0,
              "ticks": ""
             }
            },
            "type": "scatterpolargl"
           }
          ],
          "scatterternary": [
           {
            "marker": {
             "colorbar": {
              "outlinewidth": 0,
              "ticks": ""
             }
            },
            "type": "scatterternary"
           }
          ],
          "surface": [
           {
            "colorbar": {
             "outlinewidth": 0,
             "ticks": ""
            },
            "colorscale": [
             [
              0,
              "#0d0887"
             ],
             [
              0.1111111111111111,
              "#46039f"
             ],
             [
              0.2222222222222222,
              "#7201a8"
             ],
             [
              0.3333333333333333,
              "#9c179e"
             ],
             [
              0.4444444444444444,
              "#bd3786"
             ],
             [
              0.5555555555555556,
              "#d8576b"
             ],
             [
              0.6666666666666666,
              "#ed7953"
             ],
             [
              0.7777777777777778,
              "#fb9f3a"
             ],
             [
              0.8888888888888888,
              "#fdca26"
             ],
             [
              1,
              "#f0f921"
             ]
            ],
            "type": "surface"
           }
          ],
          "table": [
           {
            "cells": {
             "fill": {
              "color": "#EBF0F8"
             },
             "line": {
              "color": "white"
             }
            },
            "header": {
             "fill": {
              "color": "#C8D4E3"
             },
             "line": {
              "color": "white"
             }
            },
            "type": "table"
           }
          ]
         },
         "layout": {
          "annotationdefaults": {
           "arrowcolor": "#2a3f5f",
           "arrowhead": 0,
           "arrowwidth": 1
          },
          "coloraxis": {
           "colorbar": {
            "outlinewidth": 0,
            "ticks": ""
           }
          },
          "colorscale": {
           "diverging": [
            [
             0,
             "#8e0152"
            ],
            [
             0.1,
             "#c51b7d"
            ],
            [
             0.2,
             "#de77ae"
            ],
            [
             0.3,
             "#f1b6da"
            ],
            [
             0.4,
             "#fde0ef"
            ],
            [
             0.5,
             "#f7f7f7"
            ],
            [
             0.6,
             "#e6f5d0"
            ],
            [
             0.7,
             "#b8e186"
            ],
            [
             0.8,
             "#7fbc41"
            ],
            [
             0.9,
             "#4d9221"
            ],
            [
             1,
             "#276419"
            ]
           ],
           "sequential": [
            [
             0,
             "#0d0887"
            ],
            [
             0.1111111111111111,
             "#46039f"
            ],
            [
             0.2222222222222222,
             "#7201a8"
            ],
            [
             0.3333333333333333,
             "#9c179e"
            ],
            [
             0.4444444444444444,
             "#bd3786"
            ],
            [
             0.5555555555555556,
             "#d8576b"
            ],
            [
             0.6666666666666666,
             "#ed7953"
            ],
            [
             0.7777777777777778,
             "#fb9f3a"
            ],
            [
             0.8888888888888888,
             "#fdca26"
            ],
            [
             1,
             "#f0f921"
            ]
           ],
           "sequentialminus": [
            [
             0,
             "#0d0887"
            ],
            [
             0.1111111111111111,
             "#46039f"
            ],
            [
             0.2222222222222222,
             "#7201a8"
            ],
            [
             0.3333333333333333,
             "#9c179e"
            ],
            [
             0.4444444444444444,
             "#bd3786"
            ],
            [
             0.5555555555555556,
             "#d8576b"
            ],
            [
             0.6666666666666666,
             "#ed7953"
            ],
            [
             0.7777777777777778,
             "#fb9f3a"
            ],
            [
             0.8888888888888888,
             "#fdca26"
            ],
            [
             1,
             "#f0f921"
            ]
           ]
          },
          "colorway": [
           "#636efa",
           "#EF553B",
           "#00cc96",
           "#ab63fa",
           "#FFA15A",
           "#19d3f3",
           "#FF6692",
           "#B6E880",
           "#FF97FF",
           "#FECB52"
          ],
          "font": {
           "color": "#2a3f5f"
          },
          "geo": {
           "bgcolor": "white",
           "lakecolor": "white",
           "landcolor": "#E5ECF6",
           "showlakes": true,
           "showland": true,
           "subunitcolor": "white"
          },
          "hoverlabel": {
           "align": "left"
          },
          "hovermode": "closest",
          "mapbox": {
           "style": "light"
          },
          "paper_bgcolor": "white",
          "plot_bgcolor": "#E5ECF6",
          "polar": {
           "angularaxis": {
            "gridcolor": "white",
            "linecolor": "white",
            "ticks": ""
           },
           "bgcolor": "#E5ECF6",
           "radialaxis": {
            "gridcolor": "white",
            "linecolor": "white",
            "ticks": ""
           }
          },
          "scene": {
           "xaxis": {
            "backgroundcolor": "#E5ECF6",
            "gridcolor": "white",
            "gridwidth": 2,
            "linecolor": "white",
            "showbackground": true,
            "ticks": "",
            "zerolinecolor": "white"
           },
           "yaxis": {
            "backgroundcolor": "#E5ECF6",
            "gridcolor": "white",
            "gridwidth": 2,
            "linecolor": "white",
            "showbackground": true,
            "ticks": "",
            "zerolinecolor": "white"
           },
           "zaxis": {
            "backgroundcolor": "#E5ECF6",
            "gridcolor": "white",
            "gridwidth": 2,
            "linecolor": "white",
            "showbackground": true,
            "ticks": "",
            "zerolinecolor": "white"
           }
          },
          "shapedefaults": {
           "line": {
            "color": "#2a3f5f"
           }
          },
          "ternary": {
           "aaxis": {
            "gridcolor": "white",
            "linecolor": "white",
            "ticks": ""
           },
           "baxis": {
            "gridcolor": "white",
            "linecolor": "white",
            "ticks": ""
           },
           "bgcolor": "#E5ECF6",
           "caxis": {
            "gridcolor": "white",
            "linecolor": "white",
            "ticks": ""
           }
          },
          "title": {
           "x": 0.05
          },
          "xaxis": {
           "automargin": true,
           "gridcolor": "white",
           "linecolor": "white",
           "ticks": "",
           "title": {
            "standoff": 15
           },
           "zerolinecolor": "white",
           "zerolinewidth": 2
          },
          "yaxis": {
           "automargin": true,
           "gridcolor": "white",
           "linecolor": "white",
           "ticks": "",
           "title": {
            "standoff": 15
           },
           "zerolinecolor": "white",
           "zerolinewidth": 2
          }
         }
        },
        "xaxis": {
         "anchor": "y",
         "domain": [
          0,
          1
         ],
         "title": {
          "text": "Income Change"
         }
        },
        "yaxis": {
         "anchor": "x",
         "domain": [
          0,
          1
         ],
         "title": {
          "text": "count"
         }
        }
       }
      },
      "text/html": [
       "<div>\n",
       "        \n",
       "        \n",
       "            <div id=\"b8ffba8a-9f97-477f-b42c-31f07733da65\" class=\"plotly-graph-div\" style=\"height:525px; width:100%;\"></div>\n",
       "            <script type=\"text/javascript\">\n",
       "                require([\"plotly\"], function(Plotly) {\n",
       "                    window.PLOTLYENV=window.PLOTLYENV || {};\n",
       "                    \n",
       "                if (document.getElementById(\"b8ffba8a-9f97-477f-b42c-31f07733da65\")) {\n",
       "                    Plotly.newPlot(\n",
       "                        'b8ffba8a-9f97-477f-b42c-31f07733da65',\n",
       "                        [{\"alignmentgroup\": \"True\", \"bingroup\": \"x\", \"hovertemplate\": \"Income Change=%{x}<br>count=%{y}<extra></extra>\", \"legendgroup\": \"\", \"marker\": {\"color\": \"#636efa\"}, \"name\": \"\", \"nbinsx\": 50, \"offsetgroup\": \"\", \"orientation\": \"v\", \"showlegend\": false, \"type\": \"histogram\", \"x\": [-36295.11, -7912.099999999991, -21266.29999999999, -57068.869999999995, -24214.5, -51934.17999999999, -39877.399999999994, -61972.53999999999, -26313.62999999999, -44781.73999999999, -58999.439999999995, -23594.11, -57707.59, -55145.719999999994, -53429.7, -51628.149999999994, -51658.869999999995, -519.1900000000005, 4253.68, -967.8400000000001, 843.8199999999997, 359.7600000000002, 3344.9500000000007, 4098.24, 2471.039999999999, 2770.4500000000007, 3308.74, 3195.0499999999993, 2252.289999999999, 2831.7199999999993, 4927.289999999999, 8830.89, 11124.369999999999, 4950.549999999999, 2336.029999999999, 3608.2700000000004, -274.3999999999978, 5469.41, 4816.23, 19811.210000000003, 24202.100000000002, 26118.3, 13912.560000000001, 33663.68000000001, 29532.680000000004, 48937.5, 19131.780000000002, 20809.350000000002, -20056.75, -12146.409999999996, -22381.5, -14806.220000000001, -21393.39, -13623.189999999995, -13739.54, -19612.979999999996, -13600.329999999994, -24379.18, -14643.29, 6431.939999999995, -16045.150000000001, -20643.71, -19782.85, -36547.119999999995, -9944.449999999997, 3036.010000000002, 27360.629999999997, -115.19999999999709, 1995.2699999999968, 6881.5999999999985, 36132.579999999994, 33412.74, 18706.590000000004, 19111.050000000003, 4029.980000000003, 12244.330000000002, 8346.730000000003, 11799.739999999998, 23431.46, 34015.60999999999, 29200.140000000007, -446.90000000000873, 28996.050000000003, 1263.4700000000012, -9430.530000000006, -12155.75, -4303.770000000004, -4959.610000000001, -12687.310000000005, -4406.530000000006, -20837.83, -12380.570000000007, 5661.619999999995, -14823.380000000005, -7580.040000000001, 17915.410000000003, -6802.340000000004, 4875.610000000001, -4061.8499999999985, -3363.1399999999994, -1007.8099999999977, -4501.09, -5619.0599999999995, -279.369999999999, 2754.7999999999993, 8408.350000000002, 3448.3899999999994, -1427.1800000000003, -783.489999999998, 1517.42, 15693.98, 5456.07, 928.4000000000015, 1277.2400000000016, 3264.460000000001, 663.710000000001, 10559.060000000001, 7137.4000000000015, 1810.1500000000015, 3054.540000000001, 1011.0300000000007, 1804.6599999999999, 2269.2300000000014, 13787.59, -263.40999999999985, 1212.579999999998, 15804.36, 11068.059999999998, 134.79000000000087, -4591.1500000000015, -3233.6800000000003, -7295.810000000001, -3892.59, -5095.850000000002, 10184.269999999997, -5719.200000000001, -2699.8199999999997, -5374.830000000002, -6906.510000000002, -4910.580000000002, -6532.330000000002, 12714.169999999998, 12032.19, 11131.859999999999, 11917.679999999998, 15724.53, 11941.31, 30428.03, 18630.270000000004, 16006.539999999999, 19451.239999999998, 18561.04, 18192.660000000003, 19441.590000000004, 27606.200000000004, 31449.11, -4417.790000000001, 23043.390000000007, -2948.25, -1913.3600000000006, 1052.4100000000035, 170.34999999999854, 2119.8499999999985, -2652.0999999999985, -3336.979999999996, -8826.68, -8358.580000000002, -8588.21, -8489.379999999997, -10045.220000000001, -3992.290000000001, -16262.89, -4911.0, -149.20999999999913, -3822.0600000000013, -9405.539999999999, -10982.83, -4869.450000000001, -9251.06, -4914.509999999998, 10445.400000000001, 35480.55, 2535.9000000000015, 184.97000000000116, 3363.6100000000006, 8334.009999999998, 4541.4000000000015, 16572.55, 13278.84, 25274.859999999997, 47799.56, 40211.83, -17968.109999999986, -31031.87999999999, 11129.950000000012, 5192.320000000007, 21058.37000000001, 7284.25, -19897.979999999996, 15433.550000000003, -18150.39, -3426.5099999999948, 206.2100000000064, 7384.330000000002, 28186.880000000005, 63964.5, 37071.68000000001, 5855.769999999999, 3798.6100000000006, 963.710000000001, 3230.290000000001, 1011.7800000000007, 1569.5, -718.5, 1322.1499999999996, 7207.840000000002, 3937.6900000000005, 4942.359999999999, 6850.219999999999, 5506.210000000001, 6464.789999999999, 11317.35, 6709.99, -3497.9900000000002, -2260.4700000000003, -2829.3300000000004, -2420.1500000000005, -514.31, -713.8900000000001, -324.19000000000005, -1382.6100000000001, -698.72, 11417.36, 5683.35, 6651.59, 229.23999999999978, 8058.49, 4555.55, 4964.8, 37922.65000000001, 10875.0, -886.7599999999948, -5483.659999999996, 5707.340000000004, 4782.460000000006, 639.2700000000041, -7350.32, -23209.609999999997, 2326.9900000000052, -19989.839999999997, -16436.019999999997, -4679.0, -14302.059999999998, -7240.309999999998, -3848.209999999999, 18289.48000000001, 21150.430000000008, 19350.53, 4512.419999999998, -12627.979999999996, -6160.1500000000015, -17315.519999999997, -15879.32, -14591.0, -25805.869999999995, -18094.729999999996, -32777.82, -15360.619999999995, -26774.71, -25526.47, -14953.309999999998, 21715.320000000007, -6295.199999999997, 3228.1899999999987, 2988.790000000001, 4775.240000000002, 13074.059999999998, 12110.529999999999, 23562.86, 16162.64, 15977.779999999999, 35588.17, 22018.679999999997, 16267.630000000001, -6059.32, 1737.9999999999964, 7283.48, -683.6800000000003, -8728.48, -418.8700000000026, -1209.2900000000009, -1486.8899999999994, 16386.399999999998, 10537.439999999999, 3528.0300000000007, 1703.9300000000003, 6415.83, -573.3899999999994, -738.0799999999999, 627.7000000000007, 2384.620000000001, 763.2700000000004, 9201.44, 4690.48, 1731.6900000000005, -1362.4899999999998, 2389.870000000001, 9841.4, 259.50999999999976, 768.44, -753.6100000000001, 1516.85, -289.5400000000002, 2080.72, 1077.7199999999998, 942.9899999999998, -124.85000000000014, 74.75999999999999, -119.84000000000015, -369.3900000000001, -639.9399999999996, 1956.4000000000005, -2057.8599999999997, -690.6399999999994, -1574.37, -2117.4799999999996, -574.4699999999993, 756.3000000000002, 1360.5299999999997, -780.5199999999995, -316.02999999999975, -695.71, -2867.04, -2058.5599999999995, -1948.8399999999992, -2992.6899999999996, -18933.449999999997, -20055.369999999995, -22402.079999999998, -20155.489999999998, -19866.1, -20066.249999999996, -7740.789999999994, -7052.219999999994, -15685.639999999996, -17935.709999999995, -21164.889999999996, -15934.679999999997, -17007.78, -16938.069999999996, -4313.22, -4902.96, -4393.46, -4818.02, -4798.04, -4618.0, -4458.16, -4753.09, -4863.05, -4823.14, -4668.36, -4708.27, -2969.2700000000004, 6567.0, -1697.3199999999997, -6148.740000000002, -4317.5, -4746.639999999999, -7122.209999999999, -8339.720000000001, -5300.630000000001, -7815.810000000001, -10225.880000000001, -7032.369999999999, -7581.170000000002, -10166.11, -11887.82, 34.959999999999994, 19.97999999999999, 5.0, 0.009999999999990905, 14.97999999999999, 34.97, -9.969999999999999, -74.87, -683.4699999999993, 6176.67, 1079.1200000000008, -204.17000000000007, 519.7399999999998, -13.549999999999272, -673.9500000000007, -5292.08, 607.4799999999996, 503.4300000000003, -4509.63, -345.9500000000007, -3141.6100000000006, -2292.8500000000004, -6446.73, -3795.6000000000004, -5164.39, 0.0, 19.96, -29.95, -24.96, 9527.220000000001, 12375.82, 6627.340000000001, 6941.410000000001, 6886.55, 4241.62, 6866.320000000001, 8573.150000000001, 7375.61, 5698.81, 9701.04, 15249.870000000003, 13747.93, 3677.670000000001, -853.25, 2410.29, -1097.7599999999998, -918.06, -1446.5499999999997, -1975.9899999999998, -1471.9799999999996, -1731.54, -1237.4299999999998, -1701.6999999999998, -1841.33, -1422.27, -958.1099999999997, -878.1899999999996, 354.3000000000002, 6049.780000000001, 1956.37, 953.0099999999984, 13443.149999999998, 2374.2999999999993, -362.8199999999997, 1295.5599999999977, 225.77999999999884, -1457.1100000000006, -14536.800000000001, 1526.630000000001, 679.489999999998, -3021.880000000001, -3287.4500000000007, -2441.9400000000023, -4314.290000000001, -4778.959999999999, -2484.66, -12430.900000000001, 7739.82, 11012.46, -11058.870000000003, -7225.940000000002, -19786.58, -9017.940000000002, -11932.2, -23045.300000000003, -13913.080000000002, -23494.260000000002, -17825.65, -17106.920000000002, -17959.97, -20105.870000000003, -15474.940000000002, 11265.260000000002, 2834.9300000000003, 2202.989999999998, -6505.0899999999965, -17664.17, -30825.15, -17646.309999999998, -18036.050000000003, -25142.010000000002, -21818.519999999997, -28879.95, -19582.730000000003, -8853.589999999997, -1528.3099999999977, 5472.810000000005, 85172.69999999998, 26478.799999999996, 2799.6700000000055, 5111.040000000001, -3617.8600000000006, -5574.4699999999975, -2699.3899999999994, 1297.3300000000017, 10084.530000000006, 5823.310000000005, 27484.61, 16247.410000000003, 13517.690000000002, 21826.270000000004, 12619.510000000002, 21341.36, 16720.910000000003, 35678.73, 35882.76], \"xaxis\": \"x\", \"yaxis\": \"y\"}],\n",
       "                        {\"barmode\": \"relative\", \"legend\": {\"tracegroupgap\": 0}, \"margin\": {\"t\": 60}, \"template\": {\"data\": {\"bar\": [{\"error_x\": {\"color\": \"#2a3f5f\"}, \"error_y\": {\"color\": \"#2a3f5f\"}, \"marker\": {\"line\": {\"color\": \"#E5ECF6\", \"width\": 0.5}}, \"type\": \"bar\"}], \"barpolar\": [{\"marker\": {\"line\": {\"color\": \"#E5ECF6\", \"width\": 0.5}}, \"type\": \"barpolar\"}], \"carpet\": [{\"aaxis\": {\"endlinecolor\": \"#2a3f5f\", \"gridcolor\": \"white\", \"linecolor\": \"white\", \"minorgridcolor\": \"white\", \"startlinecolor\": \"#2a3f5f\"}, \"baxis\": {\"endlinecolor\": \"#2a3f5f\", \"gridcolor\": \"white\", \"linecolor\": \"white\", \"minorgridcolor\": \"white\", \"startlinecolor\": \"#2a3f5f\"}, \"type\": \"carpet\"}], \"choropleth\": [{\"colorbar\": {\"outlinewidth\": 0, \"ticks\": \"\"}, \"type\": \"choropleth\"}], \"contour\": [{\"colorbar\": {\"outlinewidth\": 0, \"ticks\": \"\"}, \"colorscale\": [[0.0, \"#0d0887\"], [0.1111111111111111, \"#46039f\"], [0.2222222222222222, \"#7201a8\"], [0.3333333333333333, \"#9c179e\"], [0.4444444444444444, \"#bd3786\"], [0.5555555555555556, \"#d8576b\"], [0.6666666666666666, \"#ed7953\"], [0.7777777777777778, \"#fb9f3a\"], [0.8888888888888888, \"#fdca26\"], [1.0, \"#f0f921\"]], \"type\": \"contour\"}], \"contourcarpet\": [{\"colorbar\": {\"outlinewidth\": 0, \"ticks\": \"\"}, \"type\": \"contourcarpet\"}], \"heatmap\": [{\"colorbar\": {\"outlinewidth\": 0, \"ticks\": \"\"}, \"colorscale\": [[0.0, \"#0d0887\"], [0.1111111111111111, \"#46039f\"], [0.2222222222222222, \"#7201a8\"], [0.3333333333333333, \"#9c179e\"], [0.4444444444444444, \"#bd3786\"], [0.5555555555555556, \"#d8576b\"], [0.6666666666666666, \"#ed7953\"], [0.7777777777777778, \"#fb9f3a\"], [0.8888888888888888, \"#fdca26\"], [1.0, \"#f0f921\"]], \"type\": \"heatmap\"}], \"heatmapgl\": [{\"colorbar\": {\"outlinewidth\": 0, \"ticks\": \"\"}, \"colorscale\": [[0.0, \"#0d0887\"], [0.1111111111111111, \"#46039f\"], [0.2222222222222222, \"#7201a8\"], [0.3333333333333333, \"#9c179e\"], [0.4444444444444444, \"#bd3786\"], [0.5555555555555556, \"#d8576b\"], [0.6666666666666666, \"#ed7953\"], [0.7777777777777778, \"#fb9f3a\"], [0.8888888888888888, \"#fdca26\"], [1.0, \"#f0f921\"]], \"type\": \"heatmapgl\"}], \"histogram\": [{\"marker\": {\"colorbar\": {\"outlinewidth\": 0, \"ticks\": \"\"}}, \"type\": \"histogram\"}], \"histogram2d\": [{\"colorbar\": {\"outlinewidth\": 0, \"ticks\": \"\"}, \"colorscale\": [[0.0, \"#0d0887\"], [0.1111111111111111, \"#46039f\"], [0.2222222222222222, \"#7201a8\"], [0.3333333333333333, \"#9c179e\"], [0.4444444444444444, \"#bd3786\"], [0.5555555555555556, \"#d8576b\"], [0.6666666666666666, \"#ed7953\"], [0.7777777777777778, \"#fb9f3a\"], [0.8888888888888888, \"#fdca26\"], [1.0, \"#f0f921\"]], \"type\": \"histogram2d\"}], \"histogram2dcontour\": [{\"colorbar\": {\"outlinewidth\": 0, \"ticks\": \"\"}, \"colorscale\": [[0.0, \"#0d0887\"], [0.1111111111111111, \"#46039f\"], [0.2222222222222222, \"#7201a8\"], [0.3333333333333333, \"#9c179e\"], [0.4444444444444444, \"#bd3786\"], [0.5555555555555556, \"#d8576b\"], [0.6666666666666666, \"#ed7953\"], [0.7777777777777778, \"#fb9f3a\"], [0.8888888888888888, \"#fdca26\"], [1.0, \"#f0f921\"]], \"type\": \"histogram2dcontour\"}], \"mesh3d\": [{\"colorbar\": {\"outlinewidth\": 0, \"ticks\": \"\"}, \"type\": \"mesh3d\"}], \"parcoords\": [{\"line\": {\"colorbar\": {\"outlinewidth\": 0, \"ticks\": \"\"}}, \"type\": \"parcoords\"}], \"pie\": [{\"automargin\": true, \"type\": \"pie\"}], \"scatter\": [{\"marker\": {\"colorbar\": {\"outlinewidth\": 0, \"ticks\": \"\"}}, \"type\": \"scatter\"}], \"scatter3d\": [{\"line\": {\"colorbar\": {\"outlinewidth\": 0, \"ticks\": \"\"}}, \"marker\": {\"colorbar\": {\"outlinewidth\": 0, \"ticks\": \"\"}}, \"type\": \"scatter3d\"}], \"scattercarpet\": [{\"marker\": {\"colorbar\": {\"outlinewidth\": 0, \"ticks\": \"\"}}, \"type\": \"scattercarpet\"}], \"scattergeo\": [{\"marker\": {\"colorbar\": {\"outlinewidth\": 0, \"ticks\": \"\"}}, \"type\": \"scattergeo\"}], \"scattergl\": [{\"marker\": {\"colorbar\": {\"outlinewidth\": 0, \"ticks\": \"\"}}, \"type\": \"scattergl\"}], \"scattermapbox\": [{\"marker\": {\"colorbar\": {\"outlinewidth\": 0, \"ticks\": \"\"}}, \"type\": \"scattermapbox\"}], \"scatterpolar\": [{\"marker\": {\"colorbar\": {\"outlinewidth\": 0, \"ticks\": \"\"}}, \"type\": \"scatterpolar\"}], \"scatterpolargl\": [{\"marker\": {\"colorbar\": {\"outlinewidth\": 0, \"ticks\": \"\"}}, \"type\": \"scatterpolargl\"}], \"scatterternary\": [{\"marker\": {\"colorbar\": {\"outlinewidth\": 0, \"ticks\": \"\"}}, \"type\": \"scatterternary\"}], \"surface\": [{\"colorbar\": {\"outlinewidth\": 0, \"ticks\": \"\"}, \"colorscale\": [[0.0, \"#0d0887\"], [0.1111111111111111, \"#46039f\"], [0.2222222222222222, \"#7201a8\"], [0.3333333333333333, \"#9c179e\"], [0.4444444444444444, \"#bd3786\"], [0.5555555555555556, \"#d8576b\"], [0.6666666666666666, \"#ed7953\"], [0.7777777777777778, \"#fb9f3a\"], [0.8888888888888888, \"#fdca26\"], [1.0, \"#f0f921\"]], \"type\": \"surface\"}], \"table\": [{\"cells\": {\"fill\": {\"color\": \"#EBF0F8\"}, \"line\": {\"color\": \"white\"}}, \"header\": {\"fill\": {\"color\": \"#C8D4E3\"}, \"line\": {\"color\": \"white\"}}, \"type\": \"table\"}]}, \"layout\": {\"annotationdefaults\": {\"arrowcolor\": \"#2a3f5f\", \"arrowhead\": 0, \"arrowwidth\": 1}, \"coloraxis\": {\"colorbar\": {\"outlinewidth\": 0, \"ticks\": \"\"}}, \"colorscale\": {\"diverging\": [[0, \"#8e0152\"], [0.1, \"#c51b7d\"], [0.2, \"#de77ae\"], [0.3, \"#f1b6da\"], [0.4, \"#fde0ef\"], [0.5, \"#f7f7f7\"], [0.6, \"#e6f5d0\"], [0.7, \"#b8e186\"], [0.8, \"#7fbc41\"], [0.9, \"#4d9221\"], [1, \"#276419\"]], \"sequential\": [[0.0, \"#0d0887\"], [0.1111111111111111, \"#46039f\"], [0.2222222222222222, \"#7201a8\"], [0.3333333333333333, \"#9c179e\"], [0.4444444444444444, \"#bd3786\"], [0.5555555555555556, \"#d8576b\"], [0.6666666666666666, \"#ed7953\"], [0.7777777777777778, \"#fb9f3a\"], [0.8888888888888888, \"#fdca26\"], [1.0, \"#f0f921\"]], \"sequentialminus\": [[0.0, \"#0d0887\"], [0.1111111111111111, \"#46039f\"], [0.2222222222222222, \"#7201a8\"], [0.3333333333333333, \"#9c179e\"], [0.4444444444444444, \"#bd3786\"], [0.5555555555555556, \"#d8576b\"], [0.6666666666666666, \"#ed7953\"], [0.7777777777777778, \"#fb9f3a\"], [0.8888888888888888, \"#fdca26\"], [1.0, \"#f0f921\"]]}, \"colorway\": [\"#636efa\", \"#EF553B\", \"#00cc96\", \"#ab63fa\", \"#FFA15A\", \"#19d3f3\", \"#FF6692\", \"#B6E880\", \"#FF97FF\", \"#FECB52\"], \"font\": {\"color\": \"#2a3f5f\"}, \"geo\": {\"bgcolor\": \"white\", \"lakecolor\": \"white\", \"landcolor\": \"#E5ECF6\", \"showlakes\": true, \"showland\": true, \"subunitcolor\": \"white\"}, \"hoverlabel\": {\"align\": \"left\"}, \"hovermode\": \"closest\", \"mapbox\": {\"style\": \"light\"}, \"paper_bgcolor\": \"white\", \"plot_bgcolor\": \"#E5ECF6\", \"polar\": {\"angularaxis\": {\"gridcolor\": \"white\", \"linecolor\": \"white\", \"ticks\": \"\"}, \"bgcolor\": \"#E5ECF6\", \"radialaxis\": {\"gridcolor\": \"white\", \"linecolor\": \"white\", \"ticks\": \"\"}}, \"scene\": {\"xaxis\": {\"backgroundcolor\": \"#E5ECF6\", \"gridcolor\": \"white\", \"gridwidth\": 2, \"linecolor\": \"white\", \"showbackground\": true, \"ticks\": \"\", \"zerolinecolor\": \"white\"}, \"yaxis\": {\"backgroundcolor\": \"#E5ECF6\", \"gridcolor\": \"white\", \"gridwidth\": 2, \"linecolor\": \"white\", \"showbackground\": true, \"ticks\": \"\", \"zerolinecolor\": \"white\"}, \"zaxis\": {\"backgroundcolor\": \"#E5ECF6\", \"gridcolor\": \"white\", \"gridwidth\": 2, \"linecolor\": \"white\", \"showbackground\": true, \"ticks\": \"\", \"zerolinecolor\": \"white\"}}, \"shapedefaults\": {\"line\": {\"color\": \"#2a3f5f\"}}, \"ternary\": {\"aaxis\": {\"gridcolor\": \"white\", \"linecolor\": \"white\", \"ticks\": \"\"}, \"baxis\": {\"gridcolor\": \"white\", \"linecolor\": \"white\", \"ticks\": \"\"}, \"bgcolor\": \"#E5ECF6\", \"caxis\": {\"gridcolor\": \"white\", \"linecolor\": \"white\", \"ticks\": \"\"}}, \"title\": {\"x\": 0.05}, \"xaxis\": {\"automargin\": true, \"gridcolor\": \"white\", \"linecolor\": \"white\", \"ticks\": \"\", \"title\": {\"standoff\": 15}, \"zerolinecolor\": \"white\", \"zerolinewidth\": 2}, \"yaxis\": {\"automargin\": true, \"gridcolor\": \"white\", \"linecolor\": \"white\", \"ticks\": \"\", \"title\": {\"standoff\": 15}, \"zerolinecolor\": \"white\", \"zerolinewidth\": 2}}}, \"xaxis\": {\"anchor\": \"y\", \"domain\": [0.0, 1.0], \"title\": {\"text\": \"Income Change\"}}, \"yaxis\": {\"anchor\": \"x\", \"domain\": [0.0, 1.0], \"title\": {\"text\": \"count\"}}},\n",
       "                        {\"responsive\": true}\n",
       "                    ).then(function(){\n",
       "                            \n",
       "var gd = document.getElementById('b8ffba8a-9f97-477f-b42c-31f07733da65');\n",
       "var x = new MutationObserver(function (mutations, observer) {{\n",
       "        var display = window.getComputedStyle(gd).display;\n",
       "        if (!display || display === 'none') {{\n",
       "            console.log([gd, 'removed!']);\n",
       "            Plotly.purge(gd);\n",
       "            observer.disconnect();\n",
       "        }}\n",
       "}});\n",
       "\n",
       "// Listen for the removal of the full notebook cells\n",
       "var notebookContainer = gd.closest('#notebook-container');\n",
       "if (notebookContainer) {{\n",
       "    x.observe(notebookContainer, {childList: true});\n",
       "}}\n",
       "\n",
       "// Listen for the clearing of the current output cell\n",
       "var outputEl = gd.closest('.output');\n",
       "if (outputEl) {{\n",
       "    x.observe(outputEl, {childList: true});\n",
       "}}\n",
       "\n",
       "                        })\n",
       "                };\n",
       "                });\n",
       "            </script>\n",
       "        </div>"
      ]
     },
     "metadata": {},
     "output_type": "display_data"
    }
   ],
   "source": [
    "fig = px.histogram(finaldata, x=\"Income Change\", nbins=50)\n",
    "fig.show()"
   ]
  },
  {
   "cell_type": "markdown",
   "metadata": {},
   "source": [
    "<img src=\"https://raw.githubusercontent.com/Liyih/Twitch.tv-Metrics-Analysis/master/img/IncomeHisto.png\">"
   ]
  },
  {
   "cell_type": "markdown",
   "metadata": {},
   "source": [
    "The violin plot below tracks the volatility of income levels on a monthly basis - it is clear that post COVID-19 (around March 2020) there was a resultant increase in subscription activity across all major channels, with a slightly positive median (more channels benefitted from COVID than were hurt). "
   ]
  },
  {
   "cell_type": "code",
   "execution_count": 123,
   "metadata": {},
   "outputs": [
    {
     "data": {
      "application/vnd.plotly.v1+json": {
       "config": {
        "plotlyServerURL": "https://plot.ly"
       },
       "data": [
        {
         "alignmentgroup": "True",
         "box": {
          "visible": false
         },
         "hovertemplate": "Month=%{x}<br>Income Change=%{y}<extra></extra>",
         "legendgroup": "",
         "marker": {
          "color": "#636efa"
         },
         "name": "",
         "offsetgroup": "",
         "orientation": "v",
         "scalegroup": "True",
         "showlegend": false,
         "type": "violin",
         "x": [
          "2019-01-01",
          "2019-02-01",
          "2019-03-01",
          "2019-04-01",
          "2019-05-01",
          "2019-06-01",
          "2019-07-01",
          "2019-08-01",
          "2019-09-01",
          "2019-10-01",
          "2019-11-01",
          "2019-12-01",
          "2020-01-01",
          "2020-02-01",
          "2020-03-01",
          "2020-04-01",
          "2020-05-01",
          "2019-01-01",
          "2019-02-01",
          "2019-03-01",
          "2019-04-01",
          "2019-05-01",
          "2019-06-01",
          "2019-07-01",
          "2019-08-01",
          "2019-09-01",
          "2019-10-01",
          "2019-11-01",
          "2019-12-01",
          "2020-01-01",
          "2020-02-01",
          "2020-03-01",
          "2020-04-01",
          "2019-01-01",
          "2019-02-01",
          "2019-03-01",
          "2019-04-01",
          "2019-05-01",
          "2019-06-01",
          "2019-09-01",
          "2019-10-01",
          "2019-11-01",
          "2019-12-01",
          "2020-01-01",
          "2020-02-01",
          "2020-03-01",
          "2020-04-01",
          "2020-05-01",
          "2019-01-01",
          "2019-02-01",
          "2019-03-01",
          "2019-04-01",
          "2019-05-01",
          "2019-06-01",
          "2019-07-01",
          "2019-08-01",
          "2019-09-01",
          "2019-10-01",
          "2019-11-01",
          "2019-12-01",
          "2020-01-01",
          "2020-02-01",
          "2020-03-01",
          "2020-04-01",
          "2020-05-01",
          "2019-01-01",
          "2019-02-01",
          "2019-03-01",
          "2019-04-01",
          "2019-05-01",
          "2019-07-01",
          "2019-08-01",
          "2019-09-01",
          "2019-10-01",
          "2019-11-01",
          "2019-12-01",
          "2020-01-01",
          "2020-02-01",
          "2020-03-01",
          "2020-04-01",
          "2020-05-01",
          "2019-01-01",
          "2019-02-01",
          "2019-03-01",
          "2019-04-01",
          "2019-05-01",
          "2019-06-01",
          "2019-07-01",
          "2019-08-01",
          "2019-10-01",
          "2019-11-01",
          "2019-12-01",
          "2020-01-01",
          "2020-02-01",
          "2020-03-01",
          "2020-04-01",
          "2020-05-01",
          "2019-02-01",
          "2019-03-01",
          "2019-04-01",
          "2019-07-01",
          "2019-08-01",
          "2019-09-01",
          "2019-10-01",
          "2019-11-01",
          "2019-12-01",
          "2020-01-01",
          "2020-02-01",
          "2020-03-01",
          "2019-01-01",
          "2019-02-01",
          "2019-03-01",
          "2019-04-01",
          "2019-05-01",
          "2019-06-01",
          "2019-07-01",
          "2019-09-01",
          "2019-10-01",
          "2019-11-01",
          "2019-12-01",
          "2020-01-01",
          "2020-02-01",
          "2020-03-01",
          "2020-04-01",
          "2020-05-01",
          "2019-01-01",
          "2019-02-01",
          "2019-03-01",
          "2019-04-01",
          "2019-05-01",
          "2019-06-01",
          "2019-07-01",
          "2019-08-01",
          "2019-09-01",
          "2019-10-01",
          "2019-11-01",
          "2019-12-01",
          "2020-01-01",
          "2020-02-01",
          "2020-03-01",
          "2020-04-01",
          "2020-05-01",
          "2019-04-01",
          "2019-05-01",
          "2019-06-01",
          "2019-07-01",
          "2019-08-01",
          "2019-09-01",
          "2019-10-01",
          "2019-11-01",
          "2019-12-01",
          "2020-01-01",
          "2020-02-01",
          "2020-03-01",
          "2020-04-01",
          "2020-05-01",
          "2019-01-01",
          "2019-02-01",
          "2019-03-01",
          "2019-04-01",
          "2019-05-01",
          "2019-06-01",
          "2019-07-01",
          "2019-08-01",
          "2019-09-01",
          "2019-10-01",
          "2019-11-01",
          "2019-12-01",
          "2020-01-01",
          "2020-02-01",
          "2020-03-01",
          "2020-04-01",
          "2020-05-01",
          "2019-01-01",
          "2019-02-01",
          "2019-03-01",
          "2019-04-01",
          "2019-05-01",
          "2019-06-01",
          "2019-07-01",
          "2019-08-01",
          "2019-09-01",
          "2019-10-01",
          "2019-11-01",
          "2019-12-01",
          "2020-01-01",
          "2020-02-01",
          "2020-03-01",
          "2020-04-01",
          "2020-05-01",
          "2019-01-01",
          "2019-02-01",
          "2019-03-01",
          "2019-04-01",
          "2019-05-01",
          "2019-06-01",
          "2019-07-01",
          "2019-08-01",
          "2019-09-01",
          "2019-10-01",
          "2019-11-01",
          "2019-12-01",
          "2020-01-01",
          "2020-02-01",
          "2020-03-01",
          "2020-04-01",
          "2020-05-01",
          "2019-02-01",
          "2019-03-01",
          "2019-04-01",
          "2019-05-01",
          "2019-06-01",
          "2019-07-01",
          "2019-08-01",
          "2019-09-01",
          "2019-10-01",
          "2019-11-01",
          "2019-12-01",
          "2020-01-01",
          "2020-02-01",
          "2020-03-01",
          "2020-04-01",
          "2020-05-01",
          "2019-11-01",
          "2020-02-01",
          "2020-03-01",
          "2020-04-01",
          "2019-05-01",
          "2019-06-01",
          "2019-07-01",
          "2019-08-01",
          "2019-09-01",
          "2019-10-01",
          "2019-11-01",
          "2019-12-01",
          "2020-01-01",
          "2020-02-01",
          "2020-03-01",
          "2020-05-01",
          "2019-01-01",
          "2019-02-01",
          "2019-03-01",
          "2019-04-01",
          "2019-05-01",
          "2019-06-01",
          "2019-07-01",
          "2019-08-01",
          "2019-09-01",
          "2019-10-01",
          "2019-11-01",
          "2019-12-01",
          "2020-01-01",
          "2020-02-01",
          "2020-03-01",
          "2020-04-01",
          "2020-05-01",
          "2019-01-01",
          "2019-02-01",
          "2019-03-01",
          "2019-04-01",
          "2019-05-01",
          "2019-06-01",
          "2019-07-01",
          "2019-08-01",
          "2019-09-01",
          "2019-10-01",
          "2019-11-01",
          "2019-12-01",
          "2020-01-01",
          "2020-02-01",
          "2020-03-01",
          "2020-04-01",
          "2020-05-01",
          "2019-07-01",
          "2019-08-01",
          "2019-09-01",
          "2019-10-01",
          "2019-11-01",
          "2019-12-01",
          "2020-01-01",
          "2020-02-01",
          "2020-03-01",
          "2019-05-01",
          "2019-06-01",
          "2019-07-01",
          "2019-08-01",
          "2019-09-01",
          "2019-10-01",
          "2019-11-01",
          "2019-12-01",
          "2020-01-01",
          "2020-02-01",
          "2020-03-01",
          "2020-05-01",
          "2019-01-01",
          "2019-02-01",
          "2019-03-01",
          "2019-04-01",
          "2019-05-01",
          "2019-06-01",
          "2019-08-01",
          "2019-09-01",
          "2019-10-01",
          "2019-11-01",
          "2019-12-01",
          "2020-01-01",
          "2020-02-01",
          "2020-04-01",
          "2019-02-01",
          "2019-04-01",
          "2019-08-01",
          "2019-09-01",
          "2019-10-01",
          "2019-11-01",
          "2019-12-01",
          "2020-01-01",
          "2020-02-01",
          "2020-03-01",
          "2020-04-01",
          "2020-05-01",
          "2019-01-01",
          "2019-02-01",
          "2019-03-01",
          "2019-04-01",
          "2019-05-01",
          "2019-06-01",
          "2019-08-01",
          "2019-09-01",
          "2019-10-01",
          "2019-11-01",
          "2019-12-01",
          "2020-01-01",
          "2020-02-01",
          "2020-03-01",
          "2020-04-01",
          "2020-05-01",
          "2019-01-01",
          "2019-02-01",
          "2019-03-01",
          "2019-04-01",
          "2019-05-01",
          "2019-06-01",
          "2019-07-01",
          "2019-08-01",
          "2019-09-01",
          "2019-10-01",
          "2019-11-01",
          "2019-12-01",
          "2020-01-01",
          "2020-02-01",
          "2019-04-01",
          "2019-05-01",
          "2019-06-01",
          "2019-07-01",
          "2019-08-01",
          "2019-11-01",
          "2019-12-01",
          "2020-01-01",
          "2020-02-01",
          "2020-03-01",
          "2020-04-01",
          "2020-05-01",
          "2019-01-01",
          "2019-02-01",
          "2019-03-01",
          "2019-04-01",
          "2019-05-01",
          "2019-06-01",
          "2019-07-01",
          "2019-08-01",
          "2019-09-01",
          "2019-10-01",
          "2019-11-01",
          "2019-12-01",
          "2020-01-01",
          "2020-02-01",
          "2020-03-01",
          "2019-10-01",
          "2019-11-01",
          "2019-12-01",
          "2020-01-01",
          "2020-02-01",
          "2020-03-01",
          "2020-04-01",
          "2020-05-01",
          "2019-01-01",
          "2019-02-01",
          "2019-03-01",
          "2019-04-01",
          "2019-05-01",
          "2019-06-01",
          "2019-07-01",
          "2019-08-01",
          "2019-09-01",
          "2019-10-01",
          "2019-11-01",
          "2019-12-01",
          "2020-01-01",
          "2020-02-01",
          "2020-03-01",
          "2020-04-01",
          "2020-05-01",
          "2019-12-01",
          "2020-01-01",
          "2020-02-01",
          "2020-03-01",
          "2019-02-01",
          "2019-03-01",
          "2019-04-01",
          "2019-05-01",
          "2019-07-01",
          "2019-08-01",
          "2019-09-01",
          "2019-10-01",
          "2019-11-01",
          "2019-12-01",
          "2020-01-01",
          "2020-02-01",
          "2020-03-01",
          "2020-04-01",
          "2019-01-01",
          "2019-02-01",
          "2019-03-01",
          "2019-04-01",
          "2019-05-01",
          "2019-06-01",
          "2019-07-01",
          "2019-08-01",
          "2019-09-01",
          "2019-10-01",
          "2019-11-01",
          "2019-12-01",
          "2020-01-01",
          "2020-02-01",
          "2020-03-01",
          "2020-04-01",
          "2020-05-01",
          "2019-01-01",
          "2019-02-01",
          "2019-03-01",
          "2019-04-01",
          "2019-05-01",
          "2019-06-01",
          "2019-07-01",
          "2019-08-01",
          "2019-09-01",
          "2019-10-01",
          "2019-11-01",
          "2019-12-01",
          "2020-01-01",
          "2020-02-01",
          "2020-03-01",
          "2020-05-01",
          "2019-01-01",
          "2019-02-01",
          "2019-03-01",
          "2019-04-01",
          "2019-05-01",
          "2019-06-01",
          "2019-07-01",
          "2019-08-01",
          "2019-09-01",
          "2019-10-01",
          "2019-11-01",
          "2020-01-01",
          "2020-02-01",
          "2020-03-01",
          "2020-04-01",
          "2020-05-01",
          "2019-01-01",
          "2019-02-01",
          "2019-03-01",
          "2019-04-01",
          "2019-05-01",
          "2019-06-01",
          "2019-07-01",
          "2019-08-01",
          "2019-09-01",
          "2019-10-01",
          "2019-11-01",
          "2019-12-01",
          "2020-01-01",
          "2020-02-01",
          "2020-03-01",
          "2020-04-01",
          "2020-05-01",
          "2019-01-01",
          "2019-02-01",
          "2019-03-01",
          "2019-04-01",
          "2019-05-01",
          "2019-06-01",
          "2019-07-01",
          "2019-08-01",
          "2019-09-01",
          "2019-10-01",
          "2019-11-01",
          "2019-12-01",
          "2020-01-01",
          "2020-02-01",
          "2020-03-01",
          "2020-04-01",
          "2020-05-01"
         ],
         "x0": " ",
         "xaxis": "x",
         "y": [
          -36295.11,
          -7912.099999999991,
          -21266.29999999999,
          -57068.869999999995,
          -24214.5,
          -51934.17999999999,
          -39877.399999999994,
          -61972.53999999999,
          -26313.62999999999,
          -44781.73999999999,
          -58999.439999999995,
          -23594.11,
          -57707.59,
          -55145.719999999994,
          -53429.7,
          -51628.149999999994,
          -51658.869999999995,
          -519.1900000000005,
          4253.68,
          -967.8400000000001,
          843.8199999999997,
          359.7600000000002,
          3344.9500000000007,
          4098.24,
          2471.039999999999,
          2770.4500000000007,
          3308.74,
          3195.0499999999993,
          2252.289999999999,
          2831.7199999999993,
          4927.289999999999,
          8830.89,
          11124.369999999999,
          4950.549999999999,
          2336.029999999999,
          3608.2700000000004,
          -274.3999999999978,
          5469.41,
          4816.23,
          19811.210000000003,
          24202.100000000002,
          26118.3,
          13912.560000000001,
          33663.68000000001,
          29532.680000000004,
          48937.5,
          19131.780000000002,
          20809.350000000002,
          -20056.75,
          -12146.409999999996,
          -22381.5,
          -14806.220000000001,
          -21393.39,
          -13623.189999999995,
          -13739.54,
          -19612.979999999996,
          -13600.329999999994,
          -24379.18,
          -14643.29,
          6431.939999999995,
          -16045.150000000001,
          -20643.71,
          -19782.85,
          -36547.119999999995,
          -9944.449999999997,
          3036.010000000002,
          27360.629999999997,
          -115.19999999999709,
          1995.2699999999968,
          6881.5999999999985,
          36132.579999999994,
          33412.74,
          18706.590000000004,
          19111.050000000003,
          4029.980000000003,
          12244.330000000002,
          8346.730000000003,
          11799.739999999998,
          23431.46,
          34015.60999999999,
          29200.140000000007,
          -446.90000000000873,
          28996.050000000003,
          1263.4700000000012,
          -9430.530000000006,
          -12155.75,
          -4303.770000000004,
          -4959.610000000001,
          -12687.310000000005,
          -4406.530000000006,
          -20837.83,
          -12380.570000000007,
          5661.619999999995,
          -14823.380000000005,
          -7580.040000000001,
          17915.410000000003,
          -6802.340000000004,
          4875.610000000001,
          -4061.8499999999985,
          -3363.1399999999994,
          -1007.8099999999977,
          -4501.09,
          -5619.0599999999995,
          -279.369999999999,
          2754.7999999999993,
          8408.350000000002,
          3448.3899999999994,
          -1427.1800000000003,
          -783.489999999998,
          1517.42,
          15693.98,
          5456.07,
          928.4000000000015,
          1277.2400000000016,
          3264.460000000001,
          663.710000000001,
          10559.060000000001,
          7137.4000000000015,
          1810.1500000000015,
          3054.540000000001,
          1011.0300000000007,
          1804.6599999999999,
          2269.2300000000014,
          13787.59,
          -263.40999999999985,
          1212.579999999998,
          15804.36,
          11068.059999999998,
          134.79000000000087,
          -4591.1500000000015,
          -3233.6800000000003,
          -7295.810000000001,
          -3892.59,
          -5095.850000000002,
          10184.269999999997,
          -5719.200000000001,
          -2699.8199999999997,
          -5374.830000000002,
          -6906.510000000002,
          -4910.580000000002,
          -6532.330000000002,
          12714.169999999998,
          12032.19,
          11131.859999999999,
          11917.679999999998,
          15724.53,
          11941.31,
          30428.03,
          18630.270000000004,
          16006.539999999999,
          19451.239999999998,
          18561.04,
          18192.660000000003,
          19441.590000000004,
          27606.200000000004,
          31449.11,
          -4417.790000000001,
          23043.390000000007,
          -2948.25,
          -1913.3600000000006,
          1052.4100000000035,
          170.34999999999854,
          2119.8499999999985,
          -2652.0999999999985,
          -3336.979999999996,
          -8826.68,
          -8358.580000000002,
          -8588.21,
          -8489.379999999997,
          -10045.220000000001,
          -3992.290000000001,
          -16262.89,
          -4911,
          -149.20999999999913,
          -3822.0600000000013,
          -9405.539999999999,
          -10982.83,
          -4869.450000000001,
          -9251.06,
          -4914.509999999998,
          10445.400000000001,
          35480.55,
          2535.9000000000015,
          184.97000000000116,
          3363.6100000000006,
          8334.009999999998,
          4541.4000000000015,
          16572.55,
          13278.84,
          25274.859999999997,
          47799.56,
          40211.83,
          -17968.109999999986,
          -31031.87999999999,
          11129.950000000012,
          5192.320000000007,
          21058.37000000001,
          7284.25,
          -19897.979999999996,
          15433.550000000003,
          -18150.39,
          -3426.5099999999948,
          206.2100000000064,
          7384.330000000002,
          28186.880000000005,
          63964.5,
          37071.68000000001,
          5855.769999999999,
          3798.6100000000006,
          963.710000000001,
          3230.290000000001,
          1011.7800000000007,
          1569.5,
          -718.5,
          1322.1499999999996,
          7207.840000000002,
          3937.6900000000005,
          4942.359999999999,
          6850.219999999999,
          5506.210000000001,
          6464.789999999999,
          11317.35,
          6709.99,
          -3497.9900000000002,
          -2260.4700000000003,
          -2829.3300000000004,
          -2420.1500000000005,
          -514.31,
          -713.8900000000001,
          -324.19000000000005,
          -1382.6100000000001,
          -698.72,
          11417.36,
          5683.35,
          6651.59,
          229.23999999999978,
          8058.49,
          4555.55,
          4964.8,
          37922.65000000001,
          10875,
          -886.7599999999948,
          -5483.659999999996,
          5707.340000000004,
          4782.460000000006,
          639.2700000000041,
          -7350.32,
          -23209.609999999997,
          2326.9900000000052,
          -19989.839999999997,
          -16436.019999999997,
          -4679,
          -14302.059999999998,
          -7240.309999999998,
          -3848.209999999999,
          18289.48000000001,
          21150.430000000008,
          19350.53,
          4512.419999999998,
          -12627.979999999996,
          -6160.1500000000015,
          -17315.519999999997,
          -15879.32,
          -14591,
          -25805.869999999995,
          -18094.729999999996,
          -32777.82,
          -15360.619999999995,
          -26774.71,
          -25526.47,
          -14953.309999999998,
          21715.320000000007,
          -6295.199999999997,
          3228.1899999999987,
          2988.790000000001,
          4775.240000000002,
          13074.059999999998,
          12110.529999999999,
          23562.86,
          16162.64,
          15977.779999999999,
          35588.17,
          22018.679999999997,
          16267.630000000001,
          -6059.32,
          1737.9999999999964,
          7283.48,
          -683.6800000000003,
          -8728.48,
          -418.8700000000026,
          -1209.2900000000009,
          -1486.8899999999994,
          16386.399999999998,
          10537.439999999999,
          3528.0300000000007,
          1703.9300000000003,
          6415.83,
          -573.3899999999994,
          -738.0799999999999,
          627.7000000000007,
          2384.620000000001,
          763.2700000000004,
          9201.44,
          4690.48,
          1731.6900000000005,
          -1362.4899999999998,
          2389.870000000001,
          9841.4,
          259.50999999999976,
          768.44,
          -753.6100000000001,
          1516.85,
          -289.5400000000002,
          2080.72,
          1077.7199999999998,
          942.9899999999998,
          -124.85000000000014,
          74.75999999999999,
          -119.84000000000015,
          -369.3900000000001,
          -639.9399999999996,
          1956.4000000000005,
          -2057.8599999999997,
          -690.6399999999994,
          -1574.37,
          -2117.4799999999996,
          -574.4699999999993,
          756.3000000000002,
          1360.5299999999997,
          -780.5199999999995,
          -316.02999999999975,
          -695.71,
          -2867.04,
          -2058.5599999999995,
          -1948.8399999999992,
          -2992.6899999999996,
          -18933.449999999997,
          -20055.369999999995,
          -22402.079999999998,
          -20155.489999999998,
          -19866.1,
          -20066.249999999996,
          -7740.789999999994,
          -7052.219999999994,
          -15685.639999999996,
          -17935.709999999995,
          -21164.889999999996,
          -15934.679999999997,
          -17007.78,
          -16938.069999999996,
          -4313.22,
          -4902.96,
          -4393.46,
          -4818.02,
          -4798.04,
          -4618,
          -4458.16,
          -4753.09,
          -4863.05,
          -4823.14,
          -4668.36,
          -4708.27,
          -2969.2700000000004,
          6567,
          -1697.3199999999997,
          -6148.740000000002,
          -4317.5,
          -4746.639999999999,
          -7122.209999999999,
          -8339.720000000001,
          -5300.630000000001,
          -7815.810000000001,
          -10225.880000000001,
          -7032.369999999999,
          -7581.170000000002,
          -10166.11,
          -11887.82,
          34.959999999999994,
          19.97999999999999,
          5,
          0.009999999999990905,
          14.97999999999999,
          34.97,
          -9.969999999999999,
          -74.87,
          -683.4699999999993,
          6176.67,
          1079.1200000000008,
          -204.17000000000007,
          519.7399999999998,
          -13.549999999999272,
          -673.9500000000007,
          -5292.08,
          607.4799999999996,
          503.4300000000003,
          -4509.63,
          -345.9500000000007,
          -3141.6100000000006,
          -2292.8500000000004,
          -6446.73,
          -3795.6000000000004,
          -5164.39,
          0,
          19.96,
          -29.95,
          -24.96,
          9527.220000000001,
          12375.82,
          6627.340000000001,
          6941.410000000001,
          6886.55,
          4241.62,
          6866.320000000001,
          8573.150000000001,
          7375.61,
          5698.81,
          9701.04,
          15249.870000000003,
          13747.93,
          3677.670000000001,
          -853.25,
          2410.29,
          -1097.7599999999998,
          -918.06,
          -1446.5499999999997,
          -1975.9899999999998,
          -1471.9799999999996,
          -1731.54,
          -1237.4299999999998,
          -1701.6999999999998,
          -1841.33,
          -1422.27,
          -958.1099999999997,
          -878.1899999999996,
          354.3000000000002,
          6049.780000000001,
          1956.37,
          953.0099999999984,
          13443.149999999998,
          2374.2999999999993,
          -362.8199999999997,
          1295.5599999999977,
          225.77999999999884,
          -1457.1100000000006,
          -14536.800000000001,
          1526.630000000001,
          679.489999999998,
          -3021.880000000001,
          -3287.4500000000007,
          -2441.9400000000023,
          -4314.290000000001,
          -4778.959999999999,
          -2484.66,
          -12430.900000000001,
          7739.82,
          11012.46,
          -11058.870000000003,
          -7225.940000000002,
          -19786.58,
          -9017.940000000002,
          -11932.2,
          -23045.300000000003,
          -13913.080000000002,
          -23494.260000000002,
          -17825.65,
          -17106.920000000002,
          -17959.97,
          -20105.870000000003,
          -15474.940000000002,
          11265.260000000002,
          2834.9300000000003,
          2202.989999999998,
          -6505.0899999999965,
          -17664.17,
          -30825.15,
          -17646.309999999998,
          -18036.050000000003,
          -25142.010000000002,
          -21818.519999999997,
          -28879.95,
          -19582.730000000003,
          -8853.589999999997,
          -1528.3099999999977,
          5472.810000000005,
          85172.69999999998,
          26478.799999999996,
          2799.6700000000055,
          5111.040000000001,
          -3617.8600000000006,
          -5574.4699999999975,
          -2699.3899999999994,
          1297.3300000000017,
          10084.530000000006,
          5823.310000000005,
          27484.61,
          16247.410000000003,
          13517.690000000002,
          21826.270000000004,
          12619.510000000002,
          21341.36,
          16720.910000000003,
          35678.73,
          35882.76
         ],
         "y0": " ",
         "yaxis": "y"
        }
       ],
       "layout": {
        "legend": {
         "tracegroupgap": 0
        },
        "margin": {
         "t": 60
        },
        "template": {
         "data": {
          "bar": [
           {
            "error_x": {
             "color": "#2a3f5f"
            },
            "error_y": {
             "color": "#2a3f5f"
            },
            "marker": {
             "line": {
              "color": "#E5ECF6",
              "width": 0.5
             }
            },
            "type": "bar"
           }
          ],
          "barpolar": [
           {
            "marker": {
             "line": {
              "color": "#E5ECF6",
              "width": 0.5
             }
            },
            "type": "barpolar"
           }
          ],
          "carpet": [
           {
            "aaxis": {
             "endlinecolor": "#2a3f5f",
             "gridcolor": "white",
             "linecolor": "white",
             "minorgridcolor": "white",
             "startlinecolor": "#2a3f5f"
            },
            "baxis": {
             "endlinecolor": "#2a3f5f",
             "gridcolor": "white",
             "linecolor": "white",
             "minorgridcolor": "white",
             "startlinecolor": "#2a3f5f"
            },
            "type": "carpet"
           }
          ],
          "choropleth": [
           {
            "colorbar": {
             "outlinewidth": 0,
             "ticks": ""
            },
            "type": "choropleth"
           }
          ],
          "contour": [
           {
            "colorbar": {
             "outlinewidth": 0,
             "ticks": ""
            },
            "colorscale": [
             [
              0,
              "#0d0887"
             ],
             [
              0.1111111111111111,
              "#46039f"
             ],
             [
              0.2222222222222222,
              "#7201a8"
             ],
             [
              0.3333333333333333,
              "#9c179e"
             ],
             [
              0.4444444444444444,
              "#bd3786"
             ],
             [
              0.5555555555555556,
              "#d8576b"
             ],
             [
              0.6666666666666666,
              "#ed7953"
             ],
             [
              0.7777777777777778,
              "#fb9f3a"
             ],
             [
              0.8888888888888888,
              "#fdca26"
             ],
             [
              1,
              "#f0f921"
             ]
            ],
            "type": "contour"
           }
          ],
          "contourcarpet": [
           {
            "colorbar": {
             "outlinewidth": 0,
             "ticks": ""
            },
            "type": "contourcarpet"
           }
          ],
          "heatmap": [
           {
            "colorbar": {
             "outlinewidth": 0,
             "ticks": ""
            },
            "colorscale": [
             [
              0,
              "#0d0887"
             ],
             [
              0.1111111111111111,
              "#46039f"
             ],
             [
              0.2222222222222222,
              "#7201a8"
             ],
             [
              0.3333333333333333,
              "#9c179e"
             ],
             [
              0.4444444444444444,
              "#bd3786"
             ],
             [
              0.5555555555555556,
              "#d8576b"
             ],
             [
              0.6666666666666666,
              "#ed7953"
             ],
             [
              0.7777777777777778,
              "#fb9f3a"
             ],
             [
              0.8888888888888888,
              "#fdca26"
             ],
             [
              1,
              "#f0f921"
             ]
            ],
            "type": "heatmap"
           }
          ],
          "heatmapgl": [
           {
            "colorbar": {
             "outlinewidth": 0,
             "ticks": ""
            },
            "colorscale": [
             [
              0,
              "#0d0887"
             ],
             [
              0.1111111111111111,
              "#46039f"
             ],
             [
              0.2222222222222222,
              "#7201a8"
             ],
             [
              0.3333333333333333,
              "#9c179e"
             ],
             [
              0.4444444444444444,
              "#bd3786"
             ],
             [
              0.5555555555555556,
              "#d8576b"
             ],
             [
              0.6666666666666666,
              "#ed7953"
             ],
             [
              0.7777777777777778,
              "#fb9f3a"
             ],
             [
              0.8888888888888888,
              "#fdca26"
             ],
             [
              1,
              "#f0f921"
             ]
            ],
            "type": "heatmapgl"
           }
          ],
          "histogram": [
           {
            "marker": {
             "colorbar": {
              "outlinewidth": 0,
              "ticks": ""
             }
            },
            "type": "histogram"
           }
          ],
          "histogram2d": [
           {
            "colorbar": {
             "outlinewidth": 0,
             "ticks": ""
            },
            "colorscale": [
             [
              0,
              "#0d0887"
             ],
             [
              0.1111111111111111,
              "#46039f"
             ],
             [
              0.2222222222222222,
              "#7201a8"
             ],
             [
              0.3333333333333333,
              "#9c179e"
             ],
             [
              0.4444444444444444,
              "#bd3786"
             ],
             [
              0.5555555555555556,
              "#d8576b"
             ],
             [
              0.6666666666666666,
              "#ed7953"
             ],
             [
              0.7777777777777778,
              "#fb9f3a"
             ],
             [
              0.8888888888888888,
              "#fdca26"
             ],
             [
              1,
              "#f0f921"
             ]
            ],
            "type": "histogram2d"
           }
          ],
          "histogram2dcontour": [
           {
            "colorbar": {
             "outlinewidth": 0,
             "ticks": ""
            },
            "colorscale": [
             [
              0,
              "#0d0887"
             ],
             [
              0.1111111111111111,
              "#46039f"
             ],
             [
              0.2222222222222222,
              "#7201a8"
             ],
             [
              0.3333333333333333,
              "#9c179e"
             ],
             [
              0.4444444444444444,
              "#bd3786"
             ],
             [
              0.5555555555555556,
              "#d8576b"
             ],
             [
              0.6666666666666666,
              "#ed7953"
             ],
             [
              0.7777777777777778,
              "#fb9f3a"
             ],
             [
              0.8888888888888888,
              "#fdca26"
             ],
             [
              1,
              "#f0f921"
             ]
            ],
            "type": "histogram2dcontour"
           }
          ],
          "mesh3d": [
           {
            "colorbar": {
             "outlinewidth": 0,
             "ticks": ""
            },
            "type": "mesh3d"
           }
          ],
          "parcoords": [
           {
            "line": {
             "colorbar": {
              "outlinewidth": 0,
              "ticks": ""
             }
            },
            "type": "parcoords"
           }
          ],
          "pie": [
           {
            "automargin": true,
            "type": "pie"
           }
          ],
          "scatter": [
           {
            "marker": {
             "colorbar": {
              "outlinewidth": 0,
              "ticks": ""
             }
            },
            "type": "scatter"
           }
          ],
          "scatter3d": [
           {
            "line": {
             "colorbar": {
              "outlinewidth": 0,
              "ticks": ""
             }
            },
            "marker": {
             "colorbar": {
              "outlinewidth": 0,
              "ticks": ""
             }
            },
            "type": "scatter3d"
           }
          ],
          "scattercarpet": [
           {
            "marker": {
             "colorbar": {
              "outlinewidth": 0,
              "ticks": ""
             }
            },
            "type": "scattercarpet"
           }
          ],
          "scattergeo": [
           {
            "marker": {
             "colorbar": {
              "outlinewidth": 0,
              "ticks": ""
             }
            },
            "type": "scattergeo"
           }
          ],
          "scattergl": [
           {
            "marker": {
             "colorbar": {
              "outlinewidth": 0,
              "ticks": ""
             }
            },
            "type": "scattergl"
           }
          ],
          "scattermapbox": [
           {
            "marker": {
             "colorbar": {
              "outlinewidth": 0,
              "ticks": ""
             }
            },
            "type": "scattermapbox"
           }
          ],
          "scatterpolar": [
           {
            "marker": {
             "colorbar": {
              "outlinewidth": 0,
              "ticks": ""
             }
            },
            "type": "scatterpolar"
           }
          ],
          "scatterpolargl": [
           {
            "marker": {
             "colorbar": {
              "outlinewidth": 0,
              "ticks": ""
             }
            },
            "type": "scatterpolargl"
           }
          ],
          "scatterternary": [
           {
            "marker": {
             "colorbar": {
              "outlinewidth": 0,
              "ticks": ""
             }
            },
            "type": "scatterternary"
           }
          ],
          "surface": [
           {
            "colorbar": {
             "outlinewidth": 0,
             "ticks": ""
            },
            "colorscale": [
             [
              0,
              "#0d0887"
             ],
             [
              0.1111111111111111,
              "#46039f"
             ],
             [
              0.2222222222222222,
              "#7201a8"
             ],
             [
              0.3333333333333333,
              "#9c179e"
             ],
             [
              0.4444444444444444,
              "#bd3786"
             ],
             [
              0.5555555555555556,
              "#d8576b"
             ],
             [
              0.6666666666666666,
              "#ed7953"
             ],
             [
              0.7777777777777778,
              "#fb9f3a"
             ],
             [
              0.8888888888888888,
              "#fdca26"
             ],
             [
              1,
              "#f0f921"
             ]
            ],
            "type": "surface"
           }
          ],
          "table": [
           {
            "cells": {
             "fill": {
              "color": "#EBF0F8"
             },
             "line": {
              "color": "white"
             }
            },
            "header": {
             "fill": {
              "color": "#C8D4E3"
             },
             "line": {
              "color": "white"
             }
            },
            "type": "table"
           }
          ]
         },
         "layout": {
          "annotationdefaults": {
           "arrowcolor": "#2a3f5f",
           "arrowhead": 0,
           "arrowwidth": 1
          },
          "coloraxis": {
           "colorbar": {
            "outlinewidth": 0,
            "ticks": ""
           }
          },
          "colorscale": {
           "diverging": [
            [
             0,
             "#8e0152"
            ],
            [
             0.1,
             "#c51b7d"
            ],
            [
             0.2,
             "#de77ae"
            ],
            [
             0.3,
             "#f1b6da"
            ],
            [
             0.4,
             "#fde0ef"
            ],
            [
             0.5,
             "#f7f7f7"
            ],
            [
             0.6,
             "#e6f5d0"
            ],
            [
             0.7,
             "#b8e186"
            ],
            [
             0.8,
             "#7fbc41"
            ],
            [
             0.9,
             "#4d9221"
            ],
            [
             1,
             "#276419"
            ]
           ],
           "sequential": [
            [
             0,
             "#0d0887"
            ],
            [
             0.1111111111111111,
             "#46039f"
            ],
            [
             0.2222222222222222,
             "#7201a8"
            ],
            [
             0.3333333333333333,
             "#9c179e"
            ],
            [
             0.4444444444444444,
             "#bd3786"
            ],
            [
             0.5555555555555556,
             "#d8576b"
            ],
            [
             0.6666666666666666,
             "#ed7953"
            ],
            [
             0.7777777777777778,
             "#fb9f3a"
            ],
            [
             0.8888888888888888,
             "#fdca26"
            ],
            [
             1,
             "#f0f921"
            ]
           ],
           "sequentialminus": [
            [
             0,
             "#0d0887"
            ],
            [
             0.1111111111111111,
             "#46039f"
            ],
            [
             0.2222222222222222,
             "#7201a8"
            ],
            [
             0.3333333333333333,
             "#9c179e"
            ],
            [
             0.4444444444444444,
             "#bd3786"
            ],
            [
             0.5555555555555556,
             "#d8576b"
            ],
            [
             0.6666666666666666,
             "#ed7953"
            ],
            [
             0.7777777777777778,
             "#fb9f3a"
            ],
            [
             0.8888888888888888,
             "#fdca26"
            ],
            [
             1,
             "#f0f921"
            ]
           ]
          },
          "colorway": [
           "#636efa",
           "#EF553B",
           "#00cc96",
           "#ab63fa",
           "#FFA15A",
           "#19d3f3",
           "#FF6692",
           "#B6E880",
           "#FF97FF",
           "#FECB52"
          ],
          "font": {
           "color": "#2a3f5f"
          },
          "geo": {
           "bgcolor": "white",
           "lakecolor": "white",
           "landcolor": "#E5ECF6",
           "showlakes": true,
           "showland": true,
           "subunitcolor": "white"
          },
          "hoverlabel": {
           "align": "left"
          },
          "hovermode": "closest",
          "mapbox": {
           "style": "light"
          },
          "paper_bgcolor": "white",
          "plot_bgcolor": "#E5ECF6",
          "polar": {
           "angularaxis": {
            "gridcolor": "white",
            "linecolor": "white",
            "ticks": ""
           },
           "bgcolor": "#E5ECF6",
           "radialaxis": {
            "gridcolor": "white",
            "linecolor": "white",
            "ticks": ""
           }
          },
          "scene": {
           "xaxis": {
            "backgroundcolor": "#E5ECF6",
            "gridcolor": "white",
            "gridwidth": 2,
            "linecolor": "white",
            "showbackground": true,
            "ticks": "",
            "zerolinecolor": "white"
           },
           "yaxis": {
            "backgroundcolor": "#E5ECF6",
            "gridcolor": "white",
            "gridwidth": 2,
            "linecolor": "white",
            "showbackground": true,
            "ticks": "",
            "zerolinecolor": "white"
           },
           "zaxis": {
            "backgroundcolor": "#E5ECF6",
            "gridcolor": "white",
            "gridwidth": 2,
            "linecolor": "white",
            "showbackground": true,
            "ticks": "",
            "zerolinecolor": "white"
           }
          },
          "shapedefaults": {
           "line": {
            "color": "#2a3f5f"
           }
          },
          "ternary": {
           "aaxis": {
            "gridcolor": "white",
            "linecolor": "white",
            "ticks": ""
           },
           "baxis": {
            "gridcolor": "white",
            "linecolor": "white",
            "ticks": ""
           },
           "bgcolor": "#E5ECF6",
           "caxis": {
            "gridcolor": "white",
            "linecolor": "white",
            "ticks": ""
           }
          },
          "title": {
           "x": 0.05
          },
          "xaxis": {
           "automargin": true,
           "gridcolor": "white",
           "linecolor": "white",
           "ticks": "",
           "title": {
            "standoff": 15
           },
           "zerolinecolor": "white",
           "zerolinewidth": 2
          },
          "yaxis": {
           "automargin": true,
           "gridcolor": "white",
           "linecolor": "white",
           "ticks": "",
           "title": {
            "standoff": 15
           },
           "zerolinecolor": "white",
           "zerolinewidth": 2
          }
         }
        },
        "violinmode": "group",
        "xaxis": {
         "anchor": "y",
         "domain": [
          0,
          1
         ],
         "title": {
          "text": "Month"
         }
        },
        "yaxis": {
         "anchor": "x",
         "domain": [
          0,
          1
         ],
         "title": {
          "text": "Income Change"
         }
        }
       }
      },
      "text/html": [
       "<div>\n",
       "        \n",
       "        \n",
       "            <div id=\"c8f37c5c-6b57-4106-a45e-36fa6d7256f0\" class=\"plotly-graph-div\" style=\"height:525px; width:100%;\"></div>\n",
       "            <script type=\"text/javascript\">\n",
       "                require([\"plotly\"], function(Plotly) {\n",
       "                    window.PLOTLYENV=window.PLOTLYENV || {};\n",
       "                    \n",
       "                if (document.getElementById(\"c8f37c5c-6b57-4106-a45e-36fa6d7256f0\")) {\n",
       "                    Plotly.newPlot(\n",
       "                        'c8f37c5c-6b57-4106-a45e-36fa6d7256f0',\n",
       "                        [{\"alignmentgroup\": \"True\", \"box\": {\"visible\": false}, \"hovertemplate\": \"Month=%{x}<br>Income Change=%{y}<extra></extra>\", \"legendgroup\": \"\", \"marker\": {\"color\": \"#636efa\"}, \"name\": \"\", \"offsetgroup\": \"\", \"orientation\": \"v\", \"scalegroup\": \"True\", \"showlegend\": false, \"type\": \"violin\", \"x\": [\"2019-01-01\", \"2019-02-01\", \"2019-03-01\", \"2019-04-01\", \"2019-05-01\", \"2019-06-01\", \"2019-07-01\", \"2019-08-01\", \"2019-09-01\", \"2019-10-01\", \"2019-11-01\", \"2019-12-01\", \"2020-01-01\", \"2020-02-01\", \"2020-03-01\", \"2020-04-01\", \"2020-05-01\", \"2019-01-01\", \"2019-02-01\", \"2019-03-01\", \"2019-04-01\", \"2019-05-01\", \"2019-06-01\", \"2019-07-01\", \"2019-08-01\", \"2019-09-01\", \"2019-10-01\", \"2019-11-01\", \"2019-12-01\", \"2020-01-01\", \"2020-02-01\", \"2020-03-01\", \"2020-04-01\", \"2019-01-01\", \"2019-02-01\", \"2019-03-01\", \"2019-04-01\", \"2019-05-01\", \"2019-06-01\", \"2019-09-01\", \"2019-10-01\", \"2019-11-01\", \"2019-12-01\", \"2020-01-01\", \"2020-02-01\", \"2020-03-01\", \"2020-04-01\", \"2020-05-01\", \"2019-01-01\", \"2019-02-01\", \"2019-03-01\", \"2019-04-01\", \"2019-05-01\", \"2019-06-01\", \"2019-07-01\", \"2019-08-01\", \"2019-09-01\", \"2019-10-01\", \"2019-11-01\", \"2019-12-01\", \"2020-01-01\", \"2020-02-01\", \"2020-03-01\", \"2020-04-01\", \"2020-05-01\", \"2019-01-01\", \"2019-02-01\", \"2019-03-01\", \"2019-04-01\", \"2019-05-01\", \"2019-07-01\", \"2019-08-01\", \"2019-09-01\", \"2019-10-01\", \"2019-11-01\", \"2019-12-01\", \"2020-01-01\", \"2020-02-01\", \"2020-03-01\", \"2020-04-01\", \"2020-05-01\", \"2019-01-01\", \"2019-02-01\", \"2019-03-01\", \"2019-04-01\", \"2019-05-01\", \"2019-06-01\", \"2019-07-01\", \"2019-08-01\", \"2019-10-01\", \"2019-11-01\", \"2019-12-01\", \"2020-01-01\", \"2020-02-01\", \"2020-03-01\", \"2020-04-01\", \"2020-05-01\", \"2019-02-01\", \"2019-03-01\", \"2019-04-01\", \"2019-07-01\", \"2019-08-01\", \"2019-09-01\", \"2019-10-01\", \"2019-11-01\", \"2019-12-01\", \"2020-01-01\", \"2020-02-01\", \"2020-03-01\", \"2019-01-01\", \"2019-02-01\", \"2019-03-01\", \"2019-04-01\", \"2019-05-01\", \"2019-06-01\", \"2019-07-01\", \"2019-09-01\", \"2019-10-01\", \"2019-11-01\", \"2019-12-01\", \"2020-01-01\", \"2020-02-01\", \"2020-03-01\", \"2020-04-01\", \"2020-05-01\", \"2019-01-01\", \"2019-02-01\", \"2019-03-01\", \"2019-04-01\", \"2019-05-01\", \"2019-06-01\", \"2019-07-01\", \"2019-08-01\", \"2019-09-01\", \"2019-10-01\", \"2019-11-01\", \"2019-12-01\", \"2020-01-01\", \"2020-02-01\", \"2020-03-01\", \"2020-04-01\", \"2020-05-01\", \"2019-04-01\", \"2019-05-01\", \"2019-06-01\", \"2019-07-01\", \"2019-08-01\", \"2019-09-01\", \"2019-10-01\", \"2019-11-01\", \"2019-12-01\", \"2020-01-01\", \"2020-02-01\", \"2020-03-01\", \"2020-04-01\", \"2020-05-01\", \"2019-01-01\", \"2019-02-01\", \"2019-03-01\", \"2019-04-01\", \"2019-05-01\", \"2019-06-01\", \"2019-07-01\", \"2019-08-01\", \"2019-09-01\", \"2019-10-01\", \"2019-11-01\", \"2019-12-01\", \"2020-01-01\", \"2020-02-01\", \"2020-03-01\", \"2020-04-01\", \"2020-05-01\", \"2019-01-01\", \"2019-02-01\", \"2019-03-01\", \"2019-04-01\", \"2019-05-01\", \"2019-06-01\", \"2019-07-01\", \"2019-08-01\", \"2019-09-01\", \"2019-10-01\", \"2019-11-01\", \"2019-12-01\", \"2020-01-01\", \"2020-02-01\", \"2020-03-01\", \"2020-04-01\", \"2020-05-01\", \"2019-01-01\", \"2019-02-01\", \"2019-03-01\", \"2019-04-01\", \"2019-05-01\", \"2019-06-01\", \"2019-07-01\", \"2019-08-01\", \"2019-09-01\", \"2019-10-01\", \"2019-11-01\", \"2019-12-01\", \"2020-01-01\", \"2020-02-01\", \"2020-03-01\", \"2020-04-01\", \"2020-05-01\", \"2019-02-01\", \"2019-03-01\", \"2019-04-01\", \"2019-05-01\", \"2019-06-01\", \"2019-07-01\", \"2019-08-01\", \"2019-09-01\", \"2019-10-01\", \"2019-11-01\", \"2019-12-01\", \"2020-01-01\", \"2020-02-01\", \"2020-03-01\", \"2020-04-01\", \"2020-05-01\", \"2019-11-01\", \"2020-02-01\", \"2020-03-01\", \"2020-04-01\", \"2019-05-01\", \"2019-06-01\", \"2019-07-01\", \"2019-08-01\", \"2019-09-01\", \"2019-10-01\", \"2019-11-01\", \"2019-12-01\", \"2020-01-01\", \"2020-02-01\", \"2020-03-01\", \"2020-05-01\", \"2019-01-01\", \"2019-02-01\", \"2019-03-01\", \"2019-04-01\", \"2019-05-01\", \"2019-06-01\", \"2019-07-01\", \"2019-08-01\", \"2019-09-01\", \"2019-10-01\", \"2019-11-01\", \"2019-12-01\", \"2020-01-01\", \"2020-02-01\", \"2020-03-01\", \"2020-04-01\", \"2020-05-01\", \"2019-01-01\", \"2019-02-01\", \"2019-03-01\", \"2019-04-01\", \"2019-05-01\", \"2019-06-01\", \"2019-07-01\", \"2019-08-01\", \"2019-09-01\", \"2019-10-01\", \"2019-11-01\", \"2019-12-01\", \"2020-01-01\", \"2020-02-01\", \"2020-03-01\", \"2020-04-01\", \"2020-05-01\", \"2019-07-01\", \"2019-08-01\", \"2019-09-01\", \"2019-10-01\", \"2019-11-01\", \"2019-12-01\", \"2020-01-01\", \"2020-02-01\", \"2020-03-01\", \"2019-05-01\", \"2019-06-01\", \"2019-07-01\", \"2019-08-01\", \"2019-09-01\", \"2019-10-01\", \"2019-11-01\", \"2019-12-01\", \"2020-01-01\", \"2020-02-01\", \"2020-03-01\", \"2020-05-01\", \"2019-01-01\", \"2019-02-01\", \"2019-03-01\", \"2019-04-01\", \"2019-05-01\", \"2019-06-01\", \"2019-08-01\", \"2019-09-01\", \"2019-10-01\", \"2019-11-01\", \"2019-12-01\", \"2020-01-01\", \"2020-02-01\", \"2020-04-01\", \"2019-02-01\", \"2019-04-01\", \"2019-08-01\", \"2019-09-01\", \"2019-10-01\", \"2019-11-01\", \"2019-12-01\", \"2020-01-01\", \"2020-02-01\", \"2020-03-01\", \"2020-04-01\", \"2020-05-01\", \"2019-01-01\", \"2019-02-01\", \"2019-03-01\", \"2019-04-01\", \"2019-05-01\", \"2019-06-01\", \"2019-08-01\", \"2019-09-01\", \"2019-10-01\", \"2019-11-01\", \"2019-12-01\", \"2020-01-01\", \"2020-02-01\", \"2020-03-01\", \"2020-04-01\", \"2020-05-01\", \"2019-01-01\", \"2019-02-01\", \"2019-03-01\", \"2019-04-01\", \"2019-05-01\", \"2019-06-01\", \"2019-07-01\", \"2019-08-01\", \"2019-09-01\", \"2019-10-01\", \"2019-11-01\", \"2019-12-01\", \"2020-01-01\", \"2020-02-01\", \"2019-04-01\", \"2019-05-01\", \"2019-06-01\", \"2019-07-01\", \"2019-08-01\", \"2019-11-01\", \"2019-12-01\", \"2020-01-01\", \"2020-02-01\", \"2020-03-01\", \"2020-04-01\", \"2020-05-01\", \"2019-01-01\", \"2019-02-01\", \"2019-03-01\", \"2019-04-01\", \"2019-05-01\", \"2019-06-01\", \"2019-07-01\", \"2019-08-01\", \"2019-09-01\", \"2019-10-01\", \"2019-11-01\", \"2019-12-01\", \"2020-01-01\", \"2020-02-01\", \"2020-03-01\", \"2019-10-01\", \"2019-11-01\", \"2019-12-01\", \"2020-01-01\", \"2020-02-01\", \"2020-03-01\", \"2020-04-01\", \"2020-05-01\", \"2019-01-01\", \"2019-02-01\", \"2019-03-01\", \"2019-04-01\", \"2019-05-01\", \"2019-06-01\", \"2019-07-01\", \"2019-08-01\", \"2019-09-01\", \"2019-10-01\", \"2019-11-01\", \"2019-12-01\", \"2020-01-01\", \"2020-02-01\", \"2020-03-01\", \"2020-04-01\", \"2020-05-01\", \"2019-12-01\", \"2020-01-01\", \"2020-02-01\", \"2020-03-01\", \"2019-02-01\", \"2019-03-01\", \"2019-04-01\", \"2019-05-01\", \"2019-07-01\", \"2019-08-01\", \"2019-09-01\", \"2019-10-01\", \"2019-11-01\", \"2019-12-01\", \"2020-01-01\", \"2020-02-01\", \"2020-03-01\", \"2020-04-01\", \"2019-01-01\", \"2019-02-01\", \"2019-03-01\", \"2019-04-01\", \"2019-05-01\", \"2019-06-01\", \"2019-07-01\", \"2019-08-01\", \"2019-09-01\", \"2019-10-01\", \"2019-11-01\", \"2019-12-01\", \"2020-01-01\", \"2020-02-01\", \"2020-03-01\", \"2020-04-01\", \"2020-05-01\", \"2019-01-01\", \"2019-02-01\", \"2019-03-01\", \"2019-04-01\", \"2019-05-01\", \"2019-06-01\", \"2019-07-01\", \"2019-08-01\", \"2019-09-01\", \"2019-10-01\", \"2019-11-01\", \"2019-12-01\", \"2020-01-01\", \"2020-02-01\", \"2020-03-01\", \"2020-05-01\", \"2019-01-01\", \"2019-02-01\", \"2019-03-01\", \"2019-04-01\", \"2019-05-01\", \"2019-06-01\", \"2019-07-01\", \"2019-08-01\", \"2019-09-01\", \"2019-10-01\", \"2019-11-01\", \"2020-01-01\", \"2020-02-01\", \"2020-03-01\", \"2020-04-01\", \"2020-05-01\", \"2019-01-01\", \"2019-02-01\", \"2019-03-01\", \"2019-04-01\", \"2019-05-01\", \"2019-06-01\", \"2019-07-01\", \"2019-08-01\", \"2019-09-01\", \"2019-10-01\", \"2019-11-01\", \"2019-12-01\", \"2020-01-01\", \"2020-02-01\", \"2020-03-01\", \"2020-04-01\", \"2020-05-01\", \"2019-01-01\", \"2019-02-01\", \"2019-03-01\", \"2019-04-01\", \"2019-05-01\", \"2019-06-01\", \"2019-07-01\", \"2019-08-01\", \"2019-09-01\", \"2019-10-01\", \"2019-11-01\", \"2019-12-01\", \"2020-01-01\", \"2020-02-01\", \"2020-03-01\", \"2020-04-01\", \"2020-05-01\"], \"x0\": \" \", \"xaxis\": \"x\", \"y\": [-36295.11, -7912.099999999991, -21266.29999999999, -57068.869999999995, -24214.5, -51934.17999999999, -39877.399999999994, -61972.53999999999, -26313.62999999999, -44781.73999999999, -58999.439999999995, -23594.11, -57707.59, -55145.719999999994, -53429.7, -51628.149999999994, -51658.869999999995, -519.1900000000005, 4253.68, -967.8400000000001, 843.8199999999997, 359.7600000000002, 3344.9500000000007, 4098.24, 2471.039999999999, 2770.4500000000007, 3308.74, 3195.0499999999993, 2252.289999999999, 2831.7199999999993, 4927.289999999999, 8830.89, 11124.369999999999, 4950.549999999999, 2336.029999999999, 3608.2700000000004, -274.3999999999978, 5469.41, 4816.23, 19811.210000000003, 24202.100000000002, 26118.3, 13912.560000000001, 33663.68000000001, 29532.680000000004, 48937.5, 19131.780000000002, 20809.350000000002, -20056.75, -12146.409999999996, -22381.5, -14806.220000000001, -21393.39, -13623.189999999995, -13739.54, -19612.979999999996, -13600.329999999994, -24379.18, -14643.29, 6431.939999999995, -16045.150000000001, -20643.71, -19782.85, -36547.119999999995, -9944.449999999997, 3036.010000000002, 27360.629999999997, -115.19999999999709, 1995.2699999999968, 6881.5999999999985, 36132.579999999994, 33412.74, 18706.590000000004, 19111.050000000003, 4029.980000000003, 12244.330000000002, 8346.730000000003, 11799.739999999998, 23431.46, 34015.60999999999, 29200.140000000007, -446.90000000000873, 28996.050000000003, 1263.4700000000012, -9430.530000000006, -12155.75, -4303.770000000004, -4959.610000000001, -12687.310000000005, -4406.530000000006, -20837.83, -12380.570000000007, 5661.619999999995, -14823.380000000005, -7580.040000000001, 17915.410000000003, -6802.340000000004, 4875.610000000001, -4061.8499999999985, -3363.1399999999994, -1007.8099999999977, -4501.09, -5619.0599999999995, -279.369999999999, 2754.7999999999993, 8408.350000000002, 3448.3899999999994, -1427.1800000000003, -783.489999999998, 1517.42, 15693.98, 5456.07, 928.4000000000015, 1277.2400000000016, 3264.460000000001, 663.710000000001, 10559.060000000001, 7137.4000000000015, 1810.1500000000015, 3054.540000000001, 1011.0300000000007, 1804.6599999999999, 2269.2300000000014, 13787.59, -263.40999999999985, 1212.579999999998, 15804.36, 11068.059999999998, 134.79000000000087, -4591.1500000000015, -3233.6800000000003, -7295.810000000001, -3892.59, -5095.850000000002, 10184.269999999997, -5719.200000000001, -2699.8199999999997, -5374.830000000002, -6906.510000000002, -4910.580000000002, -6532.330000000002, 12714.169999999998, 12032.19, 11131.859999999999, 11917.679999999998, 15724.53, 11941.31, 30428.03, 18630.270000000004, 16006.539999999999, 19451.239999999998, 18561.04, 18192.660000000003, 19441.590000000004, 27606.200000000004, 31449.11, -4417.790000000001, 23043.390000000007, -2948.25, -1913.3600000000006, 1052.4100000000035, 170.34999999999854, 2119.8499999999985, -2652.0999999999985, -3336.979999999996, -8826.68, -8358.580000000002, -8588.21, -8489.379999999997, -10045.220000000001, -3992.290000000001, -16262.89, -4911.0, -149.20999999999913, -3822.0600000000013, -9405.539999999999, -10982.83, -4869.450000000001, -9251.06, -4914.509999999998, 10445.400000000001, 35480.55, 2535.9000000000015, 184.97000000000116, 3363.6100000000006, 8334.009999999998, 4541.4000000000015, 16572.55, 13278.84, 25274.859999999997, 47799.56, 40211.83, -17968.109999999986, -31031.87999999999, 11129.950000000012, 5192.320000000007, 21058.37000000001, 7284.25, -19897.979999999996, 15433.550000000003, -18150.39, -3426.5099999999948, 206.2100000000064, 7384.330000000002, 28186.880000000005, 63964.5, 37071.68000000001, 5855.769999999999, 3798.6100000000006, 963.710000000001, 3230.290000000001, 1011.7800000000007, 1569.5, -718.5, 1322.1499999999996, 7207.840000000002, 3937.6900000000005, 4942.359999999999, 6850.219999999999, 5506.210000000001, 6464.789999999999, 11317.35, 6709.99, -3497.9900000000002, -2260.4700000000003, -2829.3300000000004, -2420.1500000000005, -514.31, -713.8900000000001, -324.19000000000005, -1382.6100000000001, -698.72, 11417.36, 5683.35, 6651.59, 229.23999999999978, 8058.49, 4555.55, 4964.8, 37922.65000000001, 10875.0, -886.7599999999948, -5483.659999999996, 5707.340000000004, 4782.460000000006, 639.2700000000041, -7350.32, -23209.609999999997, 2326.9900000000052, -19989.839999999997, -16436.019999999997, -4679.0, -14302.059999999998, -7240.309999999998, -3848.209999999999, 18289.48000000001, 21150.430000000008, 19350.53, 4512.419999999998, -12627.979999999996, -6160.1500000000015, -17315.519999999997, -15879.32, -14591.0, -25805.869999999995, -18094.729999999996, -32777.82, -15360.619999999995, -26774.71, -25526.47, -14953.309999999998, 21715.320000000007, -6295.199999999997, 3228.1899999999987, 2988.790000000001, 4775.240000000002, 13074.059999999998, 12110.529999999999, 23562.86, 16162.64, 15977.779999999999, 35588.17, 22018.679999999997, 16267.630000000001, -6059.32, 1737.9999999999964, 7283.48, -683.6800000000003, -8728.48, -418.8700000000026, -1209.2900000000009, -1486.8899999999994, 16386.399999999998, 10537.439999999999, 3528.0300000000007, 1703.9300000000003, 6415.83, -573.3899999999994, -738.0799999999999, 627.7000000000007, 2384.620000000001, 763.2700000000004, 9201.44, 4690.48, 1731.6900000000005, -1362.4899999999998, 2389.870000000001, 9841.4, 259.50999999999976, 768.44, -753.6100000000001, 1516.85, -289.5400000000002, 2080.72, 1077.7199999999998, 942.9899999999998, -124.85000000000014, 74.75999999999999, -119.84000000000015, -369.3900000000001, -639.9399999999996, 1956.4000000000005, -2057.8599999999997, -690.6399999999994, -1574.37, -2117.4799999999996, -574.4699999999993, 756.3000000000002, 1360.5299999999997, -780.5199999999995, -316.02999999999975, -695.71, -2867.04, -2058.5599999999995, -1948.8399999999992, -2992.6899999999996, -18933.449999999997, -20055.369999999995, -22402.079999999998, -20155.489999999998, -19866.1, -20066.249999999996, -7740.789999999994, -7052.219999999994, -15685.639999999996, -17935.709999999995, -21164.889999999996, -15934.679999999997, -17007.78, -16938.069999999996, -4313.22, -4902.96, -4393.46, -4818.02, -4798.04, -4618.0, -4458.16, -4753.09, -4863.05, -4823.14, -4668.36, -4708.27, -2969.2700000000004, 6567.0, -1697.3199999999997, -6148.740000000002, -4317.5, -4746.639999999999, -7122.209999999999, -8339.720000000001, -5300.630000000001, -7815.810000000001, -10225.880000000001, -7032.369999999999, -7581.170000000002, -10166.11, -11887.82, 34.959999999999994, 19.97999999999999, 5.0, 0.009999999999990905, 14.97999999999999, 34.97, -9.969999999999999, -74.87, -683.4699999999993, 6176.67, 1079.1200000000008, -204.17000000000007, 519.7399999999998, -13.549999999999272, -673.9500000000007, -5292.08, 607.4799999999996, 503.4300000000003, -4509.63, -345.9500000000007, -3141.6100000000006, -2292.8500000000004, -6446.73, -3795.6000000000004, -5164.39, 0.0, 19.96, -29.95, -24.96, 9527.220000000001, 12375.82, 6627.340000000001, 6941.410000000001, 6886.55, 4241.62, 6866.320000000001, 8573.150000000001, 7375.61, 5698.81, 9701.04, 15249.870000000003, 13747.93, 3677.670000000001, -853.25, 2410.29, -1097.7599999999998, -918.06, -1446.5499999999997, -1975.9899999999998, -1471.9799999999996, -1731.54, -1237.4299999999998, -1701.6999999999998, -1841.33, -1422.27, -958.1099999999997, -878.1899999999996, 354.3000000000002, 6049.780000000001, 1956.37, 953.0099999999984, 13443.149999999998, 2374.2999999999993, -362.8199999999997, 1295.5599999999977, 225.77999999999884, -1457.1100000000006, -14536.800000000001, 1526.630000000001, 679.489999999998, -3021.880000000001, -3287.4500000000007, -2441.9400000000023, -4314.290000000001, -4778.959999999999, -2484.66, -12430.900000000001, 7739.82, 11012.46, -11058.870000000003, -7225.940000000002, -19786.58, -9017.940000000002, -11932.2, -23045.300000000003, -13913.080000000002, -23494.260000000002, -17825.65, -17106.920000000002, -17959.97, -20105.870000000003, -15474.940000000002, 11265.260000000002, 2834.9300000000003, 2202.989999999998, -6505.0899999999965, -17664.17, -30825.15, -17646.309999999998, -18036.050000000003, -25142.010000000002, -21818.519999999997, -28879.95, -19582.730000000003, -8853.589999999997, -1528.3099999999977, 5472.810000000005, 85172.69999999998, 26478.799999999996, 2799.6700000000055, 5111.040000000001, -3617.8600000000006, -5574.4699999999975, -2699.3899999999994, 1297.3300000000017, 10084.530000000006, 5823.310000000005, 27484.61, 16247.410000000003, 13517.690000000002, 21826.270000000004, 12619.510000000002, 21341.36, 16720.910000000003, 35678.73, 35882.76], \"y0\": \" \", \"yaxis\": \"y\"}],\n",
       "                        {\"legend\": {\"tracegroupgap\": 0}, \"margin\": {\"t\": 60}, \"template\": {\"data\": {\"bar\": [{\"error_x\": {\"color\": \"#2a3f5f\"}, \"error_y\": {\"color\": \"#2a3f5f\"}, \"marker\": {\"line\": {\"color\": \"#E5ECF6\", \"width\": 0.5}}, \"type\": \"bar\"}], \"barpolar\": [{\"marker\": {\"line\": {\"color\": \"#E5ECF6\", \"width\": 0.5}}, \"type\": \"barpolar\"}], \"carpet\": [{\"aaxis\": {\"endlinecolor\": \"#2a3f5f\", \"gridcolor\": \"white\", \"linecolor\": \"white\", \"minorgridcolor\": \"white\", \"startlinecolor\": \"#2a3f5f\"}, \"baxis\": {\"endlinecolor\": \"#2a3f5f\", \"gridcolor\": \"white\", \"linecolor\": \"white\", \"minorgridcolor\": \"white\", \"startlinecolor\": \"#2a3f5f\"}, \"type\": \"carpet\"}], \"choropleth\": [{\"colorbar\": {\"outlinewidth\": 0, \"ticks\": \"\"}, \"type\": \"choropleth\"}], \"contour\": [{\"colorbar\": {\"outlinewidth\": 0, \"ticks\": \"\"}, \"colorscale\": [[0.0, \"#0d0887\"], [0.1111111111111111, \"#46039f\"], [0.2222222222222222, \"#7201a8\"], [0.3333333333333333, \"#9c179e\"], [0.4444444444444444, \"#bd3786\"], [0.5555555555555556, \"#d8576b\"], [0.6666666666666666, \"#ed7953\"], [0.7777777777777778, \"#fb9f3a\"], [0.8888888888888888, \"#fdca26\"], [1.0, \"#f0f921\"]], \"type\": \"contour\"}], \"contourcarpet\": [{\"colorbar\": {\"outlinewidth\": 0, \"ticks\": \"\"}, \"type\": \"contourcarpet\"}], \"heatmap\": [{\"colorbar\": {\"outlinewidth\": 0, \"ticks\": \"\"}, \"colorscale\": [[0.0, \"#0d0887\"], [0.1111111111111111, \"#46039f\"], [0.2222222222222222, \"#7201a8\"], [0.3333333333333333, \"#9c179e\"], [0.4444444444444444, \"#bd3786\"], [0.5555555555555556, \"#d8576b\"], [0.6666666666666666, \"#ed7953\"], [0.7777777777777778, \"#fb9f3a\"], [0.8888888888888888, \"#fdca26\"], [1.0, \"#f0f921\"]], \"type\": \"heatmap\"}], \"heatmapgl\": [{\"colorbar\": {\"outlinewidth\": 0, \"ticks\": \"\"}, \"colorscale\": [[0.0, \"#0d0887\"], [0.1111111111111111, \"#46039f\"], [0.2222222222222222, \"#7201a8\"], [0.3333333333333333, \"#9c179e\"], [0.4444444444444444, \"#bd3786\"], [0.5555555555555556, \"#d8576b\"], [0.6666666666666666, \"#ed7953\"], [0.7777777777777778, \"#fb9f3a\"], [0.8888888888888888, \"#fdca26\"], [1.0, \"#f0f921\"]], \"type\": \"heatmapgl\"}], \"histogram\": [{\"marker\": {\"colorbar\": {\"outlinewidth\": 0, \"ticks\": \"\"}}, \"type\": \"histogram\"}], \"histogram2d\": [{\"colorbar\": {\"outlinewidth\": 0, \"ticks\": \"\"}, \"colorscale\": [[0.0, \"#0d0887\"], [0.1111111111111111, \"#46039f\"], [0.2222222222222222, \"#7201a8\"], [0.3333333333333333, \"#9c179e\"], [0.4444444444444444, \"#bd3786\"], [0.5555555555555556, \"#d8576b\"], [0.6666666666666666, \"#ed7953\"], [0.7777777777777778, \"#fb9f3a\"], [0.8888888888888888, \"#fdca26\"], [1.0, \"#f0f921\"]], \"type\": \"histogram2d\"}], \"histogram2dcontour\": [{\"colorbar\": {\"outlinewidth\": 0, \"ticks\": \"\"}, \"colorscale\": [[0.0, \"#0d0887\"], [0.1111111111111111, \"#46039f\"], [0.2222222222222222, \"#7201a8\"], [0.3333333333333333, \"#9c179e\"], [0.4444444444444444, \"#bd3786\"], [0.5555555555555556, \"#d8576b\"], [0.6666666666666666, \"#ed7953\"], [0.7777777777777778, \"#fb9f3a\"], [0.8888888888888888, \"#fdca26\"], [1.0, \"#f0f921\"]], \"type\": \"histogram2dcontour\"}], \"mesh3d\": [{\"colorbar\": {\"outlinewidth\": 0, \"ticks\": \"\"}, \"type\": \"mesh3d\"}], \"parcoords\": [{\"line\": {\"colorbar\": {\"outlinewidth\": 0, \"ticks\": \"\"}}, \"type\": \"parcoords\"}], \"pie\": [{\"automargin\": true, \"type\": \"pie\"}], \"scatter\": [{\"marker\": {\"colorbar\": {\"outlinewidth\": 0, \"ticks\": \"\"}}, \"type\": \"scatter\"}], \"scatter3d\": [{\"line\": {\"colorbar\": {\"outlinewidth\": 0, \"ticks\": \"\"}}, \"marker\": {\"colorbar\": {\"outlinewidth\": 0, \"ticks\": \"\"}}, \"type\": \"scatter3d\"}], \"scattercarpet\": [{\"marker\": {\"colorbar\": {\"outlinewidth\": 0, \"ticks\": \"\"}}, \"type\": \"scattercarpet\"}], \"scattergeo\": [{\"marker\": {\"colorbar\": {\"outlinewidth\": 0, \"ticks\": \"\"}}, \"type\": \"scattergeo\"}], \"scattergl\": [{\"marker\": {\"colorbar\": {\"outlinewidth\": 0, \"ticks\": \"\"}}, \"type\": \"scattergl\"}], \"scattermapbox\": [{\"marker\": {\"colorbar\": {\"outlinewidth\": 0, \"ticks\": \"\"}}, \"type\": \"scattermapbox\"}], \"scatterpolar\": [{\"marker\": {\"colorbar\": {\"outlinewidth\": 0, \"ticks\": \"\"}}, \"type\": \"scatterpolar\"}], \"scatterpolargl\": [{\"marker\": {\"colorbar\": {\"outlinewidth\": 0, \"ticks\": \"\"}}, \"type\": \"scatterpolargl\"}], \"scatterternary\": [{\"marker\": {\"colorbar\": {\"outlinewidth\": 0, \"ticks\": \"\"}}, \"type\": \"scatterternary\"}], \"surface\": [{\"colorbar\": {\"outlinewidth\": 0, \"ticks\": \"\"}, \"colorscale\": [[0.0, \"#0d0887\"], [0.1111111111111111, \"#46039f\"], [0.2222222222222222, \"#7201a8\"], [0.3333333333333333, \"#9c179e\"], [0.4444444444444444, \"#bd3786\"], [0.5555555555555556, \"#d8576b\"], [0.6666666666666666, \"#ed7953\"], [0.7777777777777778, \"#fb9f3a\"], [0.8888888888888888, \"#fdca26\"], [1.0, \"#f0f921\"]], \"type\": \"surface\"}], \"table\": [{\"cells\": {\"fill\": {\"color\": \"#EBF0F8\"}, \"line\": {\"color\": \"white\"}}, \"header\": {\"fill\": {\"color\": \"#C8D4E3\"}, \"line\": {\"color\": \"white\"}}, \"type\": \"table\"}]}, \"layout\": {\"annotationdefaults\": {\"arrowcolor\": \"#2a3f5f\", \"arrowhead\": 0, \"arrowwidth\": 1}, \"coloraxis\": {\"colorbar\": {\"outlinewidth\": 0, \"ticks\": \"\"}}, \"colorscale\": {\"diverging\": [[0, \"#8e0152\"], [0.1, \"#c51b7d\"], [0.2, \"#de77ae\"], [0.3, \"#f1b6da\"], [0.4, \"#fde0ef\"], [0.5, \"#f7f7f7\"], [0.6, \"#e6f5d0\"], [0.7, \"#b8e186\"], [0.8, \"#7fbc41\"], [0.9, \"#4d9221\"], [1, \"#276419\"]], \"sequential\": [[0.0, \"#0d0887\"], [0.1111111111111111, \"#46039f\"], [0.2222222222222222, \"#7201a8\"], [0.3333333333333333, \"#9c179e\"], [0.4444444444444444, \"#bd3786\"], [0.5555555555555556, \"#d8576b\"], [0.6666666666666666, \"#ed7953\"], [0.7777777777777778, \"#fb9f3a\"], [0.8888888888888888, \"#fdca26\"], [1.0, \"#f0f921\"]], \"sequentialminus\": [[0.0, \"#0d0887\"], [0.1111111111111111, \"#46039f\"], [0.2222222222222222, \"#7201a8\"], [0.3333333333333333, \"#9c179e\"], [0.4444444444444444, \"#bd3786\"], [0.5555555555555556, \"#d8576b\"], [0.6666666666666666, \"#ed7953\"], [0.7777777777777778, \"#fb9f3a\"], [0.8888888888888888, \"#fdca26\"], [1.0, \"#f0f921\"]]}, \"colorway\": [\"#636efa\", \"#EF553B\", \"#00cc96\", \"#ab63fa\", \"#FFA15A\", \"#19d3f3\", \"#FF6692\", \"#B6E880\", \"#FF97FF\", \"#FECB52\"], \"font\": {\"color\": \"#2a3f5f\"}, \"geo\": {\"bgcolor\": \"white\", \"lakecolor\": \"white\", \"landcolor\": \"#E5ECF6\", \"showlakes\": true, \"showland\": true, \"subunitcolor\": \"white\"}, \"hoverlabel\": {\"align\": \"left\"}, \"hovermode\": \"closest\", \"mapbox\": {\"style\": \"light\"}, \"paper_bgcolor\": \"white\", \"plot_bgcolor\": \"#E5ECF6\", \"polar\": {\"angularaxis\": {\"gridcolor\": \"white\", \"linecolor\": \"white\", \"ticks\": \"\"}, \"bgcolor\": \"#E5ECF6\", \"radialaxis\": {\"gridcolor\": \"white\", \"linecolor\": \"white\", \"ticks\": \"\"}}, \"scene\": {\"xaxis\": {\"backgroundcolor\": \"#E5ECF6\", \"gridcolor\": \"white\", \"gridwidth\": 2, \"linecolor\": \"white\", \"showbackground\": true, \"ticks\": \"\", \"zerolinecolor\": \"white\"}, \"yaxis\": {\"backgroundcolor\": \"#E5ECF6\", \"gridcolor\": \"white\", \"gridwidth\": 2, \"linecolor\": \"white\", \"showbackground\": true, \"ticks\": \"\", \"zerolinecolor\": \"white\"}, \"zaxis\": {\"backgroundcolor\": \"#E5ECF6\", \"gridcolor\": \"white\", \"gridwidth\": 2, \"linecolor\": \"white\", \"showbackground\": true, \"ticks\": \"\", \"zerolinecolor\": \"white\"}}, \"shapedefaults\": {\"line\": {\"color\": \"#2a3f5f\"}}, \"ternary\": {\"aaxis\": {\"gridcolor\": \"white\", \"linecolor\": \"white\", \"ticks\": \"\"}, \"baxis\": {\"gridcolor\": \"white\", \"linecolor\": \"white\", \"ticks\": \"\"}, \"bgcolor\": \"#E5ECF6\", \"caxis\": {\"gridcolor\": \"white\", \"linecolor\": \"white\", \"ticks\": \"\"}}, \"title\": {\"x\": 0.05}, \"xaxis\": {\"automargin\": true, \"gridcolor\": \"white\", \"linecolor\": \"white\", \"ticks\": \"\", \"title\": {\"standoff\": 15}, \"zerolinecolor\": \"white\", \"zerolinewidth\": 2}, \"yaxis\": {\"automargin\": true, \"gridcolor\": \"white\", \"linecolor\": \"white\", \"ticks\": \"\", \"title\": {\"standoff\": 15}, \"zerolinecolor\": \"white\", \"zerolinewidth\": 2}}}, \"violinmode\": \"group\", \"xaxis\": {\"anchor\": \"y\", \"domain\": [0.0, 1.0], \"title\": {\"text\": \"Month\"}}, \"yaxis\": {\"anchor\": \"x\", \"domain\": [0.0, 1.0], \"title\": {\"text\": \"Income Change\"}}},\n",
       "                        {\"responsive\": true}\n",
       "                    ).then(function(){\n",
       "                            \n",
       "var gd = document.getElementById('c8f37c5c-6b57-4106-a45e-36fa6d7256f0');\n",
       "var x = new MutationObserver(function (mutations, observer) {{\n",
       "        var display = window.getComputedStyle(gd).display;\n",
       "        if (!display || display === 'none') {{\n",
       "            console.log([gd, 'removed!']);\n",
       "            Plotly.purge(gd);\n",
       "            observer.disconnect();\n",
       "        }}\n",
       "}});\n",
       "\n",
       "// Listen for the removal of the full notebook cells\n",
       "var notebookContainer = gd.closest('#notebook-container');\n",
       "if (notebookContainer) {{\n",
       "    x.observe(notebookContainer, {childList: true});\n",
       "}}\n",
       "\n",
       "// Listen for the clearing of the current output cell\n",
       "var outputEl = gd.closest('.output');\n",
       "if (outputEl) {{\n",
       "    x.observe(outputEl, {childList: true});\n",
       "}}\n",
       "\n",
       "                        })\n",
       "                };\n",
       "                });\n",
       "            </script>\n",
       "        </div>"
      ]
     },
     "metadata": {},
     "output_type": "display_data"
    }
   ],
   "source": [
    "fig = px.violin(finaldata, y=\"Income Change\", x=\"Month\")\n",
    "fig.show()"
   ]
  },
  {
   "cell_type": "markdown",
   "metadata": {},
   "source": [
    "<img src=\"https://raw.githubusercontent.com/Liyih/Twitch.tv-Metrics-Analysis/master/img/IncomeViolin.png\">"
   ]
  },
  {
   "cell_type": "markdown",
   "metadata": {},
   "source": [
    "The scatter plot below tracks followers gained versus income gained. This graph indicates a positive relationship between gaining followers and gaining income, which follows the logic that an increase in followers could potentially lead to an increase in subscribers (income)."
   ]
  },
  {
   "cell_type": "code",
   "execution_count": 124,
   "metadata": {},
   "outputs": [
    {
     "data": {
      "application/vnd.plotly.v1+json": {
       "config": {
        "plotlyServerURL": "https://plot.ly"
       },
       "data": [
        {
         "hovertemplate": "Followers gained=%{x}<br>Income Change=%{y}<extra></extra>",
         "legendgroup": "",
         "marker": {
          "color": "#636efa",
          "symbol": "circle"
         },
         "mode": "markers",
         "name": "",
         "orientation": "v",
         "showlegend": false,
         "type": "scatter",
         "x": [
          9819,
          8651,
          14489,
          11515,
          15848,
          8176,
          8821,
          7363,
          24039,
          3743,
          5231,
          3972,
          4226,
          5450,
          3567,
          2100,
          5732,
          7100,
          6783,
          6800,
          7313,
          25290,
          7647,
          10285,
          9751,
          7187,
          3839,
          6639,
          5023,
          5643,
          5537,
          5655,
          4830,
          75110,
          27298,
          68116,
          22294,
          25302,
          17814,
          55589,
          50041,
          41646,
          49136,
          96952,
          44920,
          34705,
          50060,
          67481,
          13814,
          12089,
          12313,
          14279,
          5483,
          7021,
          6556,
          14898,
          12325,
          7707,
          19126,
          13639,
          11998,
          6280,
          9383,
          6351,
          7517,
          74188,
          165741,
          81164,
          52803,
          42166,
          72940,
          87189,
          49520,
          87212,
          55103,
          51911,
          81692,
          45426,
          125784,
          123213,
          90674,
          103879,
          99865,
          100287,
          91005,
          62115,
          72448,
          62972,
          103120,
          90674,
          18989,
          54813,
          65908,
          23925,
          21434,
          108081,
          29746,
          14574,
          9959,
          11377,
          12268,
          13907,
          12066,
          10349,
          22962,
          23322,
          12770,
          11324,
          14773,
          57105,
          76686,
          68361,
          49713,
          46263,
          31878,
          33252,
          64388,
          44791,
          30782,
          29031,
          39064,
          35821,
          43278,
          153555,
          91348,
          14942,
          20703,
          46356,
          24810,
          18040,
          7876,
          4947,
          11288,
          3938,
          9969,
          34904,
          8988,
          12872,
          7931,
          20120,
          32654,
          14592,
          79849,
          31805,
          19411,
          15426,
          27706,
          15626,
          10027,
          12431,
          5745,
          8018,
          7933,
          20268,
          13173,
          12338,
          4142,
          17250,
          37666,
          38047,
          24461,
          6366,
          21017,
          10437,
          8138,
          4430,
          6142,
          5584,
          6661,
          4354,
          8442,
          7530,
          7153,
          93972,
          75815,
          41384,
          43563,
          50701,
          38381,
          46143,
          86629,
          101270,
          48195,
          46290,
          73883,
          73739,
          87118,
          90982,
          130781,
          123786,
          228864,
          84851,
          63943,
          52791,
          112167,
          112547,
          97140,
          95375,
          42254,
          56595,
          27522,
          34996,
          44046,
          35303,
          87608,
          129918,
          118634,
          6060,
          7091,
          10848,
          8786,
          9503,
          6866,
          9126,
          6415,
          8849,
          8530,
          6408,
          11405,
          8585,
          6887,
          21687,
          9570,
          19132,
          7069,
          2804,
          5726,
          56653,
          29794,
          24125,
          49034,
          40557,
          46765,
          40654,
          20337,
          22593,
          99052,
          54315,
          24496,
          612304,
          312768,
          379854,
          337652,
          368462,
          279991,
          233516,
          244146,
          70676,
          190934,
          80515,
          87606,
          121443,
          46180,
          288072,
          240353,
          299236,
          150643,
          117392,
          113490,
          94954,
          92747,
          62534,
          63487,
          101780,
          33815,
          79198,
          33005,
          61635,
          36625,
          42133,
          95833,
          420113,
          69455,
          12416,
          24590,
          14885,
          20189,
          21050,
          49356,
          41433,
          24932,
          49110,
          31775,
          14723,
          9464,
          21611,
          7040,
          3197,
          2259,
          1116,
          4447,
          1864,
          11971,
          3635,
          78831,
          34491,
          101514,
          35752,
          25578,
          37105,
          36740,
          30002,
          49128,
          46510,
          25321,
          36670,
          21653,
          304585,
          17116,
          25832,
          18311,
          20440,
          46607,
          32229,
          22240,
          31617,
          19394,
          32814,
          34229,
          36247,
          98079,
          88861,
          88637,
          96536,
          59723,
          49332,
          72297,
          54524,
          65865,
          60277,
          69342,
          91345,
          54229,
          90886,
          140898,
          201129,
          171236,
          121486,
          97095,
          91430,
          88952,
          90537,
          105267,
          100231,
          31158,
          58628,
          27823,
          29601,
          36614,
          28395,
          14742,
          11272,
          8084,
          7207,
          12568,
          5608,
          8167,
          9647,
          6079,
          9543,
          6498,
          7483,
          26336,
          14901,
          34381,
          7846,
          142,
          23623,
          11025,
          9140,
          7632,
          13919,
          8802,
          40271,
          19523,
          4471,
          5736,
          25711,
          27197,
          20761,
          28074,
          38640,
          75197,
          119141,
          341054,
          8862,
          7285,
          11624,
          7939,
          8961,
          4659,
          6044,
          9117,
          9488,
          7477,
          7260,
          7238,
          6552,
          7893,
          11916,
          7081,
          5790,
          7065,
          37228,
          -579,
          9661,
          67012,
          129950,
          68330,
          59546,
          45857,
          61940,
          45037,
          46103,
          86527,
          146198,
          82468,
          99517,
          86529,
          61775,
          6120,
          758,
          6044,
          23607,
          4234,
          8662,
          7394,
          11773,
          3878,
          12922,
          25309,
          9657,
          6103,
          7937,
          13826,
          5950,
          2105,
          30039,
          27207,
          20874,
          15149,
          12982,
          12093,
          6587,
          16302,
          18820,
          8229,
          8750,
          10809,
          10916,
          8632,
          1442,
          5903,
          24853,
          25424,
          79919,
          25703,
          57565,
          24873,
          15263,
          51714,
          24733,
          10303,
          14391,
          76749,
          -29084,
          13058,
          12356,
          21163,
          125422,
          90550,
          101806,
          68594,
          38959,
          23993,
          20554,
          45303,
          10029,
          32136,
          24093,
          29638,
          70513,
          75744,
          202086,
          891980,
          52139,
          87664,
          67987,
          45889,
          90245,
          63459,
          71012,
          74382,
          104974,
          57629,
          65481,
          145384,
          83037,
          102516,
          103891,
          223633,
          599741,
          82227
         ],
         "xaxis": "x",
         "y": [
          -36295.11,
          -7912.099999999991,
          -21266.29999999999,
          -57068.869999999995,
          -24214.5,
          -51934.17999999999,
          -39877.399999999994,
          -61972.53999999999,
          -26313.62999999999,
          -44781.73999999999,
          -58999.439999999995,
          -23594.11,
          -57707.59,
          -55145.719999999994,
          -53429.7,
          -51628.149999999994,
          -51658.869999999995,
          -519.1900000000005,
          4253.68,
          -967.8400000000001,
          843.8199999999997,
          359.7600000000002,
          3344.9500000000007,
          4098.24,
          2471.039999999999,
          2770.4500000000007,
          3308.74,
          3195.0499999999993,
          2252.289999999999,
          2831.7199999999993,
          4927.289999999999,
          8830.89,
          11124.369999999999,
          4950.549999999999,
          2336.029999999999,
          3608.2700000000004,
          -274.3999999999978,
          5469.41,
          4816.23,
          19811.210000000003,
          24202.100000000002,
          26118.3,
          13912.560000000001,
          33663.68000000001,
          29532.680000000004,
          48937.5,
          19131.780000000002,
          20809.350000000002,
          -20056.75,
          -12146.409999999996,
          -22381.5,
          -14806.220000000001,
          -21393.39,
          -13623.189999999995,
          -13739.54,
          -19612.979999999996,
          -13600.329999999994,
          -24379.18,
          -14643.29,
          6431.939999999995,
          -16045.150000000001,
          -20643.71,
          -19782.85,
          -36547.119999999995,
          -9944.449999999997,
          3036.010000000002,
          27360.629999999997,
          -115.19999999999709,
          1995.2699999999968,
          6881.5999999999985,
          36132.579999999994,
          33412.74,
          18706.590000000004,
          19111.050000000003,
          4029.980000000003,
          12244.330000000002,
          8346.730000000003,
          11799.739999999998,
          23431.46,
          34015.60999999999,
          29200.140000000007,
          -446.90000000000873,
          28996.050000000003,
          1263.4700000000012,
          -9430.530000000006,
          -12155.75,
          -4303.770000000004,
          -4959.610000000001,
          -12687.310000000005,
          -4406.530000000006,
          -20837.83,
          -12380.570000000007,
          5661.619999999995,
          -14823.380000000005,
          -7580.040000000001,
          17915.410000000003,
          -6802.340000000004,
          4875.610000000001,
          -4061.8499999999985,
          -3363.1399999999994,
          -1007.8099999999977,
          -4501.09,
          -5619.0599999999995,
          -279.369999999999,
          2754.7999999999993,
          8408.350000000002,
          3448.3899999999994,
          -1427.1800000000003,
          -783.489999999998,
          1517.42,
          15693.98,
          5456.07,
          928.4000000000015,
          1277.2400000000016,
          3264.460000000001,
          663.710000000001,
          10559.060000000001,
          7137.4000000000015,
          1810.1500000000015,
          3054.540000000001,
          1011.0300000000007,
          1804.6599999999999,
          2269.2300000000014,
          13787.59,
          -263.40999999999985,
          1212.579999999998,
          15804.36,
          11068.059999999998,
          134.79000000000087,
          -4591.1500000000015,
          -3233.6800000000003,
          -7295.810000000001,
          -3892.59,
          -5095.850000000002,
          10184.269999999997,
          -5719.200000000001,
          -2699.8199999999997,
          -5374.830000000002,
          -6906.510000000002,
          -4910.580000000002,
          -6532.330000000002,
          12714.169999999998,
          12032.19,
          11131.859999999999,
          11917.679999999998,
          15724.53,
          11941.31,
          30428.03,
          18630.270000000004,
          16006.539999999999,
          19451.239999999998,
          18561.04,
          18192.660000000003,
          19441.590000000004,
          27606.200000000004,
          31449.11,
          -4417.790000000001,
          23043.390000000007,
          -2948.25,
          -1913.3600000000006,
          1052.4100000000035,
          170.34999999999854,
          2119.8499999999985,
          -2652.0999999999985,
          -3336.979999999996,
          -8826.68,
          -8358.580000000002,
          -8588.21,
          -8489.379999999997,
          -10045.220000000001,
          -3992.290000000001,
          -16262.89,
          -4911,
          -149.20999999999913,
          -3822.0600000000013,
          -9405.539999999999,
          -10982.83,
          -4869.450000000001,
          -9251.06,
          -4914.509999999998,
          10445.400000000001,
          35480.55,
          2535.9000000000015,
          184.97000000000116,
          3363.6100000000006,
          8334.009999999998,
          4541.4000000000015,
          16572.55,
          13278.84,
          25274.859999999997,
          47799.56,
          40211.83,
          -17968.109999999986,
          -31031.87999999999,
          11129.950000000012,
          5192.320000000007,
          21058.37000000001,
          7284.25,
          -19897.979999999996,
          15433.550000000003,
          -18150.39,
          -3426.5099999999948,
          206.2100000000064,
          7384.330000000002,
          28186.880000000005,
          63964.5,
          37071.68000000001,
          5855.769999999999,
          3798.6100000000006,
          963.710000000001,
          3230.290000000001,
          1011.7800000000007,
          1569.5,
          -718.5,
          1322.1499999999996,
          7207.840000000002,
          3937.6900000000005,
          4942.359999999999,
          6850.219999999999,
          5506.210000000001,
          6464.789999999999,
          11317.35,
          6709.99,
          -3497.9900000000002,
          -2260.4700000000003,
          -2829.3300000000004,
          -2420.1500000000005,
          -514.31,
          -713.8900000000001,
          -324.19000000000005,
          -1382.6100000000001,
          -698.72,
          11417.36,
          5683.35,
          6651.59,
          229.23999999999978,
          8058.49,
          4555.55,
          4964.8,
          37922.65000000001,
          10875,
          -886.7599999999948,
          -5483.659999999996,
          5707.340000000004,
          4782.460000000006,
          639.2700000000041,
          -7350.32,
          -23209.609999999997,
          2326.9900000000052,
          -19989.839999999997,
          -16436.019999999997,
          -4679,
          -14302.059999999998,
          -7240.309999999998,
          -3848.209999999999,
          18289.48000000001,
          21150.430000000008,
          19350.53,
          4512.419999999998,
          -12627.979999999996,
          -6160.1500000000015,
          -17315.519999999997,
          -15879.32,
          -14591,
          -25805.869999999995,
          -18094.729999999996,
          -32777.82,
          -15360.619999999995,
          -26774.71,
          -25526.47,
          -14953.309999999998,
          21715.320000000007,
          -6295.199999999997,
          3228.1899999999987,
          2988.790000000001,
          4775.240000000002,
          13074.059999999998,
          12110.529999999999,
          23562.86,
          16162.64,
          15977.779999999999,
          35588.17,
          22018.679999999997,
          16267.630000000001,
          -6059.32,
          1737.9999999999964,
          7283.48,
          -683.6800000000003,
          -8728.48,
          -418.8700000000026,
          -1209.2900000000009,
          -1486.8899999999994,
          16386.399999999998,
          10537.439999999999,
          3528.0300000000007,
          1703.9300000000003,
          6415.83,
          -573.3899999999994,
          -738.0799999999999,
          627.7000000000007,
          2384.620000000001,
          763.2700000000004,
          9201.44,
          4690.48,
          1731.6900000000005,
          -1362.4899999999998,
          2389.870000000001,
          9841.4,
          259.50999999999976,
          768.44,
          -753.6100000000001,
          1516.85,
          -289.5400000000002,
          2080.72,
          1077.7199999999998,
          942.9899999999998,
          -124.85000000000014,
          74.75999999999999,
          -119.84000000000015,
          -369.3900000000001,
          -639.9399999999996,
          1956.4000000000005,
          -2057.8599999999997,
          -690.6399999999994,
          -1574.37,
          -2117.4799999999996,
          -574.4699999999993,
          756.3000000000002,
          1360.5299999999997,
          -780.5199999999995,
          -316.02999999999975,
          -695.71,
          -2867.04,
          -2058.5599999999995,
          -1948.8399999999992,
          -2992.6899999999996,
          -18933.449999999997,
          -20055.369999999995,
          -22402.079999999998,
          -20155.489999999998,
          -19866.1,
          -20066.249999999996,
          -7740.789999999994,
          -7052.219999999994,
          -15685.639999999996,
          -17935.709999999995,
          -21164.889999999996,
          -15934.679999999997,
          -17007.78,
          -16938.069999999996,
          -4313.22,
          -4902.96,
          -4393.46,
          -4818.02,
          -4798.04,
          -4618,
          -4458.16,
          -4753.09,
          -4863.05,
          -4823.14,
          -4668.36,
          -4708.27,
          -2969.2700000000004,
          6567,
          -1697.3199999999997,
          -6148.740000000002,
          -4317.5,
          -4746.639999999999,
          -7122.209999999999,
          -8339.720000000001,
          -5300.630000000001,
          -7815.810000000001,
          -10225.880000000001,
          -7032.369999999999,
          -7581.170000000002,
          -10166.11,
          -11887.82,
          34.959999999999994,
          19.97999999999999,
          5,
          0.009999999999990905,
          14.97999999999999,
          34.97,
          -9.969999999999999,
          -74.87,
          -683.4699999999993,
          6176.67,
          1079.1200000000008,
          -204.17000000000007,
          519.7399999999998,
          -13.549999999999272,
          -673.9500000000007,
          -5292.08,
          607.4799999999996,
          503.4300000000003,
          -4509.63,
          -345.9500000000007,
          -3141.6100000000006,
          -2292.8500000000004,
          -6446.73,
          -3795.6000000000004,
          -5164.39,
          0,
          19.96,
          -29.95,
          -24.96,
          9527.220000000001,
          12375.82,
          6627.340000000001,
          6941.410000000001,
          6886.55,
          4241.62,
          6866.320000000001,
          8573.150000000001,
          7375.61,
          5698.81,
          9701.04,
          15249.870000000003,
          13747.93,
          3677.670000000001,
          -853.25,
          2410.29,
          -1097.7599999999998,
          -918.06,
          -1446.5499999999997,
          -1975.9899999999998,
          -1471.9799999999996,
          -1731.54,
          -1237.4299999999998,
          -1701.6999999999998,
          -1841.33,
          -1422.27,
          -958.1099999999997,
          -878.1899999999996,
          354.3000000000002,
          6049.780000000001,
          1956.37,
          953.0099999999984,
          13443.149999999998,
          2374.2999999999993,
          -362.8199999999997,
          1295.5599999999977,
          225.77999999999884,
          -1457.1100000000006,
          -14536.800000000001,
          1526.630000000001,
          679.489999999998,
          -3021.880000000001,
          -3287.4500000000007,
          -2441.9400000000023,
          -4314.290000000001,
          -4778.959999999999,
          -2484.66,
          -12430.900000000001,
          7739.82,
          11012.46,
          -11058.870000000003,
          -7225.940000000002,
          -19786.58,
          -9017.940000000002,
          -11932.2,
          -23045.300000000003,
          -13913.080000000002,
          -23494.260000000002,
          -17825.65,
          -17106.920000000002,
          -17959.97,
          -20105.870000000003,
          -15474.940000000002,
          11265.260000000002,
          2834.9300000000003,
          2202.989999999998,
          -6505.0899999999965,
          -17664.17,
          -30825.15,
          -17646.309999999998,
          -18036.050000000003,
          -25142.010000000002,
          -21818.519999999997,
          -28879.95,
          -19582.730000000003,
          -8853.589999999997,
          -1528.3099999999977,
          5472.810000000005,
          85172.69999999998,
          26478.799999999996,
          2799.6700000000055,
          5111.040000000001,
          -3617.8600000000006,
          -5574.4699999999975,
          -2699.3899999999994,
          1297.3300000000017,
          10084.530000000006,
          5823.310000000005,
          27484.61,
          16247.410000000003,
          13517.690000000002,
          21826.270000000004,
          12619.510000000002,
          21341.36,
          16720.910000000003,
          35678.73,
          35882.76
         ],
         "yaxis": "y"
        },
        {
         "hovertemplate": "<b>OLS trendline</b><br>Income Change = 0.0740703 * Followers gained + -4177.31<br>R<sup>2</sup>=0.132662<br><br>Followers gained=%{x}<br>Income Change=%{y} <b>(trend)</b><extra></extra>",
         "legendgroup": "",
         "marker": {
          "color": "#636efa",
          "symbol": "circle"
         },
         "mode": "lines",
         "name": "",
         "showlegend": false,
         "type": "scatter",
         "x": [
          -29084,
          -579,
          142,
          758,
          1116,
          1442,
          1864,
          2100,
          2105,
          2259,
          2804,
          3197,
          3567,
          3635,
          3743,
          3839,
          3878,
          3938,
          3972,
          4142,
          4226,
          4234,
          4354,
          4430,
          4447,
          4471,
          4659,
          4830,
          4947,
          5023,
          5231,
          5450,
          5483,
          5537,
          5584,
          5608,
          5643,
          5655,
          5726,
          5732,
          5736,
          5745,
          5790,
          5903,
          5950,
          6044,
          6044,
          6060,
          6079,
          6103,
          6120,
          6142,
          6280,
          6351,
          6366,
          6408,
          6415,
          6498,
          6552,
          6556,
          6587,
          6639,
          6661,
          6783,
          6800,
          6866,
          6887,
          7021,
          7040,
          7065,
          7069,
          7081,
          7091,
          7100,
          7153,
          7187,
          7207,
          7238,
          7260,
          7285,
          7313,
          7363,
          7394,
          7477,
          7483,
          7517,
          7530,
          7632,
          7647,
          7707,
          7846,
          7876,
          7893,
          7931,
          7933,
          7937,
          7939,
          8018,
          8084,
          8138,
          8167,
          8176,
          8229,
          8442,
          8530,
          8585,
          8632,
          8651,
          8662,
          8750,
          8786,
          8802,
          8821,
          8849,
          8862,
          8961,
          8988,
          9117,
          9126,
          9140,
          9383,
          9464,
          9488,
          9503,
          9543,
          9570,
          9647,
          9657,
          9661,
          9751,
          9819,
          9959,
          9969,
          10027,
          10029,
          10285,
          10303,
          10349,
          10437,
          10809,
          10848,
          10916,
          11025,
          11272,
          11288,
          11324,
          11377,
          11405,
          11515,
          11624,
          11773,
          11916,
          11971,
          11998,
          12066,
          12089,
          12093,
          12268,
          12313,
          12325,
          12338,
          12356,
          12416,
          12431,
          12568,
          12770,
          12872,
          12922,
          12982,
          13058,
          13173,
          13639,
          13814,
          13826,
          13907,
          13919,
          14279,
          14391,
          14489,
          14574,
          14592,
          14723,
          14742,
          14773,
          14885,
          14898,
          14901,
          14942,
          15149,
          15263,
          15426,
          15626,
          15848,
          16302,
          17116,
          17250,
          17814,
          18040,
          18311,
          18820,
          18989,
          19126,
          19132,
          19394,
          19411,
          19523,
          20120,
          20189,
          20268,
          20337,
          20440,
          20554,
          20703,
          20761,
          20874,
          21017,
          21050,
          21163,
          21434,
          21611,
          21653,
          21687,
          22240,
          22294,
          22593,
          22962,
          23322,
          23607,
          23623,
          23925,
          23993,
          24039,
          24093,
          24125,
          24461,
          24496,
          24590,
          24733,
          24810,
          24853,
          24873,
          24932,
          25290,
          25302,
          25309,
          25321,
          25424,
          25578,
          25703,
          25711,
          25832,
          26336,
          27197,
          27207,
          27298,
          27522,
          27706,
          27823,
          28074,
          28395,
          29031,
          29601,
          29638,
          29746,
          29794,
          30002,
          30039,
          30782,
          31158,
          31617,
          31775,
          31805,
          31878,
          32136,
          32229,
          32654,
          32814,
          33005,
          33252,
          33815,
          34229,
          34381,
          34491,
          34705,
          34904,
          34996,
          35303,
          35752,
          35821,
          36247,
          36614,
          36625,
          36670,
          36740,
          37105,
          37228,
          37666,
          38047,
          38381,
          38640,
          38959,
          39064,
          40271,
          40557,
          40654,
          41384,
          41433,
          41646,
          42133,
          42166,
          42254,
          43278,
          43563,
          44046,
          44791,
          44920,
          45037,
          45303,
          45426,
          45857,
          45889,
          46103,
          46143,
          46180,
          46263,
          46290,
          46356,
          46510,
          46607,
          46765,
          48195,
          49034,
          49110,
          49128,
          49136,
          49332,
          49356,
          49520,
          49713,
          50041,
          50060,
          50701,
          51714,
          51911,
          52139,
          52791,
          52803,
          54229,
          54315,
          54524,
          54813,
          55103,
          55589,
          56595,
          56653,
          57105,
          57565,
          57629,
          58628,
          59546,
          59723,
          60277,
          61635,
          61775,
          61940,
          62115,
          62534,
          62972,
          63459,
          63487,
          63943,
          64388,
          65481,
          65865,
          65908,
          67012,
          67481,
          67987,
          68116,
          68330,
          68361,
          68594,
          69342,
          69455,
          70513,
          70676,
          71012,
          72297,
          72448,
          72940,
          73739,
          73883,
          74188,
          74382,
          75110,
          75197,
          75744,
          75815,
          76686,
          76749,
          78831,
          79198,
          79849,
          79919,
          80515,
          81164,
          81692,
          82227,
          82468,
          83037,
          84851,
          86527,
          86529,
          86629,
          87118,
          87189,
          87212,
          87606,
          87608,
          87664,
          88637,
          88861,
          88952,
          90245,
          90537,
          90550,
          90674,
          90674,
          90886,
          90982,
          91005,
          91345,
          91348,
          91430,
          92747,
          93972,
          94954,
          95375,
          95833,
          96536,
          96952,
          97095,
          97140,
          98079,
          99052,
          99517,
          99865,
          100231,
          100287,
          101270,
          101514,
          101780,
          101806,
          102516,
          103120,
          103879,
          103891,
          104974,
          105267,
          108081,
          112167,
          112547,
          113490,
          117392,
          118634,
          119141,
          121443,
          121486,
          123213,
          123786,
          125422,
          125784,
          129918,
          129950,
          130781,
          140898,
          145384,
          146198,
          150643,
          153555,
          165741,
          171236,
          190934,
          201129,
          202086,
          223633,
          228864,
          233516,
          240353,
          244146,
          279991,
          288072,
          299236,
          304585,
          312768,
          337652,
          341054,
          368462,
          379854,
          420113,
          599741,
          612304,
          891980
         ],
         "xaxis": "x",
         "y": [
          -6331.570345311515,
          -4220.196382584814,
          -4166.791694736158,
          -4121.164388613034,
          -4094.6472204440756,
          -4070.5003019438514,
          -4039.2426344374253,
          -4021.762043130514,
          -4021.3916916197745,
          -4009.9848650889935,
          -3969.6165504183728,
          -3940.5069216742368,
          -3913.1009098795034,
          -3908.0641293334443,
          -3900.0645367014677,
          -3892.953787695267,
          -3890.0650459114977,
          -3885.6208277826217,
          -3883.102437509592,
          -3870.5104861444443,
          -3864.2885807640187,
          -3863.696018346835,
          -3854.8075820890836,
          -3849.178239125841,
          -3847.9190439893264,
          -3846.141356737776,
          -3832.216139933965,
          -3819.5501182666694,
          -3810.883892915362,
          -3805.2545499521193,
          -3789.84792710535,
          -3773.626530934954,
          -3771.1822109640725,
          -3767.1824146480844,
          -3763.7011104471317,
          -3761.9234231955816,
          -3759.3309626204036,
          -3758.442118994629,
          -3753.183127542126,
          -3752.738705729238,
          -3752.4424245206465,
          -3751.7757918013153,
          -3748.4426282046584,
          -3740.0726840619427,
          -3736.59137986099,
          -3729.6287714590844,
          -3729.6287714590844,
          -3728.4436466247175,
          -3727.036310883907,
          -3725.258623632357,
          -3723.999428495842,
          -3722.3698818485877,
          -3712.1481801521736,
          -3706.8891886996707,
          -3705.7781341674518,
          -3702.6671814772385,
          -3702.148689362203,
          -3696.000854283925,
          -3692.001057967937,
          -3691.7047767593454,
          -3689.4085973927595,
          -3685.556941681067,
          -3683.927395033813,
          -3674.890818171765,
          -3673.6316230352504,
          -3668.7429830934875,
          -3667.1875067483807,
          -3657.2620862605586,
          -3655.854750519748,
          -3654.0029929660495,
          -3653.706711757458,
          -3652.8178681316826,
          -3652.0771651102036,
          -3651.410532390872,
          -3647.484806377032,
          -3644.9664161040023,
          -3643.485010061044,
          -3641.188830694458,
          -3639.5592840472036,
          -3637.7075264935056,
          -3635.6335580333634,
          -3631.930042925967,
          -3629.633863559381,
          -3623.486028481103,
          -3623.0416066682155,
          -3620.523216395186,
          -3619.5603024672628,
          -3612.005131648174,
          -3610.894077115955,
          -3606.4498589870796,
          -3596.1540869885175,
          -3593.9319779240795,
          -3592.6727827875648,
          -3589.8581113059436,
          -3589.7099707016478,
          -3589.413689493056,
          -3589.2655488887603,
          -3583.413995019074,
          -3578.5253550773105,
          -3574.5255587613224,
          -3572.3775199990323,
          -3571.710887279701,
          -3567.785161265861,
          -3552.0081869083524,
          -3545.4900003193343,
          -3541.4161337011983,
          -3537.9348295002455,
          -3536.527493759435,
          -3535.712720435808,
          -3529.1945338467904,
          -3526.528002969465,
          -3525.342878135098,
          -3523.935542394287,
          -3521.8615739341453,
          -3520.898660006222,
          -3513.565700093577,
          -3511.5658019355833,
          -3502.0107329585007,
          -3501.344100239169,
          -3500.307116009098,
          -3482.3080325871515,
          -3476.308338113169,
          -3474.530650861619,
          -3473.4195963294,
          -3470.456784243483,
          -3468.456886085489,
          -3462.7534728200985,
          -3462.012769798619,
          -3461.7164885900274,
          -3455.050161396714,
          -3450.013380850655,
          -3439.643538549945,
          -3438.9028355284654,
          -3434.6067580038857,
          -3434.45861739959,
          -3415.49662004972,
          -3414.1633546110575,
          -3410.7561207122526,
          -3404.237934123235,
          -3376.683781724206,
          -3373.7950399404363,
          -3368.758259394377,
          -3360.684596460253,
          -3342.389231829715,
          -3341.204106995348,
          -3338.5375761180226,
          -3334.6118501041824,
          -3332.53788164404,
          -3324.3901484077683,
          -3316.316485473644,
          -3305.2800104536027,
          -3294.6879572464486,
          -3290.6140906283126,
          -3288.614192470319,
          -3283.5774119242596,
          -3281.8737949748574,
          -3281.5775137662654,
          -3268.615210890378,
          -3265.282047293721,
          -3264.393203667946,
          -3263.430289740023,
          -3262.0970243013603,
          -3257.652806172485,
          -3256.541751640266,
          -3246.3941202459996,
          -3231.431919212118,
          -3223.876748393029,
          -3220.1732332856327,
          -3215.729015156757,
          -3210.0996721935144,
          -3201.581587446503,
          -3167.0648266455682,
          -3154.102523769681,
          -3153.2136801439055,
          -3147.213985669923,
          -3146.3251420441484,
          -3119.659833270894,
          -3111.363959430326,
          -3104.1050698198287,
          -3097.8090941372548,
          -3096.4758286985925,
          -3086.7726191172137,
          -3085.365283376403,
          -3083.0691040098172,
          -3074.7732301692495,
          -3073.8103162413263,
          -3073.5881053348826,
          -3070.5512229468177,
          -3055.218670402196,
          -3046.7746559573325,
          -3034.7011967072203,
          -3019.8871362776345,
          -3003.4435292007943,
          -2969.8156120256344,
          -2909.522386077221,
          -2899.5969655893987,
          -2857.8213151779673,
          -2841.081426892535,
          -2821.008375010447,
          -2783.306591217151,
          -2770.788710154151,
          -2760.641078759885,
          -2760.1966569469973,
          -2740.79023778424,
          -2739.5310426477254,
          -2731.2351688071576,
          -2687.015198424844,
          -2681.904347576637,
          -2676.052793706951,
          -2670.9419428587435,
          -2663.3127017375073,
          -2654.868687292643,
          -2643.8322122726017,
          -2639.536134748022,
          -2631.166190605306,
          -2620.5741373981523,
          -2618.1298174272706,
          -2609.7598732845545,
          -2589.686821402466,
          -2576.5763779222825,
          -2573.4654252320697,
          -2570.94703495904,
          -2529.9861578712357,
          -2525.9863615552476,
          -2503.839341213017,
          -2476.5073997204317,
          -2449.842090947177,
          -2428.7320548350176,
          -2427.5469300006507,
          -2405.177698751976,
          -2400.140918205917,
          -2396.7336843071125,
          -2392.7338879911244,
          -2390.3636383223907,
          -2365.476016800687,
          -2362.883556225509,
          -2355.920947823604,
          -2345.3288946164503,
          -2339.6254813510595,
          -2336.440458358699,
          -2334.9590523157403,
          -2330.5889044890127,
          -2304.071736320054,
          -2303.182892694279,
          -2302.664400579243,
          -2301.7755569534684,
          -2294.1463158322317,
          -2282.7394893014507,
          -2273.4807015329598,
          -2272.8881391157765,
          -2263.925632555877,
          -2226.594200273321,
          -2162.819670123955,
          -2162.0789671024754,
          -2155.3385696070136,
          -2138.746821925878,
          -2125.117886330659,
          -2116.4516609793513,
          -2097.8600151402215,
          -2074.0834481507363,
          -2026.9747359846538,
          -1984.7546637603346,
          -1982.0140625808613,
          -1974.014469948885,
          -1970.4590954457844,
          -1955.0524725990153,
          -1952.311871419542,
          -1897.2776369236312,
          -1869.42720331601,
          -1835.4289346301111,
          -1823.725826890738,
          -1821.5037178263005,
          -1816.0965857695014,
          -1796.9864478153363,
          -1790.0979097155787,
          -1758.6180313027094,
          -1746.7667829590405,
          -1732.6193552487862,
          -1714.323990618248,
          -1672.622410508964,
          -1641.9573054197217,
          -1630.698619493237,
          -1622.5508862569645,
          -1606.699841597308,
          -1591.95985146987,
          -1585.1453836722608,
          -1562.4058009128466,
          -1529.1482352484268,
          -1524.0373844002197,
          -1492.4834356852025,
          -1465.2996347969124,
          -1464.4848614732855,
          -1461.1516978766285,
          -1455.9667767262736,
          -1428.9311164422797,
          -1419.8204692780846,
          -1387.377676937292,
          -1359.1568918189314,
          -1334.417410901523,
          -1315.2332026452095,
          -1291.6047762600206,
          -1283.8273945344881,
          -1194.4245398419384,
          -1173.2404334276307,
          -1166.055614119282,
          -1111.9842935512938,
          -1108.3548487460457,
          -1092.5778743885367,
          -1056.5056372424956,
          -1054.061317271614,
          -1047.5431306825963,
          -971.6951412831177,
          -950.5851051709578,
          -914.8091492335084,
          -859.6267741333018,
          -850.0717051562192,
          -841.4054798049115,
          -821.7027794335627,
          -812.5921322693675,
          -780.6678320436104,
          -778.2975823748766,
          -762.4465377152196,
          -759.4837256293026,
          -756.7431244498293,
          -750.5952893715512,
          -748.5953912135574,
          -743.706751271794,
          -732.299924741013,
          -725.1151054326638,
          -713.4119976932911,
          -607.4914656217534,
          -545.3464821196417,
          -539.7171391563988,
          -538.3838737177362,
          -537.7913113005529,
          -523.2735320795591,
          -521.4958448280086,
          -509.3483152757485,
          -495.0527469611984,
          -470.7576878566779,
          -469.3503521158668,
          -421.87128843904475,
          -346.83807236319353,
          -332.24622284005136,
          -315.35819395032377,
          -267.0643569498743,
          -266.1755133240995,
          -160.55126246115333,
          -154.18121647643147,
          -138.70052332751447,
          -117.29420600676303,
          -95.81381838386415,
          -59.81565153997053,
          14.699072420845368,
          18.99514994542551,
          52.47492651628909,
          86.54726550433588,
          91.28776484180344,
          165.28399668758357,
          233.28053405938226,
          246.39097753956503,
          287.42592492951735,
          388.0133952464048,
          398.38323754711473,
          410.6048374015227,
          423.56714027741054,
          454.602596877392,
          487.04538921818494,
          523.1176263642255,
          525.1915948243677,
          558.9676526038229,
          591.9289370596516,
          672.8877773073373,
          701.3307733321417,
          704.5157963245028,
          786.2894098958159,
          821.0283816031942,
          858.5079544900454,
          868.0630234671289,
          883.9140681267854,
          886.2102474933708,
          903.468627893838,
          958.8732139004887,
          967.2431580432049,
          1045.6095377157126,
          1057.6829969658256,
          1082.570618487529,
          1177.7509567476172,
          1188.9355723719545,
          1225.3781610287351,
          1284.5603324449303,
          1295.2264559542318,
          1317.8178981093497,
          1332.1875367260482,
          1386.11071668974,
          1392.5548329766098,
          1433.0712882515263,
          1438.3302797040296,
          1502.8455128748756,
          1507.5119419101948,
          1661.7263109821815,
          1688.9101118704712,
          1737.1298785687732,
          1742.3147997191281,
          1786.4606997992933,
          1834.5323258932985,
          1873.6414454274045,
          1913.2690570765462,
          1931.1199998941975,
          1973.2660018163688,
          2107.6295299127105,
          2231.771356312639,
          2231.919496916935,
          2239.3265271317277,
          2275.546904882064,
          2280.8058963345675,
          2282.5095132839697,
          2311.693212330253,
          2311.84135293455,
          2315.9892898548333,
          2388.059693844768,
          2404.6514415259035,
          2411.391839021365,
          2507.1647396986364,
          2528.793267925832,
          2529.756181853755,
          2538.9408993200977,
          2538.9408993200977,
          2554.6438033754584,
          2561.75455238166,
          2563.458169331062,
          2588.642072061358,
          2588.864282967802,
          2594.9380477439317,
          2692.488635672754,
          2783.224755803966,
          2855.9617925132316,
          2887.1453897175097,
          2921.0695881012607,
          2973.1410105112545,
          3003.9542562047927,
          3014.546309411947,
          3017.879473008603,
          3087.431486725508,
          3159.5018907154426,
          3193.9445812142294,
          3219.7210463617084,
          3246.8307769478497,
          3250.978713868134,
          3323.7898208795477,
          3341.862974603642,
          3361.5656749749915,
          3363.491502830837,
          3416.0814173558665,
          3460.819879853215,
          3517.039239183493,
          3517.928082809268,
          3598.1462200354745,
          3619.8488185648175,
          3828.2826488090877,
          4130.933903385523,
          4159.080618201737,
          4228.928913127233,
          4517.951232108449,
          4609.9465473761775,
          4647.500190565177,
          4818.010026109707,
          4821.195049102069,
          4949.114460911542,
          4991.556744042304,
          5112.735758356315,
          5139.549207733866,
          5445.755836813401,
          5448.126086482134,
          5509.678507567063,
          6259.047754397656,
          6591.327129833262,
          6651.620355781675,
          6980.862848829218,
          7196.555568683985,
          8099.176270658641,
          8506.192580961508,
          9965.229392671401,
          10720.376123069533,
          10791.2614022251,
          12387.254202606515,
          12774.715953142326,
          13119.290998734488,
          13625.709654519878,
          13906.658310566969,
          16561.70829105946,
          17160.270402716873,
          17987.191255896345,
          18383.393302085613,
          18989.510584562115,
          20832.675983211164,
          21084.663151118417,
          23114.78199238884,
          23958.590874458037,
          26940.587168631493,
          40245.68740285958,
          41176.232608744,
          61891.91843226803
         ],
         "yaxis": "y"
        }
       ],
       "layout": {
        "legend": {
         "tracegroupgap": 0
        },
        "template": {
         "data": {
          "bar": [
           {
            "error_x": {
             "color": "#2a3f5f"
            },
            "error_y": {
             "color": "#2a3f5f"
            },
            "marker": {
             "line": {
              "color": "#E5ECF6",
              "width": 0.5
             }
            },
            "type": "bar"
           }
          ],
          "barpolar": [
           {
            "marker": {
             "line": {
              "color": "#E5ECF6",
              "width": 0.5
             }
            },
            "type": "barpolar"
           }
          ],
          "carpet": [
           {
            "aaxis": {
             "endlinecolor": "#2a3f5f",
             "gridcolor": "white",
             "linecolor": "white",
             "minorgridcolor": "white",
             "startlinecolor": "#2a3f5f"
            },
            "baxis": {
             "endlinecolor": "#2a3f5f",
             "gridcolor": "white",
             "linecolor": "white",
             "minorgridcolor": "white",
             "startlinecolor": "#2a3f5f"
            },
            "type": "carpet"
           }
          ],
          "choropleth": [
           {
            "colorbar": {
             "outlinewidth": 0,
             "ticks": ""
            },
            "type": "choropleth"
           }
          ],
          "contour": [
           {
            "colorbar": {
             "outlinewidth": 0,
             "ticks": ""
            },
            "colorscale": [
             [
              0,
              "#0d0887"
             ],
             [
              0.1111111111111111,
              "#46039f"
             ],
             [
              0.2222222222222222,
              "#7201a8"
             ],
             [
              0.3333333333333333,
              "#9c179e"
             ],
             [
              0.4444444444444444,
              "#bd3786"
             ],
             [
              0.5555555555555556,
              "#d8576b"
             ],
             [
              0.6666666666666666,
              "#ed7953"
             ],
             [
              0.7777777777777778,
              "#fb9f3a"
             ],
             [
              0.8888888888888888,
              "#fdca26"
             ],
             [
              1,
              "#f0f921"
             ]
            ],
            "type": "contour"
           }
          ],
          "contourcarpet": [
           {
            "colorbar": {
             "outlinewidth": 0,
             "ticks": ""
            },
            "type": "contourcarpet"
           }
          ],
          "heatmap": [
           {
            "colorbar": {
             "outlinewidth": 0,
             "ticks": ""
            },
            "colorscale": [
             [
              0,
              "#0d0887"
             ],
             [
              0.1111111111111111,
              "#46039f"
             ],
             [
              0.2222222222222222,
              "#7201a8"
             ],
             [
              0.3333333333333333,
              "#9c179e"
             ],
             [
              0.4444444444444444,
              "#bd3786"
             ],
             [
              0.5555555555555556,
              "#d8576b"
             ],
             [
              0.6666666666666666,
              "#ed7953"
             ],
             [
              0.7777777777777778,
              "#fb9f3a"
             ],
             [
              0.8888888888888888,
              "#fdca26"
             ],
             [
              1,
              "#f0f921"
             ]
            ],
            "type": "heatmap"
           }
          ],
          "heatmapgl": [
           {
            "colorbar": {
             "outlinewidth": 0,
             "ticks": ""
            },
            "colorscale": [
             [
              0,
              "#0d0887"
             ],
             [
              0.1111111111111111,
              "#46039f"
             ],
             [
              0.2222222222222222,
              "#7201a8"
             ],
             [
              0.3333333333333333,
              "#9c179e"
             ],
             [
              0.4444444444444444,
              "#bd3786"
             ],
             [
              0.5555555555555556,
              "#d8576b"
             ],
             [
              0.6666666666666666,
              "#ed7953"
             ],
             [
              0.7777777777777778,
              "#fb9f3a"
             ],
             [
              0.8888888888888888,
              "#fdca26"
             ],
             [
              1,
              "#f0f921"
             ]
            ],
            "type": "heatmapgl"
           }
          ],
          "histogram": [
           {
            "marker": {
             "colorbar": {
              "outlinewidth": 0,
              "ticks": ""
             }
            },
            "type": "histogram"
           }
          ],
          "histogram2d": [
           {
            "colorbar": {
             "outlinewidth": 0,
             "ticks": ""
            },
            "colorscale": [
             [
              0,
              "#0d0887"
             ],
             [
              0.1111111111111111,
              "#46039f"
             ],
             [
              0.2222222222222222,
              "#7201a8"
             ],
             [
              0.3333333333333333,
              "#9c179e"
             ],
             [
              0.4444444444444444,
              "#bd3786"
             ],
             [
              0.5555555555555556,
              "#d8576b"
             ],
             [
              0.6666666666666666,
              "#ed7953"
             ],
             [
              0.7777777777777778,
              "#fb9f3a"
             ],
             [
              0.8888888888888888,
              "#fdca26"
             ],
             [
              1,
              "#f0f921"
             ]
            ],
            "type": "histogram2d"
           }
          ],
          "histogram2dcontour": [
           {
            "colorbar": {
             "outlinewidth": 0,
             "ticks": ""
            },
            "colorscale": [
             [
              0,
              "#0d0887"
             ],
             [
              0.1111111111111111,
              "#46039f"
             ],
             [
              0.2222222222222222,
              "#7201a8"
             ],
             [
              0.3333333333333333,
              "#9c179e"
             ],
             [
              0.4444444444444444,
              "#bd3786"
             ],
             [
              0.5555555555555556,
              "#d8576b"
             ],
             [
              0.6666666666666666,
              "#ed7953"
             ],
             [
              0.7777777777777778,
              "#fb9f3a"
             ],
             [
              0.8888888888888888,
              "#fdca26"
             ],
             [
              1,
              "#f0f921"
             ]
            ],
            "type": "histogram2dcontour"
           }
          ],
          "mesh3d": [
           {
            "colorbar": {
             "outlinewidth": 0,
             "ticks": ""
            },
            "type": "mesh3d"
           }
          ],
          "parcoords": [
           {
            "line": {
             "colorbar": {
              "outlinewidth": 0,
              "ticks": ""
             }
            },
            "type": "parcoords"
           }
          ],
          "pie": [
           {
            "automargin": true,
            "type": "pie"
           }
          ],
          "scatter": [
           {
            "marker": {
             "colorbar": {
              "outlinewidth": 0,
              "ticks": ""
             }
            },
            "type": "scatter"
           }
          ],
          "scatter3d": [
           {
            "line": {
             "colorbar": {
              "outlinewidth": 0,
              "ticks": ""
             }
            },
            "marker": {
             "colorbar": {
              "outlinewidth": 0,
              "ticks": ""
             }
            },
            "type": "scatter3d"
           }
          ],
          "scattercarpet": [
           {
            "marker": {
             "colorbar": {
              "outlinewidth": 0,
              "ticks": ""
             }
            },
            "type": "scattercarpet"
           }
          ],
          "scattergeo": [
           {
            "marker": {
             "colorbar": {
              "outlinewidth": 0,
              "ticks": ""
             }
            },
            "type": "scattergeo"
           }
          ],
          "scattergl": [
           {
            "marker": {
             "colorbar": {
              "outlinewidth": 0,
              "ticks": ""
             }
            },
            "type": "scattergl"
           }
          ],
          "scattermapbox": [
           {
            "marker": {
             "colorbar": {
              "outlinewidth": 0,
              "ticks": ""
             }
            },
            "type": "scattermapbox"
           }
          ],
          "scatterpolar": [
           {
            "marker": {
             "colorbar": {
              "outlinewidth": 0,
              "ticks": ""
             }
            },
            "type": "scatterpolar"
           }
          ],
          "scatterpolargl": [
           {
            "marker": {
             "colorbar": {
              "outlinewidth": 0,
              "ticks": ""
             }
            },
            "type": "scatterpolargl"
           }
          ],
          "scatterternary": [
           {
            "marker": {
             "colorbar": {
              "outlinewidth": 0,
              "ticks": ""
             }
            },
            "type": "scatterternary"
           }
          ],
          "surface": [
           {
            "colorbar": {
             "outlinewidth": 0,
             "ticks": ""
            },
            "colorscale": [
             [
              0,
              "#0d0887"
             ],
             [
              0.1111111111111111,
              "#46039f"
             ],
             [
              0.2222222222222222,
              "#7201a8"
             ],
             [
              0.3333333333333333,
              "#9c179e"
             ],
             [
              0.4444444444444444,
              "#bd3786"
             ],
             [
              0.5555555555555556,
              "#d8576b"
             ],
             [
              0.6666666666666666,
              "#ed7953"
             ],
             [
              0.7777777777777778,
              "#fb9f3a"
             ],
             [
              0.8888888888888888,
              "#fdca26"
             ],
             [
              1,
              "#f0f921"
             ]
            ],
            "type": "surface"
           }
          ],
          "table": [
           {
            "cells": {
             "fill": {
              "color": "#EBF0F8"
             },
             "line": {
              "color": "white"
             }
            },
            "header": {
             "fill": {
              "color": "#C8D4E3"
             },
             "line": {
              "color": "white"
             }
            },
            "type": "table"
           }
          ]
         },
         "layout": {
          "annotationdefaults": {
           "arrowcolor": "#2a3f5f",
           "arrowhead": 0,
           "arrowwidth": 1
          },
          "coloraxis": {
           "colorbar": {
            "outlinewidth": 0,
            "ticks": ""
           }
          },
          "colorscale": {
           "diverging": [
            [
             0,
             "#8e0152"
            ],
            [
             0.1,
             "#c51b7d"
            ],
            [
             0.2,
             "#de77ae"
            ],
            [
             0.3,
             "#f1b6da"
            ],
            [
             0.4,
             "#fde0ef"
            ],
            [
             0.5,
             "#f7f7f7"
            ],
            [
             0.6,
             "#e6f5d0"
            ],
            [
             0.7,
             "#b8e186"
            ],
            [
             0.8,
             "#7fbc41"
            ],
            [
             0.9,
             "#4d9221"
            ],
            [
             1,
             "#276419"
            ]
           ],
           "sequential": [
            [
             0,
             "#0d0887"
            ],
            [
             0.1111111111111111,
             "#46039f"
            ],
            [
             0.2222222222222222,
             "#7201a8"
            ],
            [
             0.3333333333333333,
             "#9c179e"
            ],
            [
             0.4444444444444444,
             "#bd3786"
            ],
            [
             0.5555555555555556,
             "#d8576b"
            ],
            [
             0.6666666666666666,
             "#ed7953"
            ],
            [
             0.7777777777777778,
             "#fb9f3a"
            ],
            [
             0.8888888888888888,
             "#fdca26"
            ],
            [
             1,
             "#f0f921"
            ]
           ],
           "sequentialminus": [
            [
             0,
             "#0d0887"
            ],
            [
             0.1111111111111111,
             "#46039f"
            ],
            [
             0.2222222222222222,
             "#7201a8"
            ],
            [
             0.3333333333333333,
             "#9c179e"
            ],
            [
             0.4444444444444444,
             "#bd3786"
            ],
            [
             0.5555555555555556,
             "#d8576b"
            ],
            [
             0.6666666666666666,
             "#ed7953"
            ],
            [
             0.7777777777777778,
             "#fb9f3a"
            ],
            [
             0.8888888888888888,
             "#fdca26"
            ],
            [
             1,
             "#f0f921"
            ]
           ]
          },
          "colorway": [
           "#636efa",
           "#EF553B",
           "#00cc96",
           "#ab63fa",
           "#FFA15A",
           "#19d3f3",
           "#FF6692",
           "#B6E880",
           "#FF97FF",
           "#FECB52"
          ],
          "font": {
           "color": "#2a3f5f"
          },
          "geo": {
           "bgcolor": "white",
           "lakecolor": "white",
           "landcolor": "#E5ECF6",
           "showlakes": true,
           "showland": true,
           "subunitcolor": "white"
          },
          "hoverlabel": {
           "align": "left"
          },
          "hovermode": "closest",
          "mapbox": {
           "style": "light"
          },
          "paper_bgcolor": "white",
          "plot_bgcolor": "#E5ECF6",
          "polar": {
           "angularaxis": {
            "gridcolor": "white",
            "linecolor": "white",
            "ticks": ""
           },
           "bgcolor": "#E5ECF6",
           "radialaxis": {
            "gridcolor": "white",
            "linecolor": "white",
            "ticks": ""
           }
          },
          "scene": {
           "xaxis": {
            "backgroundcolor": "#E5ECF6",
            "gridcolor": "white",
            "gridwidth": 2,
            "linecolor": "white",
            "showbackground": true,
            "ticks": "",
            "zerolinecolor": "white"
           },
           "yaxis": {
            "backgroundcolor": "#E5ECF6",
            "gridcolor": "white",
            "gridwidth": 2,
            "linecolor": "white",
            "showbackground": true,
            "ticks": "",
            "zerolinecolor": "white"
           },
           "zaxis": {
            "backgroundcolor": "#E5ECF6",
            "gridcolor": "white",
            "gridwidth": 2,
            "linecolor": "white",
            "showbackground": true,
            "ticks": "",
            "zerolinecolor": "white"
           }
          },
          "shapedefaults": {
           "line": {
            "color": "#2a3f5f"
           }
          },
          "ternary": {
           "aaxis": {
            "gridcolor": "white",
            "linecolor": "white",
            "ticks": ""
           },
           "baxis": {
            "gridcolor": "white",
            "linecolor": "white",
            "ticks": ""
           },
           "bgcolor": "#E5ECF6",
           "caxis": {
            "gridcolor": "white",
            "linecolor": "white",
            "ticks": ""
           }
          },
          "title": {
           "x": 0.05
          },
          "xaxis": {
           "automargin": true,
           "gridcolor": "white",
           "linecolor": "white",
           "ticks": "",
           "title": {
            "standoff": 15
           },
           "zerolinecolor": "white",
           "zerolinewidth": 2
          },
          "yaxis": {
           "automargin": true,
           "gridcolor": "white",
           "linecolor": "white",
           "ticks": "",
           "title": {
            "standoff": 15
           },
           "zerolinecolor": "white",
           "zerolinewidth": 2
          }
         }
        },
        "title": {
         "text": "Followers gained vs Income Change"
        },
        "xaxis": {
         "anchor": "y",
         "domain": [
          0,
          1
         ],
         "title": {
          "text": "Followers gained"
         }
        },
        "yaxis": {
         "anchor": "x",
         "domain": [
          0,
          1
         ],
         "title": {
          "text": "Income Change"
         }
        }
       }
      },
      "text/html": [
       "<div>\n",
       "        \n",
       "        \n",
       "            <div id=\"b0299204-5e03-4b50-8f87-749c6126972d\" class=\"plotly-graph-div\" style=\"height:525px; width:100%;\"></div>\n",
       "            <script type=\"text/javascript\">\n",
       "                require([\"plotly\"], function(Plotly) {\n",
       "                    window.PLOTLYENV=window.PLOTLYENV || {};\n",
       "                    \n",
       "                if (document.getElementById(\"b0299204-5e03-4b50-8f87-749c6126972d\")) {\n",
       "                    Plotly.newPlot(\n",
       "                        'b0299204-5e03-4b50-8f87-749c6126972d',\n",
       "                        [{\"hovertemplate\": \"Followers gained=%{x}<br>Income Change=%{y}<extra></extra>\", \"legendgroup\": \"\", \"marker\": {\"color\": \"#636efa\", \"symbol\": \"circle\"}, \"mode\": \"markers\", \"name\": \"\", \"orientation\": \"v\", \"showlegend\": false, \"type\": \"scatter\", \"x\": [9819, 8651, 14489, 11515, 15848, 8176, 8821, 7363, 24039, 3743, 5231, 3972, 4226, 5450, 3567, 2100, 5732, 7100, 6783, 6800, 7313, 25290, 7647, 10285, 9751, 7187, 3839, 6639, 5023, 5643, 5537, 5655, 4830, 75110, 27298, 68116, 22294, 25302, 17814, 55589, 50041, 41646, 49136, 96952, 44920, 34705, 50060, 67481, 13814, 12089, 12313, 14279, 5483, 7021, 6556, 14898, 12325, 7707, 19126, 13639, 11998, 6280, 9383, 6351, 7517, 74188, 165741, 81164, 52803, 42166, 72940, 87189, 49520, 87212, 55103, 51911, 81692, 45426, 125784, 123213, 90674, 103879, 99865, 100287, 91005, 62115, 72448, 62972, 103120, 90674, 18989, 54813, 65908, 23925, 21434, 108081, 29746, 14574, 9959, 11377, 12268, 13907, 12066, 10349, 22962, 23322, 12770, 11324, 14773, 57105, 76686, 68361, 49713, 46263, 31878, 33252, 64388, 44791, 30782, 29031, 39064, 35821, 43278, 153555, 91348, 14942, 20703, 46356, 24810, 18040, 7876, 4947, 11288, 3938, 9969, 34904, 8988, 12872, 7931, 20120, 32654, 14592, 79849, 31805, 19411, 15426, 27706, 15626, 10027, 12431, 5745, 8018, 7933, 20268, 13173, 12338, 4142, 17250, 37666, 38047, 24461, 6366, 21017, 10437, 8138, 4430, 6142, 5584, 6661, 4354, 8442, 7530, 7153, 93972, 75815, 41384, 43563, 50701, 38381, 46143, 86629, 101270, 48195, 46290, 73883, 73739, 87118, 90982, 130781, 123786, 228864, 84851, 63943, 52791, 112167, 112547, 97140, 95375, 42254, 56595, 27522, 34996, 44046, 35303, 87608, 129918, 118634, 6060, 7091, 10848, 8786, 9503, 6866, 9126, 6415, 8849, 8530, 6408, 11405, 8585, 6887, 21687, 9570, 19132, 7069, 2804, 5726, 56653, 29794, 24125, 49034, 40557, 46765, 40654, 20337, 22593, 99052, 54315, 24496, 612304, 312768, 379854, 337652, 368462, 279991, 233516, 244146, 70676, 190934, 80515, 87606, 121443, 46180, 288072, 240353, 299236, 150643, 117392, 113490, 94954, 92747, 62534, 63487, 101780, 33815, 79198, 33005, 61635, 36625, 42133, 95833, 420113, 69455, 12416, 24590, 14885, 20189, 21050, 49356, 41433, 24932, 49110, 31775, 14723, 9464, 21611, 7040, 3197, 2259, 1116, 4447, 1864, 11971, 3635, 78831, 34491, 101514, 35752, 25578, 37105, 36740, 30002, 49128, 46510, 25321, 36670, 21653, 304585, 17116, 25832, 18311, 20440, 46607, 32229, 22240, 31617, 19394, 32814, 34229, 36247, 98079, 88861, 88637, 96536, 59723, 49332, 72297, 54524, 65865, 60277, 69342, 91345, 54229, 90886, 140898, 201129, 171236, 121486, 97095, 91430, 88952, 90537, 105267, 100231, 31158, 58628, 27823, 29601, 36614, 28395, 14742, 11272, 8084, 7207, 12568, 5608, 8167, 9647, 6079, 9543, 6498, 7483, 26336, 14901, 34381, 7846, 142, 23623, 11025, 9140, 7632, 13919, 8802, 40271, 19523, 4471, 5736, 25711, 27197, 20761, 28074, 38640, 75197, 119141, 341054, 8862, 7285, 11624, 7939, 8961, 4659, 6044, 9117, 9488, 7477, 7260, 7238, 6552, 7893, 11916, 7081, 5790, 7065, 37228, -579, 9661, 67012, 129950, 68330, 59546, 45857, 61940, 45037, 46103, 86527, 146198, 82468, 99517, 86529, 61775, 6120, 758, 6044, 23607, 4234, 8662, 7394, 11773, 3878, 12922, 25309, 9657, 6103, 7937, 13826, 5950, 2105, 30039, 27207, 20874, 15149, 12982, 12093, 6587, 16302, 18820, 8229, 8750, 10809, 10916, 8632, 1442, 5903, 24853, 25424, 79919, 25703, 57565, 24873, 15263, 51714, 24733, 10303, 14391, 76749, -29084, 13058, 12356, 21163, 125422, 90550, 101806, 68594, 38959, 23993, 20554, 45303, 10029, 32136, 24093, 29638, 70513, 75744, 202086, 891980, 52139, 87664, 67987, 45889, 90245, 63459, 71012, 74382, 104974, 57629, 65481, 145384, 83037, 102516, 103891, 223633, 599741, 82227], \"xaxis\": \"x\", \"y\": [-36295.11, -7912.099999999991, -21266.29999999999, -57068.869999999995, -24214.5, -51934.17999999999, -39877.399999999994, -61972.53999999999, -26313.62999999999, -44781.73999999999, -58999.439999999995, -23594.11, -57707.59, -55145.719999999994, -53429.7, -51628.149999999994, -51658.869999999995, -519.1900000000005, 4253.68, -967.8400000000001, 843.8199999999997, 359.7600000000002, 3344.9500000000007, 4098.24, 2471.039999999999, 2770.4500000000007, 3308.74, 3195.0499999999993, 2252.289999999999, 2831.7199999999993, 4927.289999999999, 8830.89, 11124.369999999999, 4950.549999999999, 2336.029999999999, 3608.2700000000004, -274.3999999999978, 5469.41, 4816.23, 19811.210000000003, 24202.100000000002, 26118.3, 13912.560000000001, 33663.68000000001, 29532.680000000004, 48937.5, 19131.780000000002, 20809.350000000002, -20056.75, -12146.409999999996, -22381.5, -14806.220000000001, -21393.39, -13623.189999999995, -13739.54, -19612.979999999996, -13600.329999999994, -24379.18, -14643.29, 6431.939999999995, -16045.150000000001, -20643.71, -19782.85, -36547.119999999995, -9944.449999999997, 3036.010000000002, 27360.629999999997, -115.19999999999709, 1995.2699999999968, 6881.5999999999985, 36132.579999999994, 33412.74, 18706.590000000004, 19111.050000000003, 4029.980000000003, 12244.330000000002, 8346.730000000003, 11799.739999999998, 23431.46, 34015.60999999999, 29200.140000000007, -446.90000000000873, 28996.050000000003, 1263.4700000000012, -9430.530000000006, -12155.75, -4303.770000000004, -4959.610000000001, -12687.310000000005, -4406.530000000006, -20837.83, -12380.570000000007, 5661.619999999995, -14823.380000000005, -7580.040000000001, 17915.410000000003, -6802.340000000004, 4875.610000000001, -4061.8499999999985, -3363.1399999999994, -1007.8099999999977, -4501.09, -5619.0599999999995, -279.369999999999, 2754.7999999999993, 8408.350000000002, 3448.3899999999994, -1427.1800000000003, -783.489999999998, 1517.42, 15693.98, 5456.07, 928.4000000000015, 1277.2400000000016, 3264.460000000001, 663.710000000001, 10559.060000000001, 7137.4000000000015, 1810.1500000000015, 3054.540000000001, 1011.0300000000007, 1804.6599999999999, 2269.2300000000014, 13787.59, -263.40999999999985, 1212.579999999998, 15804.36, 11068.059999999998, 134.79000000000087, -4591.1500000000015, -3233.6800000000003, -7295.810000000001, -3892.59, -5095.850000000002, 10184.269999999997, -5719.200000000001, -2699.8199999999997, -5374.830000000002, -6906.510000000002, -4910.580000000002, -6532.330000000002, 12714.169999999998, 12032.19, 11131.859999999999, 11917.679999999998, 15724.53, 11941.31, 30428.03, 18630.270000000004, 16006.539999999999, 19451.239999999998, 18561.04, 18192.660000000003, 19441.590000000004, 27606.200000000004, 31449.11, -4417.790000000001, 23043.390000000007, -2948.25, -1913.3600000000006, 1052.4100000000035, 170.34999999999854, 2119.8499999999985, -2652.0999999999985, -3336.979999999996, -8826.68, -8358.580000000002, -8588.21, -8489.379999999997, -10045.220000000001, -3992.290000000001, -16262.89, -4911.0, -149.20999999999913, -3822.0600000000013, -9405.539999999999, -10982.83, -4869.450000000001, -9251.06, -4914.509999999998, 10445.400000000001, 35480.55, 2535.9000000000015, 184.97000000000116, 3363.6100000000006, 8334.009999999998, 4541.4000000000015, 16572.55, 13278.84, 25274.859999999997, 47799.56, 40211.83, -17968.109999999986, -31031.87999999999, 11129.950000000012, 5192.320000000007, 21058.37000000001, 7284.25, -19897.979999999996, 15433.550000000003, -18150.39, -3426.5099999999948, 206.2100000000064, 7384.330000000002, 28186.880000000005, 63964.5, 37071.68000000001, 5855.769999999999, 3798.6100000000006, 963.710000000001, 3230.290000000001, 1011.7800000000007, 1569.5, -718.5, 1322.1499999999996, 7207.840000000002, 3937.6900000000005, 4942.359999999999, 6850.219999999999, 5506.210000000001, 6464.789999999999, 11317.35, 6709.99, -3497.9900000000002, -2260.4700000000003, -2829.3300000000004, -2420.1500000000005, -514.31, -713.8900000000001, -324.19000000000005, -1382.6100000000001, -698.72, 11417.36, 5683.35, 6651.59, 229.23999999999978, 8058.49, 4555.55, 4964.8, 37922.65000000001, 10875.0, -886.7599999999948, -5483.659999999996, 5707.340000000004, 4782.460000000006, 639.2700000000041, -7350.32, -23209.609999999997, 2326.9900000000052, -19989.839999999997, -16436.019999999997, -4679.0, -14302.059999999998, -7240.309999999998, -3848.209999999999, 18289.48000000001, 21150.430000000008, 19350.53, 4512.419999999998, -12627.979999999996, -6160.1500000000015, -17315.519999999997, -15879.32, -14591.0, -25805.869999999995, -18094.729999999996, -32777.82, -15360.619999999995, -26774.71, -25526.47, -14953.309999999998, 21715.320000000007, -6295.199999999997, 3228.1899999999987, 2988.790000000001, 4775.240000000002, 13074.059999999998, 12110.529999999999, 23562.86, 16162.64, 15977.779999999999, 35588.17, 22018.679999999997, 16267.630000000001, -6059.32, 1737.9999999999964, 7283.48, -683.6800000000003, -8728.48, -418.8700000000026, -1209.2900000000009, -1486.8899999999994, 16386.399999999998, 10537.439999999999, 3528.0300000000007, 1703.9300000000003, 6415.83, -573.3899999999994, -738.0799999999999, 627.7000000000007, 2384.620000000001, 763.2700000000004, 9201.44, 4690.48, 1731.6900000000005, -1362.4899999999998, 2389.870000000001, 9841.4, 259.50999999999976, 768.44, -753.6100000000001, 1516.85, -289.5400000000002, 2080.72, 1077.7199999999998, 942.9899999999998, -124.85000000000014, 74.75999999999999, -119.84000000000015, -369.3900000000001, -639.9399999999996, 1956.4000000000005, -2057.8599999999997, -690.6399999999994, -1574.37, -2117.4799999999996, -574.4699999999993, 756.3000000000002, 1360.5299999999997, -780.5199999999995, -316.02999999999975, -695.71, -2867.04, -2058.5599999999995, -1948.8399999999992, -2992.6899999999996, -18933.449999999997, -20055.369999999995, -22402.079999999998, -20155.489999999998, -19866.1, -20066.249999999996, -7740.789999999994, -7052.219999999994, -15685.639999999996, -17935.709999999995, -21164.889999999996, -15934.679999999997, -17007.78, -16938.069999999996, -4313.22, -4902.96, -4393.46, -4818.02, -4798.04, -4618.0, -4458.16, -4753.09, -4863.05, -4823.14, -4668.36, -4708.27, -2969.2700000000004, 6567.0, -1697.3199999999997, -6148.740000000002, -4317.5, -4746.639999999999, -7122.209999999999, -8339.720000000001, -5300.630000000001, -7815.810000000001, -10225.880000000001, -7032.369999999999, -7581.170000000002, -10166.11, -11887.82, 34.959999999999994, 19.97999999999999, 5.0, 0.009999999999990905, 14.97999999999999, 34.97, -9.969999999999999, -74.87, -683.4699999999993, 6176.67, 1079.1200000000008, -204.17000000000007, 519.7399999999998, -13.549999999999272, -673.9500000000007, -5292.08, 607.4799999999996, 503.4300000000003, -4509.63, -345.9500000000007, -3141.6100000000006, -2292.8500000000004, -6446.73, -3795.6000000000004, -5164.39, 0.0, 19.96, -29.95, -24.96, 9527.220000000001, 12375.82, 6627.340000000001, 6941.410000000001, 6886.55, 4241.62, 6866.320000000001, 8573.150000000001, 7375.61, 5698.81, 9701.04, 15249.870000000003, 13747.93, 3677.670000000001, -853.25, 2410.29, -1097.7599999999998, -918.06, -1446.5499999999997, -1975.9899999999998, -1471.9799999999996, -1731.54, -1237.4299999999998, -1701.6999999999998, -1841.33, -1422.27, -958.1099999999997, -878.1899999999996, 354.3000000000002, 6049.780000000001, 1956.37, 953.0099999999984, 13443.149999999998, 2374.2999999999993, -362.8199999999997, 1295.5599999999977, 225.77999999999884, -1457.1100000000006, -14536.800000000001, 1526.630000000001, 679.489999999998, -3021.880000000001, -3287.4500000000007, -2441.9400000000023, -4314.290000000001, -4778.959999999999, -2484.66, -12430.900000000001, 7739.82, 11012.46, -11058.870000000003, -7225.940000000002, -19786.58, -9017.940000000002, -11932.2, -23045.300000000003, -13913.080000000002, -23494.260000000002, -17825.65, -17106.920000000002, -17959.97, -20105.870000000003, -15474.940000000002, 11265.260000000002, 2834.9300000000003, 2202.989999999998, -6505.0899999999965, -17664.17, -30825.15, -17646.309999999998, -18036.050000000003, -25142.010000000002, -21818.519999999997, -28879.95, -19582.730000000003, -8853.589999999997, -1528.3099999999977, 5472.810000000005, 85172.69999999998, 26478.799999999996, 2799.6700000000055, 5111.040000000001, -3617.8600000000006, -5574.4699999999975, -2699.3899999999994, 1297.3300000000017, 10084.530000000006, 5823.310000000005, 27484.61, 16247.410000000003, 13517.690000000002, 21826.270000000004, 12619.510000000002, 21341.36, 16720.910000000003, 35678.73, 35882.76], \"yaxis\": \"y\"}, {\"hovertemplate\": \"<b>OLS trendline</b><br>Income Change = 0.0740703 * Followers gained + -4177.31<br>R<sup>2</sup>=0.132662<br><br>Followers gained=%{x}<br>Income Change=%{y} <b>(trend)</b><extra></extra>\", \"legendgroup\": \"\", \"marker\": {\"color\": \"#636efa\", \"symbol\": \"circle\"}, \"mode\": \"lines\", \"name\": \"\", \"showlegend\": false, \"type\": \"scatter\", \"x\": [-29084, -579, 142, 758, 1116, 1442, 1864, 2100, 2105, 2259, 2804, 3197, 3567, 3635, 3743, 3839, 3878, 3938, 3972, 4142, 4226, 4234, 4354, 4430, 4447, 4471, 4659, 4830, 4947, 5023, 5231, 5450, 5483, 5537, 5584, 5608, 5643, 5655, 5726, 5732, 5736, 5745, 5790, 5903, 5950, 6044, 6044, 6060, 6079, 6103, 6120, 6142, 6280, 6351, 6366, 6408, 6415, 6498, 6552, 6556, 6587, 6639, 6661, 6783, 6800, 6866, 6887, 7021, 7040, 7065, 7069, 7081, 7091, 7100, 7153, 7187, 7207, 7238, 7260, 7285, 7313, 7363, 7394, 7477, 7483, 7517, 7530, 7632, 7647, 7707, 7846, 7876, 7893, 7931, 7933, 7937, 7939, 8018, 8084, 8138, 8167, 8176, 8229, 8442, 8530, 8585, 8632, 8651, 8662, 8750, 8786, 8802, 8821, 8849, 8862, 8961, 8988, 9117, 9126, 9140, 9383, 9464, 9488, 9503, 9543, 9570, 9647, 9657, 9661, 9751, 9819, 9959, 9969, 10027, 10029, 10285, 10303, 10349, 10437, 10809, 10848, 10916, 11025, 11272, 11288, 11324, 11377, 11405, 11515, 11624, 11773, 11916, 11971, 11998, 12066, 12089, 12093, 12268, 12313, 12325, 12338, 12356, 12416, 12431, 12568, 12770, 12872, 12922, 12982, 13058, 13173, 13639, 13814, 13826, 13907, 13919, 14279, 14391, 14489, 14574, 14592, 14723, 14742, 14773, 14885, 14898, 14901, 14942, 15149, 15263, 15426, 15626, 15848, 16302, 17116, 17250, 17814, 18040, 18311, 18820, 18989, 19126, 19132, 19394, 19411, 19523, 20120, 20189, 20268, 20337, 20440, 20554, 20703, 20761, 20874, 21017, 21050, 21163, 21434, 21611, 21653, 21687, 22240, 22294, 22593, 22962, 23322, 23607, 23623, 23925, 23993, 24039, 24093, 24125, 24461, 24496, 24590, 24733, 24810, 24853, 24873, 24932, 25290, 25302, 25309, 25321, 25424, 25578, 25703, 25711, 25832, 26336, 27197, 27207, 27298, 27522, 27706, 27823, 28074, 28395, 29031, 29601, 29638, 29746, 29794, 30002, 30039, 30782, 31158, 31617, 31775, 31805, 31878, 32136, 32229, 32654, 32814, 33005, 33252, 33815, 34229, 34381, 34491, 34705, 34904, 34996, 35303, 35752, 35821, 36247, 36614, 36625, 36670, 36740, 37105, 37228, 37666, 38047, 38381, 38640, 38959, 39064, 40271, 40557, 40654, 41384, 41433, 41646, 42133, 42166, 42254, 43278, 43563, 44046, 44791, 44920, 45037, 45303, 45426, 45857, 45889, 46103, 46143, 46180, 46263, 46290, 46356, 46510, 46607, 46765, 48195, 49034, 49110, 49128, 49136, 49332, 49356, 49520, 49713, 50041, 50060, 50701, 51714, 51911, 52139, 52791, 52803, 54229, 54315, 54524, 54813, 55103, 55589, 56595, 56653, 57105, 57565, 57629, 58628, 59546, 59723, 60277, 61635, 61775, 61940, 62115, 62534, 62972, 63459, 63487, 63943, 64388, 65481, 65865, 65908, 67012, 67481, 67987, 68116, 68330, 68361, 68594, 69342, 69455, 70513, 70676, 71012, 72297, 72448, 72940, 73739, 73883, 74188, 74382, 75110, 75197, 75744, 75815, 76686, 76749, 78831, 79198, 79849, 79919, 80515, 81164, 81692, 82227, 82468, 83037, 84851, 86527, 86529, 86629, 87118, 87189, 87212, 87606, 87608, 87664, 88637, 88861, 88952, 90245, 90537, 90550, 90674, 90674, 90886, 90982, 91005, 91345, 91348, 91430, 92747, 93972, 94954, 95375, 95833, 96536, 96952, 97095, 97140, 98079, 99052, 99517, 99865, 100231, 100287, 101270, 101514, 101780, 101806, 102516, 103120, 103879, 103891, 104974, 105267, 108081, 112167, 112547, 113490, 117392, 118634, 119141, 121443, 121486, 123213, 123786, 125422, 125784, 129918, 129950, 130781, 140898, 145384, 146198, 150643, 153555, 165741, 171236, 190934, 201129, 202086, 223633, 228864, 233516, 240353, 244146, 279991, 288072, 299236, 304585, 312768, 337652, 341054, 368462, 379854, 420113, 599741, 612304, 891980], \"xaxis\": \"x\", \"y\": [-6331.570345311515, -4220.196382584814, -4166.791694736158, -4121.164388613034, -4094.6472204440756, -4070.5003019438514, -4039.2426344374253, -4021.762043130514, -4021.3916916197745, -4009.9848650889935, -3969.6165504183728, -3940.5069216742368, -3913.1009098795034, -3908.0641293334443, -3900.0645367014677, -3892.953787695267, -3890.0650459114977, -3885.6208277826217, -3883.102437509592, -3870.5104861444443, -3864.2885807640187, -3863.696018346835, -3854.8075820890836, -3849.178239125841, -3847.9190439893264, -3846.141356737776, -3832.216139933965, -3819.5501182666694, -3810.883892915362, -3805.2545499521193, -3789.84792710535, -3773.626530934954, -3771.1822109640725, -3767.1824146480844, -3763.7011104471317, -3761.9234231955816, -3759.3309626204036, -3758.442118994629, -3753.183127542126, -3752.738705729238, -3752.4424245206465, -3751.7757918013153, -3748.4426282046584, -3740.0726840619427, -3736.59137986099, -3729.6287714590844, -3729.6287714590844, -3728.4436466247175, -3727.036310883907, -3725.258623632357, -3723.999428495842, -3722.3698818485877, -3712.1481801521736, -3706.8891886996707, -3705.7781341674518, -3702.6671814772385, -3702.148689362203, -3696.000854283925, -3692.001057967937, -3691.7047767593454, -3689.4085973927595, -3685.556941681067, -3683.927395033813, -3674.890818171765, -3673.6316230352504, -3668.7429830934875, -3667.1875067483807, -3657.2620862605586, -3655.854750519748, -3654.0029929660495, -3653.706711757458, -3652.8178681316826, -3652.0771651102036, -3651.410532390872, -3647.484806377032, -3644.9664161040023, -3643.485010061044, -3641.188830694458, -3639.5592840472036, -3637.7075264935056, -3635.6335580333634, -3631.930042925967, -3629.633863559381, -3623.486028481103, -3623.0416066682155, -3620.523216395186, -3619.5603024672628, -3612.005131648174, -3610.894077115955, -3606.4498589870796, -3596.1540869885175, -3593.9319779240795, -3592.6727827875648, -3589.8581113059436, -3589.7099707016478, -3589.413689493056, -3589.2655488887603, -3583.413995019074, -3578.5253550773105, -3574.5255587613224, -3572.3775199990323, -3571.710887279701, -3567.785161265861, -3552.0081869083524, -3545.4900003193343, -3541.4161337011983, -3537.9348295002455, -3536.527493759435, -3535.712720435808, -3529.1945338467904, -3526.528002969465, -3525.342878135098, -3523.935542394287, -3521.8615739341453, -3520.898660006222, -3513.565700093577, -3511.5658019355833, -3502.0107329585007, -3501.344100239169, -3500.307116009098, -3482.3080325871515, -3476.308338113169, -3474.530650861619, -3473.4195963294, -3470.456784243483, -3468.456886085489, -3462.7534728200985, -3462.012769798619, -3461.7164885900274, -3455.050161396714, -3450.013380850655, -3439.643538549945, -3438.9028355284654, -3434.6067580038857, -3434.45861739959, -3415.49662004972, -3414.1633546110575, -3410.7561207122526, -3404.237934123235, -3376.683781724206, -3373.7950399404363, -3368.758259394377, -3360.684596460253, -3342.389231829715, -3341.204106995348, -3338.5375761180226, -3334.6118501041824, -3332.53788164404, -3324.3901484077683, -3316.316485473644, -3305.2800104536027, -3294.6879572464486, -3290.6140906283126, -3288.614192470319, -3283.5774119242596, -3281.8737949748574, -3281.5775137662654, -3268.615210890378, -3265.282047293721, -3264.393203667946, -3263.430289740023, -3262.0970243013603, -3257.652806172485, -3256.541751640266, -3246.3941202459996, -3231.431919212118, -3223.876748393029, -3220.1732332856327, -3215.729015156757, -3210.0996721935144, -3201.581587446503, -3167.0648266455682, -3154.102523769681, -3153.2136801439055, -3147.213985669923, -3146.3251420441484, -3119.659833270894, -3111.363959430326, -3104.1050698198287, -3097.8090941372548, -3096.4758286985925, -3086.7726191172137, -3085.365283376403, -3083.0691040098172, -3074.7732301692495, -3073.8103162413263, -3073.5881053348826, -3070.5512229468177, -3055.218670402196, -3046.7746559573325, -3034.7011967072203, -3019.8871362776345, -3003.4435292007943, -2969.8156120256344, -2909.522386077221, -2899.5969655893987, -2857.8213151779673, -2841.081426892535, -2821.008375010447, -2783.306591217151, -2770.788710154151, -2760.641078759885, -2760.1966569469973, -2740.79023778424, -2739.5310426477254, -2731.2351688071576, -2687.015198424844, -2681.904347576637, -2676.052793706951, -2670.9419428587435, -2663.3127017375073, -2654.868687292643, -2643.8322122726017, -2639.536134748022, -2631.166190605306, -2620.5741373981523, -2618.1298174272706, -2609.7598732845545, -2589.686821402466, -2576.5763779222825, -2573.4654252320697, -2570.94703495904, -2529.9861578712357, -2525.9863615552476, -2503.839341213017, -2476.5073997204317, -2449.842090947177, -2428.7320548350176, -2427.5469300006507, -2405.177698751976, -2400.140918205917, -2396.7336843071125, -2392.7338879911244, -2390.3636383223907, -2365.476016800687, -2362.883556225509, -2355.920947823604, -2345.3288946164503, -2339.6254813510595, -2336.440458358699, -2334.9590523157403, -2330.5889044890127, -2304.071736320054, -2303.182892694279, -2302.664400579243, -2301.7755569534684, -2294.1463158322317, -2282.7394893014507, -2273.4807015329598, -2272.8881391157765, -2263.925632555877, -2226.594200273321, -2162.819670123955, -2162.0789671024754, -2155.3385696070136, -2138.746821925878, -2125.117886330659, -2116.4516609793513, -2097.8600151402215, -2074.0834481507363, -2026.9747359846538, -1984.7546637603346, -1982.0140625808613, -1974.014469948885, -1970.4590954457844, -1955.0524725990153, -1952.311871419542, -1897.2776369236312, -1869.42720331601, -1835.4289346301111, -1823.725826890738, -1821.5037178263005, -1816.0965857695014, -1796.9864478153363, -1790.0979097155787, -1758.6180313027094, -1746.7667829590405, -1732.6193552487862, -1714.323990618248, -1672.622410508964, -1641.9573054197217, -1630.698619493237, -1622.5508862569645, -1606.699841597308, -1591.95985146987, -1585.1453836722608, -1562.4058009128466, -1529.1482352484268, -1524.0373844002197, -1492.4834356852025, -1465.2996347969124, -1464.4848614732855, -1461.1516978766285, -1455.9667767262736, -1428.9311164422797, -1419.8204692780846, -1387.377676937292, -1359.1568918189314, -1334.417410901523, -1315.2332026452095, -1291.6047762600206, -1283.8273945344881, -1194.4245398419384, -1173.2404334276307, -1166.055614119282, -1111.9842935512938, -1108.3548487460457, -1092.5778743885367, -1056.5056372424956, -1054.061317271614, -1047.5431306825963, -971.6951412831177, -950.5851051709578, -914.8091492335084, -859.6267741333018, -850.0717051562192, -841.4054798049115, -821.7027794335627, -812.5921322693675, -780.6678320436104, -778.2975823748766, -762.4465377152196, -759.4837256293026, -756.7431244498293, -750.5952893715512, -748.5953912135574, -743.706751271794, -732.299924741013, -725.1151054326638, -713.4119976932911, -607.4914656217534, -545.3464821196417, -539.7171391563988, -538.3838737177362, -537.7913113005529, -523.2735320795591, -521.4958448280086, -509.3483152757485, -495.0527469611984, -470.7576878566779, -469.3503521158668, -421.87128843904475, -346.83807236319353, -332.24622284005136, -315.35819395032377, -267.0643569498743, -266.1755133240995, -160.55126246115333, -154.18121647643147, -138.70052332751447, -117.29420600676303, -95.81381838386415, -59.81565153997053, 14.699072420845368, 18.99514994542551, 52.47492651628909, 86.54726550433588, 91.28776484180344, 165.28399668758357, 233.28053405938226, 246.39097753956503, 287.42592492951735, 388.0133952464048, 398.38323754711473, 410.6048374015227, 423.56714027741054, 454.602596877392, 487.04538921818494, 523.1176263642255, 525.1915948243677, 558.9676526038229, 591.9289370596516, 672.8877773073373, 701.3307733321417, 704.5157963245028, 786.2894098958159, 821.0283816031942, 858.5079544900454, 868.0630234671289, 883.9140681267854, 886.2102474933708, 903.468627893838, 958.8732139004887, 967.2431580432049, 1045.6095377157126, 1057.6829969658256, 1082.570618487529, 1177.7509567476172, 1188.9355723719545, 1225.3781610287351, 1284.5603324449303, 1295.2264559542318, 1317.8178981093497, 1332.1875367260482, 1386.11071668974, 1392.5548329766098, 1433.0712882515263, 1438.3302797040296, 1502.8455128748756, 1507.5119419101948, 1661.7263109821815, 1688.9101118704712, 1737.1298785687732, 1742.3147997191281, 1786.4606997992933, 1834.5323258932985, 1873.6414454274045, 1913.2690570765462, 1931.1199998941975, 1973.2660018163688, 2107.6295299127105, 2231.771356312639, 2231.919496916935, 2239.3265271317277, 2275.546904882064, 2280.8058963345675, 2282.5095132839697, 2311.693212330253, 2311.84135293455, 2315.9892898548333, 2388.059693844768, 2404.6514415259035, 2411.391839021365, 2507.1647396986364, 2528.793267925832, 2529.756181853755, 2538.9408993200977, 2538.9408993200977, 2554.6438033754584, 2561.75455238166, 2563.458169331062, 2588.642072061358, 2588.864282967802, 2594.9380477439317, 2692.488635672754, 2783.224755803966, 2855.9617925132316, 2887.1453897175097, 2921.0695881012607, 2973.1410105112545, 3003.9542562047927, 3014.546309411947, 3017.879473008603, 3087.431486725508, 3159.5018907154426, 3193.9445812142294, 3219.7210463617084, 3246.8307769478497, 3250.978713868134, 3323.7898208795477, 3341.862974603642, 3361.5656749749915, 3363.491502830837, 3416.0814173558665, 3460.819879853215, 3517.039239183493, 3517.928082809268, 3598.1462200354745, 3619.8488185648175, 3828.2826488090877, 4130.933903385523, 4159.080618201737, 4228.928913127233, 4517.951232108449, 4609.9465473761775, 4647.500190565177, 4818.010026109707, 4821.195049102069, 4949.114460911542, 4991.556744042304, 5112.735758356315, 5139.549207733866, 5445.755836813401, 5448.126086482134, 5509.678507567063, 6259.047754397656, 6591.327129833262, 6651.620355781675, 6980.862848829218, 7196.555568683985, 8099.176270658641, 8506.192580961508, 9965.229392671401, 10720.376123069533, 10791.2614022251, 12387.254202606515, 12774.715953142326, 13119.290998734488, 13625.709654519878, 13906.658310566969, 16561.70829105946, 17160.270402716873, 17987.191255896345, 18383.393302085613, 18989.510584562115, 20832.675983211164, 21084.663151118417, 23114.78199238884, 23958.590874458037, 26940.587168631493, 40245.68740285958, 41176.232608744, 61891.91843226803], \"yaxis\": \"y\"}],\n",
       "                        {\"legend\": {\"tracegroupgap\": 0}, \"template\": {\"data\": {\"bar\": [{\"error_x\": {\"color\": \"#2a3f5f\"}, \"error_y\": {\"color\": \"#2a3f5f\"}, \"marker\": {\"line\": {\"color\": \"#E5ECF6\", \"width\": 0.5}}, \"type\": \"bar\"}], \"barpolar\": [{\"marker\": {\"line\": {\"color\": \"#E5ECF6\", \"width\": 0.5}}, \"type\": \"barpolar\"}], \"carpet\": [{\"aaxis\": {\"endlinecolor\": \"#2a3f5f\", \"gridcolor\": \"white\", \"linecolor\": \"white\", \"minorgridcolor\": \"white\", \"startlinecolor\": \"#2a3f5f\"}, \"baxis\": {\"endlinecolor\": \"#2a3f5f\", \"gridcolor\": \"white\", \"linecolor\": \"white\", \"minorgridcolor\": \"white\", \"startlinecolor\": \"#2a3f5f\"}, \"type\": \"carpet\"}], \"choropleth\": [{\"colorbar\": {\"outlinewidth\": 0, \"ticks\": \"\"}, \"type\": \"choropleth\"}], \"contour\": [{\"colorbar\": {\"outlinewidth\": 0, \"ticks\": \"\"}, \"colorscale\": [[0.0, \"#0d0887\"], [0.1111111111111111, \"#46039f\"], [0.2222222222222222, \"#7201a8\"], [0.3333333333333333, \"#9c179e\"], [0.4444444444444444, \"#bd3786\"], [0.5555555555555556, \"#d8576b\"], [0.6666666666666666, \"#ed7953\"], [0.7777777777777778, \"#fb9f3a\"], [0.8888888888888888, \"#fdca26\"], [1.0, \"#f0f921\"]], \"type\": \"contour\"}], \"contourcarpet\": [{\"colorbar\": {\"outlinewidth\": 0, \"ticks\": \"\"}, \"type\": \"contourcarpet\"}], \"heatmap\": [{\"colorbar\": {\"outlinewidth\": 0, \"ticks\": \"\"}, \"colorscale\": [[0.0, \"#0d0887\"], [0.1111111111111111, \"#46039f\"], [0.2222222222222222, \"#7201a8\"], [0.3333333333333333, \"#9c179e\"], [0.4444444444444444, \"#bd3786\"], [0.5555555555555556, \"#d8576b\"], [0.6666666666666666, \"#ed7953\"], [0.7777777777777778, \"#fb9f3a\"], [0.8888888888888888, \"#fdca26\"], [1.0, \"#f0f921\"]], \"type\": \"heatmap\"}], \"heatmapgl\": [{\"colorbar\": {\"outlinewidth\": 0, \"ticks\": \"\"}, \"colorscale\": [[0.0, \"#0d0887\"], [0.1111111111111111, \"#46039f\"], [0.2222222222222222, \"#7201a8\"], [0.3333333333333333, \"#9c179e\"], [0.4444444444444444, \"#bd3786\"], [0.5555555555555556, \"#d8576b\"], [0.6666666666666666, \"#ed7953\"], [0.7777777777777778, \"#fb9f3a\"], [0.8888888888888888, \"#fdca26\"], [1.0, \"#f0f921\"]], \"type\": \"heatmapgl\"}], \"histogram\": [{\"marker\": {\"colorbar\": {\"outlinewidth\": 0, \"ticks\": \"\"}}, \"type\": \"histogram\"}], \"histogram2d\": [{\"colorbar\": {\"outlinewidth\": 0, \"ticks\": \"\"}, \"colorscale\": [[0.0, \"#0d0887\"], [0.1111111111111111, \"#46039f\"], [0.2222222222222222, \"#7201a8\"], [0.3333333333333333, \"#9c179e\"], [0.4444444444444444, \"#bd3786\"], [0.5555555555555556, \"#d8576b\"], [0.6666666666666666, \"#ed7953\"], [0.7777777777777778, \"#fb9f3a\"], [0.8888888888888888, \"#fdca26\"], [1.0, \"#f0f921\"]], \"type\": \"histogram2d\"}], \"histogram2dcontour\": [{\"colorbar\": {\"outlinewidth\": 0, \"ticks\": \"\"}, \"colorscale\": [[0.0, \"#0d0887\"], [0.1111111111111111, \"#46039f\"], [0.2222222222222222, \"#7201a8\"], [0.3333333333333333, \"#9c179e\"], [0.4444444444444444, \"#bd3786\"], [0.5555555555555556, \"#d8576b\"], [0.6666666666666666, \"#ed7953\"], [0.7777777777777778, \"#fb9f3a\"], [0.8888888888888888, \"#fdca26\"], [1.0, \"#f0f921\"]], \"type\": \"histogram2dcontour\"}], \"mesh3d\": [{\"colorbar\": {\"outlinewidth\": 0, \"ticks\": \"\"}, \"type\": \"mesh3d\"}], \"parcoords\": [{\"line\": {\"colorbar\": {\"outlinewidth\": 0, \"ticks\": \"\"}}, \"type\": \"parcoords\"}], \"pie\": [{\"automargin\": true, \"type\": \"pie\"}], \"scatter\": [{\"marker\": {\"colorbar\": {\"outlinewidth\": 0, \"ticks\": \"\"}}, \"type\": \"scatter\"}], \"scatter3d\": [{\"line\": {\"colorbar\": {\"outlinewidth\": 0, \"ticks\": \"\"}}, \"marker\": {\"colorbar\": {\"outlinewidth\": 0, \"ticks\": \"\"}}, \"type\": \"scatter3d\"}], \"scattercarpet\": [{\"marker\": {\"colorbar\": {\"outlinewidth\": 0, \"ticks\": \"\"}}, \"type\": \"scattercarpet\"}], \"scattergeo\": [{\"marker\": {\"colorbar\": {\"outlinewidth\": 0, \"ticks\": \"\"}}, \"type\": \"scattergeo\"}], \"scattergl\": [{\"marker\": {\"colorbar\": {\"outlinewidth\": 0, \"ticks\": \"\"}}, \"type\": \"scattergl\"}], \"scattermapbox\": [{\"marker\": {\"colorbar\": {\"outlinewidth\": 0, \"ticks\": \"\"}}, \"type\": \"scattermapbox\"}], \"scatterpolar\": [{\"marker\": {\"colorbar\": {\"outlinewidth\": 0, \"ticks\": \"\"}}, \"type\": \"scatterpolar\"}], \"scatterpolargl\": [{\"marker\": {\"colorbar\": {\"outlinewidth\": 0, \"ticks\": \"\"}}, \"type\": \"scatterpolargl\"}], \"scatterternary\": [{\"marker\": {\"colorbar\": {\"outlinewidth\": 0, \"ticks\": \"\"}}, \"type\": \"scatterternary\"}], \"surface\": [{\"colorbar\": {\"outlinewidth\": 0, \"ticks\": \"\"}, \"colorscale\": [[0.0, \"#0d0887\"], [0.1111111111111111, \"#46039f\"], [0.2222222222222222, \"#7201a8\"], [0.3333333333333333, \"#9c179e\"], [0.4444444444444444, \"#bd3786\"], [0.5555555555555556, \"#d8576b\"], [0.6666666666666666, \"#ed7953\"], [0.7777777777777778, \"#fb9f3a\"], [0.8888888888888888, \"#fdca26\"], [1.0, \"#f0f921\"]], \"type\": \"surface\"}], \"table\": [{\"cells\": {\"fill\": {\"color\": \"#EBF0F8\"}, \"line\": {\"color\": \"white\"}}, \"header\": {\"fill\": {\"color\": \"#C8D4E3\"}, \"line\": {\"color\": \"white\"}}, \"type\": \"table\"}]}, \"layout\": {\"annotationdefaults\": {\"arrowcolor\": \"#2a3f5f\", \"arrowhead\": 0, \"arrowwidth\": 1}, \"coloraxis\": {\"colorbar\": {\"outlinewidth\": 0, \"ticks\": \"\"}}, \"colorscale\": {\"diverging\": [[0, \"#8e0152\"], [0.1, \"#c51b7d\"], [0.2, \"#de77ae\"], [0.3, \"#f1b6da\"], [0.4, \"#fde0ef\"], [0.5, \"#f7f7f7\"], [0.6, \"#e6f5d0\"], [0.7, \"#b8e186\"], [0.8, \"#7fbc41\"], [0.9, \"#4d9221\"], [1, \"#276419\"]], \"sequential\": [[0.0, \"#0d0887\"], [0.1111111111111111, \"#46039f\"], [0.2222222222222222, \"#7201a8\"], [0.3333333333333333, \"#9c179e\"], [0.4444444444444444, \"#bd3786\"], [0.5555555555555556, \"#d8576b\"], [0.6666666666666666, \"#ed7953\"], [0.7777777777777778, \"#fb9f3a\"], [0.8888888888888888, \"#fdca26\"], [1.0, \"#f0f921\"]], \"sequentialminus\": [[0.0, \"#0d0887\"], [0.1111111111111111, \"#46039f\"], [0.2222222222222222, \"#7201a8\"], [0.3333333333333333, \"#9c179e\"], [0.4444444444444444, \"#bd3786\"], [0.5555555555555556, \"#d8576b\"], [0.6666666666666666, \"#ed7953\"], [0.7777777777777778, \"#fb9f3a\"], [0.8888888888888888, \"#fdca26\"], [1.0, \"#f0f921\"]]}, \"colorway\": [\"#636efa\", \"#EF553B\", \"#00cc96\", \"#ab63fa\", \"#FFA15A\", \"#19d3f3\", \"#FF6692\", \"#B6E880\", \"#FF97FF\", \"#FECB52\"], \"font\": {\"color\": \"#2a3f5f\"}, \"geo\": {\"bgcolor\": \"white\", \"lakecolor\": \"white\", \"landcolor\": \"#E5ECF6\", \"showlakes\": true, \"showland\": true, \"subunitcolor\": \"white\"}, \"hoverlabel\": {\"align\": \"left\"}, \"hovermode\": \"closest\", \"mapbox\": {\"style\": \"light\"}, \"paper_bgcolor\": \"white\", \"plot_bgcolor\": \"#E5ECF6\", \"polar\": {\"angularaxis\": {\"gridcolor\": \"white\", \"linecolor\": \"white\", \"ticks\": \"\"}, \"bgcolor\": \"#E5ECF6\", \"radialaxis\": {\"gridcolor\": \"white\", \"linecolor\": \"white\", \"ticks\": \"\"}}, \"scene\": {\"xaxis\": {\"backgroundcolor\": \"#E5ECF6\", \"gridcolor\": \"white\", \"gridwidth\": 2, \"linecolor\": \"white\", \"showbackground\": true, \"ticks\": \"\", \"zerolinecolor\": \"white\"}, \"yaxis\": {\"backgroundcolor\": \"#E5ECF6\", \"gridcolor\": \"white\", \"gridwidth\": 2, \"linecolor\": \"white\", \"showbackground\": true, \"ticks\": \"\", \"zerolinecolor\": \"white\"}, \"zaxis\": {\"backgroundcolor\": \"#E5ECF6\", \"gridcolor\": \"white\", \"gridwidth\": 2, \"linecolor\": \"white\", \"showbackground\": true, \"ticks\": \"\", \"zerolinecolor\": \"white\"}}, \"shapedefaults\": {\"line\": {\"color\": \"#2a3f5f\"}}, \"ternary\": {\"aaxis\": {\"gridcolor\": \"white\", \"linecolor\": \"white\", \"ticks\": \"\"}, \"baxis\": {\"gridcolor\": \"white\", \"linecolor\": \"white\", \"ticks\": \"\"}, \"bgcolor\": \"#E5ECF6\", \"caxis\": {\"gridcolor\": \"white\", \"linecolor\": \"white\", \"ticks\": \"\"}}, \"title\": {\"x\": 0.05}, \"xaxis\": {\"automargin\": true, \"gridcolor\": \"white\", \"linecolor\": \"white\", \"ticks\": \"\", \"title\": {\"standoff\": 15}, \"zerolinecolor\": \"white\", \"zerolinewidth\": 2}, \"yaxis\": {\"automargin\": true, \"gridcolor\": \"white\", \"linecolor\": \"white\", \"ticks\": \"\", \"title\": {\"standoff\": 15}, \"zerolinecolor\": \"white\", \"zerolinewidth\": 2}}}, \"title\": {\"text\": \"Followers gained vs Income Change\"}, \"xaxis\": {\"anchor\": \"y\", \"domain\": [0.0, 1.0], \"title\": {\"text\": \"Followers gained\"}}, \"yaxis\": {\"anchor\": \"x\", \"domain\": [0.0, 1.0], \"title\": {\"text\": \"Income Change\"}}},\n",
       "                        {\"responsive\": true}\n",
       "                    ).then(function(){\n",
       "                            \n",
       "var gd = document.getElementById('b0299204-5e03-4b50-8f87-749c6126972d');\n",
       "var x = new MutationObserver(function (mutations, observer) {{\n",
       "        var display = window.getComputedStyle(gd).display;\n",
       "        if (!display || display === 'none') {{\n",
       "            console.log([gd, 'removed!']);\n",
       "            Plotly.purge(gd);\n",
       "            observer.disconnect();\n",
       "        }}\n",
       "}});\n",
       "\n",
       "// Listen for the removal of the full notebook cells\n",
       "var notebookContainer = gd.closest('#notebook-container');\n",
       "if (notebookContainer) {{\n",
       "    x.observe(notebookContainer, {childList: true});\n",
       "}}\n",
       "\n",
       "// Listen for the clearing of the current output cell\n",
       "var outputEl = gd.closest('.output');\n",
       "if (outputEl) {{\n",
       "    x.observe(outputEl, {childList: true});\n",
       "}}\n",
       "\n",
       "                        })\n",
       "                };\n",
       "                });\n",
       "            </script>\n",
       "        </div>"
      ]
     },
     "metadata": {},
     "output_type": "display_data"
    }
   ],
   "source": [
    "fig = px.scatter(finaldata, x=\"Followers gained\", y=\"Income Change\", title=\"Followers gained vs Income Change\", trendline=\"ols\")\n",
    "fig.show()"
   ]
  },
  {
   "cell_type": "markdown",
   "metadata": {},
   "source": [
    "<img src=\"https://raw.githubusercontent.com/Liyih/Twitch.tv-Metrics-Analysis/master/img/FollowersGainedVsIncome.png\">"
   ]
  },
  {
   "cell_type": "markdown",
   "metadata": {},
   "source": [
    "The scatter plot below tracks watch time versus income gained. Despite the visual indication of the sloped line, the actual slope of the line is ~0.00004 and has no discernible correlation between the effect of watch time on income. "
   ]
  },
  {
   "cell_type": "code",
   "execution_count": 125,
   "metadata": {},
   "outputs": [
    {
     "data": {
      "application/vnd.plotly.v1+json": {
       "config": {
        "plotlyServerURL": "https://plot.ly"
       },
       "data": [
        {
         "hovertemplate": "Watch time=%{x}<br>Income Change=%{y}<extra></extra>",
         "legendgroup": "",
         "marker": {
          "color": "#636efa",
          "symbol": "circle"
         },
         "mode": "markers",
         "name": "",
         "orientation": "v",
         "showlegend": false,
         "type": "scatter",
         "x": [
          110374845,
          84227100,
          110024835,
          74971200,
          75818505,
          92309565,
          133999260,
          70642200,
          107821695,
          69859410,
          83240160,
          91062705,
          94542885,
          89969790,
          145006575,
          113289465,
          124495740,
          66661410,
          83532915,
          66564900,
          79486830,
          83020275,
          85381005,
          102577890,
          67102665,
          66454140,
          61846005,
          84077625,
          71649045,
          89704980,
          83947785,
          84726285,
          108315105,
          189821280,
          110842350,
          145481475,
          90656850,
          121657395,
          88935645,
          136306785,
          179980155,
          148189785,
          148841655,
          280674015,
          154052460,
          153334170,
          166100535,
          236417010,
          161218770,
          155416680,
          130645995,
          112953915,
          102629295,
          119466780,
          113005515,
          151968210,
          155350575,
          134423910,
          196565940,
          156883260,
          153700830,
          123498735,
          144281400,
          190122915,
          195678480,
          138059265,
          273937875,
          151349415,
          118968315,
          94057590,
          137535630,
          139570035,
          125953770,
          184636590,
          100335645,
          130598205,
          180780540,
          124951815,
          263659740,
          274248495,
          243034155,
          94688865,
          129982770,
          106463295,
          109279275,
          69185295,
          78009255,
          74506500,
          146145465,
          106809285,
          78893190,
          109980045,
          204543480,
          124071660,
          95553630,
          157366815,
          118042380,
          65610045,
          68831505,
          82740435,
          61728675,
          73779840,
          64596675,
          60151785,
          117007155,
          127762080,
          69399105,
          68827710,
          89731110,
          133317120,
          247923810,
          225809910,
          140496870,
          156992730,
          149138730,
          89831610,
          172863570,
          150135105,
          120466425,
          100160250,
          99872160,
          92620035,
          125547975,
          321490245,
          188826360,
          218552790,
          192959520,
          340998165,
          263881320,
          160169250,
          191243280,
          129838995,
          191727885,
          124136235,
          185357430,
          332332365,
          178489185,
          207804675,
          170000370,
          269536740,
          288456915,
          308013390,
          237721770,
          222393480,
          159711840,
          160172250,
          165746700,
          158891910,
          157235700,
          158782350,
          173617050,
          149440800,
          150979380,
          174434190,
          185712975,
          194129865,
          99557490,
          109799835,
          148256550,
          208540320,
          207442170,
          113692470,
          150943455,
          125544945,
          132408120,
          131957685,
          138793500,
          92878140,
          126382515,
          111030420,
          128144445,
          142659315,
          148059870,
          140338875,
          144140625,
          87470100,
          67466175,
          84402765,
          67959150,
          98281680,
          215187810,
          389416875,
          130395615,
          122927505,
          114800730,
          163964400,
          168405615,
          255327150,
          223667985,
          273126870,
          424745010,
          144773850,
          122984775,
          118686600,
          232499085,
          211324755,
          193171875,
          243791115,
          178189515,
          217618095,
          161421615,
          162933450,
          114918735,
          169406235,
          307174995,
          387981570,
          389764710,
          72499560,
          74159970,
          85805625,
          94288380,
          85069755,
          60629970,
          71119935,
          62832840,
          86840100,
          110220300,
          80421405,
          126158805,
          102392685,
          103133295,
          133234230,
          132416715,
          121444950,
          167974845,
          92299620,
          130344690,
          110754750,
          67614960,
          64647615,
          82297920,
          75230325,
          112614465,
          104339145,
          85924650,
          84996375,
          241179120,
          199644420,
          109412535,
          645644160,
          390531465,
          552738810,
          589972575,
          659740680,
          549289740,
          455800275,
          621455460,
          232119285,
          356555520,
          235637430,
          272307855,
          202483425,
          127627995,
          294133245,
          495077940,
          472767585,
          263216295,
          247773000,
          235896495,
          199519125,
          193358460,
          131319990,
          129948585,
          255380475,
          156499170,
          210233280,
          101585100,
          207474045,
          132338940,
          135271545,
          223868340,
          520369185,
          216434940,
          70327350,
          66729990,
          60312030,
          86055750,
          94399140,
          118518315,
          117765270,
          92568360,
          82927965,
          177461805,
          142976070,
          103922475,
          137348490,
          105006990,
          83441580,
          74074005,
          75953970,
          72916290,
          77283555,
          124300995,
          101972625,
          143440635,
          64345095,
          254688480,
          88172715,
          79104030,
          76136745,
          75138885,
          65916075,
          109487565,
          103899840,
          62340690,
          89197785,
          61075320,
          508541445,
          66620055,
          119216520,
          75086670,
          106673175,
          93742005,
          144867105,
          125714880,
          122347035,
          145355940,
          190546815,
          170229990,
          132582540,
          166584135,
          149739390,
          204800805,
          252932955,
          155627115,
          89844450,
          150331230,
          114754560,
          154173930,
          149584995,
          140844525,
          132243750,
          89155335,
          178934700,
          202799250,
          229029885,
          244035255,
          195275925,
          170911845,
          181133685,
          182640690,
          165045660,
          176277600,
          175044690,
          109642935,
          126140895,
          88741830,
          87920505,
          92501580,
          82883895,
          65317815,
          77332860,
          85557345,
          81901545,
          89140845,
          79226640,
          96170670,
          110323065,
          98650380,
          111686430,
          117658305,
          130013205,
          186306855,
          123491610,
          180239730,
          103200525,
          117049005,
          158746755,
          100846785,
          86987430,
          77671320,
          104524620,
          81042870,
          107722440,
          146232225,
          87842730,
          70395570,
          302249550,
          221486475,
          190329780,
          135648060,
          314358195,
          428531295,
          710466975,
          971550315,
          145090125,
          117304665,
          174618270,
          154179660,
          157870935,
          133095540,
          152302995,
          167103915,
          175455915,
          184990545,
          171616275,
          174887430,
          168360420,
          186109380,
          212964075,
          190536930,
          177382350,
          79255935,
          100385025,
          117196470,
          105459615,
          224015310,
          514793865,
          191422080,
          161850135,
          86684940,
          76541955,
          125202975,
          138376200,
          293840280,
          202795110,
          253073370,
          418673145,
          387255465,
          224077080,
          101850330,
          76754220,
          102440715,
          161403615,
          89507205,
          81631785,
          87289800,
          129831240,
          86315790,
          77684775,
          185013390,
          150333195,
          115300050,
          105443775,
          122851995,
          141849210,
          144334260,
          134981640,
          119506770,
          119010810,
          114997590,
          106017120,
          110687385,
          68638035,
          113865045,
          145569165,
          91160910,
          94021050,
          113739735,
          117471750,
          104672925,
          89884410,
          116934525,
          109555845,
          232350135,
          417823185,
          202305870,
          477454965,
          130250940,
          203297595,
          323620320,
          202341555,
          133008060,
          91376670,
          132509250,
          209091810,
          195746865,
          220421640,
          304700670,
          520320210,
          289014570,
          675198495,
          613747260,
          280525845,
          165864495,
          148926285,
          341521440,
          199512690,
          253918305,
          179125485,
          211285815,
          555861780,
          509410680,
          584266620,
          2127995415,
          469784100,
          276121665,
          227970645,
          215055360,
          197683005,
          246338805,
          326668860,
          325675290,
          402870480,
          320708910,
          295050420,
          390475215,
          480161175,
          378099495,
          357075855,
          372638535,
          1191810900,
          556505595
         ],
         "xaxis": "x",
         "y": [
          -36295.11,
          -7912.099999999991,
          -21266.29999999999,
          -57068.869999999995,
          -24214.5,
          -51934.17999999999,
          -39877.399999999994,
          -61972.53999999999,
          -26313.62999999999,
          -44781.73999999999,
          -58999.439999999995,
          -23594.11,
          -57707.59,
          -55145.719999999994,
          -53429.7,
          -51628.149999999994,
          -51658.869999999995,
          -519.1900000000005,
          4253.68,
          -967.8400000000001,
          843.8199999999997,
          359.7600000000002,
          3344.9500000000007,
          4098.24,
          2471.039999999999,
          2770.4500000000007,
          3308.74,
          3195.0499999999993,
          2252.289999999999,
          2831.7199999999993,
          4927.289999999999,
          8830.89,
          11124.369999999999,
          4950.549999999999,
          2336.029999999999,
          3608.2700000000004,
          -274.3999999999978,
          5469.41,
          4816.23,
          19811.210000000003,
          24202.100000000002,
          26118.3,
          13912.560000000001,
          33663.68000000001,
          29532.680000000004,
          48937.5,
          19131.780000000002,
          20809.350000000002,
          -20056.75,
          -12146.409999999996,
          -22381.5,
          -14806.220000000001,
          -21393.39,
          -13623.189999999995,
          -13739.54,
          -19612.979999999996,
          -13600.329999999994,
          -24379.18,
          -14643.29,
          6431.939999999995,
          -16045.150000000001,
          -20643.71,
          -19782.85,
          -36547.119999999995,
          -9944.449999999997,
          3036.010000000002,
          27360.629999999997,
          -115.19999999999709,
          1995.2699999999968,
          6881.5999999999985,
          36132.579999999994,
          33412.74,
          18706.590000000004,
          19111.050000000003,
          4029.980000000003,
          12244.330000000002,
          8346.730000000003,
          11799.739999999998,
          23431.46,
          34015.60999999999,
          29200.140000000007,
          -446.90000000000873,
          28996.050000000003,
          1263.4700000000012,
          -9430.530000000006,
          -12155.75,
          -4303.770000000004,
          -4959.610000000001,
          -12687.310000000005,
          -4406.530000000006,
          -20837.83,
          -12380.570000000007,
          5661.619999999995,
          -14823.380000000005,
          -7580.040000000001,
          17915.410000000003,
          -6802.340000000004,
          4875.610000000001,
          -4061.8499999999985,
          -3363.1399999999994,
          -1007.8099999999977,
          -4501.09,
          -5619.0599999999995,
          -279.369999999999,
          2754.7999999999993,
          8408.350000000002,
          3448.3899999999994,
          -1427.1800000000003,
          -783.489999999998,
          1517.42,
          15693.98,
          5456.07,
          928.4000000000015,
          1277.2400000000016,
          3264.460000000001,
          663.710000000001,
          10559.060000000001,
          7137.4000000000015,
          1810.1500000000015,
          3054.540000000001,
          1011.0300000000007,
          1804.6599999999999,
          2269.2300000000014,
          13787.59,
          -263.40999999999985,
          1212.579999999998,
          15804.36,
          11068.059999999998,
          134.79000000000087,
          -4591.1500000000015,
          -3233.6800000000003,
          -7295.810000000001,
          -3892.59,
          -5095.850000000002,
          10184.269999999997,
          -5719.200000000001,
          -2699.8199999999997,
          -5374.830000000002,
          -6906.510000000002,
          -4910.580000000002,
          -6532.330000000002,
          12714.169999999998,
          12032.19,
          11131.859999999999,
          11917.679999999998,
          15724.53,
          11941.31,
          30428.03,
          18630.270000000004,
          16006.539999999999,
          19451.239999999998,
          18561.04,
          18192.660000000003,
          19441.590000000004,
          27606.200000000004,
          31449.11,
          -4417.790000000001,
          23043.390000000007,
          -2948.25,
          -1913.3600000000006,
          1052.4100000000035,
          170.34999999999854,
          2119.8499999999985,
          -2652.0999999999985,
          -3336.979999999996,
          -8826.68,
          -8358.580000000002,
          -8588.21,
          -8489.379999999997,
          -10045.220000000001,
          -3992.290000000001,
          -16262.89,
          -4911,
          -149.20999999999913,
          -3822.0600000000013,
          -9405.539999999999,
          -10982.83,
          -4869.450000000001,
          -9251.06,
          -4914.509999999998,
          10445.400000000001,
          35480.55,
          2535.9000000000015,
          184.97000000000116,
          3363.6100000000006,
          8334.009999999998,
          4541.4000000000015,
          16572.55,
          13278.84,
          25274.859999999997,
          47799.56,
          40211.83,
          -17968.109999999986,
          -31031.87999999999,
          11129.950000000012,
          5192.320000000007,
          21058.37000000001,
          7284.25,
          -19897.979999999996,
          15433.550000000003,
          -18150.39,
          -3426.5099999999948,
          206.2100000000064,
          7384.330000000002,
          28186.880000000005,
          63964.5,
          37071.68000000001,
          5855.769999999999,
          3798.6100000000006,
          963.710000000001,
          3230.290000000001,
          1011.7800000000007,
          1569.5,
          -718.5,
          1322.1499999999996,
          7207.840000000002,
          3937.6900000000005,
          4942.359999999999,
          6850.219999999999,
          5506.210000000001,
          6464.789999999999,
          11317.35,
          6709.99,
          -3497.9900000000002,
          -2260.4700000000003,
          -2829.3300000000004,
          -2420.1500000000005,
          -514.31,
          -713.8900000000001,
          -324.19000000000005,
          -1382.6100000000001,
          -698.72,
          11417.36,
          5683.35,
          6651.59,
          229.23999999999978,
          8058.49,
          4555.55,
          4964.8,
          37922.65000000001,
          10875,
          -886.7599999999948,
          -5483.659999999996,
          5707.340000000004,
          4782.460000000006,
          639.2700000000041,
          -7350.32,
          -23209.609999999997,
          2326.9900000000052,
          -19989.839999999997,
          -16436.019999999997,
          -4679,
          -14302.059999999998,
          -7240.309999999998,
          -3848.209999999999,
          18289.48000000001,
          21150.430000000008,
          19350.53,
          4512.419999999998,
          -12627.979999999996,
          -6160.1500000000015,
          -17315.519999999997,
          -15879.32,
          -14591,
          -25805.869999999995,
          -18094.729999999996,
          -32777.82,
          -15360.619999999995,
          -26774.71,
          -25526.47,
          -14953.309999999998,
          21715.320000000007,
          -6295.199999999997,
          3228.1899999999987,
          2988.790000000001,
          4775.240000000002,
          13074.059999999998,
          12110.529999999999,
          23562.86,
          16162.64,
          15977.779999999999,
          35588.17,
          22018.679999999997,
          16267.630000000001,
          -6059.32,
          1737.9999999999964,
          7283.48,
          -683.6800000000003,
          -8728.48,
          -418.8700000000026,
          -1209.2900000000009,
          -1486.8899999999994,
          16386.399999999998,
          10537.439999999999,
          3528.0300000000007,
          1703.9300000000003,
          6415.83,
          -573.3899999999994,
          -738.0799999999999,
          627.7000000000007,
          2384.620000000001,
          763.2700000000004,
          9201.44,
          4690.48,
          1731.6900000000005,
          -1362.4899999999998,
          2389.870000000001,
          9841.4,
          259.50999999999976,
          768.44,
          -753.6100000000001,
          1516.85,
          -289.5400000000002,
          2080.72,
          1077.7199999999998,
          942.9899999999998,
          -124.85000000000014,
          74.75999999999999,
          -119.84000000000015,
          -369.3900000000001,
          -639.9399999999996,
          1956.4000000000005,
          -2057.8599999999997,
          -690.6399999999994,
          -1574.37,
          -2117.4799999999996,
          -574.4699999999993,
          756.3000000000002,
          1360.5299999999997,
          -780.5199999999995,
          -316.02999999999975,
          -695.71,
          -2867.04,
          -2058.5599999999995,
          -1948.8399999999992,
          -2992.6899999999996,
          -18933.449999999997,
          -20055.369999999995,
          -22402.079999999998,
          -20155.489999999998,
          -19866.1,
          -20066.249999999996,
          -7740.789999999994,
          -7052.219999999994,
          -15685.639999999996,
          -17935.709999999995,
          -21164.889999999996,
          -15934.679999999997,
          -17007.78,
          -16938.069999999996,
          -4313.22,
          -4902.96,
          -4393.46,
          -4818.02,
          -4798.04,
          -4618,
          -4458.16,
          -4753.09,
          -4863.05,
          -4823.14,
          -4668.36,
          -4708.27,
          -2969.2700000000004,
          6567,
          -1697.3199999999997,
          -6148.740000000002,
          -4317.5,
          -4746.639999999999,
          -7122.209999999999,
          -8339.720000000001,
          -5300.630000000001,
          -7815.810000000001,
          -10225.880000000001,
          -7032.369999999999,
          -7581.170000000002,
          -10166.11,
          -11887.82,
          34.959999999999994,
          19.97999999999999,
          5,
          0.009999999999990905,
          14.97999999999999,
          34.97,
          -9.969999999999999,
          -74.87,
          -683.4699999999993,
          6176.67,
          1079.1200000000008,
          -204.17000000000007,
          519.7399999999998,
          -13.549999999999272,
          -673.9500000000007,
          -5292.08,
          607.4799999999996,
          503.4300000000003,
          -4509.63,
          -345.9500000000007,
          -3141.6100000000006,
          -2292.8500000000004,
          -6446.73,
          -3795.6000000000004,
          -5164.39,
          0,
          19.96,
          -29.95,
          -24.96,
          9527.220000000001,
          12375.82,
          6627.340000000001,
          6941.410000000001,
          6886.55,
          4241.62,
          6866.320000000001,
          8573.150000000001,
          7375.61,
          5698.81,
          9701.04,
          15249.870000000003,
          13747.93,
          3677.670000000001,
          -853.25,
          2410.29,
          -1097.7599999999998,
          -918.06,
          -1446.5499999999997,
          -1975.9899999999998,
          -1471.9799999999996,
          -1731.54,
          -1237.4299999999998,
          -1701.6999999999998,
          -1841.33,
          -1422.27,
          -958.1099999999997,
          -878.1899999999996,
          354.3000000000002,
          6049.780000000001,
          1956.37,
          953.0099999999984,
          13443.149999999998,
          2374.2999999999993,
          -362.8199999999997,
          1295.5599999999977,
          225.77999999999884,
          -1457.1100000000006,
          -14536.800000000001,
          1526.630000000001,
          679.489999999998,
          -3021.880000000001,
          -3287.4500000000007,
          -2441.9400000000023,
          -4314.290000000001,
          -4778.959999999999,
          -2484.66,
          -12430.900000000001,
          7739.82,
          11012.46,
          -11058.870000000003,
          -7225.940000000002,
          -19786.58,
          -9017.940000000002,
          -11932.2,
          -23045.300000000003,
          -13913.080000000002,
          -23494.260000000002,
          -17825.65,
          -17106.920000000002,
          -17959.97,
          -20105.870000000003,
          -15474.940000000002,
          11265.260000000002,
          2834.9300000000003,
          2202.989999999998,
          -6505.0899999999965,
          -17664.17,
          -30825.15,
          -17646.309999999998,
          -18036.050000000003,
          -25142.010000000002,
          -21818.519999999997,
          -28879.95,
          -19582.730000000003,
          -8853.589999999997,
          -1528.3099999999977,
          5472.810000000005,
          85172.69999999998,
          26478.799999999996,
          2799.6700000000055,
          5111.040000000001,
          -3617.8600000000006,
          -5574.4699999999975,
          -2699.3899999999994,
          1297.3300000000017,
          10084.530000000006,
          5823.310000000005,
          27484.61,
          16247.410000000003,
          13517.690000000002,
          21826.270000000004,
          12619.510000000002,
          21341.36,
          16720.910000000003,
          35678.73,
          35882.76
         ],
         "yaxis": "y"
        },
        {
         "hovertemplate": "<b>OLS trendline</b><br>Income Change = 3.62717e-05 * Watch time + -6837.92<br>R<sup>2</sup>=0.122945<br><br>Watch time=%{x}<br>Income Change=%{y} <b>(trend)</b><extra></extra>",
         "legendgroup": "",
         "marker": {
          "color": "#636efa",
          "symbol": "circle"
         },
         "mode": "lines",
         "name": "",
         "showlegend": false,
         "type": "scatter",
         "x": [
          60151785,
          60312030,
          60629970,
          61075320,
          61728675,
          61846005,
          62340690,
          62832840,
          64345095,
          64596675,
          64647615,
          65317815,
          65610045,
          65916075,
          66454140,
          66564900,
          66620055,
          66661410,
          66729990,
          67102665,
          67466175,
          67614960,
          67959150,
          68638035,
          68827710,
          68831505,
          69185295,
          69399105,
          69859410,
          70327350,
          70395570,
          70642200,
          71119935,
          71649045,
          72499560,
          72916290,
          73779840,
          74074005,
          74159970,
          74506500,
          74971200,
          75086670,
          75138885,
          75230325,
          75818505,
          75953970,
          76136745,
          76541955,
          76754220,
          77283555,
          77332860,
          77671320,
          77684775,
          78009255,
          78893190,
          79104030,
          79226640,
          79255935,
          79486830,
          80421405,
          81042870,
          81631785,
          81901545,
          82297920,
          82740435,
          82883895,
          82927965,
          83020275,
          83240160,
          83441580,
          83532915,
          83947785,
          84077625,
          84227100,
          84402765,
          84726285,
          84996375,
          85069755,
          85381005,
          85557345,
          85805625,
          85924650,
          86055750,
          86315790,
          86684940,
          86840100,
          86987430,
          87289800,
          87470100,
          87842730,
          87920505,
          88172715,
          88741830,
          88935645,
          89140845,
          89155335,
          89197785,
          89507205,
          89704980,
          89731110,
          89831610,
          89844450,
          89884410,
          89969790,
          90656850,
          91062705,
          91160910,
          91376670,
          92299620,
          92309565,
          92501580,
          92568360,
          92620035,
          92878140,
          93742005,
          94021050,
          94057590,
          94288380,
          94399140,
          94542885,
          94688865,
          95553630,
          96170670,
          98281680,
          98650380,
          99557490,
          99872160,
          100160250,
          100335645,
          100385025,
          100846785,
          101585100,
          101850330,
          101972625,
          102392685,
          102440715,
          102577890,
          102629295,
          103133295,
          103200525,
          103899840,
          103922475,
          104339145,
          104524620,
          104672925,
          105006990,
          105443775,
          105459615,
          106017120,
          106463295,
          106673175,
          106809285,
          107722440,
          107821695,
          108315105,
          109279275,
          109412535,
          109487565,
          109555845,
          109642935,
          109799835,
          109980045,
          110024835,
          110220300,
          110323065,
          110374845,
          110687385,
          110754750,
          110842350,
          111030420,
          111686430,
          112614465,
          112953915,
          113005515,
          113289465,
          113692470,
          113739735,
          113865045,
          114754560,
          114800730,
          114918735,
          114997590,
          115300050,
          116934525,
          117007155,
          117049005,
          117196470,
          117304665,
          117471750,
          117658305,
          117765270,
          118042380,
          118518315,
          118686600,
          118968315,
          119010810,
          119216520,
          119466780,
          119506770,
          120466425,
          121444950,
          121657395,
          122347035,
          122851995,
          122927505,
          122984775,
          123491610,
          123498735,
          124071660,
          124136235,
          124300995,
          124495740,
          124951815,
          125202975,
          125544945,
          125547975,
          125714880,
          125953770,
          126140895,
          126158805,
          126382515,
          127627995,
          127762080,
          128144445,
          129831240,
          129838995,
          129948585,
          129982770,
          130013205,
          130250940,
          130344690,
          130395615,
          130598205,
          130645995,
          131319990,
          131957685,
          132243750,
          132338940,
          132408120,
          132416715,
          132509250,
          132582540,
          133008060,
          133095540,
          133234230,
          133317120,
          133999260,
          134423910,
          134981640,
          135271545,
          135648060,
          136306785,
          137348490,
          137535630,
          138059265,
          138376200,
          138793500,
          139570035,
          140338875,
          140496870,
          140844525,
          141849210,
          142659315,
          142976070,
          143440635,
          144140625,
          144281400,
          144334260,
          144773850,
          144867105,
          145006575,
          145090125,
          145355940,
          145481475,
          145569165,
          146145465,
          146232225,
          148059870,
          148189785,
          148256550,
          148841655,
          148926285,
          149138730,
          149440800,
          149584995,
          149739390,
          150135105,
          150331230,
          150333195,
          150943455,
          150979380,
          151349415,
          151968210,
          152302995,
          153334170,
          153700830,
          154052460,
          154173930,
          154179660,
          155350575,
          155416680,
          155627115,
          156499170,
          156883260,
          156992730,
          157235700,
          157366815,
          157870935,
          158746755,
          158782350,
          158891910,
          159711840,
          160169250,
          160172250,
          161218770,
          161403615,
          161421615,
          161850135,
          162933450,
          163964400,
          165045660,
          165746700,
          165864495,
          166100535,
          166584135,
          167103915,
          167974845,
          168360420,
          168405615,
          169406235,
          170000370,
          170229990,
          170911845,
          171616275,
          172863570,
          173617050,
          174434190,
          174618270,
          174887430,
          175044690,
          175455915,
          176277600,
          177382350,
          177461805,
          178189515,
          178489185,
          178934700,
          179125485,
          179980155,
          180239730,
          180780540,
          181133685,
          182640690,
          184636590,
          184990545,
          185013390,
          185357430,
          185712975,
          186109380,
          186306855,
          188826360,
          189821280,
          190122915,
          190329780,
          190536930,
          190546815,
          191243280,
          191422080,
          191727885,
          192959520,
          193171875,
          193358460,
          194129865,
          195275925,
          195678480,
          195746865,
          196565940,
          197683005,
          199512690,
          199519125,
          199644420,
          202305870,
          202341555,
          202483425,
          202795110,
          202799250,
          203297595,
          204543480,
          204800805,
          207442170,
          207474045,
          207804675,
          208540320,
          209091810,
          210233280,
          211285815,
          211324755,
          212964075,
          215055360,
          215187810,
          216434940,
          217618095,
          218552790,
          220421640,
          221486475,
          222393480,
          223667985,
          223868340,
          224015310,
          224077080,
          225809910,
          227970645,
          229029885,
          232119285,
          232350135,
          232499085,
          235637430,
          235896495,
          236417010,
          237721770,
          241179120,
          243034155,
          243791115,
          244035255,
          246338805,
          247773000,
          247923810,
          252932955,
          253073370,
          253918305,
          254688480,
          255327150,
          255380475,
          263216295,
          263659740,
          263881320,
          269536740,
          272307855,
          273126870,
          273937875,
          274248495,
          276121665,
          280525845,
          280674015,
          288456915,
          289014570,
          293840280,
          294133245,
          295050420,
          302249550,
          304700670,
          307174995,
          308013390,
          314358195,
          320708910,
          321490245,
          323620320,
          325675290,
          326668860,
          332332365,
          340998165,
          341521440,
          356555520,
          357075855,
          372638535,
          378099495,
          387255465,
          387981570,
          389416875,
          389764710,
          390475215,
          390531465,
          402870480,
          417823185,
          418673145,
          424745010,
          428531295,
          455800275,
          469784100,
          472767585,
          477454965,
          480161175,
          495077940,
          508541445,
          509410680,
          514793865,
          520320210,
          520369185,
          549289740,
          552738810,
          555861780,
          556505595,
          584266620,
          589972575,
          613747260,
          621455460,
          645644160,
          659740680,
          675198495,
          710466975,
          971550315,
          1191810900,
          2127995415
         ],
         "xaxis": "x",
         "y": [
          -4656.111606761411,
          -4650.299253570661,
          -4638.767039938614,
          -4622.6134532838,
          -4598.915178648442,
          -4594.659424023519,
          -4576.716374704249,
          -4558.865274059435,
          -4504.013265107651,
          -4494.888039261422,
          -4493.0403605723095,
          -4468.731089715551,
          -4458.13142062801,
          -4447.031202543419,
          -4427.51468833342,
          -4423.497238557093,
          -4421.496674793881,
          -4419.99666002772,
          -4417.509149142377,
          -4403.99160584703,
          -4390.806492374722,
          -4385.409812481523,
          -4372.925467605087,
          -4348.301177325186,
          -4341.421348990725,
          -4341.283698016536,
          -4328.451145142152,
          -4320.69590013785,
          -4303.999870711232,
          -4287.026907111244,
          -4284.552454025825,
          -4275.606772928538,
          -4258.278528355644,
          -4239.086826918732,
          -4208.237230525513,
          -4193.121738964581,
          -4161.799341399148,
          -4151.129486637021,
          -4148.0113928303945,
          -4135.442172254458,
          -4118.586728853779,
          -4114.398439528459,
          -4112.504514464618,
          -4109.1878332841625,
          -4087.853564509874,
          -4082.9400232138273,
          -4076.310469377892,
          -4061.6128274144976,
          -4053.9136221348654,
          -4034.7137595730005,
          -4032.9253850585387,
          -4020.648876830878,
          -4020.160841558754,
          -4008.3914112281054,
          -3976.3296157420295,
          -3968.6820975870924,
          -3964.234828563298,
          -3963.1722500945593,
          -3954.7973036689086,
          -3920.898710993656,
          -3898.3571398014824,
          -3876.996211352352,
          -3867.211566610008,
          -3852.8343848197255,
          -3836.783628339305,
          -3831.580095069967,
          -3829.9816027293855,
          -3826.6333651991154,
          -3818.6577698211113,
          -3811.351930764161,
          -3808.039058108682,
          -3792.9910318473526,
          -3788.2815186751036,
          -3782.859811332051,
          -3776.488149044596,
          -3764.7535395137425,
          -3754.956925121469,
          -3752.2953102371525,
          -3741.0057540536764,
          -3734.6096083913653,
          -3725.604079044431,
          -3721.28684394487,
          -3716.53162847289,
          -3707.0995443284687,
          -3693.7098586573675,
          -3688.08194689053,
          -3682.738042272019,
          -3671.770578486645,
          -3665.2307970251804,
          -3651.714885954823,
          -3648.893857096446,
          -3639.745780100351,
          -3619.1030306469884,
          -3612.073037613413,
          -3604.6300916572704,
          -3604.1045152103675,
          -3602.5647829694403,
          -3591.341603935573,
          -3584.1679751028437,
          -3583.2201964584283,
          -3579.574893979908,
          -3579.1091657826523,
          -3577.659749991193,
          -3574.5628751094414,
          -3549.6420639562875,
          -3534.9210267680314,
          -3531.3589677640207,
          -3523.532993010135,
          -3490.056058457398,
          -3489.695336734524,
          -3482.7306327005635,
          -3480.3084108148364,
          -3478.434072450881,
          -3469.072173981046,
          -3437.7383508406806,
          -3427.6169236753212,
          -3426.2915569831307,
          -3417.920419082458,
          -3413.9029693061307,
          -3408.6890986118533,
          -3403.394160743054,
          -3372.0276931028807,
          -3349.6466240347613,
          -3273.0767734359497,
          -3259.703410014752,
          -3226.80101865863,
          -3215.3874133758845,
          -3204.9379089874583,
          -3198.5760400499453,
          -3196.7849451604993,
          -3180.0361404591918,
          -3153.256225041993,
          -3143.6358909486803,
          -3139.2000474998185,
          -3123.9637712895983,
          -3122.221643149864,
          -3117.2460773041826,
          -3115.3815322901696,
          -3097.1006123978896,
          -3094.662068262259,
          -3069.296747836724,
          -3068.475738666562,
          -3053.3624234056174,
          -3046.634936070259,
          -3041.255666576956,
          -3029.1385723233566,
          -3013.295652491711,
          -3012.7211092950965,
          -2992.4994738892524,
          -2976.3159631096137,
          -2968.7032657544714,
          -2963.7663292335624,
          -2930.644675653732,
          -2927.0445313999458,
          -2909.147728455403,
          -2874.1756758114757,
          -2869.3421135399576,
          -2866.6206504059937,
          -2864.1440210205874,
          -2860.9851215892013,
          -2855.294097122736,
          -2848.757580111252,
          -2847.1329721708253,
          -2840.043130887602,
          -2836.3156730845662,
          -2834.437526195633,
          -2823.1011795624327,
          -2820.6577387518305,
          -2817.4803407705535,
          -2810.65872846075,
          -2786.8641525509593,
          -2753.202776574309,
          -2740.89035939686,
          -2739.0187414078882,
          -2728.7194017185775,
          -2714.101738779712,
          -2712.3873584648145,
          -2707.8421559415965,
          -2675.5779645567136,
          -2673.903301716581,
          -2669.623063716803,
          -2666.7628614586565,
          -2655.792133223302,
          -2596.5070011976395,
          -2593.8725900631625,
          -2592.354620822108,
          -2587.0058195286256,
          -2583.08140657675,
          -2577.0209551874614,
          -2570.254294452334,
          -2566.374495650195,
          -2556.3232541594225,
          -2539.060298586144,
          -2532.9563211971126,
          -2522.738048682323,
          -2521.1966842164056,
          -2513.7352397103723,
          -2504.6578924638607,
          -2503.207388522408,
          -2468.3991024525158,
          -2432.906370036657,
          -2425.2006358570634,
          -2400.18624380446,
          -2381.8705031123864,
          -2379.1316295785246,
          -2377.054351240765,
          -2358.6706011740916,
          -2358.412165550614,
          -2337.6312210480664,
          -2335.288978186868,
          -2329.312858422082,
          -2322.249132738705,
          -2305.706532461182,
          -2296.5965407148633,
          -2284.192718937953,
          -2284.0828157886,
          -2278.0288932992735,
          -2269.363954900331,
          -2262.576619315326,
          -2261.9269937691533,
          -2253.812659266967,
          -2208.637024133165,
          -2203.7735377368226,
          -2189.904521993546,
          -2128.721656379066,
          -2128.4403696057243,
          -2124.465357679147,
          -2123.2254107614535,
          -2122.1214825929583,
          -2113.4984379687694,
          -2110.0979692388064,
          -2108.2508346246914,
          -2100.902557717991,
          -2099.1691347782053,
          -2074.7222129472584,
          -2051.5919526085536,
          -2041.2158983446943,
          -2037.7631984150394,
          -2035.2539245298258,
          -2034.9421695566625,
          -2031.58577090144,
          -2028.9274204671046,
          -2013.4931009580514,
          -2010.320055576748,
          -2005.2895381563903,
          -2002.2829797241066,
          -1977.5406251699014,
          -1962.1378620106625,
          -1941.9080654798663,
          -1931.3927280168282,
          -1917.735901522301,
          -1893.8428480380908,
          -1856.058471735735,
          -1849.2705920757335,
          -1830.2774780126501,
          -1818.781717405389,
          -1803.645550994579,
          -1775.4793324855482,
          -1747.5922244498734,
          -1741.8614825086415,
          -1729.2514563079467,
          -1692.809857097678,
          -1663.4259987458227,
          -1651.9367670385236,
          -1635.0862203128154,
          -1609.6964165124245,
          -1604.590272667513,
          -1602.6729523788108,
          -1586.7282905227648,
          -1583.3457762676962,
          -1578.2869669475049,
          -1575.256469215362,
          -1565.6149161971753,
          -1561.0615525490057,
          -1557.880890117748,
          -1536.9775287409211,
          -1533.8305989594646,
          -1467.5388691250882,
          -1462.826635577856,
          -1460.4049577671249,
          -1439.1822243671804,
          -1436.112553235268,
          -1428.4068190556745,
          -1417.4502367702362,
          -1412.2200438260552,
          -1406.6198798840542,
          -1392.2666373936308,
          -1385.1528568105487,
          -1385.0815829859685,
          -1362.9464358163996,
          -1361.6433761990784,
          -1348.221590103166,
          -1325.7768642604215,
          -1313.6336544069754,
          -1276.2312187523694,
          -1262.9318495307361,
          -1250.1776434558906,
          -1245.7717241318524,
          -1245.5638874830775,
          -1203.0928491583381,
          -1200.6951106474662,
          -1193.0622825174432,
          -1161.4313944288278,
          -1147.49981006092,
          -1143.5291507343172,
          -1134.7162239362478,
          -1129.9604643892708,
          -1111.6751918970167,
          -1079.9077409842066,
          -1078.616651016814,
          -1074.6427272402307,
          -1044.902499765475,
          -1028.3114768132382,
          -1028.2026618138789,
          -990.2436374375529,
          -983.5390012520602,
          -982.886111255907,
          -967.3429767474945,
          -928.049336404033,
          -890.6550618743786,
          -851.4359598054771,
          -826.0080707553116,
          -821.7354498054874,
          -813.1738856559368,
          -795.6329077592973,
          -776.7796209703902,
          -745.1895385065345,
          -731.2040907139444,
          -729.5647927486034,
          -693.2706378624671,
          -671.7203713144527,
          -663.3916712635291,
          -638.6596541342624,
          -613.1088041348212,
          -567.8673359264067,
          -540.5373606874491,
          -510.89833116209684,
          -504.2214428014404,
          -494.45856105896837,
          -488.7544787925799,
          -473.838662755471,
          -444.03477850609033,
          -403.96365499220974,
          -401.08168973419197,
          -374.6864353397259,
          -363.81690505377446,
          -347.65733357399495,
          -340.7372436897713,
          -309.73693852244105,
          -300.3217207029202,
          -280.7056407685077,
          -267.896483118986,
          -213.23490041607965,
          -140.84028134266555,
          -128.00174364331633,
          -127.17311742319907,
          -114.6942132967315,
          -101.798003647722,
          -87.41973370744563,
          -80.25698637465302,
          11.129658611851482,
          47.21706499920583,
          58.157869109737476,
          65.66120739052349,
          73.17488309624969,
          73.53342851913658,
          98.79537469528077,
          105.28074865706549,
          116.37280561670559,
          161.0462595284671,
          168.74872925807995,
          175.5164781432013,
          203.49662300332784,
          245.06612905837937,
          259.6674697473409,
          262.1479076577252,
          291.85712285766385,
          332.3749319439121,
          398.74065597785193,
          398.97406415147634,
          403.51872259969696,
          500.053949280863,
          501.3483036982361,
          506.4941650179144,
          517.7994993762968,
          517.9496640754123,
          536.0254676939003,
          581.2157928526167,
          590.5493994226181,
          686.3561096830772,
          687.5122690512644,
          699.5047701305984,
          726.1878401983686,
          746.1913015304981,
          787.59432063653,
          825.7715190865711,
          827.183937778248,
          886.6448060278744,
          962.4991980059021,
          967.3033802275941,
          1012.5388636110438,
          1055.4538671331666,
          1089.3568124083931,
          1157.1431162589624,
          1195.7664562063746,
          1228.665039037519,
          1274.8934592901178,
          1282.1606690222961,
          1287.491515840884,
          1289.7320166776817,
          1352.5846484573221,
          1430.9581076705072,
          1469.3785076441145,
          1581.4361939838145,
          1589.809508184475,
          1595.2121729026385,
          1709.0451759568768,
          1718.4418952265078,
          1737.3218416902564,
          1784.6476612113893,
          1910.0515072224462,
          1977.3367180009682,
          2004.792918639183,
          2013.6482832870024,
          2097.2018805446623,
          2149.2225232131314,
          2154.692653230897,
          2336.3826898852894,
          2341.4757759302775,
          2372.122976424689,
          2400.058507135078,
          2423.224132348576,
          2425.158318962178,
          2709.376568387421,
          2725.461057517643,
          2733.4981333702835,
          2938.6296412615466,
          3039.142600244273,
          3068.849639144224,
          3098.2661419958877,
          3109.532847029499,
          3177.475844479144,
          3337.222792437835,
          3342.5971652561657,
          3624.8959180927195,
          3645.1229942485315,
          3820.1595377671274,
          3830.7858665295116,
          3864.053332208483,
          4125.177774319807,
          4214.0839813959265,
          4303.831872492086,
          4334.241856287896,
          4564.378506956815,
          4794.72952317447,
          4823.069845682476,
          4900.331215602213,
          4974.868402013002,
          5010.906841650645,
          5216.331605965179,
          5530.654613113029,
          5549.63466937619,
          6094.945804562942,
          6113.819222126729,
          6678.303560200504,
          6876.381679833326,
          7208.483969726412,
          7234.821008096222,
          7286.881912314453,
          7299.498467415109,
          7325.269667788252,
          7327.30994902623,
          7774.866585464002,
          8317.226113793145,
          8348.055579411483,
          8568.292241438738,
          8705.627108054492,
          9694.718455126267,
          10201.935091262492,
          10310.151064049829,
          10480.17014794799,
          10578.32889441959,
          11119.384819056415,
          11607.728581703848,
          11639.257183693064,
          11834.514274467512,
          12034.964017011362,
          12036.740421875895,
          13085.737146469675,
          13210.840663082503,
          13324.115989265027,
          13347.468232202425,
          14354.406871394034,
          14561.371367949496,
          15423.71881229311,
          15703.30807164563,
          16580.672529975753,
          17091.976801562894,
          17652.65751133408,
          18931.904054196115,
          28401.831879094527,
          36391.05035094303,
          70348.02281742643
         ],
         "yaxis": "y"
        }
       ],
       "layout": {
        "legend": {
         "tracegroupgap": 0
        },
        "template": {
         "data": {
          "bar": [
           {
            "error_x": {
             "color": "#2a3f5f"
            },
            "error_y": {
             "color": "#2a3f5f"
            },
            "marker": {
             "line": {
              "color": "#E5ECF6",
              "width": 0.5
             }
            },
            "type": "bar"
           }
          ],
          "barpolar": [
           {
            "marker": {
             "line": {
              "color": "#E5ECF6",
              "width": 0.5
             }
            },
            "type": "barpolar"
           }
          ],
          "carpet": [
           {
            "aaxis": {
             "endlinecolor": "#2a3f5f",
             "gridcolor": "white",
             "linecolor": "white",
             "minorgridcolor": "white",
             "startlinecolor": "#2a3f5f"
            },
            "baxis": {
             "endlinecolor": "#2a3f5f",
             "gridcolor": "white",
             "linecolor": "white",
             "minorgridcolor": "white",
             "startlinecolor": "#2a3f5f"
            },
            "type": "carpet"
           }
          ],
          "choropleth": [
           {
            "colorbar": {
             "outlinewidth": 0,
             "ticks": ""
            },
            "type": "choropleth"
           }
          ],
          "contour": [
           {
            "colorbar": {
             "outlinewidth": 0,
             "ticks": ""
            },
            "colorscale": [
             [
              0,
              "#0d0887"
             ],
             [
              0.1111111111111111,
              "#46039f"
             ],
             [
              0.2222222222222222,
              "#7201a8"
             ],
             [
              0.3333333333333333,
              "#9c179e"
             ],
             [
              0.4444444444444444,
              "#bd3786"
             ],
             [
              0.5555555555555556,
              "#d8576b"
             ],
             [
              0.6666666666666666,
              "#ed7953"
             ],
             [
              0.7777777777777778,
              "#fb9f3a"
             ],
             [
              0.8888888888888888,
              "#fdca26"
             ],
             [
              1,
              "#f0f921"
             ]
            ],
            "type": "contour"
           }
          ],
          "contourcarpet": [
           {
            "colorbar": {
             "outlinewidth": 0,
             "ticks": ""
            },
            "type": "contourcarpet"
           }
          ],
          "heatmap": [
           {
            "colorbar": {
             "outlinewidth": 0,
             "ticks": ""
            },
            "colorscale": [
             [
              0,
              "#0d0887"
             ],
             [
              0.1111111111111111,
              "#46039f"
             ],
             [
              0.2222222222222222,
              "#7201a8"
             ],
             [
              0.3333333333333333,
              "#9c179e"
             ],
             [
              0.4444444444444444,
              "#bd3786"
             ],
             [
              0.5555555555555556,
              "#d8576b"
             ],
             [
              0.6666666666666666,
              "#ed7953"
             ],
             [
              0.7777777777777778,
              "#fb9f3a"
             ],
             [
              0.8888888888888888,
              "#fdca26"
             ],
             [
              1,
              "#f0f921"
             ]
            ],
            "type": "heatmap"
           }
          ],
          "heatmapgl": [
           {
            "colorbar": {
             "outlinewidth": 0,
             "ticks": ""
            },
            "colorscale": [
             [
              0,
              "#0d0887"
             ],
             [
              0.1111111111111111,
              "#46039f"
             ],
             [
              0.2222222222222222,
              "#7201a8"
             ],
             [
              0.3333333333333333,
              "#9c179e"
             ],
             [
              0.4444444444444444,
              "#bd3786"
             ],
             [
              0.5555555555555556,
              "#d8576b"
             ],
             [
              0.6666666666666666,
              "#ed7953"
             ],
             [
              0.7777777777777778,
              "#fb9f3a"
             ],
             [
              0.8888888888888888,
              "#fdca26"
             ],
             [
              1,
              "#f0f921"
             ]
            ],
            "type": "heatmapgl"
           }
          ],
          "histogram": [
           {
            "marker": {
             "colorbar": {
              "outlinewidth": 0,
              "ticks": ""
             }
            },
            "type": "histogram"
           }
          ],
          "histogram2d": [
           {
            "colorbar": {
             "outlinewidth": 0,
             "ticks": ""
            },
            "colorscale": [
             [
              0,
              "#0d0887"
             ],
             [
              0.1111111111111111,
              "#46039f"
             ],
             [
              0.2222222222222222,
              "#7201a8"
             ],
             [
              0.3333333333333333,
              "#9c179e"
             ],
             [
              0.4444444444444444,
              "#bd3786"
             ],
             [
              0.5555555555555556,
              "#d8576b"
             ],
             [
              0.6666666666666666,
              "#ed7953"
             ],
             [
              0.7777777777777778,
              "#fb9f3a"
             ],
             [
              0.8888888888888888,
              "#fdca26"
             ],
             [
              1,
              "#f0f921"
             ]
            ],
            "type": "histogram2d"
           }
          ],
          "histogram2dcontour": [
           {
            "colorbar": {
             "outlinewidth": 0,
             "ticks": ""
            },
            "colorscale": [
             [
              0,
              "#0d0887"
             ],
             [
              0.1111111111111111,
              "#46039f"
             ],
             [
              0.2222222222222222,
              "#7201a8"
             ],
             [
              0.3333333333333333,
              "#9c179e"
             ],
             [
              0.4444444444444444,
              "#bd3786"
             ],
             [
              0.5555555555555556,
              "#d8576b"
             ],
             [
              0.6666666666666666,
              "#ed7953"
             ],
             [
              0.7777777777777778,
              "#fb9f3a"
             ],
             [
              0.8888888888888888,
              "#fdca26"
             ],
             [
              1,
              "#f0f921"
             ]
            ],
            "type": "histogram2dcontour"
           }
          ],
          "mesh3d": [
           {
            "colorbar": {
             "outlinewidth": 0,
             "ticks": ""
            },
            "type": "mesh3d"
           }
          ],
          "parcoords": [
           {
            "line": {
             "colorbar": {
              "outlinewidth": 0,
              "ticks": ""
             }
            },
            "type": "parcoords"
           }
          ],
          "pie": [
           {
            "automargin": true,
            "type": "pie"
           }
          ],
          "scatter": [
           {
            "marker": {
             "colorbar": {
              "outlinewidth": 0,
              "ticks": ""
             }
            },
            "type": "scatter"
           }
          ],
          "scatter3d": [
           {
            "line": {
             "colorbar": {
              "outlinewidth": 0,
              "ticks": ""
             }
            },
            "marker": {
             "colorbar": {
              "outlinewidth": 0,
              "ticks": ""
             }
            },
            "type": "scatter3d"
           }
          ],
          "scattercarpet": [
           {
            "marker": {
             "colorbar": {
              "outlinewidth": 0,
              "ticks": ""
             }
            },
            "type": "scattercarpet"
           }
          ],
          "scattergeo": [
           {
            "marker": {
             "colorbar": {
              "outlinewidth": 0,
              "ticks": ""
             }
            },
            "type": "scattergeo"
           }
          ],
          "scattergl": [
           {
            "marker": {
             "colorbar": {
              "outlinewidth": 0,
              "ticks": ""
             }
            },
            "type": "scattergl"
           }
          ],
          "scattermapbox": [
           {
            "marker": {
             "colorbar": {
              "outlinewidth": 0,
              "ticks": ""
             }
            },
            "type": "scattermapbox"
           }
          ],
          "scatterpolar": [
           {
            "marker": {
             "colorbar": {
              "outlinewidth": 0,
              "ticks": ""
             }
            },
            "type": "scatterpolar"
           }
          ],
          "scatterpolargl": [
           {
            "marker": {
             "colorbar": {
              "outlinewidth": 0,
              "ticks": ""
             }
            },
            "type": "scatterpolargl"
           }
          ],
          "scatterternary": [
           {
            "marker": {
             "colorbar": {
              "outlinewidth": 0,
              "ticks": ""
             }
            },
            "type": "scatterternary"
           }
          ],
          "surface": [
           {
            "colorbar": {
             "outlinewidth": 0,
             "ticks": ""
            },
            "colorscale": [
             [
              0,
              "#0d0887"
             ],
             [
              0.1111111111111111,
              "#46039f"
             ],
             [
              0.2222222222222222,
              "#7201a8"
             ],
             [
              0.3333333333333333,
              "#9c179e"
             ],
             [
              0.4444444444444444,
              "#bd3786"
             ],
             [
              0.5555555555555556,
              "#d8576b"
             ],
             [
              0.6666666666666666,
              "#ed7953"
             ],
             [
              0.7777777777777778,
              "#fb9f3a"
             ],
             [
              0.8888888888888888,
              "#fdca26"
             ],
             [
              1,
              "#f0f921"
             ]
            ],
            "type": "surface"
           }
          ],
          "table": [
           {
            "cells": {
             "fill": {
              "color": "#EBF0F8"
             },
             "line": {
              "color": "white"
             }
            },
            "header": {
             "fill": {
              "color": "#C8D4E3"
             },
             "line": {
              "color": "white"
             }
            },
            "type": "table"
           }
          ]
         },
         "layout": {
          "annotationdefaults": {
           "arrowcolor": "#2a3f5f",
           "arrowhead": 0,
           "arrowwidth": 1
          },
          "coloraxis": {
           "colorbar": {
            "outlinewidth": 0,
            "ticks": ""
           }
          },
          "colorscale": {
           "diverging": [
            [
             0,
             "#8e0152"
            ],
            [
             0.1,
             "#c51b7d"
            ],
            [
             0.2,
             "#de77ae"
            ],
            [
             0.3,
             "#f1b6da"
            ],
            [
             0.4,
             "#fde0ef"
            ],
            [
             0.5,
             "#f7f7f7"
            ],
            [
             0.6,
             "#e6f5d0"
            ],
            [
             0.7,
             "#b8e186"
            ],
            [
             0.8,
             "#7fbc41"
            ],
            [
             0.9,
             "#4d9221"
            ],
            [
             1,
             "#276419"
            ]
           ],
           "sequential": [
            [
             0,
             "#0d0887"
            ],
            [
             0.1111111111111111,
             "#46039f"
            ],
            [
             0.2222222222222222,
             "#7201a8"
            ],
            [
             0.3333333333333333,
             "#9c179e"
            ],
            [
             0.4444444444444444,
             "#bd3786"
            ],
            [
             0.5555555555555556,
             "#d8576b"
            ],
            [
             0.6666666666666666,
             "#ed7953"
            ],
            [
             0.7777777777777778,
             "#fb9f3a"
            ],
            [
             0.8888888888888888,
             "#fdca26"
            ],
            [
             1,
             "#f0f921"
            ]
           ],
           "sequentialminus": [
            [
             0,
             "#0d0887"
            ],
            [
             0.1111111111111111,
             "#46039f"
            ],
            [
             0.2222222222222222,
             "#7201a8"
            ],
            [
             0.3333333333333333,
             "#9c179e"
            ],
            [
             0.4444444444444444,
             "#bd3786"
            ],
            [
             0.5555555555555556,
             "#d8576b"
            ],
            [
             0.6666666666666666,
             "#ed7953"
            ],
            [
             0.7777777777777778,
             "#fb9f3a"
            ],
            [
             0.8888888888888888,
             "#fdca26"
            ],
            [
             1,
             "#f0f921"
            ]
           ]
          },
          "colorway": [
           "#636efa",
           "#EF553B",
           "#00cc96",
           "#ab63fa",
           "#FFA15A",
           "#19d3f3",
           "#FF6692",
           "#B6E880",
           "#FF97FF",
           "#FECB52"
          ],
          "font": {
           "color": "#2a3f5f"
          },
          "geo": {
           "bgcolor": "white",
           "lakecolor": "white",
           "landcolor": "#E5ECF6",
           "showlakes": true,
           "showland": true,
           "subunitcolor": "white"
          },
          "hoverlabel": {
           "align": "left"
          },
          "hovermode": "closest",
          "mapbox": {
           "style": "light"
          },
          "paper_bgcolor": "white",
          "plot_bgcolor": "#E5ECF6",
          "polar": {
           "angularaxis": {
            "gridcolor": "white",
            "linecolor": "white",
            "ticks": ""
           },
           "bgcolor": "#E5ECF6",
           "radialaxis": {
            "gridcolor": "white",
            "linecolor": "white",
            "ticks": ""
           }
          },
          "scene": {
           "xaxis": {
            "backgroundcolor": "#E5ECF6",
            "gridcolor": "white",
            "gridwidth": 2,
            "linecolor": "white",
            "showbackground": true,
            "ticks": "",
            "zerolinecolor": "white"
           },
           "yaxis": {
            "backgroundcolor": "#E5ECF6",
            "gridcolor": "white",
            "gridwidth": 2,
            "linecolor": "white",
            "showbackground": true,
            "ticks": "",
            "zerolinecolor": "white"
           },
           "zaxis": {
            "backgroundcolor": "#E5ECF6",
            "gridcolor": "white",
            "gridwidth": 2,
            "linecolor": "white",
            "showbackground": true,
            "ticks": "",
            "zerolinecolor": "white"
           }
          },
          "shapedefaults": {
           "line": {
            "color": "#2a3f5f"
           }
          },
          "ternary": {
           "aaxis": {
            "gridcolor": "white",
            "linecolor": "white",
            "ticks": ""
           },
           "baxis": {
            "gridcolor": "white",
            "linecolor": "white",
            "ticks": ""
           },
           "bgcolor": "#E5ECF6",
           "caxis": {
            "gridcolor": "white",
            "linecolor": "white",
            "ticks": ""
           }
          },
          "title": {
           "x": 0.05
          },
          "xaxis": {
           "automargin": true,
           "gridcolor": "white",
           "linecolor": "white",
           "ticks": "",
           "title": {
            "standoff": 15
           },
           "zerolinecolor": "white",
           "zerolinewidth": 2
          },
          "yaxis": {
           "automargin": true,
           "gridcolor": "white",
           "linecolor": "white",
           "ticks": "",
           "title": {
            "standoff": 15
           },
           "zerolinecolor": "white",
           "zerolinewidth": 2
          }
         }
        },
        "title": {
         "text": "Watch Time vs Income Change"
        },
        "xaxis": {
         "anchor": "y",
         "domain": [
          0,
          1
         ],
         "title": {
          "text": "Watch time"
         }
        },
        "yaxis": {
         "anchor": "x",
         "domain": [
          0,
          1
         ],
         "title": {
          "text": "Income Change"
         }
        }
       }
      },
      "text/html": [
       "<div>\n",
       "        \n",
       "        \n",
       "            <div id=\"31b5865c-b306-4806-85e9-dd9bc6cf7704\" class=\"plotly-graph-div\" style=\"height:525px; width:100%;\"></div>\n",
       "            <script type=\"text/javascript\">\n",
       "                require([\"plotly\"], function(Plotly) {\n",
       "                    window.PLOTLYENV=window.PLOTLYENV || {};\n",
       "                    \n",
       "                if (document.getElementById(\"31b5865c-b306-4806-85e9-dd9bc6cf7704\")) {\n",
       "                    Plotly.newPlot(\n",
       "                        '31b5865c-b306-4806-85e9-dd9bc6cf7704',\n",
       "                        [{\"hovertemplate\": \"Watch time=%{x}<br>Income Change=%{y}<extra></extra>\", \"legendgroup\": \"\", \"marker\": {\"color\": \"#636efa\", \"symbol\": \"circle\"}, \"mode\": \"markers\", \"name\": \"\", \"orientation\": \"v\", \"showlegend\": false, \"type\": \"scatter\", \"x\": [110374845, 84227100, 110024835, 74971200, 75818505, 92309565, 133999260, 70642200, 107821695, 69859410, 83240160, 91062705, 94542885, 89969790, 145006575, 113289465, 124495740, 66661410, 83532915, 66564900, 79486830, 83020275, 85381005, 102577890, 67102665, 66454140, 61846005, 84077625, 71649045, 89704980, 83947785, 84726285, 108315105, 189821280, 110842350, 145481475, 90656850, 121657395, 88935645, 136306785, 179980155, 148189785, 148841655, 280674015, 154052460, 153334170, 166100535, 236417010, 161218770, 155416680, 130645995, 112953915, 102629295, 119466780, 113005515, 151968210, 155350575, 134423910, 196565940, 156883260, 153700830, 123498735, 144281400, 190122915, 195678480, 138059265, 273937875, 151349415, 118968315, 94057590, 137535630, 139570035, 125953770, 184636590, 100335645, 130598205, 180780540, 124951815, 263659740, 274248495, 243034155, 94688865, 129982770, 106463295, 109279275, 69185295, 78009255, 74506500, 146145465, 106809285, 78893190, 109980045, 204543480, 124071660, 95553630, 157366815, 118042380, 65610045, 68831505, 82740435, 61728675, 73779840, 64596675, 60151785, 117007155, 127762080, 69399105, 68827710, 89731110, 133317120, 247923810, 225809910, 140496870, 156992730, 149138730, 89831610, 172863570, 150135105, 120466425, 100160250, 99872160, 92620035, 125547975, 321490245, 188826360, 218552790, 192959520, 340998165, 263881320, 160169250, 191243280, 129838995, 191727885, 124136235, 185357430, 332332365, 178489185, 207804675, 170000370, 269536740, 288456915, 308013390, 237721770, 222393480, 159711840, 160172250, 165746700, 158891910, 157235700, 158782350, 173617050, 149440800, 150979380, 174434190, 185712975, 194129865, 99557490, 109799835, 148256550, 208540320, 207442170, 113692470, 150943455, 125544945, 132408120, 131957685, 138793500, 92878140, 126382515, 111030420, 128144445, 142659315, 148059870, 140338875, 144140625, 87470100, 67466175, 84402765, 67959150, 98281680, 215187810, 389416875, 130395615, 122927505, 114800730, 163964400, 168405615, 255327150, 223667985, 273126870, 424745010, 144773850, 122984775, 118686600, 232499085, 211324755, 193171875, 243791115, 178189515, 217618095, 161421615, 162933450, 114918735, 169406235, 307174995, 387981570, 389764710, 72499560, 74159970, 85805625, 94288380, 85069755, 60629970, 71119935, 62832840, 86840100, 110220300, 80421405, 126158805, 102392685, 103133295, 133234230, 132416715, 121444950, 167974845, 92299620, 130344690, 110754750, 67614960, 64647615, 82297920, 75230325, 112614465, 104339145, 85924650, 84996375, 241179120, 199644420, 109412535, 645644160, 390531465, 552738810, 589972575, 659740680, 549289740, 455800275, 621455460, 232119285, 356555520, 235637430, 272307855, 202483425, 127627995, 294133245, 495077940, 472767585, 263216295, 247773000, 235896495, 199519125, 193358460, 131319990, 129948585, 255380475, 156499170, 210233280, 101585100, 207474045, 132338940, 135271545, 223868340, 520369185, 216434940, 70327350, 66729990, 60312030, 86055750, 94399140, 118518315, 117765270, 92568360, 82927965, 177461805, 142976070, 103922475, 137348490, 105006990, 83441580, 74074005, 75953970, 72916290, 77283555, 124300995, 101972625, 143440635, 64345095, 254688480, 88172715, 79104030, 76136745, 75138885, 65916075, 109487565, 103899840, 62340690, 89197785, 61075320, 508541445, 66620055, 119216520, 75086670, 106673175, 93742005, 144867105, 125714880, 122347035, 145355940, 190546815, 170229990, 132582540, 166584135, 149739390, 204800805, 252932955, 155627115, 89844450, 150331230, 114754560, 154173930, 149584995, 140844525, 132243750, 89155335, 178934700, 202799250, 229029885, 244035255, 195275925, 170911845, 181133685, 182640690, 165045660, 176277600, 175044690, 109642935, 126140895, 88741830, 87920505, 92501580, 82883895, 65317815, 77332860, 85557345, 81901545, 89140845, 79226640, 96170670, 110323065, 98650380, 111686430, 117658305, 130013205, 186306855, 123491610, 180239730, 103200525, 117049005, 158746755, 100846785, 86987430, 77671320, 104524620, 81042870, 107722440, 146232225, 87842730, 70395570, 302249550, 221486475, 190329780, 135648060, 314358195, 428531295, 710466975, 971550315, 145090125, 117304665, 174618270, 154179660, 157870935, 133095540, 152302995, 167103915, 175455915, 184990545, 171616275, 174887430, 168360420, 186109380, 212964075, 190536930, 177382350, 79255935, 100385025, 117196470, 105459615, 224015310, 514793865, 191422080, 161850135, 86684940, 76541955, 125202975, 138376200, 293840280, 202795110, 253073370, 418673145, 387255465, 224077080, 101850330, 76754220, 102440715, 161403615, 89507205, 81631785, 87289800, 129831240, 86315790, 77684775, 185013390, 150333195, 115300050, 105443775, 122851995, 141849210, 144334260, 134981640, 119506770, 119010810, 114997590, 106017120, 110687385, 68638035, 113865045, 145569165, 91160910, 94021050, 113739735, 117471750, 104672925, 89884410, 116934525, 109555845, 232350135, 417823185, 202305870, 477454965, 130250940, 203297595, 323620320, 202341555, 133008060, 91376670, 132509250, 209091810, 195746865, 220421640, 304700670, 520320210, 289014570, 675198495, 613747260, 280525845, 165864495, 148926285, 341521440, 199512690, 253918305, 179125485, 211285815, 555861780, 509410680, 584266620, 2127995415, 469784100, 276121665, 227970645, 215055360, 197683005, 246338805, 326668860, 325675290, 402870480, 320708910, 295050420, 390475215, 480161175, 378099495, 357075855, 372638535, 1191810900, 556505595], \"xaxis\": \"x\", \"y\": [-36295.11, -7912.099999999991, -21266.29999999999, -57068.869999999995, -24214.5, -51934.17999999999, -39877.399999999994, -61972.53999999999, -26313.62999999999, -44781.73999999999, -58999.439999999995, -23594.11, -57707.59, -55145.719999999994, -53429.7, -51628.149999999994, -51658.869999999995, -519.1900000000005, 4253.68, -967.8400000000001, 843.8199999999997, 359.7600000000002, 3344.9500000000007, 4098.24, 2471.039999999999, 2770.4500000000007, 3308.74, 3195.0499999999993, 2252.289999999999, 2831.7199999999993, 4927.289999999999, 8830.89, 11124.369999999999, 4950.549999999999, 2336.029999999999, 3608.2700000000004, -274.3999999999978, 5469.41, 4816.23, 19811.210000000003, 24202.100000000002, 26118.3, 13912.560000000001, 33663.68000000001, 29532.680000000004, 48937.5, 19131.780000000002, 20809.350000000002, -20056.75, -12146.409999999996, -22381.5, -14806.220000000001, -21393.39, -13623.189999999995, -13739.54, -19612.979999999996, -13600.329999999994, -24379.18, -14643.29, 6431.939999999995, -16045.150000000001, -20643.71, -19782.85, -36547.119999999995, -9944.449999999997, 3036.010000000002, 27360.629999999997, -115.19999999999709, 1995.2699999999968, 6881.5999999999985, 36132.579999999994, 33412.74, 18706.590000000004, 19111.050000000003, 4029.980000000003, 12244.330000000002, 8346.730000000003, 11799.739999999998, 23431.46, 34015.60999999999, 29200.140000000007, -446.90000000000873, 28996.050000000003, 1263.4700000000012, -9430.530000000006, -12155.75, -4303.770000000004, -4959.610000000001, -12687.310000000005, -4406.530000000006, -20837.83, -12380.570000000007, 5661.619999999995, -14823.380000000005, -7580.040000000001, 17915.410000000003, -6802.340000000004, 4875.610000000001, -4061.8499999999985, -3363.1399999999994, -1007.8099999999977, -4501.09, -5619.0599999999995, -279.369999999999, 2754.7999999999993, 8408.350000000002, 3448.3899999999994, -1427.1800000000003, -783.489999999998, 1517.42, 15693.98, 5456.07, 928.4000000000015, 1277.2400000000016, 3264.460000000001, 663.710000000001, 10559.060000000001, 7137.4000000000015, 1810.1500000000015, 3054.540000000001, 1011.0300000000007, 1804.6599999999999, 2269.2300000000014, 13787.59, -263.40999999999985, 1212.579999999998, 15804.36, 11068.059999999998, 134.79000000000087, -4591.1500000000015, -3233.6800000000003, -7295.810000000001, -3892.59, -5095.850000000002, 10184.269999999997, -5719.200000000001, -2699.8199999999997, -5374.830000000002, -6906.510000000002, -4910.580000000002, -6532.330000000002, 12714.169999999998, 12032.19, 11131.859999999999, 11917.679999999998, 15724.53, 11941.31, 30428.03, 18630.270000000004, 16006.539999999999, 19451.239999999998, 18561.04, 18192.660000000003, 19441.590000000004, 27606.200000000004, 31449.11, -4417.790000000001, 23043.390000000007, -2948.25, -1913.3600000000006, 1052.4100000000035, 170.34999999999854, 2119.8499999999985, -2652.0999999999985, -3336.979999999996, -8826.68, -8358.580000000002, -8588.21, -8489.379999999997, -10045.220000000001, -3992.290000000001, -16262.89, -4911.0, -149.20999999999913, -3822.0600000000013, -9405.539999999999, -10982.83, -4869.450000000001, -9251.06, -4914.509999999998, 10445.400000000001, 35480.55, 2535.9000000000015, 184.97000000000116, 3363.6100000000006, 8334.009999999998, 4541.4000000000015, 16572.55, 13278.84, 25274.859999999997, 47799.56, 40211.83, -17968.109999999986, -31031.87999999999, 11129.950000000012, 5192.320000000007, 21058.37000000001, 7284.25, -19897.979999999996, 15433.550000000003, -18150.39, -3426.5099999999948, 206.2100000000064, 7384.330000000002, 28186.880000000005, 63964.5, 37071.68000000001, 5855.769999999999, 3798.6100000000006, 963.710000000001, 3230.290000000001, 1011.7800000000007, 1569.5, -718.5, 1322.1499999999996, 7207.840000000002, 3937.6900000000005, 4942.359999999999, 6850.219999999999, 5506.210000000001, 6464.789999999999, 11317.35, 6709.99, -3497.9900000000002, -2260.4700000000003, -2829.3300000000004, -2420.1500000000005, -514.31, -713.8900000000001, -324.19000000000005, -1382.6100000000001, -698.72, 11417.36, 5683.35, 6651.59, 229.23999999999978, 8058.49, 4555.55, 4964.8, 37922.65000000001, 10875.0, -886.7599999999948, -5483.659999999996, 5707.340000000004, 4782.460000000006, 639.2700000000041, -7350.32, -23209.609999999997, 2326.9900000000052, -19989.839999999997, -16436.019999999997, -4679.0, -14302.059999999998, -7240.309999999998, -3848.209999999999, 18289.48000000001, 21150.430000000008, 19350.53, 4512.419999999998, -12627.979999999996, -6160.1500000000015, -17315.519999999997, -15879.32, -14591.0, -25805.869999999995, -18094.729999999996, -32777.82, -15360.619999999995, -26774.71, -25526.47, -14953.309999999998, 21715.320000000007, -6295.199999999997, 3228.1899999999987, 2988.790000000001, 4775.240000000002, 13074.059999999998, 12110.529999999999, 23562.86, 16162.64, 15977.779999999999, 35588.17, 22018.679999999997, 16267.630000000001, -6059.32, 1737.9999999999964, 7283.48, -683.6800000000003, -8728.48, -418.8700000000026, -1209.2900000000009, -1486.8899999999994, 16386.399999999998, 10537.439999999999, 3528.0300000000007, 1703.9300000000003, 6415.83, -573.3899999999994, -738.0799999999999, 627.7000000000007, 2384.620000000001, 763.2700000000004, 9201.44, 4690.48, 1731.6900000000005, -1362.4899999999998, 2389.870000000001, 9841.4, 259.50999999999976, 768.44, -753.6100000000001, 1516.85, -289.5400000000002, 2080.72, 1077.7199999999998, 942.9899999999998, -124.85000000000014, 74.75999999999999, -119.84000000000015, -369.3900000000001, -639.9399999999996, 1956.4000000000005, -2057.8599999999997, -690.6399999999994, -1574.37, -2117.4799999999996, -574.4699999999993, 756.3000000000002, 1360.5299999999997, -780.5199999999995, -316.02999999999975, -695.71, -2867.04, -2058.5599999999995, -1948.8399999999992, -2992.6899999999996, -18933.449999999997, -20055.369999999995, -22402.079999999998, -20155.489999999998, -19866.1, -20066.249999999996, -7740.789999999994, -7052.219999999994, -15685.639999999996, -17935.709999999995, -21164.889999999996, -15934.679999999997, -17007.78, -16938.069999999996, -4313.22, -4902.96, -4393.46, -4818.02, -4798.04, -4618.0, -4458.16, -4753.09, -4863.05, -4823.14, -4668.36, -4708.27, -2969.2700000000004, 6567.0, -1697.3199999999997, -6148.740000000002, -4317.5, -4746.639999999999, -7122.209999999999, -8339.720000000001, -5300.630000000001, -7815.810000000001, -10225.880000000001, -7032.369999999999, -7581.170000000002, -10166.11, -11887.82, 34.959999999999994, 19.97999999999999, 5.0, 0.009999999999990905, 14.97999999999999, 34.97, -9.969999999999999, -74.87, -683.4699999999993, 6176.67, 1079.1200000000008, -204.17000000000007, 519.7399999999998, -13.549999999999272, -673.9500000000007, -5292.08, 607.4799999999996, 503.4300000000003, -4509.63, -345.9500000000007, -3141.6100000000006, -2292.8500000000004, -6446.73, -3795.6000000000004, -5164.39, 0.0, 19.96, -29.95, -24.96, 9527.220000000001, 12375.82, 6627.340000000001, 6941.410000000001, 6886.55, 4241.62, 6866.320000000001, 8573.150000000001, 7375.61, 5698.81, 9701.04, 15249.870000000003, 13747.93, 3677.670000000001, -853.25, 2410.29, -1097.7599999999998, -918.06, -1446.5499999999997, -1975.9899999999998, -1471.9799999999996, -1731.54, -1237.4299999999998, -1701.6999999999998, -1841.33, -1422.27, -958.1099999999997, -878.1899999999996, 354.3000000000002, 6049.780000000001, 1956.37, 953.0099999999984, 13443.149999999998, 2374.2999999999993, -362.8199999999997, 1295.5599999999977, 225.77999999999884, -1457.1100000000006, -14536.800000000001, 1526.630000000001, 679.489999999998, -3021.880000000001, -3287.4500000000007, -2441.9400000000023, -4314.290000000001, -4778.959999999999, -2484.66, -12430.900000000001, 7739.82, 11012.46, -11058.870000000003, -7225.940000000002, -19786.58, -9017.940000000002, -11932.2, -23045.300000000003, -13913.080000000002, -23494.260000000002, -17825.65, -17106.920000000002, -17959.97, -20105.870000000003, -15474.940000000002, 11265.260000000002, 2834.9300000000003, 2202.989999999998, -6505.0899999999965, -17664.17, -30825.15, -17646.309999999998, -18036.050000000003, -25142.010000000002, -21818.519999999997, -28879.95, -19582.730000000003, -8853.589999999997, -1528.3099999999977, 5472.810000000005, 85172.69999999998, 26478.799999999996, 2799.6700000000055, 5111.040000000001, -3617.8600000000006, -5574.4699999999975, -2699.3899999999994, 1297.3300000000017, 10084.530000000006, 5823.310000000005, 27484.61, 16247.410000000003, 13517.690000000002, 21826.270000000004, 12619.510000000002, 21341.36, 16720.910000000003, 35678.73, 35882.76], \"yaxis\": \"y\"}, {\"hovertemplate\": \"<b>OLS trendline</b><br>Income Change = 3.62717e-05 * Watch time + -6837.92<br>R<sup>2</sup>=0.122945<br><br>Watch time=%{x}<br>Income Change=%{y} <b>(trend)</b><extra></extra>\", \"legendgroup\": \"\", \"marker\": {\"color\": \"#636efa\", \"symbol\": \"circle\"}, \"mode\": \"lines\", \"name\": \"\", \"showlegend\": false, \"type\": \"scatter\", \"x\": [60151785, 60312030, 60629970, 61075320, 61728675, 61846005, 62340690, 62832840, 64345095, 64596675, 64647615, 65317815, 65610045, 65916075, 66454140, 66564900, 66620055, 66661410, 66729990, 67102665, 67466175, 67614960, 67959150, 68638035, 68827710, 68831505, 69185295, 69399105, 69859410, 70327350, 70395570, 70642200, 71119935, 71649045, 72499560, 72916290, 73779840, 74074005, 74159970, 74506500, 74971200, 75086670, 75138885, 75230325, 75818505, 75953970, 76136745, 76541955, 76754220, 77283555, 77332860, 77671320, 77684775, 78009255, 78893190, 79104030, 79226640, 79255935, 79486830, 80421405, 81042870, 81631785, 81901545, 82297920, 82740435, 82883895, 82927965, 83020275, 83240160, 83441580, 83532915, 83947785, 84077625, 84227100, 84402765, 84726285, 84996375, 85069755, 85381005, 85557345, 85805625, 85924650, 86055750, 86315790, 86684940, 86840100, 86987430, 87289800, 87470100, 87842730, 87920505, 88172715, 88741830, 88935645, 89140845, 89155335, 89197785, 89507205, 89704980, 89731110, 89831610, 89844450, 89884410, 89969790, 90656850, 91062705, 91160910, 91376670, 92299620, 92309565, 92501580, 92568360, 92620035, 92878140, 93742005, 94021050, 94057590, 94288380, 94399140, 94542885, 94688865, 95553630, 96170670, 98281680, 98650380, 99557490, 99872160, 100160250, 100335645, 100385025, 100846785, 101585100, 101850330, 101972625, 102392685, 102440715, 102577890, 102629295, 103133295, 103200525, 103899840, 103922475, 104339145, 104524620, 104672925, 105006990, 105443775, 105459615, 106017120, 106463295, 106673175, 106809285, 107722440, 107821695, 108315105, 109279275, 109412535, 109487565, 109555845, 109642935, 109799835, 109980045, 110024835, 110220300, 110323065, 110374845, 110687385, 110754750, 110842350, 111030420, 111686430, 112614465, 112953915, 113005515, 113289465, 113692470, 113739735, 113865045, 114754560, 114800730, 114918735, 114997590, 115300050, 116934525, 117007155, 117049005, 117196470, 117304665, 117471750, 117658305, 117765270, 118042380, 118518315, 118686600, 118968315, 119010810, 119216520, 119466780, 119506770, 120466425, 121444950, 121657395, 122347035, 122851995, 122927505, 122984775, 123491610, 123498735, 124071660, 124136235, 124300995, 124495740, 124951815, 125202975, 125544945, 125547975, 125714880, 125953770, 126140895, 126158805, 126382515, 127627995, 127762080, 128144445, 129831240, 129838995, 129948585, 129982770, 130013205, 130250940, 130344690, 130395615, 130598205, 130645995, 131319990, 131957685, 132243750, 132338940, 132408120, 132416715, 132509250, 132582540, 133008060, 133095540, 133234230, 133317120, 133999260, 134423910, 134981640, 135271545, 135648060, 136306785, 137348490, 137535630, 138059265, 138376200, 138793500, 139570035, 140338875, 140496870, 140844525, 141849210, 142659315, 142976070, 143440635, 144140625, 144281400, 144334260, 144773850, 144867105, 145006575, 145090125, 145355940, 145481475, 145569165, 146145465, 146232225, 148059870, 148189785, 148256550, 148841655, 148926285, 149138730, 149440800, 149584995, 149739390, 150135105, 150331230, 150333195, 150943455, 150979380, 151349415, 151968210, 152302995, 153334170, 153700830, 154052460, 154173930, 154179660, 155350575, 155416680, 155627115, 156499170, 156883260, 156992730, 157235700, 157366815, 157870935, 158746755, 158782350, 158891910, 159711840, 160169250, 160172250, 161218770, 161403615, 161421615, 161850135, 162933450, 163964400, 165045660, 165746700, 165864495, 166100535, 166584135, 167103915, 167974845, 168360420, 168405615, 169406235, 170000370, 170229990, 170911845, 171616275, 172863570, 173617050, 174434190, 174618270, 174887430, 175044690, 175455915, 176277600, 177382350, 177461805, 178189515, 178489185, 178934700, 179125485, 179980155, 180239730, 180780540, 181133685, 182640690, 184636590, 184990545, 185013390, 185357430, 185712975, 186109380, 186306855, 188826360, 189821280, 190122915, 190329780, 190536930, 190546815, 191243280, 191422080, 191727885, 192959520, 193171875, 193358460, 194129865, 195275925, 195678480, 195746865, 196565940, 197683005, 199512690, 199519125, 199644420, 202305870, 202341555, 202483425, 202795110, 202799250, 203297595, 204543480, 204800805, 207442170, 207474045, 207804675, 208540320, 209091810, 210233280, 211285815, 211324755, 212964075, 215055360, 215187810, 216434940, 217618095, 218552790, 220421640, 221486475, 222393480, 223667985, 223868340, 224015310, 224077080, 225809910, 227970645, 229029885, 232119285, 232350135, 232499085, 235637430, 235896495, 236417010, 237721770, 241179120, 243034155, 243791115, 244035255, 246338805, 247773000, 247923810, 252932955, 253073370, 253918305, 254688480, 255327150, 255380475, 263216295, 263659740, 263881320, 269536740, 272307855, 273126870, 273937875, 274248495, 276121665, 280525845, 280674015, 288456915, 289014570, 293840280, 294133245, 295050420, 302249550, 304700670, 307174995, 308013390, 314358195, 320708910, 321490245, 323620320, 325675290, 326668860, 332332365, 340998165, 341521440, 356555520, 357075855, 372638535, 378099495, 387255465, 387981570, 389416875, 389764710, 390475215, 390531465, 402870480, 417823185, 418673145, 424745010, 428531295, 455800275, 469784100, 472767585, 477454965, 480161175, 495077940, 508541445, 509410680, 514793865, 520320210, 520369185, 549289740, 552738810, 555861780, 556505595, 584266620, 589972575, 613747260, 621455460, 645644160, 659740680, 675198495, 710466975, 971550315, 1191810900, 2127995415], \"xaxis\": \"x\", \"y\": [-4656.111606761411, -4650.299253570661, -4638.767039938614, -4622.6134532838, -4598.915178648442, -4594.659424023519, -4576.716374704249, -4558.865274059435, -4504.013265107651, -4494.888039261422, -4493.0403605723095, -4468.731089715551, -4458.13142062801, -4447.031202543419, -4427.51468833342, -4423.497238557093, -4421.496674793881, -4419.99666002772, -4417.509149142377, -4403.99160584703, -4390.806492374722, -4385.409812481523, -4372.925467605087, -4348.301177325186, -4341.421348990725, -4341.283698016536, -4328.451145142152, -4320.69590013785, -4303.999870711232, -4287.026907111244, -4284.552454025825, -4275.606772928538, -4258.278528355644, -4239.086826918732, -4208.237230525513, -4193.121738964581, -4161.799341399148, -4151.129486637021, -4148.0113928303945, -4135.442172254458, -4118.586728853779, -4114.398439528459, -4112.504514464618, -4109.1878332841625, -4087.853564509874, -4082.9400232138273, -4076.310469377892, -4061.6128274144976, -4053.9136221348654, -4034.7137595730005, -4032.9253850585387, -4020.648876830878, -4020.160841558754, -4008.3914112281054, -3976.3296157420295, -3968.6820975870924, -3964.234828563298, -3963.1722500945593, -3954.7973036689086, -3920.898710993656, -3898.3571398014824, -3876.996211352352, -3867.211566610008, -3852.8343848197255, -3836.783628339305, -3831.580095069967, -3829.9816027293855, -3826.6333651991154, -3818.6577698211113, -3811.351930764161, -3808.039058108682, -3792.9910318473526, -3788.2815186751036, -3782.859811332051, -3776.488149044596, -3764.7535395137425, -3754.956925121469, -3752.2953102371525, -3741.0057540536764, -3734.6096083913653, -3725.604079044431, -3721.28684394487, -3716.53162847289, -3707.0995443284687, -3693.7098586573675, -3688.08194689053, -3682.738042272019, -3671.770578486645, -3665.2307970251804, -3651.714885954823, -3648.893857096446, -3639.745780100351, -3619.1030306469884, -3612.073037613413, -3604.6300916572704, -3604.1045152103675, -3602.5647829694403, -3591.341603935573, -3584.1679751028437, -3583.2201964584283, -3579.574893979908, -3579.1091657826523, -3577.659749991193, -3574.5628751094414, -3549.6420639562875, -3534.9210267680314, -3531.3589677640207, -3523.532993010135, -3490.056058457398, -3489.695336734524, -3482.7306327005635, -3480.3084108148364, -3478.434072450881, -3469.072173981046, -3437.7383508406806, -3427.6169236753212, -3426.2915569831307, -3417.920419082458, -3413.9029693061307, -3408.6890986118533, -3403.394160743054, -3372.0276931028807, -3349.6466240347613, -3273.0767734359497, -3259.703410014752, -3226.80101865863, -3215.3874133758845, -3204.9379089874583, -3198.5760400499453, -3196.7849451604993, -3180.0361404591918, -3153.256225041993, -3143.6358909486803, -3139.2000474998185, -3123.9637712895983, -3122.221643149864, -3117.2460773041826, -3115.3815322901696, -3097.1006123978896, -3094.662068262259, -3069.296747836724, -3068.475738666562, -3053.3624234056174, -3046.634936070259, -3041.255666576956, -3029.1385723233566, -3013.295652491711, -3012.7211092950965, -2992.4994738892524, -2976.3159631096137, -2968.7032657544714, -2963.7663292335624, -2930.644675653732, -2927.0445313999458, -2909.147728455403, -2874.1756758114757, -2869.3421135399576, -2866.6206504059937, -2864.1440210205874, -2860.9851215892013, -2855.294097122736, -2848.757580111252, -2847.1329721708253, -2840.043130887602, -2836.3156730845662, -2834.437526195633, -2823.1011795624327, -2820.6577387518305, -2817.4803407705535, -2810.65872846075, -2786.8641525509593, -2753.202776574309, -2740.89035939686, -2739.0187414078882, -2728.7194017185775, -2714.101738779712, -2712.3873584648145, -2707.8421559415965, -2675.5779645567136, -2673.903301716581, -2669.623063716803, -2666.7628614586565, -2655.792133223302, -2596.5070011976395, -2593.8725900631625, -2592.354620822108, -2587.0058195286256, -2583.08140657675, -2577.0209551874614, -2570.254294452334, -2566.374495650195, -2556.3232541594225, -2539.060298586144, -2532.9563211971126, -2522.738048682323, -2521.1966842164056, -2513.7352397103723, -2504.6578924638607, -2503.207388522408, -2468.3991024525158, -2432.906370036657, -2425.2006358570634, -2400.18624380446, -2381.8705031123864, -2379.1316295785246, -2377.054351240765, -2358.6706011740916, -2358.412165550614, -2337.6312210480664, -2335.288978186868, -2329.312858422082, -2322.249132738705, -2305.706532461182, -2296.5965407148633, -2284.192718937953, -2284.0828157886, -2278.0288932992735, -2269.363954900331, -2262.576619315326, -2261.9269937691533, -2253.812659266967, -2208.637024133165, -2203.7735377368226, -2189.904521993546, -2128.721656379066, -2128.4403696057243, -2124.465357679147, -2123.2254107614535, -2122.1214825929583, -2113.4984379687694, -2110.0979692388064, -2108.2508346246914, -2100.902557717991, -2099.1691347782053, -2074.7222129472584, -2051.5919526085536, -2041.2158983446943, -2037.7631984150394, -2035.2539245298258, -2034.9421695566625, -2031.58577090144, -2028.9274204671046, -2013.4931009580514, -2010.320055576748, -2005.2895381563903, -2002.2829797241066, -1977.5406251699014, -1962.1378620106625, -1941.9080654798663, -1931.3927280168282, -1917.735901522301, -1893.8428480380908, -1856.058471735735, -1849.2705920757335, -1830.2774780126501, -1818.781717405389, -1803.645550994579, -1775.4793324855482, -1747.5922244498734, -1741.8614825086415, -1729.2514563079467, -1692.809857097678, -1663.4259987458227, -1651.9367670385236, -1635.0862203128154, -1609.6964165124245, -1604.590272667513, -1602.6729523788108, -1586.7282905227648, -1583.3457762676962, -1578.2869669475049, -1575.256469215362, -1565.6149161971753, -1561.0615525490057, -1557.880890117748, -1536.9775287409211, -1533.8305989594646, -1467.5388691250882, -1462.826635577856, -1460.4049577671249, -1439.1822243671804, -1436.112553235268, -1428.4068190556745, -1417.4502367702362, -1412.2200438260552, -1406.6198798840542, -1392.2666373936308, -1385.1528568105487, -1385.0815829859685, -1362.9464358163996, -1361.6433761990784, -1348.221590103166, -1325.7768642604215, -1313.6336544069754, -1276.2312187523694, -1262.9318495307361, -1250.1776434558906, -1245.7717241318524, -1245.5638874830775, -1203.0928491583381, -1200.6951106474662, -1193.0622825174432, -1161.4313944288278, -1147.49981006092, -1143.5291507343172, -1134.7162239362478, -1129.9604643892708, -1111.6751918970167, -1079.9077409842066, -1078.616651016814, -1074.6427272402307, -1044.902499765475, -1028.3114768132382, -1028.2026618138789, -990.2436374375529, -983.5390012520602, -982.886111255907, -967.3429767474945, -928.049336404033, -890.6550618743786, -851.4359598054771, -826.0080707553116, -821.7354498054874, -813.1738856559368, -795.6329077592973, -776.7796209703902, -745.1895385065345, -731.2040907139444, -729.5647927486034, -693.2706378624671, -671.7203713144527, -663.3916712635291, -638.6596541342624, -613.1088041348212, -567.8673359264067, -540.5373606874491, -510.89833116209684, -504.2214428014404, -494.45856105896837, -488.7544787925799, -473.838662755471, -444.03477850609033, -403.96365499220974, -401.08168973419197, -374.6864353397259, -363.81690505377446, -347.65733357399495, -340.7372436897713, -309.73693852244105, -300.3217207029202, -280.7056407685077, -267.896483118986, -213.23490041607965, -140.84028134266555, -128.00174364331633, -127.17311742319907, -114.6942132967315, -101.798003647722, -87.41973370744563, -80.25698637465302, 11.129658611851482, 47.21706499920583, 58.157869109737476, 65.66120739052349, 73.17488309624969, 73.53342851913658, 98.79537469528077, 105.28074865706549, 116.37280561670559, 161.0462595284671, 168.74872925807995, 175.5164781432013, 203.49662300332784, 245.06612905837937, 259.6674697473409, 262.1479076577252, 291.85712285766385, 332.3749319439121, 398.74065597785193, 398.97406415147634, 403.51872259969696, 500.053949280863, 501.3483036982361, 506.4941650179144, 517.7994993762968, 517.9496640754123, 536.0254676939003, 581.2157928526167, 590.5493994226181, 686.3561096830772, 687.5122690512644, 699.5047701305984, 726.1878401983686, 746.1913015304981, 787.59432063653, 825.7715190865711, 827.183937778248, 886.6448060278744, 962.4991980059021, 967.3033802275941, 1012.5388636110438, 1055.4538671331666, 1089.3568124083931, 1157.1431162589624, 1195.7664562063746, 1228.665039037519, 1274.8934592901178, 1282.1606690222961, 1287.491515840884, 1289.7320166776817, 1352.5846484573221, 1430.9581076705072, 1469.3785076441145, 1581.4361939838145, 1589.809508184475, 1595.2121729026385, 1709.0451759568768, 1718.4418952265078, 1737.3218416902564, 1784.6476612113893, 1910.0515072224462, 1977.3367180009682, 2004.792918639183, 2013.6482832870024, 2097.2018805446623, 2149.2225232131314, 2154.692653230897, 2336.3826898852894, 2341.4757759302775, 2372.122976424689, 2400.058507135078, 2423.224132348576, 2425.158318962178, 2709.376568387421, 2725.461057517643, 2733.4981333702835, 2938.6296412615466, 3039.142600244273, 3068.849639144224, 3098.2661419958877, 3109.532847029499, 3177.475844479144, 3337.222792437835, 3342.5971652561657, 3624.8959180927195, 3645.1229942485315, 3820.1595377671274, 3830.7858665295116, 3864.053332208483, 4125.177774319807, 4214.0839813959265, 4303.831872492086, 4334.241856287896, 4564.378506956815, 4794.72952317447, 4823.069845682476, 4900.331215602213, 4974.868402013002, 5010.906841650645, 5216.331605965179, 5530.654613113029, 5549.63466937619, 6094.945804562942, 6113.819222126729, 6678.303560200504, 6876.381679833326, 7208.483969726412, 7234.821008096222, 7286.881912314453, 7299.498467415109, 7325.269667788252, 7327.30994902623, 7774.866585464002, 8317.226113793145, 8348.055579411483, 8568.292241438738, 8705.627108054492, 9694.718455126267, 10201.935091262492, 10310.151064049829, 10480.17014794799, 10578.32889441959, 11119.384819056415, 11607.728581703848, 11639.257183693064, 11834.514274467512, 12034.964017011362, 12036.740421875895, 13085.737146469675, 13210.840663082503, 13324.115989265027, 13347.468232202425, 14354.406871394034, 14561.371367949496, 15423.71881229311, 15703.30807164563, 16580.672529975753, 17091.976801562894, 17652.65751133408, 18931.904054196115, 28401.831879094527, 36391.05035094303, 70348.02281742643], \"yaxis\": \"y\"}],\n",
       "                        {\"legend\": {\"tracegroupgap\": 0}, \"template\": {\"data\": {\"bar\": [{\"error_x\": {\"color\": \"#2a3f5f\"}, \"error_y\": {\"color\": \"#2a3f5f\"}, \"marker\": {\"line\": {\"color\": \"#E5ECF6\", \"width\": 0.5}}, \"type\": \"bar\"}], \"barpolar\": [{\"marker\": {\"line\": {\"color\": \"#E5ECF6\", \"width\": 0.5}}, \"type\": \"barpolar\"}], \"carpet\": [{\"aaxis\": {\"endlinecolor\": \"#2a3f5f\", \"gridcolor\": \"white\", \"linecolor\": \"white\", \"minorgridcolor\": \"white\", \"startlinecolor\": \"#2a3f5f\"}, \"baxis\": {\"endlinecolor\": \"#2a3f5f\", \"gridcolor\": \"white\", \"linecolor\": \"white\", \"minorgridcolor\": \"white\", \"startlinecolor\": \"#2a3f5f\"}, \"type\": \"carpet\"}], \"choropleth\": [{\"colorbar\": {\"outlinewidth\": 0, \"ticks\": \"\"}, \"type\": \"choropleth\"}], \"contour\": [{\"colorbar\": {\"outlinewidth\": 0, \"ticks\": \"\"}, \"colorscale\": [[0.0, \"#0d0887\"], [0.1111111111111111, \"#46039f\"], [0.2222222222222222, \"#7201a8\"], [0.3333333333333333, \"#9c179e\"], [0.4444444444444444, \"#bd3786\"], [0.5555555555555556, \"#d8576b\"], [0.6666666666666666, \"#ed7953\"], [0.7777777777777778, \"#fb9f3a\"], [0.8888888888888888, \"#fdca26\"], [1.0, \"#f0f921\"]], \"type\": \"contour\"}], \"contourcarpet\": [{\"colorbar\": {\"outlinewidth\": 0, \"ticks\": \"\"}, \"type\": \"contourcarpet\"}], \"heatmap\": [{\"colorbar\": {\"outlinewidth\": 0, \"ticks\": \"\"}, \"colorscale\": [[0.0, \"#0d0887\"], [0.1111111111111111, \"#46039f\"], [0.2222222222222222, \"#7201a8\"], [0.3333333333333333, \"#9c179e\"], [0.4444444444444444, \"#bd3786\"], [0.5555555555555556, \"#d8576b\"], [0.6666666666666666, \"#ed7953\"], [0.7777777777777778, \"#fb9f3a\"], [0.8888888888888888, \"#fdca26\"], [1.0, \"#f0f921\"]], \"type\": \"heatmap\"}], \"heatmapgl\": [{\"colorbar\": {\"outlinewidth\": 0, \"ticks\": \"\"}, \"colorscale\": [[0.0, \"#0d0887\"], [0.1111111111111111, \"#46039f\"], [0.2222222222222222, \"#7201a8\"], [0.3333333333333333, \"#9c179e\"], [0.4444444444444444, \"#bd3786\"], [0.5555555555555556, \"#d8576b\"], [0.6666666666666666, \"#ed7953\"], [0.7777777777777778, \"#fb9f3a\"], [0.8888888888888888, \"#fdca26\"], [1.0, \"#f0f921\"]], \"type\": \"heatmapgl\"}], \"histogram\": [{\"marker\": {\"colorbar\": {\"outlinewidth\": 0, \"ticks\": \"\"}}, \"type\": \"histogram\"}], \"histogram2d\": [{\"colorbar\": {\"outlinewidth\": 0, \"ticks\": \"\"}, \"colorscale\": [[0.0, \"#0d0887\"], [0.1111111111111111, \"#46039f\"], [0.2222222222222222, \"#7201a8\"], [0.3333333333333333, \"#9c179e\"], [0.4444444444444444, \"#bd3786\"], [0.5555555555555556, \"#d8576b\"], [0.6666666666666666, \"#ed7953\"], [0.7777777777777778, \"#fb9f3a\"], [0.8888888888888888, \"#fdca26\"], [1.0, \"#f0f921\"]], \"type\": \"histogram2d\"}], \"histogram2dcontour\": [{\"colorbar\": {\"outlinewidth\": 0, \"ticks\": \"\"}, \"colorscale\": [[0.0, \"#0d0887\"], [0.1111111111111111, \"#46039f\"], [0.2222222222222222, \"#7201a8\"], [0.3333333333333333, \"#9c179e\"], [0.4444444444444444, \"#bd3786\"], [0.5555555555555556, \"#d8576b\"], [0.6666666666666666, \"#ed7953\"], [0.7777777777777778, \"#fb9f3a\"], [0.8888888888888888, \"#fdca26\"], [1.0, \"#f0f921\"]], \"type\": \"histogram2dcontour\"}], \"mesh3d\": [{\"colorbar\": {\"outlinewidth\": 0, \"ticks\": \"\"}, \"type\": \"mesh3d\"}], \"parcoords\": [{\"line\": {\"colorbar\": {\"outlinewidth\": 0, \"ticks\": \"\"}}, \"type\": \"parcoords\"}], \"pie\": [{\"automargin\": true, \"type\": \"pie\"}], \"scatter\": [{\"marker\": {\"colorbar\": {\"outlinewidth\": 0, \"ticks\": \"\"}}, \"type\": \"scatter\"}], \"scatter3d\": [{\"line\": {\"colorbar\": {\"outlinewidth\": 0, \"ticks\": \"\"}}, \"marker\": {\"colorbar\": {\"outlinewidth\": 0, \"ticks\": \"\"}}, \"type\": \"scatter3d\"}], \"scattercarpet\": [{\"marker\": {\"colorbar\": {\"outlinewidth\": 0, \"ticks\": \"\"}}, \"type\": \"scattercarpet\"}], \"scattergeo\": [{\"marker\": {\"colorbar\": {\"outlinewidth\": 0, \"ticks\": \"\"}}, \"type\": \"scattergeo\"}], \"scattergl\": [{\"marker\": {\"colorbar\": {\"outlinewidth\": 0, \"ticks\": \"\"}}, \"type\": \"scattergl\"}], \"scattermapbox\": [{\"marker\": {\"colorbar\": {\"outlinewidth\": 0, \"ticks\": \"\"}}, \"type\": \"scattermapbox\"}], \"scatterpolar\": [{\"marker\": {\"colorbar\": {\"outlinewidth\": 0, \"ticks\": \"\"}}, \"type\": \"scatterpolar\"}], \"scatterpolargl\": [{\"marker\": {\"colorbar\": {\"outlinewidth\": 0, \"ticks\": \"\"}}, \"type\": \"scatterpolargl\"}], \"scatterternary\": [{\"marker\": {\"colorbar\": {\"outlinewidth\": 0, \"ticks\": \"\"}}, \"type\": \"scatterternary\"}], \"surface\": [{\"colorbar\": {\"outlinewidth\": 0, \"ticks\": \"\"}, \"colorscale\": [[0.0, \"#0d0887\"], [0.1111111111111111, \"#46039f\"], [0.2222222222222222, \"#7201a8\"], [0.3333333333333333, \"#9c179e\"], [0.4444444444444444, \"#bd3786\"], [0.5555555555555556, \"#d8576b\"], [0.6666666666666666, \"#ed7953\"], [0.7777777777777778, \"#fb9f3a\"], [0.8888888888888888, \"#fdca26\"], [1.0, \"#f0f921\"]], \"type\": \"surface\"}], \"table\": [{\"cells\": {\"fill\": {\"color\": \"#EBF0F8\"}, \"line\": {\"color\": \"white\"}}, \"header\": {\"fill\": {\"color\": \"#C8D4E3\"}, \"line\": {\"color\": \"white\"}}, \"type\": \"table\"}]}, \"layout\": {\"annotationdefaults\": {\"arrowcolor\": \"#2a3f5f\", \"arrowhead\": 0, \"arrowwidth\": 1}, \"coloraxis\": {\"colorbar\": {\"outlinewidth\": 0, \"ticks\": \"\"}}, \"colorscale\": {\"diverging\": [[0, \"#8e0152\"], [0.1, \"#c51b7d\"], [0.2, \"#de77ae\"], [0.3, \"#f1b6da\"], [0.4, \"#fde0ef\"], [0.5, \"#f7f7f7\"], [0.6, \"#e6f5d0\"], [0.7, \"#b8e186\"], [0.8, \"#7fbc41\"], [0.9, \"#4d9221\"], [1, \"#276419\"]], \"sequential\": [[0.0, \"#0d0887\"], [0.1111111111111111, \"#46039f\"], [0.2222222222222222, \"#7201a8\"], [0.3333333333333333, \"#9c179e\"], [0.4444444444444444, \"#bd3786\"], [0.5555555555555556, \"#d8576b\"], [0.6666666666666666, \"#ed7953\"], [0.7777777777777778, \"#fb9f3a\"], [0.8888888888888888, \"#fdca26\"], [1.0, \"#f0f921\"]], \"sequentialminus\": [[0.0, \"#0d0887\"], [0.1111111111111111, \"#46039f\"], [0.2222222222222222, \"#7201a8\"], [0.3333333333333333, \"#9c179e\"], [0.4444444444444444, \"#bd3786\"], [0.5555555555555556, \"#d8576b\"], [0.6666666666666666, \"#ed7953\"], [0.7777777777777778, \"#fb9f3a\"], [0.8888888888888888, \"#fdca26\"], [1.0, \"#f0f921\"]]}, \"colorway\": [\"#636efa\", \"#EF553B\", \"#00cc96\", \"#ab63fa\", \"#FFA15A\", \"#19d3f3\", \"#FF6692\", \"#B6E880\", \"#FF97FF\", \"#FECB52\"], \"font\": {\"color\": \"#2a3f5f\"}, \"geo\": {\"bgcolor\": \"white\", \"lakecolor\": \"white\", \"landcolor\": \"#E5ECF6\", \"showlakes\": true, \"showland\": true, \"subunitcolor\": \"white\"}, \"hoverlabel\": {\"align\": \"left\"}, \"hovermode\": \"closest\", \"mapbox\": {\"style\": \"light\"}, \"paper_bgcolor\": \"white\", \"plot_bgcolor\": \"#E5ECF6\", \"polar\": {\"angularaxis\": {\"gridcolor\": \"white\", \"linecolor\": \"white\", \"ticks\": \"\"}, \"bgcolor\": \"#E5ECF6\", \"radialaxis\": {\"gridcolor\": \"white\", \"linecolor\": \"white\", \"ticks\": \"\"}}, \"scene\": {\"xaxis\": {\"backgroundcolor\": \"#E5ECF6\", \"gridcolor\": \"white\", \"gridwidth\": 2, \"linecolor\": \"white\", \"showbackground\": true, \"ticks\": \"\", \"zerolinecolor\": \"white\"}, \"yaxis\": {\"backgroundcolor\": \"#E5ECF6\", \"gridcolor\": \"white\", \"gridwidth\": 2, \"linecolor\": \"white\", \"showbackground\": true, \"ticks\": \"\", \"zerolinecolor\": \"white\"}, \"zaxis\": {\"backgroundcolor\": \"#E5ECF6\", \"gridcolor\": \"white\", \"gridwidth\": 2, \"linecolor\": \"white\", \"showbackground\": true, \"ticks\": \"\", \"zerolinecolor\": \"white\"}}, \"shapedefaults\": {\"line\": {\"color\": \"#2a3f5f\"}}, \"ternary\": {\"aaxis\": {\"gridcolor\": \"white\", \"linecolor\": \"white\", \"ticks\": \"\"}, \"baxis\": {\"gridcolor\": \"white\", \"linecolor\": \"white\", \"ticks\": \"\"}, \"bgcolor\": \"#E5ECF6\", \"caxis\": {\"gridcolor\": \"white\", \"linecolor\": \"white\", \"ticks\": \"\"}}, \"title\": {\"x\": 0.05}, \"xaxis\": {\"automargin\": true, \"gridcolor\": \"white\", \"linecolor\": \"white\", \"ticks\": \"\", \"title\": {\"standoff\": 15}, \"zerolinecolor\": \"white\", \"zerolinewidth\": 2}, \"yaxis\": {\"automargin\": true, \"gridcolor\": \"white\", \"linecolor\": \"white\", \"ticks\": \"\", \"title\": {\"standoff\": 15}, \"zerolinecolor\": \"white\", \"zerolinewidth\": 2}}}, \"title\": {\"text\": \"Watch Time vs Income Change\"}, \"xaxis\": {\"anchor\": \"y\", \"domain\": [0.0, 1.0], \"title\": {\"text\": \"Watch time\"}}, \"yaxis\": {\"anchor\": \"x\", \"domain\": [0.0, 1.0], \"title\": {\"text\": \"Income Change\"}}},\n",
       "                        {\"responsive\": true}\n",
       "                    ).then(function(){\n",
       "                            \n",
       "var gd = document.getElementById('31b5865c-b306-4806-85e9-dd9bc6cf7704');\n",
       "var x = new MutationObserver(function (mutations, observer) {{\n",
       "        var display = window.getComputedStyle(gd).display;\n",
       "        if (!display || display === 'none') {{\n",
       "            console.log([gd, 'removed!']);\n",
       "            Plotly.purge(gd);\n",
       "            observer.disconnect();\n",
       "        }}\n",
       "}});\n",
       "\n",
       "// Listen for the removal of the full notebook cells\n",
       "var notebookContainer = gd.closest('#notebook-container');\n",
       "if (notebookContainer) {{\n",
       "    x.observe(notebookContainer, {childList: true});\n",
       "}}\n",
       "\n",
       "// Listen for the clearing of the current output cell\n",
       "var outputEl = gd.closest('.output');\n",
       "if (outputEl) {{\n",
       "    x.observe(outputEl, {childList: true});\n",
       "}}\n",
       "\n",
       "                        })\n",
       "                };\n",
       "                });\n",
       "            </script>\n",
       "        </div>"
      ]
     },
     "metadata": {},
     "output_type": "display_data"
    }
   ],
   "source": [
    "fig = px.scatter(finaldata, x=\"Watch time\", y=\"Income Change\", title=\"Watch Time vs Income Change\", trendline=\"ols\")\n",
    "fig.show()"
   ]
  },
  {
   "cell_type": "markdown",
   "metadata": {},
   "source": [
    "<img src=\"https://raw.githubusercontent.com/Liyih/Twitch.tv-Metrics-Analysis/master/img/WatchTimeVsIncome.png\">"
   ]
  },
  {
   "cell_type": "markdown",
   "metadata": {},
   "source": [
    "Similarly to the graph above, there is little to no correlation between streamer time to the streamer’s income; therefore streaming more or having a larger audience does not guarantee a significant level of change in their subscriber (income) levels."
   ]
  },
  {
   "cell_type": "code",
   "execution_count": 134,
   "metadata": {},
   "outputs": [
    {
     "data": {
      "application/vnd.plotly.v1+json": {
       "config": {
        "plotlyServerURL": "https://plot.ly"
       },
       "data": [
        {
         "hovertemplate": "Stream time=%{x}<br>Income Change=%{y}<extra></extra>",
         "legendgroup": "",
         "marker": {
          "color": "#636efa",
          "symbol": "circle"
         },
         "mode": "markers",
         "name": "",
         "orientation": "v",
         "showlegend": false,
         "type": "scatter",
         "x": [
          13920,
          11910,
          15015,
          9870,
          10530,
          10980,
          15810,
          11085,
          11385,
          10785,
          10350,
          10995,
          12195,
          10875,
          15510,
          13935,
          13425,
          9975,
          13725,
          10665,
          15105,
          14070,
          13695,
          14610,
          11775,
          12255,
          11340,
          12885,
          11055,
          13980,
          12900,
          13260,
          16380,
          9360,
          7650,
          8250,
          8100,
          8175,
          7080,
          6810,
          11025,
          8340,
          8685,
          10875,
          7845,
          9600,
          9990,
          9990,
          13350,
          11940,
          12060,
          11400,
          10125,
          11970,
          12510,
          14070,
          13755,
          12600,
          13185,
          14070,
          13515,
          11595,
          13365,
          16185,
          17850,
          6855,
          8325,
          6825,
          7110,
          6375,
          5970,
          6150,
          6495,
          7080,
          5355,
          6960,
          7290,
          5685,
          8070,
          9705,
          7680,
          12075,
          13260,
          14895,
          14895,
          14220,
          11220,
          10170,
          18030,
          13740,
          14520,
          12330,
          15840,
          12840,
          13560,
          14775,
          15540,
          3630,
          4170,
          5205,
          3720,
          4965,
          4410,
          3870,
          6615,
          4530,
          3570,
          4005,
          4995,
          7170,
          11940,
          6900,
          6570,
          11310,
          9555,
          16095,
          14400,
          12900,
          11205,
          11925,
          15765,
          12195,
          13365,
          13875,
          14700,
          9750,
          9600,
          10935,
          10260,
          9210,
          10020,
          9090,
          11040,
          8235,
          10695,
          11145,
          9060,
          11025,
          10170,
          11235,
          11250,
          12300,
          13350,
          13635,
          11685,
          12435,
          12960,
          11970,
          13110,
          13020,
          13125,
          12960,
          12075,
          13530,
          14160,
          12720,
          10620,
          11385,
          10980,
          12240,
          11640,
          10695,
          10755,
          10605,
          10560,
          13590,
          12615,
          8565,
          10350,
          9345,
          10590,
          10500,
          9840,
          4860,
          3675,
          3645,
          2805,
          3750,
          3360,
          4140,
          5220,
          7875,
          4395,
          5730,
          4110,
          5370,
          5280,
          8235,
          6600,
          6495,
          18150,
          8145,
          8700,
          7680,
          10380,
          8985,
          10650,
          12075,
          8985,
          12240,
          10260,
          10965,
          8055,
          9900,
          16575,
          15240,
          11460,
          10470,
          12090,
          11490,
          14160,
          11760,
          10770,
          10140,
          8775,
          10815,
          12765,
          10980,
          13035,
          11475,
          11910,
          13770,
          13560,
          40545,
          40905,
          32115,
          41685,
          12750,
          10020,
          10815,
          12360,
          6750,
          14895,
          12435,
          11325,
          12180,
          13185,
          14550,
          11910,
          13365,
          9075,
          11145,
          10980,
          11310,
          11055,
          10020,
          12930,
          6195,
          9330,
          7965,
          10335,
          10170,
          6015,
          11790,
          11910,
          13695,
          10980,
          9645,
          10800,
          7590,
          9840,
          6960,
          7110,
          10365,
          9735,
          9165,
          6570,
          11280,
          7200,
          9180,
          8970,
          9465,
          7770,
          13665,
          11595,
          10095,
          12900,
          13815,
          15645,
          13815,
          12045,
          12825,
          14865,
          14235,
          13035,
          15540,
          14190,
          13890,
          13215,
          13530,
          13800,
          13095,
          18210,
          17055,
          10080,
          7590,
          12420,
          6840,
          8430,
          7980,
          7815,
          6795,
          8475,
          7605,
          5820,
          7545,
          6585,
          17865,
          4155,
          8055,
          5685,
          9855,
          8205,
          12225,
          10710,
          10080,
          14985,
          16365,
          12210,
          9435,
          8685,
          8670,
          9090,
          8295,
          8775,
          5775,
          8595,
          7275,
          9060,
          9075,
          8115,
          8025,
          6015,
          11430,
          9615,
          8835,
          14070,
          12315,
          12060,
          12480,
          12075,
          12480,
          13245,
          11925,
          11790,
          12630,
          11490,
          11115,
          11910,
          11220,
          16695,
          16050,
          17400,
          16650,
          17235,
          19365,
          18510,
          19605,
          18495,
          20550,
          22140,
          19935,
          12285,
          9585,
          12330,
          9975,
          10965,
          10815,
          9705,
          9345,
          9090,
          11205,
          7800,
          8475,
          9870,
          9435,
          8280,
          43350,
          42300,
          44145,
          43965,
          41430,
          40830,
          42810,
          44295,
          12705,
          11535,
          15945,
          12675,
          14955,
          13260,
          15150,
          15210,
          16065,
          15825,
          15060,
          16110,
          14985,
          15555,
          16200,
          15285,
          13605,
          27810,
          29085,
          26715,
          25080,
          12210,
          17400,
          10080,
          10230,
          6975,
          5205,
          8775,
          9420,
          12735,
          7830,
          10530,
          13980,
          15330,
          9075,
          10035,
          8775,
          11085,
          11310,
          9255,
          9000,
          11820,
          13095,
          12195,
          10455,
          12390,
          14295,
          12705,
          9615,
          14115,
          14295,
          14295,
          18840,
          13860,
          17775,
          19290,
          17025,
          17040,
          10695,
          17295,
          17430,
          14445,
          14310,
          15795,
          17610,
          13500,
          13905,
          18390,
          4590,
          10455,
          14115,
          8085,
          13275,
          5430,
          10545,
          10020,
          6720,
          7770,
          5190,
          5805,
          10980,
          11460,
          12900,
          17370,
          14400,
          12690,
          16695,
          17250,
          16200,
          16800,
          11160,
          15795,
          13305,
          16125,
          11880,
          16965,
          22425,
          16260,
          19275,
          21045,
          18480,
          16380,
          14580,
          16860,
          14895,
          17835,
          20010,
          18645,
          20070,
          16290,
          15345,
          17685,
          19260,
          18435,
          18390,
          16530,
          21000,
          17535
         ],
         "xaxis": "x",
         "y": [
          -36295.11,
          -7912.099999999991,
          -21266.29999999999,
          -57068.869999999995,
          -24214.5,
          -51934.17999999999,
          -39877.399999999994,
          -61972.53999999999,
          -26313.62999999999,
          -44781.73999999999,
          -58999.439999999995,
          -23594.11,
          -57707.59,
          -55145.719999999994,
          -53429.7,
          -51628.149999999994,
          -51658.869999999995,
          -519.1900000000005,
          4253.68,
          -967.8400000000001,
          843.8199999999997,
          359.7600000000002,
          3344.9500000000007,
          4098.24,
          2471.039999999999,
          2770.4500000000007,
          3308.74,
          3195.0499999999993,
          2252.289999999999,
          2831.7199999999993,
          4927.289999999999,
          8830.89,
          11124.369999999999,
          4950.549999999999,
          2336.029999999999,
          3608.2700000000004,
          -274.3999999999978,
          5469.41,
          4816.23,
          19811.210000000003,
          24202.100000000002,
          26118.3,
          13912.560000000001,
          33663.68000000001,
          29532.680000000004,
          48937.5,
          19131.780000000002,
          20809.350000000002,
          -20056.75,
          -12146.409999999996,
          -22381.5,
          -14806.220000000001,
          -21393.39,
          -13623.189999999995,
          -13739.54,
          -19612.979999999996,
          -13600.329999999994,
          -24379.18,
          -14643.29,
          6431.939999999995,
          -16045.150000000001,
          -20643.71,
          -19782.85,
          -36547.119999999995,
          -9944.449999999997,
          3036.010000000002,
          27360.629999999997,
          -115.19999999999709,
          1995.2699999999968,
          6881.5999999999985,
          36132.579999999994,
          33412.74,
          18706.590000000004,
          19111.050000000003,
          4029.980000000003,
          12244.330000000002,
          8346.730000000003,
          11799.739999999998,
          23431.46,
          34015.60999999999,
          29200.140000000007,
          -446.90000000000873,
          28996.050000000003,
          1263.4700000000012,
          -9430.530000000006,
          -12155.75,
          -4303.770000000004,
          -4959.610000000001,
          -12687.310000000005,
          -4406.530000000006,
          -20837.83,
          -12380.570000000007,
          5661.619999999995,
          -14823.380000000005,
          -7580.040000000001,
          17915.410000000003,
          -6802.340000000004,
          4875.610000000001,
          -4061.8499999999985,
          -3363.1399999999994,
          -1007.8099999999977,
          -4501.09,
          -5619.0599999999995,
          -279.369999999999,
          2754.7999999999993,
          8408.350000000002,
          3448.3899999999994,
          -1427.1800000000003,
          -783.489999999998,
          1517.42,
          15693.98,
          5456.07,
          928.4000000000015,
          1277.2400000000016,
          3264.460000000001,
          663.710000000001,
          10559.060000000001,
          7137.4000000000015,
          1810.1500000000015,
          3054.540000000001,
          1011.0300000000007,
          1804.6599999999999,
          2269.2300000000014,
          13787.59,
          -263.40999999999985,
          1212.579999999998,
          15804.36,
          11068.059999999998,
          134.79000000000087,
          -4591.1500000000015,
          -3233.6800000000003,
          -7295.810000000001,
          -3892.59,
          -5095.850000000002,
          10184.269999999997,
          -5719.200000000001,
          -2699.8199999999997,
          -5374.830000000002,
          -6906.510000000002,
          -4910.580000000002,
          -6532.330000000002,
          12714.169999999998,
          12032.19,
          11131.859999999999,
          11917.679999999998,
          15724.53,
          11941.31,
          30428.03,
          18630.270000000004,
          16006.539999999999,
          19451.239999999998,
          18561.04,
          18192.660000000003,
          19441.590000000004,
          27606.200000000004,
          31449.11,
          -4417.790000000001,
          23043.390000000007,
          -2948.25,
          -1913.3600000000006,
          1052.4100000000035,
          170.34999999999854,
          2119.8499999999985,
          -2652.0999999999985,
          -3336.979999999996,
          -8826.68,
          -8358.580000000002,
          -8588.21,
          -8489.379999999997,
          -10045.220000000001,
          -3992.290000000001,
          -16262.89,
          -4911,
          -149.20999999999913,
          -3822.0600000000013,
          -9405.539999999999,
          -10982.83,
          -4869.450000000001,
          -9251.06,
          -4914.509999999998,
          10445.400000000001,
          35480.55,
          2535.9000000000015,
          184.97000000000116,
          3363.6100000000006,
          8334.009999999998,
          4541.4000000000015,
          16572.55,
          13278.84,
          25274.859999999997,
          47799.56,
          40211.83,
          -17968.109999999986,
          -31031.87999999999,
          11129.950000000012,
          5192.320000000007,
          21058.37000000001,
          7284.25,
          -19897.979999999996,
          15433.550000000003,
          -18150.39,
          -3426.5099999999948,
          206.2100000000064,
          7384.330000000002,
          28186.880000000005,
          63964.5,
          37071.68000000001,
          5855.769999999999,
          3798.6100000000006,
          963.710000000001,
          3230.290000000001,
          1011.7800000000007,
          1569.5,
          -718.5,
          1322.1499999999996,
          7207.840000000002,
          3937.6900000000005,
          4942.359999999999,
          6850.219999999999,
          5506.210000000001,
          6464.789999999999,
          11317.35,
          6709.99,
          -3497.9900000000002,
          -2260.4700000000003,
          -2829.3300000000004,
          -2420.1500000000005,
          -514.31,
          -713.8900000000001,
          -324.19000000000005,
          -1382.6100000000001,
          -698.72,
          11417.36,
          5683.35,
          6651.59,
          229.23999999999978,
          8058.49,
          4555.55,
          4964.8,
          37922.65000000001,
          10875,
          -886.7599999999948,
          -5483.659999999996,
          5707.340000000004,
          4782.460000000006,
          639.2700000000041,
          -7350.32,
          -23209.609999999997,
          2326.9900000000052,
          -19989.839999999997,
          -16436.019999999997,
          -4679,
          -14302.059999999998,
          -7240.309999999998,
          -3848.209999999999,
          18289.48000000001,
          21150.430000000008,
          19350.53,
          4512.419999999998,
          -12627.979999999996,
          -6160.1500000000015,
          -17315.519999999997,
          -15879.32,
          -14591,
          -25805.869999999995,
          -18094.729999999996,
          -32777.82,
          -15360.619999999995,
          -26774.71,
          -25526.47,
          -14953.309999999998,
          21715.320000000007,
          -6295.199999999997,
          3228.1899999999987,
          2988.790000000001,
          4775.240000000002,
          13074.059999999998,
          12110.529999999999,
          23562.86,
          16162.64,
          15977.779999999999,
          35588.17,
          22018.679999999997,
          16267.630000000001,
          -6059.32,
          1737.9999999999964,
          7283.48,
          -683.6800000000003,
          -8728.48,
          -418.8700000000026,
          -1209.2900000000009,
          -1486.8899999999994,
          16386.399999999998,
          10537.439999999999,
          3528.0300000000007,
          1703.9300000000003,
          6415.83,
          -573.3899999999994,
          -738.0799999999999,
          627.7000000000007,
          2384.620000000001,
          763.2700000000004,
          9201.44,
          4690.48,
          1731.6900000000005,
          -1362.4899999999998,
          2389.870000000001,
          9841.4,
          259.50999999999976,
          768.44,
          -753.6100000000001,
          1516.85,
          -289.5400000000002,
          2080.72,
          1077.7199999999998,
          942.9899999999998,
          -124.85000000000014,
          74.75999999999999,
          -119.84000000000015,
          -369.3900000000001,
          -639.9399999999996,
          1956.4000000000005,
          -2057.8599999999997,
          -690.6399999999994,
          -1574.37,
          -2117.4799999999996,
          -574.4699999999993,
          756.3000000000002,
          1360.5299999999997,
          -780.5199999999995,
          -316.02999999999975,
          -695.71,
          -2867.04,
          -2058.5599999999995,
          -1948.8399999999992,
          -2992.6899999999996,
          -18933.449999999997,
          -20055.369999999995,
          -22402.079999999998,
          -20155.489999999998,
          -19866.1,
          -20066.249999999996,
          -7740.789999999994,
          -7052.219999999994,
          -15685.639999999996,
          -17935.709999999995,
          -21164.889999999996,
          -15934.679999999997,
          -17007.78,
          -16938.069999999996,
          -4313.22,
          -4902.96,
          -4393.46,
          -4818.02,
          -4798.04,
          -4618,
          -4458.16,
          -4753.09,
          -4863.05,
          -4823.14,
          -4668.36,
          -4708.27,
          -2969.2700000000004,
          6567,
          -1697.3199999999997,
          -6148.740000000002,
          -4317.5,
          -4746.639999999999,
          -7122.209999999999,
          -8339.720000000001,
          -5300.630000000001,
          -7815.810000000001,
          -10225.880000000001,
          -7032.369999999999,
          -7581.170000000002,
          -10166.11,
          -11887.82,
          34.959999999999994,
          19.97999999999999,
          5,
          0.009999999999990905,
          14.97999999999999,
          34.97,
          -9.969999999999999,
          -74.87,
          -683.4699999999993,
          6176.67,
          1079.1200000000008,
          -204.17000000000007,
          519.7399999999998,
          -13.549999999999272,
          -673.9500000000007,
          -5292.08,
          607.4799999999996,
          503.4300000000003,
          -4509.63,
          -345.9500000000007,
          -3141.6100000000006,
          -2292.8500000000004,
          -6446.73,
          -3795.6000000000004,
          -5164.39,
          0,
          19.96,
          -29.95,
          -24.96,
          9527.220000000001,
          12375.82,
          6627.340000000001,
          6941.410000000001,
          6886.55,
          4241.62,
          6866.320000000001,
          8573.150000000001,
          7375.61,
          5698.81,
          9701.04,
          15249.870000000003,
          13747.93,
          3677.670000000001,
          -853.25,
          2410.29,
          -1097.7599999999998,
          -918.06,
          -1446.5499999999997,
          -1975.9899999999998,
          -1471.9799999999996,
          -1731.54,
          -1237.4299999999998,
          -1701.6999999999998,
          -1841.33,
          -1422.27,
          -958.1099999999997,
          -878.1899999999996,
          354.3000000000002,
          6049.780000000001,
          1956.37,
          953.0099999999984,
          13443.149999999998,
          2374.2999999999993,
          -362.8199999999997,
          1295.5599999999977,
          225.77999999999884,
          -1457.1100000000006,
          -14536.800000000001,
          1526.630000000001,
          679.489999999998,
          -3021.880000000001,
          -3287.4500000000007,
          -2441.9400000000023,
          -4314.290000000001,
          -4778.959999999999,
          -2484.66,
          -12430.900000000001,
          7739.82,
          11012.46,
          -11058.870000000003,
          -7225.940000000002,
          -19786.58,
          -9017.940000000002,
          -11932.2,
          -23045.300000000003,
          -13913.080000000002,
          -23494.260000000002,
          -17825.65,
          -17106.920000000002,
          -17959.97,
          -20105.870000000003,
          -15474.940000000002,
          11265.260000000002,
          2834.9300000000003,
          2202.989999999998,
          -6505.0899999999965,
          -17664.17,
          -30825.15,
          -17646.309999999998,
          -18036.050000000003,
          -25142.010000000002,
          -21818.519999999997,
          -28879.95,
          -19582.730000000003,
          -8853.589999999997,
          -1528.3099999999977,
          5472.810000000005,
          85172.69999999998,
          26478.799999999996,
          2799.6700000000055,
          5111.040000000001,
          -3617.8600000000006,
          -5574.4699999999975,
          -2699.3899999999994,
          1297.3300000000017,
          10084.530000000006,
          5823.310000000005,
          27484.61,
          16247.410000000003,
          13517.690000000002,
          21826.270000000004,
          12619.510000000002,
          21341.36,
          16720.910000000003,
          35678.73,
          35882.76
         ],
         "yaxis": "y"
        },
        {
         "hovertemplate": "<b>OLS trendline</b><br>Income Change = 0.0956767 * Stream time + -1567.94<br>R<sup>2</sup>=0.001319<br><br>Stream time=%{x}<br>Income Change=%{y} <b>(trend)</b><extra></extra>",
         "legendgroup": "",
         "marker": {
          "color": "#636efa",
          "symbol": "circle"
         },
         "mode": "lines",
         "name": "",
         "showlegend": false,
         "type": "scatter",
         "x": [
          2805,
          3360,
          3570,
          3630,
          3645,
          3675,
          3720,
          3750,
          3870,
          4005,
          4110,
          4140,
          4155,
          4170,
          4395,
          4410,
          4530,
          4590,
          4860,
          4965,
          4995,
          5190,
          5205,
          5205,
          5220,
          5280,
          5355,
          5370,
          5430,
          5685,
          5685,
          5730,
          5775,
          5805,
          5820,
          5970,
          6015,
          6015,
          6150,
          6195,
          6375,
          6495,
          6495,
          6570,
          6570,
          6585,
          6600,
          6615,
          6720,
          6750,
          6795,
          6810,
          6825,
          6840,
          6855,
          6900,
          6960,
          6960,
          6975,
          7080,
          7080,
          7110,
          7110,
          7170,
          7200,
          7275,
          7290,
          7545,
          7590,
          7590,
          7605,
          7650,
          7680,
          7680,
          7770,
          7770,
          7800,
          7815,
          7830,
          7845,
          7875,
          7965,
          7980,
          8025,
          8055,
          8055,
          8070,
          8085,
          8100,
          8115,
          8145,
          8175,
          8205,
          8235,
          8235,
          8250,
          8280,
          8295,
          8325,
          8340,
          8430,
          8475,
          8475,
          8565,
          8595,
          8670,
          8685,
          8685,
          8700,
          8775,
          8775,
          8775,
          8775,
          8835,
          8970,
          8985,
          8985,
          9000,
          9060,
          9060,
          9075,
          9075,
          9075,
          9090,
          9090,
          9090,
          9165,
          9180,
          9210,
          9255,
          9330,
          9345,
          9345,
          9360,
          9420,
          9435,
          9435,
          9465,
          9555,
          9585,
          9600,
          9600,
          9615,
          9615,
          9645,
          9705,
          9705,
          9735,
          9750,
          9840,
          9840,
          9855,
          9870,
          9870,
          9900,
          9975,
          9975,
          9990,
          9990,
          10020,
          10020,
          10020,
          10020,
          10035,
          10080,
          10080,
          10080,
          10095,
          10125,
          10140,
          10170,
          10170,
          10170,
          10230,
          10260,
          10260,
          10335,
          10350,
          10350,
          10365,
          10380,
          10455,
          10455,
          10470,
          10500,
          10530,
          10530,
          10545,
          10560,
          10590,
          10605,
          10620,
          10650,
          10665,
          10695,
          10695,
          10695,
          10710,
          10755,
          10770,
          10785,
          10800,
          10815,
          10815,
          10815,
          10875,
          10875,
          10935,
          10965,
          10965,
          10980,
          10980,
          10980,
          10980,
          10980,
          10980,
          10995,
          11025,
          11025,
          11040,
          11055,
          11055,
          11085,
          11085,
          11115,
          11145,
          11145,
          11160,
          11205,
          11205,
          11220,
          11220,
          11235,
          11250,
          11280,
          11310,
          11310,
          11310,
          11325,
          11340,
          11385,
          11385,
          11400,
          11430,
          11460,
          11460,
          11475,
          11490,
          11490,
          11535,
          11595,
          11595,
          11640,
          11685,
          11760,
          11775,
          11790,
          11790,
          11820,
          11880,
          11910,
          11910,
          11910,
          11910,
          11910,
          11925,
          11925,
          11940,
          11940,
          11970,
          11970,
          12045,
          12060,
          12060,
          12075,
          12075,
          12075,
          12075,
          12090,
          12180,
          12195,
          12195,
          12195,
          12210,
          12210,
          12225,
          12240,
          12240,
          12255,
          12285,
          12300,
          12315,
          12330,
          12330,
          12360,
          12390,
          12420,
          12435,
          12435,
          12480,
          12480,
          12510,
          12600,
          12615,
          12630,
          12675,
          12690,
          12705,
          12705,
          12720,
          12735,
          12750,
          12765,
          12825,
          12840,
          12885,
          12900,
          12900,
          12900,
          12900,
          12930,
          12960,
          12960,
          13020,
          13035,
          13035,
          13095,
          13095,
          13110,
          13125,
          13185,
          13185,
          13215,
          13245,
          13260,
          13260,
          13260,
          13275,
          13305,
          13350,
          13350,
          13365,
          13365,
          13365,
          13425,
          13500,
          13515,
          13530,
          13530,
          13560,
          13560,
          13590,
          13605,
          13635,
          13665,
          13695,
          13695,
          13725,
          13740,
          13755,
          13770,
          13800,
          13815,
          13815,
          13860,
          13875,
          13890,
          13905,
          13920,
          13935,
          13980,
          13980,
          14070,
          14070,
          14070,
          14070,
          14115,
          14115,
          14160,
          14160,
          14190,
          14220,
          14235,
          14295,
          14295,
          14295,
          14310,
          14400,
          14400,
          14445,
          14520,
          14550,
          14580,
          14610,
          14700,
          14775,
          14865,
          14895,
          14895,
          14895,
          14895,
          14955,
          14985,
          14985,
          15015,
          15060,
          15105,
          15150,
          15210,
          15240,
          15285,
          15330,
          15345,
          15510,
          15540,
          15540,
          15555,
          15645,
          15765,
          15795,
          15795,
          15810,
          15825,
          15840,
          15945,
          16050,
          16065,
          16095,
          16110,
          16125,
          16185,
          16200,
          16200,
          16260,
          16290,
          16365,
          16380,
          16380,
          16530,
          16575,
          16650,
          16695,
          16695,
          16800,
          16860,
          16965,
          17025,
          17040,
          17055,
          17235,
          17250,
          17295,
          17370,
          17400,
          17400,
          17430,
          17535,
          17610,
          17685,
          17775,
          17835,
          17850,
          17865,
          18030,
          18150,
          18210,
          18390,
          18390,
          18435,
          18480,
          18495,
          18510,
          18645,
          18840,
          19260,
          19275,
          19290,
          19365,
          19605,
          19935,
          20010,
          20070,
          20550,
          21000,
          21045,
          22140,
          22425,
          25080,
          26715,
          27810,
          29085,
          32115,
          40545,
          40830,
          40905,
          41430,
          41685,
          42300,
          42810,
          43350,
          43965,
          44145,
          44295
         ],
         "xaxis": "x",
         "y": [
          -1299.5673346257586,
          -1246.4667721840003,
          -1226.374667476308,
          -1220.6340661312531,
          -1219.1989157949895,
          -1216.328615122462,
          -1212.0231641136709,
          -1209.1528634411434,
          -1197.6716607510334,
          -1184.7553077246598,
          -1174.7092553708137,
          -1171.8389546982862,
          -1170.4038043620226,
          -1168.968654025759,
          -1147.4413989818029,
          -1146.006248645539,
          -1134.5250459554293,
          -1128.7844446103743,
          -1102.951738557627,
          -1092.905686203781,
          -1090.0353855312535,
          -1071.3784311598251,
          -1069.9432808235613,
          -1069.9432808235613,
          -1068.5081304872976,
          -1062.7675291422427,
          -1055.5917774609238,
          -1054.1566271246602,
          -1048.4160257796052,
          -1024.0184700631219,
          -1024.0184700631219,
          -1019.7130190543306,
          -1015.4075680455395,
          -1012.537267373012,
          -1011.1021170367483,
          -996.7506136741109,
          -992.4451626653198,
          -992.4451626653198,
          -979.5288096389462,
          -975.223358630155,
          -958.0015545949901,
          -946.5203519048803,
          -946.5203519048803,
          -939.3446002235617,
          -939.3446002235617,
          -937.9094498872979,
          -936.4742995510342,
          -935.0391492147704,
          -924.9930968609243,
          -922.1227961883968,
          -917.8173451796057,
          -916.382194843342,
          -914.9470445070782,
          -913.5118941708145,
          -912.0767438345507,
          -907.7712928257596,
          -902.0306914807046,
          -902.0306914807046,
          -900.5955411444409,
          -890.5494887905948,
          -890.5494887905948,
          -887.6791881180673,
          -887.6791881180673,
          -881.9385867730124,
          -879.0682861004849,
          -871.8925344191663,
          -870.4573840829025,
          -846.0598283664191,
          -841.7543773576278,
          -841.7543773576278,
          -840.3192270213641,
          -836.013776012573,
          -833.1434753400455,
          -833.1434753400455,
          -824.5325733224631,
          -824.5325733224631,
          -821.6622726499356,
          -820.2271223136719,
          -818.7919719774081,
          -817.3568216411444,
          -814.4865209686169,
          -805.8756189510345,
          -804.4404686147708,
          -800.1350176059797,
          -797.2647169334522,
          -797.2647169334522,
          -795.8295665971884,
          -794.3944162609247,
          -792.9592659246609,
          -791.5241155883972,
          -788.6538149158697,
          -785.7835142433423,
          -782.9132135708148,
          -780.0429128982873,
          -780.0429128982873,
          -778.6077625620236,
          -775.7374618894962,
          -774.3023115532325,
          -771.432010880705,
          -769.9968605444412,
          -761.3859585268589,
          -757.0805075180676,
          -757.0805075180676,
          -748.4696055004853,
          -745.5993048279578,
          -738.4235531466392,
          -736.9884028103754,
          -736.9884028103754,
          -735.5532524741117,
          -728.377500792793,
          -728.377500792793,
          -728.377500792793,
          -728.377500792793,
          -722.6368994477381,
          -709.7205464213645,
          -708.2853960851007,
          -708.2853960851007,
          -706.850245748837,
          -701.1096444037821,
          -701.1096444037821,
          -699.6744940675184,
          -699.6744940675184,
          -699.6744940675184,
          -698.2393437312546,
          -698.2393437312546,
          -698.2393437312546,
          -691.063592049936,
          -689.6284417136723,
          -686.7581410411448,
          -682.4526900323535,
          -675.2769383510349,
          -673.8417880147712,
          -673.8417880147712,
          -672.4066376785074,
          -666.6660363334526,
          -665.2308859971888,
          -665.2308859971888,
          -662.3605853246613,
          -653.749683307079,
          -650.8793826345515,
          -649.4442322982877,
          -649.4442322982877,
          -648.009081962024,
          -648.009081962024,
          -645.1387812894965,
          -639.3981799444416,
          -639.3981799444416,
          -636.5278792719141,
          -635.0927289356504,
          -626.481826918068,
          -626.481826918068,
          -625.0466765818043,
          -623.6115262455405,
          -623.6115262455405,
          -620.741225573013,
          -613.5654738916944,
          -613.5654738916944,
          -612.1303235554307,
          -612.1303235554307,
          -609.2600228829032,
          -609.2600228829032,
          -609.2600228829032,
          -609.2600228829032,
          -607.8248725466394,
          -603.5194215378483,
          -603.5194215378483,
          -603.5194215378483,
          -602.0842712015846,
          -599.2139705290571,
          -597.7788201927933,
          -594.9085195202659,
          -594.9085195202659,
          -594.9085195202659,
          -589.167918175211,
          -586.2976175026835,
          -586.2976175026835,
          -579.1218658213648,
          -577.6867154851011,
          -577.6867154851011,
          -576.2515651488374,
          -574.8164148125736,
          -567.640663131255,
          -567.640663131255,
          -566.2055127949913,
          -563.3352121224638,
          -560.4649114499363,
          -560.4649114499363,
          -559.0297611136725,
          -557.5946107774089,
          -554.7243101048814,
          -553.2891597686177,
          -551.8540094323539,
          -548.9837087598264,
          -547.5485584235627,
          -544.6782577510353,
          -544.6782577510353,
          -544.6782577510353,
          -543.2431074147714,
          -538.9376564059803,
          -537.5025060697167,
          -536.0673557334528,
          -534.6322053971892,
          -533.1970550609253,
          -533.1970550609253,
          -533.1970550609253,
          -527.4564537158706,
          -527.4564537158706,
          -521.7158523708156,
          -518.8455516982881,
          -518.8455516982881,
          -517.4104013620242,
          -517.4104013620242,
          -517.4104013620242,
          -517.4104013620242,
          -517.4104013620242,
          -517.4104013620242,
          -515.9752510257606,
          -513.1049503532331,
          -513.1049503532331,
          -511.6698000169695,
          -510.2346496807056,
          -510.2346496807056,
          -507.3643490081781,
          -507.3643490081781,
          -504.49404833565086,
          -501.62374766312337,
          -501.62374766312337,
          -500.1885973268595,
          -495.8831463180684,
          -495.8831463180684,
          -494.4479959818045,
          -494.4479959818045,
          -493.0128456455409,
          -491.57769530927726,
          -488.70739463674977,
          -485.8370939642223,
          -485.8370939642223,
          -485.8370939642223,
          -484.4019436279584,
          -482.9667932916948,
          -478.66134228290366,
          -478.66134228290366,
          -477.2261919466398,
          -474.3558912741123,
          -471.4855906015848,
          -471.4855906015848,
          -470.0504402653212,
          -468.6152899290573,
          -468.6152899290573,
          -464.3098389202662,
          -458.5692375752112,
          -458.5692375752112,
          -454.2637865664201,
          -449.95833555762897,
          -442.78258387631035,
          -441.3474335400465,
          -439.91228320378286,
          -439.91228320378286,
          -437.04198253125537,
          -431.3013811862004,
          -428.4310805136729,
          -428.4310805136729,
          -428.4310805136729,
          -428.4310805136729,
          -428.4310805136729,
          -426.99593017740926,
          -426.99593017740926,
          -425.5607798411454,
          -425.5607798411454,
          -422.6904791686179,
          -422.6904791686179,
          -415.5147274872993,
          -414.07957715103566,
          -414.07957715103566,
          -412.6444268147718,
          -412.6444268147718,
          -412.6444268147718,
          -412.6444268147718,
          -411.2092764785082,
          -402.5983744609257,
          -401.16322412466207,
          -401.16322412466207,
          -401.16322412466207,
          -399.7280737883982,
          -399.7280737883982,
          -398.2929234521346,
          -396.8577731158707,
          -396.8577731158707,
          -395.4226227796071,
          -392.5523221070796,
          -391.11717177081596,
          -389.6820214345521,
          -388.24687109828847,
          -388.24687109828847,
          -385.376570425761,
          -382.5062697532335,
          -379.635969080706,
          -378.20081874444236,
          -378.20081874444236,
          -373.895367735651,
          -373.895367735651,
          -371.02506706312374,
          -362.41416504554127,
          -360.9790147092774,
          -359.5438643730138,
          -355.23841336422265,
          -353.8032630279588,
          -352.36811269169516,
          -352.36811269169516,
          -350.9329623554313,
          -349.49781201916767,
          -348.0626616829038,
          -346.6275113466402,
          -340.8869100015852,
          -339.45175966532156,
          -335.14630865653044,
          -333.7111583202666,
          -333.7111583202666,
          -333.7111583202666,
          -333.7111583202666,
          -330.8408576477391,
          -327.9705569752116,
          -327.9705569752116,
          -322.22995563015684,
          -320.794805293893,
          -320.794805293893,
          -315.054203948838,
          -315.054203948838,
          -313.61905361257436,
          -312.1839032763105,
          -306.44330193125575,
          -306.44330193125575,
          -303.57300125872825,
          -300.70270058620076,
          -299.2675502499369,
          -299.2675502499369,
          -299.2675502499369,
          -297.83239991367327,
          -294.9620992411458,
          -290.65664823235466,
          -290.65664823235466,
          -289.2214978960908,
          -289.2214978960908,
          -289.2214978960908,
          -283.48089655103604,
          -276.3051448697172,
          -274.86999453345356,
          -273.43484419718993,
          -273.43484419718993,
          -270.56454352466244,
          -270.56454352466244,
          -267.69424285213495,
          -266.2590925158711,
          -263.3887918433436,
          -260.51849117081633,
          -257.64819049828884,
          -257.64819049828884,
          -254.77788982576135,
          -253.3427394894975,
          -251.90758915323386,
          -250.47243881697023,
          -247.60213814444273,
          -246.16698780817887,
          -246.16698780817887,
          -241.86153679938775,
          -240.4263864631239,
          -238.99123612686026,
          -237.55608579059663,
          -236.12093545433277,
          -234.68578511806913,
          -230.38033410927778,
          -230.38033410927778,
          -221.76943209169553,
          -221.76943209169553,
          -221.76943209169553,
          -221.76943209169553,
          -217.46398108290418,
          -217.46398108290418,
          -213.15853007411306,
          -213.15853007411306,
          -210.28822940158557,
          -207.41792872905808,
          -205.98277839279444,
          -200.24217704773946,
          -200.24217704773946,
          -200.24217704773946,
          -198.80702671147583,
          -190.19612469389335,
          -190.19612469389335,
          -185.89067368510223,
          -178.71492200378339,
          -175.84462133125612,
          -172.97432065872863,
          -170.10401998620114,
          -161.49311796861866,
          -154.31736628730005,
          -145.70646426971757,
          -142.83616359719008,
          -142.83616359719008,
          -142.83616359719008,
          -142.83616359719008,
          -137.09556225213532,
          -134.22526157960783,
          -134.22526157960783,
          -131.35496090708034,
          -127.04950989828922,
          -122.74405888949786,
          -118.43860788070674,
          -112.69800653565176,
          -109.82770586312427,
          -105.52225485433314,
          -101.21680384554202,
          -99.78165350927816,
          -83.99499981037707,
          -81.1246991378498,
          -81.1246991378498,
          -79.68954880158594,
          -71.07864678400347,
          -59.59744409389373,
          -56.727143421366236,
          -56.727143421366236,
          -55.291993085102604,
          -53.856842748838744,
          -52.42169241257511,
          -42.375640058729005,
          -32.3295877048829,
          -30.894437368619037,
          -28.024136696091546,
          -26.588986359827913,
          -25.153836023564054,
          -19.413234678509298,
          -17.978084342245438,
          -17.978084342245438,
          -12.237482997190455,
          -9.367182324662963,
          -2.191430643344347,
          -0.7562803070807149,
          -0.7562803070807149,
          13.595223055556744,
          17.900674064347868,
          25.076425745666484,
          29.381876754457608,
          29.381876754457608,
          39.427929108303715,
          45.1685304533587,
          55.214582807204806,
          60.95518415225979,
          62.39033448852365,
          63.82548482478728,
          81.047288859952,
          82.48243919621586,
          86.78789020500699,
          93.9636418863256,
          96.8339425588531,
          96.8339425588531,
          99.70424323138059,
          109.7502955852267,
          116.92604726654531,
          124.10179894786393,
          132.7127009654464,
          138.45330231050139,
          139.88845264676502,
          141.32360298302888,
          157.11025668192997,
          168.5914593720397,
          174.3320607170947,
          191.55386475225941,
          191.55386475225941,
          195.85931576105077,
          200.1647667698419,
          201.59991710610552,
          203.03506744236938,
          215.95142046874298,
          234.60837484017134,
          274.792584255556,
          276.2277345918196,
          277.6628849280835,
          284.8386366094021,
          307.8010419896218,
          339.374349387424,
          346.5501010687426,
          352.2907024137976,
          398.215513174237,
          441.2700232621489,
          445.57547427094005,
          550.3414488181925,
          577.6093052072033,
          831.6309147258839,
          988.0623013786308,
          1092.8282759258832,
          1214.8160545083006,
          1504.7164224335747,
          2311.270911413792,
          2338.5387678028032,
          2345.714519484122,
          2395.944781253352,
          2420.3423369698357,
          2479.1835007566488,
          2527.978612189616,
          2579.64402429511,
          2638.485188081923,
          2655.7069921170882,
          2670.0584954797255
         ],
         "yaxis": "y"
        }
       ],
       "layout": {
        "legend": {
         "tracegroupgap": 0
        },
        "template": {
         "data": {
          "bar": [
           {
            "error_x": {
             "color": "#2a3f5f"
            },
            "error_y": {
             "color": "#2a3f5f"
            },
            "marker": {
             "line": {
              "color": "#E5ECF6",
              "width": 0.5
             }
            },
            "type": "bar"
           }
          ],
          "barpolar": [
           {
            "marker": {
             "line": {
              "color": "#E5ECF6",
              "width": 0.5
             }
            },
            "type": "barpolar"
           }
          ],
          "carpet": [
           {
            "aaxis": {
             "endlinecolor": "#2a3f5f",
             "gridcolor": "white",
             "linecolor": "white",
             "minorgridcolor": "white",
             "startlinecolor": "#2a3f5f"
            },
            "baxis": {
             "endlinecolor": "#2a3f5f",
             "gridcolor": "white",
             "linecolor": "white",
             "minorgridcolor": "white",
             "startlinecolor": "#2a3f5f"
            },
            "type": "carpet"
           }
          ],
          "choropleth": [
           {
            "colorbar": {
             "outlinewidth": 0,
             "ticks": ""
            },
            "type": "choropleth"
           }
          ],
          "contour": [
           {
            "colorbar": {
             "outlinewidth": 0,
             "ticks": ""
            },
            "colorscale": [
             [
              0,
              "#0d0887"
             ],
             [
              0.1111111111111111,
              "#46039f"
             ],
             [
              0.2222222222222222,
              "#7201a8"
             ],
             [
              0.3333333333333333,
              "#9c179e"
             ],
             [
              0.4444444444444444,
              "#bd3786"
             ],
             [
              0.5555555555555556,
              "#d8576b"
             ],
             [
              0.6666666666666666,
              "#ed7953"
             ],
             [
              0.7777777777777778,
              "#fb9f3a"
             ],
             [
              0.8888888888888888,
              "#fdca26"
             ],
             [
              1,
              "#f0f921"
             ]
            ],
            "type": "contour"
           }
          ],
          "contourcarpet": [
           {
            "colorbar": {
             "outlinewidth": 0,
             "ticks": ""
            },
            "type": "contourcarpet"
           }
          ],
          "heatmap": [
           {
            "colorbar": {
             "outlinewidth": 0,
             "ticks": ""
            },
            "colorscale": [
             [
              0,
              "#0d0887"
             ],
             [
              0.1111111111111111,
              "#46039f"
             ],
             [
              0.2222222222222222,
              "#7201a8"
             ],
             [
              0.3333333333333333,
              "#9c179e"
             ],
             [
              0.4444444444444444,
              "#bd3786"
             ],
             [
              0.5555555555555556,
              "#d8576b"
             ],
             [
              0.6666666666666666,
              "#ed7953"
             ],
             [
              0.7777777777777778,
              "#fb9f3a"
             ],
             [
              0.8888888888888888,
              "#fdca26"
             ],
             [
              1,
              "#f0f921"
             ]
            ],
            "type": "heatmap"
           }
          ],
          "heatmapgl": [
           {
            "colorbar": {
             "outlinewidth": 0,
             "ticks": ""
            },
            "colorscale": [
             [
              0,
              "#0d0887"
             ],
             [
              0.1111111111111111,
              "#46039f"
             ],
             [
              0.2222222222222222,
              "#7201a8"
             ],
             [
              0.3333333333333333,
              "#9c179e"
             ],
             [
              0.4444444444444444,
              "#bd3786"
             ],
             [
              0.5555555555555556,
              "#d8576b"
             ],
             [
              0.6666666666666666,
              "#ed7953"
             ],
             [
              0.7777777777777778,
              "#fb9f3a"
             ],
             [
              0.8888888888888888,
              "#fdca26"
             ],
             [
              1,
              "#f0f921"
             ]
            ],
            "type": "heatmapgl"
           }
          ],
          "histogram": [
           {
            "marker": {
             "colorbar": {
              "outlinewidth": 0,
              "ticks": ""
             }
            },
            "type": "histogram"
           }
          ],
          "histogram2d": [
           {
            "colorbar": {
             "outlinewidth": 0,
             "ticks": ""
            },
            "colorscale": [
             [
              0,
              "#0d0887"
             ],
             [
              0.1111111111111111,
              "#46039f"
             ],
             [
              0.2222222222222222,
              "#7201a8"
             ],
             [
              0.3333333333333333,
              "#9c179e"
             ],
             [
              0.4444444444444444,
              "#bd3786"
             ],
             [
              0.5555555555555556,
              "#d8576b"
             ],
             [
              0.6666666666666666,
              "#ed7953"
             ],
             [
              0.7777777777777778,
              "#fb9f3a"
             ],
             [
              0.8888888888888888,
              "#fdca26"
             ],
             [
              1,
              "#f0f921"
             ]
            ],
            "type": "histogram2d"
           }
          ],
          "histogram2dcontour": [
           {
            "colorbar": {
             "outlinewidth": 0,
             "ticks": ""
            },
            "colorscale": [
             [
              0,
              "#0d0887"
             ],
             [
              0.1111111111111111,
              "#46039f"
             ],
             [
              0.2222222222222222,
              "#7201a8"
             ],
             [
              0.3333333333333333,
              "#9c179e"
             ],
             [
              0.4444444444444444,
              "#bd3786"
             ],
             [
              0.5555555555555556,
              "#d8576b"
             ],
             [
              0.6666666666666666,
              "#ed7953"
             ],
             [
              0.7777777777777778,
              "#fb9f3a"
             ],
             [
              0.8888888888888888,
              "#fdca26"
             ],
             [
              1,
              "#f0f921"
             ]
            ],
            "type": "histogram2dcontour"
           }
          ],
          "mesh3d": [
           {
            "colorbar": {
             "outlinewidth": 0,
             "ticks": ""
            },
            "type": "mesh3d"
           }
          ],
          "parcoords": [
           {
            "line": {
             "colorbar": {
              "outlinewidth": 0,
              "ticks": ""
             }
            },
            "type": "parcoords"
           }
          ],
          "pie": [
           {
            "automargin": true,
            "type": "pie"
           }
          ],
          "scatter": [
           {
            "marker": {
             "colorbar": {
              "outlinewidth": 0,
              "ticks": ""
             }
            },
            "type": "scatter"
           }
          ],
          "scatter3d": [
           {
            "line": {
             "colorbar": {
              "outlinewidth": 0,
              "ticks": ""
             }
            },
            "marker": {
             "colorbar": {
              "outlinewidth": 0,
              "ticks": ""
             }
            },
            "type": "scatter3d"
           }
          ],
          "scattercarpet": [
           {
            "marker": {
             "colorbar": {
              "outlinewidth": 0,
              "ticks": ""
             }
            },
            "type": "scattercarpet"
           }
          ],
          "scattergeo": [
           {
            "marker": {
             "colorbar": {
              "outlinewidth": 0,
              "ticks": ""
             }
            },
            "type": "scattergeo"
           }
          ],
          "scattergl": [
           {
            "marker": {
             "colorbar": {
              "outlinewidth": 0,
              "ticks": ""
             }
            },
            "type": "scattergl"
           }
          ],
          "scattermapbox": [
           {
            "marker": {
             "colorbar": {
              "outlinewidth": 0,
              "ticks": ""
             }
            },
            "type": "scattermapbox"
           }
          ],
          "scatterpolar": [
           {
            "marker": {
             "colorbar": {
              "outlinewidth": 0,
              "ticks": ""
             }
            },
            "type": "scatterpolar"
           }
          ],
          "scatterpolargl": [
           {
            "marker": {
             "colorbar": {
              "outlinewidth": 0,
              "ticks": ""
             }
            },
            "type": "scatterpolargl"
           }
          ],
          "scatterternary": [
           {
            "marker": {
             "colorbar": {
              "outlinewidth": 0,
              "ticks": ""
             }
            },
            "type": "scatterternary"
           }
          ],
          "surface": [
           {
            "colorbar": {
             "outlinewidth": 0,
             "ticks": ""
            },
            "colorscale": [
             [
              0,
              "#0d0887"
             ],
             [
              0.1111111111111111,
              "#46039f"
             ],
             [
              0.2222222222222222,
              "#7201a8"
             ],
             [
              0.3333333333333333,
              "#9c179e"
             ],
             [
              0.4444444444444444,
              "#bd3786"
             ],
             [
              0.5555555555555556,
              "#d8576b"
             ],
             [
              0.6666666666666666,
              "#ed7953"
             ],
             [
              0.7777777777777778,
              "#fb9f3a"
             ],
             [
              0.8888888888888888,
              "#fdca26"
             ],
             [
              1,
              "#f0f921"
             ]
            ],
            "type": "surface"
           }
          ],
          "table": [
           {
            "cells": {
             "fill": {
              "color": "#EBF0F8"
             },
             "line": {
              "color": "white"
             }
            },
            "header": {
             "fill": {
              "color": "#C8D4E3"
             },
             "line": {
              "color": "white"
             }
            },
            "type": "table"
           }
          ]
         },
         "layout": {
          "annotationdefaults": {
           "arrowcolor": "#2a3f5f",
           "arrowhead": 0,
           "arrowwidth": 1
          },
          "coloraxis": {
           "colorbar": {
            "outlinewidth": 0,
            "ticks": ""
           }
          },
          "colorscale": {
           "diverging": [
            [
             0,
             "#8e0152"
            ],
            [
             0.1,
             "#c51b7d"
            ],
            [
             0.2,
             "#de77ae"
            ],
            [
             0.3,
             "#f1b6da"
            ],
            [
             0.4,
             "#fde0ef"
            ],
            [
             0.5,
             "#f7f7f7"
            ],
            [
             0.6,
             "#e6f5d0"
            ],
            [
             0.7,
             "#b8e186"
            ],
            [
             0.8,
             "#7fbc41"
            ],
            [
             0.9,
             "#4d9221"
            ],
            [
             1,
             "#276419"
            ]
           ],
           "sequential": [
            [
             0,
             "#0d0887"
            ],
            [
             0.1111111111111111,
             "#46039f"
            ],
            [
             0.2222222222222222,
             "#7201a8"
            ],
            [
             0.3333333333333333,
             "#9c179e"
            ],
            [
             0.4444444444444444,
             "#bd3786"
            ],
            [
             0.5555555555555556,
             "#d8576b"
            ],
            [
             0.6666666666666666,
             "#ed7953"
            ],
            [
             0.7777777777777778,
             "#fb9f3a"
            ],
            [
             0.8888888888888888,
             "#fdca26"
            ],
            [
             1,
             "#f0f921"
            ]
           ],
           "sequentialminus": [
            [
             0,
             "#0d0887"
            ],
            [
             0.1111111111111111,
             "#46039f"
            ],
            [
             0.2222222222222222,
             "#7201a8"
            ],
            [
             0.3333333333333333,
             "#9c179e"
            ],
            [
             0.4444444444444444,
             "#bd3786"
            ],
            [
             0.5555555555555556,
             "#d8576b"
            ],
            [
             0.6666666666666666,
             "#ed7953"
            ],
            [
             0.7777777777777778,
             "#fb9f3a"
            ],
            [
             0.8888888888888888,
             "#fdca26"
            ],
            [
             1,
             "#f0f921"
            ]
           ]
          },
          "colorway": [
           "#636efa",
           "#EF553B",
           "#00cc96",
           "#ab63fa",
           "#FFA15A",
           "#19d3f3",
           "#FF6692",
           "#B6E880",
           "#FF97FF",
           "#FECB52"
          ],
          "font": {
           "color": "#2a3f5f"
          },
          "geo": {
           "bgcolor": "white",
           "lakecolor": "white",
           "landcolor": "#E5ECF6",
           "showlakes": true,
           "showland": true,
           "subunitcolor": "white"
          },
          "hoverlabel": {
           "align": "left"
          },
          "hovermode": "closest",
          "mapbox": {
           "style": "light"
          },
          "paper_bgcolor": "white",
          "plot_bgcolor": "#E5ECF6",
          "polar": {
           "angularaxis": {
            "gridcolor": "white",
            "linecolor": "white",
            "ticks": ""
           },
           "bgcolor": "#E5ECF6",
           "radialaxis": {
            "gridcolor": "white",
            "linecolor": "white",
            "ticks": ""
           }
          },
          "scene": {
           "xaxis": {
            "backgroundcolor": "#E5ECF6",
            "gridcolor": "white",
            "gridwidth": 2,
            "linecolor": "white",
            "showbackground": true,
            "ticks": "",
            "zerolinecolor": "white"
           },
           "yaxis": {
            "backgroundcolor": "#E5ECF6",
            "gridcolor": "white",
            "gridwidth": 2,
            "linecolor": "white",
            "showbackground": true,
            "ticks": "",
            "zerolinecolor": "white"
           },
           "zaxis": {
            "backgroundcolor": "#E5ECF6",
            "gridcolor": "white",
            "gridwidth": 2,
            "linecolor": "white",
            "showbackground": true,
            "ticks": "",
            "zerolinecolor": "white"
           }
          },
          "shapedefaults": {
           "line": {
            "color": "#2a3f5f"
           }
          },
          "ternary": {
           "aaxis": {
            "gridcolor": "white",
            "linecolor": "white",
            "ticks": ""
           },
           "baxis": {
            "gridcolor": "white",
            "linecolor": "white",
            "ticks": ""
           },
           "bgcolor": "#E5ECF6",
           "caxis": {
            "gridcolor": "white",
            "linecolor": "white",
            "ticks": ""
           }
          },
          "title": {
           "x": 0.05
          },
          "xaxis": {
           "automargin": true,
           "gridcolor": "white",
           "linecolor": "white",
           "ticks": "",
           "title": {
            "standoff": 15
           },
           "zerolinecolor": "white",
           "zerolinewidth": 2
          },
          "yaxis": {
           "automargin": true,
           "gridcolor": "white",
           "linecolor": "white",
           "ticks": "",
           "title": {
            "standoff": 15
           },
           "zerolinecolor": "white",
           "zerolinewidth": 2
          }
         }
        },
        "title": {
         "text": "Stream Time vs Income Change"
        },
        "xaxis": {
         "anchor": "y",
         "domain": [
          0,
          1
         ],
         "title": {
          "text": "Stream time"
         }
        },
        "yaxis": {
         "anchor": "x",
         "domain": [
          0,
          1
         ],
         "title": {
          "text": "Income Change"
         }
        }
       }
      },
      "text/html": [
       "<div>\n",
       "        \n",
       "        \n",
       "            <div id=\"480edfbb-f0d6-4eb9-a0bb-2c8579ac9b9c\" class=\"plotly-graph-div\" style=\"height:525px; width:100%;\"></div>\n",
       "            <script type=\"text/javascript\">\n",
       "                require([\"plotly\"], function(Plotly) {\n",
       "                    window.PLOTLYENV=window.PLOTLYENV || {};\n",
       "                    \n",
       "                if (document.getElementById(\"480edfbb-f0d6-4eb9-a0bb-2c8579ac9b9c\")) {\n",
       "                    Plotly.newPlot(\n",
       "                        '480edfbb-f0d6-4eb9-a0bb-2c8579ac9b9c',\n",
       "                        [{\"hovertemplate\": \"Stream time=%{x}<br>Income Change=%{y}<extra></extra>\", \"legendgroup\": \"\", \"marker\": {\"color\": \"#636efa\", \"symbol\": \"circle\"}, \"mode\": \"markers\", \"name\": \"\", \"orientation\": \"v\", \"showlegend\": false, \"type\": \"scatter\", \"x\": [13920, 11910, 15015, 9870, 10530, 10980, 15810, 11085, 11385, 10785, 10350, 10995, 12195, 10875, 15510, 13935, 13425, 9975, 13725, 10665, 15105, 14070, 13695, 14610, 11775, 12255, 11340, 12885, 11055, 13980, 12900, 13260, 16380, 9360, 7650, 8250, 8100, 8175, 7080, 6810, 11025, 8340, 8685, 10875, 7845, 9600, 9990, 9990, 13350, 11940, 12060, 11400, 10125, 11970, 12510, 14070, 13755, 12600, 13185, 14070, 13515, 11595, 13365, 16185, 17850, 6855, 8325, 6825, 7110, 6375, 5970, 6150, 6495, 7080, 5355, 6960, 7290, 5685, 8070, 9705, 7680, 12075, 13260, 14895, 14895, 14220, 11220, 10170, 18030, 13740, 14520, 12330, 15840, 12840, 13560, 14775, 15540, 3630, 4170, 5205, 3720, 4965, 4410, 3870, 6615, 4530, 3570, 4005, 4995, 7170, 11940, 6900, 6570, 11310, 9555, 16095, 14400, 12900, 11205, 11925, 15765, 12195, 13365, 13875, 14700, 9750, 9600, 10935, 10260, 9210, 10020, 9090, 11040, 8235, 10695, 11145, 9060, 11025, 10170, 11235, 11250, 12300, 13350, 13635, 11685, 12435, 12960, 11970, 13110, 13020, 13125, 12960, 12075, 13530, 14160, 12720, 10620, 11385, 10980, 12240, 11640, 10695, 10755, 10605, 10560, 13590, 12615, 8565, 10350, 9345, 10590, 10500, 9840, 4860, 3675, 3645, 2805, 3750, 3360, 4140, 5220, 7875, 4395, 5730, 4110, 5370, 5280, 8235, 6600, 6495, 18150, 8145, 8700, 7680, 10380, 8985, 10650, 12075, 8985, 12240, 10260, 10965, 8055, 9900, 16575, 15240, 11460, 10470, 12090, 11490, 14160, 11760, 10770, 10140, 8775, 10815, 12765, 10980, 13035, 11475, 11910, 13770, 13560, 40545, 40905, 32115, 41685, 12750, 10020, 10815, 12360, 6750, 14895, 12435, 11325, 12180, 13185, 14550, 11910, 13365, 9075, 11145, 10980, 11310, 11055, 10020, 12930, 6195, 9330, 7965, 10335, 10170, 6015, 11790, 11910, 13695, 10980, 9645, 10800, 7590, 9840, 6960, 7110, 10365, 9735, 9165, 6570, 11280, 7200, 9180, 8970, 9465, 7770, 13665, 11595, 10095, 12900, 13815, 15645, 13815, 12045, 12825, 14865, 14235, 13035, 15540, 14190, 13890, 13215, 13530, 13800, 13095, 18210, 17055, 10080, 7590, 12420, 6840, 8430, 7980, 7815, 6795, 8475, 7605, 5820, 7545, 6585, 17865, 4155, 8055, 5685, 9855, 8205, 12225, 10710, 10080, 14985, 16365, 12210, 9435, 8685, 8670, 9090, 8295, 8775, 5775, 8595, 7275, 9060, 9075, 8115, 8025, 6015, 11430, 9615, 8835, 14070, 12315, 12060, 12480, 12075, 12480, 13245, 11925, 11790, 12630, 11490, 11115, 11910, 11220, 16695, 16050, 17400, 16650, 17235, 19365, 18510, 19605, 18495, 20550, 22140, 19935, 12285, 9585, 12330, 9975, 10965, 10815, 9705, 9345, 9090, 11205, 7800, 8475, 9870, 9435, 8280, 43350, 42300, 44145, 43965, 41430, 40830, 42810, 44295, 12705, 11535, 15945, 12675, 14955, 13260, 15150, 15210, 16065, 15825, 15060, 16110, 14985, 15555, 16200, 15285, 13605, 27810, 29085, 26715, 25080, 12210, 17400, 10080, 10230, 6975, 5205, 8775, 9420, 12735, 7830, 10530, 13980, 15330, 9075, 10035, 8775, 11085, 11310, 9255, 9000, 11820, 13095, 12195, 10455, 12390, 14295, 12705, 9615, 14115, 14295, 14295, 18840, 13860, 17775, 19290, 17025, 17040, 10695, 17295, 17430, 14445, 14310, 15795, 17610, 13500, 13905, 18390, 4590, 10455, 14115, 8085, 13275, 5430, 10545, 10020, 6720, 7770, 5190, 5805, 10980, 11460, 12900, 17370, 14400, 12690, 16695, 17250, 16200, 16800, 11160, 15795, 13305, 16125, 11880, 16965, 22425, 16260, 19275, 21045, 18480, 16380, 14580, 16860, 14895, 17835, 20010, 18645, 20070, 16290, 15345, 17685, 19260, 18435, 18390, 16530, 21000, 17535], \"xaxis\": \"x\", \"y\": [-36295.11, -7912.099999999991, -21266.29999999999, -57068.869999999995, -24214.5, -51934.17999999999, -39877.399999999994, -61972.53999999999, -26313.62999999999, -44781.73999999999, -58999.439999999995, -23594.11, -57707.59, -55145.719999999994, -53429.7, -51628.149999999994, -51658.869999999995, -519.1900000000005, 4253.68, -967.8400000000001, 843.8199999999997, 359.7600000000002, 3344.9500000000007, 4098.24, 2471.039999999999, 2770.4500000000007, 3308.74, 3195.0499999999993, 2252.289999999999, 2831.7199999999993, 4927.289999999999, 8830.89, 11124.369999999999, 4950.549999999999, 2336.029999999999, 3608.2700000000004, -274.3999999999978, 5469.41, 4816.23, 19811.210000000003, 24202.100000000002, 26118.3, 13912.560000000001, 33663.68000000001, 29532.680000000004, 48937.5, 19131.780000000002, 20809.350000000002, -20056.75, -12146.409999999996, -22381.5, -14806.220000000001, -21393.39, -13623.189999999995, -13739.54, -19612.979999999996, -13600.329999999994, -24379.18, -14643.29, 6431.939999999995, -16045.150000000001, -20643.71, -19782.85, -36547.119999999995, -9944.449999999997, 3036.010000000002, 27360.629999999997, -115.19999999999709, 1995.2699999999968, 6881.5999999999985, 36132.579999999994, 33412.74, 18706.590000000004, 19111.050000000003, 4029.980000000003, 12244.330000000002, 8346.730000000003, 11799.739999999998, 23431.46, 34015.60999999999, 29200.140000000007, -446.90000000000873, 28996.050000000003, 1263.4700000000012, -9430.530000000006, -12155.75, -4303.770000000004, -4959.610000000001, -12687.310000000005, -4406.530000000006, -20837.83, -12380.570000000007, 5661.619999999995, -14823.380000000005, -7580.040000000001, 17915.410000000003, -6802.340000000004, 4875.610000000001, -4061.8499999999985, -3363.1399999999994, -1007.8099999999977, -4501.09, -5619.0599999999995, -279.369999999999, 2754.7999999999993, 8408.350000000002, 3448.3899999999994, -1427.1800000000003, -783.489999999998, 1517.42, 15693.98, 5456.07, 928.4000000000015, 1277.2400000000016, 3264.460000000001, 663.710000000001, 10559.060000000001, 7137.4000000000015, 1810.1500000000015, 3054.540000000001, 1011.0300000000007, 1804.6599999999999, 2269.2300000000014, 13787.59, -263.40999999999985, 1212.579999999998, 15804.36, 11068.059999999998, 134.79000000000087, -4591.1500000000015, -3233.6800000000003, -7295.810000000001, -3892.59, -5095.850000000002, 10184.269999999997, -5719.200000000001, -2699.8199999999997, -5374.830000000002, -6906.510000000002, -4910.580000000002, -6532.330000000002, 12714.169999999998, 12032.19, 11131.859999999999, 11917.679999999998, 15724.53, 11941.31, 30428.03, 18630.270000000004, 16006.539999999999, 19451.239999999998, 18561.04, 18192.660000000003, 19441.590000000004, 27606.200000000004, 31449.11, -4417.790000000001, 23043.390000000007, -2948.25, -1913.3600000000006, 1052.4100000000035, 170.34999999999854, 2119.8499999999985, -2652.0999999999985, -3336.979999999996, -8826.68, -8358.580000000002, -8588.21, -8489.379999999997, -10045.220000000001, -3992.290000000001, -16262.89, -4911.0, -149.20999999999913, -3822.0600000000013, -9405.539999999999, -10982.83, -4869.450000000001, -9251.06, -4914.509999999998, 10445.400000000001, 35480.55, 2535.9000000000015, 184.97000000000116, 3363.6100000000006, 8334.009999999998, 4541.4000000000015, 16572.55, 13278.84, 25274.859999999997, 47799.56, 40211.83, -17968.109999999986, -31031.87999999999, 11129.950000000012, 5192.320000000007, 21058.37000000001, 7284.25, -19897.979999999996, 15433.550000000003, -18150.39, -3426.5099999999948, 206.2100000000064, 7384.330000000002, 28186.880000000005, 63964.5, 37071.68000000001, 5855.769999999999, 3798.6100000000006, 963.710000000001, 3230.290000000001, 1011.7800000000007, 1569.5, -718.5, 1322.1499999999996, 7207.840000000002, 3937.6900000000005, 4942.359999999999, 6850.219999999999, 5506.210000000001, 6464.789999999999, 11317.35, 6709.99, -3497.9900000000002, -2260.4700000000003, -2829.3300000000004, -2420.1500000000005, -514.31, -713.8900000000001, -324.19000000000005, -1382.6100000000001, -698.72, 11417.36, 5683.35, 6651.59, 229.23999999999978, 8058.49, 4555.55, 4964.8, 37922.65000000001, 10875.0, -886.7599999999948, -5483.659999999996, 5707.340000000004, 4782.460000000006, 639.2700000000041, -7350.32, -23209.609999999997, 2326.9900000000052, -19989.839999999997, -16436.019999999997, -4679.0, -14302.059999999998, -7240.309999999998, -3848.209999999999, 18289.48000000001, 21150.430000000008, 19350.53, 4512.419999999998, -12627.979999999996, -6160.1500000000015, -17315.519999999997, -15879.32, -14591.0, -25805.869999999995, -18094.729999999996, -32777.82, -15360.619999999995, -26774.71, -25526.47, -14953.309999999998, 21715.320000000007, -6295.199999999997, 3228.1899999999987, 2988.790000000001, 4775.240000000002, 13074.059999999998, 12110.529999999999, 23562.86, 16162.64, 15977.779999999999, 35588.17, 22018.679999999997, 16267.630000000001, -6059.32, 1737.9999999999964, 7283.48, -683.6800000000003, -8728.48, -418.8700000000026, -1209.2900000000009, -1486.8899999999994, 16386.399999999998, 10537.439999999999, 3528.0300000000007, 1703.9300000000003, 6415.83, -573.3899999999994, -738.0799999999999, 627.7000000000007, 2384.620000000001, 763.2700000000004, 9201.44, 4690.48, 1731.6900000000005, -1362.4899999999998, 2389.870000000001, 9841.4, 259.50999999999976, 768.44, -753.6100000000001, 1516.85, -289.5400000000002, 2080.72, 1077.7199999999998, 942.9899999999998, -124.85000000000014, 74.75999999999999, -119.84000000000015, -369.3900000000001, -639.9399999999996, 1956.4000000000005, -2057.8599999999997, -690.6399999999994, -1574.37, -2117.4799999999996, -574.4699999999993, 756.3000000000002, 1360.5299999999997, -780.5199999999995, -316.02999999999975, -695.71, -2867.04, -2058.5599999999995, -1948.8399999999992, -2992.6899999999996, -18933.449999999997, -20055.369999999995, -22402.079999999998, -20155.489999999998, -19866.1, -20066.249999999996, -7740.789999999994, -7052.219999999994, -15685.639999999996, -17935.709999999995, -21164.889999999996, -15934.679999999997, -17007.78, -16938.069999999996, -4313.22, -4902.96, -4393.46, -4818.02, -4798.04, -4618.0, -4458.16, -4753.09, -4863.05, -4823.14, -4668.36, -4708.27, -2969.2700000000004, 6567.0, -1697.3199999999997, -6148.740000000002, -4317.5, -4746.639999999999, -7122.209999999999, -8339.720000000001, -5300.630000000001, -7815.810000000001, -10225.880000000001, -7032.369999999999, -7581.170000000002, -10166.11, -11887.82, 34.959999999999994, 19.97999999999999, 5.0, 0.009999999999990905, 14.97999999999999, 34.97, -9.969999999999999, -74.87, -683.4699999999993, 6176.67, 1079.1200000000008, -204.17000000000007, 519.7399999999998, -13.549999999999272, -673.9500000000007, -5292.08, 607.4799999999996, 503.4300000000003, -4509.63, -345.9500000000007, -3141.6100000000006, -2292.8500000000004, -6446.73, -3795.6000000000004, -5164.39, 0.0, 19.96, -29.95, -24.96, 9527.220000000001, 12375.82, 6627.340000000001, 6941.410000000001, 6886.55, 4241.62, 6866.320000000001, 8573.150000000001, 7375.61, 5698.81, 9701.04, 15249.870000000003, 13747.93, 3677.670000000001, -853.25, 2410.29, -1097.7599999999998, -918.06, -1446.5499999999997, -1975.9899999999998, -1471.9799999999996, -1731.54, -1237.4299999999998, -1701.6999999999998, -1841.33, -1422.27, -958.1099999999997, -878.1899999999996, 354.3000000000002, 6049.780000000001, 1956.37, 953.0099999999984, 13443.149999999998, 2374.2999999999993, -362.8199999999997, 1295.5599999999977, 225.77999999999884, -1457.1100000000006, -14536.800000000001, 1526.630000000001, 679.489999999998, -3021.880000000001, -3287.4500000000007, -2441.9400000000023, -4314.290000000001, -4778.959999999999, -2484.66, -12430.900000000001, 7739.82, 11012.46, -11058.870000000003, -7225.940000000002, -19786.58, -9017.940000000002, -11932.2, -23045.300000000003, -13913.080000000002, -23494.260000000002, -17825.65, -17106.920000000002, -17959.97, -20105.870000000003, -15474.940000000002, 11265.260000000002, 2834.9300000000003, 2202.989999999998, -6505.0899999999965, -17664.17, -30825.15, -17646.309999999998, -18036.050000000003, -25142.010000000002, -21818.519999999997, -28879.95, -19582.730000000003, -8853.589999999997, -1528.3099999999977, 5472.810000000005, 85172.69999999998, 26478.799999999996, 2799.6700000000055, 5111.040000000001, -3617.8600000000006, -5574.4699999999975, -2699.3899999999994, 1297.3300000000017, 10084.530000000006, 5823.310000000005, 27484.61, 16247.410000000003, 13517.690000000002, 21826.270000000004, 12619.510000000002, 21341.36, 16720.910000000003, 35678.73, 35882.76], \"yaxis\": \"y\"}, {\"hovertemplate\": \"<b>OLS trendline</b><br>Income Change = 0.0956767 * Stream time + -1567.94<br>R<sup>2</sup>=0.001319<br><br>Stream time=%{x}<br>Income Change=%{y} <b>(trend)</b><extra></extra>\", \"legendgroup\": \"\", \"marker\": {\"color\": \"#636efa\", \"symbol\": \"circle\"}, \"mode\": \"lines\", \"name\": \"\", \"showlegend\": false, \"type\": \"scatter\", \"x\": [2805, 3360, 3570, 3630, 3645, 3675, 3720, 3750, 3870, 4005, 4110, 4140, 4155, 4170, 4395, 4410, 4530, 4590, 4860, 4965, 4995, 5190, 5205, 5205, 5220, 5280, 5355, 5370, 5430, 5685, 5685, 5730, 5775, 5805, 5820, 5970, 6015, 6015, 6150, 6195, 6375, 6495, 6495, 6570, 6570, 6585, 6600, 6615, 6720, 6750, 6795, 6810, 6825, 6840, 6855, 6900, 6960, 6960, 6975, 7080, 7080, 7110, 7110, 7170, 7200, 7275, 7290, 7545, 7590, 7590, 7605, 7650, 7680, 7680, 7770, 7770, 7800, 7815, 7830, 7845, 7875, 7965, 7980, 8025, 8055, 8055, 8070, 8085, 8100, 8115, 8145, 8175, 8205, 8235, 8235, 8250, 8280, 8295, 8325, 8340, 8430, 8475, 8475, 8565, 8595, 8670, 8685, 8685, 8700, 8775, 8775, 8775, 8775, 8835, 8970, 8985, 8985, 9000, 9060, 9060, 9075, 9075, 9075, 9090, 9090, 9090, 9165, 9180, 9210, 9255, 9330, 9345, 9345, 9360, 9420, 9435, 9435, 9465, 9555, 9585, 9600, 9600, 9615, 9615, 9645, 9705, 9705, 9735, 9750, 9840, 9840, 9855, 9870, 9870, 9900, 9975, 9975, 9990, 9990, 10020, 10020, 10020, 10020, 10035, 10080, 10080, 10080, 10095, 10125, 10140, 10170, 10170, 10170, 10230, 10260, 10260, 10335, 10350, 10350, 10365, 10380, 10455, 10455, 10470, 10500, 10530, 10530, 10545, 10560, 10590, 10605, 10620, 10650, 10665, 10695, 10695, 10695, 10710, 10755, 10770, 10785, 10800, 10815, 10815, 10815, 10875, 10875, 10935, 10965, 10965, 10980, 10980, 10980, 10980, 10980, 10980, 10995, 11025, 11025, 11040, 11055, 11055, 11085, 11085, 11115, 11145, 11145, 11160, 11205, 11205, 11220, 11220, 11235, 11250, 11280, 11310, 11310, 11310, 11325, 11340, 11385, 11385, 11400, 11430, 11460, 11460, 11475, 11490, 11490, 11535, 11595, 11595, 11640, 11685, 11760, 11775, 11790, 11790, 11820, 11880, 11910, 11910, 11910, 11910, 11910, 11925, 11925, 11940, 11940, 11970, 11970, 12045, 12060, 12060, 12075, 12075, 12075, 12075, 12090, 12180, 12195, 12195, 12195, 12210, 12210, 12225, 12240, 12240, 12255, 12285, 12300, 12315, 12330, 12330, 12360, 12390, 12420, 12435, 12435, 12480, 12480, 12510, 12600, 12615, 12630, 12675, 12690, 12705, 12705, 12720, 12735, 12750, 12765, 12825, 12840, 12885, 12900, 12900, 12900, 12900, 12930, 12960, 12960, 13020, 13035, 13035, 13095, 13095, 13110, 13125, 13185, 13185, 13215, 13245, 13260, 13260, 13260, 13275, 13305, 13350, 13350, 13365, 13365, 13365, 13425, 13500, 13515, 13530, 13530, 13560, 13560, 13590, 13605, 13635, 13665, 13695, 13695, 13725, 13740, 13755, 13770, 13800, 13815, 13815, 13860, 13875, 13890, 13905, 13920, 13935, 13980, 13980, 14070, 14070, 14070, 14070, 14115, 14115, 14160, 14160, 14190, 14220, 14235, 14295, 14295, 14295, 14310, 14400, 14400, 14445, 14520, 14550, 14580, 14610, 14700, 14775, 14865, 14895, 14895, 14895, 14895, 14955, 14985, 14985, 15015, 15060, 15105, 15150, 15210, 15240, 15285, 15330, 15345, 15510, 15540, 15540, 15555, 15645, 15765, 15795, 15795, 15810, 15825, 15840, 15945, 16050, 16065, 16095, 16110, 16125, 16185, 16200, 16200, 16260, 16290, 16365, 16380, 16380, 16530, 16575, 16650, 16695, 16695, 16800, 16860, 16965, 17025, 17040, 17055, 17235, 17250, 17295, 17370, 17400, 17400, 17430, 17535, 17610, 17685, 17775, 17835, 17850, 17865, 18030, 18150, 18210, 18390, 18390, 18435, 18480, 18495, 18510, 18645, 18840, 19260, 19275, 19290, 19365, 19605, 19935, 20010, 20070, 20550, 21000, 21045, 22140, 22425, 25080, 26715, 27810, 29085, 32115, 40545, 40830, 40905, 41430, 41685, 42300, 42810, 43350, 43965, 44145, 44295], \"xaxis\": \"x\", \"y\": [-1299.5673346257586, -1246.4667721840003, -1226.374667476308, -1220.6340661312531, -1219.1989157949895, -1216.328615122462, -1212.0231641136709, -1209.1528634411434, -1197.6716607510334, -1184.7553077246598, -1174.7092553708137, -1171.8389546982862, -1170.4038043620226, -1168.968654025759, -1147.4413989818029, -1146.006248645539, -1134.5250459554293, -1128.7844446103743, -1102.951738557627, -1092.905686203781, -1090.0353855312535, -1071.3784311598251, -1069.9432808235613, -1069.9432808235613, -1068.5081304872976, -1062.7675291422427, -1055.5917774609238, -1054.1566271246602, -1048.4160257796052, -1024.0184700631219, -1024.0184700631219, -1019.7130190543306, -1015.4075680455395, -1012.537267373012, -1011.1021170367483, -996.7506136741109, -992.4451626653198, -992.4451626653198, -979.5288096389462, -975.223358630155, -958.0015545949901, -946.5203519048803, -946.5203519048803, -939.3446002235617, -939.3446002235617, -937.9094498872979, -936.4742995510342, -935.0391492147704, -924.9930968609243, -922.1227961883968, -917.8173451796057, -916.382194843342, -914.9470445070782, -913.5118941708145, -912.0767438345507, -907.7712928257596, -902.0306914807046, -902.0306914807046, -900.5955411444409, -890.5494887905948, -890.5494887905948, -887.6791881180673, -887.6791881180673, -881.9385867730124, -879.0682861004849, -871.8925344191663, -870.4573840829025, -846.0598283664191, -841.7543773576278, -841.7543773576278, -840.3192270213641, -836.013776012573, -833.1434753400455, -833.1434753400455, -824.5325733224631, -824.5325733224631, -821.6622726499356, -820.2271223136719, -818.7919719774081, -817.3568216411444, -814.4865209686169, -805.8756189510345, -804.4404686147708, -800.1350176059797, -797.2647169334522, -797.2647169334522, -795.8295665971884, -794.3944162609247, -792.9592659246609, -791.5241155883972, -788.6538149158697, -785.7835142433423, -782.9132135708148, -780.0429128982873, -780.0429128982873, -778.6077625620236, -775.7374618894962, -774.3023115532325, -771.432010880705, -769.9968605444412, -761.3859585268589, -757.0805075180676, -757.0805075180676, -748.4696055004853, -745.5993048279578, -738.4235531466392, -736.9884028103754, -736.9884028103754, -735.5532524741117, -728.377500792793, -728.377500792793, -728.377500792793, -728.377500792793, -722.6368994477381, -709.7205464213645, -708.2853960851007, -708.2853960851007, -706.850245748837, -701.1096444037821, -701.1096444037821, -699.6744940675184, -699.6744940675184, -699.6744940675184, -698.2393437312546, -698.2393437312546, -698.2393437312546, -691.063592049936, -689.6284417136723, -686.7581410411448, -682.4526900323535, -675.2769383510349, -673.8417880147712, -673.8417880147712, -672.4066376785074, -666.6660363334526, -665.2308859971888, -665.2308859971888, -662.3605853246613, -653.749683307079, -650.8793826345515, -649.4442322982877, -649.4442322982877, -648.009081962024, -648.009081962024, -645.1387812894965, -639.3981799444416, -639.3981799444416, -636.5278792719141, -635.0927289356504, -626.481826918068, -626.481826918068, -625.0466765818043, -623.6115262455405, -623.6115262455405, -620.741225573013, -613.5654738916944, -613.5654738916944, -612.1303235554307, -612.1303235554307, -609.2600228829032, -609.2600228829032, -609.2600228829032, -609.2600228829032, -607.8248725466394, -603.5194215378483, -603.5194215378483, -603.5194215378483, -602.0842712015846, -599.2139705290571, -597.7788201927933, -594.9085195202659, -594.9085195202659, -594.9085195202659, -589.167918175211, -586.2976175026835, -586.2976175026835, -579.1218658213648, -577.6867154851011, -577.6867154851011, -576.2515651488374, -574.8164148125736, -567.640663131255, -567.640663131255, -566.2055127949913, -563.3352121224638, -560.4649114499363, -560.4649114499363, -559.0297611136725, -557.5946107774089, -554.7243101048814, -553.2891597686177, -551.8540094323539, -548.9837087598264, -547.5485584235627, -544.6782577510353, -544.6782577510353, -544.6782577510353, -543.2431074147714, -538.9376564059803, -537.5025060697167, -536.0673557334528, -534.6322053971892, -533.1970550609253, -533.1970550609253, -533.1970550609253, -527.4564537158706, -527.4564537158706, -521.7158523708156, -518.8455516982881, -518.8455516982881, -517.4104013620242, -517.4104013620242, -517.4104013620242, -517.4104013620242, -517.4104013620242, -517.4104013620242, -515.9752510257606, -513.1049503532331, -513.1049503532331, -511.6698000169695, -510.2346496807056, -510.2346496807056, -507.3643490081781, -507.3643490081781, -504.49404833565086, -501.62374766312337, -501.62374766312337, -500.1885973268595, -495.8831463180684, -495.8831463180684, -494.4479959818045, -494.4479959818045, -493.0128456455409, -491.57769530927726, -488.70739463674977, -485.8370939642223, -485.8370939642223, -485.8370939642223, -484.4019436279584, -482.9667932916948, -478.66134228290366, -478.66134228290366, -477.2261919466398, -474.3558912741123, -471.4855906015848, -471.4855906015848, -470.0504402653212, -468.6152899290573, -468.6152899290573, -464.3098389202662, -458.5692375752112, -458.5692375752112, -454.2637865664201, -449.95833555762897, -442.78258387631035, -441.3474335400465, -439.91228320378286, -439.91228320378286, -437.04198253125537, -431.3013811862004, -428.4310805136729, -428.4310805136729, -428.4310805136729, -428.4310805136729, -428.4310805136729, -426.99593017740926, -426.99593017740926, -425.5607798411454, -425.5607798411454, -422.6904791686179, -422.6904791686179, -415.5147274872993, -414.07957715103566, -414.07957715103566, -412.6444268147718, -412.6444268147718, -412.6444268147718, -412.6444268147718, -411.2092764785082, -402.5983744609257, -401.16322412466207, -401.16322412466207, -401.16322412466207, -399.7280737883982, -399.7280737883982, -398.2929234521346, -396.8577731158707, -396.8577731158707, -395.4226227796071, -392.5523221070796, -391.11717177081596, -389.6820214345521, -388.24687109828847, -388.24687109828847, -385.376570425761, -382.5062697532335, -379.635969080706, -378.20081874444236, -378.20081874444236, -373.895367735651, -373.895367735651, -371.02506706312374, -362.41416504554127, -360.9790147092774, -359.5438643730138, -355.23841336422265, -353.8032630279588, -352.36811269169516, -352.36811269169516, -350.9329623554313, -349.49781201916767, -348.0626616829038, -346.6275113466402, -340.8869100015852, -339.45175966532156, -335.14630865653044, -333.7111583202666, -333.7111583202666, -333.7111583202666, -333.7111583202666, -330.8408576477391, -327.9705569752116, -327.9705569752116, -322.22995563015684, -320.794805293893, -320.794805293893, -315.054203948838, -315.054203948838, -313.61905361257436, -312.1839032763105, -306.44330193125575, -306.44330193125575, -303.57300125872825, -300.70270058620076, -299.2675502499369, -299.2675502499369, -299.2675502499369, -297.83239991367327, -294.9620992411458, -290.65664823235466, -290.65664823235466, -289.2214978960908, -289.2214978960908, -289.2214978960908, -283.48089655103604, -276.3051448697172, -274.86999453345356, -273.43484419718993, -273.43484419718993, -270.56454352466244, -270.56454352466244, -267.69424285213495, -266.2590925158711, -263.3887918433436, -260.51849117081633, -257.64819049828884, -257.64819049828884, -254.77788982576135, -253.3427394894975, -251.90758915323386, -250.47243881697023, -247.60213814444273, -246.16698780817887, -246.16698780817887, -241.86153679938775, -240.4263864631239, -238.99123612686026, -237.55608579059663, -236.12093545433277, -234.68578511806913, -230.38033410927778, -230.38033410927778, -221.76943209169553, -221.76943209169553, -221.76943209169553, -221.76943209169553, -217.46398108290418, -217.46398108290418, -213.15853007411306, -213.15853007411306, -210.28822940158557, -207.41792872905808, -205.98277839279444, -200.24217704773946, -200.24217704773946, -200.24217704773946, -198.80702671147583, -190.19612469389335, -190.19612469389335, -185.89067368510223, -178.71492200378339, -175.84462133125612, -172.97432065872863, -170.10401998620114, -161.49311796861866, -154.31736628730005, -145.70646426971757, -142.83616359719008, -142.83616359719008, -142.83616359719008, -142.83616359719008, -137.09556225213532, -134.22526157960783, -134.22526157960783, -131.35496090708034, -127.04950989828922, -122.74405888949786, -118.43860788070674, -112.69800653565176, -109.82770586312427, -105.52225485433314, -101.21680384554202, -99.78165350927816, -83.99499981037707, -81.1246991378498, -81.1246991378498, -79.68954880158594, -71.07864678400347, -59.59744409389373, -56.727143421366236, -56.727143421366236, -55.291993085102604, -53.856842748838744, -52.42169241257511, -42.375640058729005, -32.3295877048829, -30.894437368619037, -28.024136696091546, -26.588986359827913, -25.153836023564054, -19.413234678509298, -17.978084342245438, -17.978084342245438, -12.237482997190455, -9.367182324662963, -2.191430643344347, -0.7562803070807149, -0.7562803070807149, 13.595223055556744, 17.900674064347868, 25.076425745666484, 29.381876754457608, 29.381876754457608, 39.427929108303715, 45.1685304533587, 55.214582807204806, 60.95518415225979, 62.39033448852365, 63.82548482478728, 81.047288859952, 82.48243919621586, 86.78789020500699, 93.9636418863256, 96.8339425588531, 96.8339425588531, 99.70424323138059, 109.7502955852267, 116.92604726654531, 124.10179894786393, 132.7127009654464, 138.45330231050139, 139.88845264676502, 141.32360298302888, 157.11025668192997, 168.5914593720397, 174.3320607170947, 191.55386475225941, 191.55386475225941, 195.85931576105077, 200.1647667698419, 201.59991710610552, 203.03506744236938, 215.95142046874298, 234.60837484017134, 274.792584255556, 276.2277345918196, 277.6628849280835, 284.8386366094021, 307.8010419896218, 339.374349387424, 346.5501010687426, 352.2907024137976, 398.215513174237, 441.2700232621489, 445.57547427094005, 550.3414488181925, 577.6093052072033, 831.6309147258839, 988.0623013786308, 1092.8282759258832, 1214.8160545083006, 1504.7164224335747, 2311.270911413792, 2338.5387678028032, 2345.714519484122, 2395.944781253352, 2420.3423369698357, 2479.1835007566488, 2527.978612189616, 2579.64402429511, 2638.485188081923, 2655.7069921170882, 2670.0584954797255], \"yaxis\": \"y\"}],\n",
       "                        {\"legend\": {\"tracegroupgap\": 0}, \"template\": {\"data\": {\"bar\": [{\"error_x\": {\"color\": \"#2a3f5f\"}, \"error_y\": {\"color\": \"#2a3f5f\"}, \"marker\": {\"line\": {\"color\": \"#E5ECF6\", \"width\": 0.5}}, \"type\": \"bar\"}], \"barpolar\": [{\"marker\": {\"line\": {\"color\": \"#E5ECF6\", \"width\": 0.5}}, \"type\": \"barpolar\"}], \"carpet\": [{\"aaxis\": {\"endlinecolor\": \"#2a3f5f\", \"gridcolor\": \"white\", \"linecolor\": \"white\", \"minorgridcolor\": \"white\", \"startlinecolor\": \"#2a3f5f\"}, \"baxis\": {\"endlinecolor\": \"#2a3f5f\", \"gridcolor\": \"white\", \"linecolor\": \"white\", \"minorgridcolor\": \"white\", \"startlinecolor\": \"#2a3f5f\"}, \"type\": \"carpet\"}], \"choropleth\": [{\"colorbar\": {\"outlinewidth\": 0, \"ticks\": \"\"}, \"type\": \"choropleth\"}], \"contour\": [{\"colorbar\": {\"outlinewidth\": 0, \"ticks\": \"\"}, \"colorscale\": [[0.0, \"#0d0887\"], [0.1111111111111111, \"#46039f\"], [0.2222222222222222, \"#7201a8\"], [0.3333333333333333, \"#9c179e\"], [0.4444444444444444, \"#bd3786\"], [0.5555555555555556, \"#d8576b\"], [0.6666666666666666, \"#ed7953\"], [0.7777777777777778, \"#fb9f3a\"], [0.8888888888888888, \"#fdca26\"], [1.0, \"#f0f921\"]], \"type\": \"contour\"}], \"contourcarpet\": [{\"colorbar\": {\"outlinewidth\": 0, \"ticks\": \"\"}, \"type\": \"contourcarpet\"}], \"heatmap\": [{\"colorbar\": {\"outlinewidth\": 0, \"ticks\": \"\"}, \"colorscale\": [[0.0, \"#0d0887\"], [0.1111111111111111, \"#46039f\"], [0.2222222222222222, \"#7201a8\"], [0.3333333333333333, \"#9c179e\"], [0.4444444444444444, \"#bd3786\"], [0.5555555555555556, \"#d8576b\"], [0.6666666666666666, \"#ed7953\"], [0.7777777777777778, \"#fb9f3a\"], [0.8888888888888888, \"#fdca26\"], [1.0, \"#f0f921\"]], \"type\": \"heatmap\"}], \"heatmapgl\": [{\"colorbar\": {\"outlinewidth\": 0, \"ticks\": \"\"}, \"colorscale\": [[0.0, \"#0d0887\"], [0.1111111111111111, \"#46039f\"], [0.2222222222222222, \"#7201a8\"], [0.3333333333333333, \"#9c179e\"], [0.4444444444444444, \"#bd3786\"], [0.5555555555555556, \"#d8576b\"], [0.6666666666666666, \"#ed7953\"], [0.7777777777777778, \"#fb9f3a\"], [0.8888888888888888, \"#fdca26\"], [1.0, \"#f0f921\"]], \"type\": \"heatmapgl\"}], \"histogram\": [{\"marker\": {\"colorbar\": {\"outlinewidth\": 0, \"ticks\": \"\"}}, \"type\": \"histogram\"}], \"histogram2d\": [{\"colorbar\": {\"outlinewidth\": 0, \"ticks\": \"\"}, \"colorscale\": [[0.0, \"#0d0887\"], [0.1111111111111111, \"#46039f\"], [0.2222222222222222, \"#7201a8\"], [0.3333333333333333, \"#9c179e\"], [0.4444444444444444, \"#bd3786\"], [0.5555555555555556, \"#d8576b\"], [0.6666666666666666, \"#ed7953\"], [0.7777777777777778, \"#fb9f3a\"], [0.8888888888888888, \"#fdca26\"], [1.0, \"#f0f921\"]], \"type\": \"histogram2d\"}], \"histogram2dcontour\": [{\"colorbar\": {\"outlinewidth\": 0, \"ticks\": \"\"}, \"colorscale\": [[0.0, \"#0d0887\"], [0.1111111111111111, \"#46039f\"], [0.2222222222222222, \"#7201a8\"], [0.3333333333333333, \"#9c179e\"], [0.4444444444444444, \"#bd3786\"], [0.5555555555555556, \"#d8576b\"], [0.6666666666666666, \"#ed7953\"], [0.7777777777777778, \"#fb9f3a\"], [0.8888888888888888, \"#fdca26\"], [1.0, \"#f0f921\"]], \"type\": \"histogram2dcontour\"}], \"mesh3d\": [{\"colorbar\": {\"outlinewidth\": 0, \"ticks\": \"\"}, \"type\": \"mesh3d\"}], \"parcoords\": [{\"line\": {\"colorbar\": {\"outlinewidth\": 0, \"ticks\": \"\"}}, \"type\": \"parcoords\"}], \"pie\": [{\"automargin\": true, \"type\": \"pie\"}], \"scatter\": [{\"marker\": {\"colorbar\": {\"outlinewidth\": 0, \"ticks\": \"\"}}, \"type\": \"scatter\"}], \"scatter3d\": [{\"line\": {\"colorbar\": {\"outlinewidth\": 0, \"ticks\": \"\"}}, \"marker\": {\"colorbar\": {\"outlinewidth\": 0, \"ticks\": \"\"}}, \"type\": \"scatter3d\"}], \"scattercarpet\": [{\"marker\": {\"colorbar\": {\"outlinewidth\": 0, \"ticks\": \"\"}}, \"type\": \"scattercarpet\"}], \"scattergeo\": [{\"marker\": {\"colorbar\": {\"outlinewidth\": 0, \"ticks\": \"\"}}, \"type\": \"scattergeo\"}], \"scattergl\": [{\"marker\": {\"colorbar\": {\"outlinewidth\": 0, \"ticks\": \"\"}}, \"type\": \"scattergl\"}], \"scattermapbox\": [{\"marker\": {\"colorbar\": {\"outlinewidth\": 0, \"ticks\": \"\"}}, \"type\": \"scattermapbox\"}], \"scatterpolar\": [{\"marker\": {\"colorbar\": {\"outlinewidth\": 0, \"ticks\": \"\"}}, \"type\": \"scatterpolar\"}], \"scatterpolargl\": [{\"marker\": {\"colorbar\": {\"outlinewidth\": 0, \"ticks\": \"\"}}, \"type\": \"scatterpolargl\"}], \"scatterternary\": [{\"marker\": {\"colorbar\": {\"outlinewidth\": 0, \"ticks\": \"\"}}, \"type\": \"scatterternary\"}], \"surface\": [{\"colorbar\": {\"outlinewidth\": 0, \"ticks\": \"\"}, \"colorscale\": [[0.0, \"#0d0887\"], [0.1111111111111111, \"#46039f\"], [0.2222222222222222, \"#7201a8\"], [0.3333333333333333, \"#9c179e\"], [0.4444444444444444, \"#bd3786\"], [0.5555555555555556, \"#d8576b\"], [0.6666666666666666, \"#ed7953\"], [0.7777777777777778, \"#fb9f3a\"], [0.8888888888888888, \"#fdca26\"], [1.0, \"#f0f921\"]], \"type\": \"surface\"}], \"table\": [{\"cells\": {\"fill\": {\"color\": \"#EBF0F8\"}, \"line\": {\"color\": \"white\"}}, \"header\": {\"fill\": {\"color\": \"#C8D4E3\"}, \"line\": {\"color\": \"white\"}}, \"type\": \"table\"}]}, \"layout\": {\"annotationdefaults\": {\"arrowcolor\": \"#2a3f5f\", \"arrowhead\": 0, \"arrowwidth\": 1}, \"coloraxis\": {\"colorbar\": {\"outlinewidth\": 0, \"ticks\": \"\"}}, \"colorscale\": {\"diverging\": [[0, \"#8e0152\"], [0.1, \"#c51b7d\"], [0.2, \"#de77ae\"], [0.3, \"#f1b6da\"], [0.4, \"#fde0ef\"], [0.5, \"#f7f7f7\"], [0.6, \"#e6f5d0\"], [0.7, \"#b8e186\"], [0.8, \"#7fbc41\"], [0.9, \"#4d9221\"], [1, \"#276419\"]], \"sequential\": [[0.0, \"#0d0887\"], [0.1111111111111111, \"#46039f\"], [0.2222222222222222, \"#7201a8\"], [0.3333333333333333, \"#9c179e\"], [0.4444444444444444, \"#bd3786\"], [0.5555555555555556, \"#d8576b\"], [0.6666666666666666, \"#ed7953\"], [0.7777777777777778, \"#fb9f3a\"], [0.8888888888888888, \"#fdca26\"], [1.0, \"#f0f921\"]], \"sequentialminus\": [[0.0, \"#0d0887\"], [0.1111111111111111, \"#46039f\"], [0.2222222222222222, \"#7201a8\"], [0.3333333333333333, \"#9c179e\"], [0.4444444444444444, \"#bd3786\"], [0.5555555555555556, \"#d8576b\"], [0.6666666666666666, \"#ed7953\"], [0.7777777777777778, \"#fb9f3a\"], [0.8888888888888888, \"#fdca26\"], [1.0, \"#f0f921\"]]}, \"colorway\": [\"#636efa\", \"#EF553B\", \"#00cc96\", \"#ab63fa\", \"#FFA15A\", \"#19d3f3\", \"#FF6692\", \"#B6E880\", \"#FF97FF\", \"#FECB52\"], \"font\": {\"color\": \"#2a3f5f\"}, \"geo\": {\"bgcolor\": \"white\", \"lakecolor\": \"white\", \"landcolor\": \"#E5ECF6\", \"showlakes\": true, \"showland\": true, \"subunitcolor\": \"white\"}, \"hoverlabel\": {\"align\": \"left\"}, \"hovermode\": \"closest\", \"mapbox\": {\"style\": \"light\"}, \"paper_bgcolor\": \"white\", \"plot_bgcolor\": \"#E5ECF6\", \"polar\": {\"angularaxis\": {\"gridcolor\": \"white\", \"linecolor\": \"white\", \"ticks\": \"\"}, \"bgcolor\": \"#E5ECF6\", \"radialaxis\": {\"gridcolor\": \"white\", \"linecolor\": \"white\", \"ticks\": \"\"}}, \"scene\": {\"xaxis\": {\"backgroundcolor\": \"#E5ECF6\", \"gridcolor\": \"white\", \"gridwidth\": 2, \"linecolor\": \"white\", \"showbackground\": true, \"ticks\": \"\", \"zerolinecolor\": \"white\"}, \"yaxis\": {\"backgroundcolor\": \"#E5ECF6\", \"gridcolor\": \"white\", \"gridwidth\": 2, \"linecolor\": \"white\", \"showbackground\": true, \"ticks\": \"\", \"zerolinecolor\": \"white\"}, \"zaxis\": {\"backgroundcolor\": \"#E5ECF6\", \"gridcolor\": \"white\", \"gridwidth\": 2, \"linecolor\": \"white\", \"showbackground\": true, \"ticks\": \"\", \"zerolinecolor\": \"white\"}}, \"shapedefaults\": {\"line\": {\"color\": \"#2a3f5f\"}}, \"ternary\": {\"aaxis\": {\"gridcolor\": \"white\", \"linecolor\": \"white\", \"ticks\": \"\"}, \"baxis\": {\"gridcolor\": \"white\", \"linecolor\": \"white\", \"ticks\": \"\"}, \"bgcolor\": \"#E5ECF6\", \"caxis\": {\"gridcolor\": \"white\", \"linecolor\": \"white\", \"ticks\": \"\"}}, \"title\": {\"x\": 0.05}, \"xaxis\": {\"automargin\": true, \"gridcolor\": \"white\", \"linecolor\": \"white\", \"ticks\": \"\", \"title\": {\"standoff\": 15}, \"zerolinecolor\": \"white\", \"zerolinewidth\": 2}, \"yaxis\": {\"automargin\": true, \"gridcolor\": \"white\", \"linecolor\": \"white\", \"ticks\": \"\", \"title\": {\"standoff\": 15}, \"zerolinecolor\": \"white\", \"zerolinewidth\": 2}}}, \"title\": {\"text\": \"Stream Time vs Income Change\"}, \"xaxis\": {\"anchor\": \"y\", \"domain\": [0.0, 1.0], \"title\": {\"text\": \"Stream time\"}}, \"yaxis\": {\"anchor\": \"x\", \"domain\": [0.0, 1.0], \"title\": {\"text\": \"Income Change\"}}},\n",
       "                        {\"responsive\": true}\n",
       "                    ).then(function(){\n",
       "                            \n",
       "var gd = document.getElementById('480edfbb-f0d6-4eb9-a0bb-2c8579ac9b9c');\n",
       "var x = new MutationObserver(function (mutations, observer) {{\n",
       "        var display = window.getComputedStyle(gd).display;\n",
       "        if (!display || display === 'none') {{\n",
       "            console.log([gd, 'removed!']);\n",
       "            Plotly.purge(gd);\n",
       "            observer.disconnect();\n",
       "        }}\n",
       "}});\n",
       "\n",
       "// Listen for the removal of the full notebook cells\n",
       "var notebookContainer = gd.closest('#notebook-container');\n",
       "if (notebookContainer) {{\n",
       "    x.observe(notebookContainer, {childList: true});\n",
       "}}\n",
       "\n",
       "// Listen for the clearing of the current output cell\n",
       "var outputEl = gd.closest('.output');\n",
       "if (outputEl) {{\n",
       "    x.observe(outputEl, {childList: true});\n",
       "}}\n",
       "\n",
       "                        })\n",
       "                };\n",
       "                });\n",
       "            </script>\n",
       "        </div>"
      ]
     },
     "metadata": {},
     "output_type": "display_data"
    }
   ],
   "source": [
    "fig = px.scatter(finaldata, x=\"Stream time\", y=\"Income Change\", title=\"Stream Time vs Income Change\", trendline=\"ols\")\n",
    "fig.show()"
   ]
  },
  {
   "cell_type": "markdown",
   "metadata": {},
   "source": [
    "<img src=\"https://raw.githubusercontent.com/Liyih/Twitch.tv-Metrics-Analysis/master/img/StreamTimeVsIncome.png\">"
   ]
  },
  {
   "cell_type": "markdown",
   "metadata": {},
   "source": [
    "### 3.3. Model Construction"
   ]
  },
  {
   "cell_type": "markdown",
   "metadata": {},
   "source": [
    "We normalize our data then conduct oneway ANOVA tests on our feature and target pairs."
   ]
  },
  {
   "cell_type": "code",
   "execution_count": 127,
   "metadata": {},
   "outputs": [
    {
     "name": "stdout",
     "output_type": "stream",
     "text": [
      "\n",
      "\n",
      "F-test: Followers and Income Change\n",
      "-------------------------------------------\n",
      "\n",
      "F(502,502) = 898.57, p = 1.6019400153533745e-141\n",
      "\n",
      "Assumption of Normality:\n",
      "\tFollowers: (0.8745790719985962, 1.0206135030008e-19)\n",
      "\t\tAssumption is violated. p < .05\n",
      "\tIncome Change: (0.7892618775367737, 5.400846454667688e-25)\n",
      "\t\tAssumption is violated. p < .05\n",
      "\n",
      "\n",
      "F-test: Peak viewers and Income Change\n",
      "-------------------------------------------\n",
      "\n",
      "F(502,502) = 907.92, p = 1.365399948983186e-142\n",
      "\n",
      "Assumption of Normality:\n",
      "\tPeak viewers: (0.7437337636947632, 3.71416437184254e-27)\n",
      "\t\tAssumption is violated. p < .05\n",
      "\tIncome Change: (0.7892618775367737, 5.400846454667688e-25)\n",
      "\t\tAssumption is violated. p < .05\n",
      "\n",
      "\n",
      "F-test: Views gained and Income Change\n",
      "-------------------------------------------\n",
      "\n",
      "F(502,502) = 3597.00, p = 0.0\n",
      "\n",
      "Assumption of Normality:\n",
      "\tViews gained: (0.9158664345741272, 4.1062494980729494e-16)\n",
      "\t\tAssumption is violated. p < .05\n",
      "\tIncome Change: (0.7892618775367737, 5.400846454667688e-25)\n",
      "\t\tAssumption is violated. p < .05\n",
      "\n",
      "\n",
      "F-test: Followers gained and Income Change\n",
      "-------------------------------------------\n",
      "\n",
      "F(502,502) = 647.17, p = 1.3886837414151576e-110\n",
      "\n",
      "Assumption of Normality:\n",
      "\tFollowers gained: (0.8969613313674927, 6.8058518285454245e-18)\n",
      "\t\tAssumption is violated. p < .05\n",
      "\tIncome Change: (0.7892618775367737, 5.400846454667688e-25)\n",
      "\t\tAssumption is violated. p < .05\n"
     ]
    }
   ],
   "source": [
    "from scipy import stats\n",
    "from statsmodels.stats.multicomp import MultiComparison\n",
    "from statsmodels.stats.multicomp import pairwise_tukeyhsd\n",
    "from sklearn.preprocessing import normalize \n",
    "\n",
    "tonorm_data = finaldata.drop(columns = [\"Language\", \"Month\"], axis =1)\n",
    "norm_data = normalize(tonorm_data)\n",
    "\n",
    "norm_data = pd.DataFrame(norm_data, columns = tonorm_data.columns)\n",
    "\n",
    "def oneway_ANOVA(data, IV, DV):\n",
    "    oneway = stats.f_oneway(data[IV], data[DV])\n",
    "    fstat = oneway[0]\n",
    "    pval = oneway[1]\n",
    "    df1 = len(data.groupby(IV)) - 1\n",
    "    df2 = len(data.groupby(DV)) - 1\n",
    "    print(\"\\n\\nF-test:\", IV, \"and\", DV)\n",
    "    print(\"-------------------------------------------\\n\")\n",
    "    print(\"F(%d,%d) = %.2f, p = %s\" %(df1, df2, fstat, pval))\n",
    "    print(\"\\nAssumption of Normality:\")\n",
    "    shapiro_test_IV = stats.shapiro(data[IV])\n",
    "    print(\"\\t\" + IV + \": \" + str(shapiro_test_IV))\n",
    "    print(\"\\t\\t\", end=\"\")\n",
    "    checkAssumption(shapiro_test_IV[1])\n",
    "    shapiro_test_DV = stats.shapiro(data[DV])\n",
    "    print(\"\\t\" + DV + \": \" + str(shapiro_test_DV))\n",
    "    print(\"\\t\\t\", end=\"\")\n",
    "    checkAssumption(shapiro_test_DV[1])\n",
    "    \n",
    "#Print the correct assumption statement\n",
    "def checkAssumption(pval):\n",
    "    if pval > 0.05:\n",
    "        print(\"Assumption is met. p > .05\")\n",
    "    else:\n",
    "        print(\"Assumption is violated. p < .05\")\n",
    "\n",
    "oneway_ANOVA(norm_data, \"Followers\", \"Income Change\")\n",
    "oneway_ANOVA(norm_data, \"Peak viewers\", \"Income Change\")\n",
    "oneway_ANOVA(norm_data, \"Views gained\", \"Income Change\")\n",
    "oneway_ANOVA(norm_data, \"Followers gained\", \"Income Change\")"
   ]
  },
  {
   "cell_type": "code",
   "execution_count": 128,
   "metadata": {},
   "outputs": [],
   "source": [
    "from sklearn.linear_model import LinearRegression\n",
    "from sklearn.linear_model import Ridge\n",
    "from sklearn.linear_model import Lasso\n",
    "from sklearn.neighbors import KNeighborsRegressor\n",
    "from sklearn.svm import LinearSVR\n",
    "from sklearn.metrics import r2_score\n",
    "from sklearn.metrics import mean_squared_error"
   ]
  },
  {
   "cell_type": "code",
   "execution_count": 129,
   "metadata": {},
   "outputs": [],
   "source": [
    "estimators = {\"Linear Regression\": LinearRegression(), \"Ridge\": Ridge(), \"Lasso\":Lasso(), \"k-Nearest Neighbor\":\n",
    "             KNeighborsRegressor(), \"Support Vector Machine\": LinearSVR(max_iter=10000000)}"
   ]
  },
  {
   "cell_type": "code",
   "execution_count": 130,
   "metadata": {},
   "outputs": [],
   "source": [
    "def regressors_percentage_split(X_train, X_test, y_train, y_test):\n",
    "    for value in estimators:\n",
    "        model = estimators[value].fit(X=X_train, y=y_train)\n",
    "        r_train = r2_score(y_train, model.predict(X_train))\n",
    "        r_test = r2_score(y_test, model.predict(X_test))\n",
    "        print(value+\":\")\n",
    "        print(\"\\tR-squared value for training set: \",r_train)\n",
    "        print(\"\\tR-squared value for testing set: \",r_test,\"\\n\" )\n",
    "    return\n",
    "\n"
   ]
  },
  {
   "cell_type": "code",
   "execution_count": 131,
   "metadata": {},
   "outputs": [],
   "source": [
    "#creating test and train datasets for when followers is not included in features\n",
    "\n",
    "features_nofollower = features.drop(columns=[\"Followers\"], axis =1)\n",
    "X_train_nofollower, X_test_nofollower, y_train_nofollower, y_test_nofollower = train_test_split(\n",
    "    features_nofollower, target, random_state=3000)\n",
    "nofollower_modelbasedfeatures, X_train_selected_nofollower, X_test_selected_nofollower = modelbased_features(\n",
    "    X_train_nofollower, y_train_nofollower, X_test_nofollower, y_test_nofollower)"
   ]
  },
  {
   "cell_type": "code",
   "execution_count": 132,
   "metadata": {},
   "outputs": [
    {
     "name": "stdout",
     "output_type": "stream",
     "text": [
      "Analyzing Using All Features\n",
      "-------------------------------------------\n",
      "\n",
      "When including followers\n",
      "Linear Regression:\n",
      "\tR-squared value for training set:  0.18683833606044442\n",
      "\tR-squared value for testing set:  0.35477624162092514 \n",
      "\n",
      "Ridge:\n",
      "\tR-squared value for training set:  0.16501107000093984\n",
      "\tR-squared value for testing set:  0.31890015393104065 \n",
      "\n",
      "Lasso:\n",
      "\tR-squared value for training set:  0.18679367660084745\n",
      "\tR-squared value for testing set:  0.35427804518218675 \n",
      "\n",
      "k-Nearest Neighbor:\n",
      "\tR-squared value for training set:  0.7069041247383286\n",
      "\tR-squared value for testing set:  0.448037864702433 \n",
      "\n",
      "Support Vector Machine:\n",
      "\tR-squared value for training set:  -0.0016805319004558061\n",
      "\tR-squared value for testing set:  -0.0005683852052307259 \n",
      "\n",
      "When excluding followers\n",
      "Linear Regression:\n",
      "\tR-squared value for training set:  0.12251164627431521\n",
      "\tR-squared value for testing set:  0.33107280807624206 \n",
      "\n",
      "Ridge:\n",
      "\tR-squared value for training set:  0.10444268929228973\n",
      "\tR-squared value for testing set:  0.261701892325486 \n",
      "\n",
      "Lasso:\n",
      "\tR-squared value for training set:  0.12164376923000964\n",
      "\tR-squared value for testing set:  0.3265767660749015 \n",
      "\n",
      "k-Nearest Neighbor:\n",
      "\tR-squared value for training set:  0.5903384788577728\n",
      "\tR-squared value for testing set:  0.23920841080961985 \n",
      "\n",
      "Support Vector Machine:\n",
      "\tR-squared value for training set:  -0.0016899166502981622\n",
      "\tR-squared value for testing set:  -0.0005434458130180175 \n",
      "\n",
      "Analyzing Using Selected Features\n",
      "-------------------------------------------\n",
      "\n",
      "When including followers\n",
      "Linear Regression:\n",
      "\tR-squared value for training set:  0.14777552507446534\n",
      "\tR-squared value for testing set:  0.33088366716242423 \n",
      "\n",
      "Ridge:\n",
      "\tR-squared value for training set:  0.1300707810290752\n",
      "\tR-squared value for testing set:  0.28049018825383754 \n",
      "\n",
      "Lasso:\n",
      "\tR-squared value for training set:  0.147757177313648\n",
      "\tR-squared value for testing set:  0.32979087554990305 \n",
      "\n",
      "k-Nearest Neighbor:\n",
      "\tR-squared value for training set:  0.7343253883113203\n",
      "\tR-squared value for testing set:  0.40191945745225166 \n",
      "\n",
      "Support Vector Machine:\n",
      "\tR-squared value for training set:  -0.001759196391870388\n",
      "\tR-squared value for testing set:  -0.0007482062031893832 \n",
      "\n",
      "When excluding followers\n",
      "Linear Regression:\n",
      "\tR-squared value for training set:  0.10615135430478717\n",
      "\tR-squared value for testing set:  0.30583769097149793 \n",
      "\n",
      "Ridge:\n",
      "\tR-squared value for training set:  0.09019528633962204\n",
      "\tR-squared value for testing set:  0.24609922168257226 \n",
      "\n",
      "Lasso:\n",
      "\tR-squared value for training set:  0.10612731023567124\n",
      "\tR-squared value for testing set:  0.304103646750151 \n",
      "\n",
      "k-Nearest Neighbor:\n",
      "\tR-squared value for training set:  0.49596242089495446\n",
      "\tR-squared value for testing set:  0.25204095271107674 \n",
      "\n",
      "Support Vector Machine:\n",
      "\tR-squared value for training set:  -0.0017453738530415208\n",
      "\tR-squared value for testing set:  -0.0006534527969346282 \n",
      "\n"
     ]
    }
   ],
   "source": [
    "print(\"Analyzing Using All Features\")\n",
    "print(\"-------------------------------------------\\n\")\n",
    "print(\"When including followers\")\n",
    "regressors_percentage_split(X_train, X_test, y_train, y_test)\n",
    "print(\"When excluding followers\")\n",
    "regressors_percentage_split(X_train_nofollower, X_test_nofollower, y_train_nofollower, y_test_nofollower)\n",
    "\n",
    "print(\"Analyzing Using Selected Features\")\n",
    "print(\"-------------------------------------------\\n\")\n",
    "print(\"When including followers\")\n",
    "regressors_percentage_split(X_train_selected, X_test_selected, y_train, y_test)\n",
    "print(\"When excluding followers\")\n",
    "regressors_percentage_split(X_train_selected_nofollower, X_test_selected_nofollower, y_train_nofollower, \n",
    "                            y_test_nofollower)\n",
    "\n"
   ]
  },
  {
   "cell_type": "markdown",
   "metadata": {},
   "source": [
    "### 3.4. Model Evaluation\n",
    "\n",
    "#### Machine Learning\n",
    "* Five machine learning algorithms were analyzed: Multiple Linear Regression, Ridge, Lasso, k-Nearest Neighbor, and Support Vector Machine. They were analyzed in four different situations: analyzing all features including followers, all features excluding followers, selected features including followers, and selected features excluding followers.\n",
    "* Among all conditions, Support Vector Machine performed the worst by having negative R-squared values for all condition. \n",
    "* Multiple Linear Regression, Ridge, and Lasso had the similar results, but did consistently worse than k-Nearest Neighbors. \n",
    "* k-Nearest Neighbors performed the best out of all 5 algorithms. Among the situations, k-Nearest Neighbors performed better when including \"Followers\", so when we performed tuning, we focused on only two situations of analysis where we looked at all features vs. selected features. The best performance occured on selected features, when including \"Followers\". In that situation, the R-squared for training data was .734 and for testing data was .402. For all features including \"Followers\", the R-squared had a .03 difference, landing at .707 for training and .448 for testing data. This is at risk for overfitting as the R-sqaured for training data is higher than that for testing data.\n",
    "\n",
    "#### Questions\n",
    "* The most important feature identified in predicting future income growth of Twitch channels via model based feature selection was Followers. However, when graphing the regression line, it resulted in a slope of 0.0002. In addition, we believed the data for Followers was corrupt in the dataset. So, to account for this, we also performed machine learning algorithms on features selections that excluded “Followers”.\n",
    "* From the model based feature selection, it was found that the ideal number of features to include in analysis was 5 features. However, when performing machine learning algorithms, higher R-squared was achieved when analyzing with all features rather than with the selected features. \n",
    "* The supervised machine learning algorithms that produced the highest accuracy were Multiple Linear Regression, Ridge Regression, and Lasso Regression. \n",
    "\n",
    "#### Hypothesis Testing\n",
    "* **Hypotheses 1:** Followers gained was not the most influential feature in predicting income growth. Through iterative feature selection, the list of features in order of importance of influence to the target variable of income growth were shown. Followers was considered most important, as it was at the top of the list. Thus, hypotheses 1 is rejected and it can be concluded that followers gained is not the most influential feature in predicting income growth. \n",
    "* **Hypotheses 2:** The regression line on the scatter plot comparing stream time and income change is shown to have the equation of approximately y =.096x -1567. This shows a small but positive relationship between stream time and income change. However, the ANOVA shows that the p value of the relationship does not pass the assumption of normality as it has a p value of less than 0.05, thus no significant positive relationship exists. Thus, hypothesis 2 is rejected and it can be concluded that stream time has no relationship with income growth. \n",
    "* **Hypothesis 3:** Through ANOVA analysis of views gained and income growth, hypothesis 3 is rejected as the data does not pass the assumption of normality because the p value is less than 0.05. Thus, it can be concluded that no relationship exists between views gained and income growth\n"
   ]
  },
  {
   "cell_type": "markdown",
   "metadata": {},
   "source": [
    "### 3.5. Model Optimization & 3.6. Model Testing"
   ]
  },
  {
   "cell_type": "code",
   "execution_count": 133,
   "metadata": {},
   "outputs": [
    {
     "name": "stdout",
     "output_type": "stream",
     "text": [
      "Non-scaled:\n",
      "Best parameters:  {'metric': 'manhattan', 'n_neighbors': 5}\n",
      "Training set score with best parameters:  0.7253479389200777\n",
      "Test set score with best parameters:  0.5018932742254127\n",
      "\n",
      "\n",
      "Scaled:\n",
      "Best parameters:  {'metric': 'manhattan', 'n_neighbors': 5}\n",
      "Training set score with best parameters:  0.7452388820640092\n",
      "Test set score with best parameters:  0.42321741043859984\n"
     ]
    }
   ],
   "source": [
    "from sklearn.model_selection import GridSearchCV\n",
    "\n",
    "import warnings\n",
    "warnings.filterwarnings('ignore')\n",
    "\n",
    "param_grid = {\"n_neighbors\":[1, 5, 10], \"metric\": [\"euclidean\", \"manhattan\", \"minkowski\"]}\n",
    "\n",
    "def grid_search_kNN():\n",
    "    grid_search = GridSearchCV(KNeighborsRegressor(), param_grid, cv=5)\n",
    "    grid_search.fit(X=X_train, y=y_train)\n",
    "    \n",
    "    print(\"Non-scaled:\")\n",
    "    print(\"Best parameters: \", grid_search.best_params_)\n",
    "    print(\"Training set score with best parameters: \", grid_search.score(X_train, y_train))\n",
    "    print(\"Test set score with best parameters: \", grid_search.score(X_test, y_test))\n",
    "\n",
    "grid_search_kNN()\n",
    "\n",
    "print(\"\\n\")\n",
    "\n",
    "def grid_search_selected_kNN():\n",
    "    grid_search = GridSearchCV(KNeighborsRegressor(), param_grid, cv=5)\n",
    "    grid_search.fit(X=X_train_selected, y=y_train)\n",
    "    \n",
    "    print(\"Scaled:\")\n",
    "    print(\"Best parameters: \", grid_search.best_params_)\n",
    "    print(\"Training set score with best parameters: \", grid_search.score(X_train_selected, y_train))\n",
    "    print(\"Test set score with best parameters: \", grid_search.score(X_test_selected, y_test))\n",
    "\n",
    "grid_search_selected_kNN()"
   ]
  },
  {
   "cell_type": "markdown",
   "metadata": {},
   "source": [
    "We used GridSearch to tune kNN specifically and try to improve its performance accuracy by attempting to correct the overfitting. However, after running GridSearch, while we did see an improvement in our non-selected features (from .42 to .50 accuracy on the testing set), that performance improvement was not significant enough to correct our model’s overfitting. Additionally, despite the performance improvement, the overall accuracy of our model is too low to make confident predictions on new data. Given this result, we conclude that a model with high prediction accuracy is unable to fit onto our data, and that it is difficult to tune our data’s features within our dataset’s limits to accurately predict our target. "
   ]
  },
  {
   "cell_type": "markdown",
   "metadata": {},
   "source": [
    "<a id=\"4\"></a>\n",
    "<hr style=\"height:2px; border:none; color:black; background-color:black;\">"
   ]
  },
  {
   "cell_type": "markdown",
   "metadata": {},
   "source": [
    "## 4. DISCUSSION\n",
    "* Provide a summary of the steps you took to analyze your data and test your predictive model\n",
    "* Interpret your findings from 3.4., 3.5, and 3.6\n",
    "    * Which algorithms did you compare?\n",
    "    * Which algorithm(s) revealed best performance?\n",
    "    * Which algorithm(s) should be used for your predictive model?\n",
    "    * Based on your findings, can we you the features in your dataset to predict the outcome variable you identified using the algorithms you've applied? (It is okay if the answer is no. We're interested in the process, not the performance of the model.)\n",
    "* For your hypotheses, interpret the results. What does it mean to have significant/non-significant differences with regards to your data?\n",
    "\n",
    "\n",
    "* End this section with a conclusion paragraph containing some pointers for future work\n",
    "    * (e.g., get more data/features, perform another analysis, etc.)"
   ]
  },
  {
   "cell_type": "markdown",
   "metadata": {},
   "source": [
    "<a id=\"5\"></a>\n",
    "<hr style=\"height:2px; border:none; color:black; background-color:black;\">"
   ]
  },
  {
   "cell_type": "markdown",
   "metadata": {},
   "source": [
    "### CONTRIBUTIONS\n",
    "* Describe each team member's contributions to the report (who did what in each section)\n",
    "* Remember this is a team effort!\n",
    "* Each member of your team will provide peer evaluation of other team members. Your final grade on the project will be based on those peer evaluations. An survey will be shared after the deadline for this deliverable."
   ]
  },
  {
   "cell_type": "code",
   "execution_count": null,
   "metadata": {},
   "outputs": [],
   "source": []
  }
 ],
 "metadata": {
  "kernelspec": {
   "display_name": "Python 3",
   "language": "python",
   "name": "python3"
  },
  "language_info": {
   "codemirror_mode": {
    "name": "ipython",
    "version": 3
   },
   "file_extension": ".py",
   "mimetype": "text/x-python",
   "name": "python",
   "nbconvert_exporter": "python",
   "pygments_lexer": "ipython3",
   "version": "3.7.6"
  }
 },
 "nbformat": 4,
 "nbformat_minor": 2
}
