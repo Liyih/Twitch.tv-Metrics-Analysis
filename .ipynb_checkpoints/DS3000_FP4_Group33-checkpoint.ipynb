{
 "cells": [
  {
   "cell_type": "markdown",
   "metadata": {},
   "source": [
    "<center> <h2> DS 3000 - Summer 2020</h2> </center>\n",
    "<center> <h3> DS Report </h3> </center>\n"
   ]
  },
  {
   "cell_type": "markdown",
   "metadata": {},
   "source": [
    "<center> <h3> Analysis and Prediction of Twitch Channel Growth</h3> </center>\n",
    "<center><h4>Carrine Shrestha, Yihang Li</h4></center>\n"
   ]
  },
  {
   "cell_type": "markdown",
   "metadata": {},
   "source": [
    "  "
   ]
  },
  {
   "cell_type": "markdown",
   "metadata": {},
   "source": [
    "<hr style=\"height:2px; border:none; color:black; background-color:black;\">"
   ]
  },
  {
   "cell_type": "markdown",
   "metadata": {},
   "source": [
    "#### Executive Summary:\n",
    "\n",
    "Add your summary here (100-150 words)\n",
    "\n",
    "Provide a brief summary of your project. After reading this executive summary, your readers should have a rough understanding of what you did in this project. You can think of this summary in terms of the four sections of the report and write 1-2 sentences describing each section.\n",
    "\n"
   ]
  },
  {
   "cell_type": "markdown",
   "metadata": {},
   "source": [
    "<hr style=\"height:2px; border:none; color:black; background-color:black;\">"
   ]
  },
  {
   "cell_type": "markdown",
   "metadata": {},
   "source": [
    "## Outline\n",
    "1. <a href='#1'>INTRODUCTION</a>\n",
    "2. <a href='#2'>METHOD</a>\n",
    "3. <a href='#3'>RESULTS</a>\n",
    "4. <a href='#4'>DISCUSSION</a>"
   ]
  },
  {
   "cell_type": "markdown",
   "metadata": {},
   "source": [
    "<a id=\"1\"></a>\n",
    "<hr style=\"height:2px; border:none; color:black; background-color:black;\">"
   ]
  },
  {
   "cell_type": "markdown",
   "metadata": {},
   "source": [
    "## 1. INTRODUCTION"
   ]
  },
  {
   "cell_type": "markdown",
   "metadata": {},
   "source": [
    "**Problem Statement**\n",
    "\n",
    "With the growth of live streaming as an entertainment platform, coronavirus has presented a strong opportunity for online streaming platforms to expand and grow. We want to track this growth and how growth is displayed among the creators in Twitch. Understanding Twitch’s growth and live streaming as a career field is important to those looking into streaming as a viable at-home, virtual job, and predicting measures of growth and success. We will create an expected projection of Twitch channels over the next year on a monthly basis of viewership and other metrics, which will be used in parallel with subscriber data to project expected income. We want to gain insight into the jump in viewership due to coronavirus and better understand the rise of the streaming industry. \n",
    "\n",
    "**Significance of the Problem**\n",
    "\n",
    "Live streaming is an industry that is quickly growing in the technology space. Following Twitch’s initial success in the early 2010s, Youtube (via Youtube Live), Facebook (Facebook/Instagram Live) and other major platforms have followed up by creating their own streaming platforms for content creators. Insights into Twitch’s growth potential can quantify the growth of live streaming and their platforms as a brand new career field with opportunities for people to look into. Tracking the projected growth of a fast-moving industry in live streaming can be really useful for choosing a job as a software or data engineer, as joining one of these companies can be particularly lucrative. Alternatively, should investment opportunities present themselves in the future, having an understanding of YoY growth and metric-backed expectations can lead to potentially rewarding investments. Finally, if someone were to come across the expected growth and data and were interested in becoming a livestreamer themselves, they could use the projected data to measure their own metrics and success.\n",
    "\n",
    "**Previous Work on the Topic**\n",
    "\n",
    "Most of the analysis done around Twitch.tv’s data is in regards to the platform as a whole. Students from WPI found relationships between the demographics and the viewership behavior in relation to the types and formats of the content being delivered (Farrington and Muesch). Other breakdowns look at aggregate metrics for Twitch, such as the numbers of broadcasters and peak viewership in order to generate a tentative estimate of Twitch’s revenue (Iqbal). Even recommendations for marketing managers and potential influencers are presented with aggregate data metrics (Influencer Marketing Hub). Given the background of Twitch as a relatively new platform, we were unable to find any analysis on specific channels or the application of machine learning methods to predict singular channel growth. Identifying this gap and realizing its potential, we set out to create models that would allow us to explore Twitch through the lens of singular channels and learn from applying ML methods to real data.\n",
    "\n",
    "**Questions/Hypotheses**\n",
    "* **Research Questions**\n",
    "    * Which features are most important in predicting the expected future income of Twitch channels?\n",
    "    * What is the ideal number of features to include in analysis when predicting income of Twitch channels?\n",
    "    * Which supervised machine learning algorithm will produce the highest accuracy for our test dataset?\n",
    "\n",
    "* **Hypotheses 1**\n",
    "    * Hypotheses: The average viewer count is the most influential feature in predicting income. \n",
    "    * Null: The average viewer count has no effect on income. \n",
    "\n",
    "* **Hypotheses 2**\n",
    "    * Hypotheses: Stream time has a positive relationship with income. \n",
    "    * Null: Stream time has no relationship with income. \n",
    "\n",
    "* **Hypotheses 3**\n",
    "    * Hypotheses: A significant relationship exists between language and income. \n",
    "    * Null: No relationship exists between language and income. \n",
    "\n",
    "**References**\n",
    "\n",
    "Iqbal, Mansoor. “Twitch Revenue and Usage Statistics (2020).” Business of Apps, Sokomedia, 24 Apr. 2020, www.businessofapps.com/data/twitch-statistics/\n",
    "\n",
    "“25 Useful Twitch Stats for Influencer Marketing Managers [Infographic].” Influencer Marketing Hub, 10 June 2020, influencermarketinghub.com/twitch-stats/\n",
    "\n",
    "Bellanger, Caroline. “New Study from Upfluence Finds COVID-19 Lockdown Restrictions Resulted in a 24% Viewership Increase on Live-Streaming Platform Twitch.” Upfluence, Upfluence, 3 Apr. 2020, www.upfluence.com/press-release/new-study-from-upfluence-finds-covid-19-lockdown-restrictions-resulted-in-a-24-viewership-increase-on-live-streaming-platform-twitch\n",
    "\n",
    "Farrington, Daniel Jeffrey, and Muesch, Nicholas Matthew. “Analysis of the Characteristics and Content of Twitch Live-Streaming.” Digital WPI, Worcester Polytechnic Institute, Mar. 2015, digitalcommons.wpi.edu/iqp-all/3376/\n"
   ]
  },
  {
   "cell_type": "markdown",
   "metadata": {},
   "source": [
    "<a id=\"2\"></a>\n",
    "<hr style=\"height:2px; border:none; color:black; background-color:black;\">"
   ]
  },
  {
   "cell_type": "markdown",
   "metadata": {},
   "source": [
    "## 2. METHOD"
   ]
  },
  {
   "cell_type": "markdown",
   "metadata": {},
   "source": [
    "### 2.1. Data Acquisition\n",
    "\n",
    "We sourced the data we are using ourselves through web-scraping two websites, TwitchTracker and SullyGnome, where both sites track and record channel metrics from Twitch.\n",
    "\n",
    "From **SullyGnome**, we were able to obtain data of the 100 most popular Twitch streamers per month. The data included information such as watch time, stream time, peak viewers, etc. and we sourced data for 13 months, ranging from April 2019 to April 2020. We obtained a total number of 11 variables from the dataset.\n",
    "\n",
    "We took subscriber data from **TwitchTracker** and used it to generate the channel’s income data, then appended the income data to a cleaned aggregate dataset from SullyGnome. This variable is the outcome variable. \n",
    "\n",
    "Twitch: https://twitchtracker.com/subscribers\n",
    "SullyGnome: https://sullygnome.com "
   ]
  },
  {
   "cell_type": "markdown",
   "metadata": {},
   "source": [
    "### 2.2. Variables\n",
    "\n",
    "**Feature Variables:**\n",
    "* Watch time\n",
    "* Stream Time\n",
    "* Peak Viewers\n",
    "* Average Viewers\n",
    "* Followers\n",
    "* Followers Gained\n",
    "* Views Gained\n",
    "* Partnered\n",
    "* Mature\n",
    "* Language\n",
    "* Income\n",
    "\n",
    "**Target Variable:**\n",
    "* Income\n",
    "\n",
    "For our analysis purposes, we used the feature variables as independent variables and the target variable as the dependent variable for all our hypotheses. \n",
    "\n"
   ]
  },
  {
   "cell_type": "markdown",
   "metadata": {},
   "source": [
    "### 2.3. Data Analysis\n",
    "**Feature Extraction:** We will use Iterative Feature Selection to gain an understanding of which variables are important and the order of importance of the variables. This will allow us to gain more insight into our data. For analysis, we will use Model-Based Feature Selection to judge which features are most important for use in our model. \n",
    "\n",
    "**Machine Learning Techniques:** We will be applying supervised machine learning algorithms to analyze the data. As our target variable of future income is a continuous variable, we plan on using regression analysis on our feature variables. We will be applying Multiple Linear Regression, Lasso, Ridge, KNNRegressor and SVM machine learning algorithms to our data to analyze for best results as they are all used to tune regression models. We expect Lasso to perform the best as our data contains many features, but we expect only a few of them to be impactful to the target variable. "
   ]
  },
  {
   "cell_type": "markdown",
   "metadata": {},
   "source": [
    "<a id=\"3\"></a>\n",
    "<hr style=\"height:2px; border:none; color:black; background-color:black;\">"
   ]
  },
  {
   "cell_type": "markdown",
   "metadata": {},
   "source": [
    "## 3. RESULTS"
   ]
  },
  {
   "cell_type": "markdown",
   "metadata": {},
   "source": [
    "### 3.1. Data Wrangling\n",
    "\n",
    "\n",
    "**Simple Data Cleaning:**\n",
    "\n",
    "For the data obtained from SullyGnome, we merged all of the files from each month together. In order to be able to sufficiently train our machine for each user, we decided that we need to obtain at least 10 data points per channel so we omitted all users who did not appear in the dataset at least 10 times. Next, we adjusted the channel names as, in some instances, the foreign name and the English name of the channel would appear in the data. We cleaned it so that only the English name appeared, which would then be used by the subscriber scraper. \n",
    "\n",
    "For the subscriber scraper, we scraped data from the Twitch site for each user. The scraping takes about 2-3 hours. From that information, we calculated the current subscriber based income of the users by performing basic multiplication based on the subscriber count per tier. \n",
    "\n",
    "The final dataset will merge the total income variable from the Twitch data and the data from SullyGnome. The variables will merge together on the accounts of channel name and data. "
   ]
  },
  {
   "cell_type": "code",
   "execution_count": 21,
   "metadata": {},
   "outputs": [],
   "source": [
    "import pandas as pd\n",
    "\n",
    "allchannels = pd.read_csv(\"generated_data/TotalChannelData.csv\")\n",
    "allchannels.set_index(\"Channel\", inplace=True)\n",
    "\n",
    "subdata = pd.read_csv(\"generated_data/SubData.csv\")\n",
    "subdata.set_index(\"Channel\", inplace=True)\n",
    "\n",
    "finaldata = pd.merge(allchannels, subdata, how='left', on=['Channel', 'Month'])\n",
    "finaldata.drop(['Unnamed: 0', \"Prime\", \"Tier 1\", \"Tier 2\", \"Tier 3\", \"Total\", \"Unshared\"], axis =1, inplace=True)\n",
    "\n",
    "#removing all rows where total income is not provided, meaning subscriber data was not scraped \n",
    "#this means the rows being removed are all channels that have less than 10 datapoints\n",
    "finaldata = finaldata[finaldata['Total Income'].notna()]\n",
    "\n",
    "#removing dollar formatting from total income \n",
    "finaldata['Total Income'] = finaldata['Total Income'].str.replace(',', '').str.replace('$', '').astype(float)"
   ]
  },
  {
   "cell_type": "code",
   "execution_count": 22,
   "metadata": {},
   "outputs": [],
   "source": [
    "#check if there are any partnered channels that are \"False\"\n",
    "def check_continuous_variables(df, col):\n",
    "    false_count = 0\n",
    "    for i in range(len(finaldata.loc[:,col])):\n",
    "        if finaldata.loc[:,col][i] == False:\n",
    "            false_count +=1 \n",
    "        else:\n",
    "            continue\n",
    "    print(\"There are\", false_count, \"false values for\", col)\n",
    "    if false_count == 0:\n",
    "        finaldata.drop([col], axis = 1, inplace=True)\n",
    "    return finaldata"
   ]
  },
  {
   "cell_type": "code",
   "execution_count": 23,
   "metadata": {},
   "outputs": [
    {
     "name": "stdout",
     "output_type": "stream",
     "text": [
      "There are 0 false values for Partnered\n"
     ]
    }
   ],
   "source": [
    "finaldata = check_continuous_variables(finaldata, \"Partnered\")"
   ]
  },
  {
   "cell_type": "code",
   "execution_count": 24,
   "metadata": {},
   "outputs": [
    {
     "name": "stdout",
     "output_type": "stream",
     "text": [
      "There are 358 false values for Mature\n"
     ]
    }
   ],
   "source": [
    "finaldata = check_continuous_variables(finaldata, \"Mature\")"
   ]
  },
  {
   "cell_type": "code",
   "execution_count": 25,
   "metadata": {},
   "outputs": [
    {
     "data": {
      "text/html": [
       "<div>\n",
       "<style scoped>\n",
       "    .dataframe tbody tr th:only-of-type {\n",
       "        vertical-align: middle;\n",
       "    }\n",
       "\n",
       "    .dataframe tbody tr th {\n",
       "        vertical-align: top;\n",
       "    }\n",
       "\n",
       "    .dataframe thead th {\n",
       "        text-align: right;\n",
       "    }\n",
       "</style>\n",
       "<table border=\"1\" class=\"dataframe\">\n",
       "  <thead>\n",
       "    <tr style=\"text-align: right;\">\n",
       "      <th></th>\n",
       "      <th>Watch time</th>\n",
       "      <th>Stream time</th>\n",
       "      <th>Peak viewers</th>\n",
       "      <th>Average viewers</th>\n",
       "      <th>Followers</th>\n",
       "      <th>Followers gained</th>\n",
       "      <th>Views gained</th>\n",
       "      <th>Mature</th>\n",
       "      <th>Language</th>\n",
       "      <th>Month</th>\n",
       "      <th>Total Income</th>\n",
       "    </tr>\n",
       "    <tr>\n",
       "      <th>Channel</th>\n",
       "      <th></th>\n",
       "      <th></th>\n",
       "      <th></th>\n",
       "      <th></th>\n",
       "      <th></th>\n",
       "      <th></th>\n",
       "      <th></th>\n",
       "      <th></th>\n",
       "      <th></th>\n",
       "      <th></th>\n",
       "      <th></th>\n",
       "    </tr>\n",
       "  </thead>\n",
       "  <tbody>\n",
       "    <tr>\n",
       "      <th>AdmiralBahroo</th>\n",
       "      <td>145006575</td>\n",
       "      <td>15510</td>\n",
       "      <td>16796</td>\n",
       "      <td>9348</td>\n",
       "      <td>767646</td>\n",
       "      <td>3567</td>\n",
       "      <td>1260698</td>\n",
       "      <td>False</td>\n",
       "      <td>English</td>\n",
       "      <td>2020-03-01</td>\n",
       "      <td>51991.59</td>\n",
       "    </tr>\n",
       "    <tr>\n",
       "      <th>AdmiralBahroo</th>\n",
       "      <td>133999260</td>\n",
       "      <td>15810</td>\n",
       "      <td>18081</td>\n",
       "      <td>8475</td>\n",
       "      <td>767646</td>\n",
       "      <td>8821</td>\n",
       "      <td>1401268</td>\n",
       "      <td>False</td>\n",
       "      <td>English</td>\n",
       "      <td>2019-07-01</td>\n",
       "      <td>65543.89</td>\n",
       "    </tr>\n",
       "    <tr>\n",
       "      <th>AdmiralBahroo</th>\n",
       "      <td>124495740</td>\n",
       "      <td>13425</td>\n",
       "      <td>14819</td>\n",
       "      <td>9272</td>\n",
       "      <td>770090</td>\n",
       "      <td>5732</td>\n",
       "      <td>1184106</td>\n",
       "      <td>False</td>\n",
       "      <td>English</td>\n",
       "      <td>2020-05-01</td>\n",
       "      <td>53762.42</td>\n",
       "    </tr>\n",
       "    <tr>\n",
       "      <th>AdmiralBahroo</th>\n",
       "      <td>113289465</td>\n",
       "      <td>13935</td>\n",
       "      <td>12942</td>\n",
       "      <td>8129</td>\n",
       "      <td>767646</td>\n",
       "      <td>2100</td>\n",
       "      <td>1091917</td>\n",
       "      <td>False</td>\n",
       "      <td>English</td>\n",
       "      <td>2020-04-01</td>\n",
       "      <td>53793.14</td>\n",
       "    </tr>\n",
       "    <tr>\n",
       "      <th>AdmiralBahroo</th>\n",
       "      <td>110374845</td>\n",
       "      <td>13920</td>\n",
       "      <td>14616</td>\n",
       "      <td>7928</td>\n",
       "      <td>770090</td>\n",
       "      <td>9819</td>\n",
       "      <td>1423087</td>\n",
       "      <td>False</td>\n",
       "      <td>English</td>\n",
       "      <td>2019-01-01</td>\n",
       "      <td>69126.18</td>\n",
       "    </tr>\n",
       "  </tbody>\n",
       "</table>\n",
       "</div>"
      ],
      "text/plain": [
       "               Watch time  Stream time  Peak viewers  Average viewers  \\\n",
       "Channel                                                                 \n",
       "AdmiralBahroo   145006575        15510         16796             9348   \n",
       "AdmiralBahroo   133999260        15810         18081             8475   \n",
       "AdmiralBahroo   124495740        13425         14819             9272   \n",
       "AdmiralBahroo   113289465        13935         12942             8129   \n",
       "AdmiralBahroo   110374845        13920         14616             7928   \n",
       "\n",
       "               Followers  Followers gained  Views gained  Mature Language  \\\n",
       "Channel                                                                     \n",
       "AdmiralBahroo     767646              3567       1260698   False  English   \n",
       "AdmiralBahroo     767646              8821       1401268   False  English   \n",
       "AdmiralBahroo     770090              5732       1184106   False  English   \n",
       "AdmiralBahroo     767646              2100       1091917   False  English   \n",
       "AdmiralBahroo     770090              9819       1423087   False  English   \n",
       "\n",
       "                    Month  Total Income  \n",
       "Channel                                  \n",
       "AdmiralBahroo  2020-03-01      51991.59  \n",
       "AdmiralBahroo  2019-07-01      65543.89  \n",
       "AdmiralBahroo  2020-05-01      53762.42  \n",
       "AdmiralBahroo  2020-04-01      53793.14  \n",
       "AdmiralBahroo  2019-01-01      69126.18  "
      ]
     },
     "execution_count": 25,
     "metadata": {},
     "output_type": "execute_result"
    }
   ],
   "source": [
    "finaldata.head()"
   ]
  },
  {
   "cell_type": "code",
   "execution_count": 26,
   "metadata": {},
   "outputs": [],
   "source": [
    "#function returns features and target variables \n",
    "def features_target(df, target_var):\n",
    "    features = df.drop(target_var, axis = 1)\n",
    "    features = features.reset_index() #index is reset to merge with encoded features \n",
    "    target = df[target_var]\n",
    "   \n",
    "    return features, target\n"
   ]
  },
  {
   "cell_type": "code",
   "execution_count": 27,
   "metadata": {},
   "outputs": [],
   "source": [
    "features, target = features_target(finaldata, \"Total Income\")"
   ]
  },
  {
   "cell_type": "code",
   "execution_count": 28,
   "metadata": {},
   "outputs": [
    {
     "data": {
      "text/html": [
       "<div>\n",
       "<style scoped>\n",
       "    .dataframe tbody tr th:only-of-type {\n",
       "        vertical-align: middle;\n",
       "    }\n",
       "\n",
       "    .dataframe tbody tr th {\n",
       "        vertical-align: top;\n",
       "    }\n",
       "\n",
       "    .dataframe thead th {\n",
       "        text-align: right;\n",
       "    }\n",
       "</style>\n",
       "<table border=\"1\" class=\"dataframe\">\n",
       "  <thead>\n",
       "    <tr style=\"text-align: right;\">\n",
       "      <th></th>\n",
       "      <th>Channel</th>\n",
       "      <th>Watch time</th>\n",
       "      <th>Stream time</th>\n",
       "      <th>Peak viewers</th>\n",
       "      <th>Average viewers</th>\n",
       "      <th>Followers</th>\n",
       "      <th>Followers gained</th>\n",
       "      <th>Views gained</th>\n",
       "      <th>Mature</th>\n",
       "      <th>Language</th>\n",
       "      <th>Month</th>\n",
       "    </tr>\n",
       "  </thead>\n",
       "  <tbody>\n",
       "    <tr>\n",
       "      <th>0</th>\n",
       "      <td>AdmiralBahroo</td>\n",
       "      <td>145006575</td>\n",
       "      <td>15510</td>\n",
       "      <td>16796</td>\n",
       "      <td>9348</td>\n",
       "      <td>767646</td>\n",
       "      <td>3567</td>\n",
       "      <td>1260698</td>\n",
       "      <td>False</td>\n",
       "      <td>English</td>\n",
       "      <td>2020-03-01</td>\n",
       "    </tr>\n",
       "    <tr>\n",
       "      <th>1</th>\n",
       "      <td>AdmiralBahroo</td>\n",
       "      <td>133999260</td>\n",
       "      <td>15810</td>\n",
       "      <td>18081</td>\n",
       "      <td>8475</td>\n",
       "      <td>767646</td>\n",
       "      <td>8821</td>\n",
       "      <td>1401268</td>\n",
       "      <td>False</td>\n",
       "      <td>English</td>\n",
       "      <td>2019-07-01</td>\n",
       "    </tr>\n",
       "    <tr>\n",
       "      <th>2</th>\n",
       "      <td>AdmiralBahroo</td>\n",
       "      <td>124495740</td>\n",
       "      <td>13425</td>\n",
       "      <td>14819</td>\n",
       "      <td>9272</td>\n",
       "      <td>770090</td>\n",
       "      <td>5732</td>\n",
       "      <td>1184106</td>\n",
       "      <td>False</td>\n",
       "      <td>English</td>\n",
       "      <td>2020-05-01</td>\n",
       "    </tr>\n",
       "    <tr>\n",
       "      <th>3</th>\n",
       "      <td>AdmiralBahroo</td>\n",
       "      <td>113289465</td>\n",
       "      <td>13935</td>\n",
       "      <td>12942</td>\n",
       "      <td>8129</td>\n",
       "      <td>767646</td>\n",
       "      <td>2100</td>\n",
       "      <td>1091917</td>\n",
       "      <td>False</td>\n",
       "      <td>English</td>\n",
       "      <td>2020-04-01</td>\n",
       "    </tr>\n",
       "    <tr>\n",
       "      <th>4</th>\n",
       "      <td>AdmiralBahroo</td>\n",
       "      <td>110374845</td>\n",
       "      <td>13920</td>\n",
       "      <td>14616</td>\n",
       "      <td>7928</td>\n",
       "      <td>770090</td>\n",
       "      <td>9819</td>\n",
       "      <td>1423087</td>\n",
       "      <td>False</td>\n",
       "      <td>English</td>\n",
       "      <td>2019-01-01</td>\n",
       "    </tr>\n",
       "  </tbody>\n",
       "</table>\n",
       "</div>"
      ],
      "text/plain": [
       "         Channel  Watch time  Stream time  Peak viewers  Average viewers  \\\n",
       "0  AdmiralBahroo   145006575        15510         16796             9348   \n",
       "1  AdmiralBahroo   133999260        15810         18081             8475   \n",
       "2  AdmiralBahroo   124495740        13425         14819             9272   \n",
       "3  AdmiralBahroo   113289465        13935         12942             8129   \n",
       "4  AdmiralBahroo   110374845        13920         14616             7928   \n",
       "\n",
       "   Followers  Followers gained  Views gained  Mature Language       Month  \n",
       "0     767646              3567       1260698   False  English  2020-03-01  \n",
       "1     767646              8821       1401268   False  English  2019-07-01  \n",
       "2     770090              5732       1184106   False  English  2020-05-01  \n",
       "3     767646              2100       1091917   False  English  2020-04-01  \n",
       "4     770090              9819       1423087   False  English  2019-01-01  "
      ]
     },
     "execution_count": 28,
     "metadata": {},
     "output_type": "execute_result"
    }
   ],
   "source": [
    "features.head()"
   ]
  },
  {
   "cell_type": "code",
   "execution_count": 29,
   "metadata": {},
   "outputs": [
    {
     "data": {
      "text/plain": [
       "Channel\n",
       "AdmiralBahroo    51991.59\n",
       "AdmiralBahroo    65543.89\n",
       "AdmiralBahroo    53762.42\n",
       "AdmiralBahroo    53793.14\n",
       "AdmiralBahroo    69126.18\n",
       "Name: Total Income, dtype: float64"
      ]
     },
     "execution_count": 29,
     "metadata": {},
     "output_type": "execute_result"
    }
   ],
   "source": [
    "target.head()"
   ]
  },
  {
   "cell_type": "code",
   "execution_count": 30,
   "metadata": {},
   "outputs": [],
   "source": [
    "from sklearn.preprocessing import OneHotEncoder\n",
    "\n",
    "#one-hot encoding for \"Mature\" and \"Language\" Variables \n",
    "encode_features = features.iloc[:, 8:10]\n",
    "\n",
    "encoder = OneHotEncoder(sparse = False)\n",
    "encoded_df = encoder.fit_transform(encode_features)\n",
    "\n",
    "features_df = pd.DataFrame(encoded_df, columns = encoder.get_feature_names())\n",
    "\n",
    "#merging both features datasets together \n",
    "features = features_df.merge(features, left_index = True, right_index = True)\n",
    "features.drop([\"Mature\", \"Language\"], axis = 1, inplace=True)\n",
    "\n",
    "#removing channel and month as a variables as they work as identifiers \n",
    "features.reset_index()\n",
    "features.drop([\"Channel\", \"Month\"], axis = 1, inplace=True)"
   ]
  },
  {
   "cell_type": "code",
   "execution_count": 31,
   "metadata": {},
   "outputs": [],
   "source": [
    "from sklearn.linear_model import LinearRegression\n",
    "from sklearn.model_selection import train_test_split\n",
    "\n",
    "#split data into training and testing sets\n",
    "X_train, X_test, y_train, y_test = train_test_split(features, target, random_state=3000)"
   ]
  },
  {
   "cell_type": "code",
   "execution_count": 32,
   "metadata": {},
   "outputs": [],
   "source": [
    "#Running Iterative Feature Selection to return a list of features in order of importance \n",
    "from sklearn.feature_selection import RFE\n",
    "from sklearn.tree import DecisionTreeRegressor\n",
    "\n",
    "\n",
    "def ife_features(X_train, y_train, X_test, y_test):\n",
    "    name_features = list(X_train.columns.values)\n",
    "    num_features = len(name_features)\n",
    "    features_names = []\n",
    "    \n",
    "    for i in range(num_features):\n",
    "        i += 1\n",
    "        select = RFE(DecisionTreeRegressor(random_state = 3000), n_features_to_select = i)\n",
    "        \n",
    "        #fit the RFE selector to the training data\n",
    "        select.fit(X_train, y_train)\n",
    "        \n",
    "        #transform training and testing sets so only the selected features are retained\n",
    "        X_train_selected = select.transform(X_train)\n",
    "        X_test_selected = select.transform(X_test)\n",
    "        \n",
    "        selected_features = select.get_support()\n",
    "        \n",
    "        #adding to the list of features in order of appearance / importance \n",
    "        for x in range(num_features):\n",
    "            if selected_features[x] == True:\n",
    "                if name_features[x] in features_names:\n",
    "                    continue\n",
    "                else:\n",
    "                    features_names.append(name_features[x])\n",
    "    print(\"Order of Importance of Features:\")\n",
    "    order = 1\n",
    "    for value in features_names:\n",
    "        print(\"\\t\",order,value)\n",
    "        order+= 1\n",
    "        \n"
   ]
  },
  {
   "cell_type": "code",
   "execution_count": 33,
   "metadata": {},
   "outputs": [
    {
     "name": "stdout",
     "output_type": "stream",
     "text": [
      "Order of Importance of Features:\n",
      "\t 1 Followers\n",
      "\t 2 Views gained\n",
      "\t 3 Watch time\n",
      "\t 4 Stream time\n",
      "\t 5 Followers gained\n",
      "\t 6 x1_English\n",
      "\t 7 Average viewers\n",
      "\t 8 Peak viewers\n",
      "\t 9 x1_Portuguese\n",
      "\t 10 x0_False\n",
      "\t 11 x0_True\n",
      "\t 12 x1_Korean\n",
      "\t 13 x1_German\n",
      "\t 14 x1_French\n"
     ]
    }
   ],
   "source": [
    "ife_features(X_train, y_train, X_test, y_test)"
   ]
  },
  {
   "cell_type": "markdown",
   "metadata": {},
   "source": [
    "### 3.2. Data Exploration\n",
    "* Generate appropriate data visualizations for your key variables identified in the previous section\n",
    "* You should have at least three visualizations (and at least two different visualization types)\n",
    "* For each visualization provide an explanation regarding the variables involved and an interpretation of the graph.\n",
    "* If you are using Plotly, insert your visualizations as images as well (upload the graph images to an online source, e.g. github, and embed those into the cells in Jupyter Notebook)\n"
   ]
  },
  {
   "cell_type": "code",
   "execution_count": 34,
   "metadata": {},
   "outputs": [],
   "source": [
    "import plotly.express as px\n",
    "import plotly.graph_objects as go"
   ]
  },
  {
   "cell_type": "code",
   "execution_count": 35,
   "metadata": {},
   "outputs": [
    {
     "data": {
      "application/vnd.plotly.v1+json": {
       "config": {
        "plotlyServerURL": "https://plot.ly"
       },
       "data": [
        {
         "hovertemplate": "Followers=%{x}<br>Total Income=%{y}<extra></extra>",
         "legendgroup": "",
         "marker": {
          "color": "#636efa",
          "symbol": "circle"
         },
         "mode": "markers",
         "name": "",
         "orientation": "v",
         "showlegend": false,
         "type": "scatter",
         "x": [
          767646,
          767646,
          770090,
          767646,
          770090,
          770090,
          767646,
          767646,
          770084,
          767646,
          767646,
          770090,
          767646,
          767646,
          767646,
          767646,
          767646,
          678078,
          678078,
          678078,
          680321,
          678078,
          678078,
          678078,
          680321,
          678078,
          678078,
          678078,
          678078,
          680321,
          680321,
          678078,
          678078,
          2355070,
          2382256,
          2382256,
          2355070,
          2355070,
          2355070,
          2355070,
          2355070,
          2355070,
          2382256,
          2355070,
          2355070,
          2382256,
          2355070,
          2382256,
          1241292,
          1242149,
          1241284,
          1242149,
          1241292,
          1242149,
          1241292,
          1241292,
          1241292,
          1241282,
          1241292,
          1242149,
          1241292,
          1242149,
          1241292,
          1241282,
          1241282,
          4377168,
          4419917,
          4377168,
          4419917,
          4377168,
          4377168,
          4419917,
          4377168,
          4419917,
          4377168,
          4377168,
          4377168,
          4377168,
          4377168,
          4377168,
          4377168,
          3987941,
          3987941,
          3987941,
          4013430,
          3988461,
          4013430,
          3988461,
          3987941,
          3987941,
          4013430,
          3987941,
          4013430,
          3988461,
          4013430,
          3987941,
          3987941,
          1176783,
          1176783,
          1176644,
          1176644,
          1176725,
          1176725,
          1184328,
          1176783,
          1184328,
          1184328,
          1176725,
          1176725,
          1176725,
          2316537,
          2338353,
          2338353,
          2338353,
          2316625,
          2316557,
          2316625,
          2338259,
          2316557,
          2338353,
          2316557,
          2316668,
          2316668,
          2316625,
          2316668,
          2316625,
          2622314,
          2617338,
          2622314,
          2617338,
          2617338,
          2617338,
          2622314,
          2617338,
          2622314,
          2617338,
          2622314,
          2617338,
          2617338,
          2617338,
          2617338,
          2617338,
          2617338,
          414914,
          414914,
          419546,
          414904,
          414914,
          414951,
          414931,
          414931,
          419546,
          414931,
          414951,
          414931,
          414951,
          414931,
          419546,
          892743,
          892743,
          892743,
          895999,
          895999,
          892743,
          892743,
          892743,
          892743,
          892743,
          892743,
          892743,
          895999,
          892743,
          895999,
          895999,
          892743,
          2631571,
          2720700,
          2631571,
          2631571,
          2631571,
          2631571,
          2631571,
          2720700,
          2720700,
          2631571,
          2631571,
          2631571,
          2631571,
          2720700,
          2631571,
          2720700,
          2631571,
          3646527,
          3646527,
          3578888,
          3578888,
          3578888,
          3578888,
          3578888,
          3646527,
          3578888,
          3578888,
          3578888,
          3578888,
          3578888,
          3646527,
          3646527,
          3578888,
          3578888,
          366923,
          371337,
          366923,
          366923,
          366923,
          366923,
          366923,
          366923,
          366923,
          371332,
          371337,
          366923,
          371337,
          371337,
          366923,
          366923,
          366923,
          499436,
          499439,
          499436,
          499439,
          499435,
          961250,
          961250,
          961250,
          961250,
          976718,
          961250,
          961250,
          961250,
          961250,
          961250,
          961250,
          976718,
          961250,
          8361504,
          8484459,
          8362079,
          8361504,
          8484459,
          8484459,
          8361164,
          8484459,
          8362079,
          8484459,
          8362079,
          8361504,
          8362570,
          8362570,
          8362079,
          8362079,
          8362570,
          4877453,
          4934549,
          4877453,
          4934549,
          4934549,
          4877453,
          4934549,
          4877453,
          4877453,
          4877453,
          4877453,
          4877453,
          4877453,
          4877453,
          4934399,
          4877453,
          4877453,
          639975,
          639975,
          639975,
          639975,
          639975,
          639975,
          639975,
          639975,
          639975,
          639975,
          417819,
          417819,
          419390,
          417819,
          417819,
          417819,
          417819,
          419390,
          417819,
          417813,
          417813,
          417813,
          417819,
          1770882,
          1834872,
          1834872,
          1770882,
          1770882,
          1770882,
          1770882,
          1770882,
          1834872,
          1770882,
          1770882,
          1834872,
          1770882,
          1770882,
          1692192,
          1692105,
          1692491,
          1692491,
          1713958,
          1692491,
          1692334,
          1692192,
          1692334,
          1692334,
          1692334,
          1713958,
          2986143,
          3078846,
          3078846,
          2986143,
          2986143,
          3078846,
          2986143,
          2986143,
          2986143,
          3078846,
          2986143,
          2986143,
          2986143,
          2986143,
          3078846,
          2986143,
          4403783,
          4403783,
          4386970,
          4386970,
          4386970,
          4386970,
          4403783,
          4403783,
          4386970,
          4386970,
          4386970,
          4386970,
          4386970,
          4386970,
          288802,
          284256,
          284261,
          284266,
          284272,
          284272,
          284266,
          288802,
          284266,
          284272,
          284261,
          288802,
          284261,
          1292018,
          1292018,
          1292018,
          1286027,
          1292018,
          1286027,
          1286027,
          1286027,
          1286027,
          1286027,
          1286027,
          1286027,
          1286027,
          1286027,
          1286027,
          1580528,
          1479593,
          1479638,
          1479741,
          1479698,
          1479698,
          1479741,
          1479741,
          1479698,
          871442,
          871442,
          871442,
          871442,
          871442,
          3368407,
          3239365,
          3239365,
          3239365,
          3239365,
          3239365,
          3368407,
          3239365,
          3239365,
          3239365,
          3239365,
          3239365,
          3239365,
          3239365,
          1372565,
          1372592,
          1372565,
          1374459,
          1372592,
          1372575,
          1372592,
          1372575,
          1372565,
          1374459,
          1374459,
          1372592,
          1372575,
          1372575,
          1374459,
          1372575,
          1374459,
          2724967,
          2729787,
          2724967,
          2729787,
          2729787,
          2724967,
          2724967,
          2724967,
          2724967,
          2724967,
          2724967,
          2724967,
          2724967,
          2729787,
          2729787,
          2724967,
          5343305,
          5353842,
          5343316,
          5343316,
          5343349,
          5353842,
          5343398,
          5353842,
          5343349,
          5353842,
          5343316,
          5343349,
          5343398,
          5343349,
          5343398,
          5353842,
          5343349,
          2995553,
          3042292,
          2995553,
          2995553,
          2995553,
          2995553,
          2995553,
          2995553,
          3042292,
          2995553,
          2995553,
          2995553,
          3042292,
          2995553,
          3042292,
          3042292,
          2995553,
          563673,
          565549,
          565549,
          565549,
          563673,
          565549,
          563673,
          563673,
          563673,
          565549,
          563673,
          563673,
          563673,
          563673,
          563673,
          563673,
          476111,
          476111,
          476111,
          476111,
          478229,
          476111,
          476111,
          478229,
          476111,
          476111,
          476111,
          476111,
          476111,
          476111,
          478229,
          478229,
          478229
         ],
         "xaxis": "x",
         "y": [
          51991.59,
          65543.89,
          53762.42,
          53793.14,
          69126.18,
          84154.99,
          79107.66,
          47713.7,
          53487.11,
          81827.18,
          50275.57,
          97509.19,
          46421.85,
          81206.79,
          48352.42,
          43448.75,
          60639.55,
          21099.21,
          14073.08,
          12806.56,
          13319.79,
          18805.73,
          13169.89,
          14902.13,
          14228.52,
          10334.6,
          10818.66,
          12227.13,
          12445.88,
          9455.65,
          9007,
          12745.29,
          13283.58,
          52761.41,
          39907.08,
          24048.28,
          43299.83,
          38229.51,
          48630.41,
          68035.23,
          33010.29,
          45216.03,
          22706,
          38908.94,
          24567.14,
          21433.76,
          18823.33,
          23913.96,
          47680.95,
          52379.79,
          25777.12,
          42267.49,
          68756.18,
          50177.83,
          48723.91,
          46279.09,
          42711.26,
          42541.39,
          37945.06,
          39942.74,
          41680.53,
          48701.05,
          48584.7,
          47518.02,
          40930.85,
          77072.43,
          70417.45,
          66488.28,
          72256.96,
          62167.87,
          51403.55,
          42941.62,
          76469.56,
          46092.83,
          79189.4,
          55301.15,
          61763.41,
          54856.56,
          45052.09,
          47086.8,
          49938.42,
          74101.78,
          86355.57,
          55752.85,
          97436.21,
          53616.78,
          61637.82,
          56059.59,
          59009.63,
          64033.63,
          69703.63,
          60860.12,
          67993.26,
          47602.33,
          64136.39,
          63480.55,
          56284.41,
          29546.97,
          23893.42,
          20355.13,
          17775.48,
          16637.53,
          24587.01,
          17076.77,
          19711.44,
          21138.62,
          26014.23,
          15519.56,
          20130.81,
          20859.25,
          26657.39,
          28563.78,
          18325.87,
          12606.39,
          23428.86,
          14147.04,
          20007.2,
          16134.26,
          13798.2,
          14387.22,
          15139.03,
          14679.95,
          15924.34,
          13880.83,
          14674.46,
          13533.51,
          42541.85,
          25754.59,
          44187.96,
          24941.46,
          26563.21,
          31608.58,
          32686.37,
          26098.96,
          47278.15,
          27581.2,
          28240.11,
          41658.06,
          28773.97,
          24567.28,
          26882.64,
          24177.98,
          26377.94,
          27871.72,
          26971.39,
          47288.64,
          43445.73,
          35281.12,
          35290.77,
          27780.84,
          31564.06,
          27757.21,
          46267.56,
          31846.07,
          34469.8,
          34032.19,
          34400.57,
          15839.53,
          59556.6,
          62522.37,
          63589.81,
          58521.71,
          56558.96,
          45207.07,
          53111.38,
          58132.98,
          52643.28,
          57477.67,
          52980.58,
          58817.86,
          61640.31,
          51424.74,
          84513.35,
          57052.17,
          52881.75,
          57776.71,
          47571.02,
          38868.71,
          35575,
          32741.56,
          26837.56,
          30630.17,
          18474.1,
          22146.95,
          24832.06,
          22481.13,
          25659.77,
          17381.65,
          12890.62,
          17426.71,
          13045.1,
          11313.33,
          133265.24,
          122537.36,
          149430.18,
          113652.56,
          92749.93,
          96595.63,
          100899.23,
          90658,
          106524.05,
          65567.7,
          92850.01,
          82039.17,
          67315.29,
          125677.51,
          67497.57,
          54433.8,
          85671.89,
          23802.84,
          19195.48,
          19335.71,
          16423.18,
          18950.28,
          17991.7,
          15715.78,
          19693.33,
          13449.2,
          13497.27,
          12485.49,
          17427.85,
          16284.1,
          18341.26,
          11766.99,
          13807.64,
          14054.99,
          6227.52,
          3967.05,
          3807.37,
          2729.53,
          3398.19,
          10369.24,
          6866.3,
          13728.11,
          1796.44,
          7275.55,
          2310.75,
          7994.1,
          8962.34,
          2539.99,
          928.14,
          1612.03,
          1596.86,
          1986.56,
          54636.18,
          86851.49,
          41578.52,
          43445.18,
          48042.08,
          53711.3,
          45080.63,
          67218.32,
          49568.11,
          59803.84,
          51255.83,
          41688.53,
          32492.82,
          28939,
          25719.23,
          44249.84,
          34626.78,
          86756.49,
          86191.6,
          50450.17,
          84391.7,
          69553.59,
          50087.86,
          58745.97,
          46946.44,
          49680.55,
          52413.19,
          58881.02,
          39235.3,
          39514.7,
          38266.46,
          47725.65,
          49161.85,
          32263.35,
          49806.61,
          42406.39,
          38354.28,
          42221.53,
          39317.81,
          61831.92,
          29471.94,
          26243.75,
          29232.54,
          31018.99,
          31467.63,
          53486.31,
          47735.26,
          33205.63,
          47854.03,
          38751.11,
          25408.31,
          42005.07,
          30783.95,
          29980.74,
          31048.76,
          22739.15,
          30258.34,
          19938.05,
          16512.48,
          13624.68,
          19298.09,
          14787.13,
          8734.16,
          9523.26,
          9358.57,
          10724.35,
          12481.27,
          10859.92,
          11800.58,
          11828.34,
          12486.52,
          1946.14,
          1751.54,
          1746.53,
          3952.1,
          1501.99,
          2949.1,
          2814.37,
          2639.82,
          3388.23,
          1581.84,
          1117.77,
          2130.89,
          6723.55,
          4421.5,
          5356.33,
          5465.35,
          5355.63,
          6774.25,
          5839.82,
          8774.72,
          6839.72,
          9370.59,
          6633.67,
          7098.16,
          6718.48,
          8170.49,
          5296.71,
          4547.15,
          21733.5,
          20611.58,
          20800.85,
          20511.46,
          32926.16,
          33614.73,
          18264.87,
          20600.7,
          22731.24,
          24981.31,
          23659.17,
          19502.06,
          24732.27,
          23728.88,
          379.44,
          419.35,
          264.57,
          334.62,
          224.66,
          629.55,
          289.67,
          694.25,
          269.69,
          469.71,
          184.75,
          5087.71,
          774.49,
          23779.84,
          25051.79,
          22002.47,
          19167.94,
          33316.11,
          22431.61,
          19716.74,
          18933.3,
          20600.37,
          19626.9,
          16583,
          18409.39,
          16523.23,
          21448.48,
          14861.29,
          0,
          64.9,
          109.84,
          89.85,
          109.83,
          74.87,
          94.85,
          79.87,
          74.88,
          29.95,
          59.9,
          34.94,
          79.86,
          59.9,
          17730.51,
          20604.56,
          19102.62,
          12730.3,
          15055.73,
          9032.36,
          14881.91,
          11053.5,
          11982.03,
          12296.1,
          13927.84,
          12221.01,
          12241.24,
          9596.31,
          2599.91,
          3523.18,
          3018.97,
          6397.61,
          10491.02,
          2709.7,
          4795.54,
          3483.13,
          3563.05,
          3343.48,
          3587.99,
          2994.69,
          2969.26,
          3203.81,
          2465.25,
          2739.54,
          6851.53,
          27296.6,
          45535,
          22590.34,
          19047.6,
          42262.36,
          14416.67,
          17415.62,
          25504.6,
          11477.24,
          23463.67,
          16562.57,
          20609.46,
          16696.89,
          14735.96,
          22091.64,
          11028.28,
          146092.02,
          63122.31,
          54414.23,
          66392.13,
          52065.73,
          72184.58,
          59391.01,
          87398.12,
          42883.27,
          63754.25,
          43255.15,
          39100.8,
          41336.59,
          35777.31,
          32039.37,
          30094.17,
          43273.01,
          72896.86,
          73100.89,
          59044.4,
          43041.44,
          50735.82,
          49837.64,
          53939.04,
          58559.49,
          38515.46,
          47302.66,
          64702.74,
          53465.54,
          40017.8,
          34518.74,
          42329.17,
          33600.27,
          31643.66,
          26110.83,
          25537.21,
          38027.35,
          26958.5,
          22142.26,
          22099.54,
          24221.38,
          10047.4,
          21296.75,
          24809.98,
          25879.76,
          20269.91,
          21562.32,
          25263.69,
          19805.24,
          23127.09,
          6009.1,
          8660.23,
          10162.98,
          12959.26,
          7291.44,
          13063.31,
          12109.88,
          13534.95,
          7946.2,
          9314.22,
          7163.75,
          12975.57,
          12251.66,
          11781.88,
          11772.36,
          12442.28,
          18632.5
         ],
         "yaxis": "y"
        }
       ],
       "layout": {
        "legend": {
         "tracegroupgap": 0
        },
        "margin": {
         "t": 60
        },
        "template": {
         "data": {
          "bar": [
           {
            "error_x": {
             "color": "#2a3f5f"
            },
            "error_y": {
             "color": "#2a3f5f"
            },
            "marker": {
             "line": {
              "color": "#E5ECF6",
              "width": 0.5
             }
            },
            "type": "bar"
           }
          ],
          "barpolar": [
           {
            "marker": {
             "line": {
              "color": "#E5ECF6",
              "width": 0.5
             }
            },
            "type": "barpolar"
           }
          ],
          "carpet": [
           {
            "aaxis": {
             "endlinecolor": "#2a3f5f",
             "gridcolor": "white",
             "linecolor": "white",
             "minorgridcolor": "white",
             "startlinecolor": "#2a3f5f"
            },
            "baxis": {
             "endlinecolor": "#2a3f5f",
             "gridcolor": "white",
             "linecolor": "white",
             "minorgridcolor": "white",
             "startlinecolor": "#2a3f5f"
            },
            "type": "carpet"
           }
          ],
          "choropleth": [
           {
            "colorbar": {
             "outlinewidth": 0,
             "ticks": ""
            },
            "type": "choropleth"
           }
          ],
          "contour": [
           {
            "colorbar": {
             "outlinewidth": 0,
             "ticks": ""
            },
            "colorscale": [
             [
              0,
              "#0d0887"
             ],
             [
              0.1111111111111111,
              "#46039f"
             ],
             [
              0.2222222222222222,
              "#7201a8"
             ],
             [
              0.3333333333333333,
              "#9c179e"
             ],
             [
              0.4444444444444444,
              "#bd3786"
             ],
             [
              0.5555555555555556,
              "#d8576b"
             ],
             [
              0.6666666666666666,
              "#ed7953"
             ],
             [
              0.7777777777777778,
              "#fb9f3a"
             ],
             [
              0.8888888888888888,
              "#fdca26"
             ],
             [
              1,
              "#f0f921"
             ]
            ],
            "type": "contour"
           }
          ],
          "contourcarpet": [
           {
            "colorbar": {
             "outlinewidth": 0,
             "ticks": ""
            },
            "type": "contourcarpet"
           }
          ],
          "heatmap": [
           {
            "colorbar": {
             "outlinewidth": 0,
             "ticks": ""
            },
            "colorscale": [
             [
              0,
              "#0d0887"
             ],
             [
              0.1111111111111111,
              "#46039f"
             ],
             [
              0.2222222222222222,
              "#7201a8"
             ],
             [
              0.3333333333333333,
              "#9c179e"
             ],
             [
              0.4444444444444444,
              "#bd3786"
             ],
             [
              0.5555555555555556,
              "#d8576b"
             ],
             [
              0.6666666666666666,
              "#ed7953"
             ],
             [
              0.7777777777777778,
              "#fb9f3a"
             ],
             [
              0.8888888888888888,
              "#fdca26"
             ],
             [
              1,
              "#f0f921"
             ]
            ],
            "type": "heatmap"
           }
          ],
          "heatmapgl": [
           {
            "colorbar": {
             "outlinewidth": 0,
             "ticks": ""
            },
            "colorscale": [
             [
              0,
              "#0d0887"
             ],
             [
              0.1111111111111111,
              "#46039f"
             ],
             [
              0.2222222222222222,
              "#7201a8"
             ],
             [
              0.3333333333333333,
              "#9c179e"
             ],
             [
              0.4444444444444444,
              "#bd3786"
             ],
             [
              0.5555555555555556,
              "#d8576b"
             ],
             [
              0.6666666666666666,
              "#ed7953"
             ],
             [
              0.7777777777777778,
              "#fb9f3a"
             ],
             [
              0.8888888888888888,
              "#fdca26"
             ],
             [
              1,
              "#f0f921"
             ]
            ],
            "type": "heatmapgl"
           }
          ],
          "histogram": [
           {
            "marker": {
             "colorbar": {
              "outlinewidth": 0,
              "ticks": ""
             }
            },
            "type": "histogram"
           }
          ],
          "histogram2d": [
           {
            "colorbar": {
             "outlinewidth": 0,
             "ticks": ""
            },
            "colorscale": [
             [
              0,
              "#0d0887"
             ],
             [
              0.1111111111111111,
              "#46039f"
             ],
             [
              0.2222222222222222,
              "#7201a8"
             ],
             [
              0.3333333333333333,
              "#9c179e"
             ],
             [
              0.4444444444444444,
              "#bd3786"
             ],
             [
              0.5555555555555556,
              "#d8576b"
             ],
             [
              0.6666666666666666,
              "#ed7953"
             ],
             [
              0.7777777777777778,
              "#fb9f3a"
             ],
             [
              0.8888888888888888,
              "#fdca26"
             ],
             [
              1,
              "#f0f921"
             ]
            ],
            "type": "histogram2d"
           }
          ],
          "histogram2dcontour": [
           {
            "colorbar": {
             "outlinewidth": 0,
             "ticks": ""
            },
            "colorscale": [
             [
              0,
              "#0d0887"
             ],
             [
              0.1111111111111111,
              "#46039f"
             ],
             [
              0.2222222222222222,
              "#7201a8"
             ],
             [
              0.3333333333333333,
              "#9c179e"
             ],
             [
              0.4444444444444444,
              "#bd3786"
             ],
             [
              0.5555555555555556,
              "#d8576b"
             ],
             [
              0.6666666666666666,
              "#ed7953"
             ],
             [
              0.7777777777777778,
              "#fb9f3a"
             ],
             [
              0.8888888888888888,
              "#fdca26"
             ],
             [
              1,
              "#f0f921"
             ]
            ],
            "type": "histogram2dcontour"
           }
          ],
          "mesh3d": [
           {
            "colorbar": {
             "outlinewidth": 0,
             "ticks": ""
            },
            "type": "mesh3d"
           }
          ],
          "parcoords": [
           {
            "line": {
             "colorbar": {
              "outlinewidth": 0,
              "ticks": ""
             }
            },
            "type": "parcoords"
           }
          ],
          "pie": [
           {
            "automargin": true,
            "type": "pie"
           }
          ],
          "scatter": [
           {
            "marker": {
             "colorbar": {
              "outlinewidth": 0,
              "ticks": ""
             }
            },
            "type": "scatter"
           }
          ],
          "scatter3d": [
           {
            "line": {
             "colorbar": {
              "outlinewidth": 0,
              "ticks": ""
             }
            },
            "marker": {
             "colorbar": {
              "outlinewidth": 0,
              "ticks": ""
             }
            },
            "type": "scatter3d"
           }
          ],
          "scattercarpet": [
           {
            "marker": {
             "colorbar": {
              "outlinewidth": 0,
              "ticks": ""
             }
            },
            "type": "scattercarpet"
           }
          ],
          "scattergeo": [
           {
            "marker": {
             "colorbar": {
              "outlinewidth": 0,
              "ticks": ""
             }
            },
            "type": "scattergeo"
           }
          ],
          "scattergl": [
           {
            "marker": {
             "colorbar": {
              "outlinewidth": 0,
              "ticks": ""
             }
            },
            "type": "scattergl"
           }
          ],
          "scattermapbox": [
           {
            "marker": {
             "colorbar": {
              "outlinewidth": 0,
              "ticks": ""
             }
            },
            "type": "scattermapbox"
           }
          ],
          "scatterpolar": [
           {
            "marker": {
             "colorbar": {
              "outlinewidth": 0,
              "ticks": ""
             }
            },
            "type": "scatterpolar"
           }
          ],
          "scatterpolargl": [
           {
            "marker": {
             "colorbar": {
              "outlinewidth": 0,
              "ticks": ""
             }
            },
            "type": "scatterpolargl"
           }
          ],
          "scatterternary": [
           {
            "marker": {
             "colorbar": {
              "outlinewidth": 0,
              "ticks": ""
             }
            },
            "type": "scatterternary"
           }
          ],
          "surface": [
           {
            "colorbar": {
             "outlinewidth": 0,
             "ticks": ""
            },
            "colorscale": [
             [
              0,
              "#0d0887"
             ],
             [
              0.1111111111111111,
              "#46039f"
             ],
             [
              0.2222222222222222,
              "#7201a8"
             ],
             [
              0.3333333333333333,
              "#9c179e"
             ],
             [
              0.4444444444444444,
              "#bd3786"
             ],
             [
              0.5555555555555556,
              "#d8576b"
             ],
             [
              0.6666666666666666,
              "#ed7953"
             ],
             [
              0.7777777777777778,
              "#fb9f3a"
             ],
             [
              0.8888888888888888,
              "#fdca26"
             ],
             [
              1,
              "#f0f921"
             ]
            ],
            "type": "surface"
           }
          ],
          "table": [
           {
            "cells": {
             "fill": {
              "color": "#EBF0F8"
             },
             "line": {
              "color": "white"
             }
            },
            "header": {
             "fill": {
              "color": "#C8D4E3"
             },
             "line": {
              "color": "white"
             }
            },
            "type": "table"
           }
          ]
         },
         "layout": {
          "annotationdefaults": {
           "arrowcolor": "#2a3f5f",
           "arrowhead": 0,
           "arrowwidth": 1
          },
          "coloraxis": {
           "colorbar": {
            "outlinewidth": 0,
            "ticks": ""
           }
          },
          "colorscale": {
           "diverging": [
            [
             0,
             "#8e0152"
            ],
            [
             0.1,
             "#c51b7d"
            ],
            [
             0.2,
             "#de77ae"
            ],
            [
             0.3,
             "#f1b6da"
            ],
            [
             0.4,
             "#fde0ef"
            ],
            [
             0.5,
             "#f7f7f7"
            ],
            [
             0.6,
             "#e6f5d0"
            ],
            [
             0.7,
             "#b8e186"
            ],
            [
             0.8,
             "#7fbc41"
            ],
            [
             0.9,
             "#4d9221"
            ],
            [
             1,
             "#276419"
            ]
           ],
           "sequential": [
            [
             0,
             "#0d0887"
            ],
            [
             0.1111111111111111,
             "#46039f"
            ],
            [
             0.2222222222222222,
             "#7201a8"
            ],
            [
             0.3333333333333333,
             "#9c179e"
            ],
            [
             0.4444444444444444,
             "#bd3786"
            ],
            [
             0.5555555555555556,
             "#d8576b"
            ],
            [
             0.6666666666666666,
             "#ed7953"
            ],
            [
             0.7777777777777778,
             "#fb9f3a"
            ],
            [
             0.8888888888888888,
             "#fdca26"
            ],
            [
             1,
             "#f0f921"
            ]
           ],
           "sequentialminus": [
            [
             0,
             "#0d0887"
            ],
            [
             0.1111111111111111,
             "#46039f"
            ],
            [
             0.2222222222222222,
             "#7201a8"
            ],
            [
             0.3333333333333333,
             "#9c179e"
            ],
            [
             0.4444444444444444,
             "#bd3786"
            ],
            [
             0.5555555555555556,
             "#d8576b"
            ],
            [
             0.6666666666666666,
             "#ed7953"
            ],
            [
             0.7777777777777778,
             "#fb9f3a"
            ],
            [
             0.8888888888888888,
             "#fdca26"
            ],
            [
             1,
             "#f0f921"
            ]
           ]
          },
          "colorway": [
           "#636efa",
           "#EF553B",
           "#00cc96",
           "#ab63fa",
           "#FFA15A",
           "#19d3f3",
           "#FF6692",
           "#B6E880",
           "#FF97FF",
           "#FECB52"
          ],
          "font": {
           "color": "#2a3f5f"
          },
          "geo": {
           "bgcolor": "white",
           "lakecolor": "white",
           "landcolor": "#E5ECF6",
           "showlakes": true,
           "showland": true,
           "subunitcolor": "white"
          },
          "hoverlabel": {
           "align": "left"
          },
          "hovermode": "closest",
          "mapbox": {
           "style": "light"
          },
          "paper_bgcolor": "white",
          "plot_bgcolor": "#E5ECF6",
          "polar": {
           "angularaxis": {
            "gridcolor": "white",
            "linecolor": "white",
            "ticks": ""
           },
           "bgcolor": "#E5ECF6",
           "radialaxis": {
            "gridcolor": "white",
            "linecolor": "white",
            "ticks": ""
           }
          },
          "scene": {
           "xaxis": {
            "backgroundcolor": "#E5ECF6",
            "gridcolor": "white",
            "gridwidth": 2,
            "linecolor": "white",
            "showbackground": true,
            "ticks": "",
            "zerolinecolor": "white"
           },
           "yaxis": {
            "backgroundcolor": "#E5ECF6",
            "gridcolor": "white",
            "gridwidth": 2,
            "linecolor": "white",
            "showbackground": true,
            "ticks": "",
            "zerolinecolor": "white"
           },
           "zaxis": {
            "backgroundcolor": "#E5ECF6",
            "gridcolor": "white",
            "gridwidth": 2,
            "linecolor": "white",
            "showbackground": true,
            "ticks": "",
            "zerolinecolor": "white"
           }
          },
          "shapedefaults": {
           "line": {
            "color": "#2a3f5f"
           }
          },
          "ternary": {
           "aaxis": {
            "gridcolor": "white",
            "linecolor": "white",
            "ticks": ""
           },
           "baxis": {
            "gridcolor": "white",
            "linecolor": "white",
            "ticks": ""
           },
           "bgcolor": "#E5ECF6",
           "caxis": {
            "gridcolor": "white",
            "linecolor": "white",
            "ticks": ""
           }
          },
          "title": {
           "x": 0.05
          },
          "xaxis": {
           "automargin": true,
           "gridcolor": "white",
           "linecolor": "white",
           "ticks": "",
           "title": {
            "standoff": 15
           },
           "zerolinecolor": "white",
           "zerolinewidth": 2
          },
          "yaxis": {
           "automargin": true,
           "gridcolor": "white",
           "linecolor": "white",
           "ticks": "",
           "title": {
            "standoff": 15
           },
           "zerolinecolor": "white",
           "zerolinewidth": 2
          }
         }
        },
        "xaxis": {
         "anchor": "y",
         "domain": [
          0,
          1
         ],
         "title": {
          "text": "Followers"
         }
        },
        "yaxis": {
         "anchor": "x",
         "domain": [
          0,
          1
         ],
         "title": {
          "text": "Total Income"
         }
        }
       }
      },
      "text/html": [
       "<div>\n",
       "        \n",
       "        \n",
       "            <div id=\"11b83db3-137a-416c-81e1-27f8a37408e6\" class=\"plotly-graph-div\" style=\"height:525px; width:100%;\"></div>\n",
       "            <script type=\"text/javascript\">\n",
       "                require([\"plotly\"], function(Plotly) {\n",
       "                    window.PLOTLYENV=window.PLOTLYENV || {};\n",
       "                    \n",
       "                if (document.getElementById(\"11b83db3-137a-416c-81e1-27f8a37408e6\")) {\n",
       "                    Plotly.newPlot(\n",
       "                        '11b83db3-137a-416c-81e1-27f8a37408e6',\n",
       "                        [{\"hovertemplate\": \"Followers=%{x}<br>Total Income=%{y}<extra></extra>\", \"legendgroup\": \"\", \"marker\": {\"color\": \"#636efa\", \"symbol\": \"circle\"}, \"mode\": \"markers\", \"name\": \"\", \"orientation\": \"v\", \"showlegend\": false, \"type\": \"scatter\", \"x\": [767646, 767646, 770090, 767646, 770090, 770090, 767646, 767646, 770084, 767646, 767646, 770090, 767646, 767646, 767646, 767646, 767646, 678078, 678078, 678078, 680321, 678078, 678078, 678078, 680321, 678078, 678078, 678078, 678078, 680321, 680321, 678078, 678078, 2355070, 2382256, 2382256, 2355070, 2355070, 2355070, 2355070, 2355070, 2355070, 2382256, 2355070, 2355070, 2382256, 2355070, 2382256, 1241292, 1242149, 1241284, 1242149, 1241292, 1242149, 1241292, 1241292, 1241292, 1241282, 1241292, 1242149, 1241292, 1242149, 1241292, 1241282, 1241282, 4377168, 4419917, 4377168, 4419917, 4377168, 4377168, 4419917, 4377168, 4419917, 4377168, 4377168, 4377168, 4377168, 4377168, 4377168, 4377168, 3987941, 3987941, 3987941, 4013430, 3988461, 4013430, 3988461, 3987941, 3987941, 4013430, 3987941, 4013430, 3988461, 4013430, 3987941, 3987941, 1176783, 1176783, 1176644, 1176644, 1176725, 1176725, 1184328, 1176783, 1184328, 1184328, 1176725, 1176725, 1176725, 2316537, 2338353, 2338353, 2338353, 2316625, 2316557, 2316625, 2338259, 2316557, 2338353, 2316557, 2316668, 2316668, 2316625, 2316668, 2316625, 2622314, 2617338, 2622314, 2617338, 2617338, 2617338, 2622314, 2617338, 2622314, 2617338, 2622314, 2617338, 2617338, 2617338, 2617338, 2617338, 2617338, 414914, 414914, 419546, 414904, 414914, 414951, 414931, 414931, 419546, 414931, 414951, 414931, 414951, 414931, 419546, 892743, 892743, 892743, 895999, 895999, 892743, 892743, 892743, 892743, 892743, 892743, 892743, 895999, 892743, 895999, 895999, 892743, 2631571, 2720700, 2631571, 2631571, 2631571, 2631571, 2631571, 2720700, 2720700, 2631571, 2631571, 2631571, 2631571, 2720700, 2631571, 2720700, 2631571, 3646527, 3646527, 3578888, 3578888, 3578888, 3578888, 3578888, 3646527, 3578888, 3578888, 3578888, 3578888, 3578888, 3646527, 3646527, 3578888, 3578888, 366923, 371337, 366923, 366923, 366923, 366923, 366923, 366923, 366923, 371332, 371337, 366923, 371337, 371337, 366923, 366923, 366923, 499436, 499439, 499436, 499439, 499435, 961250, 961250, 961250, 961250, 976718, 961250, 961250, 961250, 961250, 961250, 961250, 976718, 961250, 8361504, 8484459, 8362079, 8361504, 8484459, 8484459, 8361164, 8484459, 8362079, 8484459, 8362079, 8361504, 8362570, 8362570, 8362079, 8362079, 8362570, 4877453, 4934549, 4877453, 4934549, 4934549, 4877453, 4934549, 4877453, 4877453, 4877453, 4877453, 4877453, 4877453, 4877453, 4934399, 4877453, 4877453, 639975, 639975, 639975, 639975, 639975, 639975, 639975, 639975, 639975, 639975, 417819, 417819, 419390, 417819, 417819, 417819, 417819, 419390, 417819, 417813, 417813, 417813, 417819, 1770882, 1834872, 1834872, 1770882, 1770882, 1770882, 1770882, 1770882, 1834872, 1770882, 1770882, 1834872, 1770882, 1770882, 1692192, 1692105, 1692491, 1692491, 1713958, 1692491, 1692334, 1692192, 1692334, 1692334, 1692334, 1713958, 2986143, 3078846, 3078846, 2986143, 2986143, 3078846, 2986143, 2986143, 2986143, 3078846, 2986143, 2986143, 2986143, 2986143, 3078846, 2986143, 4403783, 4403783, 4386970, 4386970, 4386970, 4386970, 4403783, 4403783, 4386970, 4386970, 4386970, 4386970, 4386970, 4386970, 288802, 284256, 284261, 284266, 284272, 284272, 284266, 288802, 284266, 284272, 284261, 288802, 284261, 1292018, 1292018, 1292018, 1286027, 1292018, 1286027, 1286027, 1286027, 1286027, 1286027, 1286027, 1286027, 1286027, 1286027, 1286027, 1580528, 1479593, 1479638, 1479741, 1479698, 1479698, 1479741, 1479741, 1479698, 871442, 871442, 871442, 871442, 871442, 3368407, 3239365, 3239365, 3239365, 3239365, 3239365, 3368407, 3239365, 3239365, 3239365, 3239365, 3239365, 3239365, 3239365, 1372565, 1372592, 1372565, 1374459, 1372592, 1372575, 1372592, 1372575, 1372565, 1374459, 1374459, 1372592, 1372575, 1372575, 1374459, 1372575, 1374459, 2724967, 2729787, 2724967, 2729787, 2729787, 2724967, 2724967, 2724967, 2724967, 2724967, 2724967, 2724967, 2724967, 2729787, 2729787, 2724967, 5343305, 5353842, 5343316, 5343316, 5343349, 5353842, 5343398, 5353842, 5343349, 5353842, 5343316, 5343349, 5343398, 5343349, 5343398, 5353842, 5343349, 2995553, 3042292, 2995553, 2995553, 2995553, 2995553, 2995553, 2995553, 3042292, 2995553, 2995553, 2995553, 3042292, 2995553, 3042292, 3042292, 2995553, 563673, 565549, 565549, 565549, 563673, 565549, 563673, 563673, 563673, 565549, 563673, 563673, 563673, 563673, 563673, 563673, 476111, 476111, 476111, 476111, 478229, 476111, 476111, 478229, 476111, 476111, 476111, 476111, 476111, 476111, 478229, 478229, 478229], \"xaxis\": \"x\", \"y\": [51991.59, 65543.89, 53762.42, 53793.14, 69126.18, 84154.99, 79107.66, 47713.7, 53487.11, 81827.18, 50275.57, 97509.19, 46421.85, 81206.79, 48352.42, 43448.75, 60639.55, 21099.21, 14073.08, 12806.56, 13319.79, 18805.73, 13169.89, 14902.13, 14228.52, 10334.6, 10818.66, 12227.13, 12445.88, 9455.65, 9007.0, 12745.29, 13283.58, 52761.41, 39907.08, 24048.28, 43299.83, 38229.51, 48630.41, 68035.23, 33010.29, 45216.03, 22706.0, 38908.94, 24567.14, 21433.76, 18823.33, 23913.96, 47680.95, 52379.79, 25777.12, 42267.49, 68756.18, 50177.83, 48723.91, 46279.09, 42711.26, 42541.39, 37945.06, 39942.74, 41680.53, 48701.05, 48584.7, 47518.02, 40930.85, 77072.43, 70417.45, 66488.28, 72256.96, 62167.87, 51403.55, 42941.62, 76469.56, 46092.83, 79189.4, 55301.15, 61763.41, 54856.56, 45052.09, 47086.8, 49938.42, 74101.78, 86355.57, 55752.85, 97436.21, 53616.78, 61637.82, 56059.59, 59009.63, 64033.63, 69703.63, 60860.12, 67993.26, 47602.33, 64136.39, 63480.55, 56284.41, 29546.97, 23893.42, 20355.13, 17775.48, 16637.53, 24587.01, 17076.77, 19711.44, 21138.62, 26014.23, 15519.56, 20130.81, 20859.25, 26657.39, 28563.78, 18325.87, 12606.39, 23428.86, 14147.04, 20007.2, 16134.26, 13798.2, 14387.22, 15139.03, 14679.95, 15924.34, 13880.83, 14674.46, 13533.51, 42541.85, 25754.59, 44187.96, 24941.46, 26563.21, 31608.58, 32686.37, 26098.96, 47278.15, 27581.2, 28240.11, 41658.06, 28773.97, 24567.28, 26882.64, 24177.98, 26377.94, 27871.72, 26971.39, 47288.64, 43445.73, 35281.12, 35290.77, 27780.84, 31564.06, 27757.21, 46267.56, 31846.07, 34469.8, 34032.19, 34400.57, 15839.53, 59556.6, 62522.37, 63589.81, 58521.71, 56558.96, 45207.07, 53111.38, 58132.98, 52643.28, 57477.67, 52980.58, 58817.86, 61640.31, 51424.74, 84513.35, 57052.17, 52881.75, 57776.71, 47571.02, 38868.71, 35575.0, 32741.56, 26837.56, 30630.17, 18474.1, 22146.95, 24832.06, 22481.13, 25659.77, 17381.65, 12890.62, 17426.71, 13045.1, 11313.33, 133265.24, 122537.36, 149430.18, 113652.56, 92749.93, 96595.63, 100899.23, 90658.0, 106524.05, 65567.7, 92850.01, 82039.17, 67315.29, 125677.51, 67497.57, 54433.8, 85671.89, 23802.84, 19195.48, 19335.71, 16423.18, 18950.28, 17991.7, 15715.78, 19693.33, 13449.2, 13497.27, 12485.49, 17427.85, 16284.1, 18341.26, 11766.99, 13807.64, 14054.99, 6227.52, 3967.05, 3807.37, 2729.53, 3398.19, 10369.24, 6866.3, 13728.11, 1796.44, 7275.55, 2310.75, 7994.1, 8962.34, 2539.99, 928.14, 1612.03, 1596.86, 1986.56, 54636.18, 86851.49, 41578.52, 43445.18, 48042.08, 53711.3, 45080.63, 67218.32, 49568.11, 59803.84, 51255.83, 41688.53, 32492.82, 28939.0, 25719.23, 44249.84, 34626.78, 86756.49, 86191.6, 50450.17, 84391.7, 69553.59, 50087.86, 58745.97, 46946.44, 49680.55, 52413.19, 58881.02, 39235.3, 39514.7, 38266.46, 47725.65, 49161.85, 32263.35, 49806.61, 42406.39, 38354.28, 42221.53, 39317.81, 61831.92, 29471.94, 26243.75, 29232.54, 31018.99, 31467.63, 53486.31, 47735.26, 33205.63, 47854.03, 38751.11, 25408.31, 42005.07, 30783.95, 29980.74, 31048.76, 22739.15, 30258.34, 19938.05, 16512.48, 13624.68, 19298.09, 14787.13, 8734.16, 9523.26, 9358.57, 10724.35, 12481.27, 10859.92, 11800.58, 11828.34, 12486.52, 1946.14, 1751.54, 1746.53, 3952.1, 1501.99, 2949.1, 2814.37, 2639.82, 3388.23, 1581.84, 1117.77, 2130.89, 6723.55, 4421.5, 5356.33, 5465.35, 5355.63, 6774.25, 5839.82, 8774.72, 6839.72, 9370.59, 6633.67, 7098.16, 6718.48, 8170.49, 5296.71, 4547.15, 21733.5, 20611.58, 20800.85, 20511.46, 32926.16, 33614.73, 18264.87, 20600.7, 22731.24, 24981.31, 23659.17, 19502.06, 24732.27, 23728.88, 379.44, 419.35, 264.57, 334.62, 224.66, 629.55, 289.67, 694.25, 269.69, 469.71, 184.75, 5087.71, 774.49, 23779.84, 25051.79, 22002.47, 19167.94, 33316.11, 22431.61, 19716.74, 18933.3, 20600.37, 19626.9, 16583.0, 18409.39, 16523.23, 21448.48, 14861.29, 0.0, 64.9, 109.84, 89.85, 109.83, 74.87, 94.85, 79.87, 74.88, 29.95, 59.9, 34.94, 79.86, 59.9, 17730.51, 20604.56, 19102.62, 12730.3, 15055.73, 9032.36, 14881.91, 11053.5, 11982.03, 12296.1, 13927.84, 12221.01, 12241.24, 9596.31, 2599.91, 3523.18, 3018.97, 6397.61, 10491.02, 2709.7, 4795.54, 3483.13, 3563.05, 3343.48, 3587.99, 2994.69, 2969.26, 3203.81, 2465.25, 2739.54, 6851.53, 27296.6, 45535.0, 22590.34, 19047.6, 42262.36, 14416.67, 17415.62, 25504.6, 11477.24, 23463.67, 16562.57, 20609.46, 16696.89, 14735.96, 22091.64, 11028.28, 146092.02, 63122.31, 54414.23, 66392.13, 52065.73, 72184.58, 59391.01, 87398.12, 42883.27, 63754.25, 43255.15, 39100.8, 41336.59, 35777.31, 32039.37, 30094.17, 43273.01, 72896.86, 73100.89, 59044.4, 43041.44, 50735.82, 49837.64, 53939.04, 58559.49, 38515.46, 47302.66, 64702.74, 53465.54, 40017.8, 34518.74, 42329.17, 33600.27, 31643.66, 26110.83, 25537.21, 38027.35, 26958.5, 22142.26, 22099.54, 24221.38, 10047.4, 21296.75, 24809.98, 25879.76, 20269.91, 21562.32, 25263.69, 19805.24, 23127.09, 6009.1, 8660.23, 10162.98, 12959.26, 7291.44, 13063.31, 12109.88, 13534.95, 7946.2, 9314.22, 7163.75, 12975.57, 12251.66, 11781.88, 11772.36, 12442.28, 18632.5], \"yaxis\": \"y\"}],\n",
       "                        {\"legend\": {\"tracegroupgap\": 0}, \"margin\": {\"t\": 60}, \"template\": {\"data\": {\"bar\": [{\"error_x\": {\"color\": \"#2a3f5f\"}, \"error_y\": {\"color\": \"#2a3f5f\"}, \"marker\": {\"line\": {\"color\": \"#E5ECF6\", \"width\": 0.5}}, \"type\": \"bar\"}], \"barpolar\": [{\"marker\": {\"line\": {\"color\": \"#E5ECF6\", \"width\": 0.5}}, \"type\": \"barpolar\"}], \"carpet\": [{\"aaxis\": {\"endlinecolor\": \"#2a3f5f\", \"gridcolor\": \"white\", \"linecolor\": \"white\", \"minorgridcolor\": \"white\", \"startlinecolor\": \"#2a3f5f\"}, \"baxis\": {\"endlinecolor\": \"#2a3f5f\", \"gridcolor\": \"white\", \"linecolor\": \"white\", \"minorgridcolor\": \"white\", \"startlinecolor\": \"#2a3f5f\"}, \"type\": \"carpet\"}], \"choropleth\": [{\"colorbar\": {\"outlinewidth\": 0, \"ticks\": \"\"}, \"type\": \"choropleth\"}], \"contour\": [{\"colorbar\": {\"outlinewidth\": 0, \"ticks\": \"\"}, \"colorscale\": [[0.0, \"#0d0887\"], [0.1111111111111111, \"#46039f\"], [0.2222222222222222, \"#7201a8\"], [0.3333333333333333, \"#9c179e\"], [0.4444444444444444, \"#bd3786\"], [0.5555555555555556, \"#d8576b\"], [0.6666666666666666, \"#ed7953\"], [0.7777777777777778, \"#fb9f3a\"], [0.8888888888888888, \"#fdca26\"], [1.0, \"#f0f921\"]], \"type\": \"contour\"}], \"contourcarpet\": [{\"colorbar\": {\"outlinewidth\": 0, \"ticks\": \"\"}, \"type\": \"contourcarpet\"}], \"heatmap\": [{\"colorbar\": {\"outlinewidth\": 0, \"ticks\": \"\"}, \"colorscale\": [[0.0, \"#0d0887\"], [0.1111111111111111, \"#46039f\"], [0.2222222222222222, \"#7201a8\"], [0.3333333333333333, \"#9c179e\"], [0.4444444444444444, \"#bd3786\"], [0.5555555555555556, \"#d8576b\"], [0.6666666666666666, \"#ed7953\"], [0.7777777777777778, \"#fb9f3a\"], [0.8888888888888888, \"#fdca26\"], [1.0, \"#f0f921\"]], \"type\": \"heatmap\"}], \"heatmapgl\": [{\"colorbar\": {\"outlinewidth\": 0, \"ticks\": \"\"}, \"colorscale\": [[0.0, \"#0d0887\"], [0.1111111111111111, \"#46039f\"], [0.2222222222222222, \"#7201a8\"], [0.3333333333333333, \"#9c179e\"], [0.4444444444444444, \"#bd3786\"], [0.5555555555555556, \"#d8576b\"], [0.6666666666666666, \"#ed7953\"], [0.7777777777777778, \"#fb9f3a\"], [0.8888888888888888, \"#fdca26\"], [1.0, \"#f0f921\"]], \"type\": \"heatmapgl\"}], \"histogram\": [{\"marker\": {\"colorbar\": {\"outlinewidth\": 0, \"ticks\": \"\"}}, \"type\": \"histogram\"}], \"histogram2d\": [{\"colorbar\": {\"outlinewidth\": 0, \"ticks\": \"\"}, \"colorscale\": [[0.0, \"#0d0887\"], [0.1111111111111111, \"#46039f\"], [0.2222222222222222, \"#7201a8\"], [0.3333333333333333, \"#9c179e\"], [0.4444444444444444, \"#bd3786\"], [0.5555555555555556, \"#d8576b\"], [0.6666666666666666, \"#ed7953\"], [0.7777777777777778, \"#fb9f3a\"], [0.8888888888888888, \"#fdca26\"], [1.0, \"#f0f921\"]], \"type\": \"histogram2d\"}], \"histogram2dcontour\": [{\"colorbar\": {\"outlinewidth\": 0, \"ticks\": \"\"}, \"colorscale\": [[0.0, \"#0d0887\"], [0.1111111111111111, \"#46039f\"], [0.2222222222222222, \"#7201a8\"], [0.3333333333333333, \"#9c179e\"], [0.4444444444444444, \"#bd3786\"], [0.5555555555555556, \"#d8576b\"], [0.6666666666666666, \"#ed7953\"], [0.7777777777777778, \"#fb9f3a\"], [0.8888888888888888, \"#fdca26\"], [1.0, \"#f0f921\"]], \"type\": \"histogram2dcontour\"}], \"mesh3d\": [{\"colorbar\": {\"outlinewidth\": 0, \"ticks\": \"\"}, \"type\": \"mesh3d\"}], \"parcoords\": [{\"line\": {\"colorbar\": {\"outlinewidth\": 0, \"ticks\": \"\"}}, \"type\": \"parcoords\"}], \"pie\": [{\"automargin\": true, \"type\": \"pie\"}], \"scatter\": [{\"marker\": {\"colorbar\": {\"outlinewidth\": 0, \"ticks\": \"\"}}, \"type\": \"scatter\"}], \"scatter3d\": [{\"line\": {\"colorbar\": {\"outlinewidth\": 0, \"ticks\": \"\"}}, \"marker\": {\"colorbar\": {\"outlinewidth\": 0, \"ticks\": \"\"}}, \"type\": \"scatter3d\"}], \"scattercarpet\": [{\"marker\": {\"colorbar\": {\"outlinewidth\": 0, \"ticks\": \"\"}}, \"type\": \"scattercarpet\"}], \"scattergeo\": [{\"marker\": {\"colorbar\": {\"outlinewidth\": 0, \"ticks\": \"\"}}, \"type\": \"scattergeo\"}], \"scattergl\": [{\"marker\": {\"colorbar\": {\"outlinewidth\": 0, \"ticks\": \"\"}}, \"type\": \"scattergl\"}], \"scattermapbox\": [{\"marker\": {\"colorbar\": {\"outlinewidth\": 0, \"ticks\": \"\"}}, \"type\": \"scattermapbox\"}], \"scatterpolar\": [{\"marker\": {\"colorbar\": {\"outlinewidth\": 0, \"ticks\": \"\"}}, \"type\": \"scatterpolar\"}], \"scatterpolargl\": [{\"marker\": {\"colorbar\": {\"outlinewidth\": 0, \"ticks\": \"\"}}, \"type\": \"scatterpolargl\"}], \"scatterternary\": [{\"marker\": {\"colorbar\": {\"outlinewidth\": 0, \"ticks\": \"\"}}, \"type\": \"scatterternary\"}], \"surface\": [{\"colorbar\": {\"outlinewidth\": 0, \"ticks\": \"\"}, \"colorscale\": [[0.0, \"#0d0887\"], [0.1111111111111111, \"#46039f\"], [0.2222222222222222, \"#7201a8\"], [0.3333333333333333, \"#9c179e\"], [0.4444444444444444, \"#bd3786\"], [0.5555555555555556, \"#d8576b\"], [0.6666666666666666, \"#ed7953\"], [0.7777777777777778, \"#fb9f3a\"], [0.8888888888888888, \"#fdca26\"], [1.0, \"#f0f921\"]], \"type\": \"surface\"}], \"table\": [{\"cells\": {\"fill\": {\"color\": \"#EBF0F8\"}, \"line\": {\"color\": \"white\"}}, \"header\": {\"fill\": {\"color\": \"#C8D4E3\"}, \"line\": {\"color\": \"white\"}}, \"type\": \"table\"}]}, \"layout\": {\"annotationdefaults\": {\"arrowcolor\": \"#2a3f5f\", \"arrowhead\": 0, \"arrowwidth\": 1}, \"coloraxis\": {\"colorbar\": {\"outlinewidth\": 0, \"ticks\": \"\"}}, \"colorscale\": {\"diverging\": [[0, \"#8e0152\"], [0.1, \"#c51b7d\"], [0.2, \"#de77ae\"], [0.3, \"#f1b6da\"], [0.4, \"#fde0ef\"], [0.5, \"#f7f7f7\"], [0.6, \"#e6f5d0\"], [0.7, \"#b8e186\"], [0.8, \"#7fbc41\"], [0.9, \"#4d9221\"], [1, \"#276419\"]], \"sequential\": [[0.0, \"#0d0887\"], [0.1111111111111111, \"#46039f\"], [0.2222222222222222, \"#7201a8\"], [0.3333333333333333, \"#9c179e\"], [0.4444444444444444, \"#bd3786\"], [0.5555555555555556, \"#d8576b\"], [0.6666666666666666, \"#ed7953\"], [0.7777777777777778, \"#fb9f3a\"], [0.8888888888888888, \"#fdca26\"], [1.0, \"#f0f921\"]], \"sequentialminus\": [[0.0, \"#0d0887\"], [0.1111111111111111, \"#46039f\"], [0.2222222222222222, \"#7201a8\"], [0.3333333333333333, \"#9c179e\"], [0.4444444444444444, \"#bd3786\"], [0.5555555555555556, \"#d8576b\"], [0.6666666666666666, \"#ed7953\"], [0.7777777777777778, \"#fb9f3a\"], [0.8888888888888888, \"#fdca26\"], [1.0, \"#f0f921\"]]}, \"colorway\": [\"#636efa\", \"#EF553B\", \"#00cc96\", \"#ab63fa\", \"#FFA15A\", \"#19d3f3\", \"#FF6692\", \"#B6E880\", \"#FF97FF\", \"#FECB52\"], \"font\": {\"color\": \"#2a3f5f\"}, \"geo\": {\"bgcolor\": \"white\", \"lakecolor\": \"white\", \"landcolor\": \"#E5ECF6\", \"showlakes\": true, \"showland\": true, \"subunitcolor\": \"white\"}, \"hoverlabel\": {\"align\": \"left\"}, \"hovermode\": \"closest\", \"mapbox\": {\"style\": \"light\"}, \"paper_bgcolor\": \"white\", \"plot_bgcolor\": \"#E5ECF6\", \"polar\": {\"angularaxis\": {\"gridcolor\": \"white\", \"linecolor\": \"white\", \"ticks\": \"\"}, \"bgcolor\": \"#E5ECF6\", \"radialaxis\": {\"gridcolor\": \"white\", \"linecolor\": \"white\", \"ticks\": \"\"}}, \"scene\": {\"xaxis\": {\"backgroundcolor\": \"#E5ECF6\", \"gridcolor\": \"white\", \"gridwidth\": 2, \"linecolor\": \"white\", \"showbackground\": true, \"ticks\": \"\", \"zerolinecolor\": \"white\"}, \"yaxis\": {\"backgroundcolor\": \"#E5ECF6\", \"gridcolor\": \"white\", \"gridwidth\": 2, \"linecolor\": \"white\", \"showbackground\": true, \"ticks\": \"\", \"zerolinecolor\": \"white\"}, \"zaxis\": {\"backgroundcolor\": \"#E5ECF6\", \"gridcolor\": \"white\", \"gridwidth\": 2, \"linecolor\": \"white\", \"showbackground\": true, \"ticks\": \"\", \"zerolinecolor\": \"white\"}}, \"shapedefaults\": {\"line\": {\"color\": \"#2a3f5f\"}}, \"ternary\": {\"aaxis\": {\"gridcolor\": \"white\", \"linecolor\": \"white\", \"ticks\": \"\"}, \"baxis\": {\"gridcolor\": \"white\", \"linecolor\": \"white\", \"ticks\": \"\"}, \"bgcolor\": \"#E5ECF6\", \"caxis\": {\"gridcolor\": \"white\", \"linecolor\": \"white\", \"ticks\": \"\"}}, \"title\": {\"x\": 0.05}, \"xaxis\": {\"automargin\": true, \"gridcolor\": \"white\", \"linecolor\": \"white\", \"ticks\": \"\", \"title\": {\"standoff\": 15}, \"zerolinecolor\": \"white\", \"zerolinewidth\": 2}, \"yaxis\": {\"automargin\": true, \"gridcolor\": \"white\", \"linecolor\": \"white\", \"ticks\": \"\", \"title\": {\"standoff\": 15}, \"zerolinecolor\": \"white\", \"zerolinewidth\": 2}}}, \"xaxis\": {\"anchor\": \"y\", \"domain\": [0.0, 1.0], \"title\": {\"text\": \"Followers\"}}, \"yaxis\": {\"anchor\": \"x\", \"domain\": [0.0, 1.0], \"title\": {\"text\": \"Total Income\"}}},\n",
       "                        {\"responsive\": true}\n",
       "                    ).then(function(){\n",
       "                            \n",
       "var gd = document.getElementById('11b83db3-137a-416c-81e1-27f8a37408e6');\n",
       "var x = new MutationObserver(function (mutations, observer) {{\n",
       "        var display = window.getComputedStyle(gd).display;\n",
       "        if (!display || display === 'none') {{\n",
       "            console.log([gd, 'removed!']);\n",
       "            Plotly.purge(gd);\n",
       "            observer.disconnect();\n",
       "        }}\n",
       "}});\n",
       "\n",
       "// Listen for the removal of the full notebook cells\n",
       "var notebookContainer = gd.closest('#notebook-container');\n",
       "if (notebookContainer) {{\n",
       "    x.observe(notebookContainer, {childList: true});\n",
       "}}\n",
       "\n",
       "// Listen for the clearing of the current output cell\n",
       "var outputEl = gd.closest('.output');\n",
       "if (outputEl) {{\n",
       "    x.observe(outputEl, {childList: true});\n",
       "}}\n",
       "\n",
       "                        })\n",
       "                };\n",
       "                });\n",
       "            </script>\n",
       "        </div>"
      ]
     },
     "metadata": {},
     "output_type": "display_data"
    }
   ],
   "source": [
    "fig = px.scatter(finaldata, x=\"Followers\", y=\"Total Income\")\n",
    "fig.show()"
   ]
  },
  {
   "cell_type": "code",
   "execution_count": 36,
   "metadata": {},
   "outputs": [
    {
     "data": {
      "application/vnd.plotly.v1+json": {
       "config": {
        "plotlyServerURL": "https://plot.ly"
       },
       "data": [
        {
         "alignmentgroup": "True",
         "bingroup": "x",
         "hovertemplate": "Total Income=%{x}<br>count=%{y}<extra></extra>",
         "legendgroup": "",
         "marker": {
          "color": "#636efa"
         },
         "name": "",
         "nbinsx": 10,
         "offsetgroup": "",
         "orientation": "v",
         "showlegend": false,
         "type": "histogram",
         "x": [
          51991.59,
          65543.89,
          53762.42,
          53793.14,
          69126.18,
          84154.99,
          79107.66,
          47713.7,
          53487.11,
          81827.18,
          50275.57,
          97509.19,
          46421.85,
          81206.79,
          48352.42,
          43448.75,
          60639.55,
          21099.21,
          14073.08,
          12806.56,
          13319.79,
          18805.73,
          13169.89,
          14902.13,
          14228.52,
          10334.6,
          10818.66,
          12227.13,
          12445.88,
          9455.65,
          9007,
          12745.29,
          13283.58,
          52761.41,
          39907.08,
          24048.28,
          43299.83,
          38229.51,
          48630.41,
          68035.23,
          33010.29,
          45216.03,
          22706,
          38908.94,
          24567.14,
          21433.76,
          18823.33,
          23913.96,
          47680.95,
          52379.79,
          25777.12,
          42267.49,
          68756.18,
          50177.83,
          48723.91,
          46279.09,
          42711.26,
          42541.39,
          37945.06,
          39942.74,
          41680.53,
          48701.05,
          48584.7,
          47518.02,
          40930.85,
          77072.43,
          70417.45,
          66488.28,
          72256.96,
          62167.87,
          51403.55,
          42941.62,
          76469.56,
          46092.83,
          79189.4,
          55301.15,
          61763.41,
          54856.56,
          45052.09,
          47086.8,
          49938.42,
          74101.78,
          86355.57,
          55752.85,
          97436.21,
          53616.78,
          61637.82,
          56059.59,
          59009.63,
          64033.63,
          69703.63,
          60860.12,
          67993.26,
          47602.33,
          64136.39,
          63480.55,
          56284.41,
          29546.97,
          23893.42,
          20355.13,
          17775.48,
          16637.53,
          24587.01,
          17076.77,
          19711.44,
          21138.62,
          26014.23,
          15519.56,
          20130.81,
          20859.25,
          26657.39,
          28563.78,
          18325.87,
          12606.39,
          23428.86,
          14147.04,
          20007.2,
          16134.26,
          13798.2,
          14387.22,
          15139.03,
          14679.95,
          15924.34,
          13880.83,
          14674.46,
          13533.51,
          42541.85,
          25754.59,
          44187.96,
          24941.46,
          26563.21,
          31608.58,
          32686.37,
          26098.96,
          47278.15,
          27581.2,
          28240.11,
          41658.06,
          28773.97,
          24567.28,
          26882.64,
          24177.98,
          26377.94,
          27871.72,
          26971.39,
          47288.64,
          43445.73,
          35281.12,
          35290.77,
          27780.84,
          31564.06,
          27757.21,
          46267.56,
          31846.07,
          34469.8,
          34032.19,
          34400.57,
          15839.53,
          59556.6,
          62522.37,
          63589.81,
          58521.71,
          56558.96,
          45207.07,
          53111.38,
          58132.98,
          52643.28,
          57477.67,
          52980.58,
          58817.86,
          61640.31,
          51424.74,
          84513.35,
          57052.17,
          52881.75,
          57776.71,
          47571.02,
          38868.71,
          35575,
          32741.56,
          26837.56,
          30630.17,
          18474.1,
          22146.95,
          24832.06,
          22481.13,
          25659.77,
          17381.65,
          12890.62,
          17426.71,
          13045.1,
          11313.33,
          133265.24,
          122537.36,
          149430.18,
          113652.56,
          92749.93,
          96595.63,
          100899.23,
          90658,
          106524.05,
          65567.7,
          92850.01,
          82039.17,
          67315.29,
          125677.51,
          67497.57,
          54433.8,
          85671.89,
          23802.84,
          19195.48,
          19335.71,
          16423.18,
          18950.28,
          17991.7,
          15715.78,
          19693.33,
          13449.2,
          13497.27,
          12485.49,
          17427.85,
          16284.1,
          18341.26,
          11766.99,
          13807.64,
          14054.99,
          6227.52,
          3967.05,
          3807.37,
          2729.53,
          3398.19,
          10369.24,
          6866.3,
          13728.11,
          1796.44,
          7275.55,
          2310.75,
          7994.1,
          8962.34,
          2539.99,
          928.14,
          1612.03,
          1596.86,
          1986.56,
          54636.18,
          86851.49,
          41578.52,
          43445.18,
          48042.08,
          53711.3,
          45080.63,
          67218.32,
          49568.11,
          59803.84,
          51255.83,
          41688.53,
          32492.82,
          28939,
          25719.23,
          44249.84,
          34626.78,
          86756.49,
          86191.6,
          50450.17,
          84391.7,
          69553.59,
          50087.86,
          58745.97,
          46946.44,
          49680.55,
          52413.19,
          58881.02,
          39235.3,
          39514.7,
          38266.46,
          47725.65,
          49161.85,
          32263.35,
          49806.61,
          42406.39,
          38354.28,
          42221.53,
          39317.81,
          61831.92,
          29471.94,
          26243.75,
          29232.54,
          31018.99,
          31467.63,
          53486.31,
          47735.26,
          33205.63,
          47854.03,
          38751.11,
          25408.31,
          42005.07,
          30783.95,
          29980.74,
          31048.76,
          22739.15,
          30258.34,
          19938.05,
          16512.48,
          13624.68,
          19298.09,
          14787.13,
          8734.16,
          9523.26,
          9358.57,
          10724.35,
          12481.27,
          10859.92,
          11800.58,
          11828.34,
          12486.52,
          1946.14,
          1751.54,
          1746.53,
          3952.1,
          1501.99,
          2949.1,
          2814.37,
          2639.82,
          3388.23,
          1581.84,
          1117.77,
          2130.89,
          6723.55,
          4421.5,
          5356.33,
          5465.35,
          5355.63,
          6774.25,
          5839.82,
          8774.72,
          6839.72,
          9370.59,
          6633.67,
          7098.16,
          6718.48,
          8170.49,
          5296.71,
          4547.15,
          21733.5,
          20611.58,
          20800.85,
          20511.46,
          32926.16,
          33614.73,
          18264.87,
          20600.7,
          22731.24,
          24981.31,
          23659.17,
          19502.06,
          24732.27,
          23728.88,
          379.44,
          419.35,
          264.57,
          334.62,
          224.66,
          629.55,
          289.67,
          694.25,
          269.69,
          469.71,
          184.75,
          5087.71,
          774.49,
          23779.84,
          25051.79,
          22002.47,
          19167.94,
          33316.11,
          22431.61,
          19716.74,
          18933.3,
          20600.37,
          19626.9,
          16583,
          18409.39,
          16523.23,
          21448.48,
          14861.29,
          0,
          64.9,
          109.84,
          89.85,
          109.83,
          74.87,
          94.85,
          79.87,
          74.88,
          29.95,
          59.9,
          34.94,
          79.86,
          59.9,
          17730.51,
          20604.56,
          19102.62,
          12730.3,
          15055.73,
          9032.36,
          14881.91,
          11053.5,
          11982.03,
          12296.1,
          13927.84,
          12221.01,
          12241.24,
          9596.31,
          2599.91,
          3523.18,
          3018.97,
          6397.61,
          10491.02,
          2709.7,
          4795.54,
          3483.13,
          3563.05,
          3343.48,
          3587.99,
          2994.69,
          2969.26,
          3203.81,
          2465.25,
          2739.54,
          6851.53,
          27296.6,
          45535,
          22590.34,
          19047.6,
          42262.36,
          14416.67,
          17415.62,
          25504.6,
          11477.24,
          23463.67,
          16562.57,
          20609.46,
          16696.89,
          14735.96,
          22091.64,
          11028.28,
          146092.02,
          63122.31,
          54414.23,
          66392.13,
          52065.73,
          72184.58,
          59391.01,
          87398.12,
          42883.27,
          63754.25,
          43255.15,
          39100.8,
          41336.59,
          35777.31,
          32039.37,
          30094.17,
          43273.01,
          72896.86,
          73100.89,
          59044.4,
          43041.44,
          50735.82,
          49837.64,
          53939.04,
          58559.49,
          38515.46,
          47302.66,
          64702.74,
          53465.54,
          40017.8,
          34518.74,
          42329.17,
          33600.27,
          31643.66,
          26110.83,
          25537.21,
          38027.35,
          26958.5,
          22142.26,
          22099.54,
          24221.38,
          10047.4,
          21296.75,
          24809.98,
          25879.76,
          20269.91,
          21562.32,
          25263.69,
          19805.24,
          23127.09,
          6009.1,
          8660.23,
          10162.98,
          12959.26,
          7291.44,
          13063.31,
          12109.88,
          13534.95,
          7946.2,
          9314.22,
          7163.75,
          12975.57,
          12251.66,
          11781.88,
          11772.36,
          12442.28,
          18632.5
         ],
         "xaxis": "x",
         "yaxis": "y"
        }
       ],
       "layout": {
        "barmode": "relative",
        "legend": {
         "tracegroupgap": 0
        },
        "margin": {
         "t": 60
        },
        "template": {
         "data": {
          "bar": [
           {
            "error_x": {
             "color": "#2a3f5f"
            },
            "error_y": {
             "color": "#2a3f5f"
            },
            "marker": {
             "line": {
              "color": "#E5ECF6",
              "width": 0.5
             }
            },
            "type": "bar"
           }
          ],
          "barpolar": [
           {
            "marker": {
             "line": {
              "color": "#E5ECF6",
              "width": 0.5
             }
            },
            "type": "barpolar"
           }
          ],
          "carpet": [
           {
            "aaxis": {
             "endlinecolor": "#2a3f5f",
             "gridcolor": "white",
             "linecolor": "white",
             "minorgridcolor": "white",
             "startlinecolor": "#2a3f5f"
            },
            "baxis": {
             "endlinecolor": "#2a3f5f",
             "gridcolor": "white",
             "linecolor": "white",
             "minorgridcolor": "white",
             "startlinecolor": "#2a3f5f"
            },
            "type": "carpet"
           }
          ],
          "choropleth": [
           {
            "colorbar": {
             "outlinewidth": 0,
             "ticks": ""
            },
            "type": "choropleth"
           }
          ],
          "contour": [
           {
            "colorbar": {
             "outlinewidth": 0,
             "ticks": ""
            },
            "colorscale": [
             [
              0,
              "#0d0887"
             ],
             [
              0.1111111111111111,
              "#46039f"
             ],
             [
              0.2222222222222222,
              "#7201a8"
             ],
             [
              0.3333333333333333,
              "#9c179e"
             ],
             [
              0.4444444444444444,
              "#bd3786"
             ],
             [
              0.5555555555555556,
              "#d8576b"
             ],
             [
              0.6666666666666666,
              "#ed7953"
             ],
             [
              0.7777777777777778,
              "#fb9f3a"
             ],
             [
              0.8888888888888888,
              "#fdca26"
             ],
             [
              1,
              "#f0f921"
             ]
            ],
            "type": "contour"
           }
          ],
          "contourcarpet": [
           {
            "colorbar": {
             "outlinewidth": 0,
             "ticks": ""
            },
            "type": "contourcarpet"
           }
          ],
          "heatmap": [
           {
            "colorbar": {
             "outlinewidth": 0,
             "ticks": ""
            },
            "colorscale": [
             [
              0,
              "#0d0887"
             ],
             [
              0.1111111111111111,
              "#46039f"
             ],
             [
              0.2222222222222222,
              "#7201a8"
             ],
             [
              0.3333333333333333,
              "#9c179e"
             ],
             [
              0.4444444444444444,
              "#bd3786"
             ],
             [
              0.5555555555555556,
              "#d8576b"
             ],
             [
              0.6666666666666666,
              "#ed7953"
             ],
             [
              0.7777777777777778,
              "#fb9f3a"
             ],
             [
              0.8888888888888888,
              "#fdca26"
             ],
             [
              1,
              "#f0f921"
             ]
            ],
            "type": "heatmap"
           }
          ],
          "heatmapgl": [
           {
            "colorbar": {
             "outlinewidth": 0,
             "ticks": ""
            },
            "colorscale": [
             [
              0,
              "#0d0887"
             ],
             [
              0.1111111111111111,
              "#46039f"
             ],
             [
              0.2222222222222222,
              "#7201a8"
             ],
             [
              0.3333333333333333,
              "#9c179e"
             ],
             [
              0.4444444444444444,
              "#bd3786"
             ],
             [
              0.5555555555555556,
              "#d8576b"
             ],
             [
              0.6666666666666666,
              "#ed7953"
             ],
             [
              0.7777777777777778,
              "#fb9f3a"
             ],
             [
              0.8888888888888888,
              "#fdca26"
             ],
             [
              1,
              "#f0f921"
             ]
            ],
            "type": "heatmapgl"
           }
          ],
          "histogram": [
           {
            "marker": {
             "colorbar": {
              "outlinewidth": 0,
              "ticks": ""
             }
            },
            "type": "histogram"
           }
          ],
          "histogram2d": [
           {
            "colorbar": {
             "outlinewidth": 0,
             "ticks": ""
            },
            "colorscale": [
             [
              0,
              "#0d0887"
             ],
             [
              0.1111111111111111,
              "#46039f"
             ],
             [
              0.2222222222222222,
              "#7201a8"
             ],
             [
              0.3333333333333333,
              "#9c179e"
             ],
             [
              0.4444444444444444,
              "#bd3786"
             ],
             [
              0.5555555555555556,
              "#d8576b"
             ],
             [
              0.6666666666666666,
              "#ed7953"
             ],
             [
              0.7777777777777778,
              "#fb9f3a"
             ],
             [
              0.8888888888888888,
              "#fdca26"
             ],
             [
              1,
              "#f0f921"
             ]
            ],
            "type": "histogram2d"
           }
          ],
          "histogram2dcontour": [
           {
            "colorbar": {
             "outlinewidth": 0,
             "ticks": ""
            },
            "colorscale": [
             [
              0,
              "#0d0887"
             ],
             [
              0.1111111111111111,
              "#46039f"
             ],
             [
              0.2222222222222222,
              "#7201a8"
             ],
             [
              0.3333333333333333,
              "#9c179e"
             ],
             [
              0.4444444444444444,
              "#bd3786"
             ],
             [
              0.5555555555555556,
              "#d8576b"
             ],
             [
              0.6666666666666666,
              "#ed7953"
             ],
             [
              0.7777777777777778,
              "#fb9f3a"
             ],
             [
              0.8888888888888888,
              "#fdca26"
             ],
             [
              1,
              "#f0f921"
             ]
            ],
            "type": "histogram2dcontour"
           }
          ],
          "mesh3d": [
           {
            "colorbar": {
             "outlinewidth": 0,
             "ticks": ""
            },
            "type": "mesh3d"
           }
          ],
          "parcoords": [
           {
            "line": {
             "colorbar": {
              "outlinewidth": 0,
              "ticks": ""
             }
            },
            "type": "parcoords"
           }
          ],
          "pie": [
           {
            "automargin": true,
            "type": "pie"
           }
          ],
          "scatter": [
           {
            "marker": {
             "colorbar": {
              "outlinewidth": 0,
              "ticks": ""
             }
            },
            "type": "scatter"
           }
          ],
          "scatter3d": [
           {
            "line": {
             "colorbar": {
              "outlinewidth": 0,
              "ticks": ""
             }
            },
            "marker": {
             "colorbar": {
              "outlinewidth": 0,
              "ticks": ""
             }
            },
            "type": "scatter3d"
           }
          ],
          "scattercarpet": [
           {
            "marker": {
             "colorbar": {
              "outlinewidth": 0,
              "ticks": ""
             }
            },
            "type": "scattercarpet"
           }
          ],
          "scattergeo": [
           {
            "marker": {
             "colorbar": {
              "outlinewidth": 0,
              "ticks": ""
             }
            },
            "type": "scattergeo"
           }
          ],
          "scattergl": [
           {
            "marker": {
             "colorbar": {
              "outlinewidth": 0,
              "ticks": ""
             }
            },
            "type": "scattergl"
           }
          ],
          "scattermapbox": [
           {
            "marker": {
             "colorbar": {
              "outlinewidth": 0,
              "ticks": ""
             }
            },
            "type": "scattermapbox"
           }
          ],
          "scatterpolar": [
           {
            "marker": {
             "colorbar": {
              "outlinewidth": 0,
              "ticks": ""
             }
            },
            "type": "scatterpolar"
           }
          ],
          "scatterpolargl": [
           {
            "marker": {
             "colorbar": {
              "outlinewidth": 0,
              "ticks": ""
             }
            },
            "type": "scatterpolargl"
           }
          ],
          "scatterternary": [
           {
            "marker": {
             "colorbar": {
              "outlinewidth": 0,
              "ticks": ""
             }
            },
            "type": "scatterternary"
           }
          ],
          "surface": [
           {
            "colorbar": {
             "outlinewidth": 0,
             "ticks": ""
            },
            "colorscale": [
             [
              0,
              "#0d0887"
             ],
             [
              0.1111111111111111,
              "#46039f"
             ],
             [
              0.2222222222222222,
              "#7201a8"
             ],
             [
              0.3333333333333333,
              "#9c179e"
             ],
             [
              0.4444444444444444,
              "#bd3786"
             ],
             [
              0.5555555555555556,
              "#d8576b"
             ],
             [
              0.6666666666666666,
              "#ed7953"
             ],
             [
              0.7777777777777778,
              "#fb9f3a"
             ],
             [
              0.8888888888888888,
              "#fdca26"
             ],
             [
              1,
              "#f0f921"
             ]
            ],
            "type": "surface"
           }
          ],
          "table": [
           {
            "cells": {
             "fill": {
              "color": "#EBF0F8"
             },
             "line": {
              "color": "white"
             }
            },
            "header": {
             "fill": {
              "color": "#C8D4E3"
             },
             "line": {
              "color": "white"
             }
            },
            "type": "table"
           }
          ]
         },
         "layout": {
          "annotationdefaults": {
           "arrowcolor": "#2a3f5f",
           "arrowhead": 0,
           "arrowwidth": 1
          },
          "coloraxis": {
           "colorbar": {
            "outlinewidth": 0,
            "ticks": ""
           }
          },
          "colorscale": {
           "diverging": [
            [
             0,
             "#8e0152"
            ],
            [
             0.1,
             "#c51b7d"
            ],
            [
             0.2,
             "#de77ae"
            ],
            [
             0.3,
             "#f1b6da"
            ],
            [
             0.4,
             "#fde0ef"
            ],
            [
             0.5,
             "#f7f7f7"
            ],
            [
             0.6,
             "#e6f5d0"
            ],
            [
             0.7,
             "#b8e186"
            ],
            [
             0.8,
             "#7fbc41"
            ],
            [
             0.9,
             "#4d9221"
            ],
            [
             1,
             "#276419"
            ]
           ],
           "sequential": [
            [
             0,
             "#0d0887"
            ],
            [
             0.1111111111111111,
             "#46039f"
            ],
            [
             0.2222222222222222,
             "#7201a8"
            ],
            [
             0.3333333333333333,
             "#9c179e"
            ],
            [
             0.4444444444444444,
             "#bd3786"
            ],
            [
             0.5555555555555556,
             "#d8576b"
            ],
            [
             0.6666666666666666,
             "#ed7953"
            ],
            [
             0.7777777777777778,
             "#fb9f3a"
            ],
            [
             0.8888888888888888,
             "#fdca26"
            ],
            [
             1,
             "#f0f921"
            ]
           ],
           "sequentialminus": [
            [
             0,
             "#0d0887"
            ],
            [
             0.1111111111111111,
             "#46039f"
            ],
            [
             0.2222222222222222,
             "#7201a8"
            ],
            [
             0.3333333333333333,
             "#9c179e"
            ],
            [
             0.4444444444444444,
             "#bd3786"
            ],
            [
             0.5555555555555556,
             "#d8576b"
            ],
            [
             0.6666666666666666,
             "#ed7953"
            ],
            [
             0.7777777777777778,
             "#fb9f3a"
            ],
            [
             0.8888888888888888,
             "#fdca26"
            ],
            [
             1,
             "#f0f921"
            ]
           ]
          },
          "colorway": [
           "#636efa",
           "#EF553B",
           "#00cc96",
           "#ab63fa",
           "#FFA15A",
           "#19d3f3",
           "#FF6692",
           "#B6E880",
           "#FF97FF",
           "#FECB52"
          ],
          "font": {
           "color": "#2a3f5f"
          },
          "geo": {
           "bgcolor": "white",
           "lakecolor": "white",
           "landcolor": "#E5ECF6",
           "showlakes": true,
           "showland": true,
           "subunitcolor": "white"
          },
          "hoverlabel": {
           "align": "left"
          },
          "hovermode": "closest",
          "mapbox": {
           "style": "light"
          },
          "paper_bgcolor": "white",
          "plot_bgcolor": "#E5ECF6",
          "polar": {
           "angularaxis": {
            "gridcolor": "white",
            "linecolor": "white",
            "ticks": ""
           },
           "bgcolor": "#E5ECF6",
           "radialaxis": {
            "gridcolor": "white",
            "linecolor": "white",
            "ticks": ""
           }
          },
          "scene": {
           "xaxis": {
            "backgroundcolor": "#E5ECF6",
            "gridcolor": "white",
            "gridwidth": 2,
            "linecolor": "white",
            "showbackground": true,
            "ticks": "",
            "zerolinecolor": "white"
           },
           "yaxis": {
            "backgroundcolor": "#E5ECF6",
            "gridcolor": "white",
            "gridwidth": 2,
            "linecolor": "white",
            "showbackground": true,
            "ticks": "",
            "zerolinecolor": "white"
           },
           "zaxis": {
            "backgroundcolor": "#E5ECF6",
            "gridcolor": "white",
            "gridwidth": 2,
            "linecolor": "white",
            "showbackground": true,
            "ticks": "",
            "zerolinecolor": "white"
           }
          },
          "shapedefaults": {
           "line": {
            "color": "#2a3f5f"
           }
          },
          "ternary": {
           "aaxis": {
            "gridcolor": "white",
            "linecolor": "white",
            "ticks": ""
           },
           "baxis": {
            "gridcolor": "white",
            "linecolor": "white",
            "ticks": ""
           },
           "bgcolor": "#E5ECF6",
           "caxis": {
            "gridcolor": "white",
            "linecolor": "white",
            "ticks": ""
           }
          },
          "title": {
           "x": 0.05
          },
          "xaxis": {
           "automargin": true,
           "gridcolor": "white",
           "linecolor": "white",
           "ticks": "",
           "title": {
            "standoff": 15
           },
           "zerolinecolor": "white",
           "zerolinewidth": 2
          },
          "yaxis": {
           "automargin": true,
           "gridcolor": "white",
           "linecolor": "white",
           "ticks": "",
           "title": {
            "standoff": 15
           },
           "zerolinecolor": "white",
           "zerolinewidth": 2
          }
         }
        },
        "xaxis": {
         "anchor": "y",
         "domain": [
          0,
          1
         ],
         "title": {
          "text": "Total Income"
         }
        },
        "yaxis": {
         "anchor": "x",
         "domain": [
          0,
          1
         ],
         "title": {
          "text": "count"
         }
        }
       }
      },
      "text/html": [
       "<div>\n",
       "        \n",
       "        \n",
       "            <div id=\"418ddd4d-ca87-4682-b6b6-ab0f7dd5fb59\" class=\"plotly-graph-div\" style=\"height:525px; width:100%;\"></div>\n",
       "            <script type=\"text/javascript\">\n",
       "                require([\"plotly\"], function(Plotly) {\n",
       "                    window.PLOTLYENV=window.PLOTLYENV || {};\n",
       "                    \n",
       "                if (document.getElementById(\"418ddd4d-ca87-4682-b6b6-ab0f7dd5fb59\")) {\n",
       "                    Plotly.newPlot(\n",
       "                        '418ddd4d-ca87-4682-b6b6-ab0f7dd5fb59',\n",
       "                        [{\"alignmentgroup\": \"True\", \"bingroup\": \"x\", \"hovertemplate\": \"Total Income=%{x}<br>count=%{y}<extra></extra>\", \"legendgroup\": \"\", \"marker\": {\"color\": \"#636efa\"}, \"name\": \"\", \"nbinsx\": 10, \"offsetgroup\": \"\", \"orientation\": \"v\", \"showlegend\": false, \"type\": \"histogram\", \"x\": [51991.59, 65543.89, 53762.42, 53793.14, 69126.18, 84154.99, 79107.66, 47713.7, 53487.11, 81827.18, 50275.57, 97509.19, 46421.85, 81206.79, 48352.42, 43448.75, 60639.55, 21099.21, 14073.08, 12806.56, 13319.79, 18805.73, 13169.89, 14902.13, 14228.52, 10334.6, 10818.66, 12227.13, 12445.88, 9455.65, 9007.0, 12745.29, 13283.58, 52761.41, 39907.08, 24048.28, 43299.83, 38229.51, 48630.41, 68035.23, 33010.29, 45216.03, 22706.0, 38908.94, 24567.14, 21433.76, 18823.33, 23913.96, 47680.95, 52379.79, 25777.12, 42267.49, 68756.18, 50177.83, 48723.91, 46279.09, 42711.26, 42541.39, 37945.06, 39942.74, 41680.53, 48701.05, 48584.7, 47518.02, 40930.85, 77072.43, 70417.45, 66488.28, 72256.96, 62167.87, 51403.55, 42941.62, 76469.56, 46092.83, 79189.4, 55301.15, 61763.41, 54856.56, 45052.09, 47086.8, 49938.42, 74101.78, 86355.57, 55752.85, 97436.21, 53616.78, 61637.82, 56059.59, 59009.63, 64033.63, 69703.63, 60860.12, 67993.26, 47602.33, 64136.39, 63480.55, 56284.41, 29546.97, 23893.42, 20355.13, 17775.48, 16637.53, 24587.01, 17076.77, 19711.44, 21138.62, 26014.23, 15519.56, 20130.81, 20859.25, 26657.39, 28563.78, 18325.87, 12606.39, 23428.86, 14147.04, 20007.2, 16134.26, 13798.2, 14387.22, 15139.03, 14679.95, 15924.34, 13880.83, 14674.46, 13533.51, 42541.85, 25754.59, 44187.96, 24941.46, 26563.21, 31608.58, 32686.37, 26098.96, 47278.15, 27581.2, 28240.11, 41658.06, 28773.97, 24567.28, 26882.64, 24177.98, 26377.94, 27871.72, 26971.39, 47288.64, 43445.73, 35281.12, 35290.77, 27780.84, 31564.06, 27757.21, 46267.56, 31846.07, 34469.8, 34032.19, 34400.57, 15839.53, 59556.6, 62522.37, 63589.81, 58521.71, 56558.96, 45207.07, 53111.38, 58132.98, 52643.28, 57477.67, 52980.58, 58817.86, 61640.31, 51424.74, 84513.35, 57052.17, 52881.75, 57776.71, 47571.02, 38868.71, 35575.0, 32741.56, 26837.56, 30630.17, 18474.1, 22146.95, 24832.06, 22481.13, 25659.77, 17381.65, 12890.62, 17426.71, 13045.1, 11313.33, 133265.24, 122537.36, 149430.18, 113652.56, 92749.93, 96595.63, 100899.23, 90658.0, 106524.05, 65567.7, 92850.01, 82039.17, 67315.29, 125677.51, 67497.57, 54433.8, 85671.89, 23802.84, 19195.48, 19335.71, 16423.18, 18950.28, 17991.7, 15715.78, 19693.33, 13449.2, 13497.27, 12485.49, 17427.85, 16284.1, 18341.26, 11766.99, 13807.64, 14054.99, 6227.52, 3967.05, 3807.37, 2729.53, 3398.19, 10369.24, 6866.3, 13728.11, 1796.44, 7275.55, 2310.75, 7994.1, 8962.34, 2539.99, 928.14, 1612.03, 1596.86, 1986.56, 54636.18, 86851.49, 41578.52, 43445.18, 48042.08, 53711.3, 45080.63, 67218.32, 49568.11, 59803.84, 51255.83, 41688.53, 32492.82, 28939.0, 25719.23, 44249.84, 34626.78, 86756.49, 86191.6, 50450.17, 84391.7, 69553.59, 50087.86, 58745.97, 46946.44, 49680.55, 52413.19, 58881.02, 39235.3, 39514.7, 38266.46, 47725.65, 49161.85, 32263.35, 49806.61, 42406.39, 38354.28, 42221.53, 39317.81, 61831.92, 29471.94, 26243.75, 29232.54, 31018.99, 31467.63, 53486.31, 47735.26, 33205.63, 47854.03, 38751.11, 25408.31, 42005.07, 30783.95, 29980.74, 31048.76, 22739.15, 30258.34, 19938.05, 16512.48, 13624.68, 19298.09, 14787.13, 8734.16, 9523.26, 9358.57, 10724.35, 12481.27, 10859.92, 11800.58, 11828.34, 12486.52, 1946.14, 1751.54, 1746.53, 3952.1, 1501.99, 2949.1, 2814.37, 2639.82, 3388.23, 1581.84, 1117.77, 2130.89, 6723.55, 4421.5, 5356.33, 5465.35, 5355.63, 6774.25, 5839.82, 8774.72, 6839.72, 9370.59, 6633.67, 7098.16, 6718.48, 8170.49, 5296.71, 4547.15, 21733.5, 20611.58, 20800.85, 20511.46, 32926.16, 33614.73, 18264.87, 20600.7, 22731.24, 24981.31, 23659.17, 19502.06, 24732.27, 23728.88, 379.44, 419.35, 264.57, 334.62, 224.66, 629.55, 289.67, 694.25, 269.69, 469.71, 184.75, 5087.71, 774.49, 23779.84, 25051.79, 22002.47, 19167.94, 33316.11, 22431.61, 19716.74, 18933.3, 20600.37, 19626.9, 16583.0, 18409.39, 16523.23, 21448.48, 14861.29, 0.0, 64.9, 109.84, 89.85, 109.83, 74.87, 94.85, 79.87, 74.88, 29.95, 59.9, 34.94, 79.86, 59.9, 17730.51, 20604.56, 19102.62, 12730.3, 15055.73, 9032.36, 14881.91, 11053.5, 11982.03, 12296.1, 13927.84, 12221.01, 12241.24, 9596.31, 2599.91, 3523.18, 3018.97, 6397.61, 10491.02, 2709.7, 4795.54, 3483.13, 3563.05, 3343.48, 3587.99, 2994.69, 2969.26, 3203.81, 2465.25, 2739.54, 6851.53, 27296.6, 45535.0, 22590.34, 19047.6, 42262.36, 14416.67, 17415.62, 25504.6, 11477.24, 23463.67, 16562.57, 20609.46, 16696.89, 14735.96, 22091.64, 11028.28, 146092.02, 63122.31, 54414.23, 66392.13, 52065.73, 72184.58, 59391.01, 87398.12, 42883.27, 63754.25, 43255.15, 39100.8, 41336.59, 35777.31, 32039.37, 30094.17, 43273.01, 72896.86, 73100.89, 59044.4, 43041.44, 50735.82, 49837.64, 53939.04, 58559.49, 38515.46, 47302.66, 64702.74, 53465.54, 40017.8, 34518.74, 42329.17, 33600.27, 31643.66, 26110.83, 25537.21, 38027.35, 26958.5, 22142.26, 22099.54, 24221.38, 10047.4, 21296.75, 24809.98, 25879.76, 20269.91, 21562.32, 25263.69, 19805.24, 23127.09, 6009.1, 8660.23, 10162.98, 12959.26, 7291.44, 13063.31, 12109.88, 13534.95, 7946.2, 9314.22, 7163.75, 12975.57, 12251.66, 11781.88, 11772.36, 12442.28, 18632.5], \"xaxis\": \"x\", \"yaxis\": \"y\"}],\n",
       "                        {\"barmode\": \"relative\", \"legend\": {\"tracegroupgap\": 0}, \"margin\": {\"t\": 60}, \"template\": {\"data\": {\"bar\": [{\"error_x\": {\"color\": \"#2a3f5f\"}, \"error_y\": {\"color\": \"#2a3f5f\"}, \"marker\": {\"line\": {\"color\": \"#E5ECF6\", \"width\": 0.5}}, \"type\": \"bar\"}], \"barpolar\": [{\"marker\": {\"line\": {\"color\": \"#E5ECF6\", \"width\": 0.5}}, \"type\": \"barpolar\"}], \"carpet\": [{\"aaxis\": {\"endlinecolor\": \"#2a3f5f\", \"gridcolor\": \"white\", \"linecolor\": \"white\", \"minorgridcolor\": \"white\", \"startlinecolor\": \"#2a3f5f\"}, \"baxis\": {\"endlinecolor\": \"#2a3f5f\", \"gridcolor\": \"white\", \"linecolor\": \"white\", \"minorgridcolor\": \"white\", \"startlinecolor\": \"#2a3f5f\"}, \"type\": \"carpet\"}], \"choropleth\": [{\"colorbar\": {\"outlinewidth\": 0, \"ticks\": \"\"}, \"type\": \"choropleth\"}], \"contour\": [{\"colorbar\": {\"outlinewidth\": 0, \"ticks\": \"\"}, \"colorscale\": [[0.0, \"#0d0887\"], [0.1111111111111111, \"#46039f\"], [0.2222222222222222, \"#7201a8\"], [0.3333333333333333, \"#9c179e\"], [0.4444444444444444, \"#bd3786\"], [0.5555555555555556, \"#d8576b\"], [0.6666666666666666, \"#ed7953\"], [0.7777777777777778, \"#fb9f3a\"], [0.8888888888888888, \"#fdca26\"], [1.0, \"#f0f921\"]], \"type\": \"contour\"}], \"contourcarpet\": [{\"colorbar\": {\"outlinewidth\": 0, \"ticks\": \"\"}, \"type\": \"contourcarpet\"}], \"heatmap\": [{\"colorbar\": {\"outlinewidth\": 0, \"ticks\": \"\"}, \"colorscale\": [[0.0, \"#0d0887\"], [0.1111111111111111, \"#46039f\"], [0.2222222222222222, \"#7201a8\"], [0.3333333333333333, \"#9c179e\"], [0.4444444444444444, \"#bd3786\"], [0.5555555555555556, \"#d8576b\"], [0.6666666666666666, \"#ed7953\"], [0.7777777777777778, \"#fb9f3a\"], [0.8888888888888888, \"#fdca26\"], [1.0, \"#f0f921\"]], \"type\": \"heatmap\"}], \"heatmapgl\": [{\"colorbar\": {\"outlinewidth\": 0, \"ticks\": \"\"}, \"colorscale\": [[0.0, \"#0d0887\"], [0.1111111111111111, \"#46039f\"], [0.2222222222222222, \"#7201a8\"], [0.3333333333333333, \"#9c179e\"], [0.4444444444444444, \"#bd3786\"], [0.5555555555555556, \"#d8576b\"], [0.6666666666666666, \"#ed7953\"], [0.7777777777777778, \"#fb9f3a\"], [0.8888888888888888, \"#fdca26\"], [1.0, \"#f0f921\"]], \"type\": \"heatmapgl\"}], \"histogram\": [{\"marker\": {\"colorbar\": {\"outlinewidth\": 0, \"ticks\": \"\"}}, \"type\": \"histogram\"}], \"histogram2d\": [{\"colorbar\": {\"outlinewidth\": 0, \"ticks\": \"\"}, \"colorscale\": [[0.0, \"#0d0887\"], [0.1111111111111111, \"#46039f\"], [0.2222222222222222, \"#7201a8\"], [0.3333333333333333, \"#9c179e\"], [0.4444444444444444, \"#bd3786\"], [0.5555555555555556, \"#d8576b\"], [0.6666666666666666, \"#ed7953\"], [0.7777777777777778, \"#fb9f3a\"], [0.8888888888888888, \"#fdca26\"], [1.0, \"#f0f921\"]], \"type\": \"histogram2d\"}], \"histogram2dcontour\": [{\"colorbar\": {\"outlinewidth\": 0, \"ticks\": \"\"}, \"colorscale\": [[0.0, \"#0d0887\"], [0.1111111111111111, \"#46039f\"], [0.2222222222222222, \"#7201a8\"], [0.3333333333333333, \"#9c179e\"], [0.4444444444444444, \"#bd3786\"], [0.5555555555555556, \"#d8576b\"], [0.6666666666666666, \"#ed7953\"], [0.7777777777777778, \"#fb9f3a\"], [0.8888888888888888, \"#fdca26\"], [1.0, \"#f0f921\"]], \"type\": \"histogram2dcontour\"}], \"mesh3d\": [{\"colorbar\": {\"outlinewidth\": 0, \"ticks\": \"\"}, \"type\": \"mesh3d\"}], \"parcoords\": [{\"line\": {\"colorbar\": {\"outlinewidth\": 0, \"ticks\": \"\"}}, \"type\": \"parcoords\"}], \"pie\": [{\"automargin\": true, \"type\": \"pie\"}], \"scatter\": [{\"marker\": {\"colorbar\": {\"outlinewidth\": 0, \"ticks\": \"\"}}, \"type\": \"scatter\"}], \"scatter3d\": [{\"line\": {\"colorbar\": {\"outlinewidth\": 0, \"ticks\": \"\"}}, \"marker\": {\"colorbar\": {\"outlinewidth\": 0, \"ticks\": \"\"}}, \"type\": \"scatter3d\"}], \"scattercarpet\": [{\"marker\": {\"colorbar\": {\"outlinewidth\": 0, \"ticks\": \"\"}}, \"type\": \"scattercarpet\"}], \"scattergeo\": [{\"marker\": {\"colorbar\": {\"outlinewidth\": 0, \"ticks\": \"\"}}, \"type\": \"scattergeo\"}], \"scattergl\": [{\"marker\": {\"colorbar\": {\"outlinewidth\": 0, \"ticks\": \"\"}}, \"type\": \"scattergl\"}], \"scattermapbox\": [{\"marker\": {\"colorbar\": {\"outlinewidth\": 0, \"ticks\": \"\"}}, \"type\": \"scattermapbox\"}], \"scatterpolar\": [{\"marker\": {\"colorbar\": {\"outlinewidth\": 0, \"ticks\": \"\"}}, \"type\": \"scatterpolar\"}], \"scatterpolargl\": [{\"marker\": {\"colorbar\": {\"outlinewidth\": 0, \"ticks\": \"\"}}, \"type\": \"scatterpolargl\"}], \"scatterternary\": [{\"marker\": {\"colorbar\": {\"outlinewidth\": 0, \"ticks\": \"\"}}, \"type\": \"scatterternary\"}], \"surface\": [{\"colorbar\": {\"outlinewidth\": 0, \"ticks\": \"\"}, \"colorscale\": [[0.0, \"#0d0887\"], [0.1111111111111111, \"#46039f\"], [0.2222222222222222, \"#7201a8\"], [0.3333333333333333, \"#9c179e\"], [0.4444444444444444, \"#bd3786\"], [0.5555555555555556, \"#d8576b\"], [0.6666666666666666, \"#ed7953\"], [0.7777777777777778, \"#fb9f3a\"], [0.8888888888888888, \"#fdca26\"], [1.0, \"#f0f921\"]], \"type\": \"surface\"}], \"table\": [{\"cells\": {\"fill\": {\"color\": \"#EBF0F8\"}, \"line\": {\"color\": \"white\"}}, \"header\": {\"fill\": {\"color\": \"#C8D4E3\"}, \"line\": {\"color\": \"white\"}}, \"type\": \"table\"}]}, \"layout\": {\"annotationdefaults\": {\"arrowcolor\": \"#2a3f5f\", \"arrowhead\": 0, \"arrowwidth\": 1}, \"coloraxis\": {\"colorbar\": {\"outlinewidth\": 0, \"ticks\": \"\"}}, \"colorscale\": {\"diverging\": [[0, \"#8e0152\"], [0.1, \"#c51b7d\"], [0.2, \"#de77ae\"], [0.3, \"#f1b6da\"], [0.4, \"#fde0ef\"], [0.5, \"#f7f7f7\"], [0.6, \"#e6f5d0\"], [0.7, \"#b8e186\"], [0.8, \"#7fbc41\"], [0.9, \"#4d9221\"], [1, \"#276419\"]], \"sequential\": [[0.0, \"#0d0887\"], [0.1111111111111111, \"#46039f\"], [0.2222222222222222, \"#7201a8\"], [0.3333333333333333, \"#9c179e\"], [0.4444444444444444, \"#bd3786\"], [0.5555555555555556, \"#d8576b\"], [0.6666666666666666, \"#ed7953\"], [0.7777777777777778, \"#fb9f3a\"], [0.8888888888888888, \"#fdca26\"], [1.0, \"#f0f921\"]], \"sequentialminus\": [[0.0, \"#0d0887\"], [0.1111111111111111, \"#46039f\"], [0.2222222222222222, \"#7201a8\"], [0.3333333333333333, \"#9c179e\"], [0.4444444444444444, \"#bd3786\"], [0.5555555555555556, \"#d8576b\"], [0.6666666666666666, \"#ed7953\"], [0.7777777777777778, \"#fb9f3a\"], [0.8888888888888888, \"#fdca26\"], [1.0, \"#f0f921\"]]}, \"colorway\": [\"#636efa\", \"#EF553B\", \"#00cc96\", \"#ab63fa\", \"#FFA15A\", \"#19d3f3\", \"#FF6692\", \"#B6E880\", \"#FF97FF\", \"#FECB52\"], \"font\": {\"color\": \"#2a3f5f\"}, \"geo\": {\"bgcolor\": \"white\", \"lakecolor\": \"white\", \"landcolor\": \"#E5ECF6\", \"showlakes\": true, \"showland\": true, \"subunitcolor\": \"white\"}, \"hoverlabel\": {\"align\": \"left\"}, \"hovermode\": \"closest\", \"mapbox\": {\"style\": \"light\"}, \"paper_bgcolor\": \"white\", \"plot_bgcolor\": \"#E5ECF6\", \"polar\": {\"angularaxis\": {\"gridcolor\": \"white\", \"linecolor\": \"white\", \"ticks\": \"\"}, \"bgcolor\": \"#E5ECF6\", \"radialaxis\": {\"gridcolor\": \"white\", \"linecolor\": \"white\", \"ticks\": \"\"}}, \"scene\": {\"xaxis\": {\"backgroundcolor\": \"#E5ECF6\", \"gridcolor\": \"white\", \"gridwidth\": 2, \"linecolor\": \"white\", \"showbackground\": true, \"ticks\": \"\", \"zerolinecolor\": \"white\"}, \"yaxis\": {\"backgroundcolor\": \"#E5ECF6\", \"gridcolor\": \"white\", \"gridwidth\": 2, \"linecolor\": \"white\", \"showbackground\": true, \"ticks\": \"\", \"zerolinecolor\": \"white\"}, \"zaxis\": {\"backgroundcolor\": \"#E5ECF6\", \"gridcolor\": \"white\", \"gridwidth\": 2, \"linecolor\": \"white\", \"showbackground\": true, \"ticks\": \"\", \"zerolinecolor\": \"white\"}}, \"shapedefaults\": {\"line\": {\"color\": \"#2a3f5f\"}}, \"ternary\": {\"aaxis\": {\"gridcolor\": \"white\", \"linecolor\": \"white\", \"ticks\": \"\"}, \"baxis\": {\"gridcolor\": \"white\", \"linecolor\": \"white\", \"ticks\": \"\"}, \"bgcolor\": \"#E5ECF6\", \"caxis\": {\"gridcolor\": \"white\", \"linecolor\": \"white\", \"ticks\": \"\"}}, \"title\": {\"x\": 0.05}, \"xaxis\": {\"automargin\": true, \"gridcolor\": \"white\", \"linecolor\": \"white\", \"ticks\": \"\", \"title\": {\"standoff\": 15}, \"zerolinecolor\": \"white\", \"zerolinewidth\": 2}, \"yaxis\": {\"automargin\": true, \"gridcolor\": \"white\", \"linecolor\": \"white\", \"ticks\": \"\", \"title\": {\"standoff\": 15}, \"zerolinecolor\": \"white\", \"zerolinewidth\": 2}}}, \"xaxis\": {\"anchor\": \"y\", \"domain\": [0.0, 1.0], \"title\": {\"text\": \"Total Income\"}}, \"yaxis\": {\"anchor\": \"x\", \"domain\": [0.0, 1.0], \"title\": {\"text\": \"count\"}}},\n",
       "                        {\"responsive\": true}\n",
       "                    ).then(function(){\n",
       "                            \n",
       "var gd = document.getElementById('418ddd4d-ca87-4682-b6b6-ab0f7dd5fb59');\n",
       "var x = new MutationObserver(function (mutations, observer) {{\n",
       "        var display = window.getComputedStyle(gd).display;\n",
       "        if (!display || display === 'none') {{\n",
       "            console.log([gd, 'removed!']);\n",
       "            Plotly.purge(gd);\n",
       "            observer.disconnect();\n",
       "        }}\n",
       "}});\n",
       "\n",
       "// Listen for the removal of the full notebook cells\n",
       "var notebookContainer = gd.closest('#notebook-container');\n",
       "if (notebookContainer) {{\n",
       "    x.observe(notebookContainer, {childList: true});\n",
       "}}\n",
       "\n",
       "// Listen for the clearing of the current output cell\n",
       "var outputEl = gd.closest('.output');\n",
       "if (outputEl) {{\n",
       "    x.observe(outputEl, {childList: true});\n",
       "}}\n",
       "\n",
       "                        })\n",
       "                };\n",
       "                });\n",
       "            </script>\n",
       "        </div>"
      ]
     },
     "metadata": {},
     "output_type": "display_data"
    }
   ],
   "source": [
    "fig = px.histogram(finaldata, x=\"Total Income\", nbins=10)\n",
    "fig.show()"
   ]
  },
  {
   "cell_type": "code",
   "execution_count": 37,
   "metadata": {},
   "outputs": [
    {
     "data": {
      "application/vnd.plotly.v1+json": {
       "config": {
        "plotlyServerURL": "https://plot.ly"
       },
       "data": [
        {
         "alignmentgroup": "True",
         "box": {
          "visible": false
         },
         "hovertemplate": "Month=%{x}<br>Total Income=%{y}<extra></extra>",
         "legendgroup": "",
         "marker": {
          "color": "#636efa"
         },
         "name": "",
         "offsetgroup": "",
         "orientation": "v",
         "scalegroup": "True",
         "showlegend": false,
         "type": "violin",
         "x": [
          "2020-03-01",
          "2019-07-01",
          "2020-05-01",
          "2020-04-01",
          "2019-01-01",
          "2019-03-01",
          "2019-09-01",
          "2020-01-01",
          "2019-06-01",
          "2019-12-01",
          "2020-02-01",
          "2019-02-01",
          "2019-11-01",
          "2019-05-01",
          "2019-04-01",
          "2019-08-01",
          "2019-10-01",
          "2020-04-01",
          "2019-07-01",
          "2020-01-01",
          "2019-06-01",
          "2020-03-01",
          "2019-11-01",
          "2020-02-01",
          "2019-02-01",
          "2019-05-01",
          "2019-04-01",
          "2019-12-01",
          "2019-08-01",
          "2019-01-01",
          "2019-03-01",
          "2019-09-01",
          "2019-10-01",
          "2020-01-01",
          "2020-05-01",
          "2019-01-01",
          "2019-10-01",
          "2020-04-01",
          "2020-02-01",
          "2020-03-01",
          "2019-12-01",
          "2019-11-01",
          "2019-03-01",
          "2019-09-01",
          "2019-05-01",
          "2019-02-01",
          "2019-04-01",
          "2019-06-01",
          "2019-11-01",
          "2020-05-01",
          "2020-04-01",
          "2019-01-01",
          "2019-12-01",
          "2019-02-01",
          "2019-09-01",
          "2020-01-01",
          "2019-08-01",
          "2020-03-01",
          "2019-10-01",
          "2019-03-01",
          "2020-02-01",
          "2019-06-01",
          "2019-07-01",
          "2019-04-01",
          "2019-05-01",
          "2020-04-01",
          "2019-02-01",
          "2020-03-01",
          "2020-05-01",
          "2019-10-01",
          "2020-01-01",
          "2019-03-01",
          "2019-08-01",
          "2019-01-01",
          "2019-07-01",
          "2019-12-01",
          "2019-09-01",
          "2020-02-01",
          "2019-04-01",
          "2019-11-01",
          "2019-05-01",
          "2020-01-01",
          "2020-04-01",
          "2019-08-01",
          "2019-02-01",
          "2020-02-01",
          "2020-05-01",
          "2019-12-01",
          "2019-04-01",
          "2019-10-01",
          "2019-03-01",
          "2020-03-01",
          "2019-01-01",
          "2019-11-01",
          "2019-06-01",
          "2019-07-01",
          "2019-05-01",
          "2019-12-01",
          "2019-11-01",
          "2020-03-01",
          "2019-04-01",
          "2019-08-01",
          "2020-01-01",
          "2019-03-01",
          "2020-02-01",
          "2019-01-01",
          "2019-02-01",
          "2019-09-01",
          "2019-07-01",
          "2019-10-01",
          "2020-04-01",
          "2019-02-01",
          "2019-03-01",
          "2020-05-01",
          "2019-09-01",
          "2019-05-01",
          "2019-10-01",
          "2019-06-01",
          "2019-04-01",
          "2019-01-01",
          "2020-03-01",
          "2019-11-01",
          "2019-12-01",
          "2020-01-01",
          "2020-02-01",
          "2019-07-01",
          "2019-03-01",
          "2019-11-01",
          "2020-05-01",
          "2020-04-01",
          "2020-03-01",
          "2019-04-01",
          "2019-01-01",
          "2020-01-01",
          "2019-02-01",
          "2019-08-01",
          "2019-06-01",
          "2019-10-01",
          "2019-12-01",
          "2020-02-01",
          "2019-05-01",
          "2019-07-01",
          "2019-09-01",
          "2019-04-01",
          "2019-05-01",
          "2020-05-01",
          "2020-04-01",
          "2020-03-01",
          "2019-12-01",
          "2019-08-01",
          "2019-07-01",
          "2019-06-01",
          "2019-09-01",
          "2019-11-01",
          "2019-10-01",
          "2020-02-01",
          "2020-01-01",
          "2019-03-01",
          "2019-04-01",
          "2019-05-01",
          "2019-07-01",
          "2019-03-01",
          "2020-05-01",
          "2020-04-01",
          "2019-11-01",
          "2019-09-01",
          "2019-10-01",
          "2020-03-01",
          "2020-01-01",
          "2019-08-01",
          "2019-06-01",
          "2020-02-01",
          "2019-02-01",
          "2019-01-01",
          "2019-12-01",
          "2019-09-01",
          "2020-05-01",
          "2020-03-01",
          "2020-04-01",
          "2019-08-01",
          "2020-02-01",
          "2020-01-01",
          "2019-02-01",
          "2019-01-01",
          "2019-10-01",
          "2019-11-01",
          "2019-12-01",
          "2019-07-01",
          "2019-03-01",
          "2019-05-01",
          "2019-06-01",
          "2019-04-01",
          "2019-01-01",
          "2020-05-01",
          "2020-04-01",
          "2020-03-01",
          "2019-08-01",
          "2019-05-01",
          "2019-10-01",
          "2019-06-01",
          "2019-07-01",
          "2019-09-01",
          "2020-02-01",
          "2019-12-01",
          "2019-11-01",
          "2019-02-01",
          "2019-03-01",
          "2019-04-01",
          "2020-01-01",
          "2020-04-01",
          "2020-05-01",
          "2020-01-01",
          "2019-11-01",
          "2020-03-01",
          "2020-02-01",
          "2019-05-01",
          "2019-10-01",
          "2019-04-01",
          "2019-06-01",
          "2019-01-01",
          "2019-12-01",
          "2019-03-01",
          "2019-02-01",
          "2019-08-01",
          "2019-09-01",
          "2019-07-01",
          "2019-10-01",
          "2020-02-01",
          "2020-04-01",
          "2019-11-01",
          "2020-03-01",
          "2020-02-01",
          "2020-03-01",
          "2019-10-01",
          "2019-05-01",
          "2020-05-01",
          "2019-04-01",
          "2019-11-01",
          "2019-12-01",
          "2020-01-01",
          "2019-08-01",
          "2019-09-01",
          "2019-06-01",
          "2019-07-01",
          "2019-05-01",
          "2019-01-01",
          "2019-08-01",
          "2019-04-01",
          "2019-03-01",
          "2019-06-01",
          "2020-04-01",
          "2020-05-01",
          "2019-07-01",
          "2019-02-01",
          "2019-10-01",
          "2020-03-01",
          "2019-12-01",
          "2019-11-01",
          "2019-09-01",
          "2020-01-01",
          "2020-02-01",
          "2020-04-01",
          "2019-01-01",
          "2019-08-01",
          "2019-02-01",
          "2019-03-01",
          "2020-03-01",
          "2020-05-01",
          "2019-10-01",
          "2019-12-01",
          "2019-04-01",
          "2019-05-01",
          "2019-09-01",
          "2020-02-01",
          "2020-01-01",
          "2019-06-01",
          "2019-07-01",
          "2019-11-01",
          "2019-12-01",
          "2020-01-01",
          "2019-11-01",
          "2020-02-01",
          "2019-10-01",
          "2020-03-01",
          "2019-07-01",
          "2019-05-01",
          "2019-08-01",
          "2019-09-01",
          "2019-04-01",
          "2019-05-01",
          "2019-06-01",
          "2019-08-01",
          "2020-03-01",
          "2019-09-01",
          "2019-07-01",
          "2020-05-01",
          "2019-10-01",
          "2020-02-01",
          "2019-12-01",
          "2019-11-01",
          "2020-01-01",
          "2020-04-01",
          "2019-03-01",
          "2019-01-01",
          "2019-10-01",
          "2019-11-01",
          "2020-01-01",
          "2019-04-01",
          "2019-05-01",
          "2019-06-01",
          "2019-08-01",
          "2019-09-01",
          "2019-02-01",
          "2019-12-01",
          "2020-02-01",
          "2020-03-01",
          "2020-04-01",
          "2020-02-01",
          "2019-11-01",
          "2020-05-01",
          "2019-12-01",
          "2020-01-01",
          "2019-04-01",
          "2019-09-01",
          "2019-10-01",
          "2019-08-01",
          "2019-02-01",
          "2019-04-01",
          "2020-05-01",
          "2019-03-01",
          "2020-04-01",
          "2020-03-01",
          "2019-01-01",
          "2019-05-01",
          "2019-10-01",
          "2019-08-01",
          "2019-02-01",
          "2019-11-01",
          "2019-12-01",
          "2020-01-01",
          "2019-09-01",
          "2019-06-01",
          "2020-02-01",
          "2019-01-01",
          "2019-02-01",
          "2019-05-01",
          "2019-04-01",
          "2019-07-01",
          "2019-08-01",
          "2019-03-01",
          "2019-06-01",
          "2019-10-01",
          "2019-09-01",
          "2020-01-01",
          "2019-11-01",
          "2019-12-01",
          "2020-02-01",
          "2020-05-01",
          "2020-04-01",
          "2020-03-01",
          "2020-01-01",
          "2020-02-01",
          "2019-12-01",
          "2019-08-01",
          "2019-06-01",
          "2019-07-01",
          "2019-11-01",
          "2019-05-01",
          "2019-01-01",
          "2019-04-01",
          "2019-01-01",
          "2019-03-01",
          "2019-06-01",
          "2020-01-01",
          "2019-02-01",
          "2019-05-01",
          "2019-12-01",
          "2019-10-01",
          "2019-04-01",
          "2019-07-01",
          "2020-02-01",
          "2019-08-01",
          "2019-11-01",
          "2019-09-01",
          "2020-03-01",
          "2020-05-01",
          "2020-04-01",
          "2020-03-01",
          "2020-02-01",
          "2019-10-01",
          "2019-09-01",
          "2019-11-01",
          "2019-12-01",
          "2020-01-01",
          "2020-02-01",
          "2019-11-01",
          "2020-03-01",
          "2020-01-01",
          "2019-12-01",
          "2019-03-01",
          "2020-02-01",
          "2020-03-01",
          "2019-11-01",
          "2020-01-01",
          "2020-04-01",
          "2019-02-01",
          "2019-12-01",
          "2019-04-01",
          "2019-05-01",
          "2019-10-01",
          "2019-09-01",
          "2019-07-01",
          "2019-08-01",
          "2019-11-01",
          "2019-04-01",
          "2019-12-01",
          "2020-05-01",
          "2020-04-01",
          "2019-08-01",
          "2020-03-01",
          "2020-01-01",
          "2020-02-01",
          "2019-03-01",
          "2019-01-01",
          "2019-05-01",
          "2019-07-01",
          "2019-09-01",
          "2019-06-01",
          "2019-10-01",
          "2019-02-01",
          "2019-05-01",
          "2019-03-01",
          "2019-08-01",
          "2020-05-01",
          "2019-02-01",
          "2020-04-01",
          "2020-02-01",
          "2019-07-01",
          "2019-09-01",
          "2019-04-01",
          "2020-03-01",
          "2019-10-01",
          "2020-01-01",
          "2019-06-01",
          "2019-01-01",
          "2019-11-01",
          "2020-04-01",
          "2019-03-01",
          "2019-04-01",
          "2020-03-01",
          "2020-01-01",
          "2019-01-01",
          "2020-02-01",
          "2020-05-01",
          "2019-08-01",
          "2019-02-01",
          "2019-05-01",
          "2019-10-01",
          "2019-12-01",
          "2019-09-01",
          "2019-11-01",
          "2019-06-01",
          "2019-07-01",
          "2020-04-01",
          "2020-05-01",
          "2019-12-01",
          "2019-08-01",
          "2019-11-01",
          "2020-01-01",
          "2020-03-01",
          "2020-02-01",
          "2019-06-01",
          "2019-07-01",
          "2019-09-01",
          "2019-10-01",
          "2019-01-01",
          "2019-05-01",
          "2019-02-01",
          "2019-03-01",
          "2019-04-01",
          "2019-09-01",
          "2019-01-01",
          "2019-02-01",
          "2019-03-01",
          "2020-01-01",
          "2020-05-01",
          "2019-04-01",
          "2019-08-01",
          "2019-12-01",
          "2019-06-01",
          "2019-05-01",
          "2020-02-01",
          "2019-11-01",
          "2019-10-01",
          "2020-03-01",
          "2019-07-01",
          "2020-03-01",
          "2020-04-01",
          "2020-02-01",
          "2019-10-01",
          "2020-05-01",
          "2019-09-01",
          "2019-12-01",
          "2019-03-01",
          "2019-11-01",
          "2020-01-01",
          "2019-08-01",
          "2019-05-01",
          "2019-04-01",
          "2019-07-01",
          "2019-01-01",
          "2019-06-01",
          "2019-02-01"
         ],
         "x0": " ",
         "xaxis": "x",
         "y": [
          51991.59,
          65543.89,
          53762.42,
          53793.14,
          69126.18,
          84154.99,
          79107.66,
          47713.7,
          53487.11,
          81827.18,
          50275.57,
          97509.19,
          46421.85,
          81206.79,
          48352.42,
          43448.75,
          60639.55,
          21099.21,
          14073.08,
          12806.56,
          13319.79,
          18805.73,
          13169.89,
          14902.13,
          14228.52,
          10334.6,
          10818.66,
          12227.13,
          12445.88,
          9455.65,
          9007,
          12745.29,
          13283.58,
          52761.41,
          39907.08,
          24048.28,
          43299.83,
          38229.51,
          48630.41,
          68035.23,
          33010.29,
          45216.03,
          22706,
          38908.94,
          24567.14,
          21433.76,
          18823.33,
          23913.96,
          47680.95,
          52379.79,
          25777.12,
          42267.49,
          68756.18,
          50177.83,
          48723.91,
          46279.09,
          42711.26,
          42541.39,
          37945.06,
          39942.74,
          41680.53,
          48701.05,
          48584.7,
          47518.02,
          40930.85,
          77072.43,
          70417.45,
          66488.28,
          72256.96,
          62167.87,
          51403.55,
          42941.62,
          76469.56,
          46092.83,
          79189.4,
          55301.15,
          61763.41,
          54856.56,
          45052.09,
          47086.8,
          49938.42,
          74101.78,
          86355.57,
          55752.85,
          97436.21,
          53616.78,
          61637.82,
          56059.59,
          59009.63,
          64033.63,
          69703.63,
          60860.12,
          67993.26,
          47602.33,
          64136.39,
          63480.55,
          56284.41,
          29546.97,
          23893.42,
          20355.13,
          17775.48,
          16637.53,
          24587.01,
          17076.77,
          19711.44,
          21138.62,
          26014.23,
          15519.56,
          20130.81,
          20859.25,
          26657.39,
          28563.78,
          18325.87,
          12606.39,
          23428.86,
          14147.04,
          20007.2,
          16134.26,
          13798.2,
          14387.22,
          15139.03,
          14679.95,
          15924.34,
          13880.83,
          14674.46,
          13533.51,
          42541.85,
          25754.59,
          44187.96,
          24941.46,
          26563.21,
          31608.58,
          32686.37,
          26098.96,
          47278.15,
          27581.2,
          28240.11,
          41658.06,
          28773.97,
          24567.28,
          26882.64,
          24177.98,
          26377.94,
          27871.72,
          26971.39,
          47288.64,
          43445.73,
          35281.12,
          35290.77,
          27780.84,
          31564.06,
          27757.21,
          46267.56,
          31846.07,
          34469.8,
          34032.19,
          34400.57,
          15839.53,
          59556.6,
          62522.37,
          63589.81,
          58521.71,
          56558.96,
          45207.07,
          53111.38,
          58132.98,
          52643.28,
          57477.67,
          52980.58,
          58817.86,
          61640.31,
          51424.74,
          84513.35,
          57052.17,
          52881.75,
          57776.71,
          47571.02,
          38868.71,
          35575,
          32741.56,
          26837.56,
          30630.17,
          18474.1,
          22146.95,
          24832.06,
          22481.13,
          25659.77,
          17381.65,
          12890.62,
          17426.71,
          13045.1,
          11313.33,
          133265.24,
          122537.36,
          149430.18,
          113652.56,
          92749.93,
          96595.63,
          100899.23,
          90658,
          106524.05,
          65567.7,
          92850.01,
          82039.17,
          67315.29,
          125677.51,
          67497.57,
          54433.8,
          85671.89,
          23802.84,
          19195.48,
          19335.71,
          16423.18,
          18950.28,
          17991.7,
          15715.78,
          19693.33,
          13449.2,
          13497.27,
          12485.49,
          17427.85,
          16284.1,
          18341.26,
          11766.99,
          13807.64,
          14054.99,
          6227.52,
          3967.05,
          3807.37,
          2729.53,
          3398.19,
          10369.24,
          6866.3,
          13728.11,
          1796.44,
          7275.55,
          2310.75,
          7994.1,
          8962.34,
          2539.99,
          928.14,
          1612.03,
          1596.86,
          1986.56,
          54636.18,
          86851.49,
          41578.52,
          43445.18,
          48042.08,
          53711.3,
          45080.63,
          67218.32,
          49568.11,
          59803.84,
          51255.83,
          41688.53,
          32492.82,
          28939,
          25719.23,
          44249.84,
          34626.78,
          86756.49,
          86191.6,
          50450.17,
          84391.7,
          69553.59,
          50087.86,
          58745.97,
          46946.44,
          49680.55,
          52413.19,
          58881.02,
          39235.3,
          39514.7,
          38266.46,
          47725.65,
          49161.85,
          32263.35,
          49806.61,
          42406.39,
          38354.28,
          42221.53,
          39317.81,
          61831.92,
          29471.94,
          26243.75,
          29232.54,
          31018.99,
          31467.63,
          53486.31,
          47735.26,
          33205.63,
          47854.03,
          38751.11,
          25408.31,
          42005.07,
          30783.95,
          29980.74,
          31048.76,
          22739.15,
          30258.34,
          19938.05,
          16512.48,
          13624.68,
          19298.09,
          14787.13,
          8734.16,
          9523.26,
          9358.57,
          10724.35,
          12481.27,
          10859.92,
          11800.58,
          11828.34,
          12486.52,
          1946.14,
          1751.54,
          1746.53,
          3952.1,
          1501.99,
          2949.1,
          2814.37,
          2639.82,
          3388.23,
          1581.84,
          1117.77,
          2130.89,
          6723.55,
          4421.5,
          5356.33,
          5465.35,
          5355.63,
          6774.25,
          5839.82,
          8774.72,
          6839.72,
          9370.59,
          6633.67,
          7098.16,
          6718.48,
          8170.49,
          5296.71,
          4547.15,
          21733.5,
          20611.58,
          20800.85,
          20511.46,
          32926.16,
          33614.73,
          18264.87,
          20600.7,
          22731.24,
          24981.31,
          23659.17,
          19502.06,
          24732.27,
          23728.88,
          379.44,
          419.35,
          264.57,
          334.62,
          224.66,
          629.55,
          289.67,
          694.25,
          269.69,
          469.71,
          184.75,
          5087.71,
          774.49,
          23779.84,
          25051.79,
          22002.47,
          19167.94,
          33316.11,
          22431.61,
          19716.74,
          18933.3,
          20600.37,
          19626.9,
          16583,
          18409.39,
          16523.23,
          21448.48,
          14861.29,
          0,
          64.9,
          109.84,
          89.85,
          109.83,
          74.87,
          94.85,
          79.87,
          74.88,
          29.95,
          59.9,
          34.94,
          79.86,
          59.9,
          17730.51,
          20604.56,
          19102.62,
          12730.3,
          15055.73,
          9032.36,
          14881.91,
          11053.5,
          11982.03,
          12296.1,
          13927.84,
          12221.01,
          12241.24,
          9596.31,
          2599.91,
          3523.18,
          3018.97,
          6397.61,
          10491.02,
          2709.7,
          4795.54,
          3483.13,
          3563.05,
          3343.48,
          3587.99,
          2994.69,
          2969.26,
          3203.81,
          2465.25,
          2739.54,
          6851.53,
          27296.6,
          45535,
          22590.34,
          19047.6,
          42262.36,
          14416.67,
          17415.62,
          25504.6,
          11477.24,
          23463.67,
          16562.57,
          20609.46,
          16696.89,
          14735.96,
          22091.64,
          11028.28,
          146092.02,
          63122.31,
          54414.23,
          66392.13,
          52065.73,
          72184.58,
          59391.01,
          87398.12,
          42883.27,
          63754.25,
          43255.15,
          39100.8,
          41336.59,
          35777.31,
          32039.37,
          30094.17,
          43273.01,
          72896.86,
          73100.89,
          59044.4,
          43041.44,
          50735.82,
          49837.64,
          53939.04,
          58559.49,
          38515.46,
          47302.66,
          64702.74,
          53465.54,
          40017.8,
          34518.74,
          42329.17,
          33600.27,
          31643.66,
          26110.83,
          25537.21,
          38027.35,
          26958.5,
          22142.26,
          22099.54,
          24221.38,
          10047.4,
          21296.75,
          24809.98,
          25879.76,
          20269.91,
          21562.32,
          25263.69,
          19805.24,
          23127.09,
          6009.1,
          8660.23,
          10162.98,
          12959.26,
          7291.44,
          13063.31,
          12109.88,
          13534.95,
          7946.2,
          9314.22,
          7163.75,
          12975.57,
          12251.66,
          11781.88,
          11772.36,
          12442.28,
          18632.5
         ],
         "y0": " ",
         "yaxis": "y"
        }
       ],
       "layout": {
        "legend": {
         "tracegroupgap": 0
        },
        "margin": {
         "t": 60
        },
        "template": {
         "data": {
          "bar": [
           {
            "error_x": {
             "color": "#2a3f5f"
            },
            "error_y": {
             "color": "#2a3f5f"
            },
            "marker": {
             "line": {
              "color": "#E5ECF6",
              "width": 0.5
             }
            },
            "type": "bar"
           }
          ],
          "barpolar": [
           {
            "marker": {
             "line": {
              "color": "#E5ECF6",
              "width": 0.5
             }
            },
            "type": "barpolar"
           }
          ],
          "carpet": [
           {
            "aaxis": {
             "endlinecolor": "#2a3f5f",
             "gridcolor": "white",
             "linecolor": "white",
             "minorgridcolor": "white",
             "startlinecolor": "#2a3f5f"
            },
            "baxis": {
             "endlinecolor": "#2a3f5f",
             "gridcolor": "white",
             "linecolor": "white",
             "minorgridcolor": "white",
             "startlinecolor": "#2a3f5f"
            },
            "type": "carpet"
           }
          ],
          "choropleth": [
           {
            "colorbar": {
             "outlinewidth": 0,
             "ticks": ""
            },
            "type": "choropleth"
           }
          ],
          "contour": [
           {
            "colorbar": {
             "outlinewidth": 0,
             "ticks": ""
            },
            "colorscale": [
             [
              0,
              "#0d0887"
             ],
             [
              0.1111111111111111,
              "#46039f"
             ],
             [
              0.2222222222222222,
              "#7201a8"
             ],
             [
              0.3333333333333333,
              "#9c179e"
             ],
             [
              0.4444444444444444,
              "#bd3786"
             ],
             [
              0.5555555555555556,
              "#d8576b"
             ],
             [
              0.6666666666666666,
              "#ed7953"
             ],
             [
              0.7777777777777778,
              "#fb9f3a"
             ],
             [
              0.8888888888888888,
              "#fdca26"
             ],
             [
              1,
              "#f0f921"
             ]
            ],
            "type": "contour"
           }
          ],
          "contourcarpet": [
           {
            "colorbar": {
             "outlinewidth": 0,
             "ticks": ""
            },
            "type": "contourcarpet"
           }
          ],
          "heatmap": [
           {
            "colorbar": {
             "outlinewidth": 0,
             "ticks": ""
            },
            "colorscale": [
             [
              0,
              "#0d0887"
             ],
             [
              0.1111111111111111,
              "#46039f"
             ],
             [
              0.2222222222222222,
              "#7201a8"
             ],
             [
              0.3333333333333333,
              "#9c179e"
             ],
             [
              0.4444444444444444,
              "#bd3786"
             ],
             [
              0.5555555555555556,
              "#d8576b"
             ],
             [
              0.6666666666666666,
              "#ed7953"
             ],
             [
              0.7777777777777778,
              "#fb9f3a"
             ],
             [
              0.8888888888888888,
              "#fdca26"
             ],
             [
              1,
              "#f0f921"
             ]
            ],
            "type": "heatmap"
           }
          ],
          "heatmapgl": [
           {
            "colorbar": {
             "outlinewidth": 0,
             "ticks": ""
            },
            "colorscale": [
             [
              0,
              "#0d0887"
             ],
             [
              0.1111111111111111,
              "#46039f"
             ],
             [
              0.2222222222222222,
              "#7201a8"
             ],
             [
              0.3333333333333333,
              "#9c179e"
             ],
             [
              0.4444444444444444,
              "#bd3786"
             ],
             [
              0.5555555555555556,
              "#d8576b"
             ],
             [
              0.6666666666666666,
              "#ed7953"
             ],
             [
              0.7777777777777778,
              "#fb9f3a"
             ],
             [
              0.8888888888888888,
              "#fdca26"
             ],
             [
              1,
              "#f0f921"
             ]
            ],
            "type": "heatmapgl"
           }
          ],
          "histogram": [
           {
            "marker": {
             "colorbar": {
              "outlinewidth": 0,
              "ticks": ""
             }
            },
            "type": "histogram"
           }
          ],
          "histogram2d": [
           {
            "colorbar": {
             "outlinewidth": 0,
             "ticks": ""
            },
            "colorscale": [
             [
              0,
              "#0d0887"
             ],
             [
              0.1111111111111111,
              "#46039f"
             ],
             [
              0.2222222222222222,
              "#7201a8"
             ],
             [
              0.3333333333333333,
              "#9c179e"
             ],
             [
              0.4444444444444444,
              "#bd3786"
             ],
             [
              0.5555555555555556,
              "#d8576b"
             ],
             [
              0.6666666666666666,
              "#ed7953"
             ],
             [
              0.7777777777777778,
              "#fb9f3a"
             ],
             [
              0.8888888888888888,
              "#fdca26"
             ],
             [
              1,
              "#f0f921"
             ]
            ],
            "type": "histogram2d"
           }
          ],
          "histogram2dcontour": [
           {
            "colorbar": {
             "outlinewidth": 0,
             "ticks": ""
            },
            "colorscale": [
             [
              0,
              "#0d0887"
             ],
             [
              0.1111111111111111,
              "#46039f"
             ],
             [
              0.2222222222222222,
              "#7201a8"
             ],
             [
              0.3333333333333333,
              "#9c179e"
             ],
             [
              0.4444444444444444,
              "#bd3786"
             ],
             [
              0.5555555555555556,
              "#d8576b"
             ],
             [
              0.6666666666666666,
              "#ed7953"
             ],
             [
              0.7777777777777778,
              "#fb9f3a"
             ],
             [
              0.8888888888888888,
              "#fdca26"
             ],
             [
              1,
              "#f0f921"
             ]
            ],
            "type": "histogram2dcontour"
           }
          ],
          "mesh3d": [
           {
            "colorbar": {
             "outlinewidth": 0,
             "ticks": ""
            },
            "type": "mesh3d"
           }
          ],
          "parcoords": [
           {
            "line": {
             "colorbar": {
              "outlinewidth": 0,
              "ticks": ""
             }
            },
            "type": "parcoords"
           }
          ],
          "pie": [
           {
            "automargin": true,
            "type": "pie"
           }
          ],
          "scatter": [
           {
            "marker": {
             "colorbar": {
              "outlinewidth": 0,
              "ticks": ""
             }
            },
            "type": "scatter"
           }
          ],
          "scatter3d": [
           {
            "line": {
             "colorbar": {
              "outlinewidth": 0,
              "ticks": ""
             }
            },
            "marker": {
             "colorbar": {
              "outlinewidth": 0,
              "ticks": ""
             }
            },
            "type": "scatter3d"
           }
          ],
          "scattercarpet": [
           {
            "marker": {
             "colorbar": {
              "outlinewidth": 0,
              "ticks": ""
             }
            },
            "type": "scattercarpet"
           }
          ],
          "scattergeo": [
           {
            "marker": {
             "colorbar": {
              "outlinewidth": 0,
              "ticks": ""
             }
            },
            "type": "scattergeo"
           }
          ],
          "scattergl": [
           {
            "marker": {
             "colorbar": {
              "outlinewidth": 0,
              "ticks": ""
             }
            },
            "type": "scattergl"
           }
          ],
          "scattermapbox": [
           {
            "marker": {
             "colorbar": {
              "outlinewidth": 0,
              "ticks": ""
             }
            },
            "type": "scattermapbox"
           }
          ],
          "scatterpolar": [
           {
            "marker": {
             "colorbar": {
              "outlinewidth": 0,
              "ticks": ""
             }
            },
            "type": "scatterpolar"
           }
          ],
          "scatterpolargl": [
           {
            "marker": {
             "colorbar": {
              "outlinewidth": 0,
              "ticks": ""
             }
            },
            "type": "scatterpolargl"
           }
          ],
          "scatterternary": [
           {
            "marker": {
             "colorbar": {
              "outlinewidth": 0,
              "ticks": ""
             }
            },
            "type": "scatterternary"
           }
          ],
          "surface": [
           {
            "colorbar": {
             "outlinewidth": 0,
             "ticks": ""
            },
            "colorscale": [
             [
              0,
              "#0d0887"
             ],
             [
              0.1111111111111111,
              "#46039f"
             ],
             [
              0.2222222222222222,
              "#7201a8"
             ],
             [
              0.3333333333333333,
              "#9c179e"
             ],
             [
              0.4444444444444444,
              "#bd3786"
             ],
             [
              0.5555555555555556,
              "#d8576b"
             ],
             [
              0.6666666666666666,
              "#ed7953"
             ],
             [
              0.7777777777777778,
              "#fb9f3a"
             ],
             [
              0.8888888888888888,
              "#fdca26"
             ],
             [
              1,
              "#f0f921"
             ]
            ],
            "type": "surface"
           }
          ],
          "table": [
           {
            "cells": {
             "fill": {
              "color": "#EBF0F8"
             },
             "line": {
              "color": "white"
             }
            },
            "header": {
             "fill": {
              "color": "#C8D4E3"
             },
             "line": {
              "color": "white"
             }
            },
            "type": "table"
           }
          ]
         },
         "layout": {
          "annotationdefaults": {
           "arrowcolor": "#2a3f5f",
           "arrowhead": 0,
           "arrowwidth": 1
          },
          "coloraxis": {
           "colorbar": {
            "outlinewidth": 0,
            "ticks": ""
           }
          },
          "colorscale": {
           "diverging": [
            [
             0,
             "#8e0152"
            ],
            [
             0.1,
             "#c51b7d"
            ],
            [
             0.2,
             "#de77ae"
            ],
            [
             0.3,
             "#f1b6da"
            ],
            [
             0.4,
             "#fde0ef"
            ],
            [
             0.5,
             "#f7f7f7"
            ],
            [
             0.6,
             "#e6f5d0"
            ],
            [
             0.7,
             "#b8e186"
            ],
            [
             0.8,
             "#7fbc41"
            ],
            [
             0.9,
             "#4d9221"
            ],
            [
             1,
             "#276419"
            ]
           ],
           "sequential": [
            [
             0,
             "#0d0887"
            ],
            [
             0.1111111111111111,
             "#46039f"
            ],
            [
             0.2222222222222222,
             "#7201a8"
            ],
            [
             0.3333333333333333,
             "#9c179e"
            ],
            [
             0.4444444444444444,
             "#bd3786"
            ],
            [
             0.5555555555555556,
             "#d8576b"
            ],
            [
             0.6666666666666666,
             "#ed7953"
            ],
            [
             0.7777777777777778,
             "#fb9f3a"
            ],
            [
             0.8888888888888888,
             "#fdca26"
            ],
            [
             1,
             "#f0f921"
            ]
           ],
           "sequentialminus": [
            [
             0,
             "#0d0887"
            ],
            [
             0.1111111111111111,
             "#46039f"
            ],
            [
             0.2222222222222222,
             "#7201a8"
            ],
            [
             0.3333333333333333,
             "#9c179e"
            ],
            [
             0.4444444444444444,
             "#bd3786"
            ],
            [
             0.5555555555555556,
             "#d8576b"
            ],
            [
             0.6666666666666666,
             "#ed7953"
            ],
            [
             0.7777777777777778,
             "#fb9f3a"
            ],
            [
             0.8888888888888888,
             "#fdca26"
            ],
            [
             1,
             "#f0f921"
            ]
           ]
          },
          "colorway": [
           "#636efa",
           "#EF553B",
           "#00cc96",
           "#ab63fa",
           "#FFA15A",
           "#19d3f3",
           "#FF6692",
           "#B6E880",
           "#FF97FF",
           "#FECB52"
          ],
          "font": {
           "color": "#2a3f5f"
          },
          "geo": {
           "bgcolor": "white",
           "lakecolor": "white",
           "landcolor": "#E5ECF6",
           "showlakes": true,
           "showland": true,
           "subunitcolor": "white"
          },
          "hoverlabel": {
           "align": "left"
          },
          "hovermode": "closest",
          "mapbox": {
           "style": "light"
          },
          "paper_bgcolor": "white",
          "plot_bgcolor": "#E5ECF6",
          "polar": {
           "angularaxis": {
            "gridcolor": "white",
            "linecolor": "white",
            "ticks": ""
           },
           "bgcolor": "#E5ECF6",
           "radialaxis": {
            "gridcolor": "white",
            "linecolor": "white",
            "ticks": ""
           }
          },
          "scene": {
           "xaxis": {
            "backgroundcolor": "#E5ECF6",
            "gridcolor": "white",
            "gridwidth": 2,
            "linecolor": "white",
            "showbackground": true,
            "ticks": "",
            "zerolinecolor": "white"
           },
           "yaxis": {
            "backgroundcolor": "#E5ECF6",
            "gridcolor": "white",
            "gridwidth": 2,
            "linecolor": "white",
            "showbackground": true,
            "ticks": "",
            "zerolinecolor": "white"
           },
           "zaxis": {
            "backgroundcolor": "#E5ECF6",
            "gridcolor": "white",
            "gridwidth": 2,
            "linecolor": "white",
            "showbackground": true,
            "ticks": "",
            "zerolinecolor": "white"
           }
          },
          "shapedefaults": {
           "line": {
            "color": "#2a3f5f"
           }
          },
          "ternary": {
           "aaxis": {
            "gridcolor": "white",
            "linecolor": "white",
            "ticks": ""
           },
           "baxis": {
            "gridcolor": "white",
            "linecolor": "white",
            "ticks": ""
           },
           "bgcolor": "#E5ECF6",
           "caxis": {
            "gridcolor": "white",
            "linecolor": "white",
            "ticks": ""
           }
          },
          "title": {
           "x": 0.05
          },
          "xaxis": {
           "automargin": true,
           "gridcolor": "white",
           "linecolor": "white",
           "ticks": "",
           "title": {
            "standoff": 15
           },
           "zerolinecolor": "white",
           "zerolinewidth": 2
          },
          "yaxis": {
           "automargin": true,
           "gridcolor": "white",
           "linecolor": "white",
           "ticks": "",
           "title": {
            "standoff": 15
           },
           "zerolinecolor": "white",
           "zerolinewidth": 2
          }
         }
        },
        "violinmode": "group",
        "xaxis": {
         "anchor": "y",
         "domain": [
          0,
          1
         ],
         "title": {
          "text": "Month"
         }
        },
        "yaxis": {
         "anchor": "x",
         "domain": [
          0,
          1
         ],
         "title": {
          "text": "Total Income"
         }
        }
       }
      },
      "text/html": [
       "<div>\n",
       "        \n",
       "        \n",
       "            <div id=\"28509a52-7f3a-4743-9acd-a928f32ff2d7\" class=\"plotly-graph-div\" style=\"height:525px; width:100%;\"></div>\n",
       "            <script type=\"text/javascript\">\n",
       "                require([\"plotly\"], function(Plotly) {\n",
       "                    window.PLOTLYENV=window.PLOTLYENV || {};\n",
       "                    \n",
       "                if (document.getElementById(\"28509a52-7f3a-4743-9acd-a928f32ff2d7\")) {\n",
       "                    Plotly.newPlot(\n",
       "                        '28509a52-7f3a-4743-9acd-a928f32ff2d7',\n",
       "                        [{\"alignmentgroup\": \"True\", \"box\": {\"visible\": false}, \"hovertemplate\": \"Month=%{x}<br>Total Income=%{y}<extra></extra>\", \"legendgroup\": \"\", \"marker\": {\"color\": \"#636efa\"}, \"name\": \"\", \"offsetgroup\": \"\", \"orientation\": \"v\", \"scalegroup\": \"True\", \"showlegend\": false, \"type\": \"violin\", \"x\": [\"2020-03-01\", \"2019-07-01\", \"2020-05-01\", \"2020-04-01\", \"2019-01-01\", \"2019-03-01\", \"2019-09-01\", \"2020-01-01\", \"2019-06-01\", \"2019-12-01\", \"2020-02-01\", \"2019-02-01\", \"2019-11-01\", \"2019-05-01\", \"2019-04-01\", \"2019-08-01\", \"2019-10-01\", \"2020-04-01\", \"2019-07-01\", \"2020-01-01\", \"2019-06-01\", \"2020-03-01\", \"2019-11-01\", \"2020-02-01\", \"2019-02-01\", \"2019-05-01\", \"2019-04-01\", \"2019-12-01\", \"2019-08-01\", \"2019-01-01\", \"2019-03-01\", \"2019-09-01\", \"2019-10-01\", \"2020-01-01\", \"2020-05-01\", \"2019-01-01\", \"2019-10-01\", \"2020-04-01\", \"2020-02-01\", \"2020-03-01\", \"2019-12-01\", \"2019-11-01\", \"2019-03-01\", \"2019-09-01\", \"2019-05-01\", \"2019-02-01\", \"2019-04-01\", \"2019-06-01\", \"2019-11-01\", \"2020-05-01\", \"2020-04-01\", \"2019-01-01\", \"2019-12-01\", \"2019-02-01\", \"2019-09-01\", \"2020-01-01\", \"2019-08-01\", \"2020-03-01\", \"2019-10-01\", \"2019-03-01\", \"2020-02-01\", \"2019-06-01\", \"2019-07-01\", \"2019-04-01\", \"2019-05-01\", \"2020-04-01\", \"2019-02-01\", \"2020-03-01\", \"2020-05-01\", \"2019-10-01\", \"2020-01-01\", \"2019-03-01\", \"2019-08-01\", \"2019-01-01\", \"2019-07-01\", \"2019-12-01\", \"2019-09-01\", \"2020-02-01\", \"2019-04-01\", \"2019-11-01\", \"2019-05-01\", \"2020-01-01\", \"2020-04-01\", \"2019-08-01\", \"2019-02-01\", \"2020-02-01\", \"2020-05-01\", \"2019-12-01\", \"2019-04-01\", \"2019-10-01\", \"2019-03-01\", \"2020-03-01\", \"2019-01-01\", \"2019-11-01\", \"2019-06-01\", \"2019-07-01\", \"2019-05-01\", \"2019-12-01\", \"2019-11-01\", \"2020-03-01\", \"2019-04-01\", \"2019-08-01\", \"2020-01-01\", \"2019-03-01\", \"2020-02-01\", \"2019-01-01\", \"2019-02-01\", \"2019-09-01\", \"2019-07-01\", \"2019-10-01\", \"2020-04-01\", \"2019-02-01\", \"2019-03-01\", \"2020-05-01\", \"2019-09-01\", \"2019-05-01\", \"2019-10-01\", \"2019-06-01\", \"2019-04-01\", \"2019-01-01\", \"2020-03-01\", \"2019-11-01\", \"2019-12-01\", \"2020-01-01\", \"2020-02-01\", \"2019-07-01\", \"2019-03-01\", \"2019-11-01\", \"2020-05-01\", \"2020-04-01\", \"2020-03-01\", \"2019-04-01\", \"2019-01-01\", \"2020-01-01\", \"2019-02-01\", \"2019-08-01\", \"2019-06-01\", \"2019-10-01\", \"2019-12-01\", \"2020-02-01\", \"2019-05-01\", \"2019-07-01\", \"2019-09-01\", \"2019-04-01\", \"2019-05-01\", \"2020-05-01\", \"2020-04-01\", \"2020-03-01\", \"2019-12-01\", \"2019-08-01\", \"2019-07-01\", \"2019-06-01\", \"2019-09-01\", \"2019-11-01\", \"2019-10-01\", \"2020-02-01\", \"2020-01-01\", \"2019-03-01\", \"2019-04-01\", \"2019-05-01\", \"2019-07-01\", \"2019-03-01\", \"2020-05-01\", \"2020-04-01\", \"2019-11-01\", \"2019-09-01\", \"2019-10-01\", \"2020-03-01\", \"2020-01-01\", \"2019-08-01\", \"2019-06-01\", \"2020-02-01\", \"2019-02-01\", \"2019-01-01\", \"2019-12-01\", \"2019-09-01\", \"2020-05-01\", \"2020-03-01\", \"2020-04-01\", \"2019-08-01\", \"2020-02-01\", \"2020-01-01\", \"2019-02-01\", \"2019-01-01\", \"2019-10-01\", \"2019-11-01\", \"2019-12-01\", \"2019-07-01\", \"2019-03-01\", \"2019-05-01\", \"2019-06-01\", \"2019-04-01\", \"2019-01-01\", \"2020-05-01\", \"2020-04-01\", \"2020-03-01\", \"2019-08-01\", \"2019-05-01\", \"2019-10-01\", \"2019-06-01\", \"2019-07-01\", \"2019-09-01\", \"2020-02-01\", \"2019-12-01\", \"2019-11-01\", \"2019-02-01\", \"2019-03-01\", \"2019-04-01\", \"2020-01-01\", \"2020-04-01\", \"2020-05-01\", \"2020-01-01\", \"2019-11-01\", \"2020-03-01\", \"2020-02-01\", \"2019-05-01\", \"2019-10-01\", \"2019-04-01\", \"2019-06-01\", \"2019-01-01\", \"2019-12-01\", \"2019-03-01\", \"2019-02-01\", \"2019-08-01\", \"2019-09-01\", \"2019-07-01\", \"2019-10-01\", \"2020-02-01\", \"2020-04-01\", \"2019-11-01\", \"2020-03-01\", \"2020-02-01\", \"2020-03-01\", \"2019-10-01\", \"2019-05-01\", \"2020-05-01\", \"2019-04-01\", \"2019-11-01\", \"2019-12-01\", \"2020-01-01\", \"2019-08-01\", \"2019-09-01\", \"2019-06-01\", \"2019-07-01\", \"2019-05-01\", \"2019-01-01\", \"2019-08-01\", \"2019-04-01\", \"2019-03-01\", \"2019-06-01\", \"2020-04-01\", \"2020-05-01\", \"2019-07-01\", \"2019-02-01\", \"2019-10-01\", \"2020-03-01\", \"2019-12-01\", \"2019-11-01\", \"2019-09-01\", \"2020-01-01\", \"2020-02-01\", \"2020-04-01\", \"2019-01-01\", \"2019-08-01\", \"2019-02-01\", \"2019-03-01\", \"2020-03-01\", \"2020-05-01\", \"2019-10-01\", \"2019-12-01\", \"2019-04-01\", \"2019-05-01\", \"2019-09-01\", \"2020-02-01\", \"2020-01-01\", \"2019-06-01\", \"2019-07-01\", \"2019-11-01\", \"2019-12-01\", \"2020-01-01\", \"2019-11-01\", \"2020-02-01\", \"2019-10-01\", \"2020-03-01\", \"2019-07-01\", \"2019-05-01\", \"2019-08-01\", \"2019-09-01\", \"2019-04-01\", \"2019-05-01\", \"2019-06-01\", \"2019-08-01\", \"2020-03-01\", \"2019-09-01\", \"2019-07-01\", \"2020-05-01\", \"2019-10-01\", \"2020-02-01\", \"2019-12-01\", \"2019-11-01\", \"2020-01-01\", \"2020-04-01\", \"2019-03-01\", \"2019-01-01\", \"2019-10-01\", \"2019-11-01\", \"2020-01-01\", \"2019-04-01\", \"2019-05-01\", \"2019-06-01\", \"2019-08-01\", \"2019-09-01\", \"2019-02-01\", \"2019-12-01\", \"2020-02-01\", \"2020-03-01\", \"2020-04-01\", \"2020-02-01\", \"2019-11-01\", \"2020-05-01\", \"2019-12-01\", \"2020-01-01\", \"2019-04-01\", \"2019-09-01\", \"2019-10-01\", \"2019-08-01\", \"2019-02-01\", \"2019-04-01\", \"2020-05-01\", \"2019-03-01\", \"2020-04-01\", \"2020-03-01\", \"2019-01-01\", \"2019-05-01\", \"2019-10-01\", \"2019-08-01\", \"2019-02-01\", \"2019-11-01\", \"2019-12-01\", \"2020-01-01\", \"2019-09-01\", \"2019-06-01\", \"2020-02-01\", \"2019-01-01\", \"2019-02-01\", \"2019-05-01\", \"2019-04-01\", \"2019-07-01\", \"2019-08-01\", \"2019-03-01\", \"2019-06-01\", \"2019-10-01\", \"2019-09-01\", \"2020-01-01\", \"2019-11-01\", \"2019-12-01\", \"2020-02-01\", \"2020-05-01\", \"2020-04-01\", \"2020-03-01\", \"2020-01-01\", \"2020-02-01\", \"2019-12-01\", \"2019-08-01\", \"2019-06-01\", \"2019-07-01\", \"2019-11-01\", \"2019-05-01\", \"2019-01-01\", \"2019-04-01\", \"2019-01-01\", \"2019-03-01\", \"2019-06-01\", \"2020-01-01\", \"2019-02-01\", \"2019-05-01\", \"2019-12-01\", \"2019-10-01\", \"2019-04-01\", \"2019-07-01\", \"2020-02-01\", \"2019-08-01\", \"2019-11-01\", \"2019-09-01\", \"2020-03-01\", \"2020-05-01\", \"2020-04-01\", \"2020-03-01\", \"2020-02-01\", \"2019-10-01\", \"2019-09-01\", \"2019-11-01\", \"2019-12-01\", \"2020-01-01\", \"2020-02-01\", \"2019-11-01\", \"2020-03-01\", \"2020-01-01\", \"2019-12-01\", \"2019-03-01\", \"2020-02-01\", \"2020-03-01\", \"2019-11-01\", \"2020-01-01\", \"2020-04-01\", \"2019-02-01\", \"2019-12-01\", \"2019-04-01\", \"2019-05-01\", \"2019-10-01\", \"2019-09-01\", \"2019-07-01\", \"2019-08-01\", \"2019-11-01\", \"2019-04-01\", \"2019-12-01\", \"2020-05-01\", \"2020-04-01\", \"2019-08-01\", \"2020-03-01\", \"2020-01-01\", \"2020-02-01\", \"2019-03-01\", \"2019-01-01\", \"2019-05-01\", \"2019-07-01\", \"2019-09-01\", \"2019-06-01\", \"2019-10-01\", \"2019-02-01\", \"2019-05-01\", \"2019-03-01\", \"2019-08-01\", \"2020-05-01\", \"2019-02-01\", \"2020-04-01\", \"2020-02-01\", \"2019-07-01\", \"2019-09-01\", \"2019-04-01\", \"2020-03-01\", \"2019-10-01\", \"2020-01-01\", \"2019-06-01\", \"2019-01-01\", \"2019-11-01\", \"2020-04-01\", \"2019-03-01\", \"2019-04-01\", \"2020-03-01\", \"2020-01-01\", \"2019-01-01\", \"2020-02-01\", \"2020-05-01\", \"2019-08-01\", \"2019-02-01\", \"2019-05-01\", \"2019-10-01\", \"2019-12-01\", \"2019-09-01\", \"2019-11-01\", \"2019-06-01\", \"2019-07-01\", \"2020-04-01\", \"2020-05-01\", \"2019-12-01\", \"2019-08-01\", \"2019-11-01\", \"2020-01-01\", \"2020-03-01\", \"2020-02-01\", \"2019-06-01\", \"2019-07-01\", \"2019-09-01\", \"2019-10-01\", \"2019-01-01\", \"2019-05-01\", \"2019-02-01\", \"2019-03-01\", \"2019-04-01\", \"2019-09-01\", \"2019-01-01\", \"2019-02-01\", \"2019-03-01\", \"2020-01-01\", \"2020-05-01\", \"2019-04-01\", \"2019-08-01\", \"2019-12-01\", \"2019-06-01\", \"2019-05-01\", \"2020-02-01\", \"2019-11-01\", \"2019-10-01\", \"2020-03-01\", \"2019-07-01\", \"2020-03-01\", \"2020-04-01\", \"2020-02-01\", \"2019-10-01\", \"2020-05-01\", \"2019-09-01\", \"2019-12-01\", \"2019-03-01\", \"2019-11-01\", \"2020-01-01\", \"2019-08-01\", \"2019-05-01\", \"2019-04-01\", \"2019-07-01\", \"2019-01-01\", \"2019-06-01\", \"2019-02-01\"], \"x0\": \" \", \"xaxis\": \"x\", \"y\": [51991.59, 65543.89, 53762.42, 53793.14, 69126.18, 84154.99, 79107.66, 47713.7, 53487.11, 81827.18, 50275.57, 97509.19, 46421.85, 81206.79, 48352.42, 43448.75, 60639.55, 21099.21, 14073.08, 12806.56, 13319.79, 18805.73, 13169.89, 14902.13, 14228.52, 10334.6, 10818.66, 12227.13, 12445.88, 9455.65, 9007.0, 12745.29, 13283.58, 52761.41, 39907.08, 24048.28, 43299.83, 38229.51, 48630.41, 68035.23, 33010.29, 45216.03, 22706.0, 38908.94, 24567.14, 21433.76, 18823.33, 23913.96, 47680.95, 52379.79, 25777.12, 42267.49, 68756.18, 50177.83, 48723.91, 46279.09, 42711.26, 42541.39, 37945.06, 39942.74, 41680.53, 48701.05, 48584.7, 47518.02, 40930.85, 77072.43, 70417.45, 66488.28, 72256.96, 62167.87, 51403.55, 42941.62, 76469.56, 46092.83, 79189.4, 55301.15, 61763.41, 54856.56, 45052.09, 47086.8, 49938.42, 74101.78, 86355.57, 55752.85, 97436.21, 53616.78, 61637.82, 56059.59, 59009.63, 64033.63, 69703.63, 60860.12, 67993.26, 47602.33, 64136.39, 63480.55, 56284.41, 29546.97, 23893.42, 20355.13, 17775.48, 16637.53, 24587.01, 17076.77, 19711.44, 21138.62, 26014.23, 15519.56, 20130.81, 20859.25, 26657.39, 28563.78, 18325.87, 12606.39, 23428.86, 14147.04, 20007.2, 16134.26, 13798.2, 14387.22, 15139.03, 14679.95, 15924.34, 13880.83, 14674.46, 13533.51, 42541.85, 25754.59, 44187.96, 24941.46, 26563.21, 31608.58, 32686.37, 26098.96, 47278.15, 27581.2, 28240.11, 41658.06, 28773.97, 24567.28, 26882.64, 24177.98, 26377.94, 27871.72, 26971.39, 47288.64, 43445.73, 35281.12, 35290.77, 27780.84, 31564.06, 27757.21, 46267.56, 31846.07, 34469.8, 34032.19, 34400.57, 15839.53, 59556.6, 62522.37, 63589.81, 58521.71, 56558.96, 45207.07, 53111.38, 58132.98, 52643.28, 57477.67, 52980.58, 58817.86, 61640.31, 51424.74, 84513.35, 57052.17, 52881.75, 57776.71, 47571.02, 38868.71, 35575.0, 32741.56, 26837.56, 30630.17, 18474.1, 22146.95, 24832.06, 22481.13, 25659.77, 17381.65, 12890.62, 17426.71, 13045.1, 11313.33, 133265.24, 122537.36, 149430.18, 113652.56, 92749.93, 96595.63, 100899.23, 90658.0, 106524.05, 65567.7, 92850.01, 82039.17, 67315.29, 125677.51, 67497.57, 54433.8, 85671.89, 23802.84, 19195.48, 19335.71, 16423.18, 18950.28, 17991.7, 15715.78, 19693.33, 13449.2, 13497.27, 12485.49, 17427.85, 16284.1, 18341.26, 11766.99, 13807.64, 14054.99, 6227.52, 3967.05, 3807.37, 2729.53, 3398.19, 10369.24, 6866.3, 13728.11, 1796.44, 7275.55, 2310.75, 7994.1, 8962.34, 2539.99, 928.14, 1612.03, 1596.86, 1986.56, 54636.18, 86851.49, 41578.52, 43445.18, 48042.08, 53711.3, 45080.63, 67218.32, 49568.11, 59803.84, 51255.83, 41688.53, 32492.82, 28939.0, 25719.23, 44249.84, 34626.78, 86756.49, 86191.6, 50450.17, 84391.7, 69553.59, 50087.86, 58745.97, 46946.44, 49680.55, 52413.19, 58881.02, 39235.3, 39514.7, 38266.46, 47725.65, 49161.85, 32263.35, 49806.61, 42406.39, 38354.28, 42221.53, 39317.81, 61831.92, 29471.94, 26243.75, 29232.54, 31018.99, 31467.63, 53486.31, 47735.26, 33205.63, 47854.03, 38751.11, 25408.31, 42005.07, 30783.95, 29980.74, 31048.76, 22739.15, 30258.34, 19938.05, 16512.48, 13624.68, 19298.09, 14787.13, 8734.16, 9523.26, 9358.57, 10724.35, 12481.27, 10859.92, 11800.58, 11828.34, 12486.52, 1946.14, 1751.54, 1746.53, 3952.1, 1501.99, 2949.1, 2814.37, 2639.82, 3388.23, 1581.84, 1117.77, 2130.89, 6723.55, 4421.5, 5356.33, 5465.35, 5355.63, 6774.25, 5839.82, 8774.72, 6839.72, 9370.59, 6633.67, 7098.16, 6718.48, 8170.49, 5296.71, 4547.15, 21733.5, 20611.58, 20800.85, 20511.46, 32926.16, 33614.73, 18264.87, 20600.7, 22731.24, 24981.31, 23659.17, 19502.06, 24732.27, 23728.88, 379.44, 419.35, 264.57, 334.62, 224.66, 629.55, 289.67, 694.25, 269.69, 469.71, 184.75, 5087.71, 774.49, 23779.84, 25051.79, 22002.47, 19167.94, 33316.11, 22431.61, 19716.74, 18933.3, 20600.37, 19626.9, 16583.0, 18409.39, 16523.23, 21448.48, 14861.29, 0.0, 64.9, 109.84, 89.85, 109.83, 74.87, 94.85, 79.87, 74.88, 29.95, 59.9, 34.94, 79.86, 59.9, 17730.51, 20604.56, 19102.62, 12730.3, 15055.73, 9032.36, 14881.91, 11053.5, 11982.03, 12296.1, 13927.84, 12221.01, 12241.24, 9596.31, 2599.91, 3523.18, 3018.97, 6397.61, 10491.02, 2709.7, 4795.54, 3483.13, 3563.05, 3343.48, 3587.99, 2994.69, 2969.26, 3203.81, 2465.25, 2739.54, 6851.53, 27296.6, 45535.0, 22590.34, 19047.6, 42262.36, 14416.67, 17415.62, 25504.6, 11477.24, 23463.67, 16562.57, 20609.46, 16696.89, 14735.96, 22091.64, 11028.28, 146092.02, 63122.31, 54414.23, 66392.13, 52065.73, 72184.58, 59391.01, 87398.12, 42883.27, 63754.25, 43255.15, 39100.8, 41336.59, 35777.31, 32039.37, 30094.17, 43273.01, 72896.86, 73100.89, 59044.4, 43041.44, 50735.82, 49837.64, 53939.04, 58559.49, 38515.46, 47302.66, 64702.74, 53465.54, 40017.8, 34518.74, 42329.17, 33600.27, 31643.66, 26110.83, 25537.21, 38027.35, 26958.5, 22142.26, 22099.54, 24221.38, 10047.4, 21296.75, 24809.98, 25879.76, 20269.91, 21562.32, 25263.69, 19805.24, 23127.09, 6009.1, 8660.23, 10162.98, 12959.26, 7291.44, 13063.31, 12109.88, 13534.95, 7946.2, 9314.22, 7163.75, 12975.57, 12251.66, 11781.88, 11772.36, 12442.28, 18632.5], \"y0\": \" \", \"yaxis\": \"y\"}],\n",
       "                        {\"legend\": {\"tracegroupgap\": 0}, \"margin\": {\"t\": 60}, \"template\": {\"data\": {\"bar\": [{\"error_x\": {\"color\": \"#2a3f5f\"}, \"error_y\": {\"color\": \"#2a3f5f\"}, \"marker\": {\"line\": {\"color\": \"#E5ECF6\", \"width\": 0.5}}, \"type\": \"bar\"}], \"barpolar\": [{\"marker\": {\"line\": {\"color\": \"#E5ECF6\", \"width\": 0.5}}, \"type\": \"barpolar\"}], \"carpet\": [{\"aaxis\": {\"endlinecolor\": \"#2a3f5f\", \"gridcolor\": \"white\", \"linecolor\": \"white\", \"minorgridcolor\": \"white\", \"startlinecolor\": \"#2a3f5f\"}, \"baxis\": {\"endlinecolor\": \"#2a3f5f\", \"gridcolor\": \"white\", \"linecolor\": \"white\", \"minorgridcolor\": \"white\", \"startlinecolor\": \"#2a3f5f\"}, \"type\": \"carpet\"}], \"choropleth\": [{\"colorbar\": {\"outlinewidth\": 0, \"ticks\": \"\"}, \"type\": \"choropleth\"}], \"contour\": [{\"colorbar\": {\"outlinewidth\": 0, \"ticks\": \"\"}, \"colorscale\": [[0.0, \"#0d0887\"], [0.1111111111111111, \"#46039f\"], [0.2222222222222222, \"#7201a8\"], [0.3333333333333333, \"#9c179e\"], [0.4444444444444444, \"#bd3786\"], [0.5555555555555556, \"#d8576b\"], [0.6666666666666666, \"#ed7953\"], [0.7777777777777778, \"#fb9f3a\"], [0.8888888888888888, \"#fdca26\"], [1.0, \"#f0f921\"]], \"type\": \"contour\"}], \"contourcarpet\": [{\"colorbar\": {\"outlinewidth\": 0, \"ticks\": \"\"}, \"type\": \"contourcarpet\"}], \"heatmap\": [{\"colorbar\": {\"outlinewidth\": 0, \"ticks\": \"\"}, \"colorscale\": [[0.0, \"#0d0887\"], [0.1111111111111111, \"#46039f\"], [0.2222222222222222, \"#7201a8\"], [0.3333333333333333, \"#9c179e\"], [0.4444444444444444, \"#bd3786\"], [0.5555555555555556, \"#d8576b\"], [0.6666666666666666, \"#ed7953\"], [0.7777777777777778, \"#fb9f3a\"], [0.8888888888888888, \"#fdca26\"], [1.0, \"#f0f921\"]], \"type\": \"heatmap\"}], \"heatmapgl\": [{\"colorbar\": {\"outlinewidth\": 0, \"ticks\": \"\"}, \"colorscale\": [[0.0, \"#0d0887\"], [0.1111111111111111, \"#46039f\"], [0.2222222222222222, \"#7201a8\"], [0.3333333333333333, \"#9c179e\"], [0.4444444444444444, \"#bd3786\"], [0.5555555555555556, \"#d8576b\"], [0.6666666666666666, \"#ed7953\"], [0.7777777777777778, \"#fb9f3a\"], [0.8888888888888888, \"#fdca26\"], [1.0, \"#f0f921\"]], \"type\": \"heatmapgl\"}], \"histogram\": [{\"marker\": {\"colorbar\": {\"outlinewidth\": 0, \"ticks\": \"\"}}, \"type\": \"histogram\"}], \"histogram2d\": [{\"colorbar\": {\"outlinewidth\": 0, \"ticks\": \"\"}, \"colorscale\": [[0.0, \"#0d0887\"], [0.1111111111111111, \"#46039f\"], [0.2222222222222222, \"#7201a8\"], [0.3333333333333333, \"#9c179e\"], [0.4444444444444444, \"#bd3786\"], [0.5555555555555556, \"#d8576b\"], [0.6666666666666666, \"#ed7953\"], [0.7777777777777778, \"#fb9f3a\"], [0.8888888888888888, \"#fdca26\"], [1.0, \"#f0f921\"]], \"type\": \"histogram2d\"}], \"histogram2dcontour\": [{\"colorbar\": {\"outlinewidth\": 0, \"ticks\": \"\"}, \"colorscale\": [[0.0, \"#0d0887\"], [0.1111111111111111, \"#46039f\"], [0.2222222222222222, \"#7201a8\"], [0.3333333333333333, \"#9c179e\"], [0.4444444444444444, \"#bd3786\"], [0.5555555555555556, \"#d8576b\"], [0.6666666666666666, \"#ed7953\"], [0.7777777777777778, \"#fb9f3a\"], [0.8888888888888888, \"#fdca26\"], [1.0, \"#f0f921\"]], \"type\": \"histogram2dcontour\"}], \"mesh3d\": [{\"colorbar\": {\"outlinewidth\": 0, \"ticks\": \"\"}, \"type\": \"mesh3d\"}], \"parcoords\": [{\"line\": {\"colorbar\": {\"outlinewidth\": 0, \"ticks\": \"\"}}, \"type\": \"parcoords\"}], \"pie\": [{\"automargin\": true, \"type\": \"pie\"}], \"scatter\": [{\"marker\": {\"colorbar\": {\"outlinewidth\": 0, \"ticks\": \"\"}}, \"type\": \"scatter\"}], \"scatter3d\": [{\"line\": {\"colorbar\": {\"outlinewidth\": 0, \"ticks\": \"\"}}, \"marker\": {\"colorbar\": {\"outlinewidth\": 0, \"ticks\": \"\"}}, \"type\": \"scatter3d\"}], \"scattercarpet\": [{\"marker\": {\"colorbar\": {\"outlinewidth\": 0, \"ticks\": \"\"}}, \"type\": \"scattercarpet\"}], \"scattergeo\": [{\"marker\": {\"colorbar\": {\"outlinewidth\": 0, \"ticks\": \"\"}}, \"type\": \"scattergeo\"}], \"scattergl\": [{\"marker\": {\"colorbar\": {\"outlinewidth\": 0, \"ticks\": \"\"}}, \"type\": \"scattergl\"}], \"scattermapbox\": [{\"marker\": {\"colorbar\": {\"outlinewidth\": 0, \"ticks\": \"\"}}, \"type\": \"scattermapbox\"}], \"scatterpolar\": [{\"marker\": {\"colorbar\": {\"outlinewidth\": 0, \"ticks\": \"\"}}, \"type\": \"scatterpolar\"}], \"scatterpolargl\": [{\"marker\": {\"colorbar\": {\"outlinewidth\": 0, \"ticks\": \"\"}}, \"type\": \"scatterpolargl\"}], \"scatterternary\": [{\"marker\": {\"colorbar\": {\"outlinewidth\": 0, \"ticks\": \"\"}}, \"type\": \"scatterternary\"}], \"surface\": [{\"colorbar\": {\"outlinewidth\": 0, \"ticks\": \"\"}, \"colorscale\": [[0.0, \"#0d0887\"], [0.1111111111111111, \"#46039f\"], [0.2222222222222222, \"#7201a8\"], [0.3333333333333333, \"#9c179e\"], [0.4444444444444444, \"#bd3786\"], [0.5555555555555556, \"#d8576b\"], [0.6666666666666666, \"#ed7953\"], [0.7777777777777778, \"#fb9f3a\"], [0.8888888888888888, \"#fdca26\"], [1.0, \"#f0f921\"]], \"type\": \"surface\"}], \"table\": [{\"cells\": {\"fill\": {\"color\": \"#EBF0F8\"}, \"line\": {\"color\": \"white\"}}, \"header\": {\"fill\": {\"color\": \"#C8D4E3\"}, \"line\": {\"color\": \"white\"}}, \"type\": \"table\"}]}, \"layout\": {\"annotationdefaults\": {\"arrowcolor\": \"#2a3f5f\", \"arrowhead\": 0, \"arrowwidth\": 1}, \"coloraxis\": {\"colorbar\": {\"outlinewidth\": 0, \"ticks\": \"\"}}, \"colorscale\": {\"diverging\": [[0, \"#8e0152\"], [0.1, \"#c51b7d\"], [0.2, \"#de77ae\"], [0.3, \"#f1b6da\"], [0.4, \"#fde0ef\"], [0.5, \"#f7f7f7\"], [0.6, \"#e6f5d0\"], [0.7, \"#b8e186\"], [0.8, \"#7fbc41\"], [0.9, \"#4d9221\"], [1, \"#276419\"]], \"sequential\": [[0.0, \"#0d0887\"], [0.1111111111111111, \"#46039f\"], [0.2222222222222222, \"#7201a8\"], [0.3333333333333333, \"#9c179e\"], [0.4444444444444444, \"#bd3786\"], [0.5555555555555556, \"#d8576b\"], [0.6666666666666666, \"#ed7953\"], [0.7777777777777778, \"#fb9f3a\"], [0.8888888888888888, \"#fdca26\"], [1.0, \"#f0f921\"]], \"sequentialminus\": [[0.0, \"#0d0887\"], [0.1111111111111111, \"#46039f\"], [0.2222222222222222, \"#7201a8\"], [0.3333333333333333, \"#9c179e\"], [0.4444444444444444, \"#bd3786\"], [0.5555555555555556, \"#d8576b\"], [0.6666666666666666, \"#ed7953\"], [0.7777777777777778, \"#fb9f3a\"], [0.8888888888888888, \"#fdca26\"], [1.0, \"#f0f921\"]]}, \"colorway\": [\"#636efa\", \"#EF553B\", \"#00cc96\", \"#ab63fa\", \"#FFA15A\", \"#19d3f3\", \"#FF6692\", \"#B6E880\", \"#FF97FF\", \"#FECB52\"], \"font\": {\"color\": \"#2a3f5f\"}, \"geo\": {\"bgcolor\": \"white\", \"lakecolor\": \"white\", \"landcolor\": \"#E5ECF6\", \"showlakes\": true, \"showland\": true, \"subunitcolor\": \"white\"}, \"hoverlabel\": {\"align\": \"left\"}, \"hovermode\": \"closest\", \"mapbox\": {\"style\": \"light\"}, \"paper_bgcolor\": \"white\", \"plot_bgcolor\": \"#E5ECF6\", \"polar\": {\"angularaxis\": {\"gridcolor\": \"white\", \"linecolor\": \"white\", \"ticks\": \"\"}, \"bgcolor\": \"#E5ECF6\", \"radialaxis\": {\"gridcolor\": \"white\", \"linecolor\": \"white\", \"ticks\": \"\"}}, \"scene\": {\"xaxis\": {\"backgroundcolor\": \"#E5ECF6\", \"gridcolor\": \"white\", \"gridwidth\": 2, \"linecolor\": \"white\", \"showbackground\": true, \"ticks\": \"\", \"zerolinecolor\": \"white\"}, \"yaxis\": {\"backgroundcolor\": \"#E5ECF6\", \"gridcolor\": \"white\", \"gridwidth\": 2, \"linecolor\": \"white\", \"showbackground\": true, \"ticks\": \"\", \"zerolinecolor\": \"white\"}, \"zaxis\": {\"backgroundcolor\": \"#E5ECF6\", \"gridcolor\": \"white\", \"gridwidth\": 2, \"linecolor\": \"white\", \"showbackground\": true, \"ticks\": \"\", \"zerolinecolor\": \"white\"}}, \"shapedefaults\": {\"line\": {\"color\": \"#2a3f5f\"}}, \"ternary\": {\"aaxis\": {\"gridcolor\": \"white\", \"linecolor\": \"white\", \"ticks\": \"\"}, \"baxis\": {\"gridcolor\": \"white\", \"linecolor\": \"white\", \"ticks\": \"\"}, \"bgcolor\": \"#E5ECF6\", \"caxis\": {\"gridcolor\": \"white\", \"linecolor\": \"white\", \"ticks\": \"\"}}, \"title\": {\"x\": 0.05}, \"xaxis\": {\"automargin\": true, \"gridcolor\": \"white\", \"linecolor\": \"white\", \"ticks\": \"\", \"title\": {\"standoff\": 15}, \"zerolinecolor\": \"white\", \"zerolinewidth\": 2}, \"yaxis\": {\"automargin\": true, \"gridcolor\": \"white\", \"linecolor\": \"white\", \"ticks\": \"\", \"title\": {\"standoff\": 15}, \"zerolinecolor\": \"white\", \"zerolinewidth\": 2}}}, \"violinmode\": \"group\", \"xaxis\": {\"anchor\": \"y\", \"domain\": [0.0, 1.0], \"title\": {\"text\": \"Month\"}}, \"yaxis\": {\"anchor\": \"x\", \"domain\": [0.0, 1.0], \"title\": {\"text\": \"Total Income\"}}},\n",
       "                        {\"responsive\": true}\n",
       "                    ).then(function(){\n",
       "                            \n",
       "var gd = document.getElementById('28509a52-7f3a-4743-9acd-a928f32ff2d7');\n",
       "var x = new MutationObserver(function (mutations, observer) {{\n",
       "        var display = window.getComputedStyle(gd).display;\n",
       "        if (!display || display === 'none') {{\n",
       "            console.log([gd, 'removed!']);\n",
       "            Plotly.purge(gd);\n",
       "            observer.disconnect();\n",
       "        }}\n",
       "}});\n",
       "\n",
       "// Listen for the removal of the full notebook cells\n",
       "var notebookContainer = gd.closest('#notebook-container');\n",
       "if (notebookContainer) {{\n",
       "    x.observe(notebookContainer, {childList: true});\n",
       "}}\n",
       "\n",
       "// Listen for the clearing of the current output cell\n",
       "var outputEl = gd.closest('.output');\n",
       "if (outputEl) {{\n",
       "    x.observe(outputEl, {childList: true});\n",
       "}}\n",
       "\n",
       "                        })\n",
       "                };\n",
       "                });\n",
       "            </script>\n",
       "        </div>"
      ]
     },
     "metadata": {},
     "output_type": "display_data"
    }
   ],
   "source": [
    "fig = px.violin(finaldata, y=\"Total Income\", x=\"Month\")\n",
    "fig.show()"
   ]
  },
  {
   "cell_type": "code",
   "execution_count": 45,
   "metadata": {},
   "outputs": [
    {
     "data": {
      "application/vnd.plotly.v1+json": {
       "config": {
        "plotlyServerURL": "https://plot.ly"
       },
       "data": [
        {
         "hovertemplate": "Watch time=%{x}<br>Total Income=%{y}<extra></extra>",
         "legendgroup": "",
         "marker": {
          "color": "#636efa",
          "symbol": "circle"
         },
         "mode": "markers",
         "name": "",
         "orientation": "v",
         "showlegend": false,
         "type": "scatter",
         "x": [
          145006575,
          133999260,
          124495740,
          113289465,
          110374845,
          110024835,
          107821695,
          94542885,
          92309565,
          91062705,
          89969790,
          84227100,
          83240160,
          75818505,
          74971200,
          70642200,
          69859410,
          108315105,
          102577890,
          89704980,
          85381005,
          84726285,
          84077625,
          83947785,
          83532915,
          83020275,
          79486830,
          71649045,
          67102665,
          66661410,
          66564900,
          66454140,
          61846005,
          280674015,
          236417010,
          189821280,
          179980155,
          166100535,
          154052460,
          153334170,
          148841655,
          148189785,
          145481475,
          136306785,
          121657395,
          110842350,
          90656850,
          88935645,
          196565940,
          195678480,
          190122915,
          161218770,
          156883260,
          155416680,
          155350575,
          153700830,
          151968210,
          144281400,
          134423910,
          130645995,
          123498735,
          119466780,
          113005515,
          112953915,
          102629295,
          274248495,
          273937875,
          263659740,
          243034155,
          184636590,
          180780540,
          151349415,
          139570035,
          138059265,
          137535630,
          130598205,
          125953770,
          124951815,
          118968315,
          100335645,
          94057590,
          204543480,
          157366815,
          146145465,
          129982770,
          124071660,
          118042380,
          109980045,
          109279275,
          106809285,
          106463295,
          95553630,
          94688865,
          78893190,
          78009255,
          74506500,
          69185295,
          127762080,
          117007155,
          89731110,
          82740435,
          73779840,
          69399105,
          68831505,
          68827710,
          66842910,
          65610045,
          64596675,
          61728675,
          60151785,
          321490245,
          247923810,
          225809910,
          188826360,
          172863570,
          156992730,
          150135105,
          149138730,
          140496870,
          133317120,
          125547975,
          120466425,
          100160250,
          99872160,
          92620035,
          89831610,
          340998165,
          332332365,
          308013390,
          288456915,
          269536740,
          263881320,
          218552790,
          207804675,
          192959520,
          191727885,
          191243280,
          185357430,
          178489185,
          170000370,
          160169250,
          129838995,
          124136235,
          237721770,
          222393480,
          194129865,
          185712975,
          174434190,
          173617050,
          165746700,
          160172250,
          159711840,
          158891910,
          158782350,
          157235700,
          150979380,
          149440800,
          82620255,
          208540320,
          207442170,
          150943455,
          148256550,
          148059870,
          142659315,
          138793500,
          132408120,
          131957685,
          128144445,
          126382515,
          125544945,
          113692470,
          111030420,
          109799835,
          99557490,
          92878140,
          389416875,
          273126870,
          255327150,
          223667985,
          215187810,
          168405615,
          163964400,
          144140625,
          140338875,
          130395615,
          122927505,
          114800730,
          98281680,
          87470100,
          84402765,
          67959150,
          67466175,
          424745010,
          389764710,
          387981570,
          307174995,
          243791115,
          232499085,
          217618095,
          211324755,
          193171875,
          178189515,
          169406235,
          162933450,
          161421615,
          144773850,
          122984775,
          118686600,
          114918735,
          133234230,
          132416715,
          126158805,
          110220300,
          103133295,
          102392685,
          94288380,
          86840100,
          85805625,
          85069755,
          81492885,
          80421405,
          74159970,
          72499560,
          71119935,
          62832840,
          60629970,
          294796095,
          167974845,
          130344690,
          121444950,
          92299620,
          241179120,
          199644420,
          112614465,
          110754750,
          109412535,
          107208315,
          104339145,
          85924650,
          84996375,
          82297920,
          75230325,
          67614960,
          64647615,
          659740680,
          645644160,
          621455460,
          589972575,
          552738810,
          549289740,
          495077940,
          472767585,
          455800275,
          390531465,
          356555520,
          294133245,
          272307855,
          235637430,
          232119285,
          202483425,
          127627995,
          520369185,
          263216295,
          255380475,
          247773000,
          235896495,
          223868340,
          216434940,
          210233280,
          207474045,
          199519125,
          193358460,
          156499170,
          135271545,
          132338940,
          131319990,
          129948585,
          101585100,
          118518315,
          117765270,
          94399140,
          92568360,
          86055750,
          82927965,
          70327350,
          69855270,
          66729990,
          60312030,
          187759920,
          177461805,
          142976070,
          137348490,
          124300995,
          105006990,
          103922475,
          101972625,
          83441580,
          77283555,
          75953970,
          74074005,
          72916290,
          508541445,
          254688480,
          143440635,
          109487565,
          103899840,
          89197785,
          88172715,
          79104030,
          76136745,
          75138885,
          65916075,
          64345095,
          62340690,
          61075320,
          190546815,
          170229990,
          145355940,
          144867105,
          132582540,
          125714880,
          122347035,
          119216520,
          106673175,
          93742005,
          75086670,
          66620055,
          252932955,
          229029885,
          204800805,
          202799250,
          178934700,
          166584135,
          155627115,
          154173930,
          150331230,
          149739390,
          149584995,
          140844525,
          132243750,
          114754560,
          89844450,
          89155335,
          244035255,
          195275925,
          182640690,
          181133685,
          176277600,
          175044690,
          170911845,
          165045660,
          126140895,
          109642935,
          92501580,
          88741830,
          87920505,
          82883895,
          130013205,
          117658305,
          111686430,
          110323065,
          98650380,
          96170670,
          89140845,
          85557345,
          81901545,
          79226640,
          77332860,
          76658820,
          65317815,
          186306855,
          180239730,
          158746755,
          146232225,
          123491610,
          117049005,
          107722440,
          104524620,
          103200525,
          100846785,
          87842730,
          86987430,
          81042870,
          77671320,
          70395570,
          971550315,
          710466975,
          428531295,
          314358195,
          302249550,
          281611650,
          221486475,
          190329780,
          135648060,
          117196470,
          110434920,
          105459615,
          100385025,
          79255935,
          514793865,
          418673145,
          387255465,
          293840280,
          253073370,
          224077080,
          224015310,
          202795110,
          191422080,
          161850135,
          138376200,
          125202975,
          86684940,
          76541955,
          185013390,
          161403615,
          150333195,
          144334260,
          141849210,
          129831240,
          122851995,
          115300050,
          105443775,
          102440715,
          101850330,
          89507205,
          87289800,
          86315790,
          81631785,
          77684775,
          76754220,
          477454965,
          417823185,
          323620320,
          304700670,
          232350135,
          220421640,
          209091810,
          203297595,
          202341555,
          202305870,
          195746865,
          133008060,
          132509250,
          130250940,
          109555845,
          91376670,
          2127995415,
          675198495,
          613747260,
          584266620,
          555861780,
          520320210,
          509410680,
          469784100,
          341521440,
          289014570,
          280525845,
          253918305,
          211285815,
          199512690,
          179125485,
          165864495,
          148926285,
          1191810900,
          556505595,
          480161175,
          402870480,
          390475215,
          378099495,
          372638535,
          357075855,
          326668860,
          325675290,
          320708910,
          295050420,
          276121665,
          246338805,
          227970645,
          215055360,
          197683005,
          145569165,
          134981640,
          119506770,
          119010810,
          117471750,
          116934525,
          114997590,
          113865045,
          113739735,
          110687385,
          106017120,
          104672925,
          94021050,
          91160910,
          89884410,
          68638035,
          212964075,
          190536930,
          186109380,
          184990545,
          177382350,
          175455915,
          174887430,
          174618270,
          171616275,
          168360420,
          167103915,
          157870935,
          154179660,
          152302995,
          145090125,
          133095540,
          117304665
         ],
         "xaxis": "x",
         "y": [
          51991.59,
          65543.89,
          53762.42,
          53793.14,
          69126.18,
          84154.99,
          79107.66,
          47713.7,
          53487.11,
          81827.18,
          50275.57,
          97509.19,
          46421.85,
          81206.79,
          48352.42,
          43448.75,
          60639.55,
          21099.21,
          14073.08,
          12806.56,
          13319.79,
          18805.73,
          13169.89,
          14902.13,
          14228.52,
          10334.6,
          10818.66,
          12227.13,
          12445.88,
          9455.65,
          9007,
          12745.29,
          13283.58,
          52761.41,
          39907.08,
          24048.28,
          43299.83,
          38229.51,
          48630.41,
          68035.23,
          33010.29,
          45216.03,
          22706,
          38908.94,
          24567.14,
          21433.76,
          18823.33,
          23913.96,
          47680.95,
          52379.79,
          25777.12,
          42267.49,
          68756.18,
          50177.83,
          48723.91,
          46279.09,
          42711.26,
          42541.39,
          37945.06,
          39942.74,
          41680.53,
          48701.05,
          48584.7,
          47518.02,
          40930.85,
          77072.43,
          70417.45,
          66488.28,
          72256.96,
          62167.87,
          51403.55,
          42941.62,
          76469.56,
          46092.83,
          79189.4,
          55301.15,
          61763.41,
          54856.56,
          45052.09,
          47086.8,
          49938.42,
          74101.78,
          86355.57,
          55752.85,
          97436.21,
          53616.78,
          61637.82,
          56059.59,
          59009.63,
          64033.63,
          69703.63,
          60860.12,
          67993.26,
          47602.33,
          64136.39,
          63480.55,
          56284.41,
          29546.97,
          23893.42,
          20355.13,
          17775.48,
          16637.53,
          24587.01,
          17076.77,
          19711.44,
          21138.62,
          26014.23,
          15519.56,
          20130.81,
          20859.25,
          26657.39,
          28563.78,
          18325.87,
          12606.39,
          23428.86,
          14147.04,
          20007.2,
          16134.26,
          13798.2,
          14387.22,
          15139.03,
          14679.95,
          15924.34,
          13880.83,
          14674.46,
          13533.51,
          42541.85,
          25754.59,
          44187.96,
          24941.46,
          26563.21,
          31608.58,
          32686.37,
          26098.96,
          47278.15,
          27581.2,
          28240.11,
          41658.06,
          28773.97,
          24567.28,
          26882.64,
          24177.98,
          26377.94,
          27871.72,
          26971.39,
          47288.64,
          43445.73,
          35281.12,
          35290.77,
          27780.84,
          31564.06,
          27757.21,
          46267.56,
          31846.07,
          34469.8,
          34032.19,
          34400.57,
          15839.53,
          59556.6,
          62522.37,
          63589.81,
          58521.71,
          56558.96,
          45207.07,
          53111.38,
          58132.98,
          52643.28,
          57477.67,
          52980.58,
          58817.86,
          61640.31,
          51424.74,
          84513.35,
          57052.17,
          52881.75,
          57776.71,
          47571.02,
          38868.71,
          35575,
          32741.56,
          26837.56,
          30630.17,
          18474.1,
          22146.95,
          24832.06,
          22481.13,
          25659.77,
          17381.65,
          12890.62,
          17426.71,
          13045.1,
          11313.33,
          133265.24,
          122537.36,
          149430.18,
          113652.56,
          92749.93,
          96595.63,
          100899.23,
          90658,
          106524.05,
          65567.7,
          92850.01,
          82039.17,
          67315.29,
          125677.51,
          67497.57,
          54433.8,
          85671.89,
          23802.84,
          19195.48,
          19335.71,
          16423.18,
          18950.28,
          17991.7,
          15715.78,
          19693.33,
          13449.2,
          13497.27,
          12485.49,
          17427.85,
          16284.1,
          18341.26,
          11766.99,
          13807.64,
          14054.99,
          6227.52,
          3967.05,
          3807.37,
          2729.53,
          3398.19,
          10369.24,
          6866.3,
          13728.11,
          1796.44,
          7275.55,
          2310.75,
          7994.1,
          8962.34,
          2539.99,
          928.14,
          1612.03,
          1596.86,
          1986.56,
          54636.18,
          86851.49,
          41578.52,
          43445.18,
          48042.08,
          53711.3,
          45080.63,
          67218.32,
          49568.11,
          59803.84,
          51255.83,
          41688.53,
          32492.82,
          28939,
          25719.23,
          44249.84,
          34626.78,
          86756.49,
          86191.6,
          50450.17,
          84391.7,
          69553.59,
          50087.86,
          58745.97,
          46946.44,
          49680.55,
          52413.19,
          58881.02,
          39235.3,
          39514.7,
          38266.46,
          47725.65,
          49161.85,
          32263.35,
          49806.61,
          42406.39,
          38354.28,
          42221.53,
          39317.81,
          61831.92,
          29471.94,
          26243.75,
          29232.54,
          31018.99,
          31467.63,
          53486.31,
          47735.26,
          33205.63,
          47854.03,
          38751.11,
          25408.31,
          42005.07,
          30783.95,
          29980.74,
          31048.76,
          22739.15,
          30258.34,
          19938.05,
          16512.48,
          13624.68,
          19298.09,
          14787.13,
          8734.16,
          9523.26,
          9358.57,
          10724.35,
          12481.27,
          10859.92,
          11800.58,
          11828.34,
          12486.52,
          1946.14,
          1751.54,
          1746.53,
          3952.1,
          1501.99,
          2949.1,
          2814.37,
          2639.82,
          3388.23,
          1581.84,
          1117.77,
          2130.89,
          6723.55,
          4421.5,
          5356.33,
          5465.35,
          5355.63,
          6774.25,
          5839.82,
          8774.72,
          6839.72,
          9370.59,
          6633.67,
          7098.16,
          6718.48,
          8170.49,
          5296.71,
          4547.15,
          21733.5,
          20611.58,
          20800.85,
          20511.46,
          32926.16,
          33614.73,
          18264.87,
          20600.7,
          22731.24,
          24981.31,
          23659.17,
          19502.06,
          24732.27,
          23728.88,
          379.44,
          419.35,
          264.57,
          334.62,
          224.66,
          629.55,
          289.67,
          694.25,
          269.69,
          469.71,
          184.75,
          5087.71,
          774.49,
          23779.84,
          25051.79,
          22002.47,
          19167.94,
          33316.11,
          22431.61,
          19716.74,
          18933.3,
          20600.37,
          19626.9,
          16583,
          18409.39,
          16523.23,
          21448.48,
          14861.29,
          0,
          64.9,
          109.84,
          89.85,
          109.83,
          74.87,
          94.85,
          79.87,
          74.88,
          29.95,
          59.9,
          34.94,
          79.86,
          59.9,
          17730.51,
          20604.56,
          19102.62,
          12730.3,
          15055.73,
          9032.36,
          14881.91,
          11053.5,
          11982.03,
          12296.1,
          13927.84,
          12221.01,
          12241.24,
          9596.31,
          2599.91,
          3523.18,
          3018.97,
          6397.61,
          10491.02,
          2709.7,
          4795.54,
          3483.13,
          3563.05,
          3343.48,
          3587.99,
          2994.69,
          2969.26,
          3203.81,
          2465.25,
          2739.54,
          6851.53,
          27296.6,
          45535,
          22590.34,
          19047.6,
          42262.36,
          14416.67,
          17415.62,
          25504.6,
          11477.24,
          23463.67,
          16562.57,
          20609.46,
          16696.89,
          14735.96,
          22091.64,
          11028.28,
          146092.02,
          63122.31,
          54414.23,
          66392.13,
          52065.73,
          72184.58,
          59391.01,
          87398.12,
          42883.27,
          63754.25,
          43255.15,
          39100.8,
          41336.59,
          35777.31,
          32039.37,
          30094.17,
          43273.01,
          72896.86,
          73100.89,
          59044.4,
          43041.44,
          50735.82,
          49837.64,
          53939.04,
          58559.49,
          38515.46,
          47302.66,
          64702.74,
          53465.54,
          40017.8,
          34518.74,
          42329.17,
          33600.27,
          31643.66,
          26110.83,
          25537.21,
          38027.35,
          26958.5,
          22142.26,
          22099.54,
          24221.38,
          10047.4,
          21296.75,
          24809.98,
          25879.76,
          20269.91,
          21562.32,
          25263.69,
          19805.24,
          23127.09,
          6009.1,
          8660.23,
          10162.98,
          12959.26,
          7291.44,
          13063.31,
          12109.88,
          13534.95,
          7946.2,
          9314.22,
          7163.75,
          12975.57,
          12251.66,
          11781.88,
          11772.36,
          12442.28,
          18632.5
         ],
         "yaxis": "y"
        }
       ],
       "layout": {
        "legend": {
         "tracegroupgap": 0
        },
        "template": {
         "data": {
          "bar": [
           {
            "error_x": {
             "color": "#2a3f5f"
            },
            "error_y": {
             "color": "#2a3f5f"
            },
            "marker": {
             "line": {
              "color": "#E5ECF6",
              "width": 0.5
             }
            },
            "type": "bar"
           }
          ],
          "barpolar": [
           {
            "marker": {
             "line": {
              "color": "#E5ECF6",
              "width": 0.5
             }
            },
            "type": "barpolar"
           }
          ],
          "carpet": [
           {
            "aaxis": {
             "endlinecolor": "#2a3f5f",
             "gridcolor": "white",
             "linecolor": "white",
             "minorgridcolor": "white",
             "startlinecolor": "#2a3f5f"
            },
            "baxis": {
             "endlinecolor": "#2a3f5f",
             "gridcolor": "white",
             "linecolor": "white",
             "minorgridcolor": "white",
             "startlinecolor": "#2a3f5f"
            },
            "type": "carpet"
           }
          ],
          "choropleth": [
           {
            "colorbar": {
             "outlinewidth": 0,
             "ticks": ""
            },
            "type": "choropleth"
           }
          ],
          "contour": [
           {
            "colorbar": {
             "outlinewidth": 0,
             "ticks": ""
            },
            "colorscale": [
             [
              0,
              "#0d0887"
             ],
             [
              0.1111111111111111,
              "#46039f"
             ],
             [
              0.2222222222222222,
              "#7201a8"
             ],
             [
              0.3333333333333333,
              "#9c179e"
             ],
             [
              0.4444444444444444,
              "#bd3786"
             ],
             [
              0.5555555555555556,
              "#d8576b"
             ],
             [
              0.6666666666666666,
              "#ed7953"
             ],
             [
              0.7777777777777778,
              "#fb9f3a"
             ],
             [
              0.8888888888888888,
              "#fdca26"
             ],
             [
              1,
              "#f0f921"
             ]
            ],
            "type": "contour"
           }
          ],
          "contourcarpet": [
           {
            "colorbar": {
             "outlinewidth": 0,
             "ticks": ""
            },
            "type": "contourcarpet"
           }
          ],
          "heatmap": [
           {
            "colorbar": {
             "outlinewidth": 0,
             "ticks": ""
            },
            "colorscale": [
             [
              0,
              "#0d0887"
             ],
             [
              0.1111111111111111,
              "#46039f"
             ],
             [
              0.2222222222222222,
              "#7201a8"
             ],
             [
              0.3333333333333333,
              "#9c179e"
             ],
             [
              0.4444444444444444,
              "#bd3786"
             ],
             [
              0.5555555555555556,
              "#d8576b"
             ],
             [
              0.6666666666666666,
              "#ed7953"
             ],
             [
              0.7777777777777778,
              "#fb9f3a"
             ],
             [
              0.8888888888888888,
              "#fdca26"
             ],
             [
              1,
              "#f0f921"
             ]
            ],
            "type": "heatmap"
           }
          ],
          "heatmapgl": [
           {
            "colorbar": {
             "outlinewidth": 0,
             "ticks": ""
            },
            "colorscale": [
             [
              0,
              "#0d0887"
             ],
             [
              0.1111111111111111,
              "#46039f"
             ],
             [
              0.2222222222222222,
              "#7201a8"
             ],
             [
              0.3333333333333333,
              "#9c179e"
             ],
             [
              0.4444444444444444,
              "#bd3786"
             ],
             [
              0.5555555555555556,
              "#d8576b"
             ],
             [
              0.6666666666666666,
              "#ed7953"
             ],
             [
              0.7777777777777778,
              "#fb9f3a"
             ],
             [
              0.8888888888888888,
              "#fdca26"
             ],
             [
              1,
              "#f0f921"
             ]
            ],
            "type": "heatmapgl"
           }
          ],
          "histogram": [
           {
            "marker": {
             "colorbar": {
              "outlinewidth": 0,
              "ticks": ""
             }
            },
            "type": "histogram"
           }
          ],
          "histogram2d": [
           {
            "colorbar": {
             "outlinewidth": 0,
             "ticks": ""
            },
            "colorscale": [
             [
              0,
              "#0d0887"
             ],
             [
              0.1111111111111111,
              "#46039f"
             ],
             [
              0.2222222222222222,
              "#7201a8"
             ],
             [
              0.3333333333333333,
              "#9c179e"
             ],
             [
              0.4444444444444444,
              "#bd3786"
             ],
             [
              0.5555555555555556,
              "#d8576b"
             ],
             [
              0.6666666666666666,
              "#ed7953"
             ],
             [
              0.7777777777777778,
              "#fb9f3a"
             ],
             [
              0.8888888888888888,
              "#fdca26"
             ],
             [
              1,
              "#f0f921"
             ]
            ],
            "type": "histogram2d"
           }
          ],
          "histogram2dcontour": [
           {
            "colorbar": {
             "outlinewidth": 0,
             "ticks": ""
            },
            "colorscale": [
             [
              0,
              "#0d0887"
             ],
             [
              0.1111111111111111,
              "#46039f"
             ],
             [
              0.2222222222222222,
              "#7201a8"
             ],
             [
              0.3333333333333333,
              "#9c179e"
             ],
             [
              0.4444444444444444,
              "#bd3786"
             ],
             [
              0.5555555555555556,
              "#d8576b"
             ],
             [
              0.6666666666666666,
              "#ed7953"
             ],
             [
              0.7777777777777778,
              "#fb9f3a"
             ],
             [
              0.8888888888888888,
              "#fdca26"
             ],
             [
              1,
              "#f0f921"
             ]
            ],
            "type": "histogram2dcontour"
           }
          ],
          "mesh3d": [
           {
            "colorbar": {
             "outlinewidth": 0,
             "ticks": ""
            },
            "type": "mesh3d"
           }
          ],
          "parcoords": [
           {
            "line": {
             "colorbar": {
              "outlinewidth": 0,
              "ticks": ""
             }
            },
            "type": "parcoords"
           }
          ],
          "pie": [
           {
            "automargin": true,
            "type": "pie"
           }
          ],
          "scatter": [
           {
            "marker": {
             "colorbar": {
              "outlinewidth": 0,
              "ticks": ""
             }
            },
            "type": "scatter"
           }
          ],
          "scatter3d": [
           {
            "line": {
             "colorbar": {
              "outlinewidth": 0,
              "ticks": ""
             }
            },
            "marker": {
             "colorbar": {
              "outlinewidth": 0,
              "ticks": ""
             }
            },
            "type": "scatter3d"
           }
          ],
          "scattercarpet": [
           {
            "marker": {
             "colorbar": {
              "outlinewidth": 0,
              "ticks": ""
             }
            },
            "type": "scattercarpet"
           }
          ],
          "scattergeo": [
           {
            "marker": {
             "colorbar": {
              "outlinewidth": 0,
              "ticks": ""
             }
            },
            "type": "scattergeo"
           }
          ],
          "scattergl": [
           {
            "marker": {
             "colorbar": {
              "outlinewidth": 0,
              "ticks": ""
             }
            },
            "type": "scattergl"
           }
          ],
          "scattermapbox": [
           {
            "marker": {
             "colorbar": {
              "outlinewidth": 0,
              "ticks": ""
             }
            },
            "type": "scattermapbox"
           }
          ],
          "scatterpolar": [
           {
            "marker": {
             "colorbar": {
              "outlinewidth": 0,
              "ticks": ""
             }
            },
            "type": "scatterpolar"
           }
          ],
          "scatterpolargl": [
           {
            "marker": {
             "colorbar": {
              "outlinewidth": 0,
              "ticks": ""
             }
            },
            "type": "scatterpolargl"
           }
          ],
          "scatterternary": [
           {
            "marker": {
             "colorbar": {
              "outlinewidth": 0,
              "ticks": ""
             }
            },
            "type": "scatterternary"
           }
          ],
          "surface": [
           {
            "colorbar": {
             "outlinewidth": 0,
             "ticks": ""
            },
            "colorscale": [
             [
              0,
              "#0d0887"
             ],
             [
              0.1111111111111111,
              "#46039f"
             ],
             [
              0.2222222222222222,
              "#7201a8"
             ],
             [
              0.3333333333333333,
              "#9c179e"
             ],
             [
              0.4444444444444444,
              "#bd3786"
             ],
             [
              0.5555555555555556,
              "#d8576b"
             ],
             [
              0.6666666666666666,
              "#ed7953"
             ],
             [
              0.7777777777777778,
              "#fb9f3a"
             ],
             [
              0.8888888888888888,
              "#fdca26"
             ],
             [
              1,
              "#f0f921"
             ]
            ],
            "type": "surface"
           }
          ],
          "table": [
           {
            "cells": {
             "fill": {
              "color": "#EBF0F8"
             },
             "line": {
              "color": "white"
             }
            },
            "header": {
             "fill": {
              "color": "#C8D4E3"
             },
             "line": {
              "color": "white"
             }
            },
            "type": "table"
           }
          ]
         },
         "layout": {
          "annotationdefaults": {
           "arrowcolor": "#2a3f5f",
           "arrowhead": 0,
           "arrowwidth": 1
          },
          "coloraxis": {
           "colorbar": {
            "outlinewidth": 0,
            "ticks": ""
           }
          },
          "colorscale": {
           "diverging": [
            [
             0,
             "#8e0152"
            ],
            [
             0.1,
             "#c51b7d"
            ],
            [
             0.2,
             "#de77ae"
            ],
            [
             0.3,
             "#f1b6da"
            ],
            [
             0.4,
             "#fde0ef"
            ],
            [
             0.5,
             "#f7f7f7"
            ],
            [
             0.6,
             "#e6f5d0"
            ],
            [
             0.7,
             "#b8e186"
            ],
            [
             0.8,
             "#7fbc41"
            ],
            [
             0.9,
             "#4d9221"
            ],
            [
             1,
             "#276419"
            ]
           ],
           "sequential": [
            [
             0,
             "#0d0887"
            ],
            [
             0.1111111111111111,
             "#46039f"
            ],
            [
             0.2222222222222222,
             "#7201a8"
            ],
            [
             0.3333333333333333,
             "#9c179e"
            ],
            [
             0.4444444444444444,
             "#bd3786"
            ],
            [
             0.5555555555555556,
             "#d8576b"
            ],
            [
             0.6666666666666666,
             "#ed7953"
            ],
            [
             0.7777777777777778,
             "#fb9f3a"
            ],
            [
             0.8888888888888888,
             "#fdca26"
            ],
            [
             1,
             "#f0f921"
            ]
           ],
           "sequentialminus": [
            [
             0,
             "#0d0887"
            ],
            [
             0.1111111111111111,
             "#46039f"
            ],
            [
             0.2222222222222222,
             "#7201a8"
            ],
            [
             0.3333333333333333,
             "#9c179e"
            ],
            [
             0.4444444444444444,
             "#bd3786"
            ],
            [
             0.5555555555555556,
             "#d8576b"
            ],
            [
             0.6666666666666666,
             "#ed7953"
            ],
            [
             0.7777777777777778,
             "#fb9f3a"
            ],
            [
             0.8888888888888888,
             "#fdca26"
            ],
            [
             1,
             "#f0f921"
            ]
           ]
          },
          "colorway": [
           "#636efa",
           "#EF553B",
           "#00cc96",
           "#ab63fa",
           "#FFA15A",
           "#19d3f3",
           "#FF6692",
           "#B6E880",
           "#FF97FF",
           "#FECB52"
          ],
          "font": {
           "color": "#2a3f5f"
          },
          "geo": {
           "bgcolor": "white",
           "lakecolor": "white",
           "landcolor": "#E5ECF6",
           "showlakes": true,
           "showland": true,
           "subunitcolor": "white"
          },
          "hoverlabel": {
           "align": "left"
          },
          "hovermode": "closest",
          "mapbox": {
           "style": "light"
          },
          "paper_bgcolor": "white",
          "plot_bgcolor": "#E5ECF6",
          "polar": {
           "angularaxis": {
            "gridcolor": "white",
            "linecolor": "white",
            "ticks": ""
           },
           "bgcolor": "#E5ECF6",
           "radialaxis": {
            "gridcolor": "white",
            "linecolor": "white",
            "ticks": ""
           }
          },
          "scene": {
           "xaxis": {
            "backgroundcolor": "#E5ECF6",
            "gridcolor": "white",
            "gridwidth": 2,
            "linecolor": "white",
            "showbackground": true,
            "ticks": "",
            "zerolinecolor": "white"
           },
           "yaxis": {
            "backgroundcolor": "#E5ECF6",
            "gridcolor": "white",
            "gridwidth": 2,
            "linecolor": "white",
            "showbackground": true,
            "ticks": "",
            "zerolinecolor": "white"
           },
           "zaxis": {
            "backgroundcolor": "#E5ECF6",
            "gridcolor": "white",
            "gridwidth": 2,
            "linecolor": "white",
            "showbackground": true,
            "ticks": "",
            "zerolinecolor": "white"
           }
          },
          "shapedefaults": {
           "line": {
            "color": "#2a3f5f"
           }
          },
          "ternary": {
           "aaxis": {
            "gridcolor": "white",
            "linecolor": "white",
            "ticks": ""
           },
           "baxis": {
            "gridcolor": "white",
            "linecolor": "white",
            "ticks": ""
           },
           "bgcolor": "#E5ECF6",
           "caxis": {
            "gridcolor": "white",
            "linecolor": "white",
            "ticks": ""
           }
          },
          "title": {
           "x": 0.05
          },
          "xaxis": {
           "automargin": true,
           "gridcolor": "white",
           "linecolor": "white",
           "ticks": "",
           "title": {
            "standoff": 15
           },
           "zerolinecolor": "white",
           "zerolinewidth": 2
          },
          "yaxis": {
           "automargin": true,
           "gridcolor": "white",
           "linecolor": "white",
           "ticks": "",
           "title": {
            "standoff": 15
           },
           "zerolinecolor": "white",
           "zerolinewidth": 2
          }
         }
        },
        "title": {
         "text": "Watch and Stream Time vs Total Income"
        },
        "xaxis": {
         "anchor": "y",
         "domain": [
          0,
          1
         ],
         "title": {
          "text": "Watch time"
         }
        },
        "yaxis": {
         "anchor": "x",
         "domain": [
          0,
          1
         ],
         "title": {
          "text": "Total Income"
         }
        }
       }
      },
      "text/html": [
       "<div>\n",
       "        \n",
       "        \n",
       "            <div id=\"9100f58c-74f0-4c91-8083-6cfe0990db32\" class=\"plotly-graph-div\" style=\"height:525px; width:100%;\"></div>\n",
       "            <script type=\"text/javascript\">\n",
       "                require([\"plotly\"], function(Plotly) {\n",
       "                    window.PLOTLYENV=window.PLOTLYENV || {};\n",
       "                    \n",
       "                if (document.getElementById(\"9100f58c-74f0-4c91-8083-6cfe0990db32\")) {\n",
       "                    Plotly.newPlot(\n",
       "                        '9100f58c-74f0-4c91-8083-6cfe0990db32',\n",
       "                        [{\"hovertemplate\": \"Watch time=%{x}<br>Total Income=%{y}<extra></extra>\", \"legendgroup\": \"\", \"marker\": {\"color\": \"#636efa\", \"symbol\": \"circle\"}, \"mode\": \"markers\", \"name\": \"\", \"orientation\": \"v\", \"showlegend\": false, \"type\": \"scatter\", \"x\": [145006575, 133999260, 124495740, 113289465, 110374845, 110024835, 107821695, 94542885, 92309565, 91062705, 89969790, 84227100, 83240160, 75818505, 74971200, 70642200, 69859410, 108315105, 102577890, 89704980, 85381005, 84726285, 84077625, 83947785, 83532915, 83020275, 79486830, 71649045, 67102665, 66661410, 66564900, 66454140, 61846005, 280674015, 236417010, 189821280, 179980155, 166100535, 154052460, 153334170, 148841655, 148189785, 145481475, 136306785, 121657395, 110842350, 90656850, 88935645, 196565940, 195678480, 190122915, 161218770, 156883260, 155416680, 155350575, 153700830, 151968210, 144281400, 134423910, 130645995, 123498735, 119466780, 113005515, 112953915, 102629295, 274248495, 273937875, 263659740, 243034155, 184636590, 180780540, 151349415, 139570035, 138059265, 137535630, 130598205, 125953770, 124951815, 118968315, 100335645, 94057590, 204543480, 157366815, 146145465, 129982770, 124071660, 118042380, 109980045, 109279275, 106809285, 106463295, 95553630, 94688865, 78893190, 78009255, 74506500, 69185295, 127762080, 117007155, 89731110, 82740435, 73779840, 69399105, 68831505, 68827710, 66842910, 65610045, 64596675, 61728675, 60151785, 321490245, 247923810, 225809910, 188826360, 172863570, 156992730, 150135105, 149138730, 140496870, 133317120, 125547975, 120466425, 100160250, 99872160, 92620035, 89831610, 340998165, 332332365, 308013390, 288456915, 269536740, 263881320, 218552790, 207804675, 192959520, 191727885, 191243280, 185357430, 178489185, 170000370, 160169250, 129838995, 124136235, 237721770, 222393480, 194129865, 185712975, 174434190, 173617050, 165746700, 160172250, 159711840, 158891910, 158782350, 157235700, 150979380, 149440800, 82620255, 208540320, 207442170, 150943455, 148256550, 148059870, 142659315, 138793500, 132408120, 131957685, 128144445, 126382515, 125544945, 113692470, 111030420, 109799835, 99557490, 92878140, 389416875, 273126870, 255327150, 223667985, 215187810, 168405615, 163964400, 144140625, 140338875, 130395615, 122927505, 114800730, 98281680, 87470100, 84402765, 67959150, 67466175, 424745010, 389764710, 387981570, 307174995, 243791115, 232499085, 217618095, 211324755, 193171875, 178189515, 169406235, 162933450, 161421615, 144773850, 122984775, 118686600, 114918735, 133234230, 132416715, 126158805, 110220300, 103133295, 102392685, 94288380, 86840100, 85805625, 85069755, 81492885, 80421405, 74159970, 72499560, 71119935, 62832840, 60629970, 294796095, 167974845, 130344690, 121444950, 92299620, 241179120, 199644420, 112614465, 110754750, 109412535, 107208315, 104339145, 85924650, 84996375, 82297920, 75230325, 67614960, 64647615, 659740680, 645644160, 621455460, 589972575, 552738810, 549289740, 495077940, 472767585, 455800275, 390531465, 356555520, 294133245, 272307855, 235637430, 232119285, 202483425, 127627995, 520369185, 263216295, 255380475, 247773000, 235896495, 223868340, 216434940, 210233280, 207474045, 199519125, 193358460, 156499170, 135271545, 132338940, 131319990, 129948585, 101585100, 118518315, 117765270, 94399140, 92568360, 86055750, 82927965, 70327350, 69855270, 66729990, 60312030, 187759920, 177461805, 142976070, 137348490, 124300995, 105006990, 103922475, 101972625, 83441580, 77283555, 75953970, 74074005, 72916290, 508541445, 254688480, 143440635, 109487565, 103899840, 89197785, 88172715, 79104030, 76136745, 75138885, 65916075, 64345095, 62340690, 61075320, 190546815, 170229990, 145355940, 144867105, 132582540, 125714880, 122347035, 119216520, 106673175, 93742005, 75086670, 66620055, 252932955, 229029885, 204800805, 202799250, 178934700, 166584135, 155627115, 154173930, 150331230, 149739390, 149584995, 140844525, 132243750, 114754560, 89844450, 89155335, 244035255, 195275925, 182640690, 181133685, 176277600, 175044690, 170911845, 165045660, 126140895, 109642935, 92501580, 88741830, 87920505, 82883895, 130013205, 117658305, 111686430, 110323065, 98650380, 96170670, 89140845, 85557345, 81901545, 79226640, 77332860, 76658820, 65317815, 186306855, 180239730, 158746755, 146232225, 123491610, 117049005, 107722440, 104524620, 103200525, 100846785, 87842730, 86987430, 81042870, 77671320, 70395570, 971550315, 710466975, 428531295, 314358195, 302249550, 281611650, 221486475, 190329780, 135648060, 117196470, 110434920, 105459615, 100385025, 79255935, 514793865, 418673145, 387255465, 293840280, 253073370, 224077080, 224015310, 202795110, 191422080, 161850135, 138376200, 125202975, 86684940, 76541955, 185013390, 161403615, 150333195, 144334260, 141849210, 129831240, 122851995, 115300050, 105443775, 102440715, 101850330, 89507205, 87289800, 86315790, 81631785, 77684775, 76754220, 477454965, 417823185, 323620320, 304700670, 232350135, 220421640, 209091810, 203297595, 202341555, 202305870, 195746865, 133008060, 132509250, 130250940, 109555845, 91376670, 2127995415, 675198495, 613747260, 584266620, 555861780, 520320210, 509410680, 469784100, 341521440, 289014570, 280525845, 253918305, 211285815, 199512690, 179125485, 165864495, 148926285, 1191810900, 556505595, 480161175, 402870480, 390475215, 378099495, 372638535, 357075855, 326668860, 325675290, 320708910, 295050420, 276121665, 246338805, 227970645, 215055360, 197683005, 145569165, 134981640, 119506770, 119010810, 117471750, 116934525, 114997590, 113865045, 113739735, 110687385, 106017120, 104672925, 94021050, 91160910, 89884410, 68638035, 212964075, 190536930, 186109380, 184990545, 177382350, 175455915, 174887430, 174618270, 171616275, 168360420, 167103915, 157870935, 154179660, 152302995, 145090125, 133095540, 117304665], \"xaxis\": \"x\", \"y\": [51991.59, 65543.89, 53762.42, 53793.14, 69126.18, 84154.99, 79107.66, 47713.7, 53487.11, 81827.18, 50275.57, 97509.19, 46421.85, 81206.79, 48352.42, 43448.75, 60639.55, 21099.21, 14073.08, 12806.56, 13319.79, 18805.73, 13169.89, 14902.13, 14228.52, 10334.6, 10818.66, 12227.13, 12445.88, 9455.65, 9007.0, 12745.29, 13283.58, 52761.41, 39907.08, 24048.28, 43299.83, 38229.51, 48630.41, 68035.23, 33010.29, 45216.03, 22706.0, 38908.94, 24567.14, 21433.76, 18823.33, 23913.96, 47680.95, 52379.79, 25777.12, 42267.49, 68756.18, 50177.83, 48723.91, 46279.09, 42711.26, 42541.39, 37945.06, 39942.74, 41680.53, 48701.05, 48584.7, 47518.02, 40930.85, 77072.43, 70417.45, 66488.28, 72256.96, 62167.87, 51403.55, 42941.62, 76469.56, 46092.83, 79189.4, 55301.15, 61763.41, 54856.56, 45052.09, 47086.8, 49938.42, 74101.78, 86355.57, 55752.85, 97436.21, 53616.78, 61637.82, 56059.59, 59009.63, 64033.63, 69703.63, 60860.12, 67993.26, 47602.33, 64136.39, 63480.55, 56284.41, 29546.97, 23893.42, 20355.13, 17775.48, 16637.53, 24587.01, 17076.77, 19711.44, 21138.62, 26014.23, 15519.56, 20130.81, 20859.25, 26657.39, 28563.78, 18325.87, 12606.39, 23428.86, 14147.04, 20007.2, 16134.26, 13798.2, 14387.22, 15139.03, 14679.95, 15924.34, 13880.83, 14674.46, 13533.51, 42541.85, 25754.59, 44187.96, 24941.46, 26563.21, 31608.58, 32686.37, 26098.96, 47278.15, 27581.2, 28240.11, 41658.06, 28773.97, 24567.28, 26882.64, 24177.98, 26377.94, 27871.72, 26971.39, 47288.64, 43445.73, 35281.12, 35290.77, 27780.84, 31564.06, 27757.21, 46267.56, 31846.07, 34469.8, 34032.19, 34400.57, 15839.53, 59556.6, 62522.37, 63589.81, 58521.71, 56558.96, 45207.07, 53111.38, 58132.98, 52643.28, 57477.67, 52980.58, 58817.86, 61640.31, 51424.74, 84513.35, 57052.17, 52881.75, 57776.71, 47571.02, 38868.71, 35575.0, 32741.56, 26837.56, 30630.17, 18474.1, 22146.95, 24832.06, 22481.13, 25659.77, 17381.65, 12890.62, 17426.71, 13045.1, 11313.33, 133265.24, 122537.36, 149430.18, 113652.56, 92749.93, 96595.63, 100899.23, 90658.0, 106524.05, 65567.7, 92850.01, 82039.17, 67315.29, 125677.51, 67497.57, 54433.8, 85671.89, 23802.84, 19195.48, 19335.71, 16423.18, 18950.28, 17991.7, 15715.78, 19693.33, 13449.2, 13497.27, 12485.49, 17427.85, 16284.1, 18341.26, 11766.99, 13807.64, 14054.99, 6227.52, 3967.05, 3807.37, 2729.53, 3398.19, 10369.24, 6866.3, 13728.11, 1796.44, 7275.55, 2310.75, 7994.1, 8962.34, 2539.99, 928.14, 1612.03, 1596.86, 1986.56, 54636.18, 86851.49, 41578.52, 43445.18, 48042.08, 53711.3, 45080.63, 67218.32, 49568.11, 59803.84, 51255.83, 41688.53, 32492.82, 28939.0, 25719.23, 44249.84, 34626.78, 86756.49, 86191.6, 50450.17, 84391.7, 69553.59, 50087.86, 58745.97, 46946.44, 49680.55, 52413.19, 58881.02, 39235.3, 39514.7, 38266.46, 47725.65, 49161.85, 32263.35, 49806.61, 42406.39, 38354.28, 42221.53, 39317.81, 61831.92, 29471.94, 26243.75, 29232.54, 31018.99, 31467.63, 53486.31, 47735.26, 33205.63, 47854.03, 38751.11, 25408.31, 42005.07, 30783.95, 29980.74, 31048.76, 22739.15, 30258.34, 19938.05, 16512.48, 13624.68, 19298.09, 14787.13, 8734.16, 9523.26, 9358.57, 10724.35, 12481.27, 10859.92, 11800.58, 11828.34, 12486.52, 1946.14, 1751.54, 1746.53, 3952.1, 1501.99, 2949.1, 2814.37, 2639.82, 3388.23, 1581.84, 1117.77, 2130.89, 6723.55, 4421.5, 5356.33, 5465.35, 5355.63, 6774.25, 5839.82, 8774.72, 6839.72, 9370.59, 6633.67, 7098.16, 6718.48, 8170.49, 5296.71, 4547.15, 21733.5, 20611.58, 20800.85, 20511.46, 32926.16, 33614.73, 18264.87, 20600.7, 22731.24, 24981.31, 23659.17, 19502.06, 24732.27, 23728.88, 379.44, 419.35, 264.57, 334.62, 224.66, 629.55, 289.67, 694.25, 269.69, 469.71, 184.75, 5087.71, 774.49, 23779.84, 25051.79, 22002.47, 19167.94, 33316.11, 22431.61, 19716.74, 18933.3, 20600.37, 19626.9, 16583.0, 18409.39, 16523.23, 21448.48, 14861.29, 0.0, 64.9, 109.84, 89.85, 109.83, 74.87, 94.85, 79.87, 74.88, 29.95, 59.9, 34.94, 79.86, 59.9, 17730.51, 20604.56, 19102.62, 12730.3, 15055.73, 9032.36, 14881.91, 11053.5, 11982.03, 12296.1, 13927.84, 12221.01, 12241.24, 9596.31, 2599.91, 3523.18, 3018.97, 6397.61, 10491.02, 2709.7, 4795.54, 3483.13, 3563.05, 3343.48, 3587.99, 2994.69, 2969.26, 3203.81, 2465.25, 2739.54, 6851.53, 27296.6, 45535.0, 22590.34, 19047.6, 42262.36, 14416.67, 17415.62, 25504.6, 11477.24, 23463.67, 16562.57, 20609.46, 16696.89, 14735.96, 22091.64, 11028.28, 146092.02, 63122.31, 54414.23, 66392.13, 52065.73, 72184.58, 59391.01, 87398.12, 42883.27, 63754.25, 43255.15, 39100.8, 41336.59, 35777.31, 32039.37, 30094.17, 43273.01, 72896.86, 73100.89, 59044.4, 43041.44, 50735.82, 49837.64, 53939.04, 58559.49, 38515.46, 47302.66, 64702.74, 53465.54, 40017.8, 34518.74, 42329.17, 33600.27, 31643.66, 26110.83, 25537.21, 38027.35, 26958.5, 22142.26, 22099.54, 24221.38, 10047.4, 21296.75, 24809.98, 25879.76, 20269.91, 21562.32, 25263.69, 19805.24, 23127.09, 6009.1, 8660.23, 10162.98, 12959.26, 7291.44, 13063.31, 12109.88, 13534.95, 7946.2, 9314.22, 7163.75, 12975.57, 12251.66, 11781.88, 11772.36, 12442.28, 18632.5], \"yaxis\": \"y\"}],\n",
       "                        {\"legend\": {\"tracegroupgap\": 0}, \"template\": {\"data\": {\"bar\": [{\"error_x\": {\"color\": \"#2a3f5f\"}, \"error_y\": {\"color\": \"#2a3f5f\"}, \"marker\": {\"line\": {\"color\": \"#E5ECF6\", \"width\": 0.5}}, \"type\": \"bar\"}], \"barpolar\": [{\"marker\": {\"line\": {\"color\": \"#E5ECF6\", \"width\": 0.5}}, \"type\": \"barpolar\"}], \"carpet\": [{\"aaxis\": {\"endlinecolor\": \"#2a3f5f\", \"gridcolor\": \"white\", \"linecolor\": \"white\", \"minorgridcolor\": \"white\", \"startlinecolor\": \"#2a3f5f\"}, \"baxis\": {\"endlinecolor\": \"#2a3f5f\", \"gridcolor\": \"white\", \"linecolor\": \"white\", \"minorgridcolor\": \"white\", \"startlinecolor\": \"#2a3f5f\"}, \"type\": \"carpet\"}], \"choropleth\": [{\"colorbar\": {\"outlinewidth\": 0, \"ticks\": \"\"}, \"type\": \"choropleth\"}], \"contour\": [{\"colorbar\": {\"outlinewidth\": 0, \"ticks\": \"\"}, \"colorscale\": [[0.0, \"#0d0887\"], [0.1111111111111111, \"#46039f\"], [0.2222222222222222, \"#7201a8\"], [0.3333333333333333, \"#9c179e\"], [0.4444444444444444, \"#bd3786\"], [0.5555555555555556, \"#d8576b\"], [0.6666666666666666, \"#ed7953\"], [0.7777777777777778, \"#fb9f3a\"], [0.8888888888888888, \"#fdca26\"], [1.0, \"#f0f921\"]], \"type\": \"contour\"}], \"contourcarpet\": [{\"colorbar\": {\"outlinewidth\": 0, \"ticks\": \"\"}, \"type\": \"contourcarpet\"}], \"heatmap\": [{\"colorbar\": {\"outlinewidth\": 0, \"ticks\": \"\"}, \"colorscale\": [[0.0, \"#0d0887\"], [0.1111111111111111, \"#46039f\"], [0.2222222222222222, \"#7201a8\"], [0.3333333333333333, \"#9c179e\"], [0.4444444444444444, \"#bd3786\"], [0.5555555555555556, \"#d8576b\"], [0.6666666666666666, \"#ed7953\"], [0.7777777777777778, \"#fb9f3a\"], [0.8888888888888888, \"#fdca26\"], [1.0, \"#f0f921\"]], \"type\": \"heatmap\"}], \"heatmapgl\": [{\"colorbar\": {\"outlinewidth\": 0, \"ticks\": \"\"}, \"colorscale\": [[0.0, \"#0d0887\"], [0.1111111111111111, \"#46039f\"], [0.2222222222222222, \"#7201a8\"], [0.3333333333333333, \"#9c179e\"], [0.4444444444444444, \"#bd3786\"], [0.5555555555555556, \"#d8576b\"], [0.6666666666666666, \"#ed7953\"], [0.7777777777777778, \"#fb9f3a\"], [0.8888888888888888, \"#fdca26\"], [1.0, \"#f0f921\"]], \"type\": \"heatmapgl\"}], \"histogram\": [{\"marker\": {\"colorbar\": {\"outlinewidth\": 0, \"ticks\": \"\"}}, \"type\": \"histogram\"}], \"histogram2d\": [{\"colorbar\": {\"outlinewidth\": 0, \"ticks\": \"\"}, \"colorscale\": [[0.0, \"#0d0887\"], [0.1111111111111111, \"#46039f\"], [0.2222222222222222, \"#7201a8\"], [0.3333333333333333, \"#9c179e\"], [0.4444444444444444, \"#bd3786\"], [0.5555555555555556, \"#d8576b\"], [0.6666666666666666, \"#ed7953\"], [0.7777777777777778, \"#fb9f3a\"], [0.8888888888888888, \"#fdca26\"], [1.0, \"#f0f921\"]], \"type\": \"histogram2d\"}], \"histogram2dcontour\": [{\"colorbar\": {\"outlinewidth\": 0, \"ticks\": \"\"}, \"colorscale\": [[0.0, \"#0d0887\"], [0.1111111111111111, \"#46039f\"], [0.2222222222222222, \"#7201a8\"], [0.3333333333333333, \"#9c179e\"], [0.4444444444444444, \"#bd3786\"], [0.5555555555555556, \"#d8576b\"], [0.6666666666666666, \"#ed7953\"], [0.7777777777777778, \"#fb9f3a\"], [0.8888888888888888, \"#fdca26\"], [1.0, \"#f0f921\"]], \"type\": \"histogram2dcontour\"}], \"mesh3d\": [{\"colorbar\": {\"outlinewidth\": 0, \"ticks\": \"\"}, \"type\": \"mesh3d\"}], \"parcoords\": [{\"line\": {\"colorbar\": {\"outlinewidth\": 0, \"ticks\": \"\"}}, \"type\": \"parcoords\"}], \"pie\": [{\"automargin\": true, \"type\": \"pie\"}], \"scatter\": [{\"marker\": {\"colorbar\": {\"outlinewidth\": 0, \"ticks\": \"\"}}, \"type\": \"scatter\"}], \"scatter3d\": [{\"line\": {\"colorbar\": {\"outlinewidth\": 0, \"ticks\": \"\"}}, \"marker\": {\"colorbar\": {\"outlinewidth\": 0, \"ticks\": \"\"}}, \"type\": \"scatter3d\"}], \"scattercarpet\": [{\"marker\": {\"colorbar\": {\"outlinewidth\": 0, \"ticks\": \"\"}}, \"type\": \"scattercarpet\"}], \"scattergeo\": [{\"marker\": {\"colorbar\": {\"outlinewidth\": 0, \"ticks\": \"\"}}, \"type\": \"scattergeo\"}], \"scattergl\": [{\"marker\": {\"colorbar\": {\"outlinewidth\": 0, \"ticks\": \"\"}}, \"type\": \"scattergl\"}], \"scattermapbox\": [{\"marker\": {\"colorbar\": {\"outlinewidth\": 0, \"ticks\": \"\"}}, \"type\": \"scattermapbox\"}], \"scatterpolar\": [{\"marker\": {\"colorbar\": {\"outlinewidth\": 0, \"ticks\": \"\"}}, \"type\": \"scatterpolar\"}], \"scatterpolargl\": [{\"marker\": {\"colorbar\": {\"outlinewidth\": 0, \"ticks\": \"\"}}, \"type\": \"scatterpolargl\"}], \"scatterternary\": [{\"marker\": {\"colorbar\": {\"outlinewidth\": 0, \"ticks\": \"\"}}, \"type\": \"scatterternary\"}], \"surface\": [{\"colorbar\": {\"outlinewidth\": 0, \"ticks\": \"\"}, \"colorscale\": [[0.0, \"#0d0887\"], [0.1111111111111111, \"#46039f\"], [0.2222222222222222, \"#7201a8\"], [0.3333333333333333, \"#9c179e\"], [0.4444444444444444, \"#bd3786\"], [0.5555555555555556, \"#d8576b\"], [0.6666666666666666, \"#ed7953\"], [0.7777777777777778, \"#fb9f3a\"], [0.8888888888888888, \"#fdca26\"], [1.0, \"#f0f921\"]], \"type\": \"surface\"}], \"table\": [{\"cells\": {\"fill\": {\"color\": \"#EBF0F8\"}, \"line\": {\"color\": \"white\"}}, \"header\": {\"fill\": {\"color\": \"#C8D4E3\"}, \"line\": {\"color\": \"white\"}}, \"type\": \"table\"}]}, \"layout\": {\"annotationdefaults\": {\"arrowcolor\": \"#2a3f5f\", \"arrowhead\": 0, \"arrowwidth\": 1}, \"coloraxis\": {\"colorbar\": {\"outlinewidth\": 0, \"ticks\": \"\"}}, \"colorscale\": {\"diverging\": [[0, \"#8e0152\"], [0.1, \"#c51b7d\"], [0.2, \"#de77ae\"], [0.3, \"#f1b6da\"], [0.4, \"#fde0ef\"], [0.5, \"#f7f7f7\"], [0.6, \"#e6f5d0\"], [0.7, \"#b8e186\"], [0.8, \"#7fbc41\"], [0.9, \"#4d9221\"], [1, \"#276419\"]], \"sequential\": [[0.0, \"#0d0887\"], [0.1111111111111111, \"#46039f\"], [0.2222222222222222, \"#7201a8\"], [0.3333333333333333, \"#9c179e\"], [0.4444444444444444, \"#bd3786\"], [0.5555555555555556, \"#d8576b\"], [0.6666666666666666, \"#ed7953\"], [0.7777777777777778, \"#fb9f3a\"], [0.8888888888888888, \"#fdca26\"], [1.0, \"#f0f921\"]], \"sequentialminus\": [[0.0, \"#0d0887\"], [0.1111111111111111, \"#46039f\"], [0.2222222222222222, \"#7201a8\"], [0.3333333333333333, \"#9c179e\"], [0.4444444444444444, \"#bd3786\"], [0.5555555555555556, \"#d8576b\"], [0.6666666666666666, \"#ed7953\"], [0.7777777777777778, \"#fb9f3a\"], [0.8888888888888888, \"#fdca26\"], [1.0, \"#f0f921\"]]}, \"colorway\": [\"#636efa\", \"#EF553B\", \"#00cc96\", \"#ab63fa\", \"#FFA15A\", \"#19d3f3\", \"#FF6692\", \"#B6E880\", \"#FF97FF\", \"#FECB52\"], \"font\": {\"color\": \"#2a3f5f\"}, \"geo\": {\"bgcolor\": \"white\", \"lakecolor\": \"white\", \"landcolor\": \"#E5ECF6\", \"showlakes\": true, \"showland\": true, \"subunitcolor\": \"white\"}, \"hoverlabel\": {\"align\": \"left\"}, \"hovermode\": \"closest\", \"mapbox\": {\"style\": \"light\"}, \"paper_bgcolor\": \"white\", \"plot_bgcolor\": \"#E5ECF6\", \"polar\": {\"angularaxis\": {\"gridcolor\": \"white\", \"linecolor\": \"white\", \"ticks\": \"\"}, \"bgcolor\": \"#E5ECF6\", \"radialaxis\": {\"gridcolor\": \"white\", \"linecolor\": \"white\", \"ticks\": \"\"}}, \"scene\": {\"xaxis\": {\"backgroundcolor\": \"#E5ECF6\", \"gridcolor\": \"white\", \"gridwidth\": 2, \"linecolor\": \"white\", \"showbackground\": true, \"ticks\": \"\", \"zerolinecolor\": \"white\"}, \"yaxis\": {\"backgroundcolor\": \"#E5ECF6\", \"gridcolor\": \"white\", \"gridwidth\": 2, \"linecolor\": \"white\", \"showbackground\": true, \"ticks\": \"\", \"zerolinecolor\": \"white\"}, \"zaxis\": {\"backgroundcolor\": \"#E5ECF6\", \"gridcolor\": \"white\", \"gridwidth\": 2, \"linecolor\": \"white\", \"showbackground\": true, \"ticks\": \"\", \"zerolinecolor\": \"white\"}}, \"shapedefaults\": {\"line\": {\"color\": \"#2a3f5f\"}}, \"ternary\": {\"aaxis\": {\"gridcolor\": \"white\", \"linecolor\": \"white\", \"ticks\": \"\"}, \"baxis\": {\"gridcolor\": \"white\", \"linecolor\": \"white\", \"ticks\": \"\"}, \"bgcolor\": \"#E5ECF6\", \"caxis\": {\"gridcolor\": \"white\", \"linecolor\": \"white\", \"ticks\": \"\"}}, \"title\": {\"x\": 0.05}, \"xaxis\": {\"automargin\": true, \"gridcolor\": \"white\", \"linecolor\": \"white\", \"ticks\": \"\", \"title\": {\"standoff\": 15}, \"zerolinecolor\": \"white\", \"zerolinewidth\": 2}, \"yaxis\": {\"automargin\": true, \"gridcolor\": \"white\", \"linecolor\": \"white\", \"ticks\": \"\", \"title\": {\"standoff\": 15}, \"zerolinecolor\": \"white\", \"zerolinewidth\": 2}}}, \"title\": {\"text\": \"Watch and Stream Time vs Total Income\"}, \"xaxis\": {\"anchor\": \"y\", \"domain\": [0.0, 1.0], \"title\": {\"text\": \"Watch time\"}}, \"yaxis\": {\"anchor\": \"x\", \"domain\": [0.0, 1.0], \"title\": {\"text\": \"Total Income\"}}},\n",
       "                        {\"responsive\": true}\n",
       "                    ).then(function(){\n",
       "                            \n",
       "var gd = document.getElementById('9100f58c-74f0-4c91-8083-6cfe0990db32');\n",
       "var x = new MutationObserver(function (mutations, observer) {{\n",
       "        var display = window.getComputedStyle(gd).display;\n",
       "        if (!display || display === 'none') {{\n",
       "            console.log([gd, 'removed!']);\n",
       "            Plotly.purge(gd);\n",
       "            observer.disconnect();\n",
       "        }}\n",
       "}});\n",
       "\n",
       "// Listen for the removal of the full notebook cells\n",
       "var notebookContainer = gd.closest('#notebook-container');\n",
       "if (notebookContainer) {{\n",
       "    x.observe(notebookContainer, {childList: true});\n",
       "}}\n",
       "\n",
       "// Listen for the clearing of the current output cell\n",
       "var outputEl = gd.closest('.output');\n",
       "if (outputEl) {{\n",
       "    x.observe(outputEl, {childList: true});\n",
       "}}\n",
       "\n",
       "                        })\n",
       "                };\n",
       "                });\n",
       "            </script>\n",
       "        </div>"
      ]
     },
     "metadata": {},
     "output_type": "display_data"
    }
   ],
   "source": [
    "fig = px.scatter(finaldata, x=\"Watch time\", y=\"Total Income\", title=\"Watch and Stream Time vs Total Income\")\n",
    "fig.show()"
   ]
  },
  {
   "cell_type": "code",
   "execution_count": 46,
   "metadata": {},
   "outputs": [
    {
     "data": {
      "application/vnd.plotly.v1+json": {
       "config": {
        "plotlyServerURL": "https://plot.ly"
       },
       "data": [
        {
         "hovertemplate": "Stream time=%{x}<br>Total Income=%{y}<extra></extra>",
         "legendgroup": "",
         "marker": {
          "color": "#636efa",
          "symbol": "circle"
         },
         "mode": "markers",
         "name": "",
         "orientation": "v",
         "showlegend": false,
         "type": "scatter",
         "x": [
          15510,
          15810,
          13425,
          13935,
          13920,
          15015,
          11385,
          12195,
          10980,
          10995,
          10875,
          11910,
          10350,
          10530,
          9870,
          11085,
          10785,
          16380,
          14610,
          13980,
          13695,
          13260,
          12885,
          12900,
          13725,
          14070,
          15105,
          11055,
          11775,
          9975,
          10665,
          12255,
          11340,
          10875,
          9990,
          9360,
          11025,
          9990,
          7845,
          9600,
          8685,
          8340,
          8250,
          6810,
          8175,
          7650,
          8100,
          7080,
          13185,
          17850,
          16185,
          13350,
          14070,
          11940,
          13755,
          13515,
          14070,
          13365,
          12600,
          12060,
          11595,
          11970,
          12510,
          11400,
          10125,
          9705,
          8325,
          8070,
          7680,
          7080,
          7290,
          6825,
          6150,
          6855,
          5970,
          6960,
          6495,
          5685,
          7110,
          5355,
          6375,
          15840,
          14775,
          18030,
          13260,
          12840,
          15540,
          12330,
          14895,
          13740,
          14895,
          13560,
          12075,
          14520,
          11220,
          10170,
          14220,
          4530,
          6615,
          4995,
          5205,
          4965,
          3570,
          4170,
          4005,
          3585,
          3630,
          4410,
          3720,
          3870,
          13875,
          11940,
          6900,
          14700,
          14400,
          11310,
          12900,
          9555,
          6570,
          7170,
          13365,
          11205,
          11925,
          15765,
          12195,
          16095,
          10935,
          11145,
          12300,
          11250,
          11235,
          10260,
          9750,
          11025,
          9600,
          11040,
          10020,
          10695,
          9060,
          10170,
          9210,
          9090,
          8235,
          13350,
          13635,
          12720,
          14160,
          13530,
          13125,
          12960,
          12435,
          11685,
          11970,
          13020,
          13110,
          12075,
          12960,
          13860,
          12240,
          11640,
          10755,
          10980,
          9840,
          10500,
          12615,
          10560,
          13590,
          10590,
          10350,
          10605,
          10695,
          9345,
          11385,
          10620,
          8565,
          7875,
          6495,
          8235,
          6600,
          5220,
          5280,
          5370,
          3675,
          4860,
          4395,
          5730,
          4110,
          4140,
          3645,
          3750,
          3360,
          2805,
          18150,
          11460,
          15240,
          16575,
          12075,
          10380,
          12240,
          8985,
          10650,
          8985,
          9900,
          10965,
          10260,
          8145,
          8700,
          7680,
          8055,
          13770,
          13560,
          13035,
          12765,
          11910,
          11475,
          14160,
          10815,
          11490,
          11760,
          11805,
          10980,
          12090,
          10470,
          10140,
          8775,
          10770,
          43335,
          40905,
          41685,
          40545,
          32115,
          13185,
          14550,
          14895,
          12750,
          11910,
          13080,
          12435,
          11325,
          12180,
          12360,
          6750,
          10020,
          10815,
          11310,
          13365,
          12930,
          10980,
          11145,
          11055,
          11910,
          13695,
          10020,
          9075,
          9330,
          11790,
          10335,
          7965,
          6195,
          10170,
          6015,
          9465,
          10980,
          10365,
          9645,
          10800,
          8970,
          7770,
          9165,
          11280,
          7590,
          9840,
          9735,
          9180,
          7200,
          6960,
          7110,
          6570,
          15645,
          13815,
          13815,
          12045,
          12900,
          12825,
          13665,
          11220,
          11595,
          10095,
          12570,
          14865,
          14235,
          15540,
          18210,
          14190,
          13035,
          17055,
          13890,
          13095,
          13530,
          13215,
          13800,
          17865,
          12420,
          10080,
          8475,
          7605,
          7545,
          6840,
          8430,
          7980,
          7815,
          6795,
          7590,
          5820,
          6585,
          16365,
          12210,
          14985,
          12225,
          9435,
          10710,
          10080,
          8055,
          9855,
          8205,
          5685,
          4155,
          8295,
          8835,
          9090,
          9615,
          11430,
          8685,
          8775,
          9060,
          8595,
          8670,
          9075,
          8115,
          8025,
          7275,
          5775,
          6015,
          14070,
          12315,
          12075,
          12480,
          13245,
          11925,
          12060,
          12480,
          12630,
          11790,
          11910,
          11490,
          11115,
          11220,
          19935,
          22140,
          20550,
          19605,
          18495,
          18510,
          17235,
          17400,
          16650,
          19365,
          16050,
          21285,
          16695,
          12285,
          12330,
          10815,
          9870,
          9585,
          10965,
          8475,
          11205,
          9975,
          9705,
          9435,
          9345,
          7800,
          9090,
          8280,
          44295,
          42810,
          40830,
          41430,
          43350,
          42990,
          42300,
          44145,
          43965,
          26715,
          26670,
          25080,
          29085,
          27810,
          17400,
          13980,
          15330,
          12735,
          10530,
          9075,
          12210,
          7830,
          10080,
          10230,
          9420,
          8775,
          6975,
          5205,
          12390,
          11310,
          14295,
          14295,
          14295,
          13095,
          14115,
          12705,
          9615,
          11085,
          10035,
          9255,
          11820,
          12195,
          9000,
          10455,
          8775,
          13275,
          14115,
          10020,
          17370,
          10455,
          12900,
          10980,
          10545,
          6720,
          8085,
          11460,
          7770,
          5805,
          5430,
          4590,
          5190,
          21045,
          16695,
          17250,
          19275,
          22425,
          14400,
          16260,
          18480,
          15795,
          12690,
          16200,
          16125,
          16965,
          13305,
          11880,
          16800,
          11160,
          21000,
          17535,
          19260,
          20070,
          17685,
          18435,
          16530,
          18390,
          20010,
          18645,
          16290,
          15345,
          16380,
          17835,
          14580,
          16860,
          14895,
          17430,
          18840,
          13860,
          17775,
          17610,
          18390,
          19290,
          17295,
          15795,
          17040,
          17025,
          13500,
          14310,
          14445,
          13905,
          10695,
          16200,
          15285,
          15555,
          15825,
          13605,
          16065,
          16110,
          15945,
          15060,
          14985,
          15210,
          14955,
          12675,
          15150,
          12705,
          13260,
          11535
         ],
         "xaxis": "x",
         "y": [
          51991.59,
          65543.89,
          53762.42,
          53793.14,
          69126.18,
          84154.99,
          79107.66,
          47713.7,
          53487.11,
          81827.18,
          50275.57,
          97509.19,
          46421.85,
          81206.79,
          48352.42,
          43448.75,
          60639.55,
          21099.21,
          14073.08,
          12806.56,
          13319.79,
          18805.73,
          13169.89,
          14902.13,
          14228.52,
          10334.6,
          10818.66,
          12227.13,
          12445.88,
          9455.65,
          9007,
          12745.29,
          13283.58,
          52761.41,
          39907.08,
          24048.28,
          43299.83,
          38229.51,
          48630.41,
          68035.23,
          33010.29,
          45216.03,
          22706,
          38908.94,
          24567.14,
          21433.76,
          18823.33,
          23913.96,
          47680.95,
          52379.79,
          25777.12,
          42267.49,
          68756.18,
          50177.83,
          48723.91,
          46279.09,
          42711.26,
          42541.39,
          37945.06,
          39942.74,
          41680.53,
          48701.05,
          48584.7,
          47518.02,
          40930.85,
          77072.43,
          70417.45,
          66488.28,
          72256.96,
          62167.87,
          51403.55,
          42941.62,
          76469.56,
          46092.83,
          79189.4,
          55301.15,
          61763.41,
          54856.56,
          45052.09,
          47086.8,
          49938.42,
          74101.78,
          86355.57,
          55752.85,
          97436.21,
          53616.78,
          61637.82,
          56059.59,
          59009.63,
          64033.63,
          69703.63,
          60860.12,
          67993.26,
          47602.33,
          64136.39,
          63480.55,
          56284.41,
          29546.97,
          23893.42,
          20355.13,
          17775.48,
          16637.53,
          24587.01,
          17076.77,
          19711.44,
          21138.62,
          26014.23,
          15519.56,
          20130.81,
          20859.25,
          26657.39,
          28563.78,
          18325.87,
          12606.39,
          23428.86,
          14147.04,
          20007.2,
          16134.26,
          13798.2,
          14387.22,
          15139.03,
          14679.95,
          15924.34,
          13880.83,
          14674.46,
          13533.51,
          42541.85,
          25754.59,
          44187.96,
          24941.46,
          26563.21,
          31608.58,
          32686.37,
          26098.96,
          47278.15,
          27581.2,
          28240.11,
          41658.06,
          28773.97,
          24567.28,
          26882.64,
          24177.98,
          26377.94,
          27871.72,
          26971.39,
          47288.64,
          43445.73,
          35281.12,
          35290.77,
          27780.84,
          31564.06,
          27757.21,
          46267.56,
          31846.07,
          34469.8,
          34032.19,
          34400.57,
          15839.53,
          59556.6,
          62522.37,
          63589.81,
          58521.71,
          56558.96,
          45207.07,
          53111.38,
          58132.98,
          52643.28,
          57477.67,
          52980.58,
          58817.86,
          61640.31,
          51424.74,
          84513.35,
          57052.17,
          52881.75,
          57776.71,
          47571.02,
          38868.71,
          35575,
          32741.56,
          26837.56,
          30630.17,
          18474.1,
          22146.95,
          24832.06,
          22481.13,
          25659.77,
          17381.65,
          12890.62,
          17426.71,
          13045.1,
          11313.33,
          133265.24,
          122537.36,
          149430.18,
          113652.56,
          92749.93,
          96595.63,
          100899.23,
          90658,
          106524.05,
          65567.7,
          92850.01,
          82039.17,
          67315.29,
          125677.51,
          67497.57,
          54433.8,
          85671.89,
          23802.84,
          19195.48,
          19335.71,
          16423.18,
          18950.28,
          17991.7,
          15715.78,
          19693.33,
          13449.2,
          13497.27,
          12485.49,
          17427.85,
          16284.1,
          18341.26,
          11766.99,
          13807.64,
          14054.99,
          6227.52,
          3967.05,
          3807.37,
          2729.53,
          3398.19,
          10369.24,
          6866.3,
          13728.11,
          1796.44,
          7275.55,
          2310.75,
          7994.1,
          8962.34,
          2539.99,
          928.14,
          1612.03,
          1596.86,
          1986.56,
          54636.18,
          86851.49,
          41578.52,
          43445.18,
          48042.08,
          53711.3,
          45080.63,
          67218.32,
          49568.11,
          59803.84,
          51255.83,
          41688.53,
          32492.82,
          28939,
          25719.23,
          44249.84,
          34626.78,
          86756.49,
          86191.6,
          50450.17,
          84391.7,
          69553.59,
          50087.86,
          58745.97,
          46946.44,
          49680.55,
          52413.19,
          58881.02,
          39235.3,
          39514.7,
          38266.46,
          47725.65,
          49161.85,
          32263.35,
          49806.61,
          42406.39,
          38354.28,
          42221.53,
          39317.81,
          61831.92,
          29471.94,
          26243.75,
          29232.54,
          31018.99,
          31467.63,
          53486.31,
          47735.26,
          33205.63,
          47854.03,
          38751.11,
          25408.31,
          42005.07,
          30783.95,
          29980.74,
          31048.76,
          22739.15,
          30258.34,
          19938.05,
          16512.48,
          13624.68,
          19298.09,
          14787.13,
          8734.16,
          9523.26,
          9358.57,
          10724.35,
          12481.27,
          10859.92,
          11800.58,
          11828.34,
          12486.52,
          1946.14,
          1751.54,
          1746.53,
          3952.1,
          1501.99,
          2949.1,
          2814.37,
          2639.82,
          3388.23,
          1581.84,
          1117.77,
          2130.89,
          6723.55,
          4421.5,
          5356.33,
          5465.35,
          5355.63,
          6774.25,
          5839.82,
          8774.72,
          6839.72,
          9370.59,
          6633.67,
          7098.16,
          6718.48,
          8170.49,
          5296.71,
          4547.15,
          21733.5,
          20611.58,
          20800.85,
          20511.46,
          32926.16,
          33614.73,
          18264.87,
          20600.7,
          22731.24,
          24981.31,
          23659.17,
          19502.06,
          24732.27,
          23728.88,
          379.44,
          419.35,
          264.57,
          334.62,
          224.66,
          629.55,
          289.67,
          694.25,
          269.69,
          469.71,
          184.75,
          5087.71,
          774.49,
          23779.84,
          25051.79,
          22002.47,
          19167.94,
          33316.11,
          22431.61,
          19716.74,
          18933.3,
          20600.37,
          19626.9,
          16583,
          18409.39,
          16523.23,
          21448.48,
          14861.29,
          0,
          64.9,
          109.84,
          89.85,
          109.83,
          74.87,
          94.85,
          79.87,
          74.88,
          29.95,
          59.9,
          34.94,
          79.86,
          59.9,
          17730.51,
          20604.56,
          19102.62,
          12730.3,
          15055.73,
          9032.36,
          14881.91,
          11053.5,
          11982.03,
          12296.1,
          13927.84,
          12221.01,
          12241.24,
          9596.31,
          2599.91,
          3523.18,
          3018.97,
          6397.61,
          10491.02,
          2709.7,
          4795.54,
          3483.13,
          3563.05,
          3343.48,
          3587.99,
          2994.69,
          2969.26,
          3203.81,
          2465.25,
          2739.54,
          6851.53,
          27296.6,
          45535,
          22590.34,
          19047.6,
          42262.36,
          14416.67,
          17415.62,
          25504.6,
          11477.24,
          23463.67,
          16562.57,
          20609.46,
          16696.89,
          14735.96,
          22091.64,
          11028.28,
          146092.02,
          63122.31,
          54414.23,
          66392.13,
          52065.73,
          72184.58,
          59391.01,
          87398.12,
          42883.27,
          63754.25,
          43255.15,
          39100.8,
          41336.59,
          35777.31,
          32039.37,
          30094.17,
          43273.01,
          72896.86,
          73100.89,
          59044.4,
          43041.44,
          50735.82,
          49837.64,
          53939.04,
          58559.49,
          38515.46,
          47302.66,
          64702.74,
          53465.54,
          40017.8,
          34518.74,
          42329.17,
          33600.27,
          31643.66,
          26110.83,
          25537.21,
          38027.35,
          26958.5,
          22142.26,
          22099.54,
          24221.38,
          10047.4,
          21296.75,
          24809.98,
          25879.76,
          20269.91,
          21562.32,
          25263.69,
          19805.24,
          23127.09,
          6009.1,
          8660.23,
          10162.98,
          12959.26,
          7291.44,
          13063.31,
          12109.88,
          13534.95,
          7946.2,
          9314.22,
          7163.75,
          12975.57,
          12251.66,
          11781.88,
          11772.36,
          12442.28,
          18632.5
         ],
         "yaxis": "y"
        }
       ],
       "layout": {
        "legend": {
         "tracegroupgap": 0
        },
        "template": {
         "data": {
          "bar": [
           {
            "error_x": {
             "color": "#2a3f5f"
            },
            "error_y": {
             "color": "#2a3f5f"
            },
            "marker": {
             "line": {
              "color": "#E5ECF6",
              "width": 0.5
             }
            },
            "type": "bar"
           }
          ],
          "barpolar": [
           {
            "marker": {
             "line": {
              "color": "#E5ECF6",
              "width": 0.5
             }
            },
            "type": "barpolar"
           }
          ],
          "carpet": [
           {
            "aaxis": {
             "endlinecolor": "#2a3f5f",
             "gridcolor": "white",
             "linecolor": "white",
             "minorgridcolor": "white",
             "startlinecolor": "#2a3f5f"
            },
            "baxis": {
             "endlinecolor": "#2a3f5f",
             "gridcolor": "white",
             "linecolor": "white",
             "minorgridcolor": "white",
             "startlinecolor": "#2a3f5f"
            },
            "type": "carpet"
           }
          ],
          "choropleth": [
           {
            "colorbar": {
             "outlinewidth": 0,
             "ticks": ""
            },
            "type": "choropleth"
           }
          ],
          "contour": [
           {
            "colorbar": {
             "outlinewidth": 0,
             "ticks": ""
            },
            "colorscale": [
             [
              0,
              "#0d0887"
             ],
             [
              0.1111111111111111,
              "#46039f"
             ],
             [
              0.2222222222222222,
              "#7201a8"
             ],
             [
              0.3333333333333333,
              "#9c179e"
             ],
             [
              0.4444444444444444,
              "#bd3786"
             ],
             [
              0.5555555555555556,
              "#d8576b"
             ],
             [
              0.6666666666666666,
              "#ed7953"
             ],
             [
              0.7777777777777778,
              "#fb9f3a"
             ],
             [
              0.8888888888888888,
              "#fdca26"
             ],
             [
              1,
              "#f0f921"
             ]
            ],
            "type": "contour"
           }
          ],
          "contourcarpet": [
           {
            "colorbar": {
             "outlinewidth": 0,
             "ticks": ""
            },
            "type": "contourcarpet"
           }
          ],
          "heatmap": [
           {
            "colorbar": {
             "outlinewidth": 0,
             "ticks": ""
            },
            "colorscale": [
             [
              0,
              "#0d0887"
             ],
             [
              0.1111111111111111,
              "#46039f"
             ],
             [
              0.2222222222222222,
              "#7201a8"
             ],
             [
              0.3333333333333333,
              "#9c179e"
             ],
             [
              0.4444444444444444,
              "#bd3786"
             ],
             [
              0.5555555555555556,
              "#d8576b"
             ],
             [
              0.6666666666666666,
              "#ed7953"
             ],
             [
              0.7777777777777778,
              "#fb9f3a"
             ],
             [
              0.8888888888888888,
              "#fdca26"
             ],
             [
              1,
              "#f0f921"
             ]
            ],
            "type": "heatmap"
           }
          ],
          "heatmapgl": [
           {
            "colorbar": {
             "outlinewidth": 0,
             "ticks": ""
            },
            "colorscale": [
             [
              0,
              "#0d0887"
             ],
             [
              0.1111111111111111,
              "#46039f"
             ],
             [
              0.2222222222222222,
              "#7201a8"
             ],
             [
              0.3333333333333333,
              "#9c179e"
             ],
             [
              0.4444444444444444,
              "#bd3786"
             ],
             [
              0.5555555555555556,
              "#d8576b"
             ],
             [
              0.6666666666666666,
              "#ed7953"
             ],
             [
              0.7777777777777778,
              "#fb9f3a"
             ],
             [
              0.8888888888888888,
              "#fdca26"
             ],
             [
              1,
              "#f0f921"
             ]
            ],
            "type": "heatmapgl"
           }
          ],
          "histogram": [
           {
            "marker": {
             "colorbar": {
              "outlinewidth": 0,
              "ticks": ""
             }
            },
            "type": "histogram"
           }
          ],
          "histogram2d": [
           {
            "colorbar": {
             "outlinewidth": 0,
             "ticks": ""
            },
            "colorscale": [
             [
              0,
              "#0d0887"
             ],
             [
              0.1111111111111111,
              "#46039f"
             ],
             [
              0.2222222222222222,
              "#7201a8"
             ],
             [
              0.3333333333333333,
              "#9c179e"
             ],
             [
              0.4444444444444444,
              "#bd3786"
             ],
             [
              0.5555555555555556,
              "#d8576b"
             ],
             [
              0.6666666666666666,
              "#ed7953"
             ],
             [
              0.7777777777777778,
              "#fb9f3a"
             ],
             [
              0.8888888888888888,
              "#fdca26"
             ],
             [
              1,
              "#f0f921"
             ]
            ],
            "type": "histogram2d"
           }
          ],
          "histogram2dcontour": [
           {
            "colorbar": {
             "outlinewidth": 0,
             "ticks": ""
            },
            "colorscale": [
             [
              0,
              "#0d0887"
             ],
             [
              0.1111111111111111,
              "#46039f"
             ],
             [
              0.2222222222222222,
              "#7201a8"
             ],
             [
              0.3333333333333333,
              "#9c179e"
             ],
             [
              0.4444444444444444,
              "#bd3786"
             ],
             [
              0.5555555555555556,
              "#d8576b"
             ],
             [
              0.6666666666666666,
              "#ed7953"
             ],
             [
              0.7777777777777778,
              "#fb9f3a"
             ],
             [
              0.8888888888888888,
              "#fdca26"
             ],
             [
              1,
              "#f0f921"
             ]
            ],
            "type": "histogram2dcontour"
           }
          ],
          "mesh3d": [
           {
            "colorbar": {
             "outlinewidth": 0,
             "ticks": ""
            },
            "type": "mesh3d"
           }
          ],
          "parcoords": [
           {
            "line": {
             "colorbar": {
              "outlinewidth": 0,
              "ticks": ""
             }
            },
            "type": "parcoords"
           }
          ],
          "pie": [
           {
            "automargin": true,
            "type": "pie"
           }
          ],
          "scatter": [
           {
            "marker": {
             "colorbar": {
              "outlinewidth": 0,
              "ticks": ""
             }
            },
            "type": "scatter"
           }
          ],
          "scatter3d": [
           {
            "line": {
             "colorbar": {
              "outlinewidth": 0,
              "ticks": ""
             }
            },
            "marker": {
             "colorbar": {
              "outlinewidth": 0,
              "ticks": ""
             }
            },
            "type": "scatter3d"
           }
          ],
          "scattercarpet": [
           {
            "marker": {
             "colorbar": {
              "outlinewidth": 0,
              "ticks": ""
             }
            },
            "type": "scattercarpet"
           }
          ],
          "scattergeo": [
           {
            "marker": {
             "colorbar": {
              "outlinewidth": 0,
              "ticks": ""
             }
            },
            "type": "scattergeo"
           }
          ],
          "scattergl": [
           {
            "marker": {
             "colorbar": {
              "outlinewidth": 0,
              "ticks": ""
             }
            },
            "type": "scattergl"
           }
          ],
          "scattermapbox": [
           {
            "marker": {
             "colorbar": {
              "outlinewidth": 0,
              "ticks": ""
             }
            },
            "type": "scattermapbox"
           }
          ],
          "scatterpolar": [
           {
            "marker": {
             "colorbar": {
              "outlinewidth": 0,
              "ticks": ""
             }
            },
            "type": "scatterpolar"
           }
          ],
          "scatterpolargl": [
           {
            "marker": {
             "colorbar": {
              "outlinewidth": 0,
              "ticks": ""
             }
            },
            "type": "scatterpolargl"
           }
          ],
          "scatterternary": [
           {
            "marker": {
             "colorbar": {
              "outlinewidth": 0,
              "ticks": ""
             }
            },
            "type": "scatterternary"
           }
          ],
          "surface": [
           {
            "colorbar": {
             "outlinewidth": 0,
             "ticks": ""
            },
            "colorscale": [
             [
              0,
              "#0d0887"
             ],
             [
              0.1111111111111111,
              "#46039f"
             ],
             [
              0.2222222222222222,
              "#7201a8"
             ],
             [
              0.3333333333333333,
              "#9c179e"
             ],
             [
              0.4444444444444444,
              "#bd3786"
             ],
             [
              0.5555555555555556,
              "#d8576b"
             ],
             [
              0.6666666666666666,
              "#ed7953"
             ],
             [
              0.7777777777777778,
              "#fb9f3a"
             ],
             [
              0.8888888888888888,
              "#fdca26"
             ],
             [
              1,
              "#f0f921"
             ]
            ],
            "type": "surface"
           }
          ],
          "table": [
           {
            "cells": {
             "fill": {
              "color": "#EBF0F8"
             },
             "line": {
              "color": "white"
             }
            },
            "header": {
             "fill": {
              "color": "#C8D4E3"
             },
             "line": {
              "color": "white"
             }
            },
            "type": "table"
           }
          ]
         },
         "layout": {
          "annotationdefaults": {
           "arrowcolor": "#2a3f5f",
           "arrowhead": 0,
           "arrowwidth": 1
          },
          "coloraxis": {
           "colorbar": {
            "outlinewidth": 0,
            "ticks": ""
           }
          },
          "colorscale": {
           "diverging": [
            [
             0,
             "#8e0152"
            ],
            [
             0.1,
             "#c51b7d"
            ],
            [
             0.2,
             "#de77ae"
            ],
            [
             0.3,
             "#f1b6da"
            ],
            [
             0.4,
             "#fde0ef"
            ],
            [
             0.5,
             "#f7f7f7"
            ],
            [
             0.6,
             "#e6f5d0"
            ],
            [
             0.7,
             "#b8e186"
            ],
            [
             0.8,
             "#7fbc41"
            ],
            [
             0.9,
             "#4d9221"
            ],
            [
             1,
             "#276419"
            ]
           ],
           "sequential": [
            [
             0,
             "#0d0887"
            ],
            [
             0.1111111111111111,
             "#46039f"
            ],
            [
             0.2222222222222222,
             "#7201a8"
            ],
            [
             0.3333333333333333,
             "#9c179e"
            ],
            [
             0.4444444444444444,
             "#bd3786"
            ],
            [
             0.5555555555555556,
             "#d8576b"
            ],
            [
             0.6666666666666666,
             "#ed7953"
            ],
            [
             0.7777777777777778,
             "#fb9f3a"
            ],
            [
             0.8888888888888888,
             "#fdca26"
            ],
            [
             1,
             "#f0f921"
            ]
           ],
           "sequentialminus": [
            [
             0,
             "#0d0887"
            ],
            [
             0.1111111111111111,
             "#46039f"
            ],
            [
             0.2222222222222222,
             "#7201a8"
            ],
            [
             0.3333333333333333,
             "#9c179e"
            ],
            [
             0.4444444444444444,
             "#bd3786"
            ],
            [
             0.5555555555555556,
             "#d8576b"
            ],
            [
             0.6666666666666666,
             "#ed7953"
            ],
            [
             0.7777777777777778,
             "#fb9f3a"
            ],
            [
             0.8888888888888888,
             "#fdca26"
            ],
            [
             1,
             "#f0f921"
            ]
           ]
          },
          "colorway": [
           "#636efa",
           "#EF553B",
           "#00cc96",
           "#ab63fa",
           "#FFA15A",
           "#19d3f3",
           "#FF6692",
           "#B6E880",
           "#FF97FF",
           "#FECB52"
          ],
          "font": {
           "color": "#2a3f5f"
          },
          "geo": {
           "bgcolor": "white",
           "lakecolor": "white",
           "landcolor": "#E5ECF6",
           "showlakes": true,
           "showland": true,
           "subunitcolor": "white"
          },
          "hoverlabel": {
           "align": "left"
          },
          "hovermode": "closest",
          "mapbox": {
           "style": "light"
          },
          "paper_bgcolor": "white",
          "plot_bgcolor": "#E5ECF6",
          "polar": {
           "angularaxis": {
            "gridcolor": "white",
            "linecolor": "white",
            "ticks": ""
           },
           "bgcolor": "#E5ECF6",
           "radialaxis": {
            "gridcolor": "white",
            "linecolor": "white",
            "ticks": ""
           }
          },
          "scene": {
           "xaxis": {
            "backgroundcolor": "#E5ECF6",
            "gridcolor": "white",
            "gridwidth": 2,
            "linecolor": "white",
            "showbackground": true,
            "ticks": "",
            "zerolinecolor": "white"
           },
           "yaxis": {
            "backgroundcolor": "#E5ECF6",
            "gridcolor": "white",
            "gridwidth": 2,
            "linecolor": "white",
            "showbackground": true,
            "ticks": "",
            "zerolinecolor": "white"
           },
           "zaxis": {
            "backgroundcolor": "#E5ECF6",
            "gridcolor": "white",
            "gridwidth": 2,
            "linecolor": "white",
            "showbackground": true,
            "ticks": "",
            "zerolinecolor": "white"
           }
          },
          "shapedefaults": {
           "line": {
            "color": "#2a3f5f"
           }
          },
          "ternary": {
           "aaxis": {
            "gridcolor": "white",
            "linecolor": "white",
            "ticks": ""
           },
           "baxis": {
            "gridcolor": "white",
            "linecolor": "white",
            "ticks": ""
           },
           "bgcolor": "#E5ECF6",
           "caxis": {
            "gridcolor": "white",
            "linecolor": "white",
            "ticks": ""
           }
          },
          "title": {
           "x": 0.05
          },
          "xaxis": {
           "automargin": true,
           "gridcolor": "white",
           "linecolor": "white",
           "ticks": "",
           "title": {
            "standoff": 15
           },
           "zerolinecolor": "white",
           "zerolinewidth": 2
          },
          "yaxis": {
           "automargin": true,
           "gridcolor": "white",
           "linecolor": "white",
           "ticks": "",
           "title": {
            "standoff": 15
           },
           "zerolinecolor": "white",
           "zerolinewidth": 2
          }
         }
        },
        "title": {
         "text": "Stream Time vs Total Income"
        },
        "xaxis": {
         "anchor": "y",
         "domain": [
          0,
          1
         ],
         "title": {
          "text": "Stream time"
         }
        },
        "yaxis": {
         "anchor": "x",
         "domain": [
          0,
          1
         ],
         "title": {
          "text": "Total Income"
         }
        }
       }
      },
      "text/html": [
       "<div>\n",
       "        \n",
       "        \n",
       "            <div id=\"a217d01d-ee91-428b-a12f-dfe449269fd8\" class=\"plotly-graph-div\" style=\"height:525px; width:100%;\"></div>\n",
       "            <script type=\"text/javascript\">\n",
       "                require([\"plotly\"], function(Plotly) {\n",
       "                    window.PLOTLYENV=window.PLOTLYENV || {};\n",
       "                    \n",
       "                if (document.getElementById(\"a217d01d-ee91-428b-a12f-dfe449269fd8\")) {\n",
       "                    Plotly.newPlot(\n",
       "                        'a217d01d-ee91-428b-a12f-dfe449269fd8',\n",
       "                        [{\"hovertemplate\": \"Stream time=%{x}<br>Total Income=%{y}<extra></extra>\", \"legendgroup\": \"\", \"marker\": {\"color\": \"#636efa\", \"symbol\": \"circle\"}, \"mode\": \"markers\", \"name\": \"\", \"orientation\": \"v\", \"showlegend\": false, \"type\": \"scatter\", \"x\": [15510, 15810, 13425, 13935, 13920, 15015, 11385, 12195, 10980, 10995, 10875, 11910, 10350, 10530, 9870, 11085, 10785, 16380, 14610, 13980, 13695, 13260, 12885, 12900, 13725, 14070, 15105, 11055, 11775, 9975, 10665, 12255, 11340, 10875, 9990, 9360, 11025, 9990, 7845, 9600, 8685, 8340, 8250, 6810, 8175, 7650, 8100, 7080, 13185, 17850, 16185, 13350, 14070, 11940, 13755, 13515, 14070, 13365, 12600, 12060, 11595, 11970, 12510, 11400, 10125, 9705, 8325, 8070, 7680, 7080, 7290, 6825, 6150, 6855, 5970, 6960, 6495, 5685, 7110, 5355, 6375, 15840, 14775, 18030, 13260, 12840, 15540, 12330, 14895, 13740, 14895, 13560, 12075, 14520, 11220, 10170, 14220, 4530, 6615, 4995, 5205, 4965, 3570, 4170, 4005, 3585, 3630, 4410, 3720, 3870, 13875, 11940, 6900, 14700, 14400, 11310, 12900, 9555, 6570, 7170, 13365, 11205, 11925, 15765, 12195, 16095, 10935, 11145, 12300, 11250, 11235, 10260, 9750, 11025, 9600, 11040, 10020, 10695, 9060, 10170, 9210, 9090, 8235, 13350, 13635, 12720, 14160, 13530, 13125, 12960, 12435, 11685, 11970, 13020, 13110, 12075, 12960, 13860, 12240, 11640, 10755, 10980, 9840, 10500, 12615, 10560, 13590, 10590, 10350, 10605, 10695, 9345, 11385, 10620, 8565, 7875, 6495, 8235, 6600, 5220, 5280, 5370, 3675, 4860, 4395, 5730, 4110, 4140, 3645, 3750, 3360, 2805, 18150, 11460, 15240, 16575, 12075, 10380, 12240, 8985, 10650, 8985, 9900, 10965, 10260, 8145, 8700, 7680, 8055, 13770, 13560, 13035, 12765, 11910, 11475, 14160, 10815, 11490, 11760, 11805, 10980, 12090, 10470, 10140, 8775, 10770, 43335, 40905, 41685, 40545, 32115, 13185, 14550, 14895, 12750, 11910, 13080, 12435, 11325, 12180, 12360, 6750, 10020, 10815, 11310, 13365, 12930, 10980, 11145, 11055, 11910, 13695, 10020, 9075, 9330, 11790, 10335, 7965, 6195, 10170, 6015, 9465, 10980, 10365, 9645, 10800, 8970, 7770, 9165, 11280, 7590, 9840, 9735, 9180, 7200, 6960, 7110, 6570, 15645, 13815, 13815, 12045, 12900, 12825, 13665, 11220, 11595, 10095, 12570, 14865, 14235, 15540, 18210, 14190, 13035, 17055, 13890, 13095, 13530, 13215, 13800, 17865, 12420, 10080, 8475, 7605, 7545, 6840, 8430, 7980, 7815, 6795, 7590, 5820, 6585, 16365, 12210, 14985, 12225, 9435, 10710, 10080, 8055, 9855, 8205, 5685, 4155, 8295, 8835, 9090, 9615, 11430, 8685, 8775, 9060, 8595, 8670, 9075, 8115, 8025, 7275, 5775, 6015, 14070, 12315, 12075, 12480, 13245, 11925, 12060, 12480, 12630, 11790, 11910, 11490, 11115, 11220, 19935, 22140, 20550, 19605, 18495, 18510, 17235, 17400, 16650, 19365, 16050, 21285, 16695, 12285, 12330, 10815, 9870, 9585, 10965, 8475, 11205, 9975, 9705, 9435, 9345, 7800, 9090, 8280, 44295, 42810, 40830, 41430, 43350, 42990, 42300, 44145, 43965, 26715, 26670, 25080, 29085, 27810, 17400, 13980, 15330, 12735, 10530, 9075, 12210, 7830, 10080, 10230, 9420, 8775, 6975, 5205, 12390, 11310, 14295, 14295, 14295, 13095, 14115, 12705, 9615, 11085, 10035, 9255, 11820, 12195, 9000, 10455, 8775, 13275, 14115, 10020, 17370, 10455, 12900, 10980, 10545, 6720, 8085, 11460, 7770, 5805, 5430, 4590, 5190, 21045, 16695, 17250, 19275, 22425, 14400, 16260, 18480, 15795, 12690, 16200, 16125, 16965, 13305, 11880, 16800, 11160, 21000, 17535, 19260, 20070, 17685, 18435, 16530, 18390, 20010, 18645, 16290, 15345, 16380, 17835, 14580, 16860, 14895, 17430, 18840, 13860, 17775, 17610, 18390, 19290, 17295, 15795, 17040, 17025, 13500, 14310, 14445, 13905, 10695, 16200, 15285, 15555, 15825, 13605, 16065, 16110, 15945, 15060, 14985, 15210, 14955, 12675, 15150, 12705, 13260, 11535], \"xaxis\": \"x\", \"y\": [51991.59, 65543.89, 53762.42, 53793.14, 69126.18, 84154.99, 79107.66, 47713.7, 53487.11, 81827.18, 50275.57, 97509.19, 46421.85, 81206.79, 48352.42, 43448.75, 60639.55, 21099.21, 14073.08, 12806.56, 13319.79, 18805.73, 13169.89, 14902.13, 14228.52, 10334.6, 10818.66, 12227.13, 12445.88, 9455.65, 9007.0, 12745.29, 13283.58, 52761.41, 39907.08, 24048.28, 43299.83, 38229.51, 48630.41, 68035.23, 33010.29, 45216.03, 22706.0, 38908.94, 24567.14, 21433.76, 18823.33, 23913.96, 47680.95, 52379.79, 25777.12, 42267.49, 68756.18, 50177.83, 48723.91, 46279.09, 42711.26, 42541.39, 37945.06, 39942.74, 41680.53, 48701.05, 48584.7, 47518.02, 40930.85, 77072.43, 70417.45, 66488.28, 72256.96, 62167.87, 51403.55, 42941.62, 76469.56, 46092.83, 79189.4, 55301.15, 61763.41, 54856.56, 45052.09, 47086.8, 49938.42, 74101.78, 86355.57, 55752.85, 97436.21, 53616.78, 61637.82, 56059.59, 59009.63, 64033.63, 69703.63, 60860.12, 67993.26, 47602.33, 64136.39, 63480.55, 56284.41, 29546.97, 23893.42, 20355.13, 17775.48, 16637.53, 24587.01, 17076.77, 19711.44, 21138.62, 26014.23, 15519.56, 20130.81, 20859.25, 26657.39, 28563.78, 18325.87, 12606.39, 23428.86, 14147.04, 20007.2, 16134.26, 13798.2, 14387.22, 15139.03, 14679.95, 15924.34, 13880.83, 14674.46, 13533.51, 42541.85, 25754.59, 44187.96, 24941.46, 26563.21, 31608.58, 32686.37, 26098.96, 47278.15, 27581.2, 28240.11, 41658.06, 28773.97, 24567.28, 26882.64, 24177.98, 26377.94, 27871.72, 26971.39, 47288.64, 43445.73, 35281.12, 35290.77, 27780.84, 31564.06, 27757.21, 46267.56, 31846.07, 34469.8, 34032.19, 34400.57, 15839.53, 59556.6, 62522.37, 63589.81, 58521.71, 56558.96, 45207.07, 53111.38, 58132.98, 52643.28, 57477.67, 52980.58, 58817.86, 61640.31, 51424.74, 84513.35, 57052.17, 52881.75, 57776.71, 47571.02, 38868.71, 35575.0, 32741.56, 26837.56, 30630.17, 18474.1, 22146.95, 24832.06, 22481.13, 25659.77, 17381.65, 12890.62, 17426.71, 13045.1, 11313.33, 133265.24, 122537.36, 149430.18, 113652.56, 92749.93, 96595.63, 100899.23, 90658.0, 106524.05, 65567.7, 92850.01, 82039.17, 67315.29, 125677.51, 67497.57, 54433.8, 85671.89, 23802.84, 19195.48, 19335.71, 16423.18, 18950.28, 17991.7, 15715.78, 19693.33, 13449.2, 13497.27, 12485.49, 17427.85, 16284.1, 18341.26, 11766.99, 13807.64, 14054.99, 6227.52, 3967.05, 3807.37, 2729.53, 3398.19, 10369.24, 6866.3, 13728.11, 1796.44, 7275.55, 2310.75, 7994.1, 8962.34, 2539.99, 928.14, 1612.03, 1596.86, 1986.56, 54636.18, 86851.49, 41578.52, 43445.18, 48042.08, 53711.3, 45080.63, 67218.32, 49568.11, 59803.84, 51255.83, 41688.53, 32492.82, 28939.0, 25719.23, 44249.84, 34626.78, 86756.49, 86191.6, 50450.17, 84391.7, 69553.59, 50087.86, 58745.97, 46946.44, 49680.55, 52413.19, 58881.02, 39235.3, 39514.7, 38266.46, 47725.65, 49161.85, 32263.35, 49806.61, 42406.39, 38354.28, 42221.53, 39317.81, 61831.92, 29471.94, 26243.75, 29232.54, 31018.99, 31467.63, 53486.31, 47735.26, 33205.63, 47854.03, 38751.11, 25408.31, 42005.07, 30783.95, 29980.74, 31048.76, 22739.15, 30258.34, 19938.05, 16512.48, 13624.68, 19298.09, 14787.13, 8734.16, 9523.26, 9358.57, 10724.35, 12481.27, 10859.92, 11800.58, 11828.34, 12486.52, 1946.14, 1751.54, 1746.53, 3952.1, 1501.99, 2949.1, 2814.37, 2639.82, 3388.23, 1581.84, 1117.77, 2130.89, 6723.55, 4421.5, 5356.33, 5465.35, 5355.63, 6774.25, 5839.82, 8774.72, 6839.72, 9370.59, 6633.67, 7098.16, 6718.48, 8170.49, 5296.71, 4547.15, 21733.5, 20611.58, 20800.85, 20511.46, 32926.16, 33614.73, 18264.87, 20600.7, 22731.24, 24981.31, 23659.17, 19502.06, 24732.27, 23728.88, 379.44, 419.35, 264.57, 334.62, 224.66, 629.55, 289.67, 694.25, 269.69, 469.71, 184.75, 5087.71, 774.49, 23779.84, 25051.79, 22002.47, 19167.94, 33316.11, 22431.61, 19716.74, 18933.3, 20600.37, 19626.9, 16583.0, 18409.39, 16523.23, 21448.48, 14861.29, 0.0, 64.9, 109.84, 89.85, 109.83, 74.87, 94.85, 79.87, 74.88, 29.95, 59.9, 34.94, 79.86, 59.9, 17730.51, 20604.56, 19102.62, 12730.3, 15055.73, 9032.36, 14881.91, 11053.5, 11982.03, 12296.1, 13927.84, 12221.01, 12241.24, 9596.31, 2599.91, 3523.18, 3018.97, 6397.61, 10491.02, 2709.7, 4795.54, 3483.13, 3563.05, 3343.48, 3587.99, 2994.69, 2969.26, 3203.81, 2465.25, 2739.54, 6851.53, 27296.6, 45535.0, 22590.34, 19047.6, 42262.36, 14416.67, 17415.62, 25504.6, 11477.24, 23463.67, 16562.57, 20609.46, 16696.89, 14735.96, 22091.64, 11028.28, 146092.02, 63122.31, 54414.23, 66392.13, 52065.73, 72184.58, 59391.01, 87398.12, 42883.27, 63754.25, 43255.15, 39100.8, 41336.59, 35777.31, 32039.37, 30094.17, 43273.01, 72896.86, 73100.89, 59044.4, 43041.44, 50735.82, 49837.64, 53939.04, 58559.49, 38515.46, 47302.66, 64702.74, 53465.54, 40017.8, 34518.74, 42329.17, 33600.27, 31643.66, 26110.83, 25537.21, 38027.35, 26958.5, 22142.26, 22099.54, 24221.38, 10047.4, 21296.75, 24809.98, 25879.76, 20269.91, 21562.32, 25263.69, 19805.24, 23127.09, 6009.1, 8660.23, 10162.98, 12959.26, 7291.44, 13063.31, 12109.88, 13534.95, 7946.2, 9314.22, 7163.75, 12975.57, 12251.66, 11781.88, 11772.36, 12442.28, 18632.5], \"yaxis\": \"y\"}],\n",
       "                        {\"legend\": {\"tracegroupgap\": 0}, \"template\": {\"data\": {\"bar\": [{\"error_x\": {\"color\": \"#2a3f5f\"}, \"error_y\": {\"color\": \"#2a3f5f\"}, \"marker\": {\"line\": {\"color\": \"#E5ECF6\", \"width\": 0.5}}, \"type\": \"bar\"}], \"barpolar\": [{\"marker\": {\"line\": {\"color\": \"#E5ECF6\", \"width\": 0.5}}, \"type\": \"barpolar\"}], \"carpet\": [{\"aaxis\": {\"endlinecolor\": \"#2a3f5f\", \"gridcolor\": \"white\", \"linecolor\": \"white\", \"minorgridcolor\": \"white\", \"startlinecolor\": \"#2a3f5f\"}, \"baxis\": {\"endlinecolor\": \"#2a3f5f\", \"gridcolor\": \"white\", \"linecolor\": \"white\", \"minorgridcolor\": \"white\", \"startlinecolor\": \"#2a3f5f\"}, \"type\": \"carpet\"}], \"choropleth\": [{\"colorbar\": {\"outlinewidth\": 0, \"ticks\": \"\"}, \"type\": \"choropleth\"}], \"contour\": [{\"colorbar\": {\"outlinewidth\": 0, \"ticks\": \"\"}, \"colorscale\": [[0.0, \"#0d0887\"], [0.1111111111111111, \"#46039f\"], [0.2222222222222222, \"#7201a8\"], [0.3333333333333333, \"#9c179e\"], [0.4444444444444444, \"#bd3786\"], [0.5555555555555556, \"#d8576b\"], [0.6666666666666666, \"#ed7953\"], [0.7777777777777778, \"#fb9f3a\"], [0.8888888888888888, \"#fdca26\"], [1.0, \"#f0f921\"]], \"type\": \"contour\"}], \"contourcarpet\": [{\"colorbar\": {\"outlinewidth\": 0, \"ticks\": \"\"}, \"type\": \"contourcarpet\"}], \"heatmap\": [{\"colorbar\": {\"outlinewidth\": 0, \"ticks\": \"\"}, \"colorscale\": [[0.0, \"#0d0887\"], [0.1111111111111111, \"#46039f\"], [0.2222222222222222, \"#7201a8\"], [0.3333333333333333, \"#9c179e\"], [0.4444444444444444, \"#bd3786\"], [0.5555555555555556, \"#d8576b\"], [0.6666666666666666, \"#ed7953\"], [0.7777777777777778, \"#fb9f3a\"], [0.8888888888888888, \"#fdca26\"], [1.0, \"#f0f921\"]], \"type\": \"heatmap\"}], \"heatmapgl\": [{\"colorbar\": {\"outlinewidth\": 0, \"ticks\": \"\"}, \"colorscale\": [[0.0, \"#0d0887\"], [0.1111111111111111, \"#46039f\"], [0.2222222222222222, \"#7201a8\"], [0.3333333333333333, \"#9c179e\"], [0.4444444444444444, \"#bd3786\"], [0.5555555555555556, \"#d8576b\"], [0.6666666666666666, \"#ed7953\"], [0.7777777777777778, \"#fb9f3a\"], [0.8888888888888888, \"#fdca26\"], [1.0, \"#f0f921\"]], \"type\": \"heatmapgl\"}], \"histogram\": [{\"marker\": {\"colorbar\": {\"outlinewidth\": 0, \"ticks\": \"\"}}, \"type\": \"histogram\"}], \"histogram2d\": [{\"colorbar\": {\"outlinewidth\": 0, \"ticks\": \"\"}, \"colorscale\": [[0.0, \"#0d0887\"], [0.1111111111111111, \"#46039f\"], [0.2222222222222222, \"#7201a8\"], [0.3333333333333333, \"#9c179e\"], [0.4444444444444444, \"#bd3786\"], [0.5555555555555556, \"#d8576b\"], [0.6666666666666666, \"#ed7953\"], [0.7777777777777778, \"#fb9f3a\"], [0.8888888888888888, \"#fdca26\"], [1.0, \"#f0f921\"]], \"type\": \"histogram2d\"}], \"histogram2dcontour\": [{\"colorbar\": {\"outlinewidth\": 0, \"ticks\": \"\"}, \"colorscale\": [[0.0, \"#0d0887\"], [0.1111111111111111, \"#46039f\"], [0.2222222222222222, \"#7201a8\"], [0.3333333333333333, \"#9c179e\"], [0.4444444444444444, \"#bd3786\"], [0.5555555555555556, \"#d8576b\"], [0.6666666666666666, \"#ed7953\"], [0.7777777777777778, \"#fb9f3a\"], [0.8888888888888888, \"#fdca26\"], [1.0, \"#f0f921\"]], \"type\": \"histogram2dcontour\"}], \"mesh3d\": [{\"colorbar\": {\"outlinewidth\": 0, \"ticks\": \"\"}, \"type\": \"mesh3d\"}], \"parcoords\": [{\"line\": {\"colorbar\": {\"outlinewidth\": 0, \"ticks\": \"\"}}, \"type\": \"parcoords\"}], \"pie\": [{\"automargin\": true, \"type\": \"pie\"}], \"scatter\": [{\"marker\": {\"colorbar\": {\"outlinewidth\": 0, \"ticks\": \"\"}}, \"type\": \"scatter\"}], \"scatter3d\": [{\"line\": {\"colorbar\": {\"outlinewidth\": 0, \"ticks\": \"\"}}, \"marker\": {\"colorbar\": {\"outlinewidth\": 0, \"ticks\": \"\"}}, \"type\": \"scatter3d\"}], \"scattercarpet\": [{\"marker\": {\"colorbar\": {\"outlinewidth\": 0, \"ticks\": \"\"}}, \"type\": \"scattercarpet\"}], \"scattergeo\": [{\"marker\": {\"colorbar\": {\"outlinewidth\": 0, \"ticks\": \"\"}}, \"type\": \"scattergeo\"}], \"scattergl\": [{\"marker\": {\"colorbar\": {\"outlinewidth\": 0, \"ticks\": \"\"}}, \"type\": \"scattergl\"}], \"scattermapbox\": [{\"marker\": {\"colorbar\": {\"outlinewidth\": 0, \"ticks\": \"\"}}, \"type\": \"scattermapbox\"}], \"scatterpolar\": [{\"marker\": {\"colorbar\": {\"outlinewidth\": 0, \"ticks\": \"\"}}, \"type\": \"scatterpolar\"}], \"scatterpolargl\": [{\"marker\": {\"colorbar\": {\"outlinewidth\": 0, \"ticks\": \"\"}}, \"type\": \"scatterpolargl\"}], \"scatterternary\": [{\"marker\": {\"colorbar\": {\"outlinewidth\": 0, \"ticks\": \"\"}}, \"type\": \"scatterternary\"}], \"surface\": [{\"colorbar\": {\"outlinewidth\": 0, \"ticks\": \"\"}, \"colorscale\": [[0.0, \"#0d0887\"], [0.1111111111111111, \"#46039f\"], [0.2222222222222222, \"#7201a8\"], [0.3333333333333333, \"#9c179e\"], [0.4444444444444444, \"#bd3786\"], [0.5555555555555556, \"#d8576b\"], [0.6666666666666666, \"#ed7953\"], [0.7777777777777778, \"#fb9f3a\"], [0.8888888888888888, \"#fdca26\"], [1.0, \"#f0f921\"]], \"type\": \"surface\"}], \"table\": [{\"cells\": {\"fill\": {\"color\": \"#EBF0F8\"}, \"line\": {\"color\": \"white\"}}, \"header\": {\"fill\": {\"color\": \"#C8D4E3\"}, \"line\": {\"color\": \"white\"}}, \"type\": \"table\"}]}, \"layout\": {\"annotationdefaults\": {\"arrowcolor\": \"#2a3f5f\", \"arrowhead\": 0, \"arrowwidth\": 1}, \"coloraxis\": {\"colorbar\": {\"outlinewidth\": 0, \"ticks\": \"\"}}, \"colorscale\": {\"diverging\": [[0, \"#8e0152\"], [0.1, \"#c51b7d\"], [0.2, \"#de77ae\"], [0.3, \"#f1b6da\"], [0.4, \"#fde0ef\"], [0.5, \"#f7f7f7\"], [0.6, \"#e6f5d0\"], [0.7, \"#b8e186\"], [0.8, \"#7fbc41\"], [0.9, \"#4d9221\"], [1, \"#276419\"]], \"sequential\": [[0.0, \"#0d0887\"], [0.1111111111111111, \"#46039f\"], [0.2222222222222222, \"#7201a8\"], [0.3333333333333333, \"#9c179e\"], [0.4444444444444444, \"#bd3786\"], [0.5555555555555556, \"#d8576b\"], [0.6666666666666666, \"#ed7953\"], [0.7777777777777778, \"#fb9f3a\"], [0.8888888888888888, \"#fdca26\"], [1.0, \"#f0f921\"]], \"sequentialminus\": [[0.0, \"#0d0887\"], [0.1111111111111111, \"#46039f\"], [0.2222222222222222, \"#7201a8\"], [0.3333333333333333, \"#9c179e\"], [0.4444444444444444, \"#bd3786\"], [0.5555555555555556, \"#d8576b\"], [0.6666666666666666, \"#ed7953\"], [0.7777777777777778, \"#fb9f3a\"], [0.8888888888888888, \"#fdca26\"], [1.0, \"#f0f921\"]]}, \"colorway\": [\"#636efa\", \"#EF553B\", \"#00cc96\", \"#ab63fa\", \"#FFA15A\", \"#19d3f3\", \"#FF6692\", \"#B6E880\", \"#FF97FF\", \"#FECB52\"], \"font\": {\"color\": \"#2a3f5f\"}, \"geo\": {\"bgcolor\": \"white\", \"lakecolor\": \"white\", \"landcolor\": \"#E5ECF6\", \"showlakes\": true, \"showland\": true, \"subunitcolor\": \"white\"}, \"hoverlabel\": {\"align\": \"left\"}, \"hovermode\": \"closest\", \"mapbox\": {\"style\": \"light\"}, \"paper_bgcolor\": \"white\", \"plot_bgcolor\": \"#E5ECF6\", \"polar\": {\"angularaxis\": {\"gridcolor\": \"white\", \"linecolor\": \"white\", \"ticks\": \"\"}, \"bgcolor\": \"#E5ECF6\", \"radialaxis\": {\"gridcolor\": \"white\", \"linecolor\": \"white\", \"ticks\": \"\"}}, \"scene\": {\"xaxis\": {\"backgroundcolor\": \"#E5ECF6\", \"gridcolor\": \"white\", \"gridwidth\": 2, \"linecolor\": \"white\", \"showbackground\": true, \"ticks\": \"\", \"zerolinecolor\": \"white\"}, \"yaxis\": {\"backgroundcolor\": \"#E5ECF6\", \"gridcolor\": \"white\", \"gridwidth\": 2, \"linecolor\": \"white\", \"showbackground\": true, \"ticks\": \"\", \"zerolinecolor\": \"white\"}, \"zaxis\": {\"backgroundcolor\": \"#E5ECF6\", \"gridcolor\": \"white\", \"gridwidth\": 2, \"linecolor\": \"white\", \"showbackground\": true, \"ticks\": \"\", \"zerolinecolor\": \"white\"}}, \"shapedefaults\": {\"line\": {\"color\": \"#2a3f5f\"}}, \"ternary\": {\"aaxis\": {\"gridcolor\": \"white\", \"linecolor\": \"white\", \"ticks\": \"\"}, \"baxis\": {\"gridcolor\": \"white\", \"linecolor\": \"white\", \"ticks\": \"\"}, \"bgcolor\": \"#E5ECF6\", \"caxis\": {\"gridcolor\": \"white\", \"linecolor\": \"white\", \"ticks\": \"\"}}, \"title\": {\"x\": 0.05}, \"xaxis\": {\"automargin\": true, \"gridcolor\": \"white\", \"linecolor\": \"white\", \"ticks\": \"\", \"title\": {\"standoff\": 15}, \"zerolinecolor\": \"white\", \"zerolinewidth\": 2}, \"yaxis\": {\"automargin\": true, \"gridcolor\": \"white\", \"linecolor\": \"white\", \"ticks\": \"\", \"title\": {\"standoff\": 15}, \"zerolinecolor\": \"white\", \"zerolinewidth\": 2}}}, \"title\": {\"text\": \"Stream Time vs Total Income\"}, \"xaxis\": {\"anchor\": \"y\", \"domain\": [0.0, 1.0], \"title\": {\"text\": \"Stream time\"}}, \"yaxis\": {\"anchor\": \"x\", \"domain\": [0.0, 1.0], \"title\": {\"text\": \"Total Income\"}}},\n",
       "                        {\"responsive\": true}\n",
       "                    ).then(function(){\n",
       "                            \n",
       "var gd = document.getElementById('a217d01d-ee91-428b-a12f-dfe449269fd8');\n",
       "var x = new MutationObserver(function (mutations, observer) {{\n",
       "        var display = window.getComputedStyle(gd).display;\n",
       "        if (!display || display === 'none') {{\n",
       "            console.log([gd, 'removed!']);\n",
       "            Plotly.purge(gd);\n",
       "            observer.disconnect();\n",
       "        }}\n",
       "}});\n",
       "\n",
       "// Listen for the removal of the full notebook cells\n",
       "var notebookContainer = gd.closest('#notebook-container');\n",
       "if (notebookContainer) {{\n",
       "    x.observe(notebookContainer, {childList: true});\n",
       "}}\n",
       "\n",
       "// Listen for the clearing of the current output cell\n",
       "var outputEl = gd.closest('.output');\n",
       "if (outputEl) {{\n",
       "    x.observe(outputEl, {childList: true});\n",
       "}}\n",
       "\n",
       "                        })\n",
       "                };\n",
       "                });\n",
       "            </script>\n",
       "        </div>"
      ]
     },
     "metadata": {},
     "output_type": "display_data"
    }
   ],
   "source": [
    "fig = px.scatter(finaldata, x=\"Stream time\", y=\"Total Income\", title=\"Stream Time vs Total Income\")\n",
    "fig.show()"
   ]
  },
  {
   "cell_type": "markdown",
   "metadata": {},
   "source": [
    "### 3.3. Model Construction\n",
    "* Conduct your hypothesis test(s) here.\n",
    "* For your machine learning question(s), use the Training, Validation, and Testing approach through GridSearch\n",
    "* Apply machine learning algorithms (apply at least three different algorithms)\n",
    "* Train your algorithms"
   ]
  },
  {
   "cell_type": "code",
   "execution_count": null,
   "metadata": {},
   "outputs": [],
   "source": []
  },
  {
   "cell_type": "markdown",
   "metadata": {},
   "source": [
    "### 3.4. Model Evaluation\n",
    "* Evaluate the performance of your algorithms on appropriate evaluation metrics, using your validation set\n",
    "    * Use at least two different metrics \n",
    "* Evaluate your results from multiple ML models and hypothesis tests\n",
    "    * What was the performance of each algorithm in plain English? Is there any indication of overfitting/underfitting?\n",
    "    * Was there a significant difference? Use the template from lecture slides when reporting the results of your hypothesis testing."
   ]
  },
  {
   "cell_type": "markdown",
   "metadata": {},
   "source": [
    "### 3.5. Model Optimization\n",
    "* Tune your models using appropriate hyperparameters\n",
    "* Explain why you are doing this (e.g., to avoid overfitting, etc.)"
   ]
  },
  {
   "cell_type": "markdown",
   "metadata": {},
   "source": [
    "### 3.6. Model Testing\n",
    "* Test your tuned algorithms using your testing set"
   ]
  },
  {
   "cell_type": "markdown",
   "metadata": {},
   "source": [
    "<a id=\"4\"></a>\n",
    "<hr style=\"height:2px; border:none; color:black; background-color:black;\">"
   ]
  },
  {
   "cell_type": "markdown",
   "metadata": {},
   "source": [
    "## 4. DISCUSSION\n",
    "* Provide a summary of the steps you took to analyze your data and test your predictive model\n",
    "* Interpret your findings from 3.4., 3.5, and 3.6\n",
    "    * Which algorithms did you compare?\n",
    "    * Which algorithm(s) revealed best performance?\n",
    "    * Which algorithm(s) should be used for your predictive model?\n",
    "    * Based on your findings, can we you the features in your dataset to predict the outcome variable you identified using the algorithms you've applied? (It is okay if the answer is no. We're interested in the process, not the performance of the model.)\n",
    "* For your hypotheses, interpret the results. What does it mean to have significant/non-significant differences with regards to your data?\n",
    "\n",
    "\n",
    "* End this section with a conclusion paragraph containing some pointers for future work\n",
    "    * (e.g., get more data/features, perform another analysis, etc.)"
   ]
  },
  {
   "cell_type": "markdown",
   "metadata": {},
   "source": [
    "<a id=\"5\"></a>\n",
    "<hr style=\"height:2px; border:none; color:black; background-color:black;\">"
   ]
  },
  {
   "cell_type": "markdown",
   "metadata": {},
   "source": [
    "### CONTRIBUTIONS\n",
    "* Describe each team member's contributions to the report (who did what in each section)\n",
    "* Remember this is a team effort!\n",
    "* Each member of your team will provide peer evaluation of other team members. Your final grade on the project will be based on those peer evaluations. An survey will be shared after the deadline for this deliverable."
   ]
  },
  {
   "cell_type": "code",
   "execution_count": null,
   "metadata": {},
   "outputs": [],
   "source": []
  }
 ],
 "metadata": {
  "kernelspec": {
   "display_name": "Python 3",
   "language": "python",
   "name": "python3"
  },
  "language_info": {
   "codemirror_mode": {
    "name": "ipython",
    "version": 3
   },
   "file_extension": ".py",
   "mimetype": "text/x-python",
   "name": "python",
   "nbconvert_exporter": "python",
   "pygments_lexer": "ipython3",
   "version": "3.7.6"
  }
 },
 "nbformat": 4,
 "nbformat_minor": 2
}
