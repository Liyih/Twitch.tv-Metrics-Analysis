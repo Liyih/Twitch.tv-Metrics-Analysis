{
 "cells": [
  {
   "cell_type": "markdown",
   "metadata": {},
   "source": [
    "<center> <h2> DS 3000 - Summer 2020</h2> </center>\n",
    "<center> <h3> DS Report </h3> </center>\n"
   ]
  },
  {
   "cell_type": "markdown",
   "metadata": {},
   "source": [
    "<center> <h3> Analysis and Prediction of Twitch Channel Growth</h3> </center>\n",
    "<center><h4>Carrine Shrestha, Yihang Li</h4></center>\n"
   ]
  },
  {
   "cell_type": "markdown",
   "metadata": {},
   "source": [
    "  "
   ]
  },
  {
   "cell_type": "markdown",
   "metadata": {},
   "source": [
    "<hr style=\"height:2px; border:none; color:black; background-color:black;\">"
   ]
  },
  {
   "cell_type": "markdown",
   "metadata": {},
   "source": [
    "#### Executive Summary:\n",
    "\n",
    "Add your summary here (100-150 words)\n",
    "\n",
    "Provide a brief summary of your project. After reading this executive summary, your readers should have a rough understanding of what you did in this project. You can think of this summary in terms of the four sections of the report and write 1-2 sentences describing each section.\n",
    "\n"
   ]
  },
  {
   "cell_type": "markdown",
   "metadata": {},
   "source": [
    "<hr style=\"height:2px; border:none; color:black; background-color:black;\">"
   ]
  },
  {
   "cell_type": "markdown",
   "metadata": {},
   "source": [
    "## Outline\n",
    "1. <a href='#1'>INTRODUCTION</a>\n",
    "2. <a href='#2'>METHOD</a>\n",
    "3. <a href='#3'>RESULTS</a>\n",
    "4. <a href='#4'>DISCUSSION</a>"
   ]
  },
  {
   "cell_type": "markdown",
   "metadata": {},
   "source": [
    "<a id=\"1\"></a>\n",
    "<hr style=\"height:2px; border:none; color:black; background-color:black;\">"
   ]
  },
  {
   "cell_type": "markdown",
   "metadata": {},
   "source": [
    "## 1. INTRODUCTION"
   ]
  },
  {
   "cell_type": "markdown",
   "metadata": {},
   "source": [
    "**Problem Statement**\n",
    "\n",
    "With the growth of live streaming as an entertainment platform, coronavirus has presented a strong opportunity for online streaming platforms to expand and grow. We want to track this growth and how growth is displayed among the creators in Twitch. Understanding Twitch’s growth and live streaming as a career field is important to those looking into streaming as a viable at-home, virtual job, and predicting measures of growth and success. We will create an expected projection of Twitch channels over the next year on a monthly basis of viewership and other metrics, which will be used in parallel with subscriber data to project expected income growth. We also want to gain insight into the jump in viewership due to coronavirus and better understand the rise of the streaming industry. \n",
    "\n",
    "**Significance of the Problem**\n",
    "\n",
    "Live streaming is an industry that is quickly growing in the technology space. Following Twitch’s initial success in the early 2010s, Youtube (via Youtube Live), Facebook (Facebook/Instagram Live) and other major platforms have followed up by creating their own streaming platforms for content creators. Insights into Twitch’s growth potential can quantify the growth of live streaming and their platforms as a brand new career field with opportunities for people to look into. Tracking the projected growth of a fast-moving industry in live streaming can be really useful for choosing a job as a software or data engineer, as joining one of these companies can be particularly lucrative. Alternatively, should investment opportunities present themselves in the future, having an understanding of YoY growth and metric-backed expectations can lead to potentially rewarding investments. Finally, if someone were to come across the expected growth and data and were interested in becoming a livestreamer themselves, they could use the projected data to measure their own metrics and success.\n",
    "\n",
    "**Previous Work on the Topic**\n",
    "\n",
    "Most of the analysis done around Twitch.tv’s data is in regards to the platform as a whole. Students from WPI found relationships between the demographics and the viewership behavior in relation to the types and formats of the content being delivered (Farrington and Muesch). Other breakdowns look at aggregate metrics for Twitch, such as the numbers of broadcasters and peak viewership in order to generate a tentative estimate of Twitch’s revenue (Iqbal). Even recommendations for marketing managers and potential influencers are presented with aggregate data metrics (Influencer Marketing Hub). Given the background of Twitch as a relatively new platform, we were unable to find any analysis on specific channels or the application of machine learning methods to predict singular channel growth. Identifying this gap and realizing its potential, we set out to create models that would allow us to explore Twitch through the lens of singular channels and learn from applying ML methods to real data.\n",
    "\n",
    "**Questions/Hypotheses**\n",
    "* **Research Questions**\n",
    "    * Which features are most important in predicting the expected future income growth of Twitch channels?\n",
    "    * What is the ideal number of features to include in analysis when predicting income growth of Twitch channels?\n",
    "    * Which supervised machine learning algorithm will produce the highest accuracy for our test dataset?\n",
    "\n",
    "* **Hypotheses 1**\n",
    "    * Hypotheses: Followers gained is the most influential feature in predicting income growth. \n",
    "    * Null: Followers gained has is not the most influential feature in predicting income growth. \n",
    "\n",
    "* **Hypotheses 2**\n",
    "    * Hypotheses: Stream time has a positive relationship with income growth. \n",
    "    * Null: Stream time has no relationship with income growth. \n",
    "\n",
    "\n",
    "* **Hypotheses 3**\n",
    "    * Hypotheses: A significant relationship exists between view gained and income growth. \n",
    "    * Null: No relationship exists between views gained and income growth.\n",
    "\n",
    "\n",
    "**References**\n",
    "\n",
    "Iqbal, Mansoor. “Twitch Revenue and Usage Statistics (2020).” Business of Apps, Sokomedia, 24 Apr. 2020, www.businessofapps.com/data/twitch-statistics/\n",
    "\n",
    "“25 Useful Twitch Stats for Influencer Marketing Managers [Infographic].” Influencer Marketing Hub, 10 June 2020, influencermarketinghub.com/twitch-stats/\n",
    "\n",
    "Bellanger, Caroline. “New Study from Upfluence Finds COVID-19 Lockdown Restrictions Resulted in a 24% Viewership Increase on Live-Streaming Platform Twitch.” Upfluence, Upfluence, 3 Apr. 2020, www.upfluence.com/press-release/new-study-from-upfluence-finds-covid-19-lockdown-restrictions-resulted-in-a-24-viewership-increase-on-live-streaming-platform-twitch\n",
    "\n",
    "Farrington, Daniel Jeffrey, and Muesch, Nicholas Matthew. “Analysis of the Characteristics and Content of Twitch Live-Streaming.” Digital WPI, Worcester Polytechnic Institute, Mar. 2015, digitalcommons.wpi.edu/iqp-all/3376/\n"
   ]
  },
  {
   "cell_type": "markdown",
   "metadata": {},
   "source": [
    "<a id=\"2\"></a>\n",
    "<hr style=\"height:2px; border:none; color:black; background-color:black;\">"
   ]
  },
  {
   "cell_type": "markdown",
   "metadata": {},
   "source": [
    "## 2. METHOD"
   ]
  },
  {
   "cell_type": "markdown",
   "metadata": {},
   "source": [
    "### 2.1. Data Acquisition\n",
    "\n",
    "We sourced the data we are using ourselves through web-scraping two websites, TwitchTracker and SullyGnome, where both sites track and record channel metrics from Twitch.\n",
    "\n",
    "From **SullyGnome**, we were able to obtain data of the 100 most popular Twitch streamers per month. The data included information such as watch time, stream time, peak viewers, etc. and we sourced data for 13 months, ranging from April 2019 to April 2020. We obtained a total number of 11 variables from the dataset.\n",
    "\n",
    "We took subscriber data from **TwitchTracker** and used it to generate the channel’s income data, then appended the income data to a cleaned aggregate dataset from SullyGnome. This variable is the outcome variable. \n",
    "\n",
    "Twitch: https://twitchtracker.com/subscribers\n",
    "SullyGnome: https://sullygnome.com "
   ]
  },
  {
   "cell_type": "markdown",
   "metadata": {},
   "source": [
    "### 2.2. Variables\n",
    "\n",
    "**Feature Variables:**\n",
    "* Watch time\n",
    "* Stream Time\n",
    "* Peak Viewers\n",
    "* Average Viewers\n",
    "* Followers\n",
    "* Followers Gained\n",
    "* Views Gained\n",
    "* Partnered\n",
    "* Mature\n",
    "* Language\n",
    "\n",
    "**Target Variable:**\n",
    "* Income Growth\n",
    "\n",
    "For our analysis purposes, we used the feature variables as independent variables and the target variable as the dependent variable for all our hypotheses. \n",
    "\n"
   ]
  },
  {
   "cell_type": "markdown",
   "metadata": {},
   "source": [
    "### 2.3. Data Analysis\n",
    "**Feature Extraction:** We will use Iterative Feature Selection to gain an understanding of which variables are important and the order of importance of the variables. This will allow us to gain more insight into our data. For analysis, we will use Model-Based Feature Selection to judge which features are most important for use in our model. \n",
    "\n",
    "**Machine Learning Techniques:** We will be applying supervised machine learning algorithms to analyze the data. As our target variable of future income is a continuous variable, we plan on using regression analysis on our feature variables. We will be applying Multiple Linear Regression, Lasso, Ridge, KNNRegressor and SVM machine learning algorithms to our data to analyze for best results as they are all used to tune regression models. We expect Lasso to perform the best as our data contains many features, but we expect only a few of them to be impactful to the target variable. "
   ]
  },
  {
   "cell_type": "markdown",
   "metadata": {},
   "source": [
    "<a id=\"3\"></a>\n",
    "<hr style=\"height:2px; border:none; color:black; background-color:black;\">"
   ]
  },
  {
   "cell_type": "markdown",
   "metadata": {},
   "source": [
    "## 3. RESULTS"
   ]
  },
  {
   "cell_type": "markdown",
   "metadata": {},
   "source": [
    "### 3.1. Data Wrangling\n",
    "\n",
    "\n",
    "**Simple Data Cleaning:**\n",
    "\n",
    "For the data obtained from SullyGnome, we merged all of the files from each month together. In order to be able to sufficiently train our machine for each user, we decided that we need to obtain at least 10 data points per channel so we omitted all users who did not appear in the dataset at least 10 times. Next, we adjusted the channel names as, in some instances, the foreign name and the English name of the channel would appear in the data. We cleaned it so that only the English name appeared, which would then be used by the subscriber scraper. \n",
    "\n",
    "For the subscriber scraper, we scraped data from the Twitch site for each user. The scraping takes about 2-3 hours. From that information, we calculated the current subscriber based income of the users by performing basic multiplication based on the subscriber count per tier. \n",
    "\n",
    "The final dataset will merge the total income variable from the Twitch data and the data from SullyGnome. The variables will merge together on the accounts of channel name and data. \n"
   ]
  },
  {
   "cell_type": "code",
   "execution_count": 20,
   "metadata": {},
   "outputs": [],
   "source": [
    "import pandas as pd\n",
    "import numpy as np\n",
    "\n",
    "allchannels = pd.read_csv(\"generated_data/TotalChannelData.csv\")\n",
    "allchannels.set_index(\"Channel\", inplace=True)\n",
    "\n",
    "subdata = pd.read_csv(\"generated_data/SubData.csv\")\n",
    "subdata.set_index(\"Channel\", inplace=True)\n",
    "\n",
    "finaldata = pd.merge(allchannels, subdata, how='left', on=['Channel', 'Month'])\n",
    "finaldata.drop(['Unnamed: 0', \"Prime\", \"Tier 1\", \"Tier 2\", \"Tier 3\", \"Total\", \"Unshared\"], axis =1, inplace=True)\n",
    "\n",
    "#removing all rows where total income is not provided, meaning subscriber data was not scraped \n",
    "#this means the rows being removed are all channels that have less than 10 datapoints\n",
    "finaldata = finaldata[finaldata['Total Income'].notna()]\n",
    "\n",
    "#removing dollar formatting from total income \n",
    "finaldata['Total Income'] = finaldata['Total Income'].str.replace(',', '').str.replace('$', '').astype(float)"
   ]
  },
  {
   "cell_type": "code",
   "execution_count": 21,
   "metadata": {},
   "outputs": [],
   "source": [
    "#check if there are any partnered channels that are \"False\"\n",
    "def check_continuous_variables(df, col):\n",
    "    false_count = 0\n",
    "    for i in range(len(finaldata.loc[:,col])):\n",
    "        if finaldata.loc[:,col][i] == False:\n",
    "            false_count +=1 \n",
    "        else:\n",
    "            continue\n",
    "    print(\"There are\", false_count, \"false values for\", col)\n",
    "    if false_count == 0:\n",
    "        finaldata.drop([col], axis = 1, inplace=True)\n",
    "    return finaldata"
   ]
  },
  {
   "cell_type": "code",
   "execution_count": 22,
   "metadata": {},
   "outputs": [
    {
     "name": "stdout",
     "output_type": "stream",
     "text": [
      "There are 0 false values for Partnered\n"
     ]
    }
   ],
   "source": [
    "finaldata = check_continuous_variables(finaldata, \"Partnered\")"
   ]
  },
  {
   "cell_type": "code",
   "execution_count": 23,
   "metadata": {},
   "outputs": [
    {
     "name": "stdout",
     "output_type": "stream",
     "text": [
      "There are 377 false values for Mature\n"
     ]
    }
   ],
   "source": [
    "finaldata = check_continuous_variables(finaldata, \"Mature\")"
   ]
  },
  {
   "cell_type": "markdown",
   "metadata": {},
   "source": [
    "Within the final dataset, we needed to calculate income growth. To analyze income growth, we needed to get the total income of the first month of data and subtract it from the next month of data. That was done per channel for the duration of the time period of data we had and merged back together with the main dataset. "
   ]
  },
  {
   "cell_type": "code",
   "execution_count": 24,
   "metadata": {},
   "outputs": [
    {
     "data": {
      "text/html": [
       "<div>\n",
       "<style scoped>\n",
       "    .dataframe tbody tr th:only-of-type {\n",
       "        vertical-align: middle;\n",
       "    }\n",
       "\n",
       "    .dataframe tbody tr th {\n",
       "        vertical-align: top;\n",
       "    }\n",
       "\n",
       "    .dataframe thead th {\n",
       "        text-align: right;\n",
       "    }\n",
       "</style>\n",
       "<table border=\"1\" class=\"dataframe\">\n",
       "  <thead>\n",
       "    <tr style=\"text-align: right;\">\n",
       "      <th></th>\n",
       "      <th>Watch time</th>\n",
       "      <th>Stream time</th>\n",
       "      <th>Peak viewers</th>\n",
       "      <th>Average viewers</th>\n",
       "      <th>Followers</th>\n",
       "      <th>Followers gained</th>\n",
       "      <th>Views gained</th>\n",
       "      <th>Mature</th>\n",
       "      <th>Language</th>\n",
       "      <th>Month</th>\n",
       "      <th>Income Change</th>\n",
       "    </tr>\n",
       "    <tr>\n",
       "      <th>Channel</th>\n",
       "      <th></th>\n",
       "      <th></th>\n",
       "      <th></th>\n",
       "      <th></th>\n",
       "      <th></th>\n",
       "      <th></th>\n",
       "      <th></th>\n",
       "      <th></th>\n",
       "      <th></th>\n",
       "      <th></th>\n",
       "      <th></th>\n",
       "    </tr>\n",
       "  </thead>\n",
       "  <tbody>\n",
       "    <tr>\n",
       "      <th>AdmiralBahroo</th>\n",
       "      <td>110374845</td>\n",
       "      <td>13920</td>\n",
       "      <td>14616</td>\n",
       "      <td>7928</td>\n",
       "      <td>770090</td>\n",
       "      <td>9819</td>\n",
       "      <td>1423087</td>\n",
       "      <td>False</td>\n",
       "      <td>English</td>\n",
       "      <td>2019-01-01</td>\n",
       "      <td>-36295.11</td>\n",
       "    </tr>\n",
       "    <tr>\n",
       "      <th>AdmiralBahroo</th>\n",
       "      <td>84227100</td>\n",
       "      <td>11910</td>\n",
       "      <td>12756</td>\n",
       "      <td>7071</td>\n",
       "      <td>770090</td>\n",
       "      <td>8651</td>\n",
       "      <td>1229356</td>\n",
       "      <td>False</td>\n",
       "      <td>English</td>\n",
       "      <td>2019-02-01</td>\n",
       "      <td>-7912.10</td>\n",
       "    </tr>\n",
       "    <tr>\n",
       "      <th>AdmiralBahroo</th>\n",
       "      <td>110024835</td>\n",
       "      <td>15015</td>\n",
       "      <td>29431</td>\n",
       "      <td>7327</td>\n",
       "      <td>770090</td>\n",
       "      <td>14489</td>\n",
       "      <td>1376799</td>\n",
       "      <td>False</td>\n",
       "      <td>English</td>\n",
       "      <td>2019-03-01</td>\n",
       "      <td>-21266.30</td>\n",
       "    </tr>\n",
       "    <tr>\n",
       "      <th>AdmiralBahroo</th>\n",
       "      <td>74971200</td>\n",
       "      <td>9870</td>\n",
       "      <td>15925</td>\n",
       "      <td>7595</td>\n",
       "      <td>767646</td>\n",
       "      <td>11515</td>\n",
       "      <td>1045862</td>\n",
       "      <td>False</td>\n",
       "      <td>English</td>\n",
       "      <td>2019-04-01</td>\n",
       "      <td>-57068.87</td>\n",
       "    </tr>\n",
       "    <tr>\n",
       "      <th>AdmiralBahroo</th>\n",
       "      <td>75818505</td>\n",
       "      <td>10530</td>\n",
       "      <td>54643</td>\n",
       "      <td>7199</td>\n",
       "      <td>767646</td>\n",
       "      <td>15848</td>\n",
       "      <td>1157761</td>\n",
       "      <td>False</td>\n",
       "      <td>English</td>\n",
       "      <td>2019-05-01</td>\n",
       "      <td>-24214.50</td>\n",
       "    </tr>\n",
       "  </tbody>\n",
       "</table>\n",
       "</div>"
      ],
      "text/plain": [
       "               Watch time  Stream time  Peak viewers  Average viewers  \\\n",
       "Channel                                                                 \n",
       "AdmiralBahroo   110374845        13920         14616             7928   \n",
       "AdmiralBahroo    84227100        11910         12756             7071   \n",
       "AdmiralBahroo   110024835        15015         29431             7327   \n",
       "AdmiralBahroo    74971200         9870         15925             7595   \n",
       "AdmiralBahroo    75818505        10530         54643             7199   \n",
       "\n",
       "               Followers  Followers gained  Views gained  Mature Language  \\\n",
       "Channel                                                                     \n",
       "AdmiralBahroo     770090              9819       1423087   False  English   \n",
       "AdmiralBahroo     770090              8651       1229356   False  English   \n",
       "AdmiralBahroo     770090             14489       1376799   False  English   \n",
       "AdmiralBahroo     767646             11515       1045862   False  English   \n",
       "AdmiralBahroo     767646             15848       1157761   False  English   \n",
       "\n",
       "                    Month  Income Change  \n",
       "Channel                                   \n",
       "AdmiralBahroo  2019-01-01      -36295.11  \n",
       "AdmiralBahroo  2019-02-01       -7912.10  \n",
       "AdmiralBahroo  2019-03-01      -21266.30  \n",
       "AdmiralBahroo  2019-04-01      -57068.87  \n",
       "AdmiralBahroo  2019-05-01      -24214.50  "
      ]
     },
     "execution_count": 24,
     "metadata": {},
     "output_type": "execute_result"
    }
   ],
   "source": [
    "finaldata = finaldata.sort_values(by=[\"Channel\", \"Month\"], ascending=True)\n",
    "\n",
    "channels = finaldata.index.unique()\n",
    "i = 0 \n",
    "IncomeChange_list = []\n",
    "for channel in channels:\n",
    "    channeldata = finaldata[finaldata.index == channel]\n",
    "    prev = 0\n",
    "    for index, row in channeldata.iterrows():\n",
    "        if(prev != 0):\n",
    "            row[\"Income Change\"] = row[\"Total Income\"] - prev\n",
    "            IncomeChange_list.append([channel, row[\"Income Change\"], row[\"Month\"]])\n",
    "        else:\n",
    "            prev = row[\"Total Income\"]\n",
    "            IncomeChange_list.append([channel, np.nan , row[\"Month\"]])\n",
    "\n",
    "IncomeChange = pd.DataFrame(IncomeChange_list, columns = [\"Channel\", \"Income Change\", \"Month\"])\n",
    "IncomeChange = IncomeChange.set_index(\"Channel\")\n",
    "\n",
    "\n",
    "finaldata = pd.merge(finaldata, IncomeChange, on = [\"Channel\", \"Month\"])\n",
    "            \n",
    "finaldata = finaldata[finaldata['Income Change'].notna()]\n",
    "\n",
    "finaldata.drop(columns=[\"Total Income\"], axis = 1, inplace = True)\n",
    "\n",
    "finaldata.head()"
   ]
  },
  {
   "cell_type": "markdown",
   "metadata": {},
   "source": [
    "#### Identifying feature and target variables"
   ]
  },
  {
   "cell_type": "code",
   "execution_count": 25,
   "metadata": {},
   "outputs": [],
   "source": [
    "#function returns features and target variables \n",
    "def features_target(df, target_var):\n",
    "    features = df.drop(target_var, axis = 1)\n",
    "    features = features.reset_index() #index is reset to merge with encoded features \n",
    "    target = df[target_var]\n",
    "   \n",
    "    return features, target\n"
   ]
  },
  {
   "cell_type": "code",
   "execution_count": 26,
   "metadata": {},
   "outputs": [],
   "source": [
    "features, target = features_target(finaldata, \"Income Change\")"
   ]
  },
  {
   "cell_type": "code",
   "execution_count": 27,
   "metadata": {},
   "outputs": [
    {
     "data": {
      "text/html": [
       "<div>\n",
       "<style scoped>\n",
       "    .dataframe tbody tr th:only-of-type {\n",
       "        vertical-align: middle;\n",
       "    }\n",
       "\n",
       "    .dataframe tbody tr th {\n",
       "        vertical-align: top;\n",
       "    }\n",
       "\n",
       "    .dataframe thead th {\n",
       "        text-align: right;\n",
       "    }\n",
       "</style>\n",
       "<table border=\"1\" class=\"dataframe\">\n",
       "  <thead>\n",
       "    <tr style=\"text-align: right;\">\n",
       "      <th></th>\n",
       "      <th>Channel</th>\n",
       "      <th>Watch time</th>\n",
       "      <th>Stream time</th>\n",
       "      <th>Peak viewers</th>\n",
       "      <th>Average viewers</th>\n",
       "      <th>Followers</th>\n",
       "      <th>Followers gained</th>\n",
       "      <th>Views gained</th>\n",
       "      <th>Mature</th>\n",
       "      <th>Language</th>\n",
       "      <th>Month</th>\n",
       "    </tr>\n",
       "  </thead>\n",
       "  <tbody>\n",
       "    <tr>\n",
       "      <th>0</th>\n",
       "      <td>AdmiralBahroo</td>\n",
       "      <td>110374845</td>\n",
       "      <td>13920</td>\n",
       "      <td>14616</td>\n",
       "      <td>7928</td>\n",
       "      <td>770090</td>\n",
       "      <td>9819</td>\n",
       "      <td>1423087</td>\n",
       "      <td>False</td>\n",
       "      <td>English</td>\n",
       "      <td>2019-01-01</td>\n",
       "    </tr>\n",
       "    <tr>\n",
       "      <th>1</th>\n",
       "      <td>AdmiralBahroo</td>\n",
       "      <td>84227100</td>\n",
       "      <td>11910</td>\n",
       "      <td>12756</td>\n",
       "      <td>7071</td>\n",
       "      <td>770090</td>\n",
       "      <td>8651</td>\n",
       "      <td>1229356</td>\n",
       "      <td>False</td>\n",
       "      <td>English</td>\n",
       "      <td>2019-02-01</td>\n",
       "    </tr>\n",
       "    <tr>\n",
       "      <th>2</th>\n",
       "      <td>AdmiralBahroo</td>\n",
       "      <td>110024835</td>\n",
       "      <td>15015</td>\n",
       "      <td>29431</td>\n",
       "      <td>7327</td>\n",
       "      <td>770090</td>\n",
       "      <td>14489</td>\n",
       "      <td>1376799</td>\n",
       "      <td>False</td>\n",
       "      <td>English</td>\n",
       "      <td>2019-03-01</td>\n",
       "    </tr>\n",
       "    <tr>\n",
       "      <th>3</th>\n",
       "      <td>AdmiralBahroo</td>\n",
       "      <td>74971200</td>\n",
       "      <td>9870</td>\n",
       "      <td>15925</td>\n",
       "      <td>7595</td>\n",
       "      <td>767646</td>\n",
       "      <td>11515</td>\n",
       "      <td>1045862</td>\n",
       "      <td>False</td>\n",
       "      <td>English</td>\n",
       "      <td>2019-04-01</td>\n",
       "    </tr>\n",
       "    <tr>\n",
       "      <th>4</th>\n",
       "      <td>AdmiralBahroo</td>\n",
       "      <td>75818505</td>\n",
       "      <td>10530</td>\n",
       "      <td>54643</td>\n",
       "      <td>7199</td>\n",
       "      <td>767646</td>\n",
       "      <td>15848</td>\n",
       "      <td>1157761</td>\n",
       "      <td>False</td>\n",
       "      <td>English</td>\n",
       "      <td>2019-05-01</td>\n",
       "    </tr>\n",
       "  </tbody>\n",
       "</table>\n",
       "</div>"
      ],
      "text/plain": [
       "         Channel  Watch time  Stream time  Peak viewers  Average viewers  \\\n",
       "0  AdmiralBahroo   110374845        13920         14616             7928   \n",
       "1  AdmiralBahroo    84227100        11910         12756             7071   \n",
       "2  AdmiralBahroo   110024835        15015         29431             7327   \n",
       "3  AdmiralBahroo    74971200         9870         15925             7595   \n",
       "4  AdmiralBahroo    75818505        10530         54643             7199   \n",
       "\n",
       "   Followers  Followers gained  Views gained  Mature Language       Month  \n",
       "0     770090              9819       1423087   False  English  2019-01-01  \n",
       "1     770090              8651       1229356   False  English  2019-02-01  \n",
       "2     770090             14489       1376799   False  English  2019-03-01  \n",
       "3     767646             11515       1045862   False  English  2019-04-01  \n",
       "4     767646             15848       1157761   False  English  2019-05-01  "
      ]
     },
     "execution_count": 27,
     "metadata": {},
     "output_type": "execute_result"
    }
   ],
   "source": [
    "features.head()"
   ]
  },
  {
   "cell_type": "code",
   "execution_count": 28,
   "metadata": {},
   "outputs": [
    {
     "data": {
      "text/plain": [
       "Channel\n",
       "AdmiralBahroo   -36295.11\n",
       "AdmiralBahroo    -7912.10\n",
       "AdmiralBahroo   -21266.30\n",
       "AdmiralBahroo   -57068.87\n",
       "AdmiralBahroo   -24214.50\n",
       "Name: Income Change, dtype: float64"
      ]
     },
     "execution_count": 28,
     "metadata": {},
     "output_type": "execute_result"
    }
   ],
   "source": [
    "target.head()"
   ]
  },
  {
   "cell_type": "markdown",
   "metadata": {},
   "source": [
    "#### Encoding continuous feature variables "
   ]
  },
  {
   "cell_type": "code",
   "execution_count": 29,
   "metadata": {},
   "outputs": [],
   "source": [
    "from sklearn.preprocessing import OneHotEncoder\n",
    "\n",
    "#one-hot encoding for \"Mature\" and \"Language\" Variables \n",
    "encode_features = features.iloc[:, 8:10]\n",
    "\n",
    "encoder = OneHotEncoder(sparse = False)\n",
    "encoded_df = encoder.fit_transform(encode_features)\n",
    "\n",
    "features_df = pd.DataFrame(encoded_df, columns = encoder.get_feature_names())\n",
    "\n",
    "#merging both features datasets together \n",
    "features = features_df.merge(features, left_index = True, right_index = True)\n",
    "features.drop([\"Mature\", \"Language\"], axis = 1, inplace=True)\n",
    "\n",
    "#removing channel and month as a variables as they work as identifiers \n",
    "features.reset_index()\n",
    "features.drop([\"Channel\", \"Month\"], axis = 1, inplace=True)"
   ]
  },
  {
   "cell_type": "code",
   "execution_count": 30,
   "metadata": {},
   "outputs": [
    {
     "data": {
      "text/html": [
       "<div>\n",
       "<style scoped>\n",
       "    .dataframe tbody tr th:only-of-type {\n",
       "        vertical-align: middle;\n",
       "    }\n",
       "\n",
       "    .dataframe tbody tr th {\n",
       "        vertical-align: top;\n",
       "    }\n",
       "\n",
       "    .dataframe thead th {\n",
       "        text-align: right;\n",
       "    }\n",
       "</style>\n",
       "<table border=\"1\" class=\"dataframe\">\n",
       "  <thead>\n",
       "    <tr style=\"text-align: right;\">\n",
       "      <th></th>\n",
       "      <th>x0_False</th>\n",
       "      <th>x0_True</th>\n",
       "      <th>x1_English</th>\n",
       "      <th>x1_French</th>\n",
       "      <th>x1_German</th>\n",
       "      <th>x1_Korean</th>\n",
       "      <th>x1_Portuguese</th>\n",
       "      <th>Watch time</th>\n",
       "      <th>Stream time</th>\n",
       "      <th>Peak viewers</th>\n",
       "      <th>Average viewers</th>\n",
       "      <th>Followers</th>\n",
       "      <th>Followers gained</th>\n",
       "      <th>Views gained</th>\n",
       "    </tr>\n",
       "  </thead>\n",
       "  <tbody>\n",
       "    <tr>\n",
       "      <th>0</th>\n",
       "      <td>1.0</td>\n",
       "      <td>0.0</td>\n",
       "      <td>1.0</td>\n",
       "      <td>0.0</td>\n",
       "      <td>0.0</td>\n",
       "      <td>0.0</td>\n",
       "      <td>0.0</td>\n",
       "      <td>110374845</td>\n",
       "      <td>13920</td>\n",
       "      <td>14616</td>\n",
       "      <td>7928</td>\n",
       "      <td>770090</td>\n",
       "      <td>9819</td>\n",
       "      <td>1423087</td>\n",
       "    </tr>\n",
       "    <tr>\n",
       "      <th>1</th>\n",
       "      <td>1.0</td>\n",
       "      <td>0.0</td>\n",
       "      <td>1.0</td>\n",
       "      <td>0.0</td>\n",
       "      <td>0.0</td>\n",
       "      <td>0.0</td>\n",
       "      <td>0.0</td>\n",
       "      <td>84227100</td>\n",
       "      <td>11910</td>\n",
       "      <td>12756</td>\n",
       "      <td>7071</td>\n",
       "      <td>770090</td>\n",
       "      <td>8651</td>\n",
       "      <td>1229356</td>\n",
       "    </tr>\n",
       "    <tr>\n",
       "      <th>2</th>\n",
       "      <td>1.0</td>\n",
       "      <td>0.0</td>\n",
       "      <td>1.0</td>\n",
       "      <td>0.0</td>\n",
       "      <td>0.0</td>\n",
       "      <td>0.0</td>\n",
       "      <td>0.0</td>\n",
       "      <td>110024835</td>\n",
       "      <td>15015</td>\n",
       "      <td>29431</td>\n",
       "      <td>7327</td>\n",
       "      <td>770090</td>\n",
       "      <td>14489</td>\n",
       "      <td>1376799</td>\n",
       "    </tr>\n",
       "    <tr>\n",
       "      <th>3</th>\n",
       "      <td>1.0</td>\n",
       "      <td>0.0</td>\n",
       "      <td>1.0</td>\n",
       "      <td>0.0</td>\n",
       "      <td>0.0</td>\n",
       "      <td>0.0</td>\n",
       "      <td>0.0</td>\n",
       "      <td>74971200</td>\n",
       "      <td>9870</td>\n",
       "      <td>15925</td>\n",
       "      <td>7595</td>\n",
       "      <td>767646</td>\n",
       "      <td>11515</td>\n",
       "      <td>1045862</td>\n",
       "    </tr>\n",
       "    <tr>\n",
       "      <th>4</th>\n",
       "      <td>1.0</td>\n",
       "      <td>0.0</td>\n",
       "      <td>1.0</td>\n",
       "      <td>0.0</td>\n",
       "      <td>0.0</td>\n",
       "      <td>0.0</td>\n",
       "      <td>0.0</td>\n",
       "      <td>75818505</td>\n",
       "      <td>10530</td>\n",
       "      <td>54643</td>\n",
       "      <td>7199</td>\n",
       "      <td>767646</td>\n",
       "      <td>15848</td>\n",
       "      <td>1157761</td>\n",
       "    </tr>\n",
       "  </tbody>\n",
       "</table>\n",
       "</div>"
      ],
      "text/plain": [
       "   x0_False  x0_True  x1_English  x1_French  x1_German  x1_Korean  \\\n",
       "0       1.0      0.0         1.0        0.0        0.0        0.0   \n",
       "1       1.0      0.0         1.0        0.0        0.0        0.0   \n",
       "2       1.0      0.0         1.0        0.0        0.0        0.0   \n",
       "3       1.0      0.0         1.0        0.0        0.0        0.0   \n",
       "4       1.0      0.0         1.0        0.0        0.0        0.0   \n",
       "\n",
       "   x1_Portuguese  Watch time  Stream time  Peak viewers  Average viewers  \\\n",
       "0            0.0   110374845        13920         14616             7928   \n",
       "1            0.0    84227100        11910         12756             7071   \n",
       "2            0.0   110024835        15015         29431             7327   \n",
       "3            0.0    74971200         9870         15925             7595   \n",
       "4            0.0    75818505        10530         54643             7199   \n",
       "\n",
       "   Followers  Followers gained  Views gained  \n",
       "0     770090              9819       1423087  \n",
       "1     770090              8651       1229356  \n",
       "2     770090             14489       1376799  \n",
       "3     767646             11515       1045862  \n",
       "4     767646             15848       1157761  "
      ]
     },
     "execution_count": 30,
     "metadata": {},
     "output_type": "execute_result"
    }
   ],
   "source": [
    "features.head()"
   ]
  },
  {
   "cell_type": "markdown",
   "metadata": {},
   "source": [
    "#### Splitting data into training and testing data"
   ]
  },
  {
   "cell_type": "code",
   "execution_count": 31,
   "metadata": {},
   "outputs": [],
   "source": [
    "from sklearn.linear_model import LinearRegression\n",
    "from sklearn.model_selection import train_test_split\n",
    "\n",
    "#split data into training and testing sets\n",
    "X_train, X_test, y_train, y_test = train_test_split(features, target, random_state=3000)"
   ]
  },
  {
   "cell_type": "markdown",
   "metadata": {},
   "source": [
    "#### Iterative Feature Selection \n",
    "We ran iterative feature selection, with the number of features ranging from 1 to the total number of features in order to develop a list of all features, order from most important to least important. \n"
   ]
  },
  {
   "cell_type": "code",
   "execution_count": 32,
   "metadata": {},
   "outputs": [],
   "source": [
    "#Running Iterative Feature Selection to return a list of features in order of importance \n",
    "from sklearn.feature_selection import RFE\n",
    "from sklearn.tree import DecisionTreeRegressor\n",
    "\n",
    "\n",
    "def ife_features(X_train, y_train, X_test, y_test):\n",
    "    name_features = list(X_train.columns.values)\n",
    "    num_features = len(name_features)\n",
    "    features_names = []\n",
    "    \n",
    "    for i in range(num_features):\n",
    "        i += 1\n",
    "        select = RFE(DecisionTreeRegressor(random_state = 3000), n_features_to_select = i)\n",
    "        \n",
    "        #fit the RFE selector to the training data\n",
    "        select.fit(X_train, y_train)\n",
    "        \n",
    "        selected_features = select.get_support()\n",
    "        \n",
    "        #adding to the list of features in order of appearance / importance \n",
    "        for x in range(num_features):\n",
    "            if selected_features[x] == True:\n",
    "                if name_features[x] in features_names:\n",
    "                    continue\n",
    "                else:\n",
    "                    features_names.append(name_features[x])\n",
    "                    \n",
    "    print(\"Order of Importance of Features:\")\n",
    "    order = 1\n",
    "    for value in features_names:\n",
    "        print(\"\\t\",order,value)\n",
    "        order+= 1\n"
   ]
  },
  {
   "cell_type": "code",
   "execution_count": 33,
   "metadata": {},
   "outputs": [
    {
     "name": "stdout",
     "output_type": "stream",
     "text": [
      "Order of Importance of Features:\n",
      "\t 1 Followers\n",
      "\t 2 Views gained\n",
      "\t 3 Followers gained\n",
      "\t 4 Watch time\n",
      "\t 5 x0_False\n",
      "\t 6 Peak viewers\n",
      "\t 7 Average viewers\n",
      "\t 8 Stream time\n",
      "\t 9 x0_True\n",
      "\t 10 x1_English\n",
      "\t 11 x1_German\n",
      "\t 12 x1_Portuguese\n",
      "\t 13 x1_French\n",
      "\t 14 x1_Korean\n"
     ]
    }
   ],
   "source": [
    "ifefeatures = ife_features(X_train, y_train, X_test, y_test)\n",
    "ifefeatures"
   ]
  },
  {
   "cell_type": "markdown",
   "metadata": {},
   "source": [
    "#### Model Based Feature Selection \n",
    "As there was no way to determine a defined number of features to use for the data, model based feature selection was used to develop the list of selected features. This feature selection model gave a list of 5 total features to act as the selected criteria. "
   ]
  },
  {
   "cell_type": "code",
   "execution_count": 34,
   "metadata": {},
   "outputs": [],
   "source": [
    "from sklearn.feature_selection import SelectFromModel\n",
    "from sklearn.tree import DecisionTreeRegressor\n",
    "from sklearn.linear_model import LinearRegression\n",
    "from sklearn.model_selection import train_test_split\n",
    "from sklearn.metrics import r2_score\n",
    "\n",
    "def modelbased_features(X_train, y_train, X_test, y_test):\n",
    "    \n",
    "    name_features = list(X_train.columns.values)\n",
    "    \n",
    "    select = SelectFromModel(DecisionTreeRegressor(random_state = 3000))\n",
    "\n",
    "    select.fit(X_train, y_train)\n",
    "    X_train_selected = select.transform(X_train)\n",
    "    X_test_selected = select.transform(X_test)\n",
    "\n",
    "    selected_features = select.get_support()\n",
    "    feature_names = []\n",
    "    for x in range(len(selected_features)):\n",
    "        if selected_features[x] == True:\n",
    "            feature_names.append(name_features[x])\n",
    "            \n",
    "    return feature_names, X_train_selected, X_test_selected"
   ]
  },
  {
   "cell_type": "code",
   "execution_count": 35,
   "metadata": {},
   "outputs": [
    {
     "data": {
      "text/plain": [
       "['x0_True', 'Watch time', 'Followers', 'Followers gained', 'Views gained']"
      ]
     },
     "execution_count": 35,
     "metadata": {},
     "output_type": "execute_result"
    }
   ],
   "source": [
    "modelbasedfeatures, X_train_selected, X_test_selected = modelbased_features(X_train, y_train, X_test, y_test)\n",
    "modelbasedfeatures"
   ]
  },
  {
   "cell_type": "markdown",
   "metadata": {},
   "source": [
    "### 3.2. Data Exploration"
   ]
  },
  {
   "cell_type": "code",
   "execution_count": 36,
   "metadata": {},
   "outputs": [],
   "source": [
    "import plotly.express as px\n",
    "import plotly.graph_objects as go"
   ]
  },
  {
   "cell_type": "markdown",
   "metadata": {},
   "source": [
    "The scatter plot below shows followers versus income gained. Because our dataset has infrequent updates for the followers count (from the data that we sourced) there is no correlation whatsoever between follower count and change in income as reflected from the data."
   ]
  },
  {
   "cell_type": "code",
   "execution_count": null,
   "metadata": {},
   "outputs": [],
   "source": [
    "fig = px.scatter(finaldata, x=\"Followers\", y=\"Income Change\", trendline=\"ols\")\n",
    "fig.show()"
   ]
  },
  {
   "cell_type": "markdown",
   "metadata": {},
   "source": [
    "<img src=\"https://raw.githubusercontent.com/Liyih/Twitch.tv-Metrics-Analysis/master/img/FollowersVsIncome.png\">"
   ]
  },
  {
   "cell_type": "markdown",
   "metadata": {},
   "source": [
    "The Histogram below shows the distribution of monthly income changes for our top 50 streamers. As the bell curve indicates, the income variation from month to month remains largely unchanged as a whole - and large fluctuations in income are rare."
   ]
  },
  {
   "cell_type": "code",
   "execution_count": null,
   "metadata": {},
   "outputs": [],
   "source": [
    "fig = px.histogram(finaldata, x=\"Income Change\", nbins=50)\n",
    "fig.show()"
   ]
  },
  {
   "cell_type": "markdown",
   "metadata": {},
   "source": [
    "<img src=\"https://raw.githubusercontent.com/Liyih/Twitch.tv-Metrics-Analysis/master/img/IncomeHisto.png\">"
   ]
  },
  {
   "cell_type": "markdown",
   "metadata": {},
   "source": [
    "The violin plot below tracks the volatility of income levels on a monthly basis - it is clear that post COVID-19 (around March 2020) there was a resultant increase in subscription activity across all major channels, with a slightly positive median (more channels benefitted from COVID than were hurt). "
   ]
  },
  {
   "cell_type": "code",
   "execution_count": null,
   "metadata": {},
   "outputs": [],
   "source": [
    "fig = px.violin(finaldata, y=\"Income Change\", x=\"Month\")\n",
    "fig.show()"
   ]
  },
  {
   "cell_type": "markdown",
   "metadata": {},
   "source": [
    "<img src=\"https://raw.githubusercontent.com/Liyih/Twitch.tv-Metrics-Analysis/master/img/IncomeViolin.png\">"
   ]
  },
  {
   "cell_type": "markdown",
   "metadata": {},
   "source": [
    "The scatter plot below tracks followers gained versus income gained. This graph indicates a positive relationship between gaining followers and gaining income, which follows the logic that an increase in followers could potentially lead to an increase in subscribers (income)."
   ]
  },
  {
   "cell_type": "code",
   "execution_count": null,
   "metadata": {},
   "outputs": [],
   "source": [
    "fig = px.scatter(finaldata, x=\"Followers gained\", y=\"Income Change\", title=\"Followers gained vs Income Change\", trendline=\"ols\")\n",
    "fig.show()"
   ]
  },
  {
   "cell_type": "markdown",
   "metadata": {},
   "source": [
    "<img src=\"https://raw.githubusercontent.com/Liyih/Twitch.tv-Metrics-Analysis/master/img/FollowersGainedVsIncome.png\">"
   ]
  },
  {
   "cell_type": "markdown",
   "metadata": {},
   "source": [
    "The scatter plot below tracks watch time versus income gained. Despite the visual indication of the sloped line, the actual slope of the line is ~0.00004 and has no discernible correlation between the effect of watch time on income. "
   ]
  },
  {
   "cell_type": "code",
   "execution_count": null,
   "metadata": {},
   "outputs": [],
   "source": [
    "fig = px.scatter(finaldata, x=\"Watch time\", y=\"Income Change\", title=\"Watch Time vs Income Change\", trendline=\"ols\")\n",
    "fig.show()"
   ]
  },
  {
   "cell_type": "markdown",
   "metadata": {},
   "source": [
    "<img src=\"https://raw.githubusercontent.com/Liyih/Twitch.tv-Metrics-Analysis/master/img/WatchTimeVsIncome.png\">"
   ]
  },
  {
   "cell_type": "markdown",
   "metadata": {},
   "source": [
    "Similarly to the graph above, there is little to no correlation between streamer time to the streamer’s income; therefore streaming more or having a larger audience does not guarantee a significant level of change in their subscriber (income) levels."
   ]
  },
  {
   "cell_type": "code",
   "execution_count": null,
   "metadata": {},
   "outputs": [],
   "source": [
    "fig = px.scatter(finaldata, x=\"Stream time\", y=\"Income Change\", title=\"Stream Time vs Income Change\", trendline=\"ols\")\n",
    "fig.show()"
   ]
  },
  {
   "cell_type": "markdown",
   "metadata": {},
   "source": [
    "<img src=\"https://raw.githubusercontent.com/Liyih/Twitch.tv-Metrics-Analysis/master/img/StreamTimeVsIncome.png\">"
   ]
  },
  {
   "cell_type": "markdown",
   "metadata": {},
   "source": [
    "### 3.3. Model Construction"
   ]
  },
  {
   "cell_type": "code",
   "execution_count": 37,
   "metadata": {},
   "outputs": [
    {
     "name": "stdout",
     "output_type": "stream",
     "text": [
      "\n",
      "\n",
      "F-test: Followers and Income Change\n",
      "-------------------------------------------\n",
      "\n",
      "F(101,502) = 783.19, p = 7.24474318680362e-128\n",
      "\n",
      "Assumption of Normality:\n",
      "\tFollowers: (0.8676050901412964, 3.0895984285376923e-20)\n",
      "\t\tAssumption is violated. p < .05\n",
      "\tIncome Change: (0.9263943433761597, 5.396294864543115e-15)\n",
      "\t\tAssumption is violated. p < .05\n",
      "\n",
      "\n",
      "F-test: Peak viewers and Income Change\n",
      "-------------------------------------------\n",
      "\n",
      "F(498,502) = 528.59, p = 2.620032457087258e-94\n",
      "\n",
      "Assumption of Normality:\n",
      "\tPeak viewers: (0.6852248311042786, 1.5613918805362196e-29)\n",
      "\t\tAssumption is violated. p < .05\n",
      "\tIncome Change: (0.9263943433761597, 5.396294864543115e-15)\n",
      "\t\tAssumption is violated. p < .05\n",
      "\n",
      "\n",
      "F-test: Views gained and Income Change\n",
      "-------------------------------------------\n",
      "\n",
      "F(502,502) = 822.98, p = 1.1312023388899937e-132\n",
      "\n",
      "Assumption of Normality:\n",
      "\tViews gained: (0.7359904050827026, 1.7075884221500216e-27)\n",
      "\t\tAssumption is violated. p < .05\n",
      "\tIncome Change: (0.9263943433761597, 5.396294864543115e-15)\n",
      "\t\tAssumption is violated. p < .05\n",
      "\n",
      "\n",
      "F-test: Followers gained and Income Change\n",
      "-------------------------------------------\n",
      "\n",
      "F(500,502) = 210.87, p = 1.6448160228774206e-43\n",
      "\n",
      "Assumption of Normality:\n",
      "\tFollowers gained: (0.5495131611824036, 6.2967944662787486e-34)\n",
      "\t\tAssumption is violated. p < .05\n",
      "\tIncome Change: (0.9263943433761597, 5.396294864543115e-15)\n",
      "\t\tAssumption is violated. p < .05\n"
     ]
    }
   ],
   "source": [
    "from scipy import stats\n",
    "from statsmodels.stats.multicomp import MultiComparison\n",
    "from statsmodels.stats.multicomp import pairwise_tukeyhsd\n",
    "def oneway_ANOVA(data, IV, DV):\n",
    "    oneway = stats.f_oneway(data[IV], data[DV])\n",
    "    fstat = oneway[0]\n",
    "    pval = oneway[1]\n",
    "    df1 = len(data.groupby(IV)) - 1\n",
    "    df2 = len(data.groupby(DV)) - 1\n",
    "    print(\"\\n\\nF-test:\", IV, \"and\", DV)\n",
    "    print(\"-------------------------------------------\\n\")\n",
    "    print(\"F(%d,%d) = %.2f, p = %s\" %(df1, df2, fstat, pval))\n",
    "    print(\"\\nAssumption of Normality:\")\n",
    "    shapiro_test_IV = stats.shapiro(data[IV])\n",
    "    print(\"\\t\" + IV + \": \" + str(shapiro_test_IV))\n",
    "    print(\"\\t\\t\", end=\"\")\n",
    "    checkAssumption(shapiro_test_IV[1])\n",
    "    shapiro_test_DV = stats.shapiro(data[DV])\n",
    "    print(\"\\t\" + DV + \": \" + str(shapiro_test_DV))\n",
    "    print(\"\\t\\t\", end=\"\")\n",
    "    checkAssumption(shapiro_test_DV[1])\n",
    "    \n",
    "#Print the correct assumption statement\n",
    "def checkAssumption(pval):\n",
    "    if pval > 0.05:\n",
    "        print(\"Assumption is met. p > .05\")\n",
    "    else:\n",
    "        print(\"Assumption is violated. p < .05\")\n",
    "\n",
    "oneway_ANOVA(finaldata, \"Followers\", \"Income Change\")\n",
    "oneway_ANOVA(finaldata, \"Peak viewers\", \"Income Change\")\n",
    "oneway_ANOVA(finaldata, \"Views gained\", \"Income Change\")\n",
    "oneway_ANOVA(finaldata, \"Followers gained\", \"Income Change\")"
   ]
  },
  {
   "cell_type": "code",
   "execution_count": 38,
   "metadata": {},
   "outputs": [],
   "source": [
    "from sklearn.linear_model import LinearRegression\n",
    "from sklearn.linear_model import Ridge\n",
    "from sklearn.linear_model import Lasso\n",
    "from sklearn.neighbors import KNeighborsRegressor\n",
    "from sklearn.svm import LinearSVR\n",
    "from sklearn.metrics import r2_score\n",
    "from sklearn.metrics import mean_squared_error"
   ]
  },
  {
   "cell_type": "code",
   "execution_count": 39,
   "metadata": {},
   "outputs": [],
   "source": [
    "estimators = {\"Linear Regression\": LinearRegression(), \"Ridge\": Ridge(), \"Lasso\":Lasso(), \"k-Nearest Neighbor\":\n",
    "             KNeighborsRegressor(), \"Support Vector Machine\": LinearSVR(max_iter=10000000)}"
   ]
  },
  {
   "cell_type": "code",
   "execution_count": 40,
   "metadata": {},
   "outputs": [],
   "source": [
    "def regressors_percentage_split(X_train, X_test, y_train, y_test):\n",
    "    for value in estimators:\n",
    "        model = estimators[value].fit(X=X_train, y=y_train)\n",
    "        r_train = r2_score(y_train, model.predict(X_train))\n",
    "        r_test = r2_score(y_test, model.predict(X_test))\n",
    "        print(value+\":\")\n",
    "        print(\"\\tR-squared value for training set: \",r_train)\n",
    "        print(\"\\tR-squared value for testing set: \",r_test,\"\\n\" )\n",
    "    return\n",
    "\n"
   ]
  },
  {
   "cell_type": "code",
   "execution_count": 41,
   "metadata": {},
   "outputs": [],
   "source": [
    "#creating test and train datasets for when followers is not included in features\n",
    "\n",
    "features_nofollower = features.drop(columns=[\"Followers\"], axis =1)\n",
    "X_train_nofollower, X_test_nofollower, y_train_nofollower, y_test_nofollower = train_test_split(\n",
    "    features_nofollower, target, random_state=3000)\n",
    "nofollower_modelbasedfeatures, X_train_selected_nofollower, X_test_selected_nofollower = modelbased_features(\n",
    "    X_train_nofollower, y_train_nofollower, X_test_nofollower, y_test_nofollower)"
   ]
  },
  {
   "cell_type": "code",
   "execution_count": 29,
   "metadata": {},
   "outputs": [
    {
     "name": "stdout",
     "output_type": "stream",
     "text": [
      "Analyzing Using All Features\n",
      "-------------------------------------------\n",
      "\n",
      "When including followers\n",
      "Linear Regression:\n",
      "\tR-squared value for training set:  0.18683833606044442\n",
      "\tR-squared value for testing set:  0.35477624158716925 \n",
      "\n",
      "Ridge:\n",
      "\tR-squared value for training set:  0.18682228342061846\n",
      "\tR-squared value for testing set:  0.3551094801287561 \n",
      "\n",
      "Lasso:\n",
      "\tR-squared value for training set:  0.18683806865919184\n",
      "\tR-squared value for testing set:  0.35482447575147247 \n",
      "\n",
      "k-Nearest Neighbor:\n",
      "\tR-squared value for training set:  0.2897167414714361\n",
      "\tR-squared value for testing set:  -0.03973425930696495 \n",
      "\n"
     ]
    },
    {
     "name": "stderr",
     "output_type": "stream",
     "text": [
      "C:\\My Files\\Programs\\Anaconda\\lib\\site-packages\\sklearn\\linear_model\\_ridge.py:148: LinAlgWarning:\n",
      "\n",
      "Ill-conditioned matrix (rcond=1.45644e-19): result may not be accurate.\n",
      "\n",
      "C:\\My Files\\Programs\\Anaconda\\lib\\site-packages\\sklearn\\svm\\_base.py:947: ConvergenceWarning:\n",
      "\n",
      "Liblinear failed to converge, increase the number of iterations.\n",
      "\n",
      "C:\\My Files\\Programs\\Anaconda\\lib\\site-packages\\sklearn\\linear_model\\_ridge.py:148: LinAlgWarning:\n",
      "\n",
      "Ill-conditioned matrix (rcond=1.4678e-19): result may not be accurate.\n",
      "\n"
     ]
    },
    {
     "name": "stdout",
     "output_type": "stream",
     "text": [
      "Support Vector Machine:\n",
      "\tR-squared value for training set:  -0.5558807865381752\n",
      "\tR-squared value for testing set:  -0.44180471306781444 \n",
      "\n",
      "When excluding followers\n",
      "Linear Regression:\n",
      "\tR-squared value for training set:  0.12166951729699482\n",
      "\tR-squared value for testing set:  0.3279649738544146 \n",
      "\n",
      "Ridge:\n",
      "\tR-squared value for training set:  0.12164613772971444\n",
      "\tR-squared value for testing set:  0.3281817767474411 \n",
      "\n",
      "Lasso:\n",
      "\tR-squared value for training set:  0.1216692590988524\n",
      "\tR-squared value for testing set:  0.32796151005620766 \n",
      "\n",
      "k-Nearest Neighbor:\n",
      "\tR-squared value for training set:  0.28478573062676016\n",
      "\tR-squared value for testing set:  -0.043062185112020535 \n",
      "\n"
     ]
    },
    {
     "name": "stderr",
     "output_type": "stream",
     "text": [
      "C:\\My Files\\Programs\\Anaconda\\lib\\site-packages\\sklearn\\svm\\_base.py:947: ConvergenceWarning:\n",
      "\n",
      "Liblinear failed to converge, increase the number of iterations.\n",
      "\n",
      "C:\\My Files\\Programs\\Anaconda\\lib\\site-packages\\sklearn\\linear_model\\_ridge.py:148: LinAlgWarning:\n",
      "\n",
      "Ill-conditioned matrix (rcond=1.04669e-17): result may not be accurate.\n",
      "\n"
     ]
    },
    {
     "name": "stdout",
     "output_type": "stream",
     "text": [
      "Support Vector Machine:\n",
      "\tR-squared value for training set:  -0.759104744893496\n",
      "\tR-squared value for testing set:  -0.6687877392768204 \n",
      "\n",
      "Analyzing Using Selected Features\n",
      "-------------------------------------------\n",
      "\n",
      "When including followers\n",
      "Linear Regression:\n",
      "\tR-squared value for training set:  0.14777552507446534\n",
      "\tR-squared value for testing set:  0.3308836671624237 \n",
      "\n",
      "Ridge:\n",
      "\tR-squared value for training set:  0.14777522102642338\n",
      "\tR-squared value for testing set:  0.3307731559666396 \n",
      "\n",
      "Lasso:\n",
      "\tR-squared value for training set:  0.14777550328163314\n",
      "\tR-squared value for testing set:  0.3308541409161666 \n",
      "\n",
      "k-Nearest Neighbor:\n",
      "\tR-squared value for training set:  0.2897167414714361\n",
      "\tR-squared value for testing set:  -0.03973425930696495 \n",
      "\n"
     ]
    },
    {
     "name": "stderr",
     "output_type": "stream",
     "text": [
      "C:\\My Files\\Programs\\Anaconda\\lib\\site-packages\\sklearn\\svm\\_base.py:947: ConvergenceWarning:\n",
      "\n",
      "Liblinear failed to converge, increase the number of iterations.\n",
      "\n",
      "C:\\My Files\\Programs\\Anaconda\\lib\\site-packages\\sklearn\\linear_model\\_ridge.py:148: LinAlgWarning:\n",
      "\n",
      "Ill-conditioned matrix (rcond=1.0087e-17): result may not be accurate.\n",
      "\n"
     ]
    },
    {
     "name": "stdout",
     "output_type": "stream",
     "text": [
      "Support Vector Machine:\n",
      "\tR-squared value for training set:  -5.6471984063947795\n",
      "\tR-squared value for testing set:  -7.429504506180711 \n",
      "\n",
      "When excluding followers\n",
      "Linear Regression:\n",
      "\tR-squared value for training set:  0.10615135430478717\n",
      "\tR-squared value for testing set:  0.3058376909715065 \n",
      "\n",
      "Ridge:\n",
      "\tR-squared value for training set:  0.1061512215003989\n",
      "\tR-squared value for testing set:  0.30573408947988 \n",
      "\n",
      "Lasso:\n",
      "\tR-squared value for training set:  0.10615133152993472\n",
      "\tR-squared value for testing set:  0.30579482634218647 \n",
      "\n",
      "k-Nearest Neighbor:\n",
      "\tR-squared value for training set:  0.28478573062676016\n",
      "\tR-squared value for testing set:  -0.043062185112020535 \n",
      "\n",
      "Support Vector Machine:\n",
      "\tR-squared value for training set:  -1.1737166702937274\n",
      "\tR-squared value for testing set:  -1.6367630893517529 \n",
      "\n"
     ]
    },
    {
     "name": "stderr",
     "output_type": "stream",
     "text": [
      "C:\\My Files\\Programs\\Anaconda\\lib\\site-packages\\sklearn\\svm\\_base.py:947: ConvergenceWarning:\n",
      "\n",
      "Liblinear failed to converge, increase the number of iterations.\n",
      "\n"
     ]
    }
   ],
   "source": [
    "print(\"Analyzing Using All Features\")\n",
    "print(\"-------------------------------------------\\n\")\n",
    "print(\"When including followers\")\n",
    "regressors_percentage_split(X_train, X_test, y_train, y_test)\n",
    "print(\"When excluding followers\")\n",
    "regressors_percentage_split(X_train_nofollower, X_test_nofollower, y_train_nofollower, y_test_nofollower)\n",
    "\n",
    "print(\"Analyzing Using Selected Features\")\n",
    "print(\"-------------------------------------------\\n\")\n",
    "print(\"When including followers\")\n",
    "regressors_percentage_split(X_train_selected, X_test_selected, y_train, y_test)\n",
    "print(\"When excluding followers\")\n",
    "regressors_percentage_split(X_train_selected_nofollower, X_test_selected_nofollower, y_train_nofollower, \n",
    "                            y_test_nofollower)\n",
    "\n"
   ]
  },
  {
   "cell_type": "markdown",
   "metadata": {},
   "source": [
    "### 3.4. Model Evaluation\n",
    "\n",
    "#### Machine Learning\n",
    "* Five machine learning algorithms were analyzed: Multiple Linear Regression, Ridge, Lasso, k-Nearest Neighbor, and Support Vector Machine. They were analyzed in four different situations: analyzing all features including followers, all features excluding followers, selected features including followers, and selected features excluding followers.\n",
    "* Among all conditions, Support Vector Machine performed the worst by having negative R-squared values for all condition. k-Nearest Neighbor also did not perform well as it consistently had a negative R-squared value for the testing set in all conditions. \n",
    "* Multiple Linear Regression, Ridge, and Lasso had the best results out of the five algorithms. They performed the best when analyzing all features and including followers. In that situation, they had an R-squared value of 0.186 for training and 0.355 for testing data.\n",
    "* All models are at risk of underfitting as the R-squared for training data is less than the R-squared for testing data. \n",
    "\n",
    "#### Questions\n",
    "* The most important feature identified in predicting future income growth of Twitch channels via model based feature selection was Followers. However, when graphing the regression line, it resulted in a slope of 0.0002. In addition, we believed the data for Followers was corrupt in the dataset. So, to account for this, we also performed machine learning algorithms on features selections that excluded “Followers”.\n",
    "* From the model based feature selection, it was found that the ideal number of features to include in analysis was 5 features. However, when performing machine learning algorithms, higher R-squared was achieved when analyzing with all features rather than with the selected features. \n",
    "* The supervised machine learning algorithms that produced the highest accuracy were Multiple Linear Regression, Ridge Regression, and Lasso Regression. \n",
    "\n",
    "#### Hypothesis Testing\n",
    "* **Hypotheses 1:** Followers gained was not the most influential feature in predicting income growth. Through iterative feature selection, the list of features in order of importance of influence to the target variable of income growth were shown. Followers was considered most important, as it was at the top of the list. Thus, hypotheses 1 is rejected and it can be concluded that followers gained is not the most influential feature in predicting income growth. \n",
    "* **Hypotheses 2:** The regression line on the scatter plot comparing stream time and income change is shown to have the equation of approximately y =.096x -1567. This shows a small but positive relationship between stream time and income change. However, the ANOVA shows that the p value of the relationship does not pass the assumption of normality as it has a p value of less than 0.05, thus no significant positive relationship exists. Thus, hypothesis 2 is rejected and it can be concluded that stream time has no relationship with income growth. \n",
    "* **Hypothesis 3:** Through ANOVA analysis of views gained and income growth, hypothesis 3 is rejected as the data does not pass the assumption of normality because the p value is less than 0.05. Thus, it can be concluded that no relationship exists between views gained and income growth\n"
   ]
  },
  {
   "cell_type": "markdown",
   "metadata": {},
   "source": [
    "### 3.5. Model Optimization & 3.6. Model Testing"
   ]
  },
  {
   "cell_type": "code",
   "execution_count": 43,
   "metadata": {},
   "outputs": [
    {
     "name": "stdout",
     "output_type": "stream",
     "text": [
      "Ridge Tuning:\n",
      "Best parameters:  {'alpha': 100}\n",
      "Training set score (Non-selected features, best params):  0.18280811578704292\n",
      "Test set score (Non-selected features, best params):  0.3501978785222635\n",
      "Best parameters:  {'alpha': 100}\n",
      "Training set score (Selected features, best params):  0.14723944527229305\n",
      "Test set score (Selected features, best params):  0.32571380024227303\n",
      "\n",
      "\n",
      "Lasso Tuning:\n",
      "Best parameters:  {'alpha': 100}\n",
      "Training set score (Non-selected features, best params):  0.18437477730117868\n",
      "Test set score (Non-selected features, best params):  0.3555141999485937\n",
      "Best parameters:  {'alpha': 100}\n",
      "Training set score (Selected features, best params):  0.14755759675131408\n",
      "Test set score (Selected features, best params):  0.32771273175479976\n",
      "\n",
      "\n"
     ]
    }
   ],
   "source": [
    "from sklearn.model_selection import GridSearchCV\n",
    "\n",
    "import warnings\n",
    "warnings.filterwarnings('ignore')\n",
    "\n",
    "param_grid = {'alpha':[.001, .01, .1, 1, 10, 100]}\n",
    "\n",
    "def grid_searchRidge():\n",
    "    grid_search = GridSearchCV(Ridge(), param_grid, cv=5)\n",
    "    grid_search.fit(X=X_train, y=y_train)\n",
    "    print(\"Ridge Tuning:\")\n",
    "    print(\"Best parameters: \", grid_search.best_params_)\n",
    "    print(\"Training set score (Non-selected features, best params): \", grid_search.score(X_train, y_train))\n",
    "    print(\"Test set score (Non-selected features, best params): \", grid_search.score(X_test, y_test))\n",
    "    \n",
    "    grid_search_selected = GridSearchCV(Ridge(), param_grid, cv=5)\n",
    "    grid_search_selected.fit(X=X_train_selected, y=y_train)\n",
    "    \n",
    "    print(\"Best parameters: \", grid_search_selected.best_params_)\n",
    "    print(\"Training set score (Selected features, best params): \", grid_search_selected.score(X_train_selected, y_train))\n",
    "    print(\"Test set score (Selected features, best params): \", grid_search_selected.score(X_test_selected, y_test))\n",
    "    print(\"\\n\")\n",
    "    \n",
    "def grid_searchLasso():\n",
    "    grid_search = GridSearchCV(Lasso(), param_grid, cv=5)\n",
    "    grid_search.fit(X=X_train, y=y_train)\n",
    "    \n",
    "    print(\"Lasso Tuning:\")\n",
    "    print(\"Best parameters: \", grid_search.best_params_)\n",
    "    print(\"Training set score (Non-selected features, best params): \", grid_search.score(X_train, y_train))\n",
    "    print(\"Test set score (Non-selected features, best params): \", grid_search.score(X_test, y_test))\n",
    "    \n",
    "    grid_search_selected = GridSearchCV(Lasso(), param_grid, cv=5)\n",
    "    grid_search_selected.fit(X=X_train_selected, y=y_train)\n",
    "    \n",
    "    print(\"Best parameters: \", grid_search_selected.best_params_)\n",
    "    print(\"Training set score (Selected features, best params): \", grid_search_selected.score(X_train_selected, y_train))\n",
    "    print(\"Test set score (Selected features, best params): \", grid_search_selected.score(X_test_selected, y_test))\n",
    "    print(\"\\n\")\n",
    "\n",
    "grid_searchRidge()\n",
    "grid_searchLasso()"
   ]
  },
  {
   "cell_type": "markdown",
   "metadata": {},
   "source": [
    "We used GridSearch to tune our models and try to improve the performance accuracy of our models by attempting to correct the underfitting. However, after running GridSearch, it is clear that hypertuning the alpha parameter did not result in an increase in performance, and that our feature selection performance was still worse than including all the features. Given this result, we conclude that a model with high prediction accuracy is unable to be fit onto our data, and that none of our data’s features can be tuned to accurately predict our target. "
   ]
  },
  {
   "cell_type": "markdown",
   "metadata": {},
   "source": [
    "<a id=\"4\"></a>\n",
    "<hr style=\"height:2px; border:none; color:black; background-color:black;\">"
   ]
  },
  {
   "cell_type": "markdown",
   "metadata": {},
   "source": [
    "## 4. DISCUSSION\n",
    "* Provide a summary of the steps you took to analyze your data and test your predictive model\n",
    "* Interpret your findings from 3.4., 3.5, and 3.6\n",
    "    * Which algorithms did you compare?\n",
    "    * Which algorithm(s) revealed best performance?\n",
    "    * Which algorithm(s) should be used for your predictive model?\n",
    "    * Based on your findings, can we you the features in your dataset to predict the outcome variable you identified using the algorithms you've applied? (It is okay if the answer is no. We're interested in the process, not the performance of the model.)\n",
    "* For your hypotheses, interpret the results. What does it mean to have significant/non-significant differences with regards to your data?\n",
    "\n",
    "\n",
    "* End this section with a conclusion paragraph containing some pointers for future work\n",
    "    * (e.g., get more data/features, perform another analysis, etc.)"
   ]
  },
  {
   "cell_type": "markdown",
   "metadata": {},
   "source": [
    "<a id=\"5\"></a>\n",
    "<hr style=\"height:2px; border:none; color:black; background-color:black;\">"
   ]
  },
  {
   "cell_type": "markdown",
   "metadata": {},
   "source": [
    "### CONTRIBUTIONS\n",
    "* Describe each team member's contributions to the report (who did what in each section)\n",
    "* Remember this is a team effort!\n",
    "* Each member of your team will provide peer evaluation of other team members. Your final grade on the project will be based on those peer evaluations. An survey will be shared after the deadline for this deliverable."
   ]
  },
  {
   "cell_type": "code",
   "execution_count": null,
   "metadata": {},
   "outputs": [],
   "source": []
  }
 ],
 "metadata": {
  "kernelspec": {
   "display_name": "Python 3",
   "language": "python",
   "name": "python3"
  },
  "language_info": {
   "codemirror_mode": {
    "name": "ipython",
    "version": 3
   },
   "file_extension": ".py",
   "mimetype": "text/x-python",
   "name": "python",
   "nbconvert_exporter": "python",
   "pygments_lexer": "ipython3",
   "version": "3.7.6"
  }
 },
 "nbformat": 4,
 "nbformat_minor": 2
}
