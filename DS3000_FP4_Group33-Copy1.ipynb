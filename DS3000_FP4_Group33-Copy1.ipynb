{
 "cells": [
  {
   "cell_type": "markdown",
   "metadata": {},
   "source": [
    "<center> <h2> DS 3000 - Summer 2020</h2> </center>\n",
    "<center> <h3> DS Report </h3> </center>\n"
   ]
  },
  {
   "cell_type": "markdown",
   "metadata": {},
   "source": [
    "<center> <h3> Analysis and Prediction of Twitch Channel Growth</h3> </center>\n",
    "<center><h4>Carrine Shrestha, Yihang Li</h4></center>\n"
   ]
  },
  {
   "cell_type": "markdown",
   "metadata": {},
   "source": [
    "  "
   ]
  },
  {
   "cell_type": "markdown",
   "metadata": {},
   "source": [
    "<hr style=\"height:2px; border:none; color:black; background-color:black;\">"
   ]
  },
  {
   "cell_type": "markdown",
   "metadata": {},
   "source": [
    "#### Executive Summary:\n",
    "\n",
    "Add your summary here (100-150 words)\n",
    "\n",
    "Provide a brief summary of your project. After reading this executive summary, your readers should have a rough understanding of what you did in this project. You can think of this summary in terms of the four sections of the report and write 1-2 sentences describing each section.\n",
    "\n"
   ]
  },
  {
   "cell_type": "markdown",
   "metadata": {},
   "source": [
    "<hr style=\"height:2px; border:none; color:black; background-color:black;\">"
   ]
  },
  {
   "cell_type": "markdown",
   "metadata": {},
   "source": [
    "## Outline\n",
    "1. <a href='#1'>INTRODUCTION</a>\n",
    "2. <a href='#2'>METHOD</a>\n",
    "3. <a href='#3'>RESULTS</a>\n",
    "4. <a href='#4'>DISCUSSION</a>"
   ]
  },
  {
   "cell_type": "markdown",
   "metadata": {},
   "source": [
    "<a id=\"1\"></a>\n",
    "<hr style=\"height:2px; border:none; color:black; background-color:black;\">"
   ]
  },
  {
   "cell_type": "markdown",
   "metadata": {},
   "source": [
    "## 1. INTRODUCTION"
   ]
  },
  {
   "cell_type": "markdown",
   "metadata": {},
   "source": [
    "**Problem Statement**\n",
    "\n",
    "With the growth of live streaming as an entertainment platform, coronavirus has presented a strong opportunity for online streaming platforms to expand and grow. We want to track this growth and how growth is displayed among the creators in Twitch. Understanding Twitch’s growth and live streaming as a career field is important to those looking into streaming as a viable at-home, virtual job, and predicting measures of growth and success. We will create an expected projection of Twitch channels over the next year on a monthly basis of viewership and other metrics, which will be used in parallel with subscriber data to project expected income. We want to gain insight into the jump in viewership due to coronavirus and better understand the rise of the streaming industry. \n",
    "\n",
    "**Significance of the Problem**\n",
    "\n",
    "Live streaming is an industry that is quickly growing in the technology space. Following Twitch’s initial success in the early 2010s, Youtube (via Youtube Live), Facebook (Facebook/Instagram Live) and other major platforms have followed up by creating their own streaming platforms for content creators. Insights into Twitch’s growth potential can quantify the growth of live streaming and their platforms as a brand new career field with opportunities for people to look into. Tracking the projected growth of a fast-moving industry in live streaming can be really useful for choosing a job as a software or data engineer, as joining one of these companies can be particularly lucrative. Alternatively, should investment opportunities present themselves in the future, having an understanding of YoY growth and metric-backed expectations can lead to potentially rewarding investments. Finally, if someone were to come across the expected growth and data and were interested in becoming a livestreamer themselves, they could use the projected data to measure their own metrics and success.\n",
    "\n",
    "**Previous Work on the Topic**\n",
    "\n",
    "Most of the analysis done around Twitch.tv’s data is in regards to the platform as a whole. Students from WPI found relationships between the demographics and the viewership behavior in relation to the types and formats of the content being delivered (Farrington and Muesch). Other breakdowns look at aggregate metrics for Twitch, such as the numbers of broadcasters and peak viewership in order to generate a tentative estimate of Twitch’s revenue (Iqbal). Even recommendations for marketing managers and potential influencers are presented with aggregate data metrics (Influencer Marketing Hub). Given the background of Twitch as a relatively new platform, we were unable to find any analysis on specific channels or the application of machine learning methods to predict singular channel growth. Identifying this gap and realizing its potential, we set out to create models that would allow us to explore Twitch through the lens of singular channels and learn from applying ML methods to real data.\n",
    "\n",
    "**Questions/Hypotheses**\n",
    "* **Research Questions**\n",
    "    * Which features are most important in predicting the expected future income of Twitch channels?\n",
    "    * What is the ideal number of features to include in analysis when predicting income of Twitch channels?\n",
    "    * Which supervised machine learning algorithm will produce the highest accuracy for our test dataset?\n",
    "\n",
    "* **Hypotheses 1**\n",
    "    * Hypotheses: The average viewer count is the most influential feature in predicting income. \n",
    "    * Null: The average viewer count has no effect on income. \n",
    "\n",
    "* **Hypotheses 2**\n",
    "    * Hypotheses: Stream time has a positive relationship with income. \n",
    "    * Null: Stream time has no relationship with income. \n",
    "\n",
    "* **Hypotheses 3**\n",
    "    * Hypotheses: A significant relationship exists between language and income. \n",
    "    * Null: No relationship exists between language and income. \n",
    "\n",
    "**References**\n",
    "\n",
    "Iqbal, Mansoor. “Twitch Revenue and Usage Statistics (2020).” Business of Apps, Sokomedia, 24 Apr. 2020, www.businessofapps.com/data/twitch-statistics/\n",
    "\n",
    "“25 Useful Twitch Stats for Influencer Marketing Managers [Infographic].” Influencer Marketing Hub, 10 June 2020, influencermarketinghub.com/twitch-stats/\n",
    "\n",
    "Bellanger, Caroline. “New Study from Upfluence Finds COVID-19 Lockdown Restrictions Resulted in a 24% Viewership Increase on Live-Streaming Platform Twitch.” Upfluence, Upfluence, 3 Apr. 2020, www.upfluence.com/press-release/new-study-from-upfluence-finds-covid-19-lockdown-restrictions-resulted-in-a-24-viewership-increase-on-live-streaming-platform-twitch\n",
    "\n",
    "Farrington, Daniel Jeffrey, and Muesch, Nicholas Matthew. “Analysis of the Characteristics and Content of Twitch Live-Streaming.” Digital WPI, Worcester Polytechnic Institute, Mar. 2015, digitalcommons.wpi.edu/iqp-all/3376/\n"
   ]
  },
  {
   "cell_type": "markdown",
   "metadata": {},
   "source": [
    "<a id=\"2\"></a>\n",
    "<hr style=\"height:2px; border:none; color:black; background-color:black;\">"
   ]
  },
  {
   "cell_type": "markdown",
   "metadata": {},
   "source": [
    "## 2. METHOD"
   ]
  },
  {
   "cell_type": "markdown",
   "metadata": {},
   "source": [
    "### 2.1. Data Acquisition\n",
    "\n",
    "We sourced the data we are using ourselves through web-scraping two websites, TwitchTracker and SullyGnome, where both sites track and record channel metrics from Twitch.\n",
    "\n",
    "From **SullyGnome**, we were able to obtain data of the 100 most popular Twitch streamers per month. The data included information such as watch time, stream time, peak viewers, etc. and we sourced data for 13 months, ranging from April 2019 to April 2020. We obtained a total number of 11 variables from the dataset.\n",
    "\n",
    "We took subscriber data from **TwitchTracker** and used it to generate the channel’s income data, then appended the income data to a cleaned aggregate dataset from SullyGnome. This variable is the outcome variable. \n",
    "\n",
    "Twitch: https://twitchtracker.com/subscribers\n",
    "SullyGnome: https://sullygnome.com "
   ]
  },
  {
   "cell_type": "markdown",
   "metadata": {},
   "source": [
    "### 2.2. Variables\n",
    "\n",
    "**Feature Variables:**\n",
    "* Watch time\n",
    "* Stream Time\n",
    "* Peak Viewers\n",
    "* Average Viewers\n",
    "* Followers\n",
    "* Followers Gained\n",
    "* Views Gained\n",
    "* Partnered\n",
    "* Mature\n",
    "* Language\n",
    "* Income\n",
    "\n",
    "**Target Variable:**\n",
    "* Income\n",
    "\n",
    "For our analysis purposes, we used the feature variables as independent variables and the target variable as the dependent variable for all our hypotheses. \n",
    "\n"
   ]
  },
  {
   "cell_type": "markdown",
   "metadata": {},
   "source": [
    "### 2.3. Data Analysis\n",
    "**Feature Extraction:** We will use Iterative Feature Selection to gain an understanding of which variables are important and the order of importance of the variables. This will allow us to gain more insight into our data. For analysis, we will use Model-Based Feature Selection to judge which features are most important for use in our model. \n",
    "\n",
    "**Machine Learning Techniques:** We will be applying supervised machine learning algorithms to analyze the data. As our target variable of future income is a continuous variable, we plan on using regression analysis on our feature variables. We will be applying Multiple Linear Regression, Lasso, Ridge, KNNRegressor and SVM machine learning algorithms to our data to analyze for best results as they are all used to tune regression models. We expect Lasso to perform the best as our data contains many features, but we expect only a few of them to be impactful to the target variable. "
   ]
  },
  {
   "cell_type": "markdown",
   "metadata": {},
   "source": [
    "<a id=\"3\"></a>\n",
    "<hr style=\"height:2px; border:none; color:black; background-color:black;\">"
   ]
  },
  {
   "cell_type": "markdown",
   "metadata": {},
   "source": [
    "## 3. RESULTS"
   ]
  },
  {
   "cell_type": "markdown",
   "metadata": {},
   "source": [
    "### 3.1. Data Wrangling\n",
    "\n",
    "\n",
    "**Simple Data Cleaning:**\n",
    "\n",
    "For the data obtained from SullyGnome, we merged all of the files from each month together. In order to be able to sufficiently train our machine for each user, we decided that we need to obtain at least 10 data points per channel so we omitted all users who did not appear in the dataset at least 10 times. Next, we adjusted the channel names as, in some instances, the foreign name and the English name of the channel would appear in the data. We cleaned it so that only the English name appeared, which would then be used by the subscriber scraper. \n",
    "\n",
    "For the subscriber scraper, we scraped data from the Twitch site for each user. The scraping takes about 2-3 hours. From that information, we calculated the current subscriber based income of the users by performing basic multiplication based on the subscriber count per tier. \n",
    "\n",
    "The final dataset will merge the total income variable from the Twitch data and the data from SullyGnome. The variables will merge together on the accounts of channel name and data. "
   ]
  },
  {
   "cell_type": "code",
   "execution_count": 2,
   "metadata": {},
   "outputs": [],
   "source": [
    "import pandas as pd\n",
    "\n",
    "allchannels = pd.read_csv(\"generated_data/TotalChannelData.csv\")\n",
    "allchannels.set_index(\"Channel\", inplace=True)\n",
    "\n",
    "subdata = pd.read_csv(\"generated_data/SubData.csv\")\n",
    "subdata.set_index(\"Channel\", inplace=True)\n",
    "\n",
    "finaldata = pd.merge(allchannels, subdata, how='left', on=['Channel', 'Month'])\n",
    "finaldata.drop(['Unnamed: 0', \"Prime\", \"Tier 1\", \"Tier 2\", \"Tier 3\", \"Total\", \"Unshared\"], axis =1, inplace=True)\n",
    "\n",
    "#removing all rows where total income is not provided, meaning subscriber data was not scraped \n",
    "#this means the rows being removed are all channels that have less than 10 datapoints\n",
    "finaldata = finaldata[finaldata['Total Income'].notna()]\n",
    "\n",
    "#removing dollar formatting from total income \n",
    "finaldata['Total Income'] = finaldata['Total Income'].str.replace(',', '').str.replace('$', '').astype(float)"
   ]
  },
  {
   "cell_type": "code",
   "execution_count": 3,
   "metadata": {},
   "outputs": [],
   "source": [
    "#check if there are any partnered channels that are \"False\"\n",
    "for i in range(len(finaldata.loc[:,\"Partnered\"])):\n",
    "    if finaldata.loc[:,\"Partnered\"][i] == False:\n",
    "        print(\"Error\")\n",
    "    else:\n",
    "        continue"
   ]
  },
  {
   "cell_type": "code",
   "execution_count": 4,
   "metadata": {},
   "outputs": [
    {
     "data": {
      "text/html": [
       "<div>\n",
       "<style scoped>\n",
       "    .dataframe tbody tr th:only-of-type {\n",
       "        vertical-align: middle;\n",
       "    }\n",
       "\n",
       "    .dataframe tbody tr th {\n",
       "        vertical-align: top;\n",
       "    }\n",
       "\n",
       "    .dataframe thead th {\n",
       "        text-align: right;\n",
       "    }\n",
       "</style>\n",
       "<table border=\"1\" class=\"dataframe\">\n",
       "  <thead>\n",
       "    <tr style=\"text-align: right;\">\n",
       "      <th></th>\n",
       "      <th>Watch time</th>\n",
       "      <th>Stream time</th>\n",
       "      <th>Peak viewers</th>\n",
       "      <th>Average viewers</th>\n",
       "      <th>Followers</th>\n",
       "      <th>Followers gained</th>\n",
       "      <th>Views gained</th>\n",
       "      <th>Mature</th>\n",
       "      <th>Language</th>\n",
       "      <th>Month</th>\n",
       "      <th>Total Income</th>\n",
       "    </tr>\n",
       "    <tr>\n",
       "      <th>Channel</th>\n",
       "      <th></th>\n",
       "      <th></th>\n",
       "      <th></th>\n",
       "      <th></th>\n",
       "      <th></th>\n",
       "      <th></th>\n",
       "      <th></th>\n",
       "      <th></th>\n",
       "      <th></th>\n",
       "      <th></th>\n",
       "      <th></th>\n",
       "    </tr>\n",
       "  </thead>\n",
       "  <tbody>\n",
       "    <tr>\n",
       "      <th>AdmiralBahroo</th>\n",
       "      <td>145006575</td>\n",
       "      <td>15510</td>\n",
       "      <td>16796</td>\n",
       "      <td>9348</td>\n",
       "      <td>767646</td>\n",
       "      <td>3567</td>\n",
       "      <td>1260698</td>\n",
       "      <td>False</td>\n",
       "      <td>English</td>\n",
       "      <td>2020-03-01</td>\n",
       "      <td>51991.59</td>\n",
       "    </tr>\n",
       "    <tr>\n",
       "      <th>AdmiralBahroo</th>\n",
       "      <td>133999260</td>\n",
       "      <td>15810</td>\n",
       "      <td>18081</td>\n",
       "      <td>8475</td>\n",
       "      <td>767646</td>\n",
       "      <td>8821</td>\n",
       "      <td>1401268</td>\n",
       "      <td>False</td>\n",
       "      <td>English</td>\n",
       "      <td>2019-07-01</td>\n",
       "      <td>65543.89</td>\n",
       "    </tr>\n",
       "    <tr>\n",
       "      <th>AdmiralBahroo</th>\n",
       "      <td>113289465</td>\n",
       "      <td>13935</td>\n",
       "      <td>12942</td>\n",
       "      <td>8129</td>\n",
       "      <td>767646</td>\n",
       "      <td>2100</td>\n",
       "      <td>1091917</td>\n",
       "      <td>False</td>\n",
       "      <td>English</td>\n",
       "      <td>2020-04-01</td>\n",
       "      <td>53793.14</td>\n",
       "    </tr>\n",
       "    <tr>\n",
       "      <th>AdmiralBahroo</th>\n",
       "      <td>107821695</td>\n",
       "      <td>11385</td>\n",
       "      <td>21053</td>\n",
       "      <td>9470</td>\n",
       "      <td>767646</td>\n",
       "      <td>24039</td>\n",
       "      <td>1664305</td>\n",
       "      <td>False</td>\n",
       "      <td>English</td>\n",
       "      <td>2019-09-01</td>\n",
       "      <td>79107.66</td>\n",
       "    </tr>\n",
       "    <tr>\n",
       "      <th>AdmiralBahroo</th>\n",
       "      <td>94542885</td>\n",
       "      <td>12195</td>\n",
       "      <td>14637</td>\n",
       "      <td>7752</td>\n",
       "      <td>767646</td>\n",
       "      <td>4226</td>\n",
       "      <td>1094156</td>\n",
       "      <td>False</td>\n",
       "      <td>English</td>\n",
       "      <td>2020-01-01</td>\n",
       "      <td>47713.70</td>\n",
       "    </tr>\n",
       "  </tbody>\n",
       "</table>\n",
       "</div>"
      ],
      "text/plain": [
       "               Watch time  Stream time  Peak viewers  Average viewers  \\\n",
       "Channel                                                                 \n",
       "AdmiralBahroo   145006575        15510         16796             9348   \n",
       "AdmiralBahroo   133999260        15810         18081             8475   \n",
       "AdmiralBahroo   113289465        13935         12942             8129   \n",
       "AdmiralBahroo   107821695        11385         21053             9470   \n",
       "AdmiralBahroo    94542885        12195         14637             7752   \n",
       "\n",
       "               Followers  Followers gained  Views gained  Mature Language  \\\n",
       "Channel                                                                     \n",
       "AdmiralBahroo     767646              3567       1260698   False  English   \n",
       "AdmiralBahroo     767646              8821       1401268   False  English   \n",
       "AdmiralBahroo     767646              2100       1091917   False  English   \n",
       "AdmiralBahroo     767646             24039       1664305   False  English   \n",
       "AdmiralBahroo     767646              4226       1094156   False  English   \n",
       "\n",
       "                    Month  Total Income  \n",
       "Channel                                  \n",
       "AdmiralBahroo  2020-03-01      51991.59  \n",
       "AdmiralBahroo  2019-07-01      65543.89  \n",
       "AdmiralBahroo  2020-04-01      53793.14  \n",
       "AdmiralBahroo  2019-09-01      79107.66  \n",
       "AdmiralBahroo  2020-01-01      47713.70  "
      ]
     },
     "execution_count": 4,
     "metadata": {},
     "output_type": "execute_result"
    }
   ],
   "source": [
    "#removing partnered from dataframe as all values are True \n",
    "finaldata.drop([\"Partnered\"], axis = 1, inplace=True)\n",
    "finaldata.head()"
   ]
  },
  {
   "cell_type": "code",
   "execution_count": 5,
   "metadata": {},
   "outputs": [],
   "source": [
    "features_original = finaldata.drop(\"Total Income\", axis=1)\n",
    "features_original = features_original.reset_index()\n",
    "target = finaldata[\"Total Income\"]"
   ]
  },
  {
   "cell_type": "code",
   "execution_count": 6,
   "metadata": {},
   "outputs": [
    {
     "data": {
      "text/html": [
       "<div>\n",
       "<style scoped>\n",
       "    .dataframe tbody tr th:only-of-type {\n",
       "        vertical-align: middle;\n",
       "    }\n",
       "\n",
       "    .dataframe tbody tr th {\n",
       "        vertical-align: top;\n",
       "    }\n",
       "\n",
       "    .dataframe thead th {\n",
       "        text-align: right;\n",
       "    }\n",
       "</style>\n",
       "<table border=\"1\" class=\"dataframe\">\n",
       "  <thead>\n",
       "    <tr style=\"text-align: right;\">\n",
       "      <th></th>\n",
       "      <th>x0_False</th>\n",
       "      <th>x0_True</th>\n",
       "      <th>x1_English</th>\n",
       "      <th>x1_French</th>\n",
       "      <th>x1_German</th>\n",
       "      <th>x1_Korean</th>\n",
       "      <th>x1_Portuguese</th>\n",
       "      <th>Watch time</th>\n",
       "      <th>Stream time</th>\n",
       "      <th>Peak viewers</th>\n",
       "      <th>Average viewers</th>\n",
       "      <th>Followers</th>\n",
       "      <th>Followers gained</th>\n",
       "      <th>Views gained</th>\n",
       "      <th>Month</th>\n",
       "    </tr>\n",
       "    <tr>\n",
       "      <th>Channel</th>\n",
       "      <th></th>\n",
       "      <th></th>\n",
       "      <th></th>\n",
       "      <th></th>\n",
       "      <th></th>\n",
       "      <th></th>\n",
       "      <th></th>\n",
       "      <th></th>\n",
       "      <th></th>\n",
       "      <th></th>\n",
       "      <th></th>\n",
       "      <th></th>\n",
       "      <th></th>\n",
       "      <th></th>\n",
       "      <th></th>\n",
       "    </tr>\n",
       "  </thead>\n",
       "  <tbody>\n",
       "    <tr>\n",
       "      <th>AdmiralBahroo</th>\n",
       "      <td>1.0</td>\n",
       "      <td>0.0</td>\n",
       "      <td>1.0</td>\n",
       "      <td>0.0</td>\n",
       "      <td>0.0</td>\n",
       "      <td>0.0</td>\n",
       "      <td>0.0</td>\n",
       "      <td>145006575</td>\n",
       "      <td>15510</td>\n",
       "      <td>16796</td>\n",
       "      <td>9348</td>\n",
       "      <td>767646</td>\n",
       "      <td>3567</td>\n",
       "      <td>1260698</td>\n",
       "      <td>2020-03-01</td>\n",
       "    </tr>\n",
       "    <tr>\n",
       "      <th>AdmiralBahroo</th>\n",
       "      <td>1.0</td>\n",
       "      <td>0.0</td>\n",
       "      <td>1.0</td>\n",
       "      <td>0.0</td>\n",
       "      <td>0.0</td>\n",
       "      <td>0.0</td>\n",
       "      <td>0.0</td>\n",
       "      <td>133999260</td>\n",
       "      <td>15810</td>\n",
       "      <td>18081</td>\n",
       "      <td>8475</td>\n",
       "      <td>767646</td>\n",
       "      <td>8821</td>\n",
       "      <td>1401268</td>\n",
       "      <td>2019-07-01</td>\n",
       "    </tr>\n",
       "    <tr>\n",
       "      <th>AdmiralBahroo</th>\n",
       "      <td>1.0</td>\n",
       "      <td>0.0</td>\n",
       "      <td>1.0</td>\n",
       "      <td>0.0</td>\n",
       "      <td>0.0</td>\n",
       "      <td>0.0</td>\n",
       "      <td>0.0</td>\n",
       "      <td>113289465</td>\n",
       "      <td>13935</td>\n",
       "      <td>12942</td>\n",
       "      <td>8129</td>\n",
       "      <td>767646</td>\n",
       "      <td>2100</td>\n",
       "      <td>1091917</td>\n",
       "      <td>2020-04-01</td>\n",
       "    </tr>\n",
       "    <tr>\n",
       "      <th>AdmiralBahroo</th>\n",
       "      <td>1.0</td>\n",
       "      <td>0.0</td>\n",
       "      <td>1.0</td>\n",
       "      <td>0.0</td>\n",
       "      <td>0.0</td>\n",
       "      <td>0.0</td>\n",
       "      <td>0.0</td>\n",
       "      <td>107821695</td>\n",
       "      <td>11385</td>\n",
       "      <td>21053</td>\n",
       "      <td>9470</td>\n",
       "      <td>767646</td>\n",
       "      <td>24039</td>\n",
       "      <td>1664305</td>\n",
       "      <td>2019-09-01</td>\n",
       "    </tr>\n",
       "    <tr>\n",
       "      <th>AdmiralBahroo</th>\n",
       "      <td>1.0</td>\n",
       "      <td>0.0</td>\n",
       "      <td>1.0</td>\n",
       "      <td>0.0</td>\n",
       "      <td>0.0</td>\n",
       "      <td>0.0</td>\n",
       "      <td>0.0</td>\n",
       "      <td>94542885</td>\n",
       "      <td>12195</td>\n",
       "      <td>14637</td>\n",
       "      <td>7752</td>\n",
       "      <td>767646</td>\n",
       "      <td>4226</td>\n",
       "      <td>1094156</td>\n",
       "      <td>2020-01-01</td>\n",
       "    </tr>\n",
       "    <tr>\n",
       "      <th>...</th>\n",
       "      <td>...</td>\n",
       "      <td>...</td>\n",
       "      <td>...</td>\n",
       "      <td>...</td>\n",
       "      <td>...</td>\n",
       "      <td>...</td>\n",
       "      <td>...</td>\n",
       "      <td>...</td>\n",
       "      <td>...</td>\n",
       "      <td>...</td>\n",
       "      <td>...</td>\n",
       "      <td>...</td>\n",
       "      <td>...</td>\n",
       "      <td>...</td>\n",
       "      <td>...</td>\n",
       "    </tr>\n",
       "    <tr>\n",
       "      <th>hanryang1125</th>\n",
       "      <td>0.0</td>\n",
       "      <td>1.0</td>\n",
       "      <td>0.0</td>\n",
       "      <td>0.0</td>\n",
       "      <td>0.0</td>\n",
       "      <td>1.0</td>\n",
       "      <td>0.0</td>\n",
       "      <td>168360420</td>\n",
       "      <td>14985</td>\n",
       "      <td>23475</td>\n",
       "      <td>11234</td>\n",
       "      <td>476111</td>\n",
       "      <td>6552</td>\n",
       "      <td>2398051</td>\n",
       "      <td>2020-01-01</td>\n",
       "    </tr>\n",
       "    <tr>\n",
       "      <th>hanryang1125</th>\n",
       "      <td>0.0</td>\n",
       "      <td>1.0</td>\n",
       "      <td>0.0</td>\n",
       "      <td>0.0</td>\n",
       "      <td>0.0</td>\n",
       "      <td>1.0</td>\n",
       "      <td>0.0</td>\n",
       "      <td>167103915</td>\n",
       "      <td>15210</td>\n",
       "      <td>21727</td>\n",
       "      <td>10985</td>\n",
       "      <td>476111</td>\n",
       "      <td>9117</td>\n",
       "      <td>2505514</td>\n",
       "      <td>2019-08-01</td>\n",
       "    </tr>\n",
       "    <tr>\n",
       "      <th>hanryang1125</th>\n",
       "      <td>0.0</td>\n",
       "      <td>1.0</td>\n",
       "      <td>0.0</td>\n",
       "      <td>0.0</td>\n",
       "      <td>0.0</td>\n",
       "      <td>1.0</td>\n",
       "      <td>0.0</td>\n",
       "      <td>157870935</td>\n",
       "      <td>14955</td>\n",
       "      <td>20651</td>\n",
       "      <td>10555</td>\n",
       "      <td>476111</td>\n",
       "      <td>8961</td>\n",
       "      <td>2621446</td>\n",
       "      <td>2019-05-01</td>\n",
       "    </tr>\n",
       "    <tr>\n",
       "      <th>hanryang1125</th>\n",
       "      <td>0.0</td>\n",
       "      <td>1.0</td>\n",
       "      <td>0.0</td>\n",
       "      <td>0.0</td>\n",
       "      <td>0.0</td>\n",
       "      <td>1.0</td>\n",
       "      <td>0.0</td>\n",
       "      <td>154179660</td>\n",
       "      <td>12675</td>\n",
       "      <td>22027</td>\n",
       "      <td>12163</td>\n",
       "      <td>476111</td>\n",
       "      <td>7939</td>\n",
       "      <td>2468536</td>\n",
       "      <td>2019-04-01</td>\n",
       "    </tr>\n",
       "    <tr>\n",
       "      <th>hanryang1125</th>\n",
       "      <td>0.0</td>\n",
       "      <td>1.0</td>\n",
       "      <td>0.0</td>\n",
       "      <td>0.0</td>\n",
       "      <td>0.0</td>\n",
       "      <td>1.0</td>\n",
       "      <td>0.0</td>\n",
       "      <td>152302995</td>\n",
       "      <td>15150</td>\n",
       "      <td>18857</td>\n",
       "      <td>10052</td>\n",
       "      <td>476111</td>\n",
       "      <td>6044</td>\n",
       "      <td>2723455</td>\n",
       "      <td>2019-07-01</td>\n",
       "    </tr>\n",
       "  </tbody>\n",
       "</table>\n",
       "<p>380 rows × 15 columns</p>\n",
       "</div>"
      ],
      "text/plain": [
       "               x0_False  x0_True  x1_English  x1_French  x1_German  x1_Korean  \\\n",
       "Channel                                                                         \n",
       "AdmiralBahroo       1.0      0.0         1.0        0.0        0.0        0.0   \n",
       "AdmiralBahroo       1.0      0.0         1.0        0.0        0.0        0.0   \n",
       "AdmiralBahroo       1.0      0.0         1.0        0.0        0.0        0.0   \n",
       "AdmiralBahroo       1.0      0.0         1.0        0.0        0.0        0.0   \n",
       "AdmiralBahroo       1.0      0.0         1.0        0.0        0.0        0.0   \n",
       "...                 ...      ...         ...        ...        ...        ...   \n",
       "hanryang1125        0.0      1.0         0.0        0.0        0.0        1.0   \n",
       "hanryang1125        0.0      1.0         0.0        0.0        0.0        1.0   \n",
       "hanryang1125        0.0      1.0         0.0        0.0        0.0        1.0   \n",
       "hanryang1125        0.0      1.0         0.0        0.0        0.0        1.0   \n",
       "hanryang1125        0.0      1.0         0.0        0.0        0.0        1.0   \n",
       "\n",
       "               x1_Portuguese  Watch time  Stream time  Peak viewers  \\\n",
       "Channel                                                               \n",
       "AdmiralBahroo            0.0   145006575        15510         16796   \n",
       "AdmiralBahroo            0.0   133999260        15810         18081   \n",
       "AdmiralBahroo            0.0   113289465        13935         12942   \n",
       "AdmiralBahroo            0.0   107821695        11385         21053   \n",
       "AdmiralBahroo            0.0    94542885        12195         14637   \n",
       "...                      ...         ...          ...           ...   \n",
       "hanryang1125             0.0   168360420        14985         23475   \n",
       "hanryang1125             0.0   167103915        15210         21727   \n",
       "hanryang1125             0.0   157870935        14955         20651   \n",
       "hanryang1125             0.0   154179660        12675         22027   \n",
       "hanryang1125             0.0   152302995        15150         18857   \n",
       "\n",
       "               Average viewers  Followers  Followers gained  Views gained  \\\n",
       "Channel                                                                     \n",
       "AdmiralBahroo             9348     767646              3567       1260698   \n",
       "AdmiralBahroo             8475     767646              8821       1401268   \n",
       "AdmiralBahroo             8129     767646              2100       1091917   \n",
       "AdmiralBahroo             9470     767646             24039       1664305   \n",
       "AdmiralBahroo             7752     767646              4226       1094156   \n",
       "...                        ...        ...               ...           ...   \n",
       "hanryang1125             11234     476111              6552       2398051   \n",
       "hanryang1125             10985     476111              9117       2505514   \n",
       "hanryang1125             10555     476111              8961       2621446   \n",
       "hanryang1125             12163     476111              7939       2468536   \n",
       "hanryang1125             10052     476111              6044       2723455   \n",
       "\n",
       "                    Month  \n",
       "Channel                    \n",
       "AdmiralBahroo  2020-03-01  \n",
       "AdmiralBahroo  2019-07-01  \n",
       "AdmiralBahroo  2020-04-01  \n",
       "AdmiralBahroo  2019-09-01  \n",
       "AdmiralBahroo  2020-01-01  \n",
       "...                   ...  \n",
       "hanryang1125   2020-01-01  \n",
       "hanryang1125   2019-08-01  \n",
       "hanryang1125   2019-05-01  \n",
       "hanryang1125   2019-04-01  \n",
       "hanryang1125   2019-07-01  \n",
       "\n",
       "[380 rows x 15 columns]"
      ]
     },
     "execution_count": 6,
     "metadata": {},
     "output_type": "execute_result"
    }
   ],
   "source": [
    "from sklearn.preprocessing import OneHotEncoder\n",
    "\n",
    "#one-hot encoding for \"Mature\" and \"Language\" Variables \n",
    "\n",
    "encode_features = features_original.iloc[:, 8:10] \n",
    "\n",
    "encoder = OneHotEncoder(sparse = False)\n",
    "encoded_df = encoder.fit_transform(encode_features)\n",
    "\n",
    "features_df = pd.DataFrame(encoded_df, columns = encoder.get_feature_names())\n",
    "\n",
    "#merging both features datasets together \n",
    "features = features_df.merge(features_original, left_index = True, right_index = True)\n",
    "features.drop([\"Mature\", \"Language\"], axis = 1, inplace=True)\n",
    "features.set_index(\"Channel\")"
   ]
  },
  {
   "cell_type": "code",
   "execution_count": 7,
   "metadata": {},
   "outputs": [
    {
     "data": {
      "text/plain": [
       "Channel\n",
       "AdmiralBahroo    51991.59\n",
       "AdmiralBahroo    65543.89\n",
       "AdmiralBahroo    53793.14\n",
       "AdmiralBahroo    79107.66\n",
       "AdmiralBahroo    47713.70\n",
       "Name: Total Income, dtype: float64"
      ]
     },
     "execution_count": 7,
     "metadata": {},
     "output_type": "execute_result"
    }
   ],
   "source": [
    "target.head()"
   ]
  },
  {
   "cell_type": "code",
   "execution_count": 9,
   "metadata": {},
   "outputs": [],
   "source": [
    "\n",
    "#* Use one feature selection technique to select a subset of your original features\n",
    "\n"
   ]
  },
  {
   "cell_type": "code",
   "execution_count": 10,
   "metadata": {},
   "outputs": [],
   "source": [
    "#Running Iterative Feature Selection to return a list of features in order of importance "
   ]
  },
  {
   "cell_type": "markdown",
   "metadata": {},
   "source": [
    "### 3.2. Data Exploration\n",
    "* Generate appropriate data visualizations for your key variables identified in the previous section\n",
    "* You should have at least three visualizations (and at least two different visualization types)\n",
    "* For each visualization provide an explanation regarding the variables involved and an interpretation of the graph.\n",
    "* If you are using Plotly, insert your visualizations as images as well (upload the graph images to an online source, e.g. github, and embed those into the cells in Jupyter Notebook)\n"
   ]
  },
  {
   "cell_type": "code",
   "execution_count": 30,
   "metadata": {},
   "outputs": [
    {
     "data": {
      "application/vnd.plotly.v1+json": {
       "config": {
        "plotlyServerURL": "https://plot.ly"
       },
       "data": [
        {
         "hovertemplate": "Followers=%{x}<br>Total Income=%{y}<extra></extra>",
         "legendgroup": "",
         "marker": {
          "color": "#636efa",
          "symbol": "circle"
         },
         "mode": "markers",
         "name": "",
         "orientation": "v",
         "showlegend": false,
         "type": "scatter",
         "x": [
          767646,
          767646,
          767646,
          767646,
          767646,
          767646,
          767646,
          767646,
          767646,
          767646,
          767646,
          767646,
          678078,
          678078,
          678078,
          678078,
          678078,
          678078,
          678078,
          678078,
          678078,
          678078,
          678078,
          678078,
          2355070,
          2355070,
          2355070,
          2355070,
          2355070,
          2355070,
          2355070,
          2355070,
          2355070,
          2355070,
          1241292,
          1241284,
          1241292,
          1241292,
          1241292,
          1241292,
          1241282,
          1241292,
          1241292,
          1241292,
          1241282,
          1241282,
          4377168,
          4377168,
          4377168,
          4377168,
          4377168,
          4377168,
          4377168,
          4377168,
          4377168,
          4377168,
          4377168,
          4377168,
          3987941,
          3987941,
          3987941,
          3988461,
          3988461,
          3987941,
          3987941,
          3987941,
          3988461,
          3987941,
          3987941,
          1176783,
          1176783,
          1176644,
          1176644,
          1176725,
          1176725,
          1176783,
          1176725,
          1176725,
          1176725,
          2316537,
          2316625,
          2316557,
          2316625,
          2316557,
          2316557,
          2316668,
          2316668,
          2316625,
          2316668,
          2316625,
          2617338,
          2617338,
          2617338,
          2617338,
          2617338,
          2617338,
          2617338,
          2617338,
          2617338,
          2617338,
          2617338,
          2617338,
          414914,
          414914,
          414904,
          414914,
          414951,
          414931,
          414931,
          414931,
          414951,
          414931,
          414951,
          414931,
          892743,
          892743,
          892743,
          892743,
          892743,
          892743,
          892743,
          892743,
          892743,
          892743,
          892743,
          892743,
          2631571,
          2631571,
          2631571,
          2631571,
          2631571,
          2631571,
          2631571,
          2631571,
          2631571,
          2631571,
          2631571,
          2631571,
          3578888,
          3578888,
          3578888,
          3578888,
          3578888,
          3578888,
          3578888,
          3578888,
          3578888,
          3578888,
          3578888,
          3578888,
          366923,
          366923,
          366923,
          366923,
          366923,
          366923,
          366923,
          366923,
          366923,
          366923,
          366923,
          366923,
          499436,
          499439,
          499436,
          499439,
          499435,
          961250,
          961250,
          961250,
          961250,
          961250,
          961250,
          961250,
          961250,
          961250,
          961250,
          961250,
          8361504,
          8362079,
          8361504,
          8361164,
          8362079,
          8362079,
          8361504,
          8362570,
          8362570,
          8362079,
          8362079,
          8362570,
          4877453,
          4877453,
          4877453,
          4877453,
          4877453,
          4877453,
          4877453,
          4877453,
          4877453,
          4877453,
          4877453,
          4877453,
          639975,
          639975,
          639975,
          639975,
          639975,
          639975,
          639975,
          639975,
          639975,
          639975,
          417819,
          417819,
          417819,
          417819,
          417819,
          417819,
          417819,
          417813,
          417813,
          417813,
          417819,
          1770882,
          1770882,
          1770882,
          1770882,
          1770882,
          1770882,
          1770882,
          1770882,
          1770882,
          1770882,
          1692192,
          1692105,
          1692491,
          1692491,
          1692491,
          1692334,
          1692192,
          1692334,
          1692334,
          1692334,
          2986143,
          2986143,
          2986143,
          2986143,
          2986143,
          2986143,
          2986143,
          2986143,
          2986143,
          2986143,
          2986143,
          4386970,
          4386970,
          4386970,
          4386970,
          4386970,
          4386970,
          4386970,
          4386970,
          4386970,
          4386970,
          284256,
          284261,
          284266,
          284272,
          284272,
          284266,
          284266,
          284272,
          284261,
          284261,
          1286027,
          1286027,
          1286027,
          1286027,
          1286027,
          1286027,
          1286027,
          1286027,
          1286027,
          1286027,
          1286027,
          1479593,
          1479638,
          1479741,
          1479698,
          1479698,
          1479741,
          1479741,
          1479698,
          871442,
          871442,
          871442,
          871442,
          871442,
          3239365,
          3239365,
          3239365,
          3239365,
          3239365,
          3239365,
          3239365,
          3239365,
          3239365,
          3239365,
          3239365,
          3239365,
          1372565,
          1372592,
          1372565,
          1372592,
          1372575,
          1372592,
          1372575,
          1372565,
          1372592,
          1372575,
          1372575,
          1372575,
          2724967,
          2724967,
          2724967,
          2724967,
          2724967,
          2724967,
          2724967,
          2724967,
          2724967,
          2724967,
          2724967,
          5343305,
          5343316,
          5343316,
          5343349,
          5343398,
          5343349,
          5343316,
          5343349,
          5343398,
          5343349,
          5343398,
          5343349,
          2995553,
          2995553,
          2995553,
          2995553,
          2995553,
          2995553,
          2995553,
          2995553,
          2995553,
          2995553,
          2995553,
          2995553,
          563673,
          563673,
          563673,
          563673,
          563673,
          563673,
          563673,
          563673,
          563673,
          563673,
          563673,
          476111,
          476111,
          476111,
          476111,
          476111,
          476111,
          476111,
          476111,
          476111,
          476111,
          476111,
          476111
         ],
         "xaxis": "x",
         "y": [
          51991.59,
          65543.89,
          53793.14,
          79107.66,
          47713.7,
          81827.18,
          50275.57,
          46421.85,
          81206.79,
          48352.42,
          43448.75,
          60639.55,
          21099.21,
          14073.08,
          12806.56,
          18805.73,
          13169.89,
          14902.13,
          10334.6,
          10818.66,
          12227.13,
          12445.88,
          12745.29,
          13283.58,
          52761.41,
          43299.83,
          38229.51,
          48630.41,
          68035.23,
          33010.29,
          45216.03,
          38908.94,
          24567.14,
          18823.33,
          47680.95,
          25777.12,
          68756.18,
          48723.91,
          46279.09,
          42711.26,
          42541.39,
          37945.06,
          41680.53,
          48584.7,
          47518.02,
          40930.85,
          77072.43,
          66488.28,
          62167.87,
          51403.55,
          76469.56,
          79189.4,
          55301.15,
          61763.41,
          54856.56,
          45052.09,
          47086.8,
          49938.42,
          74101.78,
          86355.57,
          55752.85,
          53616.78,
          56059.59,
          59009.63,
          64033.63,
          60860.12,
          47602.33,
          63480.55,
          56284.41,
          29546.97,
          23893.42,
          20355.13,
          17775.48,
          16637.53,
          24587.01,
          19711.44,
          15519.56,
          20130.81,
          20859.25,
          26657.39,
          23428.86,
          14147.04,
          20007.2,
          13798.2,
          15139.03,
          14679.95,
          15924.34,
          13880.83,
          14674.46,
          13533.51,
          25754.59,
          24941.46,
          26563.21,
          31608.58,
          26098.96,
          27581.2,
          41658.06,
          28773.97,
          24567.28,
          26882.64,
          24177.98,
          26377.94,
          27871.72,
          26971.39,
          43445.73,
          35281.12,
          35290.77,
          27780.84,
          31564.06,
          46267.56,
          31846.07,
          34469.8,
          34032.19,
          34400.57,
          59556.6,
          62522.37,
          63589.81,
          45207.07,
          53111.38,
          58132.98,
          52643.28,
          57477.67,
          52980.58,
          58817.86,
          51424.74,
          52881.75,
          57776.71,
          38868.71,
          35575,
          32741.56,
          26837.56,
          30630.17,
          24832.06,
          22481.13,
          25659.77,
          17381.65,
          17426.71,
          11313.33,
          149430.18,
          113652.56,
          92749.93,
          96595.63,
          100899.23,
          106524.05,
          65567.7,
          92850.01,
          82039.17,
          67315.29,
          54433.8,
          85671.89,
          23802.84,
          19335.71,
          16423.18,
          18950.28,
          17991.7,
          15715.78,
          19693.33,
          13449.2,
          17427.85,
          11766.99,
          13807.64,
          14054.99,
          6227.52,
          3967.05,
          3807.37,
          2729.53,
          3398.19,
          10369.24,
          6866.3,
          13728.11,
          1796.44,
          2310.75,
          7994.1,
          8962.34,
          2539.99,
          928.14,
          1612.03,
          1986.56,
          54636.18,
          41578.52,
          43445.18,
          45080.63,
          49568.11,
          51255.83,
          41688.53,
          32492.82,
          28939,
          25719.23,
          44249.84,
          34626.78,
          86756.49,
          50450.17,
          50087.86,
          46946.44,
          49680.55,
          52413.19,
          58881.02,
          39235.3,
          39514.7,
          38266.46,
          49161.85,
          32263.35,
          49806.61,
          42406.39,
          38354.28,
          42221.53,
          39317.81,
          61831.92,
          29471.94,
          26243.75,
          29232.54,
          31018.99,
          31467.63,
          53486.31,
          33205.63,
          47854.03,
          38751.11,
          25408.31,
          30783.95,
          29980.74,
          31048.76,
          22739.15,
          30258.34,
          19938.05,
          19298.09,
          14787.13,
          8734.16,
          9523.26,
          9358.57,
          12481.27,
          10859.92,
          11828.34,
          12486.52,
          1946.14,
          1751.54,
          1746.53,
          3952.1,
          2949.1,
          2814.37,
          2639.82,
          3388.23,
          1581.84,
          1117.77,
          6723.55,
          5465.35,
          5355.63,
          5839.82,
          8774.72,
          6839.72,
          6633.67,
          7098.16,
          6718.48,
          8170.49,
          4547.15,
          20800.85,
          20511.46,
          32926.16,
          33614.73,
          22731.24,
          24981.31,
          23659.17,
          19502.06,
          24732.27,
          23728.88,
          419.35,
          264.57,
          334.62,
          224.66,
          629.55,
          289.67,
          269.69,
          469.71,
          184.75,
          774.49,
          19167.94,
          22431.61,
          19716.74,
          18933.3,
          20600.37,
          19626.9,
          16583,
          18409.39,
          16523.23,
          21448.48,
          14861.29,
          64.9,
          109.84,
          89.85,
          109.83,
          74.87,
          94.85,
          79.87,
          74.88,
          29.95,
          59.9,
          34.94,
          79.86,
          59.9,
          20604.56,
          19102.62,
          12730.3,
          15055.73,
          9032.36,
          11053.5,
          11982.03,
          12296.1,
          13927.84,
          12221.01,
          12241.24,
          9596.31,
          2599.91,
          3523.18,
          3018.97,
          10491.02,
          2709.7,
          4795.54,
          3483.13,
          3563.05,
          2994.69,
          2969.26,
          3203.81,
          2739.54,
          27296.6,
          22590.34,
          14416.67,
          17415.62,
          25504.6,
          11477.24,
          23463.67,
          16562.57,
          20609.46,
          16696.89,
          11028.28,
          146092.02,
          54414.23,
          66392.13,
          52065.73,
          59391.01,
          42883.27,
          43255.15,
          39100.8,
          41336.59,
          35777.31,
          32039.37,
          43273.01,
          72896.86,
          59044.4,
          43041.44,
          50735.82,
          49837.64,
          53939.04,
          58559.49,
          47302.66,
          64702.74,
          53465.54,
          34518.74,
          31643.66,
          26110.83,
          22142.26,
          24221.38,
          10047.4,
          21296.75,
          25879.76,
          20269.91,
          21562.32,
          25263.69,
          19805.24,
          23127.09,
          6009.1,
          8660.23,
          10162.98,
          12959.26,
          13063.31,
          12109.88,
          7946.2,
          9314.22,
          7163.75,
          12975.57,
          12251.66,
          11781.88
         ],
         "yaxis": "y"
        }
       ],
       "layout": {
        "legend": {
         "tracegroupgap": 0
        },
        "margin": {
         "t": 60
        },
        "template": {
         "data": {
          "bar": [
           {
            "error_x": {
             "color": "#2a3f5f"
            },
            "error_y": {
             "color": "#2a3f5f"
            },
            "marker": {
             "line": {
              "color": "#E5ECF6",
              "width": 0.5
             }
            },
            "type": "bar"
           }
          ],
          "barpolar": [
           {
            "marker": {
             "line": {
              "color": "#E5ECF6",
              "width": 0.5
             }
            },
            "type": "barpolar"
           }
          ],
          "carpet": [
           {
            "aaxis": {
             "endlinecolor": "#2a3f5f",
             "gridcolor": "white",
             "linecolor": "white",
             "minorgridcolor": "white",
             "startlinecolor": "#2a3f5f"
            },
            "baxis": {
             "endlinecolor": "#2a3f5f",
             "gridcolor": "white",
             "linecolor": "white",
             "minorgridcolor": "white",
             "startlinecolor": "#2a3f5f"
            },
            "type": "carpet"
           }
          ],
          "choropleth": [
           {
            "colorbar": {
             "outlinewidth": 0,
             "ticks": ""
            },
            "type": "choropleth"
           }
          ],
          "contour": [
           {
            "colorbar": {
             "outlinewidth": 0,
             "ticks": ""
            },
            "colorscale": [
             [
              0,
              "#0d0887"
             ],
             [
              0.1111111111111111,
              "#46039f"
             ],
             [
              0.2222222222222222,
              "#7201a8"
             ],
             [
              0.3333333333333333,
              "#9c179e"
             ],
             [
              0.4444444444444444,
              "#bd3786"
             ],
             [
              0.5555555555555556,
              "#d8576b"
             ],
             [
              0.6666666666666666,
              "#ed7953"
             ],
             [
              0.7777777777777778,
              "#fb9f3a"
             ],
             [
              0.8888888888888888,
              "#fdca26"
             ],
             [
              1,
              "#f0f921"
             ]
            ],
            "type": "contour"
           }
          ],
          "contourcarpet": [
           {
            "colorbar": {
             "outlinewidth": 0,
             "ticks": ""
            },
            "type": "contourcarpet"
           }
          ],
          "heatmap": [
           {
            "colorbar": {
             "outlinewidth": 0,
             "ticks": ""
            },
            "colorscale": [
             [
              0,
              "#0d0887"
             ],
             [
              0.1111111111111111,
              "#46039f"
             ],
             [
              0.2222222222222222,
              "#7201a8"
             ],
             [
              0.3333333333333333,
              "#9c179e"
             ],
             [
              0.4444444444444444,
              "#bd3786"
             ],
             [
              0.5555555555555556,
              "#d8576b"
             ],
             [
              0.6666666666666666,
              "#ed7953"
             ],
             [
              0.7777777777777778,
              "#fb9f3a"
             ],
             [
              0.8888888888888888,
              "#fdca26"
             ],
             [
              1,
              "#f0f921"
             ]
            ],
            "type": "heatmap"
           }
          ],
          "heatmapgl": [
           {
            "colorbar": {
             "outlinewidth": 0,
             "ticks": ""
            },
            "colorscale": [
             [
              0,
              "#0d0887"
             ],
             [
              0.1111111111111111,
              "#46039f"
             ],
             [
              0.2222222222222222,
              "#7201a8"
             ],
             [
              0.3333333333333333,
              "#9c179e"
             ],
             [
              0.4444444444444444,
              "#bd3786"
             ],
             [
              0.5555555555555556,
              "#d8576b"
             ],
             [
              0.6666666666666666,
              "#ed7953"
             ],
             [
              0.7777777777777778,
              "#fb9f3a"
             ],
             [
              0.8888888888888888,
              "#fdca26"
             ],
             [
              1,
              "#f0f921"
             ]
            ],
            "type": "heatmapgl"
           }
          ],
          "histogram": [
           {
            "marker": {
             "colorbar": {
              "outlinewidth": 0,
              "ticks": ""
             }
            },
            "type": "histogram"
           }
          ],
          "histogram2d": [
           {
            "colorbar": {
             "outlinewidth": 0,
             "ticks": ""
            },
            "colorscale": [
             [
              0,
              "#0d0887"
             ],
             [
              0.1111111111111111,
              "#46039f"
             ],
             [
              0.2222222222222222,
              "#7201a8"
             ],
             [
              0.3333333333333333,
              "#9c179e"
             ],
             [
              0.4444444444444444,
              "#bd3786"
             ],
             [
              0.5555555555555556,
              "#d8576b"
             ],
             [
              0.6666666666666666,
              "#ed7953"
             ],
             [
              0.7777777777777778,
              "#fb9f3a"
             ],
             [
              0.8888888888888888,
              "#fdca26"
             ],
             [
              1,
              "#f0f921"
             ]
            ],
            "type": "histogram2d"
           }
          ],
          "histogram2dcontour": [
           {
            "colorbar": {
             "outlinewidth": 0,
             "ticks": ""
            },
            "colorscale": [
             [
              0,
              "#0d0887"
             ],
             [
              0.1111111111111111,
              "#46039f"
             ],
             [
              0.2222222222222222,
              "#7201a8"
             ],
             [
              0.3333333333333333,
              "#9c179e"
             ],
             [
              0.4444444444444444,
              "#bd3786"
             ],
             [
              0.5555555555555556,
              "#d8576b"
             ],
             [
              0.6666666666666666,
              "#ed7953"
             ],
             [
              0.7777777777777778,
              "#fb9f3a"
             ],
             [
              0.8888888888888888,
              "#fdca26"
             ],
             [
              1,
              "#f0f921"
             ]
            ],
            "type": "histogram2dcontour"
           }
          ],
          "mesh3d": [
           {
            "colorbar": {
             "outlinewidth": 0,
             "ticks": ""
            },
            "type": "mesh3d"
           }
          ],
          "parcoords": [
           {
            "line": {
             "colorbar": {
              "outlinewidth": 0,
              "ticks": ""
             }
            },
            "type": "parcoords"
           }
          ],
          "pie": [
           {
            "automargin": true,
            "type": "pie"
           }
          ],
          "scatter": [
           {
            "marker": {
             "colorbar": {
              "outlinewidth": 0,
              "ticks": ""
             }
            },
            "type": "scatter"
           }
          ],
          "scatter3d": [
           {
            "line": {
             "colorbar": {
              "outlinewidth": 0,
              "ticks": ""
             }
            },
            "marker": {
             "colorbar": {
              "outlinewidth": 0,
              "ticks": ""
             }
            },
            "type": "scatter3d"
           }
          ],
          "scattercarpet": [
           {
            "marker": {
             "colorbar": {
              "outlinewidth": 0,
              "ticks": ""
             }
            },
            "type": "scattercarpet"
           }
          ],
          "scattergeo": [
           {
            "marker": {
             "colorbar": {
              "outlinewidth": 0,
              "ticks": ""
             }
            },
            "type": "scattergeo"
           }
          ],
          "scattergl": [
           {
            "marker": {
             "colorbar": {
              "outlinewidth": 0,
              "ticks": ""
             }
            },
            "type": "scattergl"
           }
          ],
          "scattermapbox": [
           {
            "marker": {
             "colorbar": {
              "outlinewidth": 0,
              "ticks": ""
             }
            },
            "type": "scattermapbox"
           }
          ],
          "scatterpolar": [
           {
            "marker": {
             "colorbar": {
              "outlinewidth": 0,
              "ticks": ""
             }
            },
            "type": "scatterpolar"
           }
          ],
          "scatterpolargl": [
           {
            "marker": {
             "colorbar": {
              "outlinewidth": 0,
              "ticks": ""
             }
            },
            "type": "scatterpolargl"
           }
          ],
          "scatterternary": [
           {
            "marker": {
             "colorbar": {
              "outlinewidth": 0,
              "ticks": ""
             }
            },
            "type": "scatterternary"
           }
          ],
          "surface": [
           {
            "colorbar": {
             "outlinewidth": 0,
             "ticks": ""
            },
            "colorscale": [
             [
              0,
              "#0d0887"
             ],
             [
              0.1111111111111111,
              "#46039f"
             ],
             [
              0.2222222222222222,
              "#7201a8"
             ],
             [
              0.3333333333333333,
              "#9c179e"
             ],
             [
              0.4444444444444444,
              "#bd3786"
             ],
             [
              0.5555555555555556,
              "#d8576b"
             ],
             [
              0.6666666666666666,
              "#ed7953"
             ],
             [
              0.7777777777777778,
              "#fb9f3a"
             ],
             [
              0.8888888888888888,
              "#fdca26"
             ],
             [
              1,
              "#f0f921"
             ]
            ],
            "type": "surface"
           }
          ],
          "table": [
           {
            "cells": {
             "fill": {
              "color": "#EBF0F8"
             },
             "line": {
              "color": "white"
             }
            },
            "header": {
             "fill": {
              "color": "#C8D4E3"
             },
             "line": {
              "color": "white"
             }
            },
            "type": "table"
           }
          ]
         },
         "layout": {
          "annotationdefaults": {
           "arrowcolor": "#2a3f5f",
           "arrowhead": 0,
           "arrowwidth": 1
          },
          "coloraxis": {
           "colorbar": {
            "outlinewidth": 0,
            "ticks": ""
           }
          },
          "colorscale": {
           "diverging": [
            [
             0,
             "#8e0152"
            ],
            [
             0.1,
             "#c51b7d"
            ],
            [
             0.2,
             "#de77ae"
            ],
            [
             0.3,
             "#f1b6da"
            ],
            [
             0.4,
             "#fde0ef"
            ],
            [
             0.5,
             "#f7f7f7"
            ],
            [
             0.6,
             "#e6f5d0"
            ],
            [
             0.7,
             "#b8e186"
            ],
            [
             0.8,
             "#7fbc41"
            ],
            [
             0.9,
             "#4d9221"
            ],
            [
             1,
             "#276419"
            ]
           ],
           "sequential": [
            [
             0,
             "#0d0887"
            ],
            [
             0.1111111111111111,
             "#46039f"
            ],
            [
             0.2222222222222222,
             "#7201a8"
            ],
            [
             0.3333333333333333,
             "#9c179e"
            ],
            [
             0.4444444444444444,
             "#bd3786"
            ],
            [
             0.5555555555555556,
             "#d8576b"
            ],
            [
             0.6666666666666666,
             "#ed7953"
            ],
            [
             0.7777777777777778,
             "#fb9f3a"
            ],
            [
             0.8888888888888888,
             "#fdca26"
            ],
            [
             1,
             "#f0f921"
            ]
           ],
           "sequentialminus": [
            [
             0,
             "#0d0887"
            ],
            [
             0.1111111111111111,
             "#46039f"
            ],
            [
             0.2222222222222222,
             "#7201a8"
            ],
            [
             0.3333333333333333,
             "#9c179e"
            ],
            [
             0.4444444444444444,
             "#bd3786"
            ],
            [
             0.5555555555555556,
             "#d8576b"
            ],
            [
             0.6666666666666666,
             "#ed7953"
            ],
            [
             0.7777777777777778,
             "#fb9f3a"
            ],
            [
             0.8888888888888888,
             "#fdca26"
            ],
            [
             1,
             "#f0f921"
            ]
           ]
          },
          "colorway": [
           "#636efa",
           "#EF553B",
           "#00cc96",
           "#ab63fa",
           "#FFA15A",
           "#19d3f3",
           "#FF6692",
           "#B6E880",
           "#FF97FF",
           "#FECB52"
          ],
          "font": {
           "color": "#2a3f5f"
          },
          "geo": {
           "bgcolor": "white",
           "lakecolor": "white",
           "landcolor": "#E5ECF6",
           "showlakes": true,
           "showland": true,
           "subunitcolor": "white"
          },
          "hoverlabel": {
           "align": "left"
          },
          "hovermode": "closest",
          "mapbox": {
           "style": "light"
          },
          "paper_bgcolor": "white",
          "plot_bgcolor": "#E5ECF6",
          "polar": {
           "angularaxis": {
            "gridcolor": "white",
            "linecolor": "white",
            "ticks": ""
           },
           "bgcolor": "#E5ECF6",
           "radialaxis": {
            "gridcolor": "white",
            "linecolor": "white",
            "ticks": ""
           }
          },
          "scene": {
           "xaxis": {
            "backgroundcolor": "#E5ECF6",
            "gridcolor": "white",
            "gridwidth": 2,
            "linecolor": "white",
            "showbackground": true,
            "ticks": "",
            "zerolinecolor": "white"
           },
           "yaxis": {
            "backgroundcolor": "#E5ECF6",
            "gridcolor": "white",
            "gridwidth": 2,
            "linecolor": "white",
            "showbackground": true,
            "ticks": "",
            "zerolinecolor": "white"
           },
           "zaxis": {
            "backgroundcolor": "#E5ECF6",
            "gridcolor": "white",
            "gridwidth": 2,
            "linecolor": "white",
            "showbackground": true,
            "ticks": "",
            "zerolinecolor": "white"
           }
          },
          "shapedefaults": {
           "line": {
            "color": "#2a3f5f"
           }
          },
          "ternary": {
           "aaxis": {
            "gridcolor": "white",
            "linecolor": "white",
            "ticks": ""
           },
           "baxis": {
            "gridcolor": "white",
            "linecolor": "white",
            "ticks": ""
           },
           "bgcolor": "#E5ECF6",
           "caxis": {
            "gridcolor": "white",
            "linecolor": "white",
            "ticks": ""
           }
          },
          "title": {
           "x": 0.05
          },
          "xaxis": {
           "automargin": true,
           "gridcolor": "white",
           "linecolor": "white",
           "ticks": "",
           "title": {
            "standoff": 15
           },
           "zerolinecolor": "white",
           "zerolinewidth": 2
          },
          "yaxis": {
           "automargin": true,
           "gridcolor": "white",
           "linecolor": "white",
           "ticks": "",
           "title": {
            "standoff": 15
           },
           "zerolinecolor": "white",
           "zerolinewidth": 2
          }
         }
        },
        "xaxis": {
         "anchor": "y",
         "domain": [
          0,
          1
         ],
         "title": {
          "text": "Followers"
         }
        },
        "yaxis": {
         "anchor": "x",
         "domain": [
          0,
          1
         ],
         "title": {
          "text": "Total Income"
         }
        }
       }
      },
      "text/html": [
       "<div>\n",
       "        \n",
       "        \n",
       "            <div id=\"e23ef1cf-02d7-461e-b3c1-ec842bd80938\" class=\"plotly-graph-div\" style=\"height:525px; width:100%;\"></div>\n",
       "            <script type=\"text/javascript\">\n",
       "                require([\"plotly\"], function(Plotly) {\n",
       "                    window.PLOTLYENV=window.PLOTLYENV || {};\n",
       "                    \n",
       "                if (document.getElementById(\"e23ef1cf-02d7-461e-b3c1-ec842bd80938\")) {\n",
       "                    Plotly.newPlot(\n",
       "                        'e23ef1cf-02d7-461e-b3c1-ec842bd80938',\n",
       "                        [{\"hovertemplate\": \"Followers=%{x}<br>Total Income=%{y}<extra></extra>\", \"legendgroup\": \"\", \"marker\": {\"color\": \"#636efa\", \"symbol\": \"circle\"}, \"mode\": \"markers\", \"name\": \"\", \"orientation\": \"v\", \"showlegend\": false, \"type\": \"scatter\", \"x\": [767646, 767646, 767646, 767646, 767646, 767646, 767646, 767646, 767646, 767646, 767646, 767646, 678078, 678078, 678078, 678078, 678078, 678078, 678078, 678078, 678078, 678078, 678078, 678078, 2355070, 2355070, 2355070, 2355070, 2355070, 2355070, 2355070, 2355070, 2355070, 2355070, 1241292, 1241284, 1241292, 1241292, 1241292, 1241292, 1241282, 1241292, 1241292, 1241292, 1241282, 1241282, 4377168, 4377168, 4377168, 4377168, 4377168, 4377168, 4377168, 4377168, 4377168, 4377168, 4377168, 4377168, 3987941, 3987941, 3987941, 3988461, 3988461, 3987941, 3987941, 3987941, 3988461, 3987941, 3987941, 1176783, 1176783, 1176644, 1176644, 1176725, 1176725, 1176783, 1176725, 1176725, 1176725, 2316537, 2316625, 2316557, 2316625, 2316557, 2316557, 2316668, 2316668, 2316625, 2316668, 2316625, 2617338, 2617338, 2617338, 2617338, 2617338, 2617338, 2617338, 2617338, 2617338, 2617338, 2617338, 2617338, 414914, 414914, 414904, 414914, 414951, 414931, 414931, 414931, 414951, 414931, 414951, 414931, 892743, 892743, 892743, 892743, 892743, 892743, 892743, 892743, 892743, 892743, 892743, 892743, 2631571, 2631571, 2631571, 2631571, 2631571, 2631571, 2631571, 2631571, 2631571, 2631571, 2631571, 2631571, 3578888, 3578888, 3578888, 3578888, 3578888, 3578888, 3578888, 3578888, 3578888, 3578888, 3578888, 3578888, 366923, 366923, 366923, 366923, 366923, 366923, 366923, 366923, 366923, 366923, 366923, 366923, 499436, 499439, 499436, 499439, 499435, 961250, 961250, 961250, 961250, 961250, 961250, 961250, 961250, 961250, 961250, 961250, 8361504, 8362079, 8361504, 8361164, 8362079, 8362079, 8361504, 8362570, 8362570, 8362079, 8362079, 8362570, 4877453, 4877453, 4877453, 4877453, 4877453, 4877453, 4877453, 4877453, 4877453, 4877453, 4877453, 4877453, 639975, 639975, 639975, 639975, 639975, 639975, 639975, 639975, 639975, 639975, 417819, 417819, 417819, 417819, 417819, 417819, 417819, 417813, 417813, 417813, 417819, 1770882, 1770882, 1770882, 1770882, 1770882, 1770882, 1770882, 1770882, 1770882, 1770882, 1692192, 1692105, 1692491, 1692491, 1692491, 1692334, 1692192, 1692334, 1692334, 1692334, 2986143, 2986143, 2986143, 2986143, 2986143, 2986143, 2986143, 2986143, 2986143, 2986143, 2986143, 4386970, 4386970, 4386970, 4386970, 4386970, 4386970, 4386970, 4386970, 4386970, 4386970, 284256, 284261, 284266, 284272, 284272, 284266, 284266, 284272, 284261, 284261, 1286027, 1286027, 1286027, 1286027, 1286027, 1286027, 1286027, 1286027, 1286027, 1286027, 1286027, 1479593, 1479638, 1479741, 1479698, 1479698, 1479741, 1479741, 1479698, 871442, 871442, 871442, 871442, 871442, 3239365, 3239365, 3239365, 3239365, 3239365, 3239365, 3239365, 3239365, 3239365, 3239365, 3239365, 3239365, 1372565, 1372592, 1372565, 1372592, 1372575, 1372592, 1372575, 1372565, 1372592, 1372575, 1372575, 1372575, 2724967, 2724967, 2724967, 2724967, 2724967, 2724967, 2724967, 2724967, 2724967, 2724967, 2724967, 5343305, 5343316, 5343316, 5343349, 5343398, 5343349, 5343316, 5343349, 5343398, 5343349, 5343398, 5343349, 2995553, 2995553, 2995553, 2995553, 2995553, 2995553, 2995553, 2995553, 2995553, 2995553, 2995553, 2995553, 563673, 563673, 563673, 563673, 563673, 563673, 563673, 563673, 563673, 563673, 563673, 476111, 476111, 476111, 476111, 476111, 476111, 476111, 476111, 476111, 476111, 476111, 476111], \"xaxis\": \"x\", \"y\": [51991.59, 65543.89, 53793.14, 79107.66, 47713.7, 81827.18, 50275.57, 46421.85, 81206.79, 48352.42, 43448.75, 60639.55, 21099.21, 14073.08, 12806.56, 18805.73, 13169.89, 14902.13, 10334.6, 10818.66, 12227.13, 12445.88, 12745.29, 13283.58, 52761.41, 43299.83, 38229.51, 48630.41, 68035.23, 33010.29, 45216.03, 38908.94, 24567.14, 18823.33, 47680.95, 25777.12, 68756.18, 48723.91, 46279.09, 42711.26, 42541.39, 37945.06, 41680.53, 48584.7, 47518.02, 40930.85, 77072.43, 66488.28, 62167.87, 51403.55, 76469.56, 79189.4, 55301.15, 61763.41, 54856.56, 45052.09, 47086.8, 49938.42, 74101.78, 86355.57, 55752.85, 53616.78, 56059.59, 59009.63, 64033.63, 60860.12, 47602.33, 63480.55, 56284.41, 29546.97, 23893.42, 20355.13, 17775.48, 16637.53, 24587.01, 19711.44, 15519.56, 20130.81, 20859.25, 26657.39, 23428.86, 14147.04, 20007.2, 13798.2, 15139.03, 14679.95, 15924.34, 13880.83, 14674.46, 13533.51, 25754.59, 24941.46, 26563.21, 31608.58, 26098.96, 27581.2, 41658.06, 28773.97, 24567.28, 26882.64, 24177.98, 26377.94, 27871.72, 26971.39, 43445.73, 35281.12, 35290.77, 27780.84, 31564.06, 46267.56, 31846.07, 34469.8, 34032.19, 34400.57, 59556.6, 62522.37, 63589.81, 45207.07, 53111.38, 58132.98, 52643.28, 57477.67, 52980.58, 58817.86, 51424.74, 52881.75, 57776.71, 38868.71, 35575.0, 32741.56, 26837.56, 30630.17, 24832.06, 22481.13, 25659.77, 17381.65, 17426.71, 11313.33, 149430.18, 113652.56, 92749.93, 96595.63, 100899.23, 106524.05, 65567.7, 92850.01, 82039.17, 67315.29, 54433.8, 85671.89, 23802.84, 19335.71, 16423.18, 18950.28, 17991.7, 15715.78, 19693.33, 13449.2, 17427.85, 11766.99, 13807.64, 14054.99, 6227.52, 3967.05, 3807.37, 2729.53, 3398.19, 10369.24, 6866.3, 13728.11, 1796.44, 2310.75, 7994.1, 8962.34, 2539.99, 928.14, 1612.03, 1986.56, 54636.18, 41578.52, 43445.18, 45080.63, 49568.11, 51255.83, 41688.53, 32492.82, 28939.0, 25719.23, 44249.84, 34626.78, 86756.49, 50450.17, 50087.86, 46946.44, 49680.55, 52413.19, 58881.02, 39235.3, 39514.7, 38266.46, 49161.85, 32263.35, 49806.61, 42406.39, 38354.28, 42221.53, 39317.81, 61831.92, 29471.94, 26243.75, 29232.54, 31018.99, 31467.63, 53486.31, 33205.63, 47854.03, 38751.11, 25408.31, 30783.95, 29980.74, 31048.76, 22739.15, 30258.34, 19938.05, 19298.09, 14787.13, 8734.16, 9523.26, 9358.57, 12481.27, 10859.92, 11828.34, 12486.52, 1946.14, 1751.54, 1746.53, 3952.1, 2949.1, 2814.37, 2639.82, 3388.23, 1581.84, 1117.77, 6723.55, 5465.35, 5355.63, 5839.82, 8774.72, 6839.72, 6633.67, 7098.16, 6718.48, 8170.49, 4547.15, 20800.85, 20511.46, 32926.16, 33614.73, 22731.24, 24981.31, 23659.17, 19502.06, 24732.27, 23728.88, 419.35, 264.57, 334.62, 224.66, 629.55, 289.67, 269.69, 469.71, 184.75, 774.49, 19167.94, 22431.61, 19716.74, 18933.3, 20600.37, 19626.9, 16583.0, 18409.39, 16523.23, 21448.48, 14861.29, 64.9, 109.84, 89.85, 109.83, 74.87, 94.85, 79.87, 74.88, 29.95, 59.9, 34.94, 79.86, 59.9, 20604.56, 19102.62, 12730.3, 15055.73, 9032.36, 11053.5, 11982.03, 12296.1, 13927.84, 12221.01, 12241.24, 9596.31, 2599.91, 3523.18, 3018.97, 10491.02, 2709.7, 4795.54, 3483.13, 3563.05, 2994.69, 2969.26, 3203.81, 2739.54, 27296.6, 22590.34, 14416.67, 17415.62, 25504.6, 11477.24, 23463.67, 16562.57, 20609.46, 16696.89, 11028.28, 146092.02, 54414.23, 66392.13, 52065.73, 59391.01, 42883.27, 43255.15, 39100.8, 41336.59, 35777.31, 32039.37, 43273.01, 72896.86, 59044.4, 43041.44, 50735.82, 49837.64, 53939.04, 58559.49, 47302.66, 64702.74, 53465.54, 34518.74, 31643.66, 26110.83, 22142.26, 24221.38, 10047.4, 21296.75, 25879.76, 20269.91, 21562.32, 25263.69, 19805.24, 23127.09, 6009.1, 8660.23, 10162.98, 12959.26, 13063.31, 12109.88, 7946.2, 9314.22, 7163.75, 12975.57, 12251.66, 11781.88], \"yaxis\": \"y\"}],\n",
       "                        {\"legend\": {\"tracegroupgap\": 0}, \"margin\": {\"t\": 60}, \"template\": {\"data\": {\"bar\": [{\"error_x\": {\"color\": \"#2a3f5f\"}, \"error_y\": {\"color\": \"#2a3f5f\"}, \"marker\": {\"line\": {\"color\": \"#E5ECF6\", \"width\": 0.5}}, \"type\": \"bar\"}], \"barpolar\": [{\"marker\": {\"line\": {\"color\": \"#E5ECF6\", \"width\": 0.5}}, \"type\": \"barpolar\"}], \"carpet\": [{\"aaxis\": {\"endlinecolor\": \"#2a3f5f\", \"gridcolor\": \"white\", \"linecolor\": \"white\", \"minorgridcolor\": \"white\", \"startlinecolor\": \"#2a3f5f\"}, \"baxis\": {\"endlinecolor\": \"#2a3f5f\", \"gridcolor\": \"white\", \"linecolor\": \"white\", \"minorgridcolor\": \"white\", \"startlinecolor\": \"#2a3f5f\"}, \"type\": \"carpet\"}], \"choropleth\": [{\"colorbar\": {\"outlinewidth\": 0, \"ticks\": \"\"}, \"type\": \"choropleth\"}], \"contour\": [{\"colorbar\": {\"outlinewidth\": 0, \"ticks\": \"\"}, \"colorscale\": [[0.0, \"#0d0887\"], [0.1111111111111111, \"#46039f\"], [0.2222222222222222, \"#7201a8\"], [0.3333333333333333, \"#9c179e\"], [0.4444444444444444, \"#bd3786\"], [0.5555555555555556, \"#d8576b\"], [0.6666666666666666, \"#ed7953\"], [0.7777777777777778, \"#fb9f3a\"], [0.8888888888888888, \"#fdca26\"], [1.0, \"#f0f921\"]], \"type\": \"contour\"}], \"contourcarpet\": [{\"colorbar\": {\"outlinewidth\": 0, \"ticks\": \"\"}, \"type\": \"contourcarpet\"}], \"heatmap\": [{\"colorbar\": {\"outlinewidth\": 0, \"ticks\": \"\"}, \"colorscale\": [[0.0, \"#0d0887\"], [0.1111111111111111, \"#46039f\"], [0.2222222222222222, \"#7201a8\"], [0.3333333333333333, \"#9c179e\"], [0.4444444444444444, \"#bd3786\"], [0.5555555555555556, \"#d8576b\"], [0.6666666666666666, \"#ed7953\"], [0.7777777777777778, \"#fb9f3a\"], [0.8888888888888888, \"#fdca26\"], [1.0, \"#f0f921\"]], \"type\": \"heatmap\"}], \"heatmapgl\": [{\"colorbar\": {\"outlinewidth\": 0, \"ticks\": \"\"}, \"colorscale\": [[0.0, \"#0d0887\"], [0.1111111111111111, \"#46039f\"], [0.2222222222222222, \"#7201a8\"], [0.3333333333333333, \"#9c179e\"], [0.4444444444444444, \"#bd3786\"], [0.5555555555555556, \"#d8576b\"], [0.6666666666666666, \"#ed7953\"], [0.7777777777777778, \"#fb9f3a\"], [0.8888888888888888, \"#fdca26\"], [1.0, \"#f0f921\"]], \"type\": \"heatmapgl\"}], \"histogram\": [{\"marker\": {\"colorbar\": {\"outlinewidth\": 0, \"ticks\": \"\"}}, \"type\": \"histogram\"}], \"histogram2d\": [{\"colorbar\": {\"outlinewidth\": 0, \"ticks\": \"\"}, \"colorscale\": [[0.0, \"#0d0887\"], [0.1111111111111111, \"#46039f\"], [0.2222222222222222, \"#7201a8\"], [0.3333333333333333, \"#9c179e\"], [0.4444444444444444, \"#bd3786\"], [0.5555555555555556, \"#d8576b\"], [0.6666666666666666, \"#ed7953\"], [0.7777777777777778, \"#fb9f3a\"], [0.8888888888888888, \"#fdca26\"], [1.0, \"#f0f921\"]], \"type\": \"histogram2d\"}], \"histogram2dcontour\": [{\"colorbar\": {\"outlinewidth\": 0, \"ticks\": \"\"}, \"colorscale\": [[0.0, \"#0d0887\"], [0.1111111111111111, \"#46039f\"], [0.2222222222222222, \"#7201a8\"], [0.3333333333333333, \"#9c179e\"], [0.4444444444444444, \"#bd3786\"], [0.5555555555555556, \"#d8576b\"], [0.6666666666666666, \"#ed7953\"], [0.7777777777777778, \"#fb9f3a\"], [0.8888888888888888, \"#fdca26\"], [1.0, \"#f0f921\"]], \"type\": \"histogram2dcontour\"}], \"mesh3d\": [{\"colorbar\": {\"outlinewidth\": 0, \"ticks\": \"\"}, \"type\": \"mesh3d\"}], \"parcoords\": [{\"line\": {\"colorbar\": {\"outlinewidth\": 0, \"ticks\": \"\"}}, \"type\": \"parcoords\"}], \"pie\": [{\"automargin\": true, \"type\": \"pie\"}], \"scatter\": [{\"marker\": {\"colorbar\": {\"outlinewidth\": 0, \"ticks\": \"\"}}, \"type\": \"scatter\"}], \"scatter3d\": [{\"line\": {\"colorbar\": {\"outlinewidth\": 0, \"ticks\": \"\"}}, \"marker\": {\"colorbar\": {\"outlinewidth\": 0, \"ticks\": \"\"}}, \"type\": \"scatter3d\"}], \"scattercarpet\": [{\"marker\": {\"colorbar\": {\"outlinewidth\": 0, \"ticks\": \"\"}}, \"type\": \"scattercarpet\"}], \"scattergeo\": [{\"marker\": {\"colorbar\": {\"outlinewidth\": 0, \"ticks\": \"\"}}, \"type\": \"scattergeo\"}], \"scattergl\": [{\"marker\": {\"colorbar\": {\"outlinewidth\": 0, \"ticks\": \"\"}}, \"type\": \"scattergl\"}], \"scattermapbox\": [{\"marker\": {\"colorbar\": {\"outlinewidth\": 0, \"ticks\": \"\"}}, \"type\": \"scattermapbox\"}], \"scatterpolar\": [{\"marker\": {\"colorbar\": {\"outlinewidth\": 0, \"ticks\": \"\"}}, \"type\": \"scatterpolar\"}], \"scatterpolargl\": [{\"marker\": {\"colorbar\": {\"outlinewidth\": 0, \"ticks\": \"\"}}, \"type\": \"scatterpolargl\"}], \"scatterternary\": [{\"marker\": {\"colorbar\": {\"outlinewidth\": 0, \"ticks\": \"\"}}, \"type\": \"scatterternary\"}], \"surface\": [{\"colorbar\": {\"outlinewidth\": 0, \"ticks\": \"\"}, \"colorscale\": [[0.0, \"#0d0887\"], [0.1111111111111111, \"#46039f\"], [0.2222222222222222, \"#7201a8\"], [0.3333333333333333, \"#9c179e\"], [0.4444444444444444, \"#bd3786\"], [0.5555555555555556, \"#d8576b\"], [0.6666666666666666, \"#ed7953\"], [0.7777777777777778, \"#fb9f3a\"], [0.8888888888888888, \"#fdca26\"], [1.0, \"#f0f921\"]], \"type\": \"surface\"}], \"table\": [{\"cells\": {\"fill\": {\"color\": \"#EBF0F8\"}, \"line\": {\"color\": \"white\"}}, \"header\": {\"fill\": {\"color\": \"#C8D4E3\"}, \"line\": {\"color\": \"white\"}}, \"type\": \"table\"}]}, \"layout\": {\"annotationdefaults\": {\"arrowcolor\": \"#2a3f5f\", \"arrowhead\": 0, \"arrowwidth\": 1}, \"coloraxis\": {\"colorbar\": {\"outlinewidth\": 0, \"ticks\": \"\"}}, \"colorscale\": {\"diverging\": [[0, \"#8e0152\"], [0.1, \"#c51b7d\"], [0.2, \"#de77ae\"], [0.3, \"#f1b6da\"], [0.4, \"#fde0ef\"], [0.5, \"#f7f7f7\"], [0.6, \"#e6f5d0\"], [0.7, \"#b8e186\"], [0.8, \"#7fbc41\"], [0.9, \"#4d9221\"], [1, \"#276419\"]], \"sequential\": [[0.0, \"#0d0887\"], [0.1111111111111111, \"#46039f\"], [0.2222222222222222, \"#7201a8\"], [0.3333333333333333, \"#9c179e\"], [0.4444444444444444, \"#bd3786\"], [0.5555555555555556, \"#d8576b\"], [0.6666666666666666, \"#ed7953\"], [0.7777777777777778, \"#fb9f3a\"], [0.8888888888888888, \"#fdca26\"], [1.0, \"#f0f921\"]], \"sequentialminus\": [[0.0, \"#0d0887\"], [0.1111111111111111, \"#46039f\"], [0.2222222222222222, \"#7201a8\"], [0.3333333333333333, \"#9c179e\"], [0.4444444444444444, \"#bd3786\"], [0.5555555555555556, \"#d8576b\"], [0.6666666666666666, \"#ed7953\"], [0.7777777777777778, \"#fb9f3a\"], [0.8888888888888888, \"#fdca26\"], [1.0, \"#f0f921\"]]}, \"colorway\": [\"#636efa\", \"#EF553B\", \"#00cc96\", \"#ab63fa\", \"#FFA15A\", \"#19d3f3\", \"#FF6692\", \"#B6E880\", \"#FF97FF\", \"#FECB52\"], \"font\": {\"color\": \"#2a3f5f\"}, \"geo\": {\"bgcolor\": \"white\", \"lakecolor\": \"white\", \"landcolor\": \"#E5ECF6\", \"showlakes\": true, \"showland\": true, \"subunitcolor\": \"white\"}, \"hoverlabel\": {\"align\": \"left\"}, \"hovermode\": \"closest\", \"mapbox\": {\"style\": \"light\"}, \"paper_bgcolor\": \"white\", \"plot_bgcolor\": \"#E5ECF6\", \"polar\": {\"angularaxis\": {\"gridcolor\": \"white\", \"linecolor\": \"white\", \"ticks\": \"\"}, \"bgcolor\": \"#E5ECF6\", \"radialaxis\": {\"gridcolor\": \"white\", \"linecolor\": \"white\", \"ticks\": \"\"}}, \"scene\": {\"xaxis\": {\"backgroundcolor\": \"#E5ECF6\", \"gridcolor\": \"white\", \"gridwidth\": 2, \"linecolor\": \"white\", \"showbackground\": true, \"ticks\": \"\", \"zerolinecolor\": \"white\"}, \"yaxis\": {\"backgroundcolor\": \"#E5ECF6\", \"gridcolor\": \"white\", \"gridwidth\": 2, \"linecolor\": \"white\", \"showbackground\": true, \"ticks\": \"\", \"zerolinecolor\": \"white\"}, \"zaxis\": {\"backgroundcolor\": \"#E5ECF6\", \"gridcolor\": \"white\", \"gridwidth\": 2, \"linecolor\": \"white\", \"showbackground\": true, \"ticks\": \"\", \"zerolinecolor\": \"white\"}}, \"shapedefaults\": {\"line\": {\"color\": \"#2a3f5f\"}}, \"ternary\": {\"aaxis\": {\"gridcolor\": \"white\", \"linecolor\": \"white\", \"ticks\": \"\"}, \"baxis\": {\"gridcolor\": \"white\", \"linecolor\": \"white\", \"ticks\": \"\"}, \"bgcolor\": \"#E5ECF6\", \"caxis\": {\"gridcolor\": \"white\", \"linecolor\": \"white\", \"ticks\": \"\"}}, \"title\": {\"x\": 0.05}, \"xaxis\": {\"automargin\": true, \"gridcolor\": \"white\", \"linecolor\": \"white\", \"ticks\": \"\", \"title\": {\"standoff\": 15}, \"zerolinecolor\": \"white\", \"zerolinewidth\": 2}, \"yaxis\": {\"automargin\": true, \"gridcolor\": \"white\", \"linecolor\": \"white\", \"ticks\": \"\", \"title\": {\"standoff\": 15}, \"zerolinecolor\": \"white\", \"zerolinewidth\": 2}}}, \"xaxis\": {\"anchor\": \"y\", \"domain\": [0.0, 1.0], \"title\": {\"text\": \"Followers\"}}, \"yaxis\": {\"anchor\": \"x\", \"domain\": [0.0, 1.0], \"title\": {\"text\": \"Total Income\"}}},\n",
       "                        {\"responsive\": true}\n",
       "                    ).then(function(){\n",
       "                            \n",
       "var gd = document.getElementById('e23ef1cf-02d7-461e-b3c1-ec842bd80938');\n",
       "var x = new MutationObserver(function (mutations, observer) {{\n",
       "        var display = window.getComputedStyle(gd).display;\n",
       "        if (!display || display === 'none') {{\n",
       "            console.log([gd, 'removed!']);\n",
       "            Plotly.purge(gd);\n",
       "            observer.disconnect();\n",
       "        }}\n",
       "}});\n",
       "\n",
       "// Listen for the removal of the full notebook cells\n",
       "var notebookContainer = gd.closest('#notebook-container');\n",
       "if (notebookContainer) {{\n",
       "    x.observe(notebookContainer, {childList: true});\n",
       "}}\n",
       "\n",
       "// Listen for the clearing of the current output cell\n",
       "var outputEl = gd.closest('.output');\n",
       "if (outputEl) {{\n",
       "    x.observe(outputEl, {childList: true});\n",
       "}}\n",
       "\n",
       "                        })\n",
       "                };\n",
       "                });\n",
       "            </script>\n",
       "        </div>"
      ]
     },
     "metadata": {},
     "output_type": "display_data"
    }
   ],
   "source": [
    "import plotly.express as px\n",
    "import plotly.graph_objects as go\n",
    "\n",
    "#fig = px.scatter(finaldata, x=\"Watch time\", y=\"Total Income\", title=\"Watch Time vs Total Income\")\n",
    "#fig = px.scatter(finaldata, x=\"Stream time\", y=\"Total Income\", title=\"Stream Time vs Total Income\")\n",
    "\n",
    "#fig = px.histogram(finaldata, x=\"Total Income\", nbins=10)\n",
    "\n",
    "fig = px.scatter(finaldata, x=\"Followers\", y=\"Total Income\")\n",
    "\n",
    "#fig = px.violin(finaldata, y=\"Total Income\", x=\"Month\")\n",
    "fig.show()"
   ]
  },
  {
   "cell_type": "code",
   "execution_count": null,
   "metadata": {},
   "outputs": [],
   "source": []
  },
  {
   "cell_type": "markdown",
   "metadata": {},
   "source": [
    "### 3.3. Model Construction\n",
    "* Conduct your hypothesis test(s) here.\n",
    "* For your machine learning question(s), use the Training, Validation, and Testing approach through GridSearch\n",
    "* Apply machine learning algorithms (apply at least three different algorithms)\n",
    "* Train your algorithms"
   ]
  },
  {
   "cell_type": "markdown",
   "metadata": {},
   "source": [
    "### 3.4. Model Evaluation\n",
    "* Evaluate the performance of your algorithms on appropriate evaluation metrics, using your validation set\n",
    "    * Use at least two different metrics \n",
    "* Evaluate your results from multiple ML models and hypothesis tests\n",
    "    * What was the performance of each algorithm in plain English? Is there any indication of overfitting/underfitting?\n",
    "    * Was there a significant difference? Use the template from lecture slides when reporting the results of your hypothesis testing."
   ]
  },
  {
   "cell_type": "markdown",
   "metadata": {},
   "source": [
    "### 3.5. Model Optimization\n",
    "* Tune your models using appropriate hyperparameters\n",
    "* Explain why you are doing this (e.g., to avoid overfitting, etc.)"
   ]
  },
  {
   "cell_type": "markdown",
   "metadata": {},
   "source": [
    "### 3.6. Model Testing\n",
    "* Test your tuned algorithms using your testing set"
   ]
  },
  {
   "cell_type": "markdown",
   "metadata": {},
   "source": [
    "<a id=\"4\"></a>\n",
    "<hr style=\"height:2px; border:none; color:black; background-color:black;\">"
   ]
  },
  {
   "cell_type": "markdown",
   "metadata": {},
   "source": [
    "## 4. DISCUSSION\n",
    "* Provide a summary of the steps you took to analyze your data and test your predictive model\n",
    "* Interpret your findings from 3.4., 3.5, and 3.6\n",
    "    * Which algorithms did you compare?\n",
    "    * Which algorithm(s) revealed best performance?\n",
    "    * Which algorithm(s) should be used for your predictive model?\n",
    "    * Based on your findings, can we you the features in your dataset to predict the outcome variable you identified using the algorithms you've applied? (It is okay if the answer is no. We're interested in the process, not the performance of the model.)\n",
    "* For your hypotheses, interpret the results. What does it mean to have significant/non-significant differences with regards to your data?\n",
    "\n",
    "\n",
    "* End this section with a conclusion paragraph containing some pointers for future work\n",
    "    * (e.g., get more data/features, perform another analysis, etc.)"
   ]
  },
  {
   "cell_type": "markdown",
   "metadata": {},
   "source": [
    "<a id=\"5\"></a>\n",
    "<hr style=\"height:2px; border:none; color:black; background-color:black;\">"
   ]
  },
  {
   "cell_type": "markdown",
   "metadata": {},
   "source": [
    "### CONTRIBUTIONS\n",
    "* Describe each team member's contributions to the report (who did what in each section)\n",
    "* Remember this is a team effort!\n",
    "* Each member of your team will provide peer evaluation of other team members. Your final grade on the project will be based on those peer evaluations. An survey will be shared after the deadline for this deliverable."
   ]
  },
  {
   "cell_type": "code",
   "execution_count": null,
   "metadata": {},
   "outputs": [],
   "source": []
  }
 ],
 "metadata": {
  "kernelspec": {
   "display_name": "Python 3",
   "language": "python",
   "name": "python3"
  },
  "language_info": {
   "codemirror_mode": {
    "name": "ipython",
    "version": 3
   },
   "file_extension": ".py",
   "mimetype": "text/x-python",
   "name": "python",
   "nbconvert_exporter": "python",
   "pygments_lexer": "ipython3",
   "version": "3.7.6"
  }
 },
 "nbformat": 4,
 "nbformat_minor": 2
}
